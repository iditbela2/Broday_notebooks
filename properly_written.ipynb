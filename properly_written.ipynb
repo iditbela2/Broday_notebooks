{
 "cells": [
  {
   "cell_type": "code",
   "execution_count": 342,
   "metadata": {},
   "outputs": [],
   "source": [
    "from scipy.io import loadmat\n",
    "import numpy as np\n",
    "import pandas as pd\n",
    "import matplotlib.pyplot as plt\n",
    "import plotly as py\n",
    "import plotly.graph_objs as go\n",
    "import ipywidgets as widgets\n",
    "from tqdm.auto import tqdm \n",
    "\n",
    "import seaborn as sns\n",
    "\n",
    "from sklearn.experimental import enable_iterative_imputer\n",
    "from sklearn.impute import SimpleImputer\n",
    "from sklearn.impute import IterativeImputer\n",
    "from sklearn.ensemble import ExtraTreesRegressor\n",
    "from sklearn.impute import MissingIndicator\n",
    "from sklearn.preprocessing import PowerTransformer\n",
    "from sklearn.linear_model import BayesianRidge\n",
    "from sklearn.tree import DecisionTreeRegressor\n",
    "from sklearn.ensemble import ExtraTreesRegressor\n",
    "from sklearn.ensemble import RandomForestRegressor \n",
    "from sklearn.neighbors import KNeighborsRegressor\n",
    "from sklearn.model_selection import cross_val_score\n",
    "from sklearn.model_selection import KFold\n",
    "\n",
    "from sklearn.metrics import mean_squared_error\n",
    "from sklearn.metrics import median_absolute_error\n",
    "from sklearn.metrics import mean_absolute_error #=mean error (Simon 2012)\n",
    "from sklearn.metrics import r2_score\n",
    "\n",
    "from scipy.spatial import distance\n",
    "from sklearn.metrics.pairwise import nan_euclidean_distances\n",
    "\n",
    "from matplotlib.lines import Line2D\n",
    "from matplotlib import rcParams, cycler\n",
    "from sklearn.preprocessing import PowerTransformer\n",
    "\n",
    "from IPython.core.interactiveshell import InteractiveShell\n",
    "InteractiveShell.ast_node_interactivity = \"all\"\n",
    "%config InlineBackend.figure_format = 'retina'"
   ]
  },
  {
   "cell_type": "code",
   "execution_count": 343,
   "metadata": {},
   "outputs": [],
   "source": [
    "import warnings\n",
    "warnings.filterwarnings(\"ignore\")"
   ]
  },
  {
   "cell_type": "markdown",
   "metadata": {},
   "source": [
    "## Functions"
   ]
  },
  {
   "cell_type": "code",
   "execution_count": 344,
   "metadata": {},
   "outputs": [],
   "source": [
    "def initialize(threshold, start_time):\n",
    "#     PM25 = pd.read_pickle(\"/Users/iditbela/Documents/Broday/saved_data_from_notebooks/PM25\")\n",
    "    PM25 = pd.read_pickle(\"~/Documents/saved_data_from_notebooks/PM25\") #Lab's computer\n",
    "\n",
    "    times = pd.date_range(start=start_time, end='2018-12-31 23:00:00', freq='30Min') #one less because the last is always nan\n",
    "\n",
    "    start_idx = PM25.shape[0]-times.shape[0]\n",
    "\n",
    "    # remove the last index as it is always nan\n",
    "    PM25 = PM25[:-1]\n",
    "    times = times[:-1]\n",
    "\n",
    "    # reduced PM25 \n",
    "    r_PM25 = PM25[start_idx:] \n",
    "    idx = r_PM25.notnull().sum(axis = 0)/r_PM25.shape[0]>threshold\n",
    "    r_PM25 = r_PM25.loc[:, idx]\n",
    "\n",
    "    r_PM25.reset_index(inplace=True)\n",
    "    r_PM25.drop(labels = 'index',axis=1, inplace=True)\n",
    "    \n",
    "    return times, r_PM25"
   ]
  },
  {
   "cell_type": "code",
   "execution_count": 353,
   "metadata": {},
   "outputs": [
    {
     "data": {
      "text/plain": [
       "Int64Index([     0,      1,      2,      3,      4,      5,      6,      7,\n",
       "                 8,      9,\n",
       "            ...\n",
       "            101872, 101873, 101874, 101875, 101876, 101877, 101878, 101879,\n",
       "            101880, 101881],\n",
       "           dtype='int64', length=22092)"
      ]
     },
     "execution_count": 353,
     "metadata": {},
     "output_type": "execute_result"
    }
   ],
   "source": [
    "# in case I want to change my method to choosing in advance X chunks. I think it might\n",
    "# induce a bias and it is better to bootstrap. \n",
    "\n",
    "PM25 =  r_PM25.copy()\n",
    "interval_length = 1440\n",
    "s = 0\n",
    "exclude = [1]\n",
    "\n",
    "valid_locations = (PM25.iloc[:,s].isnull().rolling(interval_length,min_periods=0).sum()<(interval_length/100))\n",
    "PM25.index[valid_locations]\n",
    "# valid_locations.sum()"
   ]
  },
  {
   "cell_type": "code",
   "execution_count": 395,
   "metadata": {},
   "outputs": [],
   "source": [
    "ar = [1,2,3,4,5,np.nan,np.nan,np.nan,4,np.nan,np.nan,np.nan,np.nan,3,46,2,7,np.nan,3,5,np.nan,1,2,3,4,5,np.nan,np.nan,np.nan,4,np.nan,np.nan,np.nan,np.nan,3,46,2,7,np.nan,3,5,np.nan]\n",
    "df = pd.DataFrame(ar)"
   ]
  },
  {
   "cell_type": "code",
   "execution_count": 396,
   "metadata": {},
   "outputs": [
    {
     "data": {
      "text/html": [
       "<div>\n",
       "<style scoped>\n",
       "    .dataframe tbody tr th:only-of-type {\n",
       "        vertical-align: middle;\n",
       "    }\n",
       "\n",
       "    .dataframe tbody tr th {\n",
       "        vertical-align: top;\n",
       "    }\n",
       "\n",
       "    .dataframe thead th {\n",
       "        text-align: right;\n",
       "    }\n",
       "</style>\n",
       "<table border=\"1\" class=\"dataframe\">\n",
       "  <thead>\n",
       "    <tr style=\"text-align: right;\">\n",
       "      <th></th>\n",
       "      <th>0</th>\n",
       "    </tr>\n",
       "  </thead>\n",
       "  <tbody>\n",
       "    <tr>\n",
       "      <th>0</th>\n",
       "      <td>1.0</td>\n",
       "    </tr>\n",
       "    <tr>\n",
       "      <th>1</th>\n",
       "      <td>2.0</td>\n",
       "    </tr>\n",
       "    <tr>\n",
       "      <th>2</th>\n",
       "      <td>3.0</td>\n",
       "    </tr>\n",
       "    <tr>\n",
       "      <th>3</th>\n",
       "      <td>4.0</td>\n",
       "    </tr>\n",
       "    <tr>\n",
       "      <th>4</th>\n",
       "      <td>5.0</td>\n",
       "    </tr>\n",
       "    <tr>\n",
       "      <th>5</th>\n",
       "      <td>NaN</td>\n",
       "    </tr>\n",
       "    <tr>\n",
       "      <th>6</th>\n",
       "      <td>NaN</td>\n",
       "    </tr>\n",
       "    <tr>\n",
       "      <th>7</th>\n",
       "      <td>NaN</td>\n",
       "    </tr>\n",
       "    <tr>\n",
       "      <th>8</th>\n",
       "      <td>4.0</td>\n",
       "    </tr>\n",
       "    <tr>\n",
       "      <th>9</th>\n",
       "      <td>NaN</td>\n",
       "    </tr>\n",
       "    <tr>\n",
       "      <th>10</th>\n",
       "      <td>NaN</td>\n",
       "    </tr>\n",
       "    <tr>\n",
       "      <th>11</th>\n",
       "      <td>NaN</td>\n",
       "    </tr>\n",
       "    <tr>\n",
       "      <th>12</th>\n",
       "      <td>NaN</td>\n",
       "    </tr>\n",
       "    <tr>\n",
       "      <th>13</th>\n",
       "      <td>3.0</td>\n",
       "    </tr>\n",
       "    <tr>\n",
       "      <th>14</th>\n",
       "      <td>46.0</td>\n",
       "    </tr>\n",
       "    <tr>\n",
       "      <th>15</th>\n",
       "      <td>2.0</td>\n",
       "    </tr>\n",
       "    <tr>\n",
       "      <th>16</th>\n",
       "      <td>7.0</td>\n",
       "    </tr>\n",
       "    <tr>\n",
       "      <th>17</th>\n",
       "      <td>NaN</td>\n",
       "    </tr>\n",
       "    <tr>\n",
       "      <th>18</th>\n",
       "      <td>3.0</td>\n",
       "    </tr>\n",
       "    <tr>\n",
       "      <th>19</th>\n",
       "      <td>5.0</td>\n",
       "    </tr>\n",
       "    <tr>\n",
       "      <th>20</th>\n",
       "      <td>NaN</td>\n",
       "    </tr>\n",
       "    <tr>\n",
       "      <th>21</th>\n",
       "      <td>1.0</td>\n",
       "    </tr>\n",
       "    <tr>\n",
       "      <th>22</th>\n",
       "      <td>2.0</td>\n",
       "    </tr>\n",
       "    <tr>\n",
       "      <th>23</th>\n",
       "      <td>3.0</td>\n",
       "    </tr>\n",
       "    <tr>\n",
       "      <th>24</th>\n",
       "      <td>4.0</td>\n",
       "    </tr>\n",
       "    <tr>\n",
       "      <th>25</th>\n",
       "      <td>5.0</td>\n",
       "    </tr>\n",
       "    <tr>\n",
       "      <th>26</th>\n",
       "      <td>NaN</td>\n",
       "    </tr>\n",
       "    <tr>\n",
       "      <th>27</th>\n",
       "      <td>NaN</td>\n",
       "    </tr>\n",
       "    <tr>\n",
       "      <th>28</th>\n",
       "      <td>NaN</td>\n",
       "    </tr>\n",
       "    <tr>\n",
       "      <th>29</th>\n",
       "      <td>4.0</td>\n",
       "    </tr>\n",
       "    <tr>\n",
       "      <th>30</th>\n",
       "      <td>NaN</td>\n",
       "    </tr>\n",
       "    <tr>\n",
       "      <th>31</th>\n",
       "      <td>NaN</td>\n",
       "    </tr>\n",
       "    <tr>\n",
       "      <th>32</th>\n",
       "      <td>NaN</td>\n",
       "    </tr>\n",
       "    <tr>\n",
       "      <th>33</th>\n",
       "      <td>NaN</td>\n",
       "    </tr>\n",
       "    <tr>\n",
       "      <th>34</th>\n",
       "      <td>3.0</td>\n",
       "    </tr>\n",
       "    <tr>\n",
       "      <th>35</th>\n",
       "      <td>46.0</td>\n",
       "    </tr>\n",
       "    <tr>\n",
       "      <th>36</th>\n",
       "      <td>2.0</td>\n",
       "    </tr>\n",
       "    <tr>\n",
       "      <th>37</th>\n",
       "      <td>7.0</td>\n",
       "    </tr>\n",
       "    <tr>\n",
       "      <th>38</th>\n",
       "      <td>NaN</td>\n",
       "    </tr>\n",
       "    <tr>\n",
       "      <th>39</th>\n",
       "      <td>3.0</td>\n",
       "    </tr>\n",
       "    <tr>\n",
       "      <th>40</th>\n",
       "      <td>5.0</td>\n",
       "    </tr>\n",
       "    <tr>\n",
       "      <th>41</th>\n",
       "      <td>NaN</td>\n",
       "    </tr>\n",
       "  </tbody>\n",
       "</table>\n",
       "</div>"
      ],
      "text/plain": [
       "       0\n",
       "0    1.0\n",
       "1    2.0\n",
       "2    3.0\n",
       "3    4.0\n",
       "4    5.0\n",
       "5    NaN\n",
       "6    NaN\n",
       "7    NaN\n",
       "8    4.0\n",
       "9    NaN\n",
       "10   NaN\n",
       "11   NaN\n",
       "12   NaN\n",
       "13   3.0\n",
       "14  46.0\n",
       "15   2.0\n",
       "16   7.0\n",
       "17   NaN\n",
       "18   3.0\n",
       "19   5.0\n",
       "20   NaN\n",
       "21   1.0\n",
       "22   2.0\n",
       "23   3.0\n",
       "24   4.0\n",
       "25   5.0\n",
       "26   NaN\n",
       "27   NaN\n",
       "28   NaN\n",
       "29   4.0\n",
       "30   NaN\n",
       "31   NaN\n",
       "32   NaN\n",
       "33   NaN\n",
       "34   3.0\n",
       "35  46.0\n",
       "36   2.0\n",
       "37   7.0\n",
       "38   NaN\n",
       "39   3.0\n",
       "40   5.0\n",
       "41   NaN"
      ]
     },
     "execution_count": 396,
     "metadata": {},
     "output_type": "execute_result"
    }
   ],
   "source": [
    "df"
   ]
  },
  {
   "cell_type": "code",
   "execution_count": 510,
   "metadata": {},
   "outputs": [
    {
     "data": {
      "text/plain": [
       "array([ 1,  2,  3,  4, 14, 15, 16, 19, 22, 23, 24, 25, 35, 36, 37, 40])"
      ]
     },
     "execution_count": 510,
     "metadata": {},
     "output_type": "execute_result"
    },
    {
     "data": {
      "text/plain": [
       "array([ 2,  3, 15, 23, 24, 36])"
      ]
     },
     "execution_count": 510,
     "metadata": {},
     "output_type": "execute_result"
    },
    {
     "data": {
      "text/plain": [
       "([35, 1, 14], [37, 3, 16])"
      ]
     },
     "execution_count": 510,
     "metadata": {},
     "output_type": "execute_result"
    }
   ],
   "source": [
    "# total_excude = []\n",
    "int_l = 2\n",
    "how_many = 3\n",
    "pot_idx = np.argwhere((df.iloc[:,0].notnull().rolling(int_l,min_periods=0).sum()>(int_l-int_l/100)).values).ravel()\n",
    "# df.iloc[:,0].notnull().rolling(int_l,min_periods=0).sum()>(int_l-int_l/100)\n",
    "\n",
    "chosen_idx = pot_idx[(~np.isnan(df.iloc[pot_idx-int_l,0].values)) & (~np.isnan(df.iloc[pot_idx+1,0].values)) & (pot_idx>=int_l)]\n",
    "\n",
    "\n",
    "# np.random.choice([i for i in chosen_idx if i not in exclude])\n",
    "chosen = np.random.choice(chosen_idx,how_many,replace=False)+1\n",
    "\n",
    "pot_idx\n",
    "chosen_idx\n",
    "# total_excude = (list(chosen-int_l),list(chosen))\n",
    "# total_excude"
   ]
  },
  {
   "cell_type": "code",
   "execution_count": 534,
   "metadata": {},
   "outputs": [
    {
     "data": {
      "text/plain": [
       "([35, 1, 14], [37, 3, 16])"
      ]
     },
     "execution_count": 534,
     "metadata": {},
     "output_type": "execute_result"
    }
   ],
   "source": [
    "total_excude"
   ]
  },
  {
   "cell_type": "code",
   "execution_count": 516,
   "metadata": {},
   "outputs": [],
   "source": [
    "A,B = total_excude"
   ]
  },
  {
   "cell_type": "code",
   "execution_count": 517,
   "metadata": {},
   "outputs": [
    {
     "data": {
      "text/plain": [
       "[35, 1, 14]"
      ]
     },
     "execution_count": 517,
     "metadata": {},
     "output_type": "execute_result"
    },
    {
     "data": {
      "text/plain": [
       "[37, 3, 16]"
      ]
     },
     "execution_count": 517,
     "metadata": {},
     "output_type": "execute_result"
    }
   ],
   "source": [
    "A\n",
    "B"
   ]
  },
  {
   "cell_type": "code",
   "execution_count": 519,
   "metadata": {},
   "outputs": [
    {
     "data": {
      "text/plain": [
       "range(35, 37)"
      ]
     },
     "execution_count": 519,
     "metadata": {},
     "output_type": "execute_result"
    },
    {
     "data": {
      "text/plain": [
       "range(1, 3)"
      ]
     },
     "execution_count": 519,
     "metadata": {},
     "output_type": "execute_result"
    },
    {
     "data": {
      "text/plain": [
       "range(14, 16)"
      ]
     },
     "execution_count": 519,
     "metadata": {},
     "output_type": "execute_result"
    }
   ],
   "source": [
    "for a,b in zip(A,B):\n",
    "    range(a,b)   \n",
    "    chosen_idx=[x for x in chosen_idx if x not in range(a,b)]"
   ]
  },
  {
   "cell_type": "code",
   "execution_count": 520,
   "metadata": {
    "scrolled": true
   },
   "outputs": [
    {
     "data": {
      "text/plain": [
       "[3, 23, 24]"
      ]
     },
     "execution_count": 520,
     "metadata": {},
     "output_type": "execute_result"
    }
   ],
   "source": [
    "chosen_idx"
   ]
  },
  {
   "cell_type": "code",
   "execution_count": 521,
   "metadata": {},
   "outputs": [
    {
     "data": {
      "text/plain": [
       "[3, 23, 24]"
      ]
     },
     "execution_count": 521,
     "metadata": {},
     "output_type": "execute_result"
    }
   ],
   "source": [
    "[x for x in chosen_idx if all(x not in range(a,b) for a, b in zip(A, B))]"
   ]
  },
  {
   "cell_type": "code",
   "execution_count": null,
   "metadata": {},
   "outputs": [],
   "source": [
    "chosen_idx"
   ]
  },
  {
   "cell_type": "code",
   "execution_count": 4,
   "metadata": {},
   "outputs": [],
   "source": [
    "# # create a np_array np_y_missing, fill the np_y_missing with values where the validation\n",
    "# # indexes are chosen. \n",
    "\n",
    "# def get_validation_index(PM25, interval_length, s, exclude):    \n",
    "    \n",
    "#     idx_start = np.random.choice([i for i in range(0,len(PM25.iloc[:,s])) if i not in exclude])\n",
    "#     condition = PM25.iloc[idx_start:idx_start+interval_length,s].isnull().rolling(interval_length,min_periods=0).sum().max()\n",
    "    \n",
    "#     # I allow some nan values (1%) to be inside in validation interval. \n",
    "#     while ((condition>interval_length/100) or (np.isnan(PM25.iloc[idx_start-1,s])) or (np.isnan(PM25.iloc[idx_start+interval_length+1,s])) or ((idx_start+interval_length+1)>len(PM25.iloc[:,s]))):\n",
    "#         idx_start = np.random.choice([i for i in range(0,len(PM25.iloc[:,s])) if i not in exclude])\n",
    "#         condition = PM25.iloc[idx_start:idx_start+interval_length,s].isnull().rolling(interval_length,min_periods=0).sum().max()\n",
    "\n",
    "#     return (idx_start,idx_start + interval_length)"
   ]
  },
  {
   "cell_type": "code",
   "execution_count": 554,
   "metadata": {},
   "outputs": [],
   "source": [
    "# create a np_array np_y_missing, fill the np_y_missing with values where the validation\n",
    "# indexes are chosen. \n",
    "# randomly choose chunks of certain size\n",
    "def get_validation_index(PM25, interval_length, s, how_many, total_excude):    \n",
    "    \n",
    "    # find all valid indexes\n",
    "    pot_idx = np.argwhere((PM25.iloc[:,s].notnull().rolling(interval_length,min_periods=0).sum()>(interval_length-interval_length/100)).values).ravel()\n",
    "    # in case the last index is at the end\n",
    "    if (pot_idx[-1] == PM25.shape[0]-1):\n",
    "        pot_idx=pot_idx[:-1]\n",
    "        \n",
    "    print('a')\n",
    "    chosen_idx = pot_idx[(~np.isnan(PM25.iloc[pot_idx-interval_length,s].values)) & (~np.isnan(PM25.iloc[pot_idx+1,s].values)) & (pot_idx>=interval_length)]\n",
    "    print('b')\n",
    "    \n",
    "#     print(total_excude)\n",
    "    A,B = total_excude\n",
    "    for a,b in zip(A,B):\n",
    "        chosen_idx=[x for x in chosen_idx if x not in range(a,b)]\n",
    "    print('c')\n",
    "\n",
    "    # randomly choose it\n",
    "    chosen = np.random.choice(chosen_idx,how_many,replace=False)+1\n",
    "    print('d')\n",
    "\n",
    "    return (list(chosen-interval_length),list(chosen))"
   ]
  },
  {
   "cell_type": "code",
   "execution_count": 555,
   "metadata": {},
   "outputs": [],
   "source": [
    "# a function that returns X_missing, y_missing (splits the data according to Interval Length(IL))\n",
    "def return_X_y(PM25,IL):\n",
    " \n",
    "    X_missing = PM25.copy()\n",
    "    y_missing = PM25.copy() \n",
    "\n",
    "    np_r_PM25_y_mask = PM25.copy().values\n",
    "    np_r_PM25_y_mask[:] = 0\n",
    "    \n",
    "    for s in tqdm(range(np_r_PM25_y_mask.shape[1])):\n",
    "        \n",
    "        total_excude = ([],[])\n",
    "        for j in tqdm(range(len(IL)),leave = False):\n",
    "        \n",
    "            interval_length = int(IL[j]*2)\n",
    "            how_many = int(720/IL[j])\n",
    "            A,B = get_validation_index(PM25, interval_length, s, how_many, total_excude)\n",
    "            for a,b in zip(A,B):\n",
    "                total_excude[0].append(a)\n",
    "                total_excude[1].append(b)\n",
    "                np_r_PM25_y_mask[a:b,s] = -(j+1)  \n",
    "\n",
    "    # ITERATE HERE AGAIN FOR j TIMES, TO GET FOR EACH\n",
    "    # COLUMN j GROUPS OF DESIRED INTERVAL LENGTH FOR EVALUATION.\n",
    "    # (maybe -1 to -j...)        \n",
    "                      \n",
    "    # y_missing \n",
    "    y_missing.iloc[:] = np.nan\n",
    "    np_y_missing = y_missing.values\n",
    "    np_X_missing = X_missing.values\n",
    "\n",
    "    # put in np_y_missing \n",
    "    np_X_missing_copy = np_X_missing.copy()\n",
    "    \n",
    "    for j in range(len(IL)):\n",
    "        np_y_missing[np_r_PM25_y_mask==-(j+1)]=np_X_missing_copy[np_r_PM25_y_mask==-(j+1)]\n",
    "        # X_missing\n",
    "        np_X_missing[np_r_PM25_y_mask==-(j+1)]=np.nan\n",
    "    \n",
    "    return np_X_missing, np_y_missing"
   ]
  },
  {
   "cell_type": "code",
   "execution_count": 556,
   "metadata": {},
   "outputs": [
    {
     "data": {
      "text/plain": [
       "1.0"
      ]
     },
     "execution_count": 556,
     "metadata": {},
     "output_type": "execute_result"
    },
    {
     "data": {
      "text/plain": [
       "6.0"
      ]
     },
     "execution_count": 556,
     "metadata": {},
     "output_type": "execute_result"
    },
    {
     "data": {
      "text/plain": [
       "30.0"
      ]
     },
     "execution_count": 556,
     "metadata": {},
     "output_type": "execute_result"
    },
    {
     "data": {
      "text/plain": [
       "60.0"
      ]
     },
     "execution_count": 556,
     "metadata": {},
     "output_type": "execute_result"
    },
    {
     "data": {
      "text/plain": [
       "360.0"
      ]
     },
     "execution_count": 556,
     "metadata": {},
     "output_type": "execute_result"
    },
    {
     "data": {
      "text/plain": [
       "720.0"
      ]
     },
     "execution_count": 556,
     "metadata": {},
     "output_type": "execute_result"
    },
    {
     "data": {
      "text/plain": [
       "1440.0"
      ]
     },
     "execution_count": 556,
     "metadata": {},
     "output_type": "execute_result"
    }
   ],
   "source": [
    "for i in range(len(IL)):\n",
    "    720/IL[i]"
   ]
  },
  {
   "cell_type": "code",
   "execution_count": 558,
   "metadata": {},
   "outputs": [
    {
     "data": {
      "application/vnd.jupyter.widget-view+json": {
       "model_id": "6f43bd59f37943eebaf9fea8b7af5138",
       "version_major": 2,
       "version_minor": 0
      },
      "text/plain": [
       "HBox(children=(IntProgress(value=0, max=34), HTML(value='')))"
      ]
     },
     "metadata": {},
     "output_type": "display_data"
    },
    {
     "data": {
      "application/vnd.jupyter.widget-view+json": {
       "model_id": "3b45708187f942298bc8b4461666c34f",
       "version_major": 2,
       "version_minor": 0
      },
      "text/plain": [
       "HBox(children=(IntProgress(value=0, max=7), HTML(value='')))"
      ]
     },
     "metadata": {},
     "output_type": "display_data"
    },
    {
     "name": "stdout",
     "output_type": "stream",
     "text": [
      "a\n",
      "b\n",
      "c\n",
      "d\n",
      "a\n",
      "b\n",
      "c\n",
      "d\n",
      "a\n",
      "b\n"
     ]
    },
    {
     "ename": "KeyboardInterrupt",
     "evalue": "",
     "output_type": "error",
     "traceback": [
      "\u001b[0;31m---------------------------------------------------------------------------\u001b[0m",
      "\u001b[0;31mKeyboardInterrupt\u001b[0m                         Traceback (most recent call last)",
      "\u001b[0;32m<ipython-input-558-0928dfa5cf26>\u001b[0m in \u001b[0;36m<module>\u001b[0;34m\u001b[0m\n\u001b[0;32m----> 1\u001b[0;31m \u001b[0mnp_X_missing\u001b[0m\u001b[0;34m,\u001b[0m \u001b[0mnp_y_missing\u001b[0m \u001b[0;34m=\u001b[0m \u001b[0mreturn_X_y\u001b[0m\u001b[0;34m(\u001b[0m\u001b[0mr_PM25\u001b[0m\u001b[0;34m,\u001b[0m\u001b[0mIL\u001b[0m\u001b[0;34m)\u001b[0m\u001b[0;34m\u001b[0m\u001b[0m\n\u001b[0m",
      "\u001b[0;32m<ipython-input-555-3b5d34fb65ad>\u001b[0m in \u001b[0;36mreturn_X_y\u001b[0;34m(PM25, IL)\u001b[0m\n\u001b[1;32m     15\u001b[0m             \u001b[0minterval_length\u001b[0m \u001b[0;34m=\u001b[0m \u001b[0mint\u001b[0m\u001b[0;34m(\u001b[0m\u001b[0mIL\u001b[0m\u001b[0;34m[\u001b[0m\u001b[0mj\u001b[0m\u001b[0;34m]\u001b[0m\u001b[0;34m*\u001b[0m\u001b[0;36m2\u001b[0m\u001b[0;34m)\u001b[0m\u001b[0;34m\u001b[0m\u001b[0m\n\u001b[1;32m     16\u001b[0m             \u001b[0mhow_many\u001b[0m \u001b[0;34m=\u001b[0m \u001b[0mint\u001b[0m\u001b[0;34m(\u001b[0m\u001b[0;36m720\u001b[0m\u001b[0;34m/\u001b[0m\u001b[0mIL\u001b[0m\u001b[0;34m[\u001b[0m\u001b[0mj\u001b[0m\u001b[0;34m]\u001b[0m\u001b[0;34m)\u001b[0m\u001b[0;34m\u001b[0m\u001b[0m\n\u001b[0;32m---> 17\u001b[0;31m             \u001b[0mA\u001b[0m\u001b[0;34m,\u001b[0m\u001b[0mB\u001b[0m \u001b[0;34m=\u001b[0m \u001b[0mget_validation_index\u001b[0m\u001b[0;34m(\u001b[0m\u001b[0mPM25\u001b[0m\u001b[0;34m,\u001b[0m \u001b[0minterval_length\u001b[0m\u001b[0;34m,\u001b[0m \u001b[0ms\u001b[0m\u001b[0;34m,\u001b[0m \u001b[0mhow_many\u001b[0m\u001b[0;34m,\u001b[0m \u001b[0mtotal_excude\u001b[0m\u001b[0;34m)\u001b[0m\u001b[0;34m\u001b[0m\u001b[0m\n\u001b[0m\u001b[1;32m     18\u001b[0m             \u001b[0;32mfor\u001b[0m \u001b[0ma\u001b[0m\u001b[0;34m,\u001b[0m\u001b[0mb\u001b[0m \u001b[0;32min\u001b[0m \u001b[0mzip\u001b[0m\u001b[0;34m(\u001b[0m\u001b[0mA\u001b[0m\u001b[0;34m,\u001b[0m\u001b[0mB\u001b[0m\u001b[0;34m)\u001b[0m\u001b[0;34m:\u001b[0m\u001b[0;34m\u001b[0m\u001b[0m\n\u001b[1;32m     19\u001b[0m                 \u001b[0mtotal_excude\u001b[0m\u001b[0;34m[\u001b[0m\u001b[0;36m0\u001b[0m\u001b[0;34m]\u001b[0m\u001b[0;34m.\u001b[0m\u001b[0mappend\u001b[0m\u001b[0;34m(\u001b[0m\u001b[0ma\u001b[0m\u001b[0;34m)\u001b[0m\u001b[0;34m\u001b[0m\u001b[0m\n",
      "\u001b[0;32m<ipython-input-554-d03940499572>\u001b[0m in \u001b[0;36mget_validation_index\u001b[0;34m(PM25, interval_length, s, how_many, total_excude)\u001b[0m\n\u001b[1;32m     17\u001b[0m     \u001b[0mA\u001b[0m\u001b[0;34m,\u001b[0m\u001b[0mB\u001b[0m \u001b[0;34m=\u001b[0m \u001b[0mtotal_excude\u001b[0m\u001b[0;34m\u001b[0m\u001b[0m\n\u001b[1;32m     18\u001b[0m     \u001b[0;32mfor\u001b[0m \u001b[0ma\u001b[0m\u001b[0;34m,\u001b[0m\u001b[0mb\u001b[0m \u001b[0;32min\u001b[0m \u001b[0mzip\u001b[0m\u001b[0;34m(\u001b[0m\u001b[0mA\u001b[0m\u001b[0;34m,\u001b[0m\u001b[0mB\u001b[0m\u001b[0;34m)\u001b[0m\u001b[0;34m:\u001b[0m\u001b[0;34m\u001b[0m\u001b[0m\n\u001b[0;32m---> 19\u001b[0;31m         \u001b[0mchosen_idx\u001b[0m\u001b[0;34m=\u001b[0m\u001b[0;34m[\u001b[0m\u001b[0mx\u001b[0m \u001b[0;32mfor\u001b[0m \u001b[0mx\u001b[0m \u001b[0;32min\u001b[0m \u001b[0mchosen_idx\u001b[0m \u001b[0;32mif\u001b[0m \u001b[0mx\u001b[0m \u001b[0;32mnot\u001b[0m \u001b[0;32min\u001b[0m \u001b[0mrange\u001b[0m\u001b[0;34m(\u001b[0m\u001b[0ma\u001b[0m\u001b[0;34m,\u001b[0m\u001b[0mb\u001b[0m\u001b[0;34m)\u001b[0m\u001b[0;34m]\u001b[0m\u001b[0;34m\u001b[0m\u001b[0m\n\u001b[0m\u001b[1;32m     20\u001b[0m     \u001b[0mprint\u001b[0m\u001b[0;34m(\u001b[0m\u001b[0;34m'c'\u001b[0m\u001b[0;34m)\u001b[0m\u001b[0;34m\u001b[0m\u001b[0m\n\u001b[1;32m     21\u001b[0m \u001b[0;34m\u001b[0m\u001b[0m\n",
      "\u001b[0;32m<ipython-input-554-d03940499572>\u001b[0m in \u001b[0;36m<listcomp>\u001b[0;34m(.0)\u001b[0m\n\u001b[1;32m     17\u001b[0m     \u001b[0mA\u001b[0m\u001b[0;34m,\u001b[0m\u001b[0mB\u001b[0m \u001b[0;34m=\u001b[0m \u001b[0mtotal_excude\u001b[0m\u001b[0;34m\u001b[0m\u001b[0m\n\u001b[1;32m     18\u001b[0m     \u001b[0;32mfor\u001b[0m \u001b[0ma\u001b[0m\u001b[0;34m,\u001b[0m\u001b[0mb\u001b[0m \u001b[0;32min\u001b[0m \u001b[0mzip\u001b[0m\u001b[0;34m(\u001b[0m\u001b[0mA\u001b[0m\u001b[0;34m,\u001b[0m\u001b[0mB\u001b[0m\u001b[0;34m)\u001b[0m\u001b[0;34m:\u001b[0m\u001b[0;34m\u001b[0m\u001b[0m\n\u001b[0;32m---> 19\u001b[0;31m         \u001b[0mchosen_idx\u001b[0m\u001b[0;34m=\u001b[0m\u001b[0;34m[\u001b[0m\u001b[0mx\u001b[0m \u001b[0;32mfor\u001b[0m \u001b[0mx\u001b[0m \u001b[0;32min\u001b[0m \u001b[0mchosen_idx\u001b[0m \u001b[0;32mif\u001b[0m \u001b[0mx\u001b[0m \u001b[0;32mnot\u001b[0m \u001b[0;32min\u001b[0m \u001b[0mrange\u001b[0m\u001b[0;34m(\u001b[0m\u001b[0ma\u001b[0m\u001b[0;34m,\u001b[0m\u001b[0mb\u001b[0m\u001b[0;34m)\u001b[0m\u001b[0;34m]\u001b[0m\u001b[0;34m\u001b[0m\u001b[0m\n\u001b[0m\u001b[1;32m     20\u001b[0m     \u001b[0mprint\u001b[0m\u001b[0;34m(\u001b[0m\u001b[0;34m'c'\u001b[0m\u001b[0;34m)\u001b[0m\u001b[0;34m\u001b[0m\u001b[0m\n\u001b[1;32m     21\u001b[0m \u001b[0;34m\u001b[0m\u001b[0m\n",
      "\u001b[0;31mKeyboardInterrupt\u001b[0m: "
     ]
    }
   ],
   "source": [
    "np_X_missing, np_y_missing = return_X_y(r_PM25,IL)"
   ]
  },
  {
   "cell_type": "code",
   "execution_count": 6,
   "metadata": {},
   "outputs": [],
   "source": [
    "# # a CV function for first model selection \n",
    "\n",
    "# def return_X_y_for_CV(PM25,IL):\n",
    " \n",
    "#     X_missing = PM25.copy()\n",
    "#     y_missing = PM25.copy() \n",
    "\n",
    "#     np_r_PM25_y_mask = PM25.copy().values\n",
    "#     np_r_PM25_y_mask[:] = 0\n",
    "    \n",
    "#     for s in tqdm(range(np_r_PM25_y_mask.shape[1])):\n",
    "        \n",
    "#         total_exclude = [] # a list of excluded indexes (to not overlap the chunks. not \n",
    "#         # sure it is important if I evaluate seperately for each chunk size).\n",
    "\n",
    "#         interval_length = IL*2\n",
    "#         for i in range(int(720/IL)):\n",
    "#             (a,b) = get_validation_index(PM25, interval_length, s, total_exclude)\n",
    "#             total_exclude.append(range(a,b))\n",
    "#             np_r_PM25_y_mask[a:b,s] = -1            \n",
    "            \n",
    "#         # POSSIBLY ITERATE HERE AGAIN FOR 10 TIMES, TO GET FOR EACH\n",
    "#         # COLUMN 10 GROUPS OF DESIRED INTERVAL LENGTH FOR EVALUATION.\n",
    "#         # (maybe -1 to -10...)        \n",
    "                      \n",
    "#     # y_missing \n",
    "#     y_missing.iloc[:] = np.nan\n",
    "#     np_y_missing = y_missing.values\n",
    "#     np_X_missing = X_missing.values\n",
    "\n",
    "#     # put in np_y_missing \n",
    "#     np_X_missing_copy = np_X_missing.copy()\n",
    "#     np_y_missing[np_r_PM25_y_mask==-1]=np_X_missing_copy[np_r_PM25_y_mask==-1]\n",
    "#     # X_missing\n",
    "#     np_X_missing[np_r_PM25_y_mask==-1]=np.nan\n",
    "    \n",
    "#     return np_X_missing, np_y_missing"
   ]
  },
  {
   "cell_type": "code",
   "execution_count": 457,
   "metadata": {},
   "outputs": [],
   "source": [
    "# a function that returns X_missing, y_missing that are randomly spread\n",
    "# (instead of chunks. just for comparison)\n",
    "def return_randomly_spread_X_y(PM25,IL):\n",
    " \n",
    "    X_missing = PM25.copy()\n",
    "    y_missing = PM25.copy() \n",
    "    \n",
    "    np_PM25 = PM25.values\n",
    "    \n",
    "    not_nan_idx = np.argwhere(PM25.notnull().values)    \n",
    "    test_index = np.random.choice(not_nan_idx.shape[0],IL)\n",
    "        \n",
    "    # y_missing \n",
    "    y_missing.iloc[:] = np.nan\n",
    "    np_y_missing = y_missing.values\n",
    "\n",
    "    # asssign values according to test indexes\n",
    "    rows, cols = zip(*not_nan_idx[test_index])\n",
    "    vals = np_PM25[rows, cols]\n",
    "    np_y_missing[rows, cols] = vals\n",
    "\n",
    "    # X_missing\n",
    "    # assign nans according to test indexes\n",
    "    np_X_missing = X_missing.values\n",
    "    np_X_missing[rows, cols] = np.nan\n",
    "\n",
    "    return np_X_missing, np_y_missing"
   ]
  },
  {
   "cell_type": "code",
   "execution_count": 458,
   "metadata": {},
   "outputs": [],
   "source": [
    "# a function that imputes for each of the methods\n",
    "\n",
    "def impute_ii_BR(np_X_missing, num_iter):\n",
    "    imp = IterativeImputer(max_iter=num_iter,estimator=BayesianRidge(),verbose=True) \n",
    "    imp.fit(np_X_missing)\n",
    "    imputed = imp.transform(np_X_missing) \n",
    "    return imputed\n",
    "\n",
    "def impute_ii_RF(np_X_missing, num_iter, num_trees, rnd_state_forRF):\n",
    "#     n_jobs=-1 # add to ExtraTreesRegressor if I want all cores. \n",
    "    imp = IterativeImputer(max_iter=num_iter,estimator=ExtraTreesRegressor(n_estimators=num_trees,random_state=rnd_state_forRF),verbose=True) \n",
    "    imp.fit(np_X_missing)\n",
    "    imputed = imp.transform(np_X_missing)  \n",
    "    return imputed\n",
    "\n",
    "def impute_ii_KNN(np_X_missing, num_iter, num_neighbors, weight_type): #'uniform','distance'\n",
    "#     n_jobs=-1 # add to KNeighborsRegressor if I want all cores. \n",
    "    imp = IterativeImputer(max_iter=num_iter,estimator=KNeighborsRegressor(n_neighbors=num_neighbors,weights=weight_type),verbose=True) \n",
    "    imp.fit(np_X_missing)\n",
    "    imputed = imp.transform(np_X_missing)     \n",
    "    return imputed\n",
    "\n",
    "def impute_my_KNN(np_X_missing, k):\n",
    "\n",
    "    imputed = np_X_missing.copy() \n",
    "    all_data_mask_nans = imputed.copy()\n",
    "    mask_nans = np.isnan(imputed)\n",
    "    all_data_mask_nans[mask_nans]=0\n",
    "\n",
    "    batch_size = 300\n",
    "    not_nan_mask = 1-np.isnan(np_X_missing).astype(int)\n",
    "    # all_data_norm = all_data_mask_nans / np.linalg.norm(all_data_mask_nans,axis=1)[:,np.newaxis] # normalize BY norm\n",
    "    all_data_norm = np_X_missing / np.nanstd(np_X_missing, axis=0) # normalize BY norm \n",
    "\n",
    "\n",
    "    np_corrMatrix = pd.DataFrame(imputed).corr().values\n",
    "    \n",
    "    for cind in tqdm(range(np_X_missing.shape[1])): #tqdm(range(np_X_missing.shape[1]-33)) #range(34,int(np_X_missing.shape[1]/3)+1) #+1=AFULA, +34=all \n",
    "        nan_column_mask = np.isnan(np_X_missing[:,cind])\n",
    "        not_nan_column_mask = np.logical_not(nan_column_mask)\n",
    "\n",
    "        not_nan_in_colom_all_data_norm = all_data_norm[not_nan_column_mask, :]*np_corrMatrix[:,cind]\n",
    "\n",
    "        not_nan_not_nan_mask = not_nan_mask[not_nan_column_mask, :] #relevant rows for this column (not nan)\n",
    "\n",
    "        not_nan_column = np_X_missing[not_nan_column_mask,cind]    \n",
    "        nan_ind = np.argwhere(nan_column_mask)\n",
    "        \n",
    "        for i in tqdm(range(0, len(nan_ind), batch_size), leave=False):\n",
    "            rinds = np.ravel(nan_ind[i:i+batch_size])\n",
    "            batch = all_data_norm[rinds, :]*np_corrMatrix[:,cind]\n",
    "\n",
    "            batch_non_nan_mask = not_nan_mask[rinds, :]\n",
    "            counts = np.dot(not_nan_not_nan_mask, batch_non_nan_mask.T)\n",
    "\n",
    "            dists = nan_euclidean_distances(not_nan_in_colom_all_data_norm, batch)\n",
    "\n",
    "            weights = counts/dists\n",
    "            min_thr = np.partition(weights,-(k+1),axis=0)[-(k+1),:]\n",
    "            weights = weights-min_thr\n",
    "            # !If all the coordinates are missing or if there are no common present coordinates then NaN is returned in dists for that pair!\n",
    "            weights[(weights<0) | (np.isnan(weights))] = 0\n",
    "            weights = weights / weights.sum(axis=0)\n",
    "\n",
    "            values = np.dot(weights.T, not_nan_column)\n",
    "            imputed[rinds, cind] = values\n",
    "            \n",
    "    return imputed\n",
    "    "
   ]
  },
  {
   "cell_type": "code",
   "execution_count": 459,
   "metadata": {},
   "outputs": [],
   "source": [
    "# a function that cumputes validation results\n",
    "\n",
    "def validate(imputed, np_y_missing):\n",
    "    \n",
    "    y_train = np_y_missing[~np.isnan(np_y_missing)]\n",
    "    y_pred = imputed[~np.isnan(np_y_missing)]\n",
    "    \n",
    "    # assign results\n",
    "    RMSE = np.sqrt(mean_squared_error(y_train, y_pred))\n",
    "    MedianAE = median_absolute_error(y_train, y_pred)\n",
    "    MeanAE = mean_absolute_error(y_train,y_pred)\n",
    "    R2 = r2_score(y_train,y_pred)\n",
    "    \n",
    "    results = [RMSE,MedianAE,MeanAE,R2]\n",
    "    results = pd.DataFrame(np.array(results).reshape(-1,1).T, columns=['RMSE','MedianAE','MeanAE','R2'])\n",
    "    \n",
    "    return results"
   ]
  },
  {
   "cell_type": "code",
   "execution_count": 460,
   "metadata": {},
   "outputs": [],
   "source": [
    "# a function that displays the distribution of the imputed Vs. original data\n",
    "def plot_hist(PM25, imputed, np_X_missing):\n",
    "    plt.hist([PM25[~np.isnan(PM25)], imputed[~np.isnan(np_X_missing)], imputed[np.isnan(np_X_missing)]],bins=1000,label=['original PM25','original X','imputed'],density=True)\n",
    "    plt.xlim([-20,100])\n",
    "    plt.legend()\n",
    "    plt.show();"
   ]
  },
  {
   "cell_type": "code",
   "execution_count": 228,
   "metadata": {},
   "outputs": [],
   "source": [
    "# a function for box plots for results\n",
    "\n",
    "\n",
    "\n"
   ]
  },
  {
   "cell_type": "code",
   "execution_count": 461,
   "metadata": {},
   "outputs": [],
   "source": [
    "threshold = 0.6 # how much non-missing values are in the time-series in order to include the station?\n",
    "start_time = '2013-01-01 00:00:00'\n",
    "times, r_PM25 = initialize(threshold, start_time)"
   ]
  },
  {
   "cell_type": "code",
   "execution_count": 648,
   "metadata": {},
   "outputs": [],
   "source": [
    "# np.random.seed(3) # if want to reproduce. "
   ]
  },
  {
   "cell_type": "markdown",
   "metadata": {},
   "source": [
    "# STAGE-1 = model selection by CV"
   ]
  },
  {
   "cell_type": "code",
   "execution_count": null,
   "metadata": {},
   "outputs": [],
   "source": []
  },
  {
   "cell_type": "code",
   "execution_count": null,
   "metadata": {},
   "outputs": [],
   "source": []
  },
  {
   "cell_type": "code",
   "execution_count": null,
   "metadata": {},
   "outputs": [],
   "source": []
  },
  {
   "cell_type": "markdown",
   "metadata": {},
   "source": [
    "# STAGE-2 = model selection by repeated holdout"
   ]
  },
  {
   "cell_type": "code",
   "execution_count": 312,
   "metadata": {},
   "outputs": [
    {
     "data": {
      "image/png": "[encoded data removed]",
      "text/plain": [
       "<Figure size 432x288 with 1 Axes>"
      ]
     },
     "metadata": {
      "image/png": {
       "height": 267,
       "width": 416
      },
      "needs_background": "light"
     },
     "output_type": "display_data"
    }
   ],
   "source": [
    "# (1) see what is the distribution of missing interval lengths?\n",
    "\n",
    "missing_interval_lengths = get_nan_lengths(r_PM25.copy())\n",
    "# plot\n",
    "plot_nan_lengths_dist(missing_interval_lengths)\n",
    "\n",
    "# account for the time! if I have 1 missing interval of 2000, \n",
    "# it equals 2000 intervals of 1. \n",
    "\n",
    "\n",
    "# am I keeping this distribution after extracting for validation?\n"
   ]
  },
  {
   "cell_type": "code",
   "execution_count": 340,
   "metadata": {},
   "outputs": [
    {
     "data": {
      "text/plain": [
       "<matplotlib.axes._subplots.AxesSubplot at 0x7f2fb15b3ba8>"
      ]
     },
     "execution_count": 340,
     "metadata": {},
     "output_type": "execute_result"
    },
    {
     "data": {
      "image/png": "[encoded data removed]",
      "text/plain": [
       "<Figure size 432x288 with 1 Axes>"
      ]
     },
     "metadata": {
      "image/png": {
       "height": 252,
       "width": 409
      },
      "needs_background": "light"
     },
     "output_type": "display_data"
    }
   ],
   "source": [
    "pd.Series(missing_interval_lengths).hist(weights=missing_interval_lengths, bins=50, cumulative=True)\n",
    "\n",
    "# a,b = np.histogram(missing_interval_lengths,weights=missing_interval_lengths, bins=20)\n",
    "# plt.plot(a.cumsum())"
   ]
  },
  {
   "cell_type": "code",
   "execution_count": 304,
   "metadata": {},
   "outputs": [
    {
     "data": {
      "text/plain": [
       "[[1, 12308.0],\n",
       " [2, 7620.0],\n",
       " [3, 3691.5],\n",
       " [4, 2518.0],\n",
       " [5, 1640.0],\n",
       " [6, 1266.0],\n",
       " [7, 1001.0],\n",
       " [8, 860.0],\n",
       " [9, 819.0],\n",
       " [10, 615.0],\n",
       " [11, 649.0],\n",
       " [12, 624.0],\n",
       " [13, 481.0],\n",
       " [14, 525.0],\n",
       " [15, 510.0],\n",
       " [16, 600.0],\n",
       " [17, 442.0],\n",
       " [18, 450.0],\n",
       " [19, 380.0],\n",
       " [20, 400.0],\n",
       " [21, 262.5],\n",
       " [22, 286.0],\n",
       " [23, 310.5],\n",
       " [24, 372.0],\n",
       " [25, 262.5],\n",
       " [26, 273.0],\n",
       " [27, 337.5],\n",
       " [28, 308.0],\n",
       " [29, 246.5],\n",
       " [30, 345.0],\n",
       " [31, 232.5],\n",
       " [32, 240.0],\n",
       " [33, 132.0],\n",
       " [34, 204.0],\n",
       " [35, 262.5],\n",
       " [36, 180.0],\n",
       " [37, 185.0],\n",
       " [38, 342.0],\n",
       " [39, 292.5],\n",
       " [40, 320.0],\n",
       " [41, 205.0],\n",
       " [42, 441.0],\n",
       " [43, 301.0],\n",
       " [44, 418.0],\n",
       " [45, 270.0],\n",
       " [46, 161.0],\n",
       " [47, 141.0],\n",
       " [48, 696.0],\n",
       " [49, 588.0],\n",
       " [50, 350.0],\n",
       " [51, 229.5],\n",
       " [52, 260.0],\n",
       " [53, 318.0],\n",
       " [54, 324.0],\n",
       " [55, 220.0],\n",
       " [56, 224.0],\n",
       " [57, 114.0],\n",
       " [58, 87.0],\n",
       " [59, 265.5],\n",
       " [60, 210.0],\n",
       " [61, 213.5],\n",
       " [62, 248.0],\n",
       " [63, 157.5],\n",
       " [64, 160.0],\n",
       " [65, 130.0],\n",
       " [66, 297.0],\n",
       " [67, 134.0],\n",
       " [68, 102.0],\n",
       " [69, 172.5],\n",
       " [70, 175.0],\n",
       " [71, 106.5],\n",
       " [72, 108.0],\n",
       " [73, 182.5],\n",
       " [74, 111.0],\n",
       " [75, 225.0],\n",
       " [76, 114.0],\n",
       " [77, 38.5],\n",
       " [78, 234.0],\n",
       " [79, 237.0],\n",
       " [80, 320.0],\n",
       " [81, 162.0],\n",
       " [82, 369.0],\n",
       " [83, 207.5],\n",
       " [16465, 8232.5],\n",
       " [84, 168.0],\n",
       " [86, 86.0],\n",
       " [87, 217.5],\n",
       " [88, 176.0],\n",
       " [89, 222.5],\n",
       " [90, 90.0],\n",
       " [91, 318.5],\n",
       " [92, 92.0],\n",
       " [85, 42.5],\n",
       " [93, 46.5],\n",
       " [95, 285.0],\n",
       " [96, 336.0],\n",
       " [97, 291.0],\n",
       " [98, 245.0],\n",
       " [99, 297.0],\n",
       " [100, 450.0],\n",
       " [101, 252.5],\n",
       " [102, 102.0],\n",
       " [103, 103.0],\n",
       " [104, 104.0],\n",
       " [105, 105.0],\n",
       " [106, 424.0],\n",
       " [107, 53.5],\n",
       " [108, 162.0],\n",
       " [109, 109.0],\n",
       " [111, 55.5],\n",
       " [112, 280.0],\n",
       " [113, 113.0],\n",
       " [114, 114.0],\n",
       " [115, 115.0],\n",
       " [116, 174.0],\n",
       " [117, 175.5],\n",
       " [118, 59.0],\n",
       " [119, 119.0],\n",
       " [120, 120.0],\n",
       " [121, 181.5],\n",
       " [122, 366.0],\n",
       " [124, 124.0],\n",
       " [125, 250.0],\n",
       " [126, 189.0],\n",
       " [127, 190.5],\n",
       " [128, 128.0],\n",
       " [129, 193.5],\n",
       " [130, 130.0],\n",
       " [18561, 9280.5],\n",
       " [132, 66.0],\n",
       " [133, 66.5],\n",
       " [134, 335.0],\n",
       " [135, 67.5],\n",
       " [136, 204.0],\n",
       " [137, 137.0],\n",
       " [138, 276.0],\n",
       " [139, 139.0],\n",
       " [131, 65.5],\n",
       " [141, 70.5],\n",
       " [143, 71.5],\n",
       " [144, 72.0],\n",
       " [145, 72.5],\n",
       " [2194, 1097.0],\n",
       " [147, 73.5],\n",
       " [148, 222.0],\n",
       " [146, 73.0],\n",
       " [150, 75.0],\n",
       " [2196, 1098.0],\n",
       " [152, 228.0],\n",
       " [153, 76.5],\n",
       " [154, 154.0],\n",
       " [155, 155.0],\n",
       " [156, 156.0],\n",
       " [157, 157.0],\n",
       " [158, 79.0],\n",
       " [151, 75.5],\n",
       " [159, 79.5],\n",
       " [161, 241.5],\n",
       " [162, 162.0],\n",
       " [163, 81.5],\n",
       " [164, 164.0],\n",
       " [165, 165.0],\n",
       " [166, 83.0],\n",
       " [169, 84.5],\n",
       " [170, 85.0],\n",
       " [171, 256.5],\n",
       " [172, 86.0],\n",
       " [173, 86.5],\n",
       " [175, 87.5],\n",
       " [176, 440.0],\n",
       " [178, 89.0],\n",
       " [179, 89.5],\n",
       " [181, 90.5],\n",
       " [182, 182.0],\n",
       " [183, 91.5],\n",
       " [185, 92.5],\n",
       " [186, 93.0],\n",
       " [189, 283.5],\n",
       " [192, 384.0],\n",
       " [193, 482.5],\n",
       " [194, 97.0],\n",
       " [195, 195.0],\n",
       " [196, 392.0],\n",
       " [198, 99.0],\n",
       " [199, 99.5],\n",
       " [200, 100.0],\n",
       " [201, 402.0],\n",
       " [207, 103.5],\n",
       " [209, 104.5],\n",
       " [210, 105.0],\n",
       " [214, 214.0],\n",
       " [216, 108.0],\n",
       " [217, 108.5],\n",
       " [222, 222.0],\n",
       " [223, 223.0],\n",
       " [225, 337.5],\n",
       " [226, 113.0],\n",
       " [227, 113.5],\n",
       " [232, 116.0],\n",
       " [235, 235.0],\n",
       " [236, 118.0],\n",
       " [237, 118.5],\n",
       " [238, 357.0],\n",
       " [239, 119.5],\n",
       " [240, 360.0],\n",
       " [241, 120.5],\n",
       " [245, 122.5],\n",
       " [247, 123.5],\n",
       " [248, 124.0],\n",
       " [250, 125.0],\n",
       " [251, 125.5],\n",
       " [254, 127.0],\n",
       " [255, 127.5],\n",
       " [256, 128.0],\n",
       " [258, 129.0],\n",
       " [259, 129.5],\n",
       " [263, 263.0],\n",
       " [264, 264.0],\n",
       " [274, 274.0],\n",
       " [275, 275.0],\n",
       " [2327, 1163.5],\n",
       " [281, 140.5],\n",
       " [287, 574.0],\n",
       " [288, 144.0],\n",
       " [292, 292.0],\n",
       " [293, 146.5],\n",
       " [297, 148.5],\n",
       " [300, 300.0],\n",
       " [301, 150.5],\n",
       " [304, 304.0],\n",
       " [305, 152.5],\n",
       " [306, 306.0],\n",
       " [308, 154.0],\n",
       " [309, 154.5],\n",
       " [312, 156.0],\n",
       " [315, 157.5],\n",
       " [321, 160.5],\n",
       " [323, 161.5],\n",
       " [325, 162.5],\n",
       " [326, 163.0],\n",
       " [330, 165.0],\n",
       " [333, 166.5],\n",
       " [336, 168.0],\n",
       " [337, 168.5],\n",
       " [338, 338.0],\n",
       " [341, 170.5],\n",
       " [349, 174.5],\n",
       " [358, 537.0],\n",
       " [363, 181.5],\n",
       " [369, 184.5],\n",
       " [372, 186.0],\n",
       " [383, 191.5],\n",
       " [386, 193.0],\n",
       " [393, 196.5],\n",
       " [396, 198.0],\n",
       " [2445, 1222.5],\n",
       " [402, 201.0],\n",
       " [405, 202.5],\n",
       " [409, 409.0],\n",
       " [411, 205.5],\n",
       " [415, 207.5],\n",
       " [427, 213.5],\n",
       " [429, 214.5],\n",
       " [431, 215.5],\n",
       " [433, 216.5],\n",
       " [443, 221.5],\n",
       " [444, 222.0],\n",
       " [454, 227.0],\n",
       " [94, 47.0],\n",
       " [479, 239.5],\n",
       " [480, 240.0],\n",
       " [483, 241.5],\n",
       " [487, 243.5],\n",
       " [491, 245.5],\n",
       " [6664, 3332.0],\n",
       " [540, 270.0],\n",
       " [541, 270.5],\n",
       " [552, 276.0],\n",
       " [557, 278.5],\n",
       " [562, 281.0],\n",
       " [8761, 4380.5],\n",
       " [4676, 2338.0],\n",
       " [580, 290.0],\n",
       " [596, 298.0],\n",
       " [606, 303.0],\n",
       " [614, 307.0],\n",
       " [630, 315.0],\n",
       " [636, 318.0],\n",
       " [638, 319.0],\n",
       " [643, 321.5],\n",
       " [654, 327.0],\n",
       " [669, 334.5],\n",
       " [670, 335.0],\n",
       " [2719, 1359.5],\n",
       " [694, 347.0],\n",
       " [696, 348.0],\n",
       " [713, 356.5],\n",
       " [2767, 1383.5],\n",
       " [723, 361.5],\n",
       " [724, 362.0],\n",
       " [730, 365.0],\n",
       " [149, 74.5],\n",
       " [751, 375.5],\n",
       " [758, 379.0],\n",
       " [768, 384.0],\n",
       " [776, 388.0],\n",
       " [792, 396.0],\n",
       " [4898, 2449.0],\n",
       " [830, 415.0],\n",
       " [843, 421.5],\n",
       " [848, 424.0],\n",
       " [855, 427.5],\n",
       " [861, 430.5],\n",
       " [868, 434.0],\n",
       " [871, 435.5],\n",
       " [2958, 1479.0],\n",
       " [5017, 2508.5],\n",
       " [925, 462.5],\n",
       " [952, 476.0],\n",
       " [969, 484.5],\n",
       " [980, 490.0],\n",
       " [9186, 4593.0],\n",
       " [1009, 504.5],\n",
       " [1013, 506.5],\n",
       " [1056, 528.0],\n",
       " [1083, 541.5],\n",
       " [1111, 555.5],\n",
       " [1127, 563.5],\n",
       " [17519, 17519.0],\n",
       " [17521, 8760.5],\n",
       " [1148, 574.0],\n",
       " [27789, 13894.5],\n",
       " [17569, 8784.5],\n",
       " [1197, 598.5],\n",
       " [1203, 601.5],\n",
       " [1242, 621.0],\n",
       " [1246, 623.0],\n",
       " [1300, 650.0],\n",
       " [3386, 1693.0],\n",
       " [1342, 671.0],\n",
       " [1348, 674.0],\n",
       " [1357, 678.5],\n",
       " [1388, 694.0],\n",
       " [1455, 727.5],\n",
       " [7614, 3807.0],\n",
       " [1490, 745.0],\n",
       " [13796, 6898.0],\n",
       " [1536, 768.0],\n",
       " [17932, 8966.0],\n",
       " [13844, 6922.0],\n",
       " [1565, 782.5],\n",
       " [3687, 1843.5],\n",
       " [1700, 850.0],\n",
       " [9935, 4967.5],\n",
       " [1785, 892.5],\n",
       " [5936, 2968.0],\n",
       " [26422, 13211.0],\n",
       " [12104, 6052.0],\n",
       " [3937, 1968.5],\n",
       " [1902, 951.0],\n",
       " [3984, 1992.0],\n",
       " [1952, 976.0],\n",
       " [2001, 1000.5],\n",
       " [2007, 1003.5],\n",
       " [10224, 5112.0]]"
      ]
     },
     "execution_count": 304,
     "metadata": {},
     "output_type": "execute_result"
    }
   ],
   "source": [
    "# non_missing_interval_lengths\n",
    "[[x,x*missing_interval_lengths.count(x)*30/60] for x in set(missing_interval_lengths)]\n",
    "# [[x,non_missing_interval_lengths.count(x)] for x in set(non_missing_interval_lengths)]\n",
    "\n",
    "# distribution of hours missing from each interval type"
   ]
  },
  {
   "cell_type": "code",
   "execution_count": 314,
   "metadata": {},
   "outputs": [],
   "source": [
    "def get_nan_lengths(PM25):\n",
    "       \n",
    "    PM25[PM25.notnull()] = 1\n",
    "    PM25[PM25.isnull()] = 0\n",
    "    diffs = PM25.diff(axis = 0)\n",
    "\n",
    "    missing_interval_lengths = []\n",
    "\n",
    "    for monitor in range(PM25.shape[1]):\n",
    "\n",
    "        #begining\n",
    "        if PM25.iloc[0,monitor]==0:\n",
    "            diffs.iloc[0,monitor]=-1\n",
    "\n",
    "        #end\n",
    "        if PM25.iloc[-1,monitor]==0:\n",
    "            diffs.iloc[-1,monitor]=1\n",
    "\n",
    "        row_start = np.where(diffs.iloc[:,monitor] == -1)[0]\n",
    "        row_end = np.where(diffs.iloc[:,monitor] == 1)[0]\n",
    "\n",
    "        xranges = list(list(zip(row_start,row_end-row_start)))\n",
    "        missing_interval_lengths.extend(row_end-row_start)\n",
    "\n",
    "    return missing_interval_lengths\n",
    "\n",
    "\n",
    "def plot_nan_lengths_dist(missing_interval_lengths):\n",
    "     \n",
    "    data = [i*30/60 for i in missing_interval_lengths]#in hours\n",
    "    _, bins = np.histogram(np.log10(data), bins='auto')\n",
    "\n",
    "    # bins are unequal in width in a way that would make them look equal on a logarithmic scale.\n",
    "    # matplotlib histogram\n",
    "    plt.hist(data, color = 'blue',bins=10**bins)\n",
    "    plt.gca().set_xscale(\"log\")\n",
    "\n",
    "    plt.title('Length of missing data intervals')\n",
    "    plt.xlabel('Interval length [hours]')\n",
    "    plt.ylabel('Percentage [%]\\n')\n",
    "    plt.yticks(ticks=np.arange(0,27500,2500),labels=np.round(100*np.arange(0,27500,2500)/len(data),1))\n",
    "    \n",
    "    # plt.ylim(0,1000)\n",
    "    # plt.xlim(0,100)\n",
    "    plt.tight_layout()\n",
    "    plt.rcParams.update({'font.size': 14})\n",
    "\n",
    "    plt.show();"
   ]
  },
  {
   "cell_type": "code",
   "execution_count": 242,
   "metadata": {},
   "outputs": [
    {
     "data": {
      "image/png": "[encoded data removed]",
      "text/plain": [
       "<Figure size 432x288 with 1 Axes>"
      ]
     },
     "metadata": {
      "image/png": {
       "height": 248,
       "width": 362
      },
      "needs_background": "light"
     },
     "output_type": "display_data"
    }
   ],
   "source": [
    "# (2) what is the distribution of each row (timestep) average missing values (out of 34 statiobs)?\n",
    "# I cannot keep it of course... \n",
    "plt.hist([r_PM25.isnull().sum(axis = 1)/r_PM25.shape[1],np.isnan(np_X_missing).sum(axis = 1)/np_X_missing.shape[1]],bins=50,label=['original PM25','original X','imputed'],density=True);\n",
    "plt.legend();\n",
    "plt.show();"
   ]
  },
  {
   "cell_type": "code",
   "execution_count": 193,
   "metadata": {},
   "outputs": [],
   "source": [
    "# what chunk sizes?\n",
    "IL = [720,120,24,12,2,1,0.5]   \n",
    "# IL = [1200, 100, 50, 10, 5, 1, 0.5]"
   ]
  },
  {
   "cell_type": "code",
   "execution_count": 541,
   "metadata": {},
   "outputs": [
    {
     "data": {
      "application/vnd.jupyter.widget-view+json": {
       "model_id": "b171d90ff4dc4ba09b9ee5f57340cc87",
       "version_major": 2,
       "version_minor": 0
      },
      "text/plain": [
       "HBox(children=(IntProgress(value=0, max=34), HTML(value='')))"
      ]
     },
     "metadata": {},
     "output_type": "display_data"
    },
    {
     "name": "stdout",
     "output_type": "stream",
     "text": [
      "([], [])\n",
      "([[46707]], [[48147]])\n"
     ]
    },
    {
     "ename": "TypeError",
     "evalue": "'list' object cannot be interpreted as an integer",
     "output_type": "error",
     "traceback": [
      "\u001b[0;31m---------------------------------------------------------------------------\u001b[0m",
      "\u001b[0;31mTypeError\u001b[0m                                 Traceback (most recent call last)",
      "\u001b[0;32m<ipython-input-541-6038cf000e2d>\u001b[0m in \u001b[0;36m<module>\u001b[0;34m\u001b[0m\n\u001b[0;32m----> 1\u001b[0;31m \u001b[0mnp_X_missing\u001b[0m\u001b[0;34m,\u001b[0m \u001b[0mnp_y_missing\u001b[0m \u001b[0;34m=\u001b[0m \u001b[0mreturn_X_y\u001b[0m\u001b[0;34m(\u001b[0m\u001b[0mr_PM25\u001b[0m\u001b[0;34m,\u001b[0m\u001b[0mIL\u001b[0m\u001b[0;34m)\u001b[0m\u001b[0;34m\u001b[0m\u001b[0m\n\u001b[0m\u001b[1;32m      2\u001b[0m \u001b[0;34m\u001b[0m\u001b[0m\n\u001b[1;32m      3\u001b[0m \u001b[0;31m# # for comparison - small chunks randomly spread\u001b[0m\u001b[0;34m\u001b[0m\u001b[0;34m\u001b[0m\u001b[0m\n\u001b[1;32m      4\u001b[0m \u001b[0;31m# np_X_missing, np_y_missing = return_randomly_spread_X_y(r_PM25,1440*34)\u001b[0m\u001b[0;34m\u001b[0m\u001b[0;34m\u001b[0m\u001b[0m\n",
      "\u001b[0;32m<ipython-input-540-49027895598e>\u001b[0m in \u001b[0;36mreturn_X_y\u001b[0;34m(PM25, IL)\u001b[0m\n\u001b[1;32m     15\u001b[0m             \u001b[0minterval_length\u001b[0m \u001b[0;34m=\u001b[0m \u001b[0mint\u001b[0m\u001b[0;34m(\u001b[0m\u001b[0mIL\u001b[0m\u001b[0;34m[\u001b[0m\u001b[0mj\u001b[0m\u001b[0;34m]\u001b[0m\u001b[0;34m*\u001b[0m\u001b[0;36m2\u001b[0m\u001b[0;34m)\u001b[0m\u001b[0;34m\u001b[0m\u001b[0m\n\u001b[1;32m     16\u001b[0m             \u001b[0mhow_many\u001b[0m \u001b[0;34m=\u001b[0m \u001b[0mint\u001b[0m\u001b[0;34m(\u001b[0m\u001b[0;36m720\u001b[0m\u001b[0;34m/\u001b[0m\u001b[0mIL\u001b[0m\u001b[0;34m[\u001b[0m\u001b[0mj\u001b[0m\u001b[0;34m]\u001b[0m\u001b[0;34m)\u001b[0m\u001b[0;34m\u001b[0m\u001b[0m\n\u001b[0;32m---> 17\u001b[0;31m             \u001b[0mA\u001b[0m\u001b[0;34m,\u001b[0m\u001b[0mB\u001b[0m \u001b[0;34m=\u001b[0m \u001b[0mget_validation_index\u001b[0m\u001b[0;34m(\u001b[0m\u001b[0mPM25\u001b[0m\u001b[0;34m,\u001b[0m \u001b[0minterval_length\u001b[0m\u001b[0;34m,\u001b[0m \u001b[0ms\u001b[0m\u001b[0;34m,\u001b[0m \u001b[0mhow_many\u001b[0m\u001b[0;34m,\u001b[0m \u001b[0mtotal_excude\u001b[0m\u001b[0;34m)\u001b[0m\u001b[0;34m\u001b[0m\u001b[0m\n\u001b[0m\u001b[1;32m     18\u001b[0m             \u001b[0mtotal_excude\u001b[0m\u001b[0;34m[\u001b[0m\u001b[0;36m0\u001b[0m\u001b[0;34m]\u001b[0m\u001b[0;34m.\u001b[0m\u001b[0mappend\u001b[0m\u001b[0;34m(\u001b[0m\u001b[0mA\u001b[0m\u001b[0;34m)\u001b[0m\u001b[0;34m\u001b[0m\u001b[0m\n\u001b[1;32m     19\u001b[0m             \u001b[0mtotal_excude\u001b[0m\u001b[0;34m[\u001b[0m\u001b[0;36m1\u001b[0m\u001b[0;34m]\u001b[0m\u001b[0;34m.\u001b[0m\u001b[0mappend\u001b[0m\u001b[0;34m(\u001b[0m\u001b[0mB\u001b[0m\u001b[0;34m)\u001b[0m\u001b[0;34m\u001b[0m\u001b[0m\n",
      "\u001b[0;32m<ipython-input-535-4b357c3a733d>\u001b[0m in \u001b[0;36mget_validation_index\u001b[0;34m(PM25, interval_length, s, how_many, total_excude)\u001b[0m\n\u001b[1;32m     16\u001b[0m         \u001b[0mA\u001b[0m\u001b[0;34m,\u001b[0m\u001b[0mB\u001b[0m \u001b[0;34m=\u001b[0m \u001b[0mtotal_excude\u001b[0m\u001b[0;34m\u001b[0m\u001b[0m\n\u001b[1;32m     17\u001b[0m         \u001b[0;32mfor\u001b[0m \u001b[0ma\u001b[0m\u001b[0;34m,\u001b[0m\u001b[0mb\u001b[0m \u001b[0;32min\u001b[0m \u001b[0mzip\u001b[0m\u001b[0;34m(\u001b[0m\u001b[0mA\u001b[0m\u001b[0;34m,\u001b[0m\u001b[0mB\u001b[0m\u001b[0;34m)\u001b[0m\u001b[0;34m:\u001b[0m\u001b[0;34m\u001b[0m\u001b[0m\n\u001b[0;32m---> 18\u001b[0;31m             \u001b[0mchosen_idx\u001b[0m\u001b[0;34m=\u001b[0m\u001b[0;34m[\u001b[0m\u001b[0mx\u001b[0m \u001b[0;32mfor\u001b[0m \u001b[0mx\u001b[0m \u001b[0;32min\u001b[0m \u001b[0mchosen_idx\u001b[0m \u001b[0;32mif\u001b[0m \u001b[0mx\u001b[0m \u001b[0;32mnot\u001b[0m \u001b[0;32min\u001b[0m \u001b[0mrange\u001b[0m\u001b[0;34m(\u001b[0m\u001b[0ma\u001b[0m\u001b[0;34m,\u001b[0m\u001b[0mb\u001b[0m\u001b[0;34m)\u001b[0m\u001b[0;34m]\u001b[0m\u001b[0;34m\u001b[0m\u001b[0m\n\u001b[0m\u001b[1;32m     19\u001b[0m \u001b[0;34m\u001b[0m\u001b[0m\n\u001b[1;32m     20\u001b[0m     \u001b[0;31m# randomly choose it\u001b[0m\u001b[0;34m\u001b[0m\u001b[0;34m\u001b[0m\u001b[0m\n",
      "\u001b[0;32m<ipython-input-535-4b357c3a733d>\u001b[0m in \u001b[0;36m<listcomp>\u001b[0;34m(.0)\u001b[0m\n\u001b[1;32m     16\u001b[0m         \u001b[0mA\u001b[0m\u001b[0;34m,\u001b[0m\u001b[0mB\u001b[0m \u001b[0;34m=\u001b[0m \u001b[0mtotal_excude\u001b[0m\u001b[0;34m\u001b[0m\u001b[0m\n\u001b[1;32m     17\u001b[0m         \u001b[0;32mfor\u001b[0m \u001b[0ma\u001b[0m\u001b[0;34m,\u001b[0m\u001b[0mb\u001b[0m \u001b[0;32min\u001b[0m \u001b[0mzip\u001b[0m\u001b[0;34m(\u001b[0m\u001b[0mA\u001b[0m\u001b[0;34m,\u001b[0m\u001b[0mB\u001b[0m\u001b[0;34m)\u001b[0m\u001b[0;34m:\u001b[0m\u001b[0;34m\u001b[0m\u001b[0m\n\u001b[0;32m---> 18\u001b[0;31m             \u001b[0mchosen_idx\u001b[0m\u001b[0;34m=\u001b[0m\u001b[0;34m[\u001b[0m\u001b[0mx\u001b[0m \u001b[0;32mfor\u001b[0m \u001b[0mx\u001b[0m \u001b[0;32min\u001b[0m \u001b[0mchosen_idx\u001b[0m \u001b[0;32mif\u001b[0m \u001b[0mx\u001b[0m \u001b[0;32mnot\u001b[0m \u001b[0;32min\u001b[0m \u001b[0mrange\u001b[0m\u001b[0;34m(\u001b[0m\u001b[0ma\u001b[0m\u001b[0;34m,\u001b[0m\u001b[0mb\u001b[0m\u001b[0;34m)\u001b[0m\u001b[0;34m]\u001b[0m\u001b[0;34m\u001b[0m\u001b[0m\n\u001b[0m\u001b[1;32m     19\u001b[0m \u001b[0;34m\u001b[0m\u001b[0m\n\u001b[1;32m     20\u001b[0m     \u001b[0;31m# randomly choose it\u001b[0m\u001b[0;34m\u001b[0m\u001b[0;34m\u001b[0m\u001b[0m\n",
      "\u001b[0;31mTypeError\u001b[0m: 'list' object cannot be interpreted as an integer"
     ]
    }
   ],
   "source": [
    "np_X_missing, np_y_missing = return_X_y(r_PM25,IL)\n",
    "\n",
    "# # for comparison - small chunks randomly spread\n",
    "# np_X_missing, np_y_missing = return_randomly_spread_X_y(r_PM25,1440*34)"
   ]
  },
  {
   "cell_type": "code",
   "execution_count": 204,
   "metadata": {},
   "outputs": [
    {
     "data": {
      "image/png": "[encoded data removed]",
      "text/plain": [
       "<Figure size 432x288 with 1 Axes>"
      ]
     },
     "metadata": {
      "image/png": {
       "height": 337,
       "width": 394
      },
      "needs_background": "light"
     },
     "output_type": "display_data"
    }
   ],
   "source": [
    "# plot the missing value chunks! see it is well distributed\n",
    "y_missing = pd.DataFrame(np_y_missing,columns=r_PM25.columns)\n",
    "sns.heatmap(y_missing.iloc[:,:32].notnull(), cbar=False);"
   ]
  },
  {
   "cell_type": "code",
   "execution_count": 652,
   "metadata": {},
   "outputs": [],
   "source": [
    "# POSSIBLY - Remove rows where all is nan (5 like these)!!!"
   ]
  },
  {
   "cell_type": "markdown",
   "metadata": {},
   "source": [
    "#### IterativeImputer Baysian Ridge"
   ]
  },
  {
   "cell_type": "code",
   "execution_count": 205,
   "metadata": {
    "scrolled": true
   },
   "outputs": [
    {
     "name": "stdout",
     "output_type": "stream",
     "text": [
      "[IterativeImputer] Completing matrix with shape (105166, 34)\n",
      "[IterativeImputer] Change: 6545.31410152833, scaled tolerance: 1.6975 \n",
      "[IterativeImputer] Change: 830.801381839434, scaled tolerance: 1.6975 \n",
      "[IterativeImputer] Change: 529.3613390270976, scaled tolerance: 1.6975 \n",
      "[IterativeImputer] Change: 406.6275272475209, scaled tolerance: 1.6975 \n",
      "[IterativeImputer] Change: 311.62118821853085, scaled tolerance: 1.6975 \n",
      "[IterativeImputer] Change: 693.8534814712644, scaled tolerance: 1.6975 \n",
      "[IterativeImputer] Change: 323.3173002724012, scaled tolerance: 1.6975 \n",
      "[IterativeImputer] Change: 65.82711871794427, scaled tolerance: 1.6975 \n",
      "[IterativeImputer] Change: 37.576752926504355, scaled tolerance: 1.6975 \n",
      "[IterativeImputer] Change: 27.488189716912643, scaled tolerance: 1.6975 \n",
      "[IterativeImputer] Completing matrix with shape (105166, 34)\n"
     ]
    }
   ],
   "source": [
    "# PLEASE NORMALIZE BEFORE!\n",
    "\n",
    "# impute\n",
    "num_iter = 10\n",
    "imputed = impute_ii_BR(np_X_missing, num_iter)\n",
    "# validate\n",
    "results = validate(imputed, np_y_missing)\n",
    "\n",
    "# # save \n",
    "# imputed_df = pd.DataFrame(imputed, columns=r_PM25.columns) #turn it from IterativeImputer object to a dataframe\n",
    "# imputed_df.to_pickle(\"/Users/iditbela/Documents/Broday/saved_data_from_notebooks/imputed_ii_BR_\"+str(IL[0])+'_'+str(num_iter))\n",
    "# results.to_pickle(\"/Users/iditbela/Documents/Broday/saved_data_from_notebooks/results_ii_BR_\"+str(IL[0])+'_'+str(num_iter))"
   ]
  },
  {
   "cell_type": "code",
   "execution_count": 206,
   "metadata": {},
   "outputs": [
    {
     "data": {
      "text/html": [
       "<div>\n",
       "<style scoped>\n",
       "    .dataframe tbody tr th:only-of-type {\n",
       "        vertical-align: middle;\n",
       "    }\n",
       "\n",
       "    .dataframe tbody tr th {\n",
       "        vertical-align: top;\n",
       "    }\n",
       "\n",
       "    .dataframe thead th {\n",
       "        text-align: right;\n",
       "    }\n",
       "</style>\n",
       "<table border=\"1\" class=\"dataframe\">\n",
       "  <thead>\n",
       "    <tr style=\"text-align: right;\">\n",
       "      <th></th>\n",
       "      <th>RMSE</th>\n",
       "      <th>MedianAE</th>\n",
       "      <th>MeanAE</th>\n",
       "      <th>R2</th>\n",
       "    </tr>\n",
       "  </thead>\n",
       "  <tbody>\n",
       "    <tr>\n",
       "      <th>0</th>\n",
       "      <td>12.060933</td>\n",
       "      <td>4.721201</td>\n",
       "      <td>6.935338</td>\n",
       "      <td>0.735595</td>\n",
       "    </tr>\n",
       "  </tbody>\n",
       "</table>\n",
       "</div>"
      ],
      "text/plain": [
       "        RMSE  MedianAE    MeanAE        R2\n",
       "0  12.060933  4.721201  6.935338  0.735595"
      ]
     },
     "execution_count": 206,
     "metadata": {},
     "output_type": "execute_result"
    }
   ],
   "source": [
    "results"
   ]
  },
  {
   "cell_type": "code",
   "execution_count": null,
   "metadata": {},
   "outputs": [],
   "source": [
    "# look at the distribution of the imputed values vs."
   ]
  },
  {
   "cell_type": "code",
   "execution_count": null,
   "metadata": {},
   "outputs": [],
   "source": []
  },
  {
   "cell_type": "code",
   "execution_count": 227,
   "metadata": {},
   "outputs": [
    {
     "data": {
      "image/png": "[encoded data removed]",
      "text/plain": [
       "<Figure size 432x288 with 1 Axes>"
      ]
     },
     "metadata": {
      "image/png": {
       "height": 249,
       "width": 388
      },
      "needs_background": "light"
     },
     "output_type": "display_data"
    }
   ],
   "source": [
    "plot_hist(r_PM25.values, imputed,np_X_missing)"
   ]
  },
  {
   "cell_type": "code",
   "execution_count": null,
   "metadata": {},
   "outputs": [],
   "source": []
  },
  {
   "cell_type": "code",
   "execution_count": null,
   "metadata": {},
   "outputs": [],
   "source": [
    "# notes to myself\n",
    "\n",
    "# Go back one week ago...: \n",
    "# FIRST choose model parameters by CV:\n",
    "# try different k of KNN, different number of trees in a forest and boosting/no-boosting\n",
    "# or how deep is the forest. AND - number of iterations!!!\n",
    "\n",
    "\n",
    "# SECOND, evaluate the 4-5 best models (possibly add SVD):\n",
    "# (1) randomly choose for each station a group of X types of interval lengths\n",
    "# (those that together form like 95% of the data) - in total, let it be about 10% of\n",
    "# average number of non-nan indexes. \n",
    "# (2) make sure that the dist. of missing station data in all time-steps (i.e., rows)\n",
    "# is approximately saved (maybe a statistical test?)\n",
    "# (3) impute\n",
    "# (4) compare the imputed values with the not-imputed ones. Are they drawn from the same population (maybe a statisticel test?)\n",
    "# (5) repeat for 50-25 times (a repeated holdout method)\n",
    "# (6) Evaluate per interval length\n"
   ]
  },
  {
   "cell_type": "code",
   "execution_count": 671,
   "metadata": {},
   "outputs": [],
   "source": []
  },
  {
   "cell_type": "code",
   "execution_count": 673,
   "metadata": {},
   "outputs": [],
   "source": []
  },
  {
   "cell_type": "markdown",
   "metadata": {},
   "source": [
    "#### IterativeImputer Random Forest"
   ]
  },
  {
   "cell_type": "code",
   "execution_count": 666,
   "metadata": {},
   "outputs": [
    {
     "name": "stdout",
     "output_type": "stream",
     "text": [
      "[IterativeImputer] Completing matrix with shape (105166, 34)\n",
      "[IterativeImputer] Change: 3253.7229503349836, scaled tolerance: 1.6975 \n",
      "[IterativeImputer] Completing matrix with shape (105166, 34)\n"
     ]
    }
   ],
   "source": [
    "# impute\n",
    "num_iter = 1\n",
    "num_trees = 10\n",
    "rnd_state_forRF = 0\n",
    "\n",
    "imputed = impute_ii_RF(np_X_missing, num_iter, num_trees, rnd_state_forRF)\n",
    "    \n",
    "# validate\n",
    "results = validate(imputed, np_y_missing)\n",
    "\n",
    "# # save \n",
    "# imputed_df = pd.DataFrame(imputed, columns=r_PM25.columns) #turn it from IterativeImputer object to a dataframe\n",
    "# imputed_df.to_pickle(\"/Users/iditbela/Documents/Broday/saved_data_from_notebooks/imputed_ii_RF_\"+str(IL[0])+'_'+str(num_iter))\n",
    "# results.to_pickle(\"/Users/iditbela/Documents/Broday/saved_data_from_notebooks/results_ii_RF_\"+str(IL[0])+'_'+str(num_iter)+'_'+str(num_trees))"
   ]
  },
  {
   "cell_type": "code",
   "execution_count": 658,
   "metadata": {},
   "outputs": [
    {
     "data": {
      "text/html": [
       "<div>\n",
       "<style scoped>\n",
       "    .dataframe tbody tr th:only-of-type {\n",
       "        vertical-align: middle;\n",
       "    }\n",
       "\n",
       "    .dataframe tbody tr th {\n",
       "        vertical-align: top;\n",
       "    }\n",
       "\n",
       "    .dataframe thead th {\n",
       "        text-align: right;\n",
       "    }\n",
       "</style>\n",
       "<table border=\"1\" class=\"dataframe\">\n",
       "  <thead>\n",
       "    <tr style=\"text-align: right;\">\n",
       "      <th></th>\n",
       "      <th>RMSE</th>\n",
       "      <th>MedianAE</th>\n",
       "      <th>MeanAE</th>\n",
       "      <th>R2</th>\n",
       "    </tr>\n",
       "  </thead>\n",
       "  <tbody>\n",
       "    <tr>\n",
       "      <th>0</th>\n",
       "      <td>9.112519</td>\n",
       "      <td>3.99</td>\n",
       "      <td>5.658814</td>\n",
       "      <td>0.843627</td>\n",
       "    </tr>\n",
       "  </tbody>\n",
       "</table>\n",
       "</div>"
      ],
      "text/plain": [
       "       RMSE  MedianAE    MeanAE        R2\n",
       "0  9.112519      3.99  5.658814  0.843627"
      ]
     },
     "execution_count": 658,
     "metadata": {},
     "output_type": "execute_result"
    }
   ],
   "source": [
    "results #6440*34"
   ]
  },
  {
   "cell_type": "code",
   "execution_count": 663,
   "metadata": {},
   "outputs": [
    {
     "data": {
      "text/html": [
       "<div>\n",
       "<style scoped>\n",
       "    .dataframe tbody tr th:only-of-type {\n",
       "        vertical-align: middle;\n",
       "    }\n",
       "\n",
       "    .dataframe tbody tr th {\n",
       "        vertical-align: top;\n",
       "    }\n",
       "\n",
       "    .dataframe thead th {\n",
       "        text-align: right;\n",
       "    }\n",
       "</style>\n",
       "<table border=\"1\" class=\"dataframe\">\n",
       "  <thead>\n",
       "    <tr style=\"text-align: right;\">\n",
       "      <th></th>\n",
       "      <th>RMSE</th>\n",
       "      <th>MedianAE</th>\n",
       "      <th>MeanAE</th>\n",
       "      <th>R2</th>\n",
       "    </tr>\n",
       "  </thead>\n",
       "  <tbody>\n",
       "    <tr>\n",
       "      <th>0</th>\n",
       "      <td>8.906374</td>\n",
       "      <td>3.88</td>\n",
       "      <td>5.525293</td>\n",
       "      <td>0.84776</td>\n",
       "    </tr>\n",
       "  </tbody>\n",
       "</table>\n",
       "</div>"
      ],
      "text/plain": [
       "       RMSE  MedianAE    MeanAE       R2\n",
       "0  8.906374      3.88  5.525293  0.84776"
      ]
     },
     "execution_count": 663,
     "metadata": {},
     "output_type": "execute_result"
    }
   ],
   "source": [
    "results #1440*34"
   ]
  },
  {
   "cell_type": "code",
   "execution_count": 667,
   "metadata": {},
   "outputs": [
    {
     "data": {
      "text/html": [
       "<div>\n",
       "<style scoped>\n",
       "    .dataframe tbody tr th:only-of-type {\n",
       "        vertical-align: middle;\n",
       "    }\n",
       "\n",
       "    .dataframe tbody tr th {\n",
       "        vertical-align: top;\n",
       "    }\n",
       "\n",
       "    .dataframe thead th {\n",
       "        text-align: right;\n",
       "    }\n",
       "</style>\n",
       "<table border=\"1\" class=\"dataframe\">\n",
       "  <thead>\n",
       "    <tr style=\"text-align: right;\">\n",
       "      <th></th>\n",
       "      <th>RMSE</th>\n",
       "      <th>MedianAE</th>\n",
       "      <th>MeanAE</th>\n",
       "      <th>R2</th>\n",
       "    </tr>\n",
       "  </thead>\n",
       "  <tbody>\n",
       "    <tr>\n",
       "      <th>0</th>\n",
       "      <td>9.307076</td>\n",
       "      <td>3.73</td>\n",
       "      <td>5.364241</td>\n",
       "      <td>0.701416</td>\n",
       "    </tr>\n",
       "  </tbody>\n",
       "</table>\n",
       "</div>"
      ],
      "text/plain": [
       "       RMSE  MedianAE    MeanAE        R2\n",
       "0  9.307076      3.73  5.364241  0.701416"
      ]
     },
     "execution_count": 667,
     "metadata": {},
     "output_type": "execute_result"
    }
   ],
   "source": [
    "results #1440*34 in chunk"
   ]
  },
  {
   "cell_type": "code",
   "execution_count": null,
   "metadata": {},
   "outputs": [],
   "source": []
  },
  {
   "cell_type": "code",
   "execution_count": null,
   "metadata": {},
   "outputs": [],
   "source": []
  },
  {
   "cell_type": "markdown",
   "metadata": {},
   "source": [
    "#### IterativeImputer KNN"
   ]
  },
  {
   "cell_type": "code",
   "execution_count": null,
   "metadata": {},
   "outputs": [],
   "source": [
    "weight_type = 'distance' #'uniform','distance'\n",
    "num_iter = 10\n",
    "num_neighbors = 10\n",
    "\n",
    "imputed = impute_ii_KNN(np_X_missing, num_iter, num_neighbors, weight_type)\n",
    "\n",
    "# validate\n",
    "results = validate(imputed, np_y_missing)\n",
    "\n",
    "# save \n",
    "imputed_df = pd.DataFrame(imputed, columns=r_PM25.columns) #turn it from IterativeImputer object to a dataframe\n",
    "imputed_df.to_pickle(\"/Users/iditbela/Documents/Broday/saved_data_from_notebooks/imputed_ii_KNN_\"+str(IL[0])+'_'+str(num_iter))\n",
    "results.to_pickle(\"/Users/iditbela/Documents/Broday/saved_data_from_notebooks/results_ii_KNN_\"+str(IL[0])+'_'+str(num_iter)+'_'+str(num_neighbors))"
   ]
  },
  {
   "cell_type": "code",
   "execution_count": null,
   "metadata": {},
   "outputs": [],
   "source": [
    "results"
   ]
  },
  {
   "cell_type": "code",
   "execution_count": null,
   "metadata": {},
   "outputs": [],
   "source": []
  },
  {
   "cell_type": "markdown",
   "metadata": {},
   "source": [
    "#### My KNN"
   ]
  },
  {
   "cell_type": "code",
   "execution_count": 134,
   "metadata": {},
   "outputs": [
    {
     "data": {
      "application/vnd.jupyter.widget-view+json": {
       "model_id": "0aa136a33c644d02bcba9365d11854da",
       "version_major": 2,
       "version_minor": 0
      },
      "text/html": [
       "<p>Failed to display Jupyter Widget of type <code>HBox</code>.</p>\n",
       "<p>\n",
       "  If you're reading this message in the Jupyter Notebook or JupyterLab Notebook, it may mean\n",
       "  that the widgets JavaScript is still loading. If this message persists, it\n",
       "  likely means that the widgets JavaScript library is either not installed or\n",
       "  not enabled. See the <a href=\"https://ipywidgets.readthedocs.io/en/stable/user_install.html\">Jupyter\n",
       "  Widgets Documentation</a> for setup instructions.\n",
       "</p>\n",
       "<p>\n",
       "  If you're reading this message in another frontend (for example, a static\n",
       "  rendering on GitHub or <a href=\"https://nbviewer.jupyter.org/\">NBViewer</a>),\n",
       "  it may mean that your frontend doesn't currently support widgets.\n",
       "</p>\n"
      ],
      "text/plain": [
       "HBox(children=(IntProgress(value=0, max=34), HTML(value='')))"
      ]
     },
     "metadata": {},
     "output_type": "display_data"
    },
    {
     "data": {
      "application/vnd.jupyter.widget-view+json": {
       "model_id": "579547a1238e4fec9510e08afbe8e64c",
       "version_major": 2,
       "version_minor": 0
      },
      "text/html": [
       "<p>Failed to display Jupyter Widget of type <code>HBox</code>.</p>\n",
       "<p>\n",
       "  If you're reading this message in the Jupyter Notebook or JupyterLab Notebook, it may mean\n",
       "  that the widgets JavaScript is still loading. If this message persists, it\n",
       "  likely means that the widgets JavaScript library is either not installed or\n",
       "  not enabled. See the <a href=\"https://ipywidgets.readthedocs.io/en/stable/user_install.html\">Jupyter\n",
       "  Widgets Documentation</a> for setup instructions.\n",
       "</p>\n",
       "<p>\n",
       "  If you're reading this message in another frontend (for example, a static\n",
       "  rendering on GitHub or <a href=\"https://nbviewer.jupyter.org/\">NBViewer</a>),\n",
       "  it may mean that your frontend doesn't currently support widgets.\n",
       "</p>\n"
      ],
      "text/plain": [
       "HBox(children=(IntProgress(value=0, max=34), HTML(value='')))"
      ]
     },
     "metadata": {},
     "output_type": "display_data"
    },
    {
     "data": {
      "application/vnd.jupyter.widget-view+json": {
       "model_id": "720cfc96071e4ffdb2e11d727f3768fe",
       "version_major": 2,
       "version_minor": 0
      },
      "text/html": [
       "<p>Failed to display Jupyter Widget of type <code>HBox</code>.</p>\n",
       "<p>\n",
       "  If you're reading this message in the Jupyter Notebook or JupyterLab Notebook, it may mean\n",
       "  that the widgets JavaScript is still loading. If this message persists, it\n",
       "  likely means that the widgets JavaScript library is either not installed or\n",
       "  not enabled. See the <a href=\"https://ipywidgets.readthedocs.io/en/stable/user_install.html\">Jupyter\n",
       "  Widgets Documentation</a> for setup instructions.\n",
       "</p>\n",
       "<p>\n",
       "  If you're reading this message in another frontend (for example, a static\n",
       "  rendering on GitHub or <a href=\"https://nbviewer.jupyter.org/\">NBViewer</a>),\n",
       "  it may mean that your frontend doesn't currently support widgets.\n",
       "</p>\n"
      ],
      "text/plain": [
       "HBox(children=(IntProgress(value=0, max=39), HTML(value='')))"
      ]
     },
     "metadata": {},
     "output_type": "display_data"
    },
    {
     "data": {
      "application/vnd.jupyter.widget-view+json": {
       "model_id": "7b8228695959495b9675c037ca5a275a",
       "version_major": 2,
       "version_minor": 0
      },
      "text/html": [
       "<p>Failed to display Jupyter Widget of type <code>HBox</code>.</p>\n",
       "<p>\n",
       "  If you're reading this message in the Jupyter Notebook or JupyterLab Notebook, it may mean\n",
       "  that the widgets JavaScript is still loading. If this message persists, it\n",
       "  likely means that the widgets JavaScript library is either not installed or\n",
       "  not enabled. See the <a href=\"https://ipywidgets.readthedocs.io/en/stable/user_install.html\">Jupyter\n",
       "  Widgets Documentation</a> for setup instructions.\n",
       "</p>\n",
       "<p>\n",
       "  If you're reading this message in another frontend (for example, a static\n",
       "  rendering on GitHub or <a href=\"https://nbviewer.jupyter.org/\">NBViewer</a>),\n",
       "  it may mean that your frontend doesn't currently support widgets.\n",
       "</p>\n"
      ],
      "text/plain": [
       "HBox(children=(IntProgress(value=0, max=26), HTML(value='')))"
      ]
     },
     "metadata": {},
     "output_type": "display_data"
    },
    {
     "data": {
      "application/vnd.jupyter.widget-view+json": {
       "model_id": "78af24211a334fe6a1d7d20b3d28f076",
       "version_major": 2,
       "version_minor": 0
      },
      "text/html": [
       "<p>Failed to display Jupyter Widget of type <code>HBox</code>.</p>\n",
       "<p>\n",
       "  If you're reading this message in the Jupyter Notebook or JupyterLab Notebook, it may mean\n",
       "  that the widgets JavaScript is still loading. If this message persists, it\n",
       "  likely means that the widgets JavaScript library is either not installed or\n",
       "  not enabled. See the <a href=\"https://ipywidgets.readthedocs.io/en/stable/user_install.html\">Jupyter\n",
       "  Widgets Documentation</a> for setup instructions.\n",
       "</p>\n",
       "<p>\n",
       "  If you're reading this message in another frontend (for example, a static\n",
       "  rendering on GitHub or <a href=\"https://nbviewer.jupyter.org/\">NBViewer</a>),\n",
       "  it may mean that your frontend doesn't currently support widgets.\n",
       "</p>\n"
      ],
      "text/plain": [
       "HBox(children=(IntProgress(value=0, max=37), HTML(value='')))"
      ]
     },
     "metadata": {},
     "output_type": "display_data"
    },
    {
     "data": {
      "application/vnd.jupyter.widget-view+json": {
       "model_id": "6b83ad45006f47bbae3738a08606280b",
       "version_major": 2,
       "version_minor": 0
      },
      "text/html": [
       "<p>Failed to display Jupyter Widget of type <code>HBox</code>.</p>\n",
       "<p>\n",
       "  If you're reading this message in the Jupyter Notebook or JupyterLab Notebook, it may mean\n",
       "  that the widgets JavaScript is still loading. If this message persists, it\n",
       "  likely means that the widgets JavaScript library is either not installed or\n",
       "  not enabled. See the <a href=\"https://ipywidgets.readthedocs.io/en/stable/user_install.html\">Jupyter\n",
       "  Widgets Documentation</a> for setup instructions.\n",
       "</p>\n",
       "<p>\n",
       "  If you're reading this message in another frontend (for example, a static\n",
       "  rendering on GitHub or <a href=\"https://nbviewer.jupyter.org/\">NBViewer</a>),\n",
       "  it may mean that your frontend doesn't currently support widgets.\n",
       "</p>\n"
      ],
      "text/plain": [
       "HBox(children=(IntProgress(value=0, max=89), HTML(value='')))"
      ]
     },
     "metadata": {},
     "output_type": "display_data"
    },
    {
     "data": {
      "application/vnd.jupyter.widget-view+json": {
       "model_id": "36f146cb67434056833badc9e832f7d5",
       "version_major": 2,
       "version_minor": 0
      },
      "text/html": [
       "<p>Failed to display Jupyter Widget of type <code>HBox</code>.</p>\n",
       "<p>\n",
       "  If you're reading this message in the Jupyter Notebook or JupyterLab Notebook, it may mean\n",
       "  that the widgets JavaScript is still loading. If this message persists, it\n",
       "  likely means that the widgets JavaScript library is either not installed or\n",
       "  not enabled. See the <a href=\"https://ipywidgets.readthedocs.io/en/stable/user_install.html\">Jupyter\n",
       "  Widgets Documentation</a> for setup instructions.\n",
       "</p>\n",
       "<p>\n",
       "  If you're reading this message in another frontend (for example, a static\n",
       "  rendering on GitHub or <a href=\"https://nbviewer.jupyter.org/\">NBViewer</a>),\n",
       "  it may mean that your frontend doesn't currently support widgets.\n",
       "</p>\n"
      ],
      "text/plain": [
       "HBox(children=(IntProgress(value=0, max=53), HTML(value='')))"
      ]
     },
     "metadata": {},
     "output_type": "display_data"
    },
    {
     "data": {
      "application/vnd.jupyter.widget-view+json": {
       "model_id": "b6baaf4a38a44ed195c88c49f2ecd5cf",
       "version_major": 2,
       "version_minor": 0
      },
      "text/html": [
       "<p>Failed to display Jupyter Widget of type <code>HBox</code>.</p>\n",
       "<p>\n",
       "  If you're reading this message in the Jupyter Notebook or JupyterLab Notebook, it may mean\n",
       "  that the widgets JavaScript is still loading. If this message persists, it\n",
       "  likely means that the widgets JavaScript library is either not installed or\n",
       "  not enabled. See the <a href=\"https://ipywidgets.readthedocs.io/en/stable/user_install.html\">Jupyter\n",
       "  Widgets Documentation</a> for setup instructions.\n",
       "</p>\n",
       "<p>\n",
       "  If you're reading this message in another frontend (for example, a static\n",
       "  rendering on GitHub or <a href=\"https://nbviewer.jupyter.org/\">NBViewer</a>),\n",
       "  it may mean that your frontend doesn't currently support widgets.\n",
       "</p>\n"
      ],
      "text/plain": [
       "HBox(children=(IntProgress(value=0, max=136), HTML(value='')))"
      ]
     },
     "metadata": {},
     "output_type": "display_data"
    },
    {
     "data": {
      "application/vnd.jupyter.widget-view+json": {
       "model_id": "4e21d46e370f4ada91b7f74092864ac8",
       "version_major": 2,
       "version_minor": 0
      },
      "text/html": [
       "<p>Failed to display Jupyter Widget of type <code>HBox</code>.</p>\n",
       "<p>\n",
       "  If you're reading this message in the Jupyter Notebook or JupyterLab Notebook, it may mean\n",
       "  that the widgets JavaScript is still loading. If this message persists, it\n",
       "  likely means that the widgets JavaScript library is either not installed or\n",
       "  not enabled. See the <a href=\"https://ipywidgets.readthedocs.io/en/stable/user_install.html\">Jupyter\n",
       "  Widgets Documentation</a> for setup instructions.\n",
       "</p>\n",
       "<p>\n",
       "  If you're reading this message in another frontend (for example, a static\n",
       "  rendering on GitHub or <a href=\"https://nbviewer.jupyter.org/\">NBViewer</a>),\n",
       "  it may mean that your frontend doesn't currently support widgets.\n",
       "</p>\n"
      ],
      "text/plain": [
       "HBox(children=(IntProgress(value=0, max=70), HTML(value='')))"
      ]
     },
     "metadata": {},
     "output_type": "display_data"
    },
    {
     "data": {
      "application/vnd.jupyter.widget-view+json": {
       "model_id": "46df20cfa014438eaa2f80b053c8b7d0",
       "version_major": 2,
       "version_minor": 0
      },
      "text/html": [
       "<p>Failed to display Jupyter Widget of type <code>HBox</code>.</p>\n",
       "<p>\n",
       "  If you're reading this message in the Jupyter Notebook or JupyterLab Notebook, it may mean\n",
       "  that the widgets JavaScript is still loading. If this message persists, it\n",
       "  likely means that the widgets JavaScript library is either not installed or\n",
       "  not enabled. See the <a href=\"https://ipywidgets.readthedocs.io/en/stable/user_install.html\">Jupyter\n",
       "  Widgets Documentation</a> for setup instructions.\n",
       "</p>\n",
       "<p>\n",
       "  If you're reading this message in another frontend (for example, a static\n",
       "  rendering on GitHub or <a href=\"https://nbviewer.jupyter.org/\">NBViewer</a>),\n",
       "  it may mean that your frontend doesn't currently support widgets.\n",
       "</p>\n"
      ],
      "text/plain": [
       "HBox(children=(IntProgress(value=0, max=16), HTML(value='')))"
      ]
     },
     "metadata": {},
     "output_type": "display_data"
    },
    {
     "data": {
      "application/vnd.jupyter.widget-view+json": {
       "model_id": "84ee3b3c42964f5f84b64942b7b09b37",
       "version_major": 2,
       "version_minor": 0
      },
      "text/html": [
       "<p>Failed to display Jupyter Widget of type <code>HBox</code>.</p>\n",
       "<p>\n",
       "  If you're reading this message in the Jupyter Notebook or JupyterLab Notebook, it may mean\n",
       "  that the widgets JavaScript is still loading. If this message persists, it\n",
       "  likely means that the widgets JavaScript library is either not installed or\n",
       "  not enabled. See the <a href=\"https://ipywidgets.readthedocs.io/en/stable/user_install.html\">Jupyter\n",
       "  Widgets Documentation</a> for setup instructions.\n",
       "</p>\n",
       "<p>\n",
       "  If you're reading this message in another frontend (for example, a static\n",
       "  rendering on GitHub or <a href=\"https://nbviewer.jupyter.org/\">NBViewer</a>),\n",
       "  it may mean that your frontend doesn't currently support widgets.\n",
       "</p>\n"
      ],
      "text/plain": [
       "HBox(children=(IntProgress(value=0, max=43), HTML(value='')))"
      ]
     },
     "metadata": {},
     "output_type": "display_data"
    },
    {
     "data": {
      "application/vnd.jupyter.widget-view+json": {
       "model_id": "154c78094f0844869c98201b50f5ef65",
       "version_major": 2,
       "version_minor": 0
      },
      "text/html": [
       "<p>Failed to display Jupyter Widget of type <code>HBox</code>.</p>\n",
       "<p>\n",
       "  If you're reading this message in the Jupyter Notebook or JupyterLab Notebook, it may mean\n",
       "  that the widgets JavaScript is still loading. If this message persists, it\n",
       "  likely means that the widgets JavaScript library is either not installed or\n",
       "  not enabled. See the <a href=\"https://ipywidgets.readthedocs.io/en/stable/user_install.html\">Jupyter\n",
       "  Widgets Documentation</a> for setup instructions.\n",
       "</p>\n",
       "<p>\n",
       "  If you're reading this message in another frontend (for example, a static\n",
       "  rendering on GitHub or <a href=\"https://nbviewer.jupyter.org/\">NBViewer</a>),\n",
       "  it may mean that your frontend doesn't currently support widgets.\n",
       "</p>\n"
      ],
      "text/plain": [
       "HBox(children=(IntProgress(value=0, max=102), HTML(value='')))"
      ]
     },
     "metadata": {},
     "output_type": "display_data"
    },
    {
     "data": {
      "application/vnd.jupyter.widget-view+json": {
       "model_id": "8ca977aa9ab64311a346e4a7d366ac88",
       "version_major": 2,
       "version_minor": 0
      },
      "text/html": [
       "<p>Failed to display Jupyter Widget of type <code>HBox</code>.</p>\n",
       "<p>\n",
       "  If you're reading this message in the Jupyter Notebook or JupyterLab Notebook, it may mean\n",
       "  that the widgets JavaScript is still loading. If this message persists, it\n",
       "  likely means that the widgets JavaScript library is either not installed or\n",
       "  not enabled. See the <a href=\"https://ipywidgets.readthedocs.io/en/stable/user_install.html\">Jupyter\n",
       "  Widgets Documentation</a> for setup instructions.\n",
       "</p>\n",
       "<p>\n",
       "  If you're reading this message in another frontend (for example, a static\n",
       "  rendering on GitHub or <a href=\"https://nbviewer.jupyter.org/\">NBViewer</a>),\n",
       "  it may mean that your frontend doesn't currently support widgets.\n",
       "</p>\n"
      ],
      "text/plain": [
       "HBox(children=(IntProgress(value=0, max=114), HTML(value='')))"
      ]
     },
     "metadata": {},
     "output_type": "display_data"
    },
    {
     "data": {
      "application/vnd.jupyter.widget-view+json": {
       "model_id": "f4196aef4a6b4c28bc0cab9c0543060e",
       "version_major": 2,
       "version_minor": 0
      },
      "text/html": [
       "<p>Failed to display Jupyter Widget of type <code>HBox</code>.</p>\n",
       "<p>\n",
       "  If you're reading this message in the Jupyter Notebook or JupyterLab Notebook, it may mean\n",
       "  that the widgets JavaScript is still loading. If this message persists, it\n",
       "  likely means that the widgets JavaScript library is either not installed or\n",
       "  not enabled. See the <a href=\"https://ipywidgets.readthedocs.io/en/stable/user_install.html\">Jupyter\n",
       "  Widgets Documentation</a> for setup instructions.\n",
       "</p>\n",
       "<p>\n",
       "  If you're reading this message in another frontend (for example, a static\n",
       "  rendering on GitHub or <a href=\"https://nbviewer.jupyter.org/\">NBViewer</a>),\n",
       "  it may mean that your frontend doesn't currently support widgets.\n",
       "</p>\n"
      ],
      "text/plain": [
       "HBox(children=(IntProgress(value=0, max=17), HTML(value='')))"
      ]
     },
     "metadata": {},
     "output_type": "display_data"
    },
    {
     "data": {
      "application/vnd.jupyter.widget-view+json": {
       "model_id": "d5ae39b5de954596a3d026d76a094751",
       "version_major": 2,
       "version_minor": 0
      },
      "text/html": [
       "<p>Failed to display Jupyter Widget of type <code>HBox</code>.</p>\n",
       "<p>\n",
       "  If you're reading this message in the Jupyter Notebook or JupyterLab Notebook, it may mean\n",
       "  that the widgets JavaScript is still loading. If this message persists, it\n",
       "  likely means that the widgets JavaScript library is either not installed or\n",
       "  not enabled. See the <a href=\"https://ipywidgets.readthedocs.io/en/stable/user_install.html\">Jupyter\n",
       "  Widgets Documentation</a> for setup instructions.\n",
       "</p>\n",
       "<p>\n",
       "  If you're reading this message in another frontend (for example, a static\n",
       "  rendering on GitHub or <a href=\"https://nbviewer.jupyter.org/\">NBViewer</a>),\n",
       "  it may mean that your frontend doesn't currently support widgets.\n",
       "</p>\n"
      ],
      "text/plain": [
       "HBox(children=(IntProgress(value=0, max=19), HTML(value='')))"
      ]
     },
     "metadata": {},
     "output_type": "display_data"
    },
    {
     "data": {
      "application/vnd.jupyter.widget-view+json": {
       "model_id": "bc4b5ea21ac549cab3a69b423b167679",
       "version_major": 2,
       "version_minor": 0
      },
      "text/html": [
       "<p>Failed to display Jupyter Widget of type <code>HBox</code>.</p>\n",
       "<p>\n",
       "  If you're reading this message in the Jupyter Notebook or JupyterLab Notebook, it may mean\n",
       "  that the widgets JavaScript is still loading. If this message persists, it\n",
       "  likely means that the widgets JavaScript library is either not installed or\n",
       "  not enabled. See the <a href=\"https://ipywidgets.readthedocs.io/en/stable/user_install.html\">Jupyter\n",
       "  Widgets Documentation</a> for setup instructions.\n",
       "</p>\n",
       "<p>\n",
       "  If you're reading this message in another frontend (for example, a static\n",
       "  rendering on GitHub or <a href=\"https://nbviewer.jupyter.org/\">NBViewer</a>),\n",
       "  it may mean that your frontend doesn't currently support widgets.\n",
       "</p>\n"
      ],
      "text/plain": [
       "HBox(children=(IntProgress(value=0, max=20), HTML(value='')))"
      ]
     },
     "metadata": {},
     "output_type": "display_data"
    },
    {
     "data": {
      "application/vnd.jupyter.widget-view+json": {
       "model_id": "745f89ef4e9a46d7b4eafccefa69b998",
       "version_major": 2,
       "version_minor": 0
      },
      "text/html": [
       "<p>Failed to display Jupyter Widget of type <code>HBox</code>.</p>\n",
       "<p>\n",
       "  If you're reading this message in the Jupyter Notebook or JupyterLab Notebook, it may mean\n",
       "  that the widgets JavaScript is still loading. If this message persists, it\n",
       "  likely means that the widgets JavaScript library is either not installed or\n",
       "  not enabled. See the <a href=\"https://ipywidgets.readthedocs.io/en/stable/user_install.html\">Jupyter\n",
       "  Widgets Documentation</a> for setup instructions.\n",
       "</p>\n",
       "<p>\n",
       "  If you're reading this message in another frontend (for example, a static\n",
       "  rendering on GitHub or <a href=\"https://nbviewer.jupyter.org/\">NBViewer</a>),\n",
       "  it may mean that your frontend doesn't currently support widgets.\n",
       "</p>\n"
      ],
      "text/plain": [
       "HBox(children=(IntProgress(value=0, max=59), HTML(value='')))"
      ]
     },
     "metadata": {},
     "output_type": "display_data"
    },
    {
     "data": {
      "application/vnd.jupyter.widget-view+json": {
       "model_id": "92c2618446464dcb97bf4a52b6f1b5f1",
       "version_major": 2,
       "version_minor": 0
      },
      "text/html": [
       "<p>Failed to display Jupyter Widget of type <code>HBox</code>.</p>\n",
       "<p>\n",
       "  If you're reading this message in the Jupyter Notebook or JupyterLab Notebook, it may mean\n",
       "  that the widgets JavaScript is still loading. If this message persists, it\n",
       "  likely means that the widgets JavaScript library is either not installed or\n",
       "  not enabled. See the <a href=\"https://ipywidgets.readthedocs.io/en/stable/user_install.html\">Jupyter\n",
       "  Widgets Documentation</a> for setup instructions.\n",
       "</p>\n",
       "<p>\n",
       "  If you're reading this message in another frontend (for example, a static\n",
       "  rendering on GitHub or <a href=\"https://nbviewer.jupyter.org/\">NBViewer</a>),\n",
       "  it may mean that your frontend doesn't currently support widgets.\n",
       "</p>\n"
      ],
      "text/plain": [
       "HBox(children=(IntProgress(value=0, max=86), HTML(value='')))"
      ]
     },
     "metadata": {},
     "output_type": "display_data"
    },
    {
     "data": {
      "application/vnd.jupyter.widget-view+json": {
       "model_id": "82fcb40b50b844df8e67f3891aed6c66",
       "version_major": 2,
       "version_minor": 0
      },
      "text/html": [
       "<p>Failed to display Jupyter Widget of type <code>HBox</code>.</p>\n",
       "<p>\n",
       "  If you're reading this message in the Jupyter Notebook or JupyterLab Notebook, it may mean\n",
       "  that the widgets JavaScript is still loading. If this message persists, it\n",
       "  likely means that the widgets JavaScript library is either not installed or\n",
       "  not enabled. See the <a href=\"https://ipywidgets.readthedocs.io/en/stable/user_install.html\">Jupyter\n",
       "  Widgets Documentation</a> for setup instructions.\n",
       "</p>\n",
       "<p>\n",
       "  If you're reading this message in another frontend (for example, a static\n",
       "  rendering on GitHub or <a href=\"https://nbviewer.jupyter.org/\">NBViewer</a>),\n",
       "  it may mean that your frontend doesn't currently support widgets.\n",
       "</p>\n"
      ],
      "text/plain": [
       "HBox(children=(IntProgress(value=0, max=54), HTML(value='')))"
      ]
     },
     "metadata": {},
     "output_type": "display_data"
    },
    {
     "data": {
      "application/vnd.jupyter.widget-view+json": {
       "model_id": "f0cf2c57e4dd4e4c9787858aa1f9cf3f",
       "version_major": 2,
       "version_minor": 0
      },
      "text/html": [
       "<p>Failed to display Jupyter Widget of type <code>HBox</code>.</p>\n",
       "<p>\n",
       "  If you're reading this message in the Jupyter Notebook or JupyterLab Notebook, it may mean\n",
       "  that the widgets JavaScript is still loading. If this message persists, it\n",
       "  likely means that the widgets JavaScript library is either not installed or\n",
       "  not enabled. See the <a href=\"https://ipywidgets.readthedocs.io/en/stable/user_install.html\">Jupyter\n",
       "  Widgets Documentation</a> for setup instructions.\n",
       "</p>\n",
       "<p>\n",
       "  If you're reading this message in another frontend (for example, a static\n",
       "  rendering on GitHub or <a href=\"https://nbviewer.jupyter.org/\">NBViewer</a>),\n",
       "  it may mean that your frontend doesn't currently support widgets.\n",
       "</p>\n"
      ],
      "text/plain": [
       "HBox(children=(IntProgress(value=0, max=33), HTML(value='')))"
      ]
     },
     "metadata": {},
     "output_type": "display_data"
    },
    {
     "data": {
      "application/vnd.jupyter.widget-view+json": {
       "model_id": "c19325125d76449da9b6b33019483782",
       "version_major": 2,
       "version_minor": 0
      },
      "text/html": [
       "<p>Failed to display Jupyter Widget of type <code>HBox</code>.</p>\n",
       "<p>\n",
       "  If you're reading this message in the Jupyter Notebook or JupyterLab Notebook, it may mean\n",
       "  that the widgets JavaScript is still loading. If this message persists, it\n",
       "  likely means that the widgets JavaScript library is either not installed or\n",
       "  not enabled. See the <a href=\"https://ipywidgets.readthedocs.io/en/stable/user_install.html\">Jupyter\n",
       "  Widgets Documentation</a> for setup instructions.\n",
       "</p>\n",
       "<p>\n",
       "  If you're reading this message in another frontend (for example, a static\n",
       "  rendering on GitHub or <a href=\"https://nbviewer.jupyter.org/\">NBViewer</a>),\n",
       "  it may mean that your frontend doesn't currently support widgets.\n",
       "</p>\n"
      ],
      "text/plain": [
       "HBox(children=(IntProgress(value=0, max=94), HTML(value='')))"
      ]
     },
     "metadata": {},
     "output_type": "display_data"
    },
    {
     "data": {
      "application/vnd.jupyter.widget-view+json": {
       "model_id": "18917a22a6fd4f45a53978d0da4d0232",
       "version_major": 2,
       "version_minor": 0
      },
      "text/html": [
       "<p>Failed to display Jupyter Widget of type <code>HBox</code>.</p>\n",
       "<p>\n",
       "  If you're reading this message in the Jupyter Notebook or JupyterLab Notebook, it may mean\n",
       "  that the widgets JavaScript is still loading. If this message persists, it\n",
       "  likely means that the widgets JavaScript library is either not installed or\n",
       "  not enabled. See the <a href=\"https://ipywidgets.readthedocs.io/en/stable/user_install.html\">Jupyter\n",
       "  Widgets Documentation</a> for setup instructions.\n",
       "</p>\n",
       "<p>\n",
       "  If you're reading this message in another frontend (for example, a static\n",
       "  rendering on GitHub or <a href=\"https://nbviewer.jupyter.org/\">NBViewer</a>),\n",
       "  it may mean that your frontend doesn't currently support widgets.\n",
       "</p>\n"
      ],
      "text/plain": [
       "HBox(children=(IntProgress(value=0, max=39), HTML(value='')))"
      ]
     },
     "metadata": {},
     "output_type": "display_data"
    },
    {
     "data": {
      "application/vnd.jupyter.widget-view+json": {
       "model_id": "0911056ba56643fc9013c79cb929b8ef",
       "version_major": 2,
       "version_minor": 0
      },
      "text/html": [
       "<p>Failed to display Jupyter Widget of type <code>HBox</code>.</p>\n",
       "<p>\n",
       "  If you're reading this message in the Jupyter Notebook or JupyterLab Notebook, it may mean\n",
       "  that the widgets JavaScript is still loading. If this message persists, it\n",
       "  likely means that the widgets JavaScript library is either not installed or\n",
       "  not enabled. See the <a href=\"https://ipywidgets.readthedocs.io/en/stable/user_install.html\">Jupyter\n",
       "  Widgets Documentation</a> for setup instructions.\n",
       "</p>\n",
       "<p>\n",
       "  If you're reading this message in another frontend (for example, a static\n",
       "  rendering on GitHub or <a href=\"https://nbviewer.jupyter.org/\">NBViewer</a>),\n",
       "  it may mean that your frontend doesn't currently support widgets.\n",
       "</p>\n"
      ],
      "text/plain": [
       "HBox(children=(IntProgress(value=0, max=42), HTML(value='')))"
      ]
     },
     "metadata": {},
     "output_type": "display_data"
    },
    {
     "data": {
      "application/vnd.jupyter.widget-view+json": {
       "model_id": "6e3588ee307e4c4781b9b732131c9cba",
       "version_major": 2,
       "version_minor": 0
      },
      "text/html": [
       "<p>Failed to display Jupyter Widget of type <code>HBox</code>.</p>\n",
       "<p>\n",
       "  If you're reading this message in the Jupyter Notebook or JupyterLab Notebook, it may mean\n",
       "  that the widgets JavaScript is still loading. If this message persists, it\n",
       "  likely means that the widgets JavaScript library is either not installed or\n",
       "  not enabled. See the <a href=\"https://ipywidgets.readthedocs.io/en/stable/user_install.html\">Jupyter\n",
       "  Widgets Documentation</a> for setup instructions.\n",
       "</p>\n",
       "<p>\n",
       "  If you're reading this message in another frontend (for example, a static\n",
       "  rendering on GitHub or <a href=\"https://nbviewer.jupyter.org/\">NBViewer</a>),\n",
       "  it may mean that your frontend doesn't currently support widgets.\n",
       "</p>\n"
      ],
      "text/plain": [
       "HBox(children=(IntProgress(value=0, max=56), HTML(value='')))"
      ]
     },
     "metadata": {},
     "output_type": "display_data"
    },
    {
     "data": {
      "application/vnd.jupyter.widget-view+json": {
       "model_id": "7631bc621b1446c8b1909c2e8d0c292b",
       "version_major": 2,
       "version_minor": 0
      },
      "text/html": [
       "<p>Failed to display Jupyter Widget of type <code>HBox</code>.</p>\n",
       "<p>\n",
       "  If you're reading this message in the Jupyter Notebook or JupyterLab Notebook, it may mean\n",
       "  that the widgets JavaScript is still loading. If this message persists, it\n",
       "  likely means that the widgets JavaScript library is either not installed or\n",
       "  not enabled. See the <a href=\"https://ipywidgets.readthedocs.io/en/stable/user_install.html\">Jupyter\n",
       "  Widgets Documentation</a> for setup instructions.\n",
       "</p>\n",
       "<p>\n",
       "  If you're reading this message in another frontend (for example, a static\n",
       "  rendering on GitHub or <a href=\"https://nbviewer.jupyter.org/\">NBViewer</a>),\n",
       "  it may mean that your frontend doesn't currently support widgets.\n",
       "</p>\n"
      ],
      "text/plain": [
       "HBox(children=(IntProgress(value=0, max=35), HTML(value='')))"
      ]
     },
     "metadata": {},
     "output_type": "display_data"
    },
    {
     "data": {
      "application/vnd.jupyter.widget-view+json": {
       "model_id": "355cde5313c7426f88afb33c3930d86b",
       "version_major": 2,
       "version_minor": 0
      },
      "text/html": [
       "<p>Failed to display Jupyter Widget of type <code>HBox</code>.</p>\n",
       "<p>\n",
       "  If you're reading this message in the Jupyter Notebook or JupyterLab Notebook, it may mean\n",
       "  that the widgets JavaScript is still loading. If this message persists, it\n",
       "  likely means that the widgets JavaScript library is either not installed or\n",
       "  not enabled. See the <a href=\"https://ipywidgets.readthedocs.io/en/stable/user_install.html\">Jupyter\n",
       "  Widgets Documentation</a> for setup instructions.\n",
       "</p>\n",
       "<p>\n",
       "  If you're reading this message in another frontend (for example, a static\n",
       "  rendering on GitHub or <a href=\"https://nbviewer.jupyter.org/\">NBViewer</a>),\n",
       "  it may mean that your frontend doesn't currently support widgets.\n",
       "</p>\n"
      ],
      "text/plain": [
       "HBox(children=(IntProgress(value=0, max=87), HTML(value='')))"
      ]
     },
     "metadata": {},
     "output_type": "display_data"
    },
    {
     "data": {
      "application/vnd.jupyter.widget-view+json": {
       "model_id": "84bf7f5230784705963914b4feabb566",
       "version_major": 2,
       "version_minor": 0
      },
      "text/html": [
       "<p>Failed to display Jupyter Widget of type <code>HBox</code>.</p>\n",
       "<p>\n",
       "  If you're reading this message in the Jupyter Notebook or JupyterLab Notebook, it may mean\n",
       "  that the widgets JavaScript is still loading. If this message persists, it\n",
       "  likely means that the widgets JavaScript library is either not installed or\n",
       "  not enabled. See the <a href=\"https://ipywidgets.readthedocs.io/en/stable/user_install.html\">Jupyter\n",
       "  Widgets Documentation</a> for setup instructions.\n",
       "</p>\n",
       "<p>\n",
       "  If you're reading this message in another frontend (for example, a static\n",
       "  rendering on GitHub or <a href=\"https://nbviewer.jupyter.org/\">NBViewer</a>),\n",
       "  it may mean that your frontend doesn't currently support widgets.\n",
       "</p>\n"
      ],
      "text/plain": [
       "HBox(children=(IntProgress(value=0, max=118), HTML(value='')))"
      ]
     },
     "metadata": {},
     "output_type": "display_data"
    },
    {
     "data": {
      "application/vnd.jupyter.widget-view+json": {
       "model_id": "dad5ca07e86f4c79a1fb009a6aeda662",
       "version_major": 2,
       "version_minor": 0
      },
      "text/html": [
       "<p>Failed to display Jupyter Widget of type <code>HBox</code>.</p>\n",
       "<p>\n",
       "  If you're reading this message in the Jupyter Notebook or JupyterLab Notebook, it may mean\n",
       "  that the widgets JavaScript is still loading. If this message persists, it\n",
       "  likely means that the widgets JavaScript library is either not installed or\n",
       "  not enabled. See the <a href=\"https://ipywidgets.readthedocs.io/en/stable/user_install.html\">Jupyter\n",
       "  Widgets Documentation</a> for setup instructions.\n",
       "</p>\n",
       "<p>\n",
       "  If you're reading this message in another frontend (for example, a static\n",
       "  rendering on GitHub or <a href=\"https://nbviewer.jupyter.org/\">NBViewer</a>),\n",
       "  it may mean that your frontend doesn't currently support widgets.\n",
       "</p>\n"
      ],
      "text/plain": [
       "HBox(children=(IntProgress(value=0, max=31), HTML(value='')))"
      ]
     },
     "metadata": {},
     "output_type": "display_data"
    },
    {
     "data": {
      "application/vnd.jupyter.widget-view+json": {
       "model_id": "102ae40f54344ba38698a500eb28ab5b",
       "version_major": 2,
       "version_minor": 0
      },
      "text/html": [
       "<p>Failed to display Jupyter Widget of type <code>HBox</code>.</p>\n",
       "<p>\n",
       "  If you're reading this message in the Jupyter Notebook or JupyterLab Notebook, it may mean\n",
       "  that the widgets JavaScript is still loading. If this message persists, it\n",
       "  likely means that the widgets JavaScript library is either not installed or\n",
       "  not enabled. See the <a href=\"https://ipywidgets.readthedocs.io/en/stable/user_install.html\">Jupyter\n",
       "  Widgets Documentation</a> for setup instructions.\n",
       "</p>\n",
       "<p>\n",
       "  If you're reading this message in another frontend (for example, a static\n",
       "  rendering on GitHub or <a href=\"https://nbviewer.jupyter.org/\">NBViewer</a>),\n",
       "  it may mean that your frontend doesn't currently support widgets.\n",
       "</p>\n"
      ],
      "text/plain": [
       "HBox(children=(IntProgress(value=0, max=19), HTML(value='')))"
      ]
     },
     "metadata": {},
     "output_type": "display_data"
    },
    {
     "data": {
      "application/vnd.jupyter.widget-view+json": {
       "model_id": "ff16c82626cc4451b76d54ca1fa5d7c8",
       "version_major": 2,
       "version_minor": 0
      },
      "text/html": [
       "<p>Failed to display Jupyter Widget of type <code>HBox</code>.</p>\n",
       "<p>\n",
       "  If you're reading this message in the Jupyter Notebook or JupyterLab Notebook, it may mean\n",
       "  that the widgets JavaScript is still loading. If this message persists, it\n",
       "  likely means that the widgets JavaScript library is either not installed or\n",
       "  not enabled. See the <a href=\"https://ipywidgets.readthedocs.io/en/stable/user_install.html\">Jupyter\n",
       "  Widgets Documentation</a> for setup instructions.\n",
       "</p>\n",
       "<p>\n",
       "  If you're reading this message in another frontend (for example, a static\n",
       "  rendering on GitHub or <a href=\"https://nbviewer.jupyter.org/\">NBViewer</a>),\n",
       "  it may mean that your frontend doesn't currently support widgets.\n",
       "</p>\n"
      ],
      "text/plain": [
       "HBox(children=(IntProgress(value=0, max=96), HTML(value='')))"
      ]
     },
     "metadata": {},
     "output_type": "display_data"
    },
    {
     "data": {
      "application/vnd.jupyter.widget-view+json": {
       "model_id": "3d10dd1fa269485088b71534c59b4e67",
       "version_major": 2,
       "version_minor": 0
      },
      "text/html": [
       "<p>Failed to display Jupyter Widget of type <code>HBox</code>.</p>\n",
       "<p>\n",
       "  If you're reading this message in the Jupyter Notebook or JupyterLab Notebook, it may mean\n",
       "  that the widgets JavaScript is still loading. If this message persists, it\n",
       "  likely means that the widgets JavaScript library is either not installed or\n",
       "  not enabled. See the <a href=\"https://ipywidgets.readthedocs.io/en/stable/user_install.html\">Jupyter\n",
       "  Widgets Documentation</a> for setup instructions.\n",
       "</p>\n",
       "<p>\n",
       "  If you're reading this message in another frontend (for example, a static\n",
       "  rendering on GitHub or <a href=\"https://nbviewer.jupyter.org/\">NBViewer</a>),\n",
       "  it may mean that your frontend doesn't currently support widgets.\n",
       "</p>\n"
      ],
      "text/plain": [
       "HBox(children=(IntProgress(value=0, max=56), HTML(value='')))"
      ]
     },
     "metadata": {},
     "output_type": "display_data"
    },
    {
     "data": {
      "application/vnd.jupyter.widget-view+json": {
       "model_id": "6548ef032db949ba83527ba65f6d2ca6",
       "version_major": 2,
       "version_minor": 0
      },
      "text/html": [
       "<p>Failed to display Jupyter Widget of type <code>HBox</code>.</p>\n",
       "<p>\n",
       "  If you're reading this message in the Jupyter Notebook or JupyterLab Notebook, it may mean\n",
       "  that the widgets JavaScript is still loading. If this message persists, it\n",
       "  likely means that the widgets JavaScript library is either not installed or\n",
       "  not enabled. See the <a href=\"https://ipywidgets.readthedocs.io/en/stable/user_install.html\">Jupyter\n",
       "  Widgets Documentation</a> for setup instructions.\n",
       "</p>\n",
       "<p>\n",
       "  If you're reading this message in another frontend (for example, a static\n",
       "  rendering on GitHub or <a href=\"https://nbviewer.jupyter.org/\">NBViewer</a>),\n",
       "  it may mean that your frontend doesn't currently support widgets.\n",
       "</p>\n"
      ],
      "text/plain": [
       "HBox(children=(IntProgress(value=0, max=101), HTML(value='')))"
      ]
     },
     "metadata": {},
     "output_type": "display_data"
    },
    {
     "data": {
      "application/vnd.jupyter.widget-view+json": {
       "model_id": "94d3dd33f67a46b0bbe8b64e4bae6a70",
       "version_major": 2,
       "version_minor": 0
      },
      "text/html": [
       "<p>Failed to display Jupyter Widget of type <code>HBox</code>.</p>\n",
       "<p>\n",
       "  If you're reading this message in the Jupyter Notebook or JupyterLab Notebook, it may mean\n",
       "  that the widgets JavaScript is still loading. If this message persists, it\n",
       "  likely means that the widgets JavaScript library is either not installed or\n",
       "  not enabled. See the <a href=\"https://ipywidgets.readthedocs.io/en/stable/user_install.html\">Jupyter\n",
       "  Widgets Documentation</a> for setup instructions.\n",
       "</p>\n",
       "<p>\n",
       "  If you're reading this message in another frontend (for example, a static\n",
       "  rendering on GitHub or <a href=\"https://nbviewer.jupyter.org/\">NBViewer</a>),\n",
       "  it may mean that your frontend doesn't currently support widgets.\n",
       "</p>\n"
      ],
      "text/plain": [
       "HBox(children=(IntProgress(value=0, max=87), HTML(value='')))"
      ]
     },
     "metadata": {},
     "output_type": "display_data"
    },
    {
     "data": {
      "application/vnd.jupyter.widget-view+json": {
       "model_id": "6399bb96d95b44988e4ded580567c442",
       "version_major": 2,
       "version_minor": 0
      },
      "text/html": [
       "<p>Failed to display Jupyter Widget of type <code>HBox</code>.</p>\n",
       "<p>\n",
       "  If you're reading this message in the Jupyter Notebook or JupyterLab Notebook, it may mean\n",
       "  that the widgets JavaScript is still loading. If this message persists, it\n",
       "  likely means that the widgets JavaScript library is either not installed or\n",
       "  not enabled. See the <a href=\"https://ipywidgets.readthedocs.io/en/stable/user_install.html\">Jupyter\n",
       "  Widgets Documentation</a> for setup instructions.\n",
       "</p>\n",
       "<p>\n",
       "  If you're reading this message in another frontend (for example, a static\n",
       "  rendering on GitHub or <a href=\"https://nbviewer.jupyter.org/\">NBViewer</a>),\n",
       "  it may mean that your frontend doesn't currently support widgets.\n",
       "</p>\n"
      ],
      "text/plain": [
       "HBox(children=(IntProgress(value=0, max=98), HTML(value='')))"
      ]
     },
     "metadata": {},
     "output_type": "display_data"
    },
    {
     "data": {
      "application/vnd.jupyter.widget-view+json": {
       "model_id": "f9078b114980411a9d656ce39c0d99b1",
       "version_major": 2,
       "version_minor": 0
      },
      "text/html": [
       "<p>Failed to display Jupyter Widget of type <code>HBox</code>.</p>\n",
       "<p>\n",
       "  If you're reading this message in the Jupyter Notebook or JupyterLab Notebook, it may mean\n",
       "  that the widgets JavaScript is still loading. If this message persists, it\n",
       "  likely means that the widgets JavaScript library is either not installed or\n",
       "  not enabled. See the <a href=\"https://ipywidgets.readthedocs.io/en/stable/user_install.html\">Jupyter\n",
       "  Widgets Documentation</a> for setup instructions.\n",
       "</p>\n",
       "<p>\n",
       "  If you're reading this message in another frontend (for example, a static\n",
       "  rendering on GitHub or <a href=\"https://nbviewer.jupyter.org/\">NBViewer</a>),\n",
       "  it may mean that your frontend doesn't currently support widgets.\n",
       "</p>\n"
      ],
      "text/plain": [
       "HBox(children=(IntProgress(value=0, max=40), HTML(value='')))"
      ]
     },
     "metadata": {},
     "output_type": "display_data"
    },
    {
     "name": "stdout",
     "output_type": "stream",
     "text": [
      "\n"
     ]
    }
   ],
   "source": [
    "num_neighbors = 9\n",
    "imputed = impute_my_KNN(np_X_missing, num_neighbors)\n",
    "\n",
    "# validate\n",
    "results = validate(imputed, np_y_missing)\n",
    "\n",
    "# save \n",
    "imputed_df = pd.DataFrame(imputed, columns=r_PM25.columns) #turn it from IterativeImputer object to a dataframe\n",
    "imputed_df.to_pickle(\"/Users/iditbela/Documents/Broday/saved_data_from_notebooks/imputed_my_KNN_\"+str(IL[0])+'_'+str(num_iter))\n",
    "results.to_pickle(\"/Users/iditbela/Documents/Broday/saved_data_from_notebooks/results_my_KNN_\"+str(IL[0])+'_'+str(num_iter)+'_'+str(num_neighbors))"
   ]
  },
  {
   "cell_type": "code",
   "execution_count": 135,
   "metadata": {},
   "outputs": [
    {
     "data": {
      "text/html": [
       "<div>\n",
       "<style scoped>\n",
       "    .dataframe tbody tr th:only-of-type {\n",
       "        vertical-align: middle;\n",
       "    }\n",
       "\n",
       "    .dataframe tbody tr th {\n",
       "        vertical-align: top;\n",
       "    }\n",
       "\n",
       "    .dataframe thead th {\n",
       "        text-align: right;\n",
       "    }\n",
       "</style>\n",
       "<table border=\"1\" class=\"dataframe\">\n",
       "  <thead>\n",
       "    <tr style=\"text-align: right;\">\n",
       "      <th></th>\n",
       "      <th>RMSE</th>\n",
       "      <th>MedianAE</th>\n",
       "      <th>MeanAE</th>\n",
       "      <th>R2</th>\n",
       "    </tr>\n",
       "  </thead>\n",
       "  <tbody>\n",
       "    <tr>\n",
       "      <th>0</th>\n",
       "      <td>20.424791</td>\n",
       "      <td>3.880241</td>\n",
       "      <td>6.900915</td>\n",
       "      <td>0.653475</td>\n",
       "    </tr>\n",
       "  </tbody>\n",
       "</table>\n",
       "</div>"
      ],
      "text/plain": [
       "        RMSE  MedianAE    MeanAE        R2\n",
       "0  20.424791  3.880241  6.900915  0.653475"
      ]
     },
     "execution_count": 135,
     "metadata": {},
     "output_type": "execute_result"
    }
   ],
   "source": [
    "results"
   ]
  },
  {
   "cell_type": "code",
   "execution_count": null,
   "metadata": {},
   "outputs": [],
   "source": []
  },
  {
   "cell_type": "code",
   "execution_count": null,
   "metadata": {},
   "outputs": [],
   "source": [
    "# m (number of iterations) should be approximately as the average missing percentage. \n",
    "# which is about 15% in my case. ok to start with 5-10 though. \n",
    "# loose the 5 rows where all rows are empty!!!"
   ]
  },
  {
   "cell_type": "code",
   "execution_count": 4,
   "metadata": {},
   "outputs": [],
   "source": [
    "# Ways to check randomness - https://www.theanalysisfactor.com/missing-data-mechanism/\n",
    "# mark missing values in 1 and non-missing in zero. run a t-test or chi-square test \n",
    "# between one variable(column) and all other variables(columns). I think it should\n",
    "# tell me if they are drown from the same poplutation (I want p-value not significant,\n",
    "# meaning they are from different populations). if they come from the same population \n",
    "# I suspect that it is not random.\n",
    "# MAYBE THE 0-1 IS TO TEST THE ORDER OF THE VALUES? IF IN RANDOM. = TEST FOR MCAR\n",
    "# another option (I think test for MAR) is if I suspect that it is not completely random \n",
    "# (due to malfunctioning in a certain\n",
    "# time maybe), I can try to train a logistic regression to see if time of day can \n",
    "# predict the missing non-missing classification. "
   ]
  },
  {
   "cell_type": "code",
   "execution_count": null,
   "metadata": {},
   "outputs": [],
   "source": [
    "# check the distribution of the imputed values Vs. the dist. of the non-missing values.\n",
    "\n",
    "'''The idea is that good imputations have a distribution \n",
    "similar to the observed data. In other words, the imputations\n",
    "could have been real values had they been observed. \n",
    "Except under MCAR, the distributions do not need to be identical, \n",
    "since strong MAR mechanisms may induce systematic differences between \n",
    "the two distributions. However, any dramatic differences between the \n",
    "imputed and observed data should certainly alert us to the possibility\n",
    "that something is wrong.'''"
   ]
  },
  {
   "cell_type": "code",
   "execution_count": null,
   "metadata": {},
   "outputs": [],
   "source": [
    "# https://stefvanbuuren.name/fimd/sec-nutshell.html\n",
    "# http://www.stat.columbia.edu/~gelman/arm/missing.pdf\n",
    "\n",
    "# TRY ALSO THE MICE FROM FANCYIMPUTE - IS IT THE SAME AS ITERTIVEIMPUTER?\n",
    "# https://www.kaggle.com/residentmario/simple-techniques-for-missing-data-imputation\n",
    "\n",
    "\n",
    "# MAYBE ADD missSVD?"
   ]
  },
  {
   "cell_type": "code",
   "execution_count": null,
   "metadata": {},
   "outputs": [],
   "source": []
  },
  {
   "cell_type": "code",
   "execution_count": null,
   "metadata": {},
   "outputs": [],
   "source": []
  },
  {
   "cell_type": "code",
   "execution_count": null,
   "metadata": {},
   "outputs": [],
   "source": []
  }
 ],
 "metadata": {
  "kernelspec": {
   "display_name": "Python 3",
   "language": "python",
   "name": "python3"
  },
  "language_info": {
   "codemirror_mode": {
    "name": "ipython",
    "version": 3
   },
   "file_extension": ".py",
   "mimetype": "text/x-python",
   "name": "python",
   "nbconvert_exporter": "python",
   "pygments_lexer": "ipython3",
   "version": "3.6.4"
  }
 },
 "nbformat": 4,
 "nbformat_minor": 2
}
