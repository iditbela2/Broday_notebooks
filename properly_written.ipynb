{
 "cells": [
  {
   "cell_type": "code",
   "execution_count": 40,
   "metadata": {},
   "outputs": [],
   "source": [
    "from scipy.io import loadmat\n",
    "import numpy as np\n",
    "import pandas as pd\n",
    "import matplotlib.pyplot as plt\n",
    "import plotly as py\n",
    "import plotly.graph_objs as go\n",
    "import ipywidgets as widgets\n",
    "from tqdm.auto import tqdm \n",
    "\n",
    "import seaborn as sns\n",
    "\n",
    "from sklearn.experimental import enable_iterative_imputer\n",
    "from sklearn.impute import SimpleImputer\n",
    "from sklearn.impute import IterativeImputer\n",
    "from sklearn.ensemble import ExtraTreesRegressor\n",
    "from sklearn.impute import MissingIndicator\n",
    "from sklearn.preprocessing import PowerTransformer\n",
    "from sklearn.linear_model import BayesianRidge\n",
    "from sklearn.tree import DecisionTreeRegressor\n",
    "from sklearn.ensemble import ExtraTreesRegressor\n",
    "from sklearn.ensemble import RandomForestRegressor \n",
    "from sklearn.neighbors import KNeighborsRegressor\n",
    "from sklearn.model_selection import cross_val_score\n",
    "from sklearn.model_selection import KFold\n",
    "from sklearn.preprocessing import PowerTransformer\n",
    "from sklearn.preprocessing import MinMaxScaler\n",
    "from sklearn.pipeline import Pipeline\n",
    "from sklearn.metrics import mean_squared_error\n",
    "from sklearn.model_selection import RandomizedSearchCV\n",
    "\n",
    "from sklearn.metrics import mean_squared_error\n",
    "from sklearn.metrics import median_absolute_error\n",
    "from sklearn.metrics import mean_absolute_error #=mean error (Simon 2012)\n",
    "from sklearn.metrics import r2_score\n",
    "from sklearn.metrics import make_scorer\n",
    "from scipy.optimize import minimize\n",
    "\n",
    "from scipy.spatial import distance\n",
    "from sklearn.metrics.pairwise import nan_euclidean_distances\n",
    "\n",
    "from matplotlib.lines import Line2D\n",
    "from matplotlib import rcParams, cycler\n",
    "from sklearn.preprocessing import PowerTransformer\n",
    "\n",
    "import sys\n",
    "from impyute.imputation.cs import fast_knn\n",
    "from impyute.imputation.cs import mice\n",
    "\n",
    "from IPython.core.interactiveshell import InteractiveShell\n",
    "InteractiveShell.ast_node_interactivity = \"all\"\n",
    "%config InlineBackend.figure_format = 'retina'"
   ]
  },
  {
   "cell_type": "code",
   "execution_count": 2,
   "metadata": {},
   "outputs": [],
   "source": [
    "import warnings\n",
    "warnings.filterwarnings(\"ignore\")"
   ]
  },
  {
   "cell_type": "markdown",
   "metadata": {},
   "source": [
    "# Functions"
   ]
  },
  {
   "cell_type": "code",
   "execution_count": 3,
   "metadata": {},
   "outputs": [],
   "source": [
    "def initialize(threshold, start_time):\n",
    "#     PM25 = pd.read_pickle(\"/Users/iditbela/Documents/Broday/saved_data_from_notebooks/PM25\")\n",
    "    PM25 = pd.read_pickle(\"~/Documents/saved_data_from_notebooks/PM25\") #Lab's computer\n",
    "\n",
    "    times = pd.date_range(start=start_time, end='2018-12-31 23:00:00', freq='30Min') #one less because the last is always nan\n",
    "\n",
    "    start_idx = PM25.shape[0]-times.shape[0]\n",
    "\n",
    "    # remove the last index as it is always nan\n",
    "    PM25 = PM25[:-1]\n",
    "    times = times[:-1]\n",
    "\n",
    "    # reduced PM25 \n",
    "    r_PM25 = PM25[start_idx:] \n",
    "    idx = r_PM25.notnull().sum(axis = 0)/r_PM25.shape[0]>threshold\n",
    "    r_PM25 = r_PM25.loc[:, idx]\n",
    "\n",
    "    r_PM25.reset_index(inplace=True)\n",
    "    r_PM25.drop(labels = 'index',axis=1, inplace=True)\n",
    "    \n",
    "    return times, r_PM25"
   ]
  },
  {
   "cell_type": "code",
   "execution_count": 4,
   "metadata": {},
   "outputs": [],
   "source": [
    "# create a np_array np_y_missing, fill the np_y_missing with values where the validation\n",
    "# indexes are chosen. \n",
    "# randomly choose chunks of certain size\n",
    "def get_validation_index(PM25, interval_length, s, how_many, total_excude):    \n",
    "    \n",
    "    # find all valid indexes\n",
    "    pot_idx = np.argwhere((PM25.iloc[:,s].notnull().rolling(interval_length,min_periods=0).sum()>(interval_length-interval_length/100)).values).ravel()\n",
    "    # in case the last index is at the end\n",
    "    if (pot_idx[-1] == PM25.shape[0]-1):\n",
    "        pot_idx=pot_idx[:-1]\n",
    "        \n",
    "    chosen_idx = pot_idx[(~np.isnan(PM25.iloc[pot_idx-interval_length,s].values)) & (~np.isnan(PM25.iloc[pot_idx+1,s].values)) & (pot_idx>=interval_length)]\n",
    "    # exclude places I already took for validation of that station\n",
    "    # make sure chosen_idx is non in these places or \n",
    "    chosen_idx=[x for x in chosen_idx if ((not total_excude[x]) and (not total_excude[x-interval_length]))]\n",
    "\n",
    "    # randomly choose it\n",
    "    chosen = np.random.choice(chosen_idx,how_many,replace=False)+1\n",
    "\n",
    "    return (chosen-interval_length,chosen)"
   ]
  },
  {
   "cell_type": "code",
   "execution_count": 5,
   "metadata": {},
   "outputs": [],
   "source": [
    "# a function that returns X_missing, y_missing (splits the data according to Interval Length(IL))\n",
    "def return_X_y(PM25,IL):\n",
    " \n",
    "    X_missing = PM25.copy()\n",
    "    y_missing = PM25.copy() \n",
    "\n",
    "    np_r_PM25_y_mask = PM25.copy().values\n",
    "    np_r_PM25_y_mask[:] = 0\n",
    "    \n",
    "    for s in tqdm(range(np_r_PM25_y_mask.shape[1])):\n",
    "        \n",
    "        total_excude = np.zeros(np_r_PM25_y_mask.shape[0])\n",
    "        for j in range(len(IL)):\n",
    "        \n",
    "            interval_length = int(IL[j]*2)\n",
    "            how_many = int(720/IL[j])\n",
    "            A,B = get_validation_index(PM25, interval_length, s, how_many, total_excude)\n",
    "            for a,b in zip(A,B):\n",
    "                total_excude[a:b] = 1\n",
    "                np_r_PM25_y_mask[a:b,s] = -(j+1)  \n",
    "\n",
    "    # ITERATE HERE AGAIN FOR j TIMES, TO GET FOR EACH\n",
    "    # COLUMN j GROUPS OF DESIRED INTERVAL LENGTH FOR EVALUATION.\n",
    "    # (maybe -1 to -j...)        \n",
    "                      \n",
    "    # y_missing \n",
    "    y_missing.iloc[:] = np.nan\n",
    "    np_y_missing = y_missing.values\n",
    "    np_X_missing = X_missing.values\n",
    "\n",
    "    # put in np_y_missing \n",
    "    np_X_missing_copy = np_X_missing.copy()\n",
    "    \n",
    "    for j in range(len(IL)):\n",
    "        np_y_missing[np_r_PM25_y_mask==-(j+1)]=np_X_missing_copy[np_r_PM25_y_mask==-(j+1)]\n",
    "        # X_missing\n",
    "        np_X_missing[np_r_PM25_y_mask==-(j+1)]=np.nan\n",
    "    \n",
    "    return np_X_missing, np_y_missing, np_r_PM25_y_mask"
   ]
  },
  {
   "cell_type": "code",
   "execution_count": 6,
   "metadata": {},
   "outputs": [],
   "source": [
    "# a function that returns X_missing, y_missing that are randomly spread\n",
    "# (instead of chunks. just for comparison)\n",
    "def return_randomly_spread_X_y(PM25,IL):\n",
    " \n",
    "    X_missing = PM25.copy()\n",
    "    y_missing = PM25.copy() \n",
    "    \n",
    "    np_PM25 = PM25.values\n",
    "    \n",
    "    not_nan_idx = np.argwhere(PM25.notnull().values)    \n",
    "    test_index = np.random.choice(not_nan_idx.shape[0],IL)\n",
    "        \n",
    "    # y_missing \n",
    "    y_missing.iloc[:] = np.nan\n",
    "    np_y_missing = y_missing.values\n",
    "\n",
    "    # asssign values according to test indexes\n",
    "    rows, cols = zip(*not_nan_idx[test_index])\n",
    "    vals = np_PM25[rows, cols]\n",
    "    np_y_missing[rows, cols] = vals\n",
    "\n",
    "    # X_missing\n",
    "    # assign nans according to test indexes\n",
    "    np_X_missing = X_missing.values\n",
    "    np_X_missing[rows, cols] = np.nan\n",
    "\n",
    "    return np_X_missing, np_y_missing"
   ]
  },
  {
   "cell_type": "code",
   "execution_count": 7,
   "metadata": {},
   "outputs": [],
   "source": [
    "# a function that imputes for each of the methods\n",
    "\n",
    "def impute_ii_BR(np_X_missing, num_iter):\n",
    "    imp = IterativeImputer(max_iter=num_iter,estimator=BayesianRidge(),verbose=True) \n",
    "    imp.fit(np_X_missing)\n",
    "    imputed = imp.transform(np_X_missing) \n",
    "    return imputed\n",
    "\n",
    "def impute_ii_RF(np_X_missing, num_iter, rnd_state_forRF, params):\n",
    "#     n_jobs=-1 # add to ExtraTreesRegressor if I want all cores. \n",
    "    if params['max_depth'] is None:\n",
    "        md = None\n",
    "    else:\n",
    "        md = int(params['max_depth'])\n",
    "    imp = IterativeImputer(max_iter=num_iter,\n",
    "                           estimator=ExtraTreesRegressor(n_estimators=int(params['n_estimators']),\n",
    "                                                         bootstrap=params['bootstrap'],\n",
    "                                                         max_depth=md, \n",
    "                                                         max_features=params['max_features'],\n",
    "                                                         min_samples_leaf=int(params['min_samples_leaf']),\n",
    "                                                         min_samples_split=int(params['min_samples_split']),\n",
    "                                                         random_state=rnd_state_forRF,\n",
    "                                                         n_jobs=-1\n",
    "                                                        ),\n",
    "                           verbose=True) \n",
    "    imp.fit(np_X_missing)\n",
    "    imputed = imp.transform(np_X_missing)  \n",
    "    return imputed\n",
    "\n",
    "def impute_ii_KNN(np_X_missing, num_iter, num_neighbors, weight_type): #'uniform','distance'\n",
    "#     n_jobs=-1 # add to KNeighborsRegressor if I want all cores. \n",
    "    imp = IterativeImputer(max_iter=num_iter,estimator=KNeighborsRegressor(n_neighbors=num_neighbors,weights=weight_type,n_jobs=-1),verbose=True) \n",
    "    imp.fit(np_X_missing)\n",
    "    imputed = imp.transform(np_X_missing)     \n",
    "    return imputed\n",
    "\n",
    "def impute_my_KNN(np_X_missing, k):\n",
    "\n",
    "    imputed = np_X_missing.copy() \n",
    "    all_data_mask_nans = imputed.copy()\n",
    "    mask_nans = np.isnan(imputed)\n",
    "    all_data_mask_nans[mask_nans]=0\n",
    "\n",
    "    batch_size = 300\n",
    "    not_nan_mask = 1-np.isnan(np_X_missing).astype(int)\n",
    "    # all_data_norm = all_data_mask_nans / np.linalg.norm(all_data_mask_nans,axis=1)[:,np.newaxis] # normalize BY norm\n",
    "    all_data_norm = np_X_missing / np.nanstd(np_X_missing, axis=0) # normalize BY norm \n",
    "\n",
    "\n",
    "    np_corrMatrix = pd.DataFrame(imputed).corr().values\n",
    "    \n",
    "    for cind in tqdm(range(np_X_missing.shape[1])): #tqdm(range(np_X_missing.shape[1]-33)) #range(34,int(np_X_missing.shape[1]/3)+1) #+1=AFULA, +34=all \n",
    "        nan_column_mask = np.isnan(np_X_missing[:,cind])\n",
    "        not_nan_column_mask = np.logical_not(nan_column_mask)\n",
    "\n",
    "        not_nan_in_colom_all_data_norm = all_data_norm[not_nan_column_mask, :]*np_corrMatrix[:,cind]\n",
    "\n",
    "        not_nan_not_nan_mask = not_nan_mask[not_nan_column_mask, :] #relevant rows for this column (not nan)\n",
    "\n",
    "        not_nan_column = np_X_missing[not_nan_column_mask,cind]    \n",
    "        nan_ind = np.argwhere(nan_column_mask)\n",
    "        \n",
    "        for i in tqdm(range(0, len(nan_ind), batch_size), leave=False):\n",
    "            rinds = np.ravel(nan_ind[i:i+batch_size])\n",
    "            batch = all_data_norm[rinds, :]*np_corrMatrix[:,cind]\n",
    "\n",
    "            batch_non_nan_mask = not_nan_mask[rinds, :]\n",
    "            counts = np.dot(not_nan_not_nan_mask, batch_non_nan_mask.T)\n",
    "\n",
    "            dists = nan_euclidean_distances(not_nan_in_colom_all_data_norm, batch)\n",
    "\n",
    "            weights = counts/dists\n",
    "            min_thr = np.partition(weights,-(k+1),axis=0)[-(k+1),:]\n",
    "            weights = weights-min_thr\n",
    "            # !If all the coordinates are missing or if there are no common present coordinates then NaN is returned in dists for that pair!\n",
    "            weights[(weights<0) | (np.isnan(weights))] = 0\n",
    "            weights = weights / weights.sum(axis=0)\n",
    "\n",
    "            values = np.dot(weights.T, not_nan_column)\n",
    "            imputed[rinds, cind] = values\n",
    "            \n",
    "    return imputed\n",
    "    "
   ]
  },
  {
   "cell_type": "code",
   "execution_count": 9,
   "metadata": {},
   "outputs": [],
   "source": [
    "# results = []\n",
    "\n",
    "# for j in range(len(IL)):\n",
    "#     y_train = np_y_missing[(~np.isnan(np_y_missing)) & (np_r_PM25_y_mask==-(j+1))]\n",
    "#     y_pred = imputed[(~np.isnan(np_y_missing)) & (np_r_PM25_y_mask==-(j+1))]           \n",
    "\n",
    "#     # assign results\n",
    "#     RMSE = np.sqrt(mean_squared_error(y_train, y_pred))\n",
    "#     MedianAE = median_absolute_error(y_train, y_pred)\n",
    "#     MeanAE = mean_absolute_error(y_train,y_pred)\n",
    "#     R2 = r2_score(y_train,y_pred)\n",
    "#     MeanBias = np.mean(y_pred - y_train) #if positive, we overestimate, if negative we underestimate\n",
    "#     MedianBias = np.median(y_pred - y_train) #if positive, we overestimate, if negative we underestimate\n",
    "#     NMB = np.sum(y_pred - y_train)/(np.sum(y_train))# Normalized mean bias\n",
    "#     NME = np.sum(np.abs(y_pred - y_train))/(np.sum(y_train))# Normalized mean error\n",
    "\n",
    "#     results.append([IL[j],RMSE,MedianAE,MeanAE,R2,MeanBias,MedianBias,NMB,NME])\n"
   ]
  },
  {
   "cell_type": "code",
   "execution_count": 10,
   "metadata": {},
   "outputs": [],
   "source": [
    "# a function that cumputes validation results\n",
    "\n",
    "def validate(imputed, np_y_missing, np_r_PM25_y_mask, IL):\n",
    "                           \n",
    "    all_y_train = np_y_missing[~np.isnan(np_y_missing)]\n",
    "    all_y_pred = imputed[~np.isnan(np_y_missing)]\n",
    "    \n",
    "#     if np.isnan(y_pred).sum():\n",
    "#         y_train = y_train[~np.isnan(y_pred)]\n",
    "#         y_pred = y_pred[~np.isnan(y_pred)]\n",
    "#         print('nan values detected in imputed matrix')\n",
    "    results = []\n",
    "      \n",
    "    # assign results\n",
    "    RMSE = np.sqrt(mean_squared_error(all_y_train, all_y_pred))\n",
    "    MedianAE = median_absolute_error(all_y_train, all_y_pred)\n",
    "    MeanAE = mean_absolute_error(all_y_train,all_y_pred)\n",
    "    R2 = r2_score(all_y_train,all_y_pred)\n",
    "    MeanBias = np.mean(all_y_pred - all_y_train) #if positive, we overestimate, if negative we underestimate\n",
    "    MedianBias = np.median(all_y_pred - all_y_train) #if positive, we overestimate, if negative we underestimate\n",
    "    NMB = np.sum(all_y_pred - all_y_train)/(np.sum(all_y_train))# Normalized mean bias\n",
    "    NME = np.sum(np.abs(all_y_pred - all_y_train))/(np.sum(all_y_train))# Normalized mean error\n",
    "\n",
    "    results.append(['ALL',RMSE,MedianAE,MeanAE,R2,MeanBias,MedianBias,NMB,NME])\n",
    "         \n",
    "    for j in range(len(IL)):\n",
    "        y_train = np_y_missing[(~np.isnan(np_y_missing)) & (np_r_PM25_y_mask==-(j+1))]\n",
    "        y_pred = imputed[(~np.isnan(np_y_missing)) & (np_r_PM25_y_mask==-(j+1))]           \n",
    "             \n",
    "        # assign results\n",
    "        RMSE = np.sqrt(mean_squared_error(y_train, y_pred))\n",
    "        MedianAE = median_absolute_error(y_train, y_pred)\n",
    "        MeanAE = mean_absolute_error(y_train,y_pred)\n",
    "        R2 = r2_score(y_train,y_pred)\n",
    "        MeanBias = np.mean(y_pred - y_train) #if positive, we overestimate, if negative we underestimate\n",
    "        MedianBias = np.median(y_pred - y_train) #if positive, we overestimate, if negative we underestimate\n",
    "        NMB = np.sum(y_pred - y_train)/(np.sum(y_train))# Normalized mean bias\n",
    "        NME = np.sum(np.abs(y_pred - y_train))/(np.sum(y_train))# Normalized mean error\n",
    "\n",
    "        results.append([IL[j],RMSE,MedianAE,MeanAE,R2,MeanBias,MedianBias,NMB,NME])\n",
    "       \n",
    "    results = pd.DataFrame(results, columns=['IL','RMSE','MedianAE','MeanAE','R2','MeanBias','MedianBias','NMB','NME'])   \n",
    "    return results\n",
    "\n",
    "\n",
    "\n",
    "def simple_validation(imputed, np_y_missing):\n",
    "    y_train = np_y_missing[~np.isnan(np_y_missing)]\n",
    "    y_pred = imputed[~np.isnan(np_y_missing)]\n",
    "    \n",
    "    if np.isnan(y_pred).sum():\n",
    "        y_train = y_train[~np.isnan(y_pred)]\n",
    "        y_pred = y_pred[~np.isnan(y_pred)]\n",
    "        print('nan values detected in imputed matrix')\n",
    "      \n",
    "    # assign results\n",
    "    RMSE = np.sqrt(mean_squared_error(y_train, y_pred))\n",
    "    MedianAE = median_absolute_error(y_train, y_pred)\n",
    "    MeanAE = mean_absolute_error(y_train,y_pred)\n",
    "    R2 = r2_score(y_train,y_pred)\n",
    "    MeanBias = np.mean(y_pred - y_train) #if positive, we overestimate, if negative we underestimate\n",
    "    MedianBias = np.median(y_pred - y_train) #if positive, we overestimate, if negative we underestimate\n",
    "    NMB = np.sum(y_pred - y_train)/(np.sum(y_train))# Normalized mean bias\n",
    "    NME = np.sum(np.abs(y_pred - y_train))/(np.sum(y_train))# Normalized mean error\n",
    "\n",
    "    results = [RMSE,MedianAE,MeanAE,R2,MeanBias,MedianBias,NMB,NME]\n",
    "    \n",
    "    return results\n"
   ]
  },
  {
   "cell_type": "code",
   "execution_count": 11,
   "metadata": {},
   "outputs": [],
   "source": [
    "def plot_hist(PM25, imputed, np_X_missing, density,no_bins,option):\n",
    "#     # option-1\n",
    "    if option=='1':\n",
    "        plt.hist([PM25[~np.isnan(PM25)], np_X_missing[~np.isnan(np_X_missing)], imputed[np.isnan(np_X_missing)]],bins=1000,label=['original PM25','original X','imputed'],density=True)\n",
    "    if option=='2':\n",
    "        plt.hist(PM25[~np.isnan(PM25)],bins=no_bins,label=['original PM25'],alpha=0.3,density=density) #,edgecolor=\"k\"\n",
    "        plt.hist(np_X_missing[~np.isnan(np_X_missing)],bins=no_bins,label=['original X'],alpha=0.3,density=density)\n",
    "        plt.hist(imputed[np.isnan(np_X_missing)],bins=no_bins,label=['imputed'],alpha=0.3,density=density)\n",
    "    plt.xlim([-20,100])\n",
    "    plt.legend()\n",
    "    plt.show();"
   ]
  },
  {
   "cell_type": "code",
   "execution_count": 12,
   "metadata": {},
   "outputs": [],
   "source": [
    "# a function for box plots for results\n"
   ]
  },
  {
   "cell_type": "code",
   "execution_count": 13,
   "metadata": {},
   "outputs": [],
   "source": [
    "# statistics functions\n",
    "def get_nan_lengths(PM25,nanLengths):\n",
    "    \n",
    "    if nanLengths:\n",
    "        PM25[PM25.notnull()] = 1\n",
    "        PM25[PM25.isnull()] = 0\n",
    "    else:\n",
    "        PM25[PM25.notnull()] = 0\n",
    "        PM25[PM25.isnull()] = 1\n",
    "        \n",
    "    diffs = PM25.diff(axis = 0)\n",
    "\n",
    "    missing_interval_lengths = []\n",
    "\n",
    "    for monitor in range(PM25.shape[1]):\n",
    "\n",
    "        #begining\n",
    "        if PM25.iloc[0,monitor]==0:\n",
    "            diffs.iloc[0,monitor]=-1\n",
    "\n",
    "        #end\n",
    "        if PM25.iloc[-1,monitor]==0:\n",
    "            diffs.iloc[-1,monitor]=1\n",
    "\n",
    "        row_start = np.where(diffs.iloc[:,monitor] == -1)[0]\n",
    "        row_end = np.where(diffs.iloc[:,monitor] == 1)[0]\n",
    "\n",
    "        xranges = list(list(zip(row_start,row_end-row_start)))\n",
    "        missing_interval_lengths.extend(row_end-row_start)\n",
    "\n",
    "    return missing_interval_lengths\n",
    "\n",
    "\n",
    "def plot_nan_lengths_dist(missing_interval_lengths):\n",
    "     \n",
    "    data = [i*30/60 for i in missing_interval_lengths]#in hours\n",
    "    _, bins = np.histogram(np.log10(data), bins='auto')\n",
    "\n",
    "    # bins are unequal in width in a way that would make them look equal on a logarithmic scale.\n",
    "    # matplotlib histogram\n",
    "    plt.hist(data, color = 'blue',bins=10**bins)\n",
    "    plt.gca().set_xscale(\"log\")\n",
    "\n",
    "    plt.title('distribution of length of \\nmissing data intervals, by count')\n",
    "    plt.xlabel('Interval length [hours]')\n",
    "    plt.ylabel('Percentage [%]\\n')\n",
    "    plt.yticks(ticks=np.arange(0,len(missing_interval_lengths),np.floor(len(missing_interval_lengths)/10)),labels=np.round(100*np.arange(0,len(missing_interval_lengths),np.floor(len(missing_interval_lengths)/10))/len(data),1))\n",
    "    \n",
    "    # plt.ylim(0,1000)\n",
    "    # plt.xlim(0,100)\n",
    "    plt.tight_layout()\n",
    "    plt.rcParams.update({'font.size': 14})\n",
    "\n",
    "    plt.show();\n",
    "    \n",
    "def plot_nan_lengths_cum_dist(missing_interval_lengths):    \n",
    "    # pd.Series(missing_interval_lengths).hist(weights=missing_interval_lengths, bins=100, cumulative=True)\n",
    "    a,b = np.histogram(missing_interval_lengths,weights=missing_interval_lengths, bins=np.max(missing_interval_lengths))\n",
    "    plt.plot(a.cumsum()/np.sum(a));\n",
    "    plt.plot(np.ones(np.max(missing_interval_lengths))*0.5,'r');\n"
   ]
  },
  {
   "cell_type": "markdown",
   "metadata": {},
   "source": [
    "### initialize"
   ]
  },
  {
   "cell_type": "code",
   "execution_count": 64,
   "metadata": {},
   "outputs": [],
   "source": [
    "threshold = 0.6 # how much non-missing values are in the time-series in order to include the station?\n",
    "start_time = '2013-01-01 00:00:00'\n",
    "times, r_PM25 = initialize(threshold, start_time)"
   ]
  },
  {
   "cell_type": "code",
   "execution_count": 67,
   "metadata": {},
   "outputs": [],
   "source": [
    "# times_df = pd.DataFrame(times)\n",
    "# times_df.to_csv(\"~/Documents/saved_data_from_notebooks/times_df.csv\")"
   ]
  },
  {
   "cell_type": "markdown",
   "metadata": {},
   "source": [
    "# (0) compare with other methods\n",
    "\n",
    "https://towardsdatascience.com/6-different-ways-to-compensate-for-missing-values-data-imputation-with-examples-6022d9ca0779"
   ]
  },
  {
   "cell_type": "code",
   "execution_count": 39,
   "metadata": {},
   "outputs": [],
   "source": []
  },
  {
   "cell_type": "code",
   "execution_count": null,
   "metadata": {},
   "outputs": [],
   "source": [
    "# fast KNN (with KDE)"
   ]
  },
  {
   "cell_type": "code",
   "execution_count": null,
   "metadata": {},
   "outputs": [],
   "source": [
    "# sys.setrecursionlimit(100000) #Increase the recursion limit of the OS\n",
    "\n",
    "# start the KNN training\n",
    "imputed_training=fast_knn(r_PM25.values, k=10)"
   ]
  },
  {
   "cell_type": "code",
   "execution_count": null,
   "metadata": {},
   "outputs": [],
   "source": [
    "# MICE"
   ]
  },
  {
   "cell_type": "code",
   "execution_count": null,
   "metadata": {},
   "outputs": [],
   "source": [
    "imputed_training=mice(r_PM25.values)"
   ]
  },
  {
   "cell_type": "markdown",
   "metadata": {},
   "source": [
    "# (1) model selection by 3-fold CV (hyperparameter tunning)"
   ]
  },
  {
   "cell_type": "code",
   "execution_count": null,
   "metadata": {},
   "outputs": [],
   "source": [
    "\n",
    "# first find optimal parameters with only 1 iteration, then optimize for number of iterations. \n",
    "# Possibly - the number of iterations are related to the data of validation... so not sure I \n",
    "# could find something"
   ]
  },
  {
   "cell_type": "code",
   "execution_count": null,
   "metadata": {},
   "outputs": [],
   "source": [
    "# hyperParams\n",
    "# RF - number of trees (probably the more the better)\n",
    "# KNN - number of neighbors, distance method \n",
    "# myKNN - number of neighbors\n",
    "\n",
    "# in IterativeImputer - the method of initial imputation - mean/median..."
   ]
  },
  {
   "cell_type": "code",
   "execution_count": null,
   "metadata": {},
   "outputs": [],
   "source": [
    "# CV is needed here to ensure that the decision is done after seeing the whole data. \n",
    "# \"Under cross validation, each point gets tested exactly once, which seems fair. \n",
    "# However, cross-validation only explores a few of the possible ways that your data \n",
    "# could have been partitioned. Monte Carlo cross validation can give you a less variable, \n",
    "# but more biased estimate\"\n",
    "# https://stats.stackexchange.com/questions/51416/k-fold-vs-monte-carlo-cross-validation"
   ]
  },
  {
   "cell_type": "markdown",
   "metadata": {},
   "source": [
    "##### Hyperparameters"
   ]
  },
  {
   "cell_type": "code",
   "execution_count": 255,
   "metadata": {},
   "outputs": [],
   "source": [
    "rnd_state_forCV = 0\n",
    "rnd_state_forRF = 0"
   ]
  },
  {
   "cell_type": "markdown",
   "metadata": {},
   "source": [
    "#### GridSearchCV manually"
   ]
  },
  {
   "cell_type": "code",
   "execution_count": 318,
   "metadata": {},
   "outputs": [
    {
     "data": {
      "text/plain": [
       "105"
      ]
     },
     "execution_count": 318,
     "metadata": {},
     "output_type": "execute_result"
    },
    {
     "data": {
      "text/plain": [
       "40"
      ]
     },
     "execution_count": 318,
     "metadata": {},
     "output_type": "execute_result"
    }
   ],
   "source": [
    "# random forest\n",
    "# https://towardsdatascience.com/hyperparameter-tuning-the-random-forest-in-python-using-scikit-learn-28d2aa77dd74\n",
    "\n",
    "num_trees = np.arange(10,220,30) #[200, 400, 600, 800, 1000, 1200, 1400, 1600, 1800, 2000]\n",
    "min_samples_split = np.arange(2,52,10) #[2, 5, 10] - maybe do a finer resolution\n",
    "max_features = ['auto', 'sqrt', 'log2']\n",
    "\n",
    "# # possibly add-\n",
    "# max_depth = [10, 20, 30, 40, 50, 60, 70, 80, 90, 100, None]\n",
    "# bootstrap = [True, False]\n",
    "# min_samples_leaf = [1, 2, 4]\n",
    "# Hyperparameters of RF \n",
    "# # Number of trees in random forest\n",
    "# n_estimators = [int(x) for x in range(10,420,30)]\n",
    "# # Number of features to consider at every split\n",
    "# max_features = ['auto', 'sqrt', 'log2']\n",
    "# # Maximum number of levels in tree\n",
    "# max_depth = [int(x) for x in np.linspace(10, 110, num = 11)]\n",
    "# # max_depth.append(None)\n",
    "# # Minimum number of samples required to split a node\n",
    "# min_samples_split = [2, 5, 10]\n",
    "# # Minimum number of samples required at each leaf node\n",
    "# min_samples_leaf = [1, 2, 4]\n",
    "# # Method of selecting samples for training each tree\n",
    "# bootstrap = [True, False]\n",
    "\n",
    "len(num_trees)*len(min_samples_split)*len(max_features)\n",
    "\n",
    "# knn\n",
    "knn_k = np.arange(1,21)\n",
    "weight_type = ['uniform','distance']\n",
    "len(knn_k)*len(weight_type)"
   ]
  },
  {
   "cell_type": "code",
   "execution_count": 505,
   "metadata": {},
   "outputs": [],
   "source": [
    "def cv_Kfolds(PM25,k):\n",
    "    \n",
    "    kf = KFold(n_splits=k, random_state=rnd_state_forCV, shuffle=True)\n",
    "    not_nan_idx = np.argwhere(PM25.notnull().values)\n",
    "    \n",
    "    for k, (train_index, test_index) in enumerate(kf.split(not_nan_idx)):\n",
    "        \n",
    "        # (1) split to X and y       \n",
    "        np_PM25 = PM25.values\n",
    "        X_missing = PM25.copy()\n",
    "        y_missing = PM25.copy()\n",
    "\n",
    "        # y_missing \n",
    "        y_missing.iloc[:] = np.nan\n",
    "        np_y_missing = y_missing.values\n",
    "\n",
    "        # asssign values according to test indexes\n",
    "        rows, cols = zip(*not_nan_idx[test_index])\n",
    "        vals = np_PM25[rows, cols]\n",
    "        np_y_missing[rows, cols] = vals\n",
    "        # turn back to dataframe\n",
    "#         y_missing = pd.DataFrame(np_y_missing,columns=PM25.columns)\n",
    "\n",
    "        # X_missing\n",
    "        # assign nans according to test indexes\n",
    "        np_X_missing = X_missing.values\n",
    "        np_X_missing[rows, cols] = np.nan\n",
    "        \n",
    "        # (2) fit all possible models\n",
    "        num_iter = 1\n",
    "        #### IterativeImputer Random Forest ####\n",
    "        results_RF_cv = []\n",
    "        cnt = 0\n",
    "        for nt in num_trees:\n",
    "            for mss in min_samples_split:\n",
    "                for mf in max_features:\n",
    "                    # impute\n",
    "                  \n",
    "                    # !!!! notice I changed impute_ii_RF!!!!\n",
    "                    \n",
    "                    imputed = impute_ii_RF(np_X_missing, num_iter, int(nt), rnd_state_forRF, int(mss), mf)\n",
    "                    # validate\n",
    "                    print(imputed.shape(), np_y_missing.shape())\n",
    "                    temp = simple_validation(imputed, np_y_missing)\n",
    "                    temp.extend([nt,mss,mf])\n",
    "                    cnt+=1\n",
    "                    print(cnt)\n",
    "                    print(temp)\n",
    "                    results_RF_cv.append(temp)\n",
    "     \n",
    "        # (3) save results\n",
    "        results_RF_cv = pd.DataFrame(results_RF_cv, columns=['RMSE','MedianAE','MeanAE','R2','MeanBias','MedianBias','NMB','NME','num_trees','min_samples_split','max_features'])   \n",
    "        results_RF_cv.to_pickle(\"~/Documents/saved_data_from_notebooks/results_RF_cv_\"+str(k))\n"
   ]
  },
  {
   "cell_type": "code",
   "execution_count": 316,
   "metadata": {},
   "outputs": [
    {
     "name": "stdout",
     "output_type": "stream",
     "text": [
      "[IterativeImputer] Completing matrix with shape (105166, 34)\n",
      "[IterativeImputer] Change: 9189.18577396376, scaled tolerance: 1.6975 \n",
      "[IterativeImputer] Completing matrix with shape (105166, 34)\n",
      "1\n",
      "[10.73398108136534, 4.330000000000002, 6.171498820585852, 0.7901811157796121, 0.11891455114639846, 0.6400000000000006, 0.005998635035860753, 0.3113207651380085, 10, 2, 'auto']\n",
      "[IterativeImputer] Completing matrix with shape (105166, 34)\n",
      "[IterativeImputer] Change: 8929.511067470366, scaled tolerance: 1.6975 \n",
      "[IterativeImputer] Completing matrix with shape (105166, 34)\n",
      "2\n",
      "[11.053118578242012, 4.399999999999999, 6.255209460373274, 0.7775191779575733, 0.01935769662206241, 0.6699999999999946, 0.0009764974601611976, 0.3155435416768102, 10, 2, 'sqrt']\n",
      "[IterativeImputer] Completing matrix with shape (105166, 34)\n",
      "[IterativeImputer] Change: 8929.511067470366, scaled tolerance: 1.6975 \n",
      "[IterativeImputer] Completing matrix with shape (105166, 34)\n",
      "3\n",
      "[11.053118578242012, 4.399999999999999, 6.255209460373274, 0.7775191779575733, 0.01935769662206239, 0.6699999999999946, 0.0009764974601611967, 0.3155435416768102, 10, 2, 'log2']\n",
      "[IterativeImputer] Completing matrix with shape (105166, 34)\n",
      "[IterativeImputer] Change: 9586.2194008037, scaled tolerance: 1.6975 \n",
      "[IterativeImputer] Completing matrix with shape (105166, 34)\n",
      "4\n",
      "[10.592014301704324, 4.303333333333335, 6.1299254496226405, 0.7956945089514448, 0.1046124175934913, 0.6433333333333344, 0.005277165050977184, 0.3092235997598897, 10, 4, 'auto']\n",
      "[IterativeImputer] Completing matrix with shape (105166, 34)\n",
      "[IterativeImputer] Change: 9246.339107297095, scaled tolerance: 1.6975 \n",
      "[IterativeImputer] Completing matrix with shape (105166, 34)\n",
      "5\n",
      "[10.873245851978988, 4.3383333333333365, 6.181410883294348, 0.7847013345103856, 0.010795396837393308, 0.6700000000000017, 0.0005445729313234612, 0.3118207783497443, 10, 4, 'sqrt']\n",
      "[IterativeImputer] Completing matrix with shape (105166, 34)\n",
      "[IterativeImputer] Change: 9246.339107297095, scaled tolerance: 1.6975 \n",
      "[IterativeImputer] Completing matrix with shape (105166, 34)\n",
      "6\n",
      "[10.873245851978988, 4.3383333333333365, 6.181410883294348, 0.7847013345103856, 0.010795396837393348, 0.6700000000000017, 0.0005445729313234632, 0.3118207783497443, 10, 4, 'log2']\n",
      "[IterativeImputer] Completing matrix with shape (105166, 34)\n",
      "[IterativeImputer] Change: 10673.589961100435, scaled tolerance: 1.4641 \n",
      "[IterativeImputer] Completing matrix with shape (105166, 34)\n",
      "1\n",
      "[10.484293722977615, 4.329999999999999, 6.137108018822894, 0.793823609308739, 0.0763099750990469, 0.620000000000001, 0.003846574452918713, 0.3093546143786065, 10, 2, 'auto']\n",
      "[IterativeImputer] Completing matrix with shape (105166, 34)\n",
      "[IterativeImputer] Change: 9720.779961100436, scaled tolerance: 1.4641 \n",
      "[IterativeImputer] Completing matrix with shape (105166, 34)\n",
      "2\n",
      "[10.899247390836386, 4.4, 6.242342439816066, 0.7771802952836465, -0.014090379321866651, 0.6499999999999995, -0.0007102569888284933, 0.3146591900233322, 10, 2, 'sqrt']\n",
      "[IterativeImputer] Completing matrix with shape (105166, 34)\n",
      "[IterativeImputer] Change: 9720.779961100436, scaled tolerance: 1.4641 \n",
      "[IterativeImputer] Completing matrix with shape (105166, 34)\n",
      "3\n",
      "[10.899247390836386, 4.4, 6.242342439816066, 0.7771802952836465, -0.014090379321866664, 0.6499999999999986, -0.000710256988828494, 0.3146591900233322, 10, 2, 'log2']\n",
      "[IterativeImputer] Completing matrix with shape (105166, 34)\n",
      "[IterativeImputer] Change: 10965.9866277671, scaled tolerance: 1.4641 \n",
      "[IterativeImputer] Completing matrix with shape (105166, 34)\n",
      "4\n",
      "[10.600416382191469, 4.298333333333332, 6.107444335828736, 0.7892311514412835, 0.054481599747012686, 0.6133333333333297, 0.002746266519796297, 0.30785935029240147, 10, 4, 'auto']\n",
      "[IterativeImputer] Completing matrix with shape (105166, 34)\n",
      "[IterativeImputer] Change: 9782.373294433768, scaled tolerance: 1.4641 \n",
      "[IterativeImputer] Completing matrix with shape (105166, 34)\n",
      "5\n",
      "[10.801474750773522, 4.339999999999999, 6.157526525216523, 0.7811600114768376, -0.020561057057391512, 0.6599999999999984, -0.00103642592858026, 0.3103838547231165, 10, 4, 'sqrt']\n",
      "[IterativeImputer] Completing matrix with shape (105166, 34)\n",
      "[IterativeImputer] Change: 9782.373294433768, scaled tolerance: 1.4641 \n",
      "[IterativeImputer] Completing matrix with shape (105166, 34)\n",
      "6\n",
      "[10.801474750773522, 4.34, 6.157526525216523, 0.7811600114768376, -0.020561057057391505, 0.6599999999999984, -0.0010364259285802597, 0.3103838547231165, 10, 4, 'log2']\n",
      "[IterativeImputer] Completing matrix with shape (105166, 34)\n",
      "[IterativeImputer] Change: 9340.981371620088, scaled tolerance: 1.6975 \n",
      "[IterativeImputer] Completing matrix with shape (105166, 34)\n",
      "1\n",
      "[10.705230081015474, 4.3199999999999985, 6.155014513968514, 0.7921854006850889, 0.08445984070931987, 0.620000000000001, 0.004255206558689351, 0.31009836045993033, 10, 2, 'auto']\n",
      "[IterativeImputer] Completing matrix with shape (105166, 34)\n",
      "[IterativeImputer] Change: 8593.64137162009, scaled tolerance: 1.6975 \n",
      "[IterativeImputer] Completing matrix with shape (105166, 34)\n",
      "2\n",
      "[11.013204204218273, 4.390000000000001, 6.249436873932834, 0.7800563507723826, 0.004688822305070802, 0.6600000000000001, 0.0002362295175731319, 0.3148554928678625, 10, 2, 'sqrt']\n",
      "[IterativeImputer] Completing matrix with shape (105166, 34)\n",
      "[IterativeImputer] Change: 8593.64137162009, scaled tolerance: 1.6975 \n",
      "[IterativeImputer] Completing matrix with shape (105166, 34)\n",
      "3\n",
      "[11.013204204218273, 4.390000000000001, 6.249436873932834, 0.7800563507723826, 0.0046888223050707955, 0.6600000000000001, 0.00023622951757313156, 0.3148554928678625, 10, 2, 'log2']\n",
      "[IterativeImputer] Completing matrix with shape (105166, 34)\n",
      "[IterativeImputer] Change: 9060.751371620088, scaled tolerance: 1.6975 \n",
      "[IterativeImputer] Completing matrix with shape (105166, 34)\n",
      "4\n",
      "[10.656850296881966, 4.299999999999999, 6.121443890426414, 0.7940594953042953, 0.07705743997926244, 0.6316666666666659, 0.003882263111578262, 0.308407024834905, 10, 4, 'auto']\n",
      "[IterativeImputer] Completing matrix with shape (105166, 34)\n",
      "[IterativeImputer] Change: 8710.948038286755, scaled tolerance: 1.6975 \n",
      "[IterativeImputer] Completing matrix with shape (105166, 34)\n",
      "5\n",
      "[10.914627066742804, 4.340000000000002, 6.1717176188672, 0.7839760787268159, -0.004089370709992765, 0.6600000000000001, -0.00020602829605092054, 0.31093988657362476, 10, 4, 'sqrt']\n",
      "[IterativeImputer] Completing matrix with shape (105166, 34)\n",
      "[IterativeImputer] Change: 8710.948038286755, scaled tolerance: 1.6975 \n",
      "[IterativeImputer] Completing matrix with shape (105166, 34)\n",
      "6\n",
      "[10.914627066742804, 4.340000000000002, 6.1717176188672, 0.7839760787268157, -0.004089370709992795, 0.6600000000000001, -0.00020602829605092198, 0.31093988657362476, 10, 4, 'log2']\n"
     ]
    }
   ],
   "source": [
    "cv_Kfolds(r_PM25,k=3)"
   ]
  },
  {
   "cell_type": "markdown",
   "metadata": {},
   "source": [
    "#### RandomSearchCV not suitable, use instead Hyperopt"
   ]
  },
  {
   "cell_type": "code",
   "execution_count": 319,
   "metadata": {},
   "outputs": [],
   "source": [
    "# https://towardsdatascience.com/automated-machine-learning-hyperparameter-tuning-in-python-dfda59b72f8a\n",
    "# http://hyperopt.github.io/hyperopt/"
   ]
  },
  {
   "cell_type": "code",
   "execution_count": 649,
   "metadata": {},
   "outputs": [],
   "source": [
    "from hyperopt import STATUS_OK\n",
    "from hyperopt import hp\n",
    "from hyperopt import tpe\n",
    "from hyperopt import pyll\n",
    "from hyperopt import Trials\n",
    "from hyperopt import fmin"
   ]
  },
  {
   "cell_type": "code",
   "execution_count": 676,
   "metadata": {},
   "outputs": [],
   "source": [
    "N_FOLDS = 3\n",
    "num_iter = 1\n",
    "PM25 = r_PM25.copy()\n",
    "not_nan_idx = np.argwhere(r_PM25.notnull().values)\n",
    "rnd_state_forRF = 0"
   ]
  },
  {
   "cell_type": "code",
   "execution_count": 677,
   "metadata": {},
   "outputs": [],
   "source": [
    "def objective(params, n_folds = N_FOLDS, num_iter=num_iter):\n",
    "    \n",
    "    # Perform n_fold cross validation with hyperparameters\n",
    "    # Evaluate based on RMSE?\n",
    "    \n",
    "    kf = KFold(n_splits=n_folds, shuffle=True)\n",
    "  \n",
    "    total_loss = []\n",
    "    for k, (train_index, test_index) in enumerate(kf.split(not_nan_idx)):\n",
    "        \n",
    "        X_missing = PM25.copy()\n",
    "        y_missing = PM25.copy()\n",
    "        np_PM25 = PM25.values\n",
    "        \n",
    "        # y_missing \n",
    "        y_missing.iloc[:] = np.nan\n",
    "        np_y_missing = y_missing.values\n",
    "\n",
    "        # asssign values according to test indexes\n",
    "        rows, cols = zip(*not_nan_idx[test_index])\n",
    "        vals = np_PM25[rows, cols]\n",
    "        np_y_missing[rows, cols] = vals\n",
    "\n",
    "        # X_missing\n",
    "        # assign nans according to test indexes\n",
    "        np_X_missing = X_missing.values\n",
    "        np_X_missing[rows, cols] = np.nan\n",
    "       \n",
    "        # impute\n",
    "        imputed = impute_ii_RF(np_X_missing, num_iter, rnd_state_forRF, params)\n",
    "        # validate\n",
    "        \n",
    "        print(params)\n",
    "        print(np.shape(imputed))\n",
    "        #!!!take only RMSE!!!\n",
    "        loss = simple_validation(imputed, np_y_missing)[0]\n",
    "        total_loss.append(loss)\n",
    "\n",
    "    # Dictionary with information for evaluation\n",
    "    return {'loss': np.mean(total_loss), 'params': params, 'status': STATUS_OK}"
   ]
  },
  {
   "cell_type": "code",
   "execution_count": 678,
   "metadata": {},
   "outputs": [],
   "source": [
    "# Define the search space\n",
    "space = {\n",
    "    'n_estimators': hp.quniform('n_estimators',10,420,30),# Discrete uniform distribution\n",
    "    'max_features': hp.choice('max_features',['auto', 'sqrt', 'log2']),\n",
    "    'max_depth': hp.choice('max_depth',[None, hp.quniform('max_depth_quniform',10,110,10)]),# this gives 50% to None... should change it somehow\n",
    "    'min_samples_split': hp.quniform('min_samples_split', 2,12,2),\n",
    "    'min_samples_leaf': hp.quniform('min_samples_leaf',1,4,1),\n",
    "    'bootstrap': hp.choice('bootstrap', [True, False])\n",
    "}"
   ]
  },
  {
   "cell_type": "code",
   "execution_count": 679,
   "metadata": {},
   "outputs": [
    {
     "data": {
      "text/plain": [
       "{'bootstrap': True,\n",
       " 'max_depth': 70.0,\n",
       " 'max_features': 'auto',\n",
       " 'min_samples_leaf': 2.0,\n",
       " 'min_samples_split': 8.0,\n",
       " 'n_estimators': 240.0}"
      ]
     },
     "execution_count": 679,
     "metadata": {},
     "output_type": "execute_result"
    }
   ],
   "source": [
    "# Sample from the full space\n",
    "params = pyll.stochastic.sample(space)\n",
    "params"
   ]
  },
  {
   "cell_type": "code",
   "execution_count": 680,
   "metadata": {},
   "outputs": [
    {
     "data": {
      "text/plain": [
       "True"
      ]
     },
     "execution_count": 680,
     "metadata": {},
     "output_type": "execute_result"
    },
    {
     "data": {
      "text/plain": [
       "70.0"
      ]
     },
     "execution_count": 680,
     "metadata": {},
     "output_type": "execute_result"
    },
    {
     "data": {
      "text/plain": [
       "'auto'"
      ]
     },
     "execution_count": 680,
     "metadata": {},
     "output_type": "execute_result"
    },
    {
     "data": {
      "text/plain": [
       "2.0"
      ]
     },
     "execution_count": 680,
     "metadata": {},
     "output_type": "execute_result"
    },
    {
     "data": {
      "text/plain": [
       "8.0"
      ]
     },
     "execution_count": 680,
     "metadata": {},
     "output_type": "execute_result"
    },
    {
     "data": {
      "text/plain": [
       "240.0"
      ]
     },
     "execution_count": 680,
     "metadata": {},
     "output_type": "execute_result"
    }
   ],
   "source": [
    "params['bootstrap']\n",
    "params['max_depth']\n",
    "params['max_features']\n",
    "params['min_samples_leaf']\n",
    "params['min_samples_split']\n",
    "params['n_estimators']"
   ]
  },
  {
   "cell_type": "code",
   "execution_count": 681,
   "metadata": {},
   "outputs": [],
   "source": [
    "tpe_algorithm = tpe.suggest"
   ]
  },
  {
   "cell_type": "code",
   "execution_count": 682,
   "metadata": {},
   "outputs": [],
   "source": [
    "# Trials object to track progress\n",
    "bayes_trials = Trials()"
   ]
  },
  {
   "cell_type": "code",
   "execution_count": 683,
   "metadata": {},
   "outputs": [
    {
     "data": {
      "text/plain": [
       "{'bootstrap': True,\n",
       " 'max_depth': 70.0,\n",
       " 'max_features': 'auto',\n",
       " 'min_samples_leaf': 2.0,\n",
       " 'min_samples_split': 8.0,\n",
       " 'n_estimators': 240.0}"
      ]
     },
     "execution_count": 683,
     "metadata": {},
     "output_type": "execute_result"
    }
   ],
   "source": [
    "params"
   ]
  },
  {
   "cell_type": "code",
   "execution_count": 673,
   "metadata": {},
   "outputs": [],
   "source": [
    "# imputed = impute_ii_RF(np_X_missing, num_iter, rnd_state_forRF, params)"
   ]
  },
  {
   "cell_type": "code",
   "execution_count": 674,
   "metadata": {},
   "outputs": [],
   "source": [
    "# imputed\n",
    "# loss = simple_validation(imputed, np_y_missing)[0]"
   ]
  },
  {
   "cell_type": "code",
   "execution_count": 684,
   "metadata": {},
   "outputs": [
    {
     "name": "stdout",
     "output_type": "stream",
     "text": [
      "[IterativeImputer] Completing matrix with shape (105166, 34)\n",
      "[IterativeImputer] Change: 8545.894945294689, scaled tolerance: 1.4641 \n",
      "[IterativeImputer] Completing matrix with shape (105166, 34)\n",
      "{'bootstrap': True, 'max_depth': 50.0, 'max_features': 'log2', 'min_samples_leaf': 2.0, 'min_samples_split': 6.0, 'n_estimators': 240.0}\n",
      "(105166, 34)                                         \n",
      "[IterativeImputer] Completing matrix with shape (105166, 34)\n",
      "[IterativeImputer] Change: 8203.481532141492, scaled tolerance: 1.6975 \n",
      "[IterativeImputer] Completing matrix with shape (105166, 34)\n",
      "{'bootstrap': True, 'max_depth': 50.0, 'max_features': 'log2', 'min_samples_leaf': 2.0, 'min_samples_split': 6.0, 'n_estimators': 240.0}\n",
      "(105166, 34)                                         \n",
      "[IterativeImputer] Completing matrix with shape (105166, 34)\n",
      "[IterativeImputer] Change: 7959.21318423682, scaled tolerance: 1.6975 \n",
      "[IterativeImputer] Completing matrix with shape (105166, 34)\n",
      "{'bootstrap': True, 'max_depth': 50.0, 'max_features': 'log2', 'min_samples_leaf': 2.0, 'min_samples_split': 6.0, 'n_estimators': 240.0}\n",
      "(105166, 34)                                         \n",
      "[IterativeImputer] Completing matrix with shape (105166, 34)                    \n",
      "[IterativeImputer] Change: 8353.024385429266, scaled tolerance: 1.6975          \n",
      "[IterativeImputer] Completing matrix with shape (105166, 34)                    \n",
      "{'bootstrap': False, 'max_depth': None, 'max_features': 'log2', 'min_samples_leaf': 4.0, 'min_samples_split': 12.0, 'n_estimators': 150.0}\n",
      "(105166, 34)                                                                    \n",
      "[IterativeImputer] Completing matrix with shape (105166, 34)                    \n",
      "[IterativeImputer] Change: 8228.069337889248, scaled tolerance: 1.4641          \n",
      "[IterativeImputer] Completing matrix with shape (105166, 34)                    \n",
      "{'bootstrap': False, 'max_depth': None, 'max_features': 'log2', 'min_samples_leaf': 4.0, 'min_samples_split': 12.0, 'n_estimators': 150.0}\n",
      "(105166, 34)                                                                    \n",
      "[IterativeImputer] Completing matrix with shape (105166, 34)                    \n",
      "[IterativeImputer] Change: 8119.466782969766, scaled tolerance: 1.6975          \n",
      "[IterativeImputer] Completing matrix with shape (105166, 34)                    \n",
      "{'bootstrap': False, 'max_depth': None, 'max_features': 'log2', 'min_samples_leaf': 4.0, 'min_samples_split': 12.0, 'n_estimators': 150.0}\n",
      "(105166, 34)                                                                    \n",
      "[IterativeImputer] Completing matrix with shape (105166, 34)                    \n",
      "[IterativeImputer] Change: 7697.590225773142, scaled tolerance: 1.5118          \n",
      "[IterativeImputer] Completing matrix with shape (105166, 34)                    \n",
      "{'bootstrap': True, 'max_depth': 80.0, 'max_features': 'log2', 'min_samples_leaf': 4.0, 'min_samples_split': 4.0, 'n_estimators': 240.0}\n",
      "(105166, 34)                                                                    \n",
      "[IterativeImputer] Completing matrix with shape (105166, 34)                    \n",
      "[IterativeImputer] Change: 7430.309907341906, scaled tolerance: 1.6975          \n",
      "[IterativeImputer] Completing matrix with shape (105166, 34)                    \n",
      "{'bootstrap': True, 'max_depth': 80.0, 'max_features': 'log2', 'min_samples_leaf': 4.0, 'min_samples_split': 4.0, 'n_estimators': 240.0}\n",
      "(105166, 34)                                                                    \n",
      "[IterativeImputer] Completing matrix with shape (105166, 34)                    \n",
      "[IterativeImputer] Change: 7533.24292317128, scaled tolerance: 1.6975           \n",
      "[IterativeImputer] Completing matrix with shape (105166, 34)                    \n",
      "{'bootstrap': True, 'max_depth': 80.0, 'max_features': 'log2', 'min_samples_leaf': 4.0, 'min_samples_split': 4.0, 'n_estimators': 240.0}\n",
      "(105166, 34)                                                                    \n",
      "[IterativeImputer] Completing matrix with shape (105166, 34)                    \n",
      "[IterativeImputer] Change: 8952.486731940293, scaled tolerance: 1.4641          \n",
      "[IterativeImputer] Completing matrix with shape (105166, 34)                    \n",
      "{'bootstrap': False, 'max_depth': 80.0, 'max_features': 'log2', 'min_samples_leaf': 4.0, 'min_samples_split': 4.0, 'n_estimators': 270.0}\n",
      "(105166, 34)                                                                    \n",
      "[IterativeImputer] Completing matrix with shape (105166, 34)                    \n",
      "[IterativeImputer] Change: 9296.727375388386, scaled tolerance: 1.6975          \n",
      "[IterativeImputer] Completing matrix with shape (105166, 34)                    \n",
      "{'bootstrap': False, 'max_depth': 80.0, 'max_features': 'log2', 'min_samples_leaf': 4.0, 'min_samples_split': 4.0, 'n_estimators': 270.0}\n",
      "(105166, 34)                                                                    \n",
      "[IterativeImputer] Completing matrix with shape (105166, 34)                    \n",
      "[IterativeImputer] Change: 7991.456092879555, scaled tolerance: 1.6975          \n",
      "[IterativeImputer] Completing matrix with shape (105166, 34)                    \n",
      "{'bootstrap': False, 'max_depth': 80.0, 'max_features': 'log2', 'min_samples_leaf': 4.0, 'min_samples_split': 4.0, 'n_estimators': 270.0}\n",
      "(105166, 34)                                                                    \n",
      "[IterativeImputer] Completing matrix with shape (105166, 34)                    \n",
      "[IterativeImputer] Change: 7999.47832028689, scaled tolerance: 1.4641           \n",
      "[IterativeImputer] Completing matrix with shape (105166, 34)                    \n",
      "{'bootstrap': True, 'max_depth': None, 'max_features': 'log2', 'min_samples_leaf': 3.0, 'min_samples_split': 12.0, 'n_estimators': 240.0}\n",
      "(105166, 34)                                                                    \n",
      "[IterativeImputer] Completing matrix with shape (105166, 34)                    \n",
      "[IterativeImputer] Change: 8135.599468688448, scaled tolerance: 1.6975          \n",
      "[IterativeImputer] Completing matrix with shape (105166, 34)                    \n",
      "{'bootstrap': True, 'max_depth': None, 'max_features': 'log2', 'min_samples_leaf': 3.0, 'min_samples_split': 12.0, 'n_estimators': 240.0}\n",
      "(105166, 34)                                                                    \n",
      "[IterativeImputer] Completing matrix with shape (105166, 34)                    \n",
      "[IterativeImputer] Change: 8034.806336449033, scaled tolerance: 1.6975          \n",
      "[IterativeImputer] Completing matrix with shape (105166, 34)                    \n",
      "{'bootstrap': True, 'max_depth': None, 'max_features': 'log2', 'min_samples_leaf': 3.0, 'min_samples_split': 12.0, 'n_estimators': 240.0}\n",
      "(105166, 34)                                                                    \n",
      "100%|██████████| 5/5 [27:33<00:00, 340.70s/trial, best loss: 10.906846197610067]\n"
     ]
    }
   ],
   "source": [
    "MAX_EVALS = 5\n",
    "\n",
    "# Optimize\n",
    "best = fmin(fn = objective, space = space, algo = tpe.suggest,\n",
    "            max_evals = MAX_EVALS, trials = bayes_trials)"
   ]
  },
  {
   "cell_type": "code",
   "execution_count": 686,
   "metadata": {},
   "outputs": [
    {
     "data": {
      "text/plain": [
       "{'bootstrap': 0,\n",
       " 'max_depth': 1,\n",
       " 'max_depth_quniform': 50.0,\n",
       " 'max_features': 2,\n",
       " 'min_samples_leaf': 2.0,\n",
       " 'min_samples_split': 6.0,\n",
       " 'n_estimators': 240.0}"
      ]
     },
     "execution_count": 686,
     "metadata": {},
     "output_type": "execute_result"
    }
   ],
   "source": [
    "best"
   ]
  },
  {
   "cell_type": "code",
   "execution_count": null,
   "metadata": {},
   "outputs": [],
   "source": []
  },
  {
   "cell_type": "code",
   "execution_count": null,
   "metadata": {},
   "outputs": [],
   "source": [
    "   \n",
    "#     #### IterativeImputer KNN ####\n",
    "\n",
    "#     weight_type = 'distance' #'uniform','distance' #hyperParam\n",
    "#     num_neighbors = 10 #hyperParam\n",
    "#     # impute\n",
    "#     imputed = impute_ii_KNN(np_X_missing, num_iter, num_neighbors, weight_type)\n",
    "#     # validate\n",
    "#     results = validate(imputed, np_y_missing, np_r_PM25_y_mask, IL)\n",
    "#     # save \n",
    "#     imputed_df = pd.DataFrame(imputed, columns=r_PM25.columns) #turn it from IterativeImputer object to a dataframe\n",
    "#     imputed_df.to_pickle(\"~/Documents/saved_data_from_notebooks/imputed_ii_KNN_\"+str(IL[0])+'_'+str(num_iter)+'_'+str(num_neighbors)+'_rep'+str(nr))\n",
    "#     results.to_pickle(\"~/Documents/saved_data_from_notebooks/results_ii_KNN_\"+str(IL[0])+'_'+str(num_iter)+'_'+str(num_neighbors)+'_rep'+str(nr))\n",
    "#     print(results)\n",
    "    \n"
   ]
  },
  {
   "cell_type": "code",
   "execution_count": null,
   "metadata": {},
   "outputs": [],
   "source": []
  },
  {
   "cell_type": "code",
   "execution_count": 214,
   "metadata": {},
   "outputs": [],
   "source": []
  },
  {
   "cell_type": "code",
   "execution_count": null,
   "metadata": {},
   "outputs": [],
   "source": []
  },
  {
   "cell_type": "code",
   "execution_count": null,
   "metadata": {},
   "outputs": [],
   "source": []
  },
  {
   "cell_type": "code",
   "execution_count": null,
   "metadata": {},
   "outputs": [],
   "source": []
  },
  {
   "cell_type": "code",
   "execution_count": null,
   "metadata": {},
   "outputs": [],
   "source": []
  },
  {
   "cell_type": "code",
   "execution_count": null,
   "metadata": {},
   "outputs": [],
   "source": []
  },
  {
   "cell_type": "code",
   "execution_count": null,
   "metadata": {},
   "outputs": [],
   "source": [
    "# https://towardsdatascience.com/automated-machine-learning-hyperparameter-tuning-in-python-dfda59b72f8a"
   ]
  },
  {
   "cell_type": "markdown",
   "metadata": {},
   "source": [
    "# (2) model evaluation by repeated holdout (run with additions!)"
   ]
  },
  {
   "cell_type": "code",
   "execution_count": 15,
   "metadata": {},
   "outputs": [],
   "source": [
    "# what chunk sizes? (in hours)\n",
    "IL = [720,120,24,6,1,0.5] # 1 month, 5 days, 1 day, 6 hours, 1 hour, half hour\n",
    "# IL = [1440,720,240,24,6,1,0.5] \n",
    "# IL = [1200, 100, 50, 10, 5, 1, 0.5]"
   ]
  },
  {
   "cell_type": "code",
   "execution_count": 16,
   "metadata": {},
   "outputs": [],
   "source": [
    "np.random.seed(0) # if want to reproduce. "
   ]
  },
  {
   "cell_type": "code",
   "execution_count": 17,
   "metadata": {},
   "outputs": [
    {
     "data": {
      "application/vnd.jupyter.widget-view+json": {
       "model_id": "559c4557b96b4200bcbbe72faf2de5eb",
       "version_major": 2,
       "version_minor": 0
      },
      "text/plain": [
       "HBox(children=(IntProgress(value=0, max=34), HTML(value='')))"
      ]
     },
     "metadata": {},
     "output_type": "display_data"
    },
    {
     "name": "stdout",
     "output_type": "stream",
     "text": [
      "\n"
     ]
    }
   ],
   "source": [
    "np_X_missing, np_y_missing, np_r_PM25_y_mask = return_X_y(r_PM25,IL)\n",
    "# # for comparison - small chunks randomly spread\n",
    "# np_X_missing, np_y_missing = return_randomly_spread_X_y(r_PM25,1440*34)"
   ]
  },
  {
   "cell_type": "code",
   "execution_count": 18,
   "metadata": {},
   "outputs": [
    {
     "data": {
      "image/png": "[encoded data removed]",
      "text/plain": [
       "<Figure size 432x288 with 1 Axes>"
      ]
     },
     "metadata": {
      "image/png": {
       "height": 337,
       "width": 394
      },
      "needs_background": "light"
     },
     "output_type": "display_data"
    }
   ],
   "source": [
    "# plot the missing value chunks! see it is well distributed\n",
    "X_missing = pd.DataFrame(np_X_missing,columns=r_PM25.columns)\n",
    "y_missing = pd.DataFrame(np_y_missing,columns=r_PM25.columns)\n",
    "sns.heatmap(y_missing.iloc[:,:32].notnull(), cbar=False);"
   ]
  },
  {
   "cell_type": "markdown",
   "metadata": {},
   "source": [
    "### Some statistics"
   ]
  },
  {
   "cell_type": "code",
   "execution_count": 19,
   "metadata": {},
   "outputs": [
    {
     "data": {
      "image/png": "[encoded data removed]",
      "text/plain": [
       "<Figure size 432x288 with 1 Axes>"
      ]
     },
     "metadata": {
      "image/png": {
       "height": 275,
       "width": 424
      },
      "needs_background": "light"
     },
     "output_type": "display_data"
    },
    {
     "data": {
      "image/png": "[encoded data removed]",
      "text/plain": [
       "<Figure size 432x288 with 1 Axes>"
      ]
     },
     "metadata": {
      "image/png": {
       "height": 252,
       "width": 378
      },
      "needs_background": "light"
     },
     "output_type": "display_data"
    }
   ],
   "source": [
    "# (1) see what is the distribution of missing interval lengths (count wise and cummulative hours wise)?\n",
    "missing_interval_lengths = get_nan_lengths(r_PM25.copy(),nanLengths=True)\n",
    "# plot\n",
    "plot_nan_lengths_dist(missing_interval_lengths)\n",
    "plot_nan_lengths_cum_dist(missing_interval_lengths)"
   ]
  },
  {
   "cell_type": "code",
   "execution_count": 20,
   "metadata": {},
   "outputs": [
    {
     "data": {
      "image/png": "[encoded data removed]",
      "text/plain": [
       "<Figure size 432x288 with 1 Axes>"
      ]
     },
     "metadata": {
      "image/png": {
       "height": 265,
       "width": 416
      },
      "needs_background": "light"
     },
     "output_type": "display_data"
    },
    {
     "data": {
      "image/png": "[encoded data removed]",
      "text/plain": [
       "<Figure size 432x288 with 1 Axes>"
      ]
     },
     "metadata": {
      "image/png": {
       "height": 252,
       "width": 378
      },
      "needs_background": "light"
     },
     "output_type": "display_data"
    }
   ],
   "source": [
    "# am I keeping this distribution after extracting for validation?\n",
    "missing_interval_lengths_X_missing = get_nan_lengths(X_missing.copy(),nanLengths=True)\n",
    "# missing_interval_lengths_y_missing = get_nan_lengths(y_missing.copy(),nanLengths=False)\n",
    "# plot\n",
    "plot_nan_lengths_dist(missing_interval_lengths_X_missing)\n",
    "plot_nan_lengths_cum_dist(missing_interval_lengths_X_missing)"
   ]
  },
  {
   "cell_type": "code",
   "execution_count": 21,
   "metadata": {},
   "outputs": [
    {
     "data": {
      "image/png": "[encoded data removed]",
      "text/plain": [
       "<Figure size 432x288 with 1 Axes>"
      ]
     },
     "metadata": {
      "image/png": {
       "height": 252,
       "width": 365
      },
      "needs_background": "light"
     },
     "output_type": "display_data"
    }
   ],
   "source": [
    "# (2) what is the distribution of each row (timestep) average missing values (out of 34 statiobs)?\n",
    "# I cannot keep it of course... \n",
    "# plt.hist([r_PM25.isnull().sum(axis = 1)/r_PM25.shape[1],np.isnan(np_X_missing).sum(axis = 1)/np_X_missing.shape[1]],bins=50,label=['original PM25','original X','imputed'],density=True);\n",
    "\n",
    "plt.hist(r_PM25.isnull().sum(axis = 1)/r_PM25.shape[1],bins=34,label=['original PM25'],density=True,alpha=0.5);\n",
    "plt.hist(np.isnan(np_X_missing).sum(axis = 1)/np_X_missing.shape[1],bins=34,label=['original X'],density=True,alpha=0.5);\n",
    "\n",
    "plt.legend();\n",
    "plt.show();"
   ]
  },
  {
   "cell_type": "code",
   "execution_count": null,
   "metadata": {},
   "outputs": [],
   "source": []
  },
  {
   "cell_type": "code",
   "execution_count": 22,
   "metadata": {},
   "outputs": [],
   "source": [
    "# POSSIBLY - Remove rows where all is nan (5 like these)!!!"
   ]
  },
  {
   "cell_type": "markdown",
   "metadata": {},
   "source": [
    "#### IterativeImputer Baysian Ridge"
   ]
  },
  {
   "cell_type": "code",
   "execution_count": 23,
   "metadata": {},
   "outputs": [],
   "source": [
    "# First NORMALIZE ALL DATA!\n",
    "# For some reason, it is not stable. possibly because I need to handle the non-positive values\n",
    "# differently. maybe use MixMaxScaler transform:\n",
    "# https://machinelearningmastery.com/power-transforms-with-scikit-learn/\n",
    "\n",
    "# # option-1\n",
    "# pt = PowerTransformer(method='box-cox')\n",
    "# t_data = np_X_missing + 0.0000001\n",
    "# pt.fit(t_data)\n",
    "\n",
    "# # by default applies seperately to each column\n",
    "# normal_data = pd.DataFrame(\n",
    "#     pt.transform(t_data),\n",
    "#     index=X_missing.index,\n",
    "#     columns=X_missing.columns)\n",
    "\n",
    "# # another option - 2\n",
    "# scaler = MinMaxScaler(feature_range=(0.0000001, 10.0000001))\n",
    "# power = PowerTransformer(method='box-cox')\n",
    "# pipeline = Pipeline(steps=[('s', scaler),('p', power)])\n",
    "# normal_data = pipeline.fit_transform(np_X_missing)\n",
    "\n",
    "# normal_data = pd.DataFrame(\n",
    "#     normal_data,\n",
    "#     index=X_missing.index,\n",
    "#     columns=X_missing.columns)\n",
    "\n",
    "# another option - 3\n",
    "normal_data = pd.DataFrame(\n",
    "    np.log(np_X_missing+1),\n",
    "    index=X_missing.index,\n",
    "    columns=X_missing.columns)"
   ]
  },
  {
   "cell_type": "code",
   "execution_count": 24,
   "metadata": {},
   "outputs": [
    {
     "name": "stdout",
     "output_type": "stream",
     "text": [
      "[IterativeImputer] Completing matrix with shape (105166, 34)\n",
      "[IterativeImputer] Change: 36.0864164923739, scaled tolerance: 0.007437500787600639 \n",
      "[IterativeImputer] Completing matrix with shape (105166, 34)\n"
     ]
    }
   ],
   "source": [
    "# impute\n",
    "num_iter = 1\n",
    "imputed = impute_ii_BR(normal_data, num_iter)"
   ]
  },
  {
   "cell_type": "code",
   "execution_count": 25,
   "metadata": {},
   "outputs": [],
   "source": [
    "# # option-1\n",
    "# inverse_imputed = pt.inverse_transform(imputed)-0.0000001\n",
    "\n",
    "# # another option - 2\n",
    "# inverse_imputed = pipeline.inverse_transform(imputed)\n",
    "\n",
    "# another option - 3\n",
    "inverse_imputed = np.exp(imputed)-1"
   ]
  },
  {
   "cell_type": "code",
   "execution_count": 26,
   "metadata": {
    "scrolled": true
   },
   "outputs": [],
   "source": [
    "# validate\n",
    "results = validate(inverse_imputed, np_y_missing, np_r_PM25_y_mask, IL)\n",
    "\n",
    "# # save \n",
    "# imputed_df = pd.DataFrame(imputed, columns=r_PM25.columns) #turn it from IterativeImputer object to a dataframe\n",
    "# imputed_df.to_pickle(\"/Users/iditbela/Documents/Broday/saved_data_from_notebooks/imputed_ii_BR_\"+str(IL[0])+'_'+str(num_iter))\n",
    "# results.to_pickle(\"/Users/iditbela/Documents/Broday/saved_data_from_notebooks/results_ii_BR_\"+str(IL[0])+'_'+str(num_iter))"
   ]
  },
  {
   "cell_type": "code",
   "execution_count": 27,
   "metadata": {},
   "outputs": [
    {
     "data": {
      "text/html": [
       "<div>\n",
       "<style scoped>\n",
       "    .dataframe tbody tr th:only-of-type {\n",
       "        vertical-align: middle;\n",
       "    }\n",
       "\n",
       "    .dataframe tbody tr th {\n",
       "        vertical-align: top;\n",
       "    }\n",
       "\n",
       "    .dataframe thead th {\n",
       "        text-align: right;\n",
       "    }\n",
       "</style>\n",
       "<table border=\"1\" class=\"dataframe\">\n",
       "  <thead>\n",
       "    <tr style=\"text-align: right;\">\n",
       "      <th></th>\n",
       "      <th>IL</th>\n",
       "      <th>RMSE</th>\n",
       "      <th>MedianAE</th>\n",
       "      <th>MeanAE</th>\n",
       "      <th>R2</th>\n",
       "      <th>MeanBias</th>\n",
       "      <th>MedianBias</th>\n",
       "      <th>NMB</th>\n",
       "      <th>NME</th>\n",
       "    </tr>\n",
       "  </thead>\n",
       "  <tbody>\n",
       "    <tr>\n",
       "      <th>0</th>\n",
       "      <td>ALL</td>\n",
       "      <td>12.689152</td>\n",
       "      <td>3.862939</td>\n",
       "      <td>5.969249</td>\n",
       "      <td>0.703594</td>\n",
       "      <td>-1.801012</td>\n",
       "      <td>-0.749012</td>\n",
       "      <td>-0.087852</td>\n",
       "      <td>0.291176</td>\n",
       "    </tr>\n",
       "    <tr>\n",
       "      <th>1</th>\n",
       "      <td>720</td>\n",
       "      <td>9.776975</td>\n",
       "      <td>3.862172</td>\n",
       "      <td>5.655657</td>\n",
       "      <td>0.744887</td>\n",
       "      <td>-1.809858</td>\n",
       "      <td>-0.765596</td>\n",
       "      <td>-0.092288</td>\n",
       "      <td>0.288394</td>\n",
       "    </tr>\n",
       "    <tr>\n",
       "      <th>2</th>\n",
       "      <td>120</td>\n",
       "      <td>11.722588</td>\n",
       "      <td>3.842170</td>\n",
       "      <td>5.969227</td>\n",
       "      <td>0.721192</td>\n",
       "      <td>-1.513117</td>\n",
       "      <td>-0.662410</td>\n",
       "      <td>-0.071250</td>\n",
       "      <td>0.281081</td>\n",
       "    </tr>\n",
       "    <tr>\n",
       "      <th>3</th>\n",
       "      <td>24</td>\n",
       "      <td>12.802180</td>\n",
       "      <td>3.825372</td>\n",
       "      <td>6.010231</td>\n",
       "      <td>0.734635</td>\n",
       "      <td>-1.803090</td>\n",
       "      <td>-0.692538</td>\n",
       "      <td>-0.084422</td>\n",
       "      <td>0.281402</td>\n",
       "    </tr>\n",
       "    <tr>\n",
       "      <th>4</th>\n",
       "      <td>6</td>\n",
       "      <td>12.127660</td>\n",
       "      <td>3.869706</td>\n",
       "      <td>6.015040</td>\n",
       "      <td>0.726611</td>\n",
       "      <td>-1.923388</td>\n",
       "      <td>-0.825731</td>\n",
       "      <td>-0.093568</td>\n",
       "      <td>0.292615</td>\n",
       "    </tr>\n",
       "    <tr>\n",
       "      <th>5</th>\n",
       "      <td>1</td>\n",
       "      <td>15.022942</td>\n",
       "      <td>3.888677</td>\n",
       "      <td>6.064008</td>\n",
       "      <td>0.651508</td>\n",
       "      <td>-1.826066</td>\n",
       "      <td>-0.705764</td>\n",
       "      <td>-0.090883</td>\n",
       "      <td>0.301804</td>\n",
       "    </tr>\n",
       "    <tr>\n",
       "      <th>6</th>\n",
       "      <td>0.5</td>\n",
       "      <td>13.999180</td>\n",
       "      <td>3.887234</td>\n",
       "      <td>6.101052</td>\n",
       "      <td>0.665563</td>\n",
       "      <td>-1.928203</td>\n",
       "      <td>-0.837816</td>\n",
       "      <td>-0.095636</td>\n",
       "      <td>0.302605</td>\n",
       "    </tr>\n",
       "  </tbody>\n",
       "</table>\n",
       "</div>"
      ],
      "text/plain": [
       "    IL       RMSE  MedianAE    MeanAE        R2  MeanBias  MedianBias  \\\n",
       "0  ALL  12.689152  3.862939  5.969249  0.703594 -1.801012   -0.749012   \n",
       "1  720   9.776975  3.862172  5.655657  0.744887 -1.809858   -0.765596   \n",
       "2  120  11.722588  3.842170  5.969227  0.721192 -1.513117   -0.662410   \n",
       "3   24  12.802180  3.825372  6.010231  0.734635 -1.803090   -0.692538   \n",
       "4    6  12.127660  3.869706  6.015040  0.726611 -1.923388   -0.825731   \n",
       "5    1  15.022942  3.888677  6.064008  0.651508 -1.826066   -0.705764   \n",
       "6  0.5  13.999180  3.887234  6.101052  0.665563 -1.928203   -0.837816   \n",
       "\n",
       "        NMB       NME  \n",
       "0 -0.087852  0.291176  \n",
       "1 -0.092288  0.288394  \n",
       "2 -0.071250  0.281081  \n",
       "3 -0.084422  0.281402  \n",
       "4 -0.093568  0.292615  \n",
       "5 -0.090883  0.301804  \n",
       "6 -0.095636  0.302605  "
      ]
     },
     "execution_count": 27,
     "metadata": {},
     "output_type": "execute_result"
    }
   ],
   "source": [
    "results"
   ]
  },
  {
   "cell_type": "code",
   "execution_count": 28,
   "metadata": {},
   "outputs": [
    {
     "data": {
      "image/png": "[encoded data removed]",
      "text/plain": [
       "<Figure size 432x288 with 1 Axes>"
      ]
     },
     "metadata": {
      "image/png": {
       "height": 252,
       "width": 400
      },
      "needs_background": "light"
     },
     "output_type": "display_data"
    }
   ],
   "source": [
    "# look at the distribution of the imputed values vs. original\n",
    "plot_hist(r_PM25.values, inverse_imputed, np_X_missing, density=True, no_bins=300,option='2')"
   ]
  },
  {
   "cell_type": "code",
   "execution_count": 29,
   "metadata": {},
   "outputs": [
    {
     "data": {
      "image/png": "[encoded data removed]",
      "text/plain": [
       "<Figure size 432x288 with 1 Axes>"
      ]
     },
     "metadata": {
      "image/png": {
       "height": 252,
       "width": 400
      },
      "needs_background": "light"
     },
     "output_type": "display_data"
    }
   ],
   "source": [
    "plot_hist(r_PM25.values, inverse_imputed, np_X_missing, density=True, no_bins=300,option='1')"
   ]
  },
  {
   "cell_type": "code",
   "execution_count": null,
   "metadata": {},
   "outputs": [],
   "source": [
    "# change it to kdeplot (seaborn sns)"
   ]
  },
  {
   "cell_type": "markdown",
   "metadata": {},
   "source": [
    "#### IterativeImputer Random Forest"
   ]
  },
  {
   "cell_type": "code",
   "execution_count": 35,
   "metadata": {},
   "outputs": [
    {
     "name": "stdout",
     "output_type": "stream",
     "text": [
      "[IterativeImputer] Completing matrix with shape (105166, 34)\n",
      "[IterativeImputer] Change: 5941.564387521587, scaled tolerance: 1.6975 \n",
      "[IterativeImputer] Completing matrix with shape (105166, 34)\n"
     ]
    }
   ],
   "source": [
    "# impute\n",
    "num_iter = 1\n",
    "num_trees = 10\n",
    "rnd_state_forRF = 0\n",
    "# max_features = ?\n",
    "# min_samples_split = ?\n",
    "\n",
    " # !!!! notice I changed impute_ii_RF!!!!\n",
    "params = {'bootstrap': 0,\n",
    " 'max_depth': None,\n",
    " 'max_features': 'auto',\n",
    " 'min_samples_leaf': 1,\n",
    " 'min_samples_split': 2,\n",
    " 'n_estimators': 10.0}\n",
    "\n",
    "imputed = impute_ii_RF(np_X_missing, num_iter, rnd_state_forRF,params)\n",
    "    \n",
    "# validate\n",
    "results = validate(imputed, np_y_missing, np_r_PM25_y_mask, IL)\n",
    "\n",
    "# # save \n",
    "# imputed_df = pd.DataFrame(imputed, columns=r_PM25.columns) #turn it from IterativeImputer object to a dataframe\n",
    "# imputed_df.to_pickle(\"/Users/iditbela/Documents/Broday/saved_data_from_notebooks/imputed_ii_RF_\"+str(IL[0])+'_'+str(num_iter))\n",
    "# results.to_pickle(\"/Users/iditbela/Documents/Broday/saved_data_from_notebooks/results_ii_RF_\"+str(IL[0])+'_'+str(num_iter)+'_'+str(num_trees))"
   ]
  },
  {
   "cell_type": "code",
   "execution_count": 36,
   "metadata": {},
   "outputs": [
    {
     "data": {
      "text/html": [
       "<div>\n",
       "<style scoped>\n",
       "    .dataframe tbody tr th:only-of-type {\n",
       "        vertical-align: middle;\n",
       "    }\n",
       "\n",
       "    .dataframe tbody tr th {\n",
       "        vertical-align: top;\n",
       "    }\n",
       "\n",
       "    .dataframe thead th {\n",
       "        text-align: right;\n",
       "    }\n",
       "</style>\n",
       "<table border=\"1\" class=\"dataframe\">\n",
       "  <thead>\n",
       "    <tr style=\"text-align: right;\">\n",
       "      <th></th>\n",
       "      <th>IL</th>\n",
       "      <th>RMSE</th>\n",
       "      <th>MedianAE</th>\n",
       "      <th>MeanAE</th>\n",
       "      <th>R2</th>\n",
       "      <th>MeanBias</th>\n",
       "      <th>MedianBias</th>\n",
       "      <th>NMB</th>\n",
       "      <th>NME</th>\n",
       "    </tr>\n",
       "  </thead>\n",
       "  <tbody>\n",
       "    <tr>\n",
       "      <th>0</th>\n",
       "      <td>ALL</td>\n",
       "      <td>10.742218</td>\n",
       "      <td>4.03</td>\n",
       "      <td>5.857911</td>\n",
       "      <td>0.787573</td>\n",
       "      <td>0.187139</td>\n",
       "      <td>0.58</td>\n",
       "      <td>0.009129</td>\n",
       "      <td>0.285745</td>\n",
       "    </tr>\n",
       "    <tr>\n",
       "      <th>1</th>\n",
       "      <td>720</td>\n",
       "      <td>11.706467</td>\n",
       "      <td>4.08</td>\n",
       "      <td>5.867039</td>\n",
       "      <td>0.634257</td>\n",
       "      <td>0.355892</td>\n",
       "      <td>0.75</td>\n",
       "      <td>0.018148</td>\n",
       "      <td>0.299172</td>\n",
       "    </tr>\n",
       "    <tr>\n",
       "      <th>2</th>\n",
       "      <td>120</td>\n",
       "      <td>12.259775</td>\n",
       "      <td>4.04</td>\n",
       "      <td>6.141848</td>\n",
       "      <td>0.695054</td>\n",
       "      <td>0.521233</td>\n",
       "      <td>0.58</td>\n",
       "      <td>0.024544</td>\n",
       "      <td>0.289209</td>\n",
       "    </tr>\n",
       "    <tr>\n",
       "      <th>3</th>\n",
       "      <td>24</td>\n",
       "      <td>10.722463</td>\n",
       "      <td>4.06</td>\n",
       "      <td>5.980310</td>\n",
       "      <td>0.813849</td>\n",
       "      <td>-0.031273</td>\n",
       "      <td>0.56</td>\n",
       "      <td>-0.001464</td>\n",
       "      <td>0.280001</td>\n",
       "    </tr>\n",
       "    <tr>\n",
       "      <th>4</th>\n",
       "      <td>6</td>\n",
       "      <td>11.007439</td>\n",
       "      <td>4.07</td>\n",
       "      <td>5.931600</td>\n",
       "      <td>0.774784</td>\n",
       "      <td>0.127703</td>\n",
       "      <td>0.53</td>\n",
       "      <td>0.006212</td>\n",
       "      <td>0.288556</td>\n",
       "    </tr>\n",
       "    <tr>\n",
       "      <th>5</th>\n",
       "      <td>1</td>\n",
       "      <td>9.096906</td>\n",
       "      <td>3.99</td>\n",
       "      <td>5.641318</td>\n",
       "      <td>0.872218</td>\n",
       "      <td>0.101050</td>\n",
       "      <td>0.56</td>\n",
       "      <td>0.005029</td>\n",
       "      <td>0.280767</td>\n",
       "    </tr>\n",
       "    <tr>\n",
       "      <th>6</th>\n",
       "      <td>0.5</td>\n",
       "      <td>9.305569</td>\n",
       "      <td>3.94</td>\n",
       "      <td>5.590128</td>\n",
       "      <td>0.852227</td>\n",
       "      <td>0.049839</td>\n",
       "      <td>0.50</td>\n",
       "      <td>0.002472</td>\n",
       "      <td>0.277263</td>\n",
       "    </tr>\n",
       "  </tbody>\n",
       "</table>\n",
       "</div>"
      ],
      "text/plain": [
       "    IL       RMSE  MedianAE    MeanAE        R2  MeanBias  MedianBias  \\\n",
       "0  ALL  10.742218      4.03  5.857911  0.787573  0.187139        0.58   \n",
       "1  720  11.706467      4.08  5.867039  0.634257  0.355892        0.75   \n",
       "2  120  12.259775      4.04  6.141848  0.695054  0.521233        0.58   \n",
       "3   24  10.722463      4.06  5.980310  0.813849 -0.031273        0.56   \n",
       "4    6  11.007439      4.07  5.931600  0.774784  0.127703        0.53   \n",
       "5    1   9.096906      3.99  5.641318  0.872218  0.101050        0.56   \n",
       "6  0.5   9.305569      3.94  5.590128  0.852227  0.049839        0.50   \n",
       "\n",
       "        NMB       NME  \n",
       "0  0.009129  0.285745  \n",
       "1  0.018148  0.299172  \n",
       "2  0.024544  0.289209  \n",
       "3 -0.001464  0.280001  \n",
       "4  0.006212  0.288556  \n",
       "5  0.005029  0.280767  \n",
       "6  0.002472  0.277263  "
      ]
     },
     "execution_count": 36,
     "metadata": {},
     "output_type": "execute_result"
    }
   ],
   "source": [
    "results"
   ]
  },
  {
   "cell_type": "code",
   "execution_count": 37,
   "metadata": {},
   "outputs": [
    {
     "data": {
      "image/png": "[encoded data removed]",
      "text/plain": [
       "<Figure size 432x288 with 1 Axes>"
      ]
     },
     "metadata": {
      "image/png": {
       "height": 252,
       "width": 400
      },
      "needs_background": "light"
     },
     "output_type": "display_data"
    }
   ],
   "source": [
    "plot_hist(r_PM25.values, imputed, np_X_missing, density=True, no_bins=300,option='1')\n",
    "# This might be problematic. it seems that it might be better to perform the imputation on \n",
    "# the raw data, as Yuval's fixes clearly generate non-normally distributed data. "
   ]
  },
  {
   "cell_type": "code",
   "execution_count": null,
   "metadata": {},
   "outputs": [],
   "source": []
  },
  {
   "cell_type": "code",
   "execution_count": null,
   "metadata": {},
   "outputs": [],
   "source": []
  },
  {
   "cell_type": "code",
   "execution_count": null,
   "metadata": {},
   "outputs": [],
   "source": []
  },
  {
   "cell_type": "markdown",
   "metadata": {},
   "source": [
    "#### IterativeImputer KNN"
   ]
  },
  {
   "cell_type": "code",
   "execution_count": null,
   "metadata": {},
   "outputs": [],
   "source": [
    "weight_type = 'distance' #'uniform','distance'\n",
    "num_iter = 10\n",
    "num_neighbors = 10\n",
    "\n",
    "imputed = impute_ii_KNN(np_X_missing, num_iter, num_neighbors, weight_type)\n",
    "\n",
    "# validate\n",
    "results = validate(imputed, np_y_missing, np_r_PM25_y_mask, IL)\n",
    "\n",
    "# # save \n",
    "# imputed_df = pd.DataFrame(imputed, columns=r_PM25.columns) #turn it from IterativeImputer object to a dataframe\n",
    "# imputed_df.to_pickle(\"/Users/iditbela/Documents/Broday/saved_data_from_notebooks/imputed_ii_KNN_\"+str(IL[0])+'_'+str(num_iter))\n",
    "# results.to_pickle(\"/Users/iditbela/Documents/Broday/saved_data_from_notebooks/results_ii_KNN_\"+str(IL[0])+'_'+str(num_iter)+'_'+str(num_neighbors))"
   ]
  },
  {
   "cell_type": "code",
   "execution_count": null,
   "metadata": {},
   "outputs": [],
   "source": [
    "results"
   ]
  },
  {
   "cell_type": "code",
   "execution_count": null,
   "metadata": {},
   "outputs": [],
   "source": [
    "plot_hist(r_PM25.values, imputed, np_X_missing, density=True, no_bins=300,option='1')"
   ]
  },
  {
   "cell_type": "markdown",
   "metadata": {},
   "source": [
    "#### My KNN"
   ]
  },
  {
   "cell_type": "code",
   "execution_count": 32,
   "metadata": {},
   "outputs": [],
   "source": [
    "num_neighbors = 9\n",
    "imputed = impute_my_KNN(np_X_missing, num_neighbors)\n",
    "\n",
    "# validate\n",
    "results = validate(imputed, np_y_missing, np_r_PM25_y_mask, IL)\n",
    "\n",
    "# # save \n",
    "# imputed_df = pd.DataFrame(imputed, columns=r_PM25.columns) #turn it from IterativeImputer object to a dataframe\n",
    "# imputed_df.to_pickle(\"/Users/iditbela/Documents/Broday/saved_data_from_notebooks/imputed_my_KNN_\"+str(IL[0])+'_'+str(num_iter))\n",
    "# results.to_pickle(\"/Users/iditbela/Documents/Broday/saved_data_from_notebooks/results_my_KNN_\"+str(IL[0])+'_'+str(num_iter)+'_'+str(num_neighbors))"
   ]
  },
  {
   "cell_type": "code",
   "execution_count": 135,
   "metadata": {},
   "outputs": [
    {
     "data": {
      "text/html": [
       "<div>\n",
       "<style scoped>\n",
       "    .dataframe tbody tr th:only-of-type {\n",
       "        vertical-align: middle;\n",
       "    }\n",
       "\n",
       "    .dataframe tbody tr th {\n",
       "        vertical-align: top;\n",
       "    }\n",
       "\n",
       "    .dataframe thead th {\n",
       "        text-align: right;\n",
       "    }\n",
       "</style>\n",
       "<table border=\"1\" class=\"dataframe\">\n",
       "  <thead>\n",
       "    <tr style=\"text-align: right;\">\n",
       "      <th></th>\n",
       "      <th>RMSE</th>\n",
       "      <th>MedianAE</th>\n",
       "      <th>MeanAE</th>\n",
       "      <th>R2</th>\n",
       "    </tr>\n",
       "  </thead>\n",
       "  <tbody>\n",
       "    <tr>\n",
       "      <th>0</th>\n",
       "      <td>20.424791</td>\n",
       "      <td>3.880241</td>\n",
       "      <td>6.900915</td>\n",
       "      <td>0.653475</td>\n",
       "    </tr>\n",
       "  </tbody>\n",
       "</table>\n",
       "</div>"
      ],
      "text/plain": [
       "        RMSE  MedianAE    MeanAE        R2\n",
       "0  20.424791  3.880241  6.900915  0.653475"
      ]
     },
     "execution_count": 135,
     "metadata": {},
     "output_type": "execute_result"
    }
   ],
   "source": [
    "results"
   ]
  },
  {
   "cell_type": "code",
   "execution_count": null,
   "metadata": {},
   "outputs": [],
   "source": [
    "plot_hist(r_PM25.values, imputed, np_X_missing, density=True, no_bins=300,option='1')"
   ]
  },
  {
   "cell_type": "markdown",
   "metadata": {},
   "source": [
    "# write a loop to perform it X times"
   ]
  },
  {
   "cell_type": "code",
   "execution_count": 115,
   "metadata": {},
   "outputs": [],
   "source": [
    "# !!! add saving np_X_missing, np_y_missing, np_r_PM25_y_mask as well !!! that way will be \n",
    "# easy to add more methods if needed. "
   ]
  },
  {
   "cell_type": "code",
   "execution_count": 70,
   "metadata": {},
   "outputs": [],
   "source": [
    "np.random.seed(0) # if want to reproduce. will it make the two iterations identical?"
   ]
  },
  {
   "cell_type": "code",
   "execution_count": 114,
   "metadata": {},
   "outputs": [
    {
     "data": {
      "application/vnd.jupyter.widget-view+json": {
       "model_id": "647d79c2220145cc8ca54e95d1257703",
       "version_major": 2,
       "version_minor": 0
      },
      "text/plain": [
       "HBox(children=(IntProgress(value=0, max=34), HTML(value='')))"
      ]
     },
     "metadata": {},
     "output_type": "display_data"
    },
    {
     "name": "stdout",
     "output_type": "stream",
     "text": [
      "\n",
      "[IterativeImputer] Completing matrix with shape (105166, 34)\n",
      "[IterativeImputer] Change: 32.88248149546708, scaled tolerance: 0.007437500787600639 \n",
      "[IterativeImputer] Completing matrix with shape (105166, 34)\n",
      "    IL       RMSE  MedianAE    MeanAE        R2  MeanBias  MedianBias  \\\n",
      "0  ALL  12.438427  3.795164  5.833639  0.706097 -1.885671   -0.758914   \n",
      "1  720  15.452101  3.423661  5.373319  0.603749 -1.625938   -0.258879   \n",
      "2  120  10.826801  3.753620  5.630334  0.745553 -1.913110   -0.917705   \n",
      "3   24  12.012421  3.937857  6.165726  0.790260 -1.996161   -1.013925   \n",
      "4    6   9.454045  3.861531  5.689273  0.664802 -1.653497   -0.705309   \n",
      "5    1  14.072941  3.899222  6.091390  0.677550 -2.108125   -0.867529   \n",
      "6  0.5  11.841441  3.943961  6.052614  0.731271 -2.016629   -0.852553   \n",
      "\n",
      "        NMB       NME  \n",
      "0 -0.093228  0.288415  \n",
      "1 -0.086354  0.285379  \n",
      "2 -0.093315  0.274627  \n",
      "3 -0.091141  0.281515  \n",
      "4 -0.083498  0.287296  \n",
      "5 -0.104327  0.301450  \n",
      "6 -0.100171  0.300647  \n",
      "[IterativeImputer] Completing matrix with shape (105166, 34)\n",
      "[IterativeImputer] Change: 4889.456735450682, scaled tolerance: 1.6975 \n",
      "[IterativeImputer] Completing matrix with shape (105166, 34)\n",
      "    IL       RMSE  MedianAE    MeanAE        R2  MeanBias  MedianBias  \\\n",
      "0  ALL  10.428487      3.95  5.713757  0.793407  0.048094        0.52   \n",
      "1  720  13.626786      3.70  5.604615  0.691836  0.216352        0.92   \n",
      "2  120   8.979801      3.94  5.567302  0.824963  0.090961        0.35   \n",
      "3   24  10.949639      4.10  6.092159  0.825731 -0.193834        0.32   \n",
      "4    6   8.886682      4.06  5.735601  0.703827  0.217631        0.59   \n",
      "5    1  10.723085      3.99  5.694527  0.812789 -0.016773        0.50   \n",
      "6  0.5   8.512849      3.96  5.592266  0.861115 -0.026860        0.43   \n",
      "\n",
      "        NMB       NME  \n",
      "0  0.002378  0.282488  \n",
      "1  0.011490  0.297663  \n",
      "2  0.004437  0.271553  \n",
      "3 -0.008850  0.278156  \n",
      "4  0.010990  0.289636  \n",
      "5 -0.000830  0.281810  \n",
      "6 -0.001334  0.277781  \n",
      "[IterativeImputer] Completing matrix with shape (105166, 34)\n",
      "[IterativeImputer] Change: 4689.076584296706, scaled tolerance: 1.6975 \n",
      "[IterativeImputer] Completing matrix with shape (105166, 34)\n",
      "    IL       RMSE  MedianAE    MeanAE        R2  MeanBias  MedianBias  \\\n",
      "0  ALL  11.560115  3.928139  5.735537  0.746138 -0.491336    0.303147   \n",
      "1  720  16.470324  3.768963  5.852627  0.549806 -0.469719    0.723877   \n",
      "2  120   9.957657  4.007821  5.721703  0.784766 -0.633733    0.064204   \n",
      "3   24  12.723740  4.147467  6.301705  0.764685 -0.792658    0.130485   \n",
      "4    6   9.099284  4.066811  5.737520  0.689487 -0.252682    0.385958   \n",
      "5    1  10.785538  3.842336  5.525736  0.810602 -0.418708    0.285504   \n",
      "6  0.5   8.409512  3.752868  5.281674  0.864466 -0.383338    0.235763   \n",
      "\n",
      "        NMB       NME  \n",
      "0 -0.024292  0.283565  \n",
      "1 -0.024947  0.310835  \n",
      "2 -0.030911  0.279084  \n",
      "3 -0.036191  0.287723  \n",
      "4 -0.012760  0.289733  \n",
      "5 -0.020721  0.273457  \n",
      "6 -0.019041  0.262353  \n"
     ]
    },
    {
     "data": {
      "application/vnd.jupyter.widget-view+json": {
       "model_id": "dff90ef71a034793a4939e4a0e4d1f97",
       "version_major": 2,
       "version_minor": 0
      },
      "text/plain": [
       "HBox(children=(IntProgress(value=0, max=34), HTML(value='')))"
      ]
     },
     "metadata": {},
     "output_type": "display_data"
    },
    {
     "data": {
      "application/vnd.jupyter.widget-view+json": {
       "model_id": "3b701a0f37384218b4e9702f85fc39ae",
       "version_major": 2,
       "version_minor": 0
      },
      "text/plain": [
       "HBox(children=(IntProgress(value=0, max=58), HTML(value='')))"
      ]
     },
     "metadata": {},
     "output_type": "display_data"
    },
    {
     "data": {
      "application/vnd.jupyter.widget-view+json": {
       "model_id": "244cca3202a24f6993f26cc7b4a1a0f2",
       "version_major": 2,
       "version_minor": 0
      },
      "text/plain": [
       "HBox(children=(IntProgress(value=0, max=63), HTML(value='')))"
      ]
     },
     "metadata": {},
     "output_type": "display_data"
    },
    {
     "data": {
      "application/vnd.jupyter.widget-view+json": {
       "model_id": "2faa0aa78eac48038ea1d306bf441a43",
       "version_major": 2,
       "version_minor": 0
      },
      "text/plain": [
       "HBox(children=(IntProgress(value=0, max=50), HTML(value='')))"
      ]
     },
     "metadata": {},
     "output_type": "display_data"
    },
    {
     "data": {
      "application/vnd.jupyter.widget-view+json": {
       "model_id": "d6a3fc67c806447081ed56099bd83d34",
       "version_major": 2,
       "version_minor": 0
      },
      "text/plain": [
       "HBox(children=(IntProgress(value=0, max=61), HTML(value='')))"
      ]
     },
     "metadata": {},
     "output_type": "display_data"
    },
    {
     "data": {
      "application/vnd.jupyter.widget-view+json": {
       "model_id": "b287792bddab46619ae2c2b363556a19",
       "version_major": 2,
       "version_minor": 0
      },
      "text/plain": [
       "HBox(children=(IntProgress(value=0, max=113), HTML(value='')))"
      ]
     },
     "metadata": {},
     "output_type": "display_data"
    },
    {
     "data": {
      "application/vnd.jupyter.widget-view+json": {
       "model_id": "afbd12bbac8b4c7c9fc7dfbac3e6b34d",
       "version_major": 2,
       "version_minor": 0
      },
      "text/plain": [
       "HBox(children=(IntProgress(value=0, max=77), HTML(value='')))"
      ]
     },
     "metadata": {},
     "output_type": "display_data"
    },
    {
     "data": {
      "application/vnd.jupyter.widget-view+json": {
       "model_id": "e685f681d517479895be4603660ef84b",
       "version_major": 2,
       "version_minor": 0
      },
      "text/plain": [
       "HBox(children=(IntProgress(value=0, max=160), HTML(value='')))"
      ]
     },
     "metadata": {},
     "output_type": "display_data"
    },
    {
     "data": {
      "application/vnd.jupyter.widget-view+json": {
       "model_id": "2e0a2359239f411bb96908878289349c",
       "version_major": 2,
       "version_minor": 0
      },
      "text/plain": [
       "HBox(children=(IntProgress(value=0, max=93), HTML(value='')))"
      ]
     },
     "metadata": {},
     "output_type": "display_data"
    },
    {
     "data": {
      "application/vnd.jupyter.widget-view+json": {
       "model_id": "f5761c778723435daf1b77a2eba5c2fa",
       "version_major": 2,
       "version_minor": 0
      },
      "text/plain": [
       "HBox(children=(IntProgress(value=0, max=40), HTML(value='')))"
      ]
     },
     "metadata": {},
     "output_type": "display_data"
    },
    {
     "data": {
      "application/vnd.jupyter.widget-view+json": {
       "model_id": "d6ffc68aead24716a22834aaa90ed7f8",
       "version_major": 2,
       "version_minor": 0
      },
      "text/plain": [
       "HBox(children=(IntProgress(value=0, max=67), HTML(value='')))"
      ]
     },
     "metadata": {},
     "output_type": "display_data"
    },
    {
     "data": {
      "application/vnd.jupyter.widget-view+json": {
       "model_id": "32f86869fee5467b920ef0712d73752e",
       "version_major": 2,
       "version_minor": 0
      },
      "text/plain": [
       "HBox(children=(IntProgress(value=0, max=126), HTML(value='')))"
      ]
     },
     "metadata": {},
     "output_type": "display_data"
    },
    {
     "data": {
      "application/vnd.jupyter.widget-view+json": {
       "model_id": "cd6e3593285d4177be2928985ac5fdc2",
       "version_major": 2,
       "version_minor": 0
      },
      "text/plain": [
       "HBox(children=(IntProgress(value=0, max=137), HTML(value='')))"
      ]
     },
     "metadata": {},
     "output_type": "display_data"
    },
    {
     "data": {
      "application/vnd.jupyter.widget-view+json": {
       "model_id": "5186c6bb23fa4fbeafaf054e4bcb40c6",
       "version_major": 2,
       "version_minor": 0
      },
      "text/plain": [
       "HBox(children=(IntProgress(value=0, max=41), HTML(value='')))"
      ]
     },
     "metadata": {},
     "output_type": "display_data"
    },
    {
     "data": {
      "application/vnd.jupyter.widget-view+json": {
       "model_id": "fcbe215ede074a5cb414abfc3f3d9aaa",
       "version_major": 2,
       "version_minor": 0
      },
      "text/plain": [
       "HBox(children=(IntProgress(value=0, max=43), HTML(value='')))"
      ]
     },
     "metadata": {},
     "output_type": "display_data"
    },
    {
     "data": {
      "application/vnd.jupyter.widget-view+json": {
       "model_id": "c082aaf559d84a148e4efa7410661f92",
       "version_major": 2,
       "version_minor": 0
      },
      "text/plain": [
       "HBox(children=(IntProgress(value=0, max=44), HTML(value='')))"
      ]
     },
     "metadata": {},
     "output_type": "display_data"
    },
    {
     "data": {
      "application/vnd.jupyter.widget-view+json": {
       "model_id": "4e0295e20f1a49d6b525f2f0ab43610e",
       "version_major": 2,
       "version_minor": 0
      },
      "text/plain": [
       "HBox(children=(IntProgress(value=0, max=83), HTML(value='')))"
      ]
     },
     "metadata": {},
     "output_type": "display_data"
    },
    {
     "data": {
      "application/vnd.jupyter.widget-view+json": {
       "model_id": "97f19583db2d4e8f838313774d51f893",
       "version_major": 2,
       "version_minor": 0
      },
      "text/plain": [
       "HBox(children=(IntProgress(value=0, max=110), HTML(value='')))"
      ]
     },
     "metadata": {},
     "output_type": "display_data"
    },
    {
     "data": {
      "application/vnd.jupyter.widget-view+json": {
       "model_id": "95296fc301b5496a9367ef7af7b13198",
       "version_major": 2,
       "version_minor": 0
      },
      "text/plain": [
       "HBox(children=(IntProgress(value=0, max=77), HTML(value='')))"
      ]
     },
     "metadata": {},
     "output_type": "display_data"
    },
    {
     "data": {
      "application/vnd.jupyter.widget-view+json": {
       "model_id": "6522ebd812d343d69deb4e1da73e34b7",
       "version_major": 2,
       "version_minor": 0
      },
      "text/plain": [
       "HBox(children=(IntProgress(value=0, max=57), HTML(value='')))"
      ]
     },
     "metadata": {},
     "output_type": "display_data"
    },
    {
     "name": "stderr",
     "output_type": "stream",
     "text": [
      "IOPub message rate exceeded.\n",
      "The notebook server will temporarily stop sending output\n",
      "to the client in order to avoid crashing it.\n",
      "To change this limit, set the config variable\n",
      "`--NotebookApp.iopub_msg_rate_limit`.\n",
      "\n",
      "Current values:\n",
      "NotebookApp.iopub_msg_rate_limit=1000.0 (msgs/sec)\n",
      "NotebookApp.rate_limit_window=3.0 (secs)\n",
      "\n"
     ]
    },
    {
     "data": {
      "application/vnd.jupyter.widget-view+json": {
       "model_id": "681810073d2a4e5c83f75307a7daf5c9",
       "version_major": 2,
       "version_minor": 0
      },
      "text/plain": [
       "HBox(children=(IntProgress(value=0, max=120), HTML(value='')))"
      ]
     },
     "metadata": {},
     "output_type": "display_data"
    },
    {
     "data": {
      "application/vnd.jupyter.widget-view+json": {
       "model_id": "4f581cc2b6e045dba9d0aa884f5acef8",
       "version_major": 2,
       "version_minor": 0
      },
      "text/plain": [
       "HBox(children=(IntProgress(value=0, max=79), HTML(value='')))"
      ]
     },
     "metadata": {},
     "output_type": "display_data"
    },
    {
     "data": {
      "application/vnd.jupyter.widget-view+json": {
       "model_id": "a2d6287ce9114461ba797b545de675c2",
       "version_major": 2,
       "version_minor": 0
      },
      "text/plain": [
       "HBox(children=(IntProgress(value=0, max=125), HTML(value='')))"
      ]
     },
     "metadata": {},
     "output_type": "display_data"
    },
    {
     "data": {
      "application/vnd.jupyter.widget-view+json": {
       "model_id": "934c9ffcc5224304a7f42608b5e9a4ab",
       "version_major": 2,
       "version_minor": 0
      },
      "text/plain": [
       "HBox(children=(IntProgress(value=0, max=111), HTML(value='')))"
      ]
     },
     "metadata": {},
     "output_type": "display_data"
    },
    {
     "data": {
      "application/vnd.jupyter.widget-view+json": {
       "model_id": "fa5fe34418ea4e548b73119b731e02a7",
       "version_major": 2,
       "version_minor": 0
      },
      "text/plain": [
       "HBox(children=(IntProgress(value=0, max=121), HTML(value='')))"
      ]
     },
     "metadata": {},
     "output_type": "display_data"
    },
    {
     "data": {
      "application/vnd.jupyter.widget-view+json": {
       "model_id": "7fa131ee39ab481db5715d8336e9aed2",
       "version_major": 2,
       "version_minor": 0
      },
      "text/plain": [
       "HBox(children=(IntProgress(value=0, max=63), HTML(value='')))"
      ]
     },
     "metadata": {},
     "output_type": "display_data"
    },
    {
     "name": "stdout",
     "output_type": "stream",
     "text": [
      "\n",
      "    IL       RMSE  MedianAE    MeanAE        R2  MeanBias  MedianBias  \\\n",
      "0  ALL  11.122423  3.904759  5.722531  0.764998 -0.655609   -0.044383   \n",
      "1  720  15.588694  3.769936  5.862712  0.596713 -0.769667    0.222102   \n",
      "2  120   9.770506  4.102955  5.819453  0.792780 -0.671991   -0.209515   \n",
      "3   24  11.651496  4.216342  6.326166  0.802675 -0.870753   -0.192775   \n",
      "4    6   9.483836  4.068298  5.849988  0.662687 -0.442975    0.044001   \n",
      "5    1  10.739499  3.767729  5.433054  0.812215 -0.633094   -0.099056   \n",
      "6  0.5   7.937271  3.567556  5.053792  0.879261 -0.547009   -0.065438   \n",
      "\n",
      "        NMB       NME  \n",
      "0 -0.032413  0.282922  \n",
      "1 -0.040877  0.311370  \n",
      "2 -0.032777  0.283852  \n",
      "3 -0.039757  0.288840  \n",
      "4 -0.022369  0.295412  \n",
      "5 -0.031330  0.268870  \n",
      "6 -0.027171  0.251034  \n"
     ]
    },
    {
     "data": {
      "application/vnd.jupyter.widget-view+json": {
       "model_id": "bed85300314b40549c8d094976815307",
       "version_major": 2,
       "version_minor": 0
      },
      "text/plain": [
       "HBox(children=(IntProgress(value=0, max=34), HTML(value='')))"
      ]
     },
     "metadata": {},
     "output_type": "display_data"
    },
    {
     "name": "stdout",
     "output_type": "stream",
     "text": [
      "\n",
      "[IterativeImputer] Completing matrix with shape (105166, 34)\n",
      "[IterativeImputer] Change: 30.950137578472624, scaled tolerance: 0.007437500787600639 \n",
      "[IterativeImputer] Completing matrix with shape (105166, 34)\n",
      "    IL       RMSE  MedianAE    MeanAE        R2  MeanBias  MedianBias  \\\n",
      "0  ALL  13.280805  3.865116  6.001375  0.713715 -1.907127   -0.758606   \n",
      "1  720  13.003423  3.757138  5.915485  0.701520 -1.392577   -0.353833   \n",
      "2  120  12.533740  3.798777  5.825099  0.730641 -2.005374   -0.915186   \n",
      "3   24  12.987850  3.929911  6.233624  0.761085 -2.151900   -0.928727   \n",
      "4    6  12.800380  3.855952  5.882463  0.735234 -1.821108   -0.779825   \n",
      "5    1  15.199810  3.939245  6.119650  0.666672 -2.100499   -0.795796   \n",
      "6  0.5  12.968641  3.916860  6.029220  0.680820 -1.972540   -0.798707   \n",
      "\n",
      "        NMB       NME  \n",
      "0 -0.092397  0.290756  \n",
      "1 -0.068604  0.291419  \n",
      "2 -0.094562  0.274678  \n",
      "3 -0.099396  0.287931  \n",
      "4 -0.089057  0.287667  \n",
      "5 -0.103700  0.302122  \n",
      "6 -0.098641  0.301504  \n",
      "[IterativeImputer] Completing matrix with shape (105166, 34)\n",
      "[IterativeImputer] Change: 4791.833445132004, scaled tolerance: 1.6975 \n",
      "[IterativeImputer] Completing matrix with shape (105166, 34)\n",
      "    IL       RMSE  MedianAE    MeanAE        R2  MeanBias  MedianBias  \\\n",
      "0  ALL  11.005214      4.02  5.900296  0.803417  0.139417        0.53   \n",
      "1  720  11.310197      4.07  6.027218  0.774191  0.476828        0.84   \n",
      "2  120  12.837854      3.97  6.021200  0.717412  0.339190        0.40   \n",
      "3   24  12.284068      4.15  6.296445  0.786276 -0.092808        0.44   \n",
      "4    6  10.310568      3.98  5.797707  0.828216  0.103720        0.50   \n",
      "5    1   9.431322      4.00  5.672735  0.871666  0.012158        0.51   \n",
      "6  0.5   9.416422      3.97  5.590616  0.831725  0.000634        0.51   \n",
      "\n",
      "        NMB       NME  \n",
      "0  0.006755  0.285859  \n",
      "1  0.023490  0.296924  \n",
      "2  0.015994  0.283925  \n",
      "3 -0.004287  0.290833  \n",
      "4  0.005072  0.283522  \n",
      "5  0.000600  0.280059  \n",
      "6  0.000032  0.279571  \n",
      "[IterativeImputer] Completing matrix with shape (105166, 34)\n",
      "[IterativeImputer] Change: 4491.878193433825, scaled tolerance: 1.6975 \n",
      "[IterativeImputer] Completing matrix with shape (105166, 34)\n",
      "    IL       RMSE  MedianAE    MeanAE        R2  MeanBias  MedianBias  \\\n",
      "0  ALL  11.849237  3.968843  5.904179  0.772107 -0.481314    0.271927   \n",
      "1  720  12.155826  4.120523  6.213930  0.739163 -0.317098    0.519312   \n",
      "2  120  12.931661  4.067836  6.144202  0.713267 -0.604716    0.114101   \n",
      "3   24  15.032810  4.103886  6.440849  0.679926 -0.787110    0.106714   \n",
      "4    6  10.439039  3.983994  5.805940  0.823909 -0.442954    0.296573   \n",
      "5    1  10.304640  3.832214  5.521259  0.846799 -0.399588    0.313096   \n",
      "6  0.5   9.332086  3.737862  5.306744  0.834726 -0.339597    0.280773   \n",
      "\n",
      "        NMB       NME  \n",
      "0 -0.023319  0.286047  \n",
      "1 -0.015621  0.306122  \n",
      "2 -0.028515  0.289726  \n",
      "3 -0.036357  0.297503  \n",
      "4 -0.021662  0.283925  \n",
      "5 -0.019727  0.272580  \n",
      "6 -0.016982  0.265375  \n"
     ]
    },
    {
     "data": {
      "application/vnd.jupyter.widget-view+json": {
       "model_id": "b5f61d467df745a1ab17c625f818f75b",
       "version_major": 2,
       "version_minor": 0
      },
      "text/plain": [
       "HBox(children=(IntProgress(value=0, max=34), HTML(value='')))"
      ]
     },
     "metadata": {},
     "output_type": "display_data"
    },
    {
     "data": {
      "application/vnd.jupyter.widget-view+json": {
       "model_id": "8ce29dbe4eee4f639b6a621eae9298b2",
       "version_major": 2,
       "version_minor": 0
      },
      "text/plain": [
       "HBox(children=(IntProgress(value=0, max=58), HTML(value='')))"
      ]
     },
     "metadata": {},
     "output_type": "display_data"
    },
    {
     "data": {
      "application/vnd.jupyter.widget-view+json": {
       "model_id": "878c79cb640e4698ba1c4f433d2f9508",
       "version_major": 2,
       "version_minor": 0
      },
      "text/plain": [
       "HBox(children=(IntProgress(value=0, max=63), HTML(value='')))"
      ]
     },
     "metadata": {},
     "output_type": "display_data"
    },
    {
     "data": {
      "application/vnd.jupyter.widget-view+json": {
       "model_id": "68bcf639a5b546edb8d11fdebc1718b5",
       "version_major": 2,
       "version_minor": 0
      },
      "text/plain": [
       "HBox(children=(IntProgress(value=0, max=50), HTML(value='')))"
      ]
     },
     "metadata": {},
     "output_type": "display_data"
    },
    {
     "data": {
      "application/vnd.jupyter.widget-view+json": {
       "model_id": "10457bea6121487a92e5772d8efa784f",
       "version_major": 2,
       "version_minor": 0
      },
      "text/plain": [
       "HBox(children=(IntProgress(value=0, max=61), HTML(value='')))"
      ]
     },
     "metadata": {},
     "output_type": "display_data"
    },
    {
     "data": {
      "application/vnd.jupyter.widget-view+json": {
       "model_id": "869b6ce6f3e546f5b65dda3ccbfad514",
       "version_major": 2,
       "version_minor": 0
      },
      "text/plain": [
       "HBox(children=(IntProgress(value=0, max=113), HTML(value='')))"
      ]
     },
     "metadata": {},
     "output_type": "display_data"
    },
    {
     "data": {
      "application/vnd.jupyter.widget-view+json": {
       "model_id": "55d044951ddc4910a2ab739519333e31",
       "version_major": 2,
       "version_minor": 0
      },
      "text/plain": [
       "HBox(children=(IntProgress(value=0, max=77), HTML(value='')))"
      ]
     },
     "metadata": {},
     "output_type": "display_data"
    },
    {
     "data": {
      "application/vnd.jupyter.widget-view+json": {
       "model_id": "9e1125dd67f54975902270fe351adff0",
       "version_major": 2,
       "version_minor": 0
      },
      "text/plain": [
       "HBox(children=(IntProgress(value=0, max=160), HTML(value='')))"
      ]
     },
     "metadata": {},
     "output_type": "display_data"
    },
    {
     "data": {
      "application/vnd.jupyter.widget-view+json": {
       "model_id": "6c81444fca2744cbb5c14884cba49878",
       "version_major": 2,
       "version_minor": 0
      },
      "text/plain": [
       "HBox(children=(IntProgress(value=0, max=94), HTML(value='')))"
      ]
     },
     "metadata": {},
     "output_type": "display_data"
    },
    {
     "data": {
      "application/vnd.jupyter.widget-view+json": {
       "model_id": "32f8cfef6f654f3ba57a2a79f03d107f",
       "version_major": 2,
       "version_minor": 0
      },
      "text/plain": [
       "HBox(children=(IntProgress(value=0, max=40), HTML(value='')))"
      ]
     },
     "metadata": {},
     "output_type": "display_data"
    },
    {
     "data": {
      "application/vnd.jupyter.widget-view+json": {
       "model_id": "7395f827bbe94e6192994b488ca6d4bf",
       "version_major": 2,
       "version_minor": 0
      },
      "text/plain": [
       "HBox(children=(IntProgress(value=0, max=67), HTML(value='')))"
      ]
     },
     "metadata": {},
     "output_type": "display_data"
    },
    {
     "name": "stderr",
     "output_type": "stream",
     "text": [
      "IOPub message rate exceeded.\n",
      "The notebook server will temporarily stop sending output\n",
      "to the client in order to avoid crashing it.\n",
      "To change this limit, set the config variable\n",
      "`--NotebookApp.iopub_msg_rate_limit`.\n",
      "\n",
      "Current values:\n",
      "NotebookApp.iopub_msg_rate_limit=1000.0 (msgs/sec)\n",
      "NotebookApp.rate_limit_window=3.0 (secs)\n",
      "\n"
     ]
    },
    {
     "data": {
      "application/vnd.jupyter.widget-view+json": {
       "model_id": "d474b8c9d71e42f78bda2b16dbb1d6f9",
       "version_major": 2,
       "version_minor": 0
      },
      "text/plain": [
       "HBox(children=(IntProgress(value=0, max=63), HTML(value='')))"
      ]
     },
     "metadata": {},
     "output_type": "display_data"
    },
    {
     "data": {
      "application/vnd.jupyter.widget-view+json": {
       "model_id": "f717eb17d4d24a279639926367d074cc",
       "version_major": 2,
       "version_minor": 0
      },
      "text/plain": [
       "HBox(children=(IntProgress(value=0, max=66), HTML(value='')))"
      ]
     },
     "metadata": {},
     "output_type": "display_data"
    },
    {
     "data": {
      "application/vnd.jupyter.widget-view+json": {
       "model_id": "d33c69bf7bc04a46a81ba3c02da75b70",
       "version_major": 2,
       "version_minor": 0
      },
      "text/plain": [
       "HBox(children=(IntProgress(value=0, max=80), HTML(value='')))"
      ]
     },
     "metadata": {},
     "output_type": "display_data"
    },
    {
     "data": {
      "application/vnd.jupyter.widget-view+json": {
       "model_id": "e44429fb3ad14f25a5c8d83119ae1a3e",
       "version_major": 2,
       "version_minor": 0
      },
      "text/plain": [
       "HBox(children=(IntProgress(value=0, max=59), HTML(value='')))"
      ]
     },
     "metadata": {},
     "output_type": "display_data"
    },
    {
     "data": {
      "application/vnd.jupyter.widget-view+json": {
       "model_id": "13f70b6188bb44bc8f5ab1bc3f372d6f",
       "version_major": 2,
       "version_minor": 0
      },
      "text/plain": [
       "HBox(children=(IntProgress(value=0, max=111), HTML(value='')))"
      ]
     },
     "metadata": {},
     "output_type": "display_data"
    },
    {
     "data": {
      "application/vnd.jupyter.widget-view+json": {
       "model_id": "10d706cdabd74b36b85d04b818bba5b6",
       "version_major": 2,
       "version_minor": 0
      },
      "text/plain": [
       "HBox(children=(IntProgress(value=0, max=141), HTML(value='')))"
      ]
     },
     "metadata": {},
     "output_type": "display_data"
    },
    {
     "data": {
      "application/vnd.jupyter.widget-view+json": {
       "model_id": "aa8c6c6bbefa4178870d592287059845",
       "version_major": 2,
       "version_minor": 0
      },
      "text/plain": [
       "HBox(children=(IntProgress(value=0, max=55), HTML(value='')))"
      ]
     },
     "metadata": {},
     "output_type": "display_data"
    },
    {
     "data": {
      "application/vnd.jupyter.widget-view+json": {
       "model_id": "d5669c6c06cd44abbd03612f6682a74a",
       "version_major": 2,
       "version_minor": 0
      },
      "text/plain": [
       "HBox(children=(IntProgress(value=0, max=43), HTML(value='')))"
      ]
     },
     "metadata": {},
     "output_type": "display_data"
    },
    {
     "data": {
      "application/vnd.jupyter.widget-view+json": {
       "model_id": "d5011e9a3ab14babac27385732c4c9b9",
       "version_major": 2,
       "version_minor": 0
      },
      "text/plain": [
       "HBox(children=(IntProgress(value=0, max=120), HTML(value='')))"
      ]
     },
     "metadata": {},
     "output_type": "display_data"
    },
    {
     "data": {
      "application/vnd.jupyter.widget-view+json": {
       "model_id": "3c786e0aec07432c876e727cad710f23",
       "version_major": 2,
       "version_minor": 0
      },
      "text/plain": [
       "HBox(children=(IntProgress(value=0, max=80), HTML(value='')))"
      ]
     },
     "metadata": {},
     "output_type": "display_data"
    },
    {
     "data": {
      "application/vnd.jupyter.widget-view+json": {
       "model_id": "57ea9f114f864138bcad457435b355aa",
       "version_major": 2,
       "version_minor": 0
      },
      "text/plain": [
       "HBox(children=(IntProgress(value=0, max=125), HTML(value='')))"
      ]
     },
     "metadata": {},
     "output_type": "display_data"
    },
    {
     "data": {
      "application/vnd.jupyter.widget-view+json": {
       "model_id": "a4d23628a5b14c92b235621bb4579060",
       "version_major": 2,
       "version_minor": 0
      },
      "text/plain": [
       "HBox(children=(IntProgress(value=0, max=111), HTML(value='')))"
      ]
     },
     "metadata": {},
     "output_type": "display_data"
    },
    {
     "data": {
      "application/vnd.jupyter.widget-view+json": {
       "model_id": "e43c3a50ea794b6f9f3077a040d8b8eb",
       "version_major": 2,
       "version_minor": 0
      },
      "text/plain": [
       "HBox(children=(IntProgress(value=0, max=121), HTML(value='')))"
      ]
     },
     "metadata": {},
     "output_type": "display_data"
    },
    {
     "data": {
      "application/vnd.jupyter.widget-view+json": {
       "model_id": "b0fe05fc798649f4b123df456b47270b",
       "version_major": 2,
       "version_minor": 0
      },
      "text/plain": [
       "HBox(children=(IntProgress(value=0, max=63), HTML(value='')))"
      ]
     },
     "metadata": {},
     "output_type": "display_data"
    },
    {
     "name": "stdout",
     "output_type": "stream",
     "text": [
      "\n",
      "    IL       RMSE  MedianAE    MeanAE        R2  MeanBias  MedianBias  \\\n",
      "0  ALL  11.956590  3.939245  5.891818  0.767959 -0.639575   -0.049199   \n",
      "1  720  12.006658  4.106762  6.244447  0.745525 -0.427444    0.124140   \n",
      "2  120  12.647720  4.139178  6.201788  0.725720 -0.597148   -0.152534   \n",
      "3   24  15.163851  4.186635  6.544506  0.674322 -1.081637   -0.238473   \n",
      "4    6  12.242873  4.010136  5.920037  0.757795 -0.645320   -0.007097   \n",
      "5    1   9.763603  3.721368  5.368086  0.862464 -0.579456   -0.035214   \n",
      "6  0.5   8.905189  3.559226  5.082744  0.849501 -0.507493   -0.003503   \n",
      "\n",
      "        NMB       NME  \n",
      "0 -0.030986  0.285448  \n",
      "1 -0.021058  0.307625  \n",
      "2 -0.028158  0.292441  \n",
      "3 -0.049961  0.302291  \n",
      "4 -0.031558  0.289504  \n",
      "5 -0.028607  0.265018  \n",
      "6 -0.025378  0.254173  \n"
     ]
    },
    {
     "data": {
      "application/vnd.jupyter.widget-view+json": {
       "model_id": "c4ff9d62edf343be8e08d0a375e5eb10",
       "version_major": 2,
       "version_minor": 0
      },
      "text/plain": [
       "HBox(children=(IntProgress(value=0, max=34), HTML(value='')))"
      ]
     },
     "metadata": {},
     "output_type": "display_data"
    },
    {
     "name": "stdout",
     "output_type": "stream",
     "text": [
      "\n",
      "[IterativeImputer] Completing matrix with shape (105166, 34)\n",
      "[IterativeImputer] Change: 36.77019900336737, scaled tolerance: 0.007437500787600639 \n",
      "[IterativeImputer] Completing matrix with shape (105166, 34)\n",
      "    IL       RMSE  MedianAE    MeanAE        R2  MeanBias  MedianBias  \\\n",
      "0  ALL  12.924621  3.806036  5.939713  0.742333 -1.913641   -0.822991   \n",
      "1  720  13.537285  3.529028  5.700581  0.790454 -1.615006   -0.698522   \n",
      "2  120  13.234147  3.705278  5.861921  0.752505 -1.712626   -0.853019   \n",
      "3   24  11.290605  3.868151  5.984222  0.796862 -2.099887   -0.897957   \n",
      "4    6  12.564239  3.883098  5.888280  0.696803 -1.984916   -0.851864   \n",
      "5    1  13.214169  3.944943  6.089598  0.720890 -2.006515   -0.794895   \n",
      "6  0.5  13.551266  3.924919  6.112601  0.655088 -2.062453   -0.842517   \n",
      "\n",
      "        NMB       NME  \n",
      "0 -0.092839  0.288163  \n",
      "1 -0.077968  0.275207  \n",
      "2 -0.081361  0.278479  \n",
      "3 -0.097386  0.277529  \n",
      "4 -0.098213  0.291350  \n",
      "5 -0.100142  0.303923  \n",
      "6 -0.102558  0.303958  \n",
      "[IterativeImputer] Completing matrix with shape (105166, 34)\n",
      "[IterativeImputer] Change: 5892.799367399573, scaled tolerance: 1.6975 \n",
      "[IterativeImputer] Completing matrix with shape (105166, 34)\n",
      "    IL       RMSE  MedianAE    MeanAE        R2  MeanBias  MedianBias  \\\n",
      "0  ALL  10.665610      3.96  5.788714  0.824534  0.072199        0.49   \n",
      "1  720  12.310569      3.79  5.785565  0.826710  0.416462        0.59   \n",
      "2  120  12.297862      3.92  5.924497  0.786285  0.246514        0.54   \n",
      "3   24  10.023919      4.07  5.935202  0.839885 -0.166000        0.40   \n",
      "4    6  10.317184      4.00  5.731847  0.795556 -0.030199        0.43   \n",
      "5    1   9.295223      4.02  5.731183  0.861893  0.005692        0.52   \n",
      "6  0.5   9.307639      3.99  5.626078  0.837285 -0.039487        0.45   \n",
      "\n",
      "        NMB       NME  \n",
      "0  0.003503  0.280837  \n",
      "1  0.020106  0.279310  \n",
      "2  0.011711  0.281452  \n",
      "3 -0.007699  0.275255  \n",
      "4 -0.001494  0.283610  \n",
      "5  0.000284  0.286035  \n",
      "6 -0.001964  0.279765  \n",
      "[IterativeImputer] Completing matrix with shape (105166, 34)\n",
      "[IterativeImputer] Change: 5701.1264364735125, scaled tolerance: 1.6975 \n",
      "[IterativeImputer] Completing matrix with shape (105166, 34)\n",
      "    IL       RMSE  MedianAE    MeanAE        R2  MeanBias  MedianBias  \\\n",
      "0  ALL  10.936891  3.956786  5.819074  0.815494 -0.553051    0.269678   \n",
      "1  720  12.196907  3.987146  5.982118  0.829896 -0.429606    0.394059   \n",
      "2  120  12.349989  3.999041  6.072047  0.784470 -0.686555    0.301371   \n",
      "3   24  11.299737  4.122523  6.146112  0.796534 -0.956079    0.068999   \n",
      "4    6  10.622951  4.019705  5.816309  0.783258 -0.518678    0.204606   \n",
      "5    1   9.591826  3.872666  5.564258  0.852939 -0.375893    0.351082   \n",
      "6  0.5   9.177422  3.748371  5.338898  0.841806 -0.355241    0.288154   \n",
      "\n",
      "        NMB       NME  \n",
      "0 -0.026831  0.282310  \n",
      "1 -0.020740  0.288799  \n",
      "2 -0.032616  0.288461  \n",
      "3 -0.044340  0.285036  \n",
      "4 -0.025664  0.287789  \n",
      "5 -0.018760  0.277704  \n",
      "6 -0.017665  0.265485  \n"
     ]
    },
    {
     "data": {
      "application/vnd.jupyter.widget-view+json": {
       "model_id": "437f4642a61648ae9cc7eaab1a84172b",
       "version_major": 2,
       "version_minor": 0
      },
      "text/plain": [
       "HBox(children=(IntProgress(value=0, max=34), HTML(value='')))"
      ]
     },
     "metadata": {},
     "output_type": "display_data"
    },
    {
     "data": {
      "application/vnd.jupyter.widget-view+json": {
       "model_id": "36f2eec49bc74edca9db1b57ccfcda88",
       "version_major": 2,
       "version_minor": 0
      },
      "text/plain": [
       "HBox(children=(IntProgress(value=0, max=58), HTML(value='')))"
      ]
     },
     "metadata": {},
     "output_type": "display_data"
    },
    {
     "data": {
      "application/vnd.jupyter.widget-view+json": {
       "model_id": "2d330e977ef044e6be1f0690187df46e",
       "version_major": 2,
       "version_minor": 0
      },
      "text/plain": [
       "HBox(children=(IntProgress(value=0, max=63), HTML(value='')))"
      ]
     },
     "metadata": {},
     "output_type": "display_data"
    },
    {
     "data": {
      "application/vnd.jupyter.widget-view+json": {
       "model_id": "a50a5199d22c46e5919900cbd02408a5",
       "version_major": 2,
       "version_minor": 0
      },
      "text/plain": [
       "HBox(children=(IntProgress(value=0, max=50), HTML(value='')))"
      ]
     },
     "metadata": {},
     "output_type": "display_data"
    },
    {
     "name": "stderr",
     "output_type": "stream",
     "text": [
      "IOPub message rate exceeded.\n",
      "The notebook server will temporarily stop sending output\n",
      "to the client in order to avoid crashing it.\n",
      "To change this limit, set the config variable\n",
      "`--NotebookApp.iopub_msg_rate_limit`.\n",
      "\n",
      "Current values:\n",
      "NotebookApp.iopub_msg_rate_limit=1000.0 (msgs/sec)\n",
      "NotebookApp.rate_limit_window=3.0 (secs)\n",
      "\n"
     ]
    },
    {
     "data": {
      "application/vnd.jupyter.widget-view+json": {
       "model_id": "7868d7c123d54db280fbf07fd6b59b4f",
       "version_major": 2,
       "version_minor": 0
      },
      "text/plain": [
       "HBox(children=(IntProgress(value=0, max=137), HTML(value='')))"
      ]
     },
     "metadata": {},
     "output_type": "display_data"
    },
    {
     "data": {
      "application/vnd.jupyter.widget-view+json": {
       "model_id": "b0e03f4c932942a983bb3e557be28253",
       "version_major": 2,
       "version_minor": 0
      },
      "text/plain": [
       "HBox(children=(IntProgress(value=0, max=41), HTML(value='')))"
      ]
     },
     "metadata": {},
     "output_type": "display_data"
    },
    {
     "data": {
      "application/vnd.jupyter.widget-view+json": {
       "model_id": "455e77d0d10f41738bee9fa8ded7a519",
       "version_major": 2,
       "version_minor": 0
      },
      "text/plain": [
       "HBox(children=(IntProgress(value=0, max=43), HTML(value='')))"
      ]
     },
     "metadata": {},
     "output_type": "display_data"
    },
    {
     "data": {
      "application/vnd.jupyter.widget-view+json": {
       "model_id": "aa03e4c1532348ce80b47025ee584ee9",
       "version_major": 2,
       "version_minor": 0
      },
      "text/plain": [
       "HBox(children=(IntProgress(value=0, max=44), HTML(value='')))"
      ]
     },
     "metadata": {},
     "output_type": "display_data"
    },
    {
     "data": {
      "application/vnd.jupyter.widget-view+json": {
       "model_id": "1d63a07c7fdf407fb33a6cceab6f783f",
       "version_major": 2,
       "version_minor": 0
      },
      "text/plain": [
       "HBox(children=(IntProgress(value=0, max=83), HTML(value='')))"
      ]
     },
     "metadata": {},
     "output_type": "display_data"
    },
    {
     "data": {
      "application/vnd.jupyter.widget-view+json": {
       "model_id": "37d63ec3126e4a5fb833e085d029c389",
       "version_major": 2,
       "version_minor": 0
      },
      "text/plain": [
       "HBox(children=(IntProgress(value=0, max=110), HTML(value='')))"
      ]
     },
     "metadata": {},
     "output_type": "display_data"
    },
    {
     "data": {
      "application/vnd.jupyter.widget-view+json": {
       "model_id": "335f51864f784812a367b91d8f7d28ca",
       "version_major": 2,
       "version_minor": 0
      },
      "text/plain": [
       "HBox(children=(IntProgress(value=0, max=77), HTML(value='')))"
      ]
     },
     "metadata": {},
     "output_type": "display_data"
    },
    {
     "data": {
      "application/vnd.jupyter.widget-view+json": {
       "model_id": "cf4a214ccacb4dd3bc8e2c3bbe05c6ca",
       "version_major": 2,
       "version_minor": 0
      },
      "text/plain": [
       "HBox(children=(IntProgress(value=0, max=57), HTML(value='')))"
      ]
     },
     "metadata": {},
     "output_type": "display_data"
    },
    {
     "data": {
      "application/vnd.jupyter.widget-view+json": {
       "model_id": "805b0f8a5e44435e984669e805659428",
       "version_major": 2,
       "version_minor": 0
      },
      "text/plain": [
       "HBox(children=(IntProgress(value=0, max=118), HTML(value='')))"
      ]
     },
     "metadata": {},
     "output_type": "display_data"
    },
    {
     "data": {
      "application/vnd.jupyter.widget-view+json": {
       "model_id": "0ed907ee93ac4574ac103c89d8d7912d",
       "version_major": 2,
       "version_minor": 0
      },
      "text/plain": [
       "HBox(children=(IntProgress(value=0, max=63), HTML(value='')))"
      ]
     },
     "metadata": {},
     "output_type": "display_data"
    },
    {
     "data": {
      "application/vnd.jupyter.widget-view+json": {
       "model_id": "52d2d9e66bcb4b558781f2dd9d26dcd0",
       "version_major": 2,
       "version_minor": 0
      },
      "text/plain": [
       "HBox(children=(IntProgress(value=0, max=66), HTML(value='')))"
      ]
     },
     "metadata": {},
     "output_type": "display_data"
    },
    {
     "data": {
      "application/vnd.jupyter.widget-view+json": {
       "model_id": "4cdf807a517642c7b95bc86b3966b69b",
       "version_major": 2,
       "version_minor": 0
      },
      "text/plain": [
       "HBox(children=(IntProgress(value=0, max=80), HTML(value='')))"
      ]
     },
     "metadata": {},
     "output_type": "display_data"
    },
    {
     "data": {
      "application/vnd.jupyter.widget-view+json": {
       "model_id": "ac260c4f816f488bb32ff5320dc709b3",
       "version_major": 2,
       "version_minor": 0
      },
      "text/plain": [
       "HBox(children=(IntProgress(value=0, max=59), HTML(value='')))"
      ]
     },
     "metadata": {},
     "output_type": "display_data"
    },
    {
     "data": {
      "application/vnd.jupyter.widget-view+json": {
       "model_id": "959fe764d0de4269942de6d5cfc9e6b7",
       "version_major": 2,
       "version_minor": 0
      },
      "text/plain": [
       "HBox(children=(IntProgress(value=0, max=111), HTML(value='')))"
      ]
     },
     "metadata": {},
     "output_type": "display_data"
    },
    {
     "data": {
      "application/vnd.jupyter.widget-view+json": {
       "model_id": "b39bdb7ba2a2414a8519a02b8bce8778",
       "version_major": 2,
       "version_minor": 0
      },
      "text/plain": [
       "HBox(children=(IntProgress(value=0, max=141), HTML(value='')))"
      ]
     },
     "metadata": {},
     "output_type": "display_data"
    },
    {
     "data": {
      "application/vnd.jupyter.widget-view+json": {
       "model_id": "14e81104aa2f4634b2ac6c20bbaf6a8f",
       "version_major": 2,
       "version_minor": 0
      },
      "text/plain": [
       "HBox(children=(IntProgress(value=0, max=54), HTML(value='')))"
      ]
     },
     "metadata": {},
     "output_type": "display_data"
    },
    {
     "data": {
      "application/vnd.jupyter.widget-view+json": {
       "model_id": "dcc513b189c94176878fe9a082956a3b",
       "version_major": 2,
       "version_minor": 0
      },
      "text/plain": [
       "HBox(children=(IntProgress(value=0, max=42), HTML(value='')))"
      ]
     },
     "metadata": {},
     "output_type": "display_data"
    },
    {
     "data": {
      "application/vnd.jupyter.widget-view+json": {
       "model_id": "7a838b3bd527492abf49670a7485d5f0",
       "version_major": 2,
       "version_minor": 0
      },
      "text/plain": [
       "HBox(children=(IntProgress(value=0, max=120), HTML(value='')))"
      ]
     },
     "metadata": {},
     "output_type": "display_data"
    },
    {
     "name": "stderr",
     "output_type": "stream",
     "text": [
      "IOPub message rate exceeded.\n",
      "The notebook server will temporarily stop sending output\n",
      "to the client in order to avoid crashing it.\n",
      "To change this limit, set the config variable\n",
      "`--NotebookApp.iopub_msg_rate_limit`.\n",
      "\n",
      "Current values:\n",
      "NotebookApp.iopub_msg_rate_limit=1000.0 (msgs/sec)\n",
      "NotebookApp.rate_limit_window=3.0 (secs)\n",
      "\n"
     ]
    },
    {
     "data": {
      "application/vnd.jupyter.widget-view+json": {
       "model_id": "ea8056cf7e8c410abee700dff3b081b9",
       "version_major": 2,
       "version_minor": 0
      },
      "text/plain": [
       "HBox(children=(IntProgress(value=0, max=77), HTML(value='')))"
      ]
     },
     "metadata": {},
     "output_type": "display_data"
    },
    {
     "data": {
      "application/vnd.jupyter.widget-view+json": {
       "model_id": "1b35cdd7735645bcab60537d0cff2d6d",
       "version_major": 2,
       "version_minor": 0
      },
      "text/plain": [
       "HBox(children=(IntProgress(value=0, max=160), HTML(value='')))"
      ]
     },
     "metadata": {},
     "output_type": "display_data"
    },
    {
     "data": {
      "application/vnd.jupyter.widget-view+json": {
       "model_id": "7ab4ad99d01c4d4f92a8dd3d987b1330",
       "version_major": 2,
       "version_minor": 0
      },
      "text/plain": [
       "HBox(children=(IntProgress(value=0, max=94), HTML(value='')))"
      ]
     },
     "metadata": {},
     "output_type": "display_data"
    },
    {
     "data": {
      "application/vnd.jupyter.widget-view+json": {
       "model_id": "87777962768244cabbbd718bf4c8d0de",
       "version_major": 2,
       "version_minor": 0
      },
      "text/plain": [
       "HBox(children=(IntProgress(value=0, max=40), HTML(value='')))"
      ]
     },
     "metadata": {},
     "output_type": "display_data"
    },
    {
     "data": {
      "application/vnd.jupyter.widget-view+json": {
       "model_id": "7e8cdf5fddc34f0eb8c4ce22381364d9",
       "version_major": 2,
       "version_minor": 0
      },
      "text/plain": [
       "HBox(children=(IntProgress(value=0, max=67), HTML(value='')))"
      ]
     },
     "metadata": {},
     "output_type": "display_data"
    },
    {
     "data": {
      "application/vnd.jupyter.widget-view+json": {
       "model_id": "0fb559c9394b4ba3a3431191d22ad1d9",
       "version_major": 2,
       "version_minor": 0
      },
      "text/plain": [
       "HBox(children=(IntProgress(value=0, max=126), HTML(value='')))"
      ]
     },
     "metadata": {},
     "output_type": "display_data"
    },
    {
     "data": {
      "application/vnd.jupyter.widget-view+json": {
       "model_id": "14c8ce40723d48c1b5217a8483fceed6",
       "version_major": 2,
       "version_minor": 0
      },
      "text/plain": [
       "HBox(children=(IntProgress(value=0, max=137), HTML(value='')))"
      ]
     },
     "metadata": {},
     "output_type": "display_data"
    },
    {
     "data": {
      "application/vnd.jupyter.widget-view+json": {
       "model_id": "74af15f5565f432e8ae6fab732dbabab",
       "version_major": 2,
       "version_minor": 0
      },
      "text/plain": [
       "HBox(children=(IntProgress(value=0, max=40), HTML(value='')))"
      ]
     },
     "metadata": {},
     "output_type": "display_data"
    },
    {
     "data": {
      "application/vnd.jupyter.widget-view+json": {
       "model_id": "1911acd103154f3c86f95c46eeff40c5",
       "version_major": 2,
       "version_minor": 0
      },
      "text/plain": [
       "HBox(children=(IntProgress(value=0, max=43), HTML(value='')))"
      ]
     },
     "metadata": {},
     "output_type": "display_data"
    },
    {
     "data": {
      "application/vnd.jupyter.widget-view+json": {
       "model_id": "3668e3d576ea4a82bc4dd8a0b268bf46",
       "version_major": 2,
       "version_minor": 0
      },
      "text/plain": [
       "HBox(children=(IntProgress(value=0, max=44), HTML(value='')))"
      ]
     },
     "metadata": {},
     "output_type": "display_data"
    },
    {
     "data": {
      "application/vnd.jupyter.widget-view+json": {
       "model_id": "181044cc834345eb916b71eaca65bde8",
       "version_major": 2,
       "version_minor": 0
      },
      "text/plain": [
       "HBox(children=(IntProgress(value=0, max=83), HTML(value='')))"
      ]
     },
     "metadata": {},
     "output_type": "display_data"
    },
    {
     "data": {
      "application/vnd.jupyter.widget-view+json": {
       "model_id": "512b4cbddb0744eea52cb14c7e1b01d0",
       "version_major": 2,
       "version_minor": 0
      },
      "text/plain": [
       "HBox(children=(IntProgress(value=0, max=110), HTML(value='')))"
      ]
     },
     "metadata": {},
     "output_type": "display_data"
    },
    {
     "data": {
      "application/vnd.jupyter.widget-view+json": {
       "model_id": "5e50241122064d4da37dc27457b85707",
       "version_major": 2,
       "version_minor": 0
      },
      "text/plain": [
       "HBox(children=(IntProgress(value=0, max=77), HTML(value='')))"
      ]
     },
     "metadata": {},
     "output_type": "display_data"
    },
    {
     "data": {
      "application/vnd.jupyter.widget-view+json": {
       "model_id": "84e3e12cbda240708949ab61cfa9d9fd",
       "version_major": 2,
       "version_minor": 0
      },
      "text/plain": [
       "HBox(children=(IntProgress(value=0, max=57), HTML(value='')))"
      ]
     },
     "metadata": {},
     "output_type": "display_data"
    },
    {
     "data": {
      "application/vnd.jupyter.widget-view+json": {
       "model_id": "f82f995e076642588257e45cf8b5ce69",
       "version_major": 2,
       "version_minor": 0
      },
      "text/plain": [
       "HBox(children=(IntProgress(value=0, max=117), HTML(value='')))"
      ]
     },
     "metadata": {},
     "output_type": "display_data"
    },
    {
     "data": {
      "application/vnd.jupyter.widget-view+json": {
       "model_id": "34316fdb3ee04382b0cea4bdd12ec10e",
       "version_major": 2,
       "version_minor": 0
      },
      "text/plain": [
       "HBox(children=(IntProgress(value=0, max=63), HTML(value='')))"
      ]
     },
     "metadata": {},
     "output_type": "display_data"
    },
    {
     "data": {
      "application/vnd.jupyter.widget-view+json": {
       "model_id": "0c0dfc7df12b4caf86431de5b94b1eab",
       "version_major": 2,
       "version_minor": 0
      },
      "text/plain": [
       "HBox(children=(IntProgress(value=0, max=65), HTML(value='')))"
      ]
     },
     "metadata": {},
     "output_type": "display_data"
    },
    {
     "name": "stderr",
     "output_type": "stream",
     "text": [
      "IOPub message rate exceeded.\n",
      "The notebook server will temporarily stop sending output\n",
      "to the client in order to avoid crashing it.\n",
      "To change this limit, set the config variable\n",
      "`--NotebookApp.iopub_msg_rate_limit`.\n",
      "\n",
      "Current values:\n",
      "NotebookApp.iopub_msg_rate_limit=1000.0 (msgs/sec)\n",
      "NotebookApp.rate_limit_window=3.0 (secs)\n",
      "\n"
     ]
    },
    {
     "data": {
      "application/vnd.jupyter.widget-view+json": {
       "model_id": "db5bb806e3374dbfab0429631cfb48f3",
       "version_major": 2,
       "version_minor": 0
      },
      "text/plain": [
       "HBox(children=(IntProgress(value=0, max=111), HTML(value='')))"
      ]
     },
     "metadata": {},
     "output_type": "display_data"
    },
    {
     "data": {
      "application/vnd.jupyter.widget-view+json": {
       "model_id": "5524821d572b42e5b19c09370496f53d",
       "version_major": 2,
       "version_minor": 0
      },
      "text/plain": [
       "HBox(children=(IntProgress(value=0, max=121), HTML(value='')))"
      ]
     },
     "metadata": {},
     "output_type": "display_data"
    },
    {
     "data": {
      "application/vnd.jupyter.widget-view+json": {
       "model_id": "166761459e784918806e908002a44727",
       "version_major": 2,
       "version_minor": 0
      },
      "text/plain": [
       "HBox(children=(IntProgress(value=0, max=63), HTML(value='')))"
      ]
     },
     "metadata": {},
     "output_type": "display_data"
    },
    {
     "name": "stdout",
     "output_type": "stream",
     "text": [
      "\n",
      "    IL       RMSE  MedianAE    MeanAE        R2  MeanBias  MedianBias  \\\n",
      "0  ALL  10.630051  3.892404  5.691737  0.782281 -0.651333   -0.086303   \n",
      "1  720  11.712852  3.984363  5.874760  0.800554 -0.892420   -0.336416   \n",
      "2  120  12.422003  3.985143  5.868459  0.709444 -0.472520    0.101200   \n",
      "3   24   9.816800  4.073864  5.884326  0.711573 -0.756544   -0.136790   \n",
      "4    6  11.513880  4.069788  6.076273  0.726611 -0.751277   -0.130306   \n",
      "5    1   9.159928  3.733210  5.385542  0.835858 -0.547492   -0.004991   \n",
      "6  0.5   8.610836  3.527276  5.069225  0.868165 -0.488094   -0.031470   \n",
      "\n",
      "        NMB       NME  \n",
      "0 -0.032110  0.280597  \n",
      "1 -0.044254  0.291324  \n",
      "2 -0.023446  0.291187  \n",
      "3 -0.036954  0.287423  \n",
      "4 -0.036304  0.293623  \n",
      "5 -0.027360  0.269130  \n",
      "6 -0.024149  0.250804  \n"
     ]
    },
    {
     "data": {
      "application/vnd.jupyter.widget-view+json": {
       "model_id": "a51cea09eb434c86b6aae7c1ddf00552",
       "version_major": 2,
       "version_minor": 0
      },
      "text/plain": [
       "HBox(children=(IntProgress(value=0, max=34), HTML(value='')))"
      ]
     },
     "metadata": {},
     "output_type": "display_data"
    },
    {
     "name": "stdout",
     "output_type": "stream",
     "text": [
      "\n",
      "[IterativeImputer] Completing matrix with shape (105166, 34)\n",
      "[IterativeImputer] Change: 35.17786794237628, scaled tolerance: 0.007437500787600639 \n",
      "[IterativeImputer] Completing matrix with shape (105166, 34)\n",
      "    IL       RMSE  MedianAE    MeanAE        R2  MeanBias  MedianBias  \\\n",
      "0  ALL  11.529855  3.819413  5.792886  0.714510 -1.672678   -0.696926   \n",
      "1  720   9.848912  3.581835  5.386335  0.705472 -1.115968   -0.380575   \n",
      "2  120   9.633298  3.803609  5.565975  0.721383 -1.616454   -0.723621   \n",
      "3   24  10.217606  3.893310  5.881345  0.722902 -1.911394   -0.870504   \n",
      "4    6  12.043867  3.853018  5.908988  0.761299 -1.636237   -0.768891   \n",
      "5    1  12.950126  3.912403  5.971016  0.734780 -1.888264   -0.728904   \n",
      "6  0.5  13.797013  3.878793  6.043290  0.627418 -1.867322   -0.741284   \n",
      "\n",
      "        NMB       NME  \n",
      "0 -0.083048  0.287614  \n",
      "1 -0.060054  0.289859  \n",
      "2 -0.078423  0.270037  \n",
      "3 -0.090152  0.277397  \n",
      "4 -0.079813  0.288230  \n",
      "5 -0.094181  0.297817  \n",
      "6 -0.093806  0.303587  \n",
      "[IterativeImputer] Completing matrix with shape (105166, 34)\n",
      "[IterativeImputer] Change: 5499.332774331167, scaled tolerance: 1.6975 \n",
      "[IterativeImputer] Completing matrix with shape (105166, 34)\n",
      "    IL       RMSE  MedianAE    MeanAE        R2  MeanBias  MedianBias  \\\n",
      "0  ALL  10.037490      3.99  5.740182  0.783632  0.225355        0.56   \n",
      "1  720   9.847226      3.89  5.659344  0.705573  0.739070        0.83   \n",
      "2  120   9.550290      4.07  5.774127  0.726163  0.118177        0.56   \n",
      "3   24   9.472309      4.00  5.821719  0.761852  0.067555        0.39   \n",
      "4    6  11.737948      4.03  5.930001  0.773271  0.228121        0.51   \n",
      "5    1   9.603883      3.99  5.657747  0.854135  0.099637        0.53   \n",
      "6  0.5   9.836636      3.97  5.599999  0.810615  0.099796        0.56   \n",
      "\n",
      "        NMB       NME  \n",
      "0  0.011189  0.284997  \n",
      "1  0.039772  0.304551  \n",
      "2  0.005733  0.280135  \n",
      "3  0.003186  0.274584  \n",
      "4  0.011127  0.289255  \n",
      "5  0.004970  0.282192  \n",
      "6  0.005013  0.281318  \n",
      "[IterativeImputer] Completing matrix with shape (105166, 34)\n",
      "[IterativeImputer] Change: 5476.684315204928, scaled tolerance: 1.6975 \n",
      "[IterativeImputer] Completing matrix with shape (105166, 34)\n",
      "    IL       RMSE  MedianAE    MeanAE        R2  MeanBias  MedianBias  \\\n",
      "0  ALL  10.070868  3.931927  5.687329  0.782191 -0.373101    0.325817   \n",
      "1  720   9.637268  3.940315  5.652400  0.717995  0.135799    0.613751   \n",
      "2  120  10.127262  4.065988  5.838154  0.692077 -0.626768    0.249974   \n",
      "3   24  10.543411  4.070101  6.052560  0.704949 -0.795728    0.095846   \n",
      "4    6  10.628932  3.968981  5.818762  0.814090 -0.372116    0.314501   \n",
      "5    1   9.615224  3.836737  5.467016  0.853790 -0.335225    0.336753   \n",
      "6  0.5   9.829331  3.716141  5.298736  0.810896 -0.246392    0.343814   \n",
      "\n",
      "        NMB       NME  \n",
      "0 -0.018524  0.282373  \n",
      "1  0.007308  0.304177  \n",
      "2 -0.030408  0.283242  \n",
      "3 -0.037531  0.285472  \n",
      "4 -0.018151  0.283829  \n",
      "5 -0.016720  0.272679  \n",
      "6 -0.012378  0.266184  \n"
     ]
    },
    {
     "data": {
      "application/vnd.jupyter.widget-view+json": {
       "model_id": "ba9d404d6b8e4b11a990fd869e3f25be",
       "version_major": 2,
       "version_minor": 0
      },
      "text/plain": [
       "HBox(children=(IntProgress(value=0, max=34), HTML(value='')))"
      ]
     },
     "metadata": {},
     "output_type": "display_data"
    },
    {
     "data": {
      "application/vnd.jupyter.widget-view+json": {
       "model_id": "97b446f586ba4899a81f1f0c4f318dc5",
       "version_major": 2,
       "version_minor": 0
      },
      "text/plain": [
       "HBox(children=(IntProgress(value=0, max=58), HTML(value='')))"
      ]
     },
     "metadata": {},
     "output_type": "display_data"
    },
    {
     "data": {
      "application/vnd.jupyter.widget-view+json": {
       "model_id": "54ad9a9370ef4a909420a114790b996f",
       "version_major": 2,
       "version_minor": 0
      },
      "text/plain": [
       "HBox(children=(IntProgress(value=0, max=63), HTML(value='')))"
      ]
     },
     "metadata": {},
     "output_type": "display_data"
    },
    {
     "data": {
      "application/vnd.jupyter.widget-view+json": {
       "model_id": "95fa0f4fae8745c997279b3f552bb55f",
       "version_major": 2,
       "version_minor": 0
      },
      "text/plain": [
       "HBox(children=(IntProgress(value=0, max=49), HTML(value='')))"
      ]
     },
     "metadata": {},
     "output_type": "display_data"
    },
    {
     "data": {
      "application/vnd.jupyter.widget-view+json": {
       "model_id": "73870d1bb4eb472084e6084f00761ab7",
       "version_major": 2,
       "version_minor": 0
      },
      "text/plain": [
       "HBox(children=(IntProgress(value=0, max=61), HTML(value='')))"
      ]
     },
     "metadata": {},
     "output_type": "display_data"
    },
    {
     "data": {
      "application/vnd.jupyter.widget-view+json": {
       "model_id": "42f4914e4c5e4ab6a1bfb5cf3ea11a51",
       "version_major": 2,
       "version_minor": 0
      },
      "text/plain": [
       "HBox(children=(IntProgress(value=0, max=113), HTML(value='')))"
      ]
     },
     "metadata": {},
     "output_type": "display_data"
    },
    {
     "data": {
      "application/vnd.jupyter.widget-view+json": {
       "model_id": "15da6978297a4073b9c208006cdc18ee",
       "version_major": 2,
       "version_minor": 0
      },
      "text/plain": [
       "HBox(children=(IntProgress(value=0, max=77), HTML(value='')))"
      ]
     },
     "metadata": {},
     "output_type": "display_data"
    },
    {
     "data": {
      "application/vnd.jupyter.widget-view+json": {
       "model_id": "92748026e99b46af8e8f3b9049251ed2",
       "version_major": 2,
       "version_minor": 0
      },
      "text/plain": [
       "HBox(children=(IntProgress(value=0, max=160), HTML(value='')))"
      ]
     },
     "metadata": {},
     "output_type": "display_data"
    },
    {
     "data": {
      "application/vnd.jupyter.widget-view+json": {
       "model_id": "21d5b02b398f45b6a9e48bbc9bae09d0",
       "version_major": 2,
       "version_minor": 0
      },
      "text/plain": [
       "HBox(children=(IntProgress(value=0, max=94), HTML(value='')))"
      ]
     },
     "metadata": {},
     "output_type": "display_data"
    },
    {
     "data": {
      "application/vnd.jupyter.widget-view+json": {
       "model_id": "eb6ffb098c83452d8b88502bc8609879",
       "version_major": 2,
       "version_minor": 0
      },
      "text/plain": [
       "HBox(children=(IntProgress(value=0, max=40), HTML(value='')))"
      ]
     },
     "metadata": {},
     "output_type": "display_data"
    },
    {
     "data": {
      "application/vnd.jupyter.widget-view+json": {
       "model_id": "4a2e3a4fcfa442b8a982e9c6aa0f00a9",
       "version_major": 2,
       "version_minor": 0
      },
      "text/plain": [
       "HBox(children=(IntProgress(value=0, max=67), HTML(value='')))"
      ]
     },
     "metadata": {},
     "output_type": "display_data"
    },
    {
     "data": {
      "application/vnd.jupyter.widget-view+json": {
       "model_id": "9dab698e24c9401683d82cec85c8d4cf",
       "version_major": 2,
       "version_minor": 0
      },
      "text/plain": [
       "HBox(children=(IntProgress(value=0, max=126), HTML(value='')))"
      ]
     },
     "metadata": {},
     "output_type": "display_data"
    },
    {
     "data": {
      "application/vnd.jupyter.widget-view+json": {
       "model_id": "f146c7b9cbd6492787a9720509b37736",
       "version_major": 2,
       "version_minor": 0
      },
      "text/plain": [
       "HBox(children=(IntProgress(value=0, max=137), HTML(value='')))"
      ]
     },
     "metadata": {},
     "output_type": "display_data"
    },
    {
     "name": "stderr",
     "output_type": "stream",
     "text": [
      "IOPub message rate exceeded.\n",
      "The notebook server will temporarily stop sending output\n",
      "to the client in order to avoid crashing it.\n",
      "To change this limit, set the config variable\n",
      "`--NotebookApp.iopub_msg_rate_limit`.\n",
      "\n",
      "Current values:\n",
      "NotebookApp.iopub_msg_rate_limit=1000.0 (msgs/sec)\n",
      "NotebookApp.rate_limit_window=3.0 (secs)\n",
      "\n"
     ]
    },
    {
     "data": {
      "application/vnd.jupyter.widget-view+json": {
       "model_id": "62f818300c0740bcb4ea6a7f831e9ccd",
       "version_major": 2,
       "version_minor": 0
      },
      "text/plain": [
       "HBox(children=(IntProgress(value=0, max=59), HTML(value='')))"
      ]
     },
     "metadata": {},
     "output_type": "display_data"
    },
    {
     "data": {
      "application/vnd.jupyter.widget-view+json": {
       "model_id": "81e196443ad34800ab68e3cc915520c3",
       "version_major": 2,
       "version_minor": 0
      },
      "text/plain": [
       "HBox(children=(IntProgress(value=0, max=111), HTML(value='')))"
      ]
     },
     "metadata": {},
     "output_type": "display_data"
    },
    {
     "data": {
      "application/vnd.jupyter.widget-view+json": {
       "model_id": "bcb8a92b9a1a46cba05451da980151d7",
       "version_major": 2,
       "version_minor": 0
      },
      "text/plain": [
       "HBox(children=(IntProgress(value=0, max=141), HTML(value='')))"
      ]
     },
     "metadata": {},
     "output_type": "display_data"
    },
    {
     "data": {
      "application/vnd.jupyter.widget-view+json": {
       "model_id": "3abd980bc0a345218b7a63b2675ec781",
       "version_major": 2,
       "version_minor": 0
      },
      "text/plain": [
       "HBox(children=(IntProgress(value=0, max=55), HTML(value='')))"
      ]
     },
     "metadata": {},
     "output_type": "display_data"
    },
    {
     "data": {
      "application/vnd.jupyter.widget-view+json": {
       "model_id": "81cbc0fddb804da695755a108fbddae4",
       "version_major": 2,
       "version_minor": 0
      },
      "text/plain": [
       "HBox(children=(IntProgress(value=0, max=43), HTML(value='')))"
      ]
     },
     "metadata": {},
     "output_type": "display_data"
    },
    {
     "data": {
      "application/vnd.jupyter.widget-view+json": {
       "model_id": "54dc76245d7442a5bbff4ca716097b16",
       "version_major": 2,
       "version_minor": 0
      },
      "text/plain": [
       "HBox(children=(IntProgress(value=0, max=120), HTML(value='')))"
      ]
     },
     "metadata": {},
     "output_type": "display_data"
    },
    {
     "data": {
      "application/vnd.jupyter.widget-view+json": {
       "model_id": "d73b708abd6f467880b3e208181ef092",
       "version_major": 2,
       "version_minor": 0
      },
      "text/plain": [
       "HBox(children=(IntProgress(value=0, max=80), HTML(value='')))"
      ]
     },
     "metadata": {},
     "output_type": "display_data"
    },
    {
     "data": {
      "application/vnd.jupyter.widget-view+json": {
       "model_id": "c089e3268aa34ae6a874061af9314959",
       "version_major": 2,
       "version_minor": 0
      },
      "text/plain": [
       "HBox(children=(IntProgress(value=0, max=125), HTML(value='')))"
      ]
     },
     "metadata": {},
     "output_type": "display_data"
    },
    {
     "data": {
      "application/vnd.jupyter.widget-view+json": {
       "model_id": "8267ef897eaa44da8b2eebf819313816",
       "version_major": 2,
       "version_minor": 0
      },
      "text/plain": [
       "HBox(children=(IntProgress(value=0, max=111), HTML(value='')))"
      ]
     },
     "metadata": {},
     "output_type": "display_data"
    },
    {
     "data": {
      "application/vnd.jupyter.widget-view+json": {
       "model_id": "97c88a6291c9488595efb8a377561d26",
       "version_major": 2,
       "version_minor": 0
      },
      "text/plain": [
       "HBox(children=(IntProgress(value=0, max=121), HTML(value='')))"
      ]
     },
     "metadata": {},
     "output_type": "display_data"
    },
    {
     "data": {
      "application/vnd.jupyter.widget-view+json": {
       "model_id": "fae90e00a90e41c48b32fb8571026bce",
       "version_major": 2,
       "version_minor": 0
      },
      "text/plain": [
       "HBox(children=(IntProgress(value=0, max=64), HTML(value='')))"
      ]
     },
     "metadata": {},
     "output_type": "display_data"
    },
    {
     "name": "stdout",
     "output_type": "stream",
     "text": [
      "\n",
      "    IL       RMSE  MedianAE    MeanAE        R2  MeanBias  MedianBias  \\\n",
      "0  ALL   9.878108  3.899319  5.684915  0.790449 -0.550040   -0.033119   \n",
      "1  720   9.952006  3.981992  5.779505  0.699274 -0.030519    0.228203   \n",
      "2  120  10.307068  4.145901  5.987954  0.681046 -0.846445   -0.109207   \n",
      "3   24  10.019891  4.107921  6.084403  0.733522 -0.978340   -0.280793   \n",
      "4    6  10.541334  3.982676  5.880812  0.817142 -0.548044   -0.080933   \n",
      "5    1   8.988237  3.711316  5.311107  0.872236 -0.508030    0.013698   \n",
      "6  0.5   9.380747  3.559596  5.070866  0.827763 -0.390843    0.013777   \n",
      "\n",
      "        NMB       NME  \n",
      "0 -0.027309  0.282254  \n",
      "1 -0.001642  0.311017  \n",
      "2 -0.041066  0.290509  \n",
      "3 -0.046144  0.286974  \n",
      "4 -0.026733  0.286856  \n",
      "5 -0.025339  0.264903  \n",
      "6 -0.019634  0.254737  \n"
     ]
    }
   ],
   "source": [
    "num_repetitions = 5\n",
    "IL = [720,120,24,6,1,0.5] # chunk sizes - 1 month, 5 days, 1 day, 6 hours, 1 hour, half hour\n",
    "num_iter = 1 # try with one iteration for all, later it will be an array, each algorithm will \n",
    "# have its optimized number of iterations\n",
    "\n",
    "for nr in range(num_repetitions):\n",
    "    \n",
    "    # generate validation\n",
    "    np_X_missing, np_y_missing, np_r_PM25_y_mask = return_X_y(r_PM25,IL)\n",
    "    \n",
    "    #### IterativeImputer Baysian Ridge ####\n",
    "\n",
    "    # First NORMALIZE ALL DATA!\n",
    "    normal_data = pd.DataFrame(\n",
    "        np.log(np_X_missing+1),\n",
    "        index=X_missing.index,\n",
    "        columns=X_missing.columns)\n",
    "    # impute\n",
    "    imputed = impute_ii_BR(normal_data, num_iter)\n",
    "    inverse_imputed = np.exp(imputed)-1\n",
    "    # validate\n",
    "    results = validate(inverse_imputed, np_y_missing, np_r_PM25_y_mask, IL)\n",
    "    # save \n",
    "    imputed_df = pd.DataFrame(imputed, columns=r_PM25.columns) #turn it from IterativeImputer object to a dataframe\n",
    "    imputed_df.to_pickle(\"~/Documents/saved_data_from_notebooks/imputed_ii_BR_\"+str(IL[0])+'_'+str(num_iter)+'_rep'+str(nr))\n",
    "    results.to_pickle(\"~/Documents/saved_data_from_notebooks/results_ii_BR_\"+str(IL[0])+'_'+str(num_iter)+'_rep'+str(nr))\n",
    "    print(results)\n",
    "    \n",
    "    #### IterativeImputer Random Forest ####\n",
    "\n",
    "    num_trees = 10 #hyperParam (although probably the more the better)\n",
    "    rnd_state_forRF = 0\n",
    "#     min_samples_split = ?\n",
    "#     max_features = ?\n",
    "    # impute\n",
    "    \n",
    "     # !!!! notice I changed impute_ii_RF!!!!\n",
    "        \n",
    "    imputed = impute_ii_RF(np_X_missing, num_iter, num_trees, rnd_state_forRF, min_samples_split, max_features)\n",
    "    # validate\n",
    "    results = validate(imputed, np_y_missing, np_r_PM25_y_mask, IL)\n",
    "    # save \n",
    "    imputed_df = pd.DataFrame(imputed, columns=r_PM25.columns) #turn it from IterativeImputer object to a dataframe\n",
    "    imputed_df.to_pickle(\"~/Documents/saved_data_from_notebooks/imputed_ii_RF_\"+str(IL[0])+'_'+str(num_iter)+'_'+str(num_trees)+'_rep'+str(nr))\n",
    "    results.to_pickle(\"~/Documents/saved_data_from_notebooks/results_ii_RF_\"+str(IL[0])+'_'+str(num_iter)+'_'+str(num_trees)+'_rep'+str(nr))\n",
    "    print(results)\n",
    "    \n",
    "    #### IterativeImputer KNN ####\n",
    "\n",
    "    weight_type = 'distance' #'uniform','distance' #hyperParam\n",
    "    num_neighbors = 10 #hyperParam\n",
    "    # impute\n",
    "    imputed = impute_ii_KNN(np_X_missing, num_iter, num_neighbors, weight_type)\n",
    "    # validate\n",
    "    results = validate(imputed, np_y_missing, np_r_PM25_y_mask, IL)\n",
    "    # save \n",
    "    imputed_df = pd.DataFrame(imputed, columns=r_PM25.columns) #turn it from IterativeImputer object to a dataframe\n",
    "    imputed_df.to_pickle(\"~/Documents/saved_data_from_notebooks/imputed_ii_KNN_\"+str(IL[0])+'_'+str(num_iter)+'_'+str(num_neighbors)+'_rep'+str(nr))\n",
    "    results.to_pickle(\"~/Documents/saved_data_from_notebooks/results_ii_KNN_\"+str(IL[0])+'_'+str(num_iter)+'_'+str(num_neighbors)+'_rep'+str(nr))\n",
    "    print(results)\n",
    "    \n",
    "    #### My KNN ####\n",
    "    \n",
    "    num_neighbors = 9\n",
    "    # impute \n",
    "    imputed = impute_my_KNN(np_X_missing, num_neighbors)\n",
    "    # validate\n",
    "    results = validate(imputed, np_y_missing, np_r_PM25_y_mask, IL)\n",
    "    # save \n",
    "    imputed_df = pd.DataFrame(imputed, columns=r_PM25.columns) #turn it from IterativeImputer object to a dataframe\n",
    "    imputed_df.to_pickle(\"~/Documents/saved_data_from_notebooks/imputed_my_KNN_\"+str(IL[0])+'_'+str(num_iter)+'_rep'+str(nr))\n",
    "    results.to_pickle(\"~/Documents/saved_data_from_notebooks/results_my_KNN_\"+str(IL[0])+'_'+str(num_iter)+'_'+str(num_neighbors)+'_rep'+str(nr))\n",
    "    print(results)\n",
    "\n",
    "    "
   ]
  },
  {
   "cell_type": "code",
   "execution_count": null,
   "metadata": {},
   "outputs": [],
   "source": []
  },
  {
   "cell_type": "markdown",
   "metadata": {},
   "source": [
    "# display evaluation results per interval length size"
   ]
  },
  {
   "cell_type": "code",
   "execution_count": 116,
   "metadata": {},
   "outputs": [],
   "source": [
    "num_repetitions = 5\n",
    "IL = [720,120,24,6,1,0.5] \n",
    "num_iter = 1"
   ]
  },
  {
   "cell_type": "code",
   "execution_count": 187,
   "metadata": {},
   "outputs": [],
   "source": [
    "results_df = pd.DataFrame()\n",
    "for nr in range(num_repetitions):\n",
    "    results_woD_BR = pd.read_pickle(\"~/Documents/saved_data_from_notebooks/results_ii_BR_\"+str(IL[0])+'_'+str(num_iter)+'_rep'+str(nr))\n",
    "    results_woD_BR['algo'] = 'ii_BR'\n",
    "    num_trees = 10\n",
    "    results_woD_RF = pd.read_pickle(\"~/Documents/saved_data_from_notebooks/results_ii_RF_\"+str(IL[0])+'_'+str(num_iter)+'_'+str(num_trees)+'_rep'+str(nr))\n",
    "    results_woD_RF['algo'] = 'ii_RF'\n",
    "    num_neighbors = 10\n",
    "    results_woD_KNN = pd.read_pickle(\"~/Documents/saved_data_from_notebooks/results_ii_KNN_\"+str(IL[0])+'_'+str(num_iter)+'_'+str(num_neighbors)+'_rep'+str(nr))\n",
    "    results_woD_KNN['algo'] = 'ii_KNN'\n",
    "    num_neighbors = 9\n",
    "    results_my_KNN = pd.read_pickle(\"~/Documents/saved_data_from_notebooks/results_my_KNN_\"+str(IL[0])+'_'+str(num_iter)+'_'+str(num_neighbors)+'_rep'+str(nr))\n",
    "    results_my_KNN['algo'] = 'my_KNN'\n",
    "    results_df = pd.concat([results_data , pd.concat([results_woD_BR,results_woD_RF,results_woD_KNN,results_my_KNN])])"
   ]
  },
  {
   "cell_type": "code",
   "execution_count": 206,
   "metadata": {
    "scrolled": false
   },
   "outputs": [
    {
     "data": {
      "image/png": "[encoded data removed]",
      "text/plain": [
       "<Figure size 2016x2016 with 8 Axes>"
      ]
     },
     "metadata": {
      "image/png": {
       "height": 1567,
       "width": 1879
      },
      "needs_background": "light"
     },
     "output_type": "display_data"
    }
   ],
   "source": [
    "titles = ['RMSE','Median Absolute Error','Mean Absolute Error','R2','Mean Bias','Median Bias','NMB','NME']\n",
    "columns =  results_df.columns[1:-1]\n",
    "\n",
    "fig, ((ax1, ax2),(ax3, ax4),(ax5, ax6),(ax7, ax8)) = plt.subplots(4, 2,figsize=(28,28))\n",
    "# fig.suptitle('Repeated holdout results')\n",
    "all_axes = [ax1,ax2,ax3,ax4,ax5,ax6,ax7,ax8]\n",
    "\n",
    "for i in range(len(titles)):\n",
    "    sns.boxplot(x=\"algo\", y=columns[i], hue=\"IL\", data=results_df, palette=\"Set1\",ax=all_axes[i]).set(\n",
    "        xlabel='', \n",
    "        ylabel=titles[i]+'\\n'\n",
    "    )\n",
    "    all_axes[i].get_legend().remove()\n",
    "    \n",
    "handles, labels = ax1.get_legend_handles_labels()\n",
    "l = plt.legend(handles, labels, bbox_to_anchor=(1.05, 4.6), loc = 2, borderaxespad=0.,title = 'interval\\n length [h]',title_fontsize=20)\n",
    "\n",
    "plt.rcParams.update({'font.size': 24})\n",
    "plt.rcParams.update({'lines.markersize': 24})\n",
    "\n",
    "plt.tight_layout()\n",
    "# plt.savefig(\"/Users/iditbela/Documents/Broday/saved_data_from_notebooks/CV_results_basic.png\", dpi=500)\n",
    "plt.show();"
   ]
  },
  {
   "cell_type": "code",
   "execution_count": null,
   "metadata": {},
   "outputs": [],
   "source": []
  },
  {
   "cell_type": "code",
   "execution_count": null,
   "metadata": {},
   "outputs": [],
   "source": []
  },
  {
   "cell_type": "code",
   "execution_count": null,
   "metadata": {},
   "outputs": [],
   "source": [
    "# I can also cut the performance further to hour of day or range of values (low, medium, high)"
   ]
  },
  {
   "cell_type": "code",
   "execution_count": null,
   "metadata": {},
   "outputs": [],
   "source": []
  },
  {
   "cell_type": "code",
   "execution_count": null,
   "metadata": {},
   "outputs": [],
   "source": [
    "# possibly - evaluate per range of values - can the model generate extreme values?\n",
    "'''from Simon 2012: Low observed ozone concentrations occur much more frequently than high observed \n",
    "ozone concentrations, so metrics calculated over all observed values are dominated \n",
    "by performance at low concentrations'''"
   ]
  },
  {
   "cell_type": "code",
   "execution_count": null,
   "metadata": {},
   "outputs": [],
   "source": []
  },
  {
   "cell_type": "code",
   "execution_count": null,
   "metadata": {},
   "outputs": [],
   "source": [
    "# m (number of iterations) should be approximately as the average missing percentage. \n",
    "# which is about 15% in my case. ok to start with 5-10 though. \n",
    "# loose the 5 rows where all rows are empty!!!"
   ]
  },
  {
   "cell_type": "code",
   "execution_count": 4,
   "metadata": {},
   "outputs": [],
   "source": [
    "# Ways to check randomness - https://www.theanalysisfactor.com/missing-data-mechanism/\n",
    "# mark missing values in 1 and non-missing in zero. run a t-test or chi-square test \n",
    "# between one variable(column) and all other variables(columns). I think it should\n",
    "# tell me if they are drown from the same poplutation (I want p-value not significant,\n",
    "# meaning they are from different populations). if they come from the same population \n",
    "# I suspect that it is not random.\n",
    "# MAYBE THE 0-1 IS TO TEST THE ORDER OF THE VALUES? IF IN RANDOM. = TEST FOR MCAR\n",
    "# another option (I think test for MAR) is if I suspect that it is not completely random \n",
    "# (due to malfunctioning in a certain\n",
    "# time maybe), I can try to train a logistic regression to see if time of day can \n",
    "# predict the missing non-missing classification. "
   ]
  },
  {
   "cell_type": "code",
   "execution_count": null,
   "metadata": {},
   "outputs": [],
   "source": [
    "# check the distribution of the imputed values Vs. the dist. of the non-missing values.\n",
    "\n",
    "'''The idea is that good imputations have a distribution \n",
    "similar to the observed data. In other words, the imputations\n",
    "could have been real values had they been observed. \n",
    "Except under MCAR, the distributions do not need to be identical, \n",
    "since strong MAR mechanisms may induce systematic differences between \n",
    "the two distributions. However, any dramatic differences between the \n",
    "imputed and observed data should certainly alert us to the possibility\n",
    "that something is wrong.'''"
   ]
  },
  {
   "cell_type": "code",
   "execution_count": null,
   "metadata": {},
   "outputs": [],
   "source": [
    "# https://stefvanbuuren.name/fimd/sec-nutshell.html\n",
    "# http://www.stat.columbia.edu/~gelman/arm/missing.pdf\n",
    "\n",
    "# TRY ALSO THE MICE FROM FANCYIMPUTE - IS IT THE SAME AS ITERTIVEIMPUTER?\n",
    "# https://www.kaggle.com/residentmario/simple-techniques-for-missing-data-imputation\n",
    "\n",
    "\n",
    "# MAYBE ADD missSVD?"
   ]
  },
  {
   "cell_type": "code",
   "execution_count": null,
   "metadata": {},
   "outputs": [],
   "source": []
  },
  {
   "cell_type": "code",
   "execution_count": null,
   "metadata": {},
   "outputs": [],
   "source": [
    "# notes to myself\n",
    "\n",
    "# Go back one week ago...: \n",
    "# FIRST choose model parameters by CV:\n",
    "# try different k of KNN, different number of trees in a forest and boosting/no-boosting\n",
    "# or how deep is the forest. AND - number of iterations!!!\n",
    "\n",
    "# SECOND, evaluate the 4-5 best models (possibly add SVD):\n",
    "# (1) randomly choose for each station a group of X types of interval lengths\n",
    "# (those that together form like 95% of the data) - in total, let it be about 10% of\n",
    "# average number of non-nan indexes. \n",
    "# (2) make sure that the dist. of missing station data in all time-steps (i.e., rows)\n",
    "# is approximately saved (maybe a statistical test?)\n",
    "# (3) impute\n",
    "# (4) compare the imputed values with the not-imputed ones. Are they drawn from the same population (maybe a statisticel test?)\n",
    "# (5) repeat for 50-25 times (a repeated holdout method)\n",
    "# (6) Evaluate per interval length"
   ]
  },
  {
   "cell_type": "markdown",
   "metadata": {},
   "source": [
    "# Trash"
   ]
  },
  {
   "cell_type": "code",
   "execution_count": null,
   "metadata": {},
   "outputs": [],
   "source": [
    "# for nr in range(num_repetitions):\n",
    "#     results_woD_BR = pd.read_pickle(\"~/Documents/saved_data_from_notebooks/results_ii_BR_\"+str(IL[0])+'_'+str(num_iter)+'_rep'+str(nr))\n",
    "#     num_trees = 10\n",
    "#     results_woD_RF = pd.read_pickle(\"~/Documents/saved_data_from_notebooks/results_ii_RF_\"+str(IL[0])+'_'+str(num_iter)+'_'+str(num_trees)+'_rep'+str(nr))\n",
    "#     num_neighbors = 10\n",
    "#     results_woD_KNN = pd.read_pickle(\"~/Documents/saved_data_from_notebooks/results_ii_KNN_\"+str(IL[0])+'_'+str(num_iter)+'_'+str(num_neighbors)+'_rep'+str(nr))\n",
    "#     num_neighbors = 9\n",
    "#     results_my_KNN = pd.read_pickle(\"~/Documents/saved_data_from_notebooks/results_my_KNN_\"+str(IL[0])+'_'+str(num_iter)+'_'+str(num_neighbors)+'_rep'+str(nr))\n",
    "\n",
    "\n",
    "# titles = ['RMSE','Median Absolute Error','Mean Absolute Error','R2','MeanBias','MedianBias','NMB','NME']\n",
    "\n",
    "# fig, ((ax1, ax2),(ax3, ax4),(ax5, ax6),(ax7, ax8)) = plt.subplots(4, 2,figsize=(28,28))\n",
    "# # fig.suptitle('Cross-validation results')\n",
    "\n",
    "# N=7\n",
    "# cmap = plt.cm.tab10\n",
    "# col = cmap(np.linspace(0, 1, N))\n",
    "# rcParams['axes.prop_cycle'] = cycler(color=col)\n",
    "\n",
    "# ax1.plot(np.arange(0,4), [results_woD_BR.iloc[:,1],results_woD_RF.iloc[:,1],results_woD_KNN.iloc[:,1],results_my_KNN.iloc[:,1]],'*') #RMSE\n",
    "# ax2.plot(np.arange(0,4), [results_woD_BR.iloc[:,2],results_woD_RF.iloc[:,2],results_woD_KNN.iloc[:,2],results_my_KNN.iloc[:,2]],'*') # Median Absolute Error\n",
    "# ax3.plot(np.arange(0,4), [results_woD_BR.iloc[:,3],results_woD_RF.iloc[:,3],results_woD_KNN.iloc[:,3],results_my_KNN.iloc[:,3]],'*') # Mean Absolute Error\n",
    "# ax4.plot(np.arange(0,4), [results_woD_BR.iloc[:,4],results_woD_RF.iloc[:,4],results_woD_KNN.iloc[:,4],results_my_KNN.iloc[:,4]],'*') #r2\n",
    "\n",
    "# ax5.plot(np.arange(0,4), [results_woD_BR.iloc[:,5],results_woD_RF.iloc[:,5],results_woD_KNN.iloc[:,5],results_my_KNN.iloc[:,5]],'*') # MeanBias\n",
    "# ax6.plot(np.arange(0,4), [results_woD_BR.iloc[:,6],results_woD_RF.iloc[:,6],results_woD_KNN.iloc[:,6],results_my_KNN.iloc[:,6]],'*') # MedianBias\n",
    "# ax7.plot(np.arange(0,4), [results_woD_BR.iloc[:,7],results_woD_RF.iloc[:,7],results_woD_KNN.iloc[:,7],results_my_KNN.iloc[:,7]],'*') # NMB\n",
    "# ax8.plot(np.arange(0,4), [results_woD_BR.iloc[:,8],results_woD_RF.iloc[:,8],results_woD_KNN.iloc[:,8],results_my_KNN.iloc[:,8]],'*') # NME\n",
    "\n",
    "# legend_elements = [Line2D([0], [0], marker='*', color='w', label='ALL',\n",
    "#                           markerfacecolor=col[0], markersize=20),\n",
    "#                    Line2D([0], [0], marker='*', color='w', label='720',\n",
    "#                           markerfacecolor=col[1], markersize=20),\n",
    "#                    Line2D([0], [0], marker='*', color='w', label='120',\n",
    "#                           markerfacecolor=col[2], markersize=20),\n",
    "#                    Line2D([0], [0], marker='*', color='w', label='24',\n",
    "#                           markerfacecolor=col[3], markersize=20),\n",
    "#                    Line2D([0], [0], marker='*', color='w', label='6',\n",
    "#                           markerfacecolor=col[4], markersize=20),\n",
    "#                    Line2D([0], [0], marker='*', color='w', label='1',\n",
    "#                           markerfacecolor=col[5], markersize=20),\n",
    "#                    Line2D([0], [0], marker='*', color='w', label='0.5',\n",
    "#                           markerfacecolor=col[6], markersize=20)]\n",
    "\n",
    "# for i,ax in enumerate(fig.get_axes()):\n",
    "#     ax.set_title(titles[i])   \n",
    "#     ax.set_xticks(np.arange(0,4))\n",
    "\n",
    "#     ax.set_xticklabels(['ii_BR','ii_RF','ii_KNN','my_KNN'],rotation=45)\n",
    "# #     ax.set_xticklabels(['ii_BR','ii_RF','ii_KNN','my_KNN','ii_RF_add1','my_KNN_add1','ii_RF_add2','ii_RF_add1+2'],rotation=45)\n",
    "#     ax.set_ylabel('$\\mu g/m^3$\\n')\n",
    "#     if i==1:\n",
    "#         ax.legend(handles=legend_elements,bbox_to_anchor=(1.32,1))\n",
    "    \n",
    "# plt.rcParams.update({'font.size': 24})\n",
    "# plt.rcParams.update({'lines.markersize': 24})\n",
    "\n",
    "# plt.tight_layout()\n",
    "# # plt.savefig(\"/Users/iditbela/Documents/Broday/saved_data_from_notebooks/CV_results_basic.png\", dpi=500)\n",
    "# # plt.savefig(\"/Users/iditbela/Documents/Broday/saved_data_from_notebooks/CV_results_all.png\", dpi=500)\n",
    "# plt.show();"
   ]
  },
  {
   "cell_type": "code",
   "execution_count": null,
   "metadata": {},
   "outputs": [],
   "source": []
  },
  {
   "cell_type": "code",
   "execution_count": 291,
   "metadata": {},
   "outputs": [],
   "source": [
    "# def custom_cv_Kfolds(PM25,k):\n",
    "    \n",
    "#     kf = KFold(n_splits=k, random_state=rnd_state_forCV, shuffle=True)\n",
    "#     not_nan_idx = np.argwhere(PM25.notnull().values)\n",
    "    \n",
    "#     cv_splits = []\n",
    "#     for train_index, test_index in kf.split(not_nan_idx):\n",
    "#         cv_splits.append([train_index, test_index])\n",
    "        \n",
    "#     return cv_splits\n",
    "\n",
    "# cv_splits = custom_cv_Kfolds(r_PM25,3)\n",
    "\n",
    "# # Number of trees in random forest\n",
    "# n_estimators = [int(x) for x in range(10,420,30)]\n",
    "# # Number of features to consider at every split\n",
    "# max_features = ['auto', 'sqrt', 'log2']\n",
    "# # Maximum number of levels in tree\n",
    "# max_depth = [int(x) for x in np.linspace(10, 110, num = 11)]\n",
    "# max_depth.append(None)\n",
    "# # Minimum number of samples required to split a node\n",
    "# min_samples_split = [2, 5, 10]\n",
    "# # Minimum number of samples required at each leaf node\n",
    "# min_samples_leaf = [1, 2, 4]\n",
    "# # Method of selecting samples for training each tree\n",
    "# bootstrap = [True, False]\n",
    "# # Create the random grid\n",
    "# random_grid = {'n_estimators': n_estimators,\n",
    "#                'max_features': max_features,\n",
    "#                'max_depth': max_depth,\n",
    "#                'min_samples_split': min_samples_split,\n",
    "#                'min_samples_leaf': min_samples_leaf,\n",
    "#                'bootstrap': bootstrap}\n",
    "\n",
    "# class MyClassifier(BaseEstimator, ClassifierMixin):\n",
    "     \n",
    "#     def __init__(self, lr=0.1):\n",
    "#         # Some code\n",
    "#         pass\n",
    "    \n",
    "#     def fit(self, X, y):\n",
    "#         # Some code\n",
    "#         pass\n",
    "\n",
    "#     def predict(self, X):\n",
    "#         # Some code\n",
    "#         return X % 3\n",
    "\n",
    "\n",
    "# scoring=my_func\n",
    "\n",
    "# def my_scorer(y_true, y_predicted):\n",
    "#     error = math.sqrt(np.mean((y_true - y_predicted)**2))\n",
    "#     return error\n",
    "\n",
    "\n",
    "# my_func = make_scorer(my_scorer, greater_is_better=False)\n",
    "\n",
    "# gs = RandomizedSearchCV(MyClassifier(), param_distributions = random_grid, scoring = my_func, n_iter = 100, cv=cv_splits, random_state=42)\n",
    "\n",
    "# x = np.arange(30)\n",
    "# y = np.concatenate((np.zeros(10), np.ones(10), np.ones(10) * 2))\n",
    "# gs.my_fit(x, y)"
   ]
  },
  {
   "cell_type": "code",
   "execution_count": null,
   "metadata": {},
   "outputs": [],
   "source": [
    "#### fast KNN (with KDE) from impyute\n",
    "\n",
    "#### I gave it like 20 hours and nothing happened... don't think this is working.\n",
    "\n",
    "# # not sure what this is\n",
    "# # sys.setrecursionlimit(100000) #Increase the recursion limit of the OS\n",
    "\n",
    "# # impute \n",
    "# imputed=fast_knn(np_X_missing, k=10)\n",
    "\n",
    "# # validate\n",
    "# results = validate(imputed, np_y_missing, np_r_PM25_y_mask, IL)\n",
    "\n",
    "# results\n",
    "\n",
    "#### MICE from impyute\n",
    "\n",
    "# # maybe 5 rows of nans is not possible. \n",
    "# order = np.isnan(np_X_missing).sum(axis=1)\n",
    "# idx = np.argwhere(order==34)\n",
    "\n",
    "# np_X_missing_copy = np_X_missing.copy()\n",
    "# np_X_missing_copy = np.delete(np_X_missing_copy,idx,axis=0)\n",
    "\n",
    "# np_X_missing.shape\n",
    "# np_X_missing_copy.shape\n",
    "\n",
    "# imputed=mice(np_X_missing_copy)\n",
    "\n",
    "# # validate\n",
    "# results = validate(imputed, np_y_missing, np_r_PM25_y_mask, IL)\n",
    "\n",
    "# results"
   ]
  }
 ],
 "metadata": {
  "kernelspec": {
   "display_name": "Python 3",
   "language": "python",
   "name": "python3"
  },
  "language_info": {
   "codemirror_mode": {
    "name": "ipython",
    "version": 3
   },
   "file_extension": ".py",
   "mimetype": "text/x-python",
   "name": "python",
   "nbconvert_exporter": "python",
   "pygments_lexer": "ipython3",
   "version": "3.6.4"
  }
 },
 "nbformat": 4,
 "nbformat_minor": 2
}
