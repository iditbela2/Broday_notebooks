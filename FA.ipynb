{
 "cells": [
  {
   "cell_type": "markdown",
   "metadata": {},
   "source": [
    "#### reading material"
   ]
  },
  {
   "cell_type": "code",
   "execution_count": 5,
   "metadata": {},
   "outputs": [],
   "source": [
    "from scipy.io import loadmat\n",
    "import numpy as np\n",
    "import pandas as pd\n",
    "import matplotlib.pyplot as plt\n",
    "import plotly as py\n",
    "import plotly.graph_objs as go\n",
    "import ipywidgets as widgets\n",
    "from tqdm.auto import tqdm \n",
    "\n",
    "import seaborn as sns\n",
    "\n",
    "from sklearn.experimental import enable_iterative_imputer\n",
    "from sklearn.impute import SimpleImputer\n",
    "from sklearn.impute import IterativeImputer\n",
    "from sklearn.ensemble import ExtraTreesRegressor\n",
    "from sklearn.impute import MissingIndicator\n",
    "from sklearn.preprocessing import PowerTransformer\n",
    "from sklearn.linear_model import BayesianRidge\n",
    "from sklearn.tree import DecisionTreeRegressor\n",
    "from sklearn.ensemble import ExtraTreesRegressor\n",
    "from sklearn.ensemble import RandomForestRegressor \n",
    "from sklearn.neighbors import KNeighborsRegressor\n",
    "from sklearn.model_selection import cross_val_score\n",
    "from sklearn.model_selection import KFold\n",
    "from sklearn.preprocessing import PowerTransformer\n",
    "from sklearn.preprocessing import MinMaxScaler\n",
    "from sklearn.pipeline import Pipeline\n",
    "from sklearn.metrics import mean_squared_error\n",
    "from sklearn.model_selection import RandomizedSearchCV\n",
    "\n",
    "from sklearn.metrics import mean_squared_error\n",
    "from sklearn.metrics import median_absolute_error\n",
    "from sklearn.metrics import mean_absolute_error #=mean error (Simon 2012)\n",
    "from sklearn.metrics import r2_score\n",
    "from sklearn.metrics import make_scorer\n",
    "from scipy.optimize import minimize\n",
    "\n",
    "from scipy.spatial import distance\n",
    "from sklearn.metrics.pairwise import nan_euclidean_distances\n",
    "\n",
    "from matplotlib.lines import Line2D\n",
    "from matplotlib import rcParams, cycler\n",
    "from sklearn.preprocessing import PowerTransformer\n",
    "\n",
    "import sys\n",
    "from impyute.imputation.cs import fast_knn\n",
    "from impyute.imputation.cs import mice\n",
    "\n",
    "from IPython.core.interactiveshell import InteractiveShell\n",
    "InteractiveShell.ast_node_interactivity = \"all\"\n",
    "%config InlineBackend.figure_format = 'retina'"
   ]
  },
  {
   "cell_type": "code",
   "execution_count": null,
   "metadata": {},
   "outputs": [],
   "source": [
    "from factor_analyzer import FactorAnalyzer\n",
    "from factor_analyzer.factor_analyzer import calculate_bartlett_sphericity\n",
    "from factor_analyzer.factor_analyzer import calculate_kmo"
   ]
  },
  {
   "cell_type": "code",
   "execution_count": null,
   "metadata": {},
   "outputs": [],
   "source": [
    "# https://support.sas.com/resources/papers/proceedings/proceedings/sugi30/203-30.pdf\n",
    "# https://books.google.co.il/books?id=KFAnkvqD8CgC&pg=PA61&redir_esc=y#v=onepage&q&f=false\n",
    "# https://www.theanalysisfactor.com/the-fundamental-difference-between-principal-component-analysis-and-factor-analysis/\n",
    "# https://www.mathworks.com/help/stats/examples/factor-analysis.html\n",
    "# https://iescoders.com/exploratory-factor-analysis/"
   ]
  },
  {
   "cell_type": "code",
   "execution_count": 7,
   "metadata": {},
   "outputs": [],
   "source": [
    "# load data\n",
    "df = pd.read_csv(\"~/Documents/saved_data_from_notebooks/RF_add1.csv\") "
   ]
  },
  {
   "cell_type": "code",
   "execution_count": 33,
   "metadata": {},
   "outputs": [
    {
     "data": {
      "text/html": [
       "<div>\n",
       "<style scoped>\n",
       "    .dataframe tbody tr th:only-of-type {\n",
       "        vertical-align: middle;\n",
       "    }\n",
       "\n",
       "    .dataframe tbody tr th {\n",
       "        vertical-align: top;\n",
       "    }\n",
       "\n",
       "    .dataframe thead th {\n",
       "        text-align: right;\n",
       "    }\n",
       "</style>\n",
       "<table border=\"1\" class=\"dataframe\">\n",
       "  <thead>\n",
       "    <tr style=\"text-align: right;\">\n",
       "      <th></th>\n",
       "      <th>AFULA</th>\n",
       "      <th>ANTOKOLSKY</th>\n",
       "      <th>HOLON</th>\n",
       "      <th>IRONID</th>\n",
       "      <th>KVISH4</th>\n",
       "      <th>REMEZ</th>\n",
       "      <th>YAD_LEBANIM</th>\n",
       "      <th>YEFET_YAFO</th>\n",
       "      <th>AHUZA_G</th>\n",
       "      <th>ATZMAUT_B</th>\n",
       "      <th>...</th>\n",
       "      <th>ORT</th>\n",
       "      <th>ROVA_TV</th>\n",
       "      <th>SDEROT</th>\n",
       "      <th>SDE_YOAV</th>\n",
       "      <th>YAHALOM</th>\n",
       "      <th>BEER_SHEVA</th>\n",
       "      <th>EAST_NEGEV</th>\n",
       "      <th>KFAR_MASARIK</th>\n",
       "      <th>PARDES_HANA</th>\n",
       "      <th>RAANANA</th>\n",
       "    </tr>\n",
       "  </thead>\n",
       "  <tbody>\n",
       "    <tr>\n",
       "      <th>0</th>\n",
       "      <td>27.45</td>\n",
       "      <td>28.10</td>\n",
       "      <td>55.0</td>\n",
       "      <td>43.80</td>\n",
       "      <td>34.80</td>\n",
       "      <td>35.67</td>\n",
       "      <td>23.76</td>\n",
       "      <td>32.27</td>\n",
       "      <td>17.8</td>\n",
       "      <td>31.2</td>\n",
       "      <td>...</td>\n",
       "      <td>39.20</td>\n",
       "      <td>39.20</td>\n",
       "      <td>45.7</td>\n",
       "      <td>35.10</td>\n",
       "      <td>52.40</td>\n",
       "      <td>35.3</td>\n",
       "      <td>13.83</td>\n",
       "      <td>9.30</td>\n",
       "      <td>16.9</td>\n",
       "      <td>29.40</td>\n",
       "    </tr>\n",
       "    <tr>\n",
       "      <th>1</th>\n",
       "      <td>24.02</td>\n",
       "      <td>26.67</td>\n",
       "      <td>55.0</td>\n",
       "      <td>43.76</td>\n",
       "      <td>35.00</td>\n",
       "      <td>43.40</td>\n",
       "      <td>18.50</td>\n",
       "      <td>26.19</td>\n",
       "      <td>17.8</td>\n",
       "      <td>38.8</td>\n",
       "      <td>...</td>\n",
       "      <td>49.00</td>\n",
       "      <td>49.00</td>\n",
       "      <td>54.0</td>\n",
       "      <td>34.40</td>\n",
       "      <td>42.40</td>\n",
       "      <td>33.1</td>\n",
       "      <td>19.95</td>\n",
       "      <td>15.60</td>\n",
       "      <td>16.9</td>\n",
       "      <td>26.73</td>\n",
       "    </tr>\n",
       "    <tr>\n",
       "      <th>2</th>\n",
       "      <td>29.18</td>\n",
       "      <td>27.70</td>\n",
       "      <td>55.0</td>\n",
       "      <td>46.38</td>\n",
       "      <td>43.72</td>\n",
       "      <td>45.86</td>\n",
       "      <td>21.70</td>\n",
       "      <td>34.96</td>\n",
       "      <td>16.2</td>\n",
       "      <td>43.3</td>\n",
       "      <td>...</td>\n",
       "      <td>43.80</td>\n",
       "      <td>43.80</td>\n",
       "      <td>48.0</td>\n",
       "      <td>44.90</td>\n",
       "      <td>42.67</td>\n",
       "      <td>25.9</td>\n",
       "      <td>28.39</td>\n",
       "      <td>20.20</td>\n",
       "      <td>11.9</td>\n",
       "      <td>38.69</td>\n",
       "    </tr>\n",
       "    <tr>\n",
       "      <th>3</th>\n",
       "      <td>19.40</td>\n",
       "      <td>26.30</td>\n",
       "      <td>64.6</td>\n",
       "      <td>48.70</td>\n",
       "      <td>44.01</td>\n",
       "      <td>40.65</td>\n",
       "      <td>23.60</td>\n",
       "      <td>37.76</td>\n",
       "      <td>17.1</td>\n",
       "      <td>39.3</td>\n",
       "      <td>...</td>\n",
       "      <td>39.40</td>\n",
       "      <td>39.40</td>\n",
       "      <td>25.6</td>\n",
       "      <td>34.60</td>\n",
       "      <td>45.40</td>\n",
       "      <td>26.4</td>\n",
       "      <td>21.93</td>\n",
       "      <td>16.60</td>\n",
       "      <td>15.1</td>\n",
       "      <td>35.50</td>\n",
       "    </tr>\n",
       "    <tr>\n",
       "      <th>4</th>\n",
       "      <td>25.70</td>\n",
       "      <td>28.00</td>\n",
       "      <td>71.0</td>\n",
       "      <td>44.70</td>\n",
       "      <td>32.94</td>\n",
       "      <td>28.13</td>\n",
       "      <td>25.00</td>\n",
       "      <td>27.66</td>\n",
       "      <td>18.3</td>\n",
       "      <td>37.1</td>\n",
       "      <td>...</td>\n",
       "      <td>42.50</td>\n",
       "      <td>42.50</td>\n",
       "      <td>20.3</td>\n",
       "      <td>26.00</td>\n",
       "      <td>35.10</td>\n",
       "      <td>34.6</td>\n",
       "      <td>21.65</td>\n",
       "      <td>14.40</td>\n",
       "      <td>17.0</td>\n",
       "      <td>33.81</td>\n",
       "    </tr>\n",
       "    <tr>\n",
       "      <th>...</th>\n",
       "      <td>...</td>\n",
       "      <td>...</td>\n",
       "      <td>...</td>\n",
       "      <td>...</td>\n",
       "      <td>...</td>\n",
       "      <td>...</td>\n",
       "      <td>...</td>\n",
       "      <td>...</td>\n",
       "      <td>...</td>\n",
       "      <td>...</td>\n",
       "      <td>...</td>\n",
       "      <td>...</td>\n",
       "      <td>...</td>\n",
       "      <td>...</td>\n",
       "      <td>...</td>\n",
       "      <td>...</td>\n",
       "      <td>...</td>\n",
       "      <td>...</td>\n",
       "      <td>...</td>\n",
       "      <td>...</td>\n",
       "      <td>...</td>\n",
       "    </tr>\n",
       "    <tr>\n",
       "      <th>105161</th>\n",
       "      <td>19.40</td>\n",
       "      <td>27.30</td>\n",
       "      <td>27.0</td>\n",
       "      <td>29.80</td>\n",
       "      <td>29.61</td>\n",
       "      <td>26.00</td>\n",
       "      <td>14.90</td>\n",
       "      <td>28.40</td>\n",
       "      <td>24.7</td>\n",
       "      <td>19.4</td>\n",
       "      <td>...</td>\n",
       "      <td>18.62</td>\n",
       "      <td>18.06</td>\n",
       "      <td>23.6</td>\n",
       "      <td>5.10</td>\n",
       "      <td>20.46</td>\n",
       "      <td>18.3</td>\n",
       "      <td>8.30</td>\n",
       "      <td>25.90</td>\n",
       "      <td>32.5</td>\n",
       "      <td>15.80</td>\n",
       "    </tr>\n",
       "    <tr>\n",
       "      <th>105162</th>\n",
       "      <td>21.68</td>\n",
       "      <td>26.90</td>\n",
       "      <td>28.9</td>\n",
       "      <td>23.10</td>\n",
       "      <td>25.87</td>\n",
       "      <td>31.80</td>\n",
       "      <td>14.80</td>\n",
       "      <td>38.40</td>\n",
       "      <td>23.5</td>\n",
       "      <td>29.4</td>\n",
       "      <td>...</td>\n",
       "      <td>17.54</td>\n",
       "      <td>18.09</td>\n",
       "      <td>15.6</td>\n",
       "      <td>9.25</td>\n",
       "      <td>18.05</td>\n",
       "      <td>17.3</td>\n",
       "      <td>24.20</td>\n",
       "      <td>21.60</td>\n",
       "      <td>38.0</td>\n",
       "      <td>33.40</td>\n",
       "    </tr>\n",
       "    <tr>\n",
       "      <th>105163</th>\n",
       "      <td>26.30</td>\n",
       "      <td>28.50</td>\n",
       "      <td>21.8</td>\n",
       "      <td>28.80</td>\n",
       "      <td>26.80</td>\n",
       "      <td>30.50</td>\n",
       "      <td>16.90</td>\n",
       "      <td>40.80</td>\n",
       "      <td>20.0</td>\n",
       "      <td>29.0</td>\n",
       "      <td>...</td>\n",
       "      <td>19.20</td>\n",
       "      <td>18.71</td>\n",
       "      <td>19.6</td>\n",
       "      <td>7.00</td>\n",
       "      <td>19.66</td>\n",
       "      <td>19.3</td>\n",
       "      <td>14.90</td>\n",
       "      <td>19.40</td>\n",
       "      <td>37.6</td>\n",
       "      <td>18.60</td>\n",
       "    </tr>\n",
       "    <tr>\n",
       "      <th>105164</th>\n",
       "      <td>22.70</td>\n",
       "      <td>29.30</td>\n",
       "      <td>24.1</td>\n",
       "      <td>23.10</td>\n",
       "      <td>33.90</td>\n",
       "      <td>31.10</td>\n",
       "      <td>18.90</td>\n",
       "      <td>43.60</td>\n",
       "      <td>18.7</td>\n",
       "      <td>28.9</td>\n",
       "      <td>...</td>\n",
       "      <td>18.92</td>\n",
       "      <td>19.02</td>\n",
       "      <td>42.8</td>\n",
       "      <td>14.30</td>\n",
       "      <td>22.87</td>\n",
       "      <td>23.7</td>\n",
       "      <td>13.30</td>\n",
       "      <td>26.80</td>\n",
       "      <td>33.0</td>\n",
       "      <td>25.88</td>\n",
       "    </tr>\n",
       "    <tr>\n",
       "      <th>105165</th>\n",
       "      <td>13.30</td>\n",
       "      <td>27.20</td>\n",
       "      <td>45.0</td>\n",
       "      <td>29.50</td>\n",
       "      <td>32.44</td>\n",
       "      <td>30.70</td>\n",
       "      <td>18.20</td>\n",
       "      <td>44.00</td>\n",
       "      <td>21.7</td>\n",
       "      <td>28.5</td>\n",
       "      <td>...</td>\n",
       "      <td>19.37</td>\n",
       "      <td>19.09</td>\n",
       "      <td>47.7</td>\n",
       "      <td>15.55</td>\n",
       "      <td>19.65</td>\n",
       "      <td>25.4</td>\n",
       "      <td>17.50</td>\n",
       "      <td>25.85</td>\n",
       "      <td>33.4</td>\n",
       "      <td>49.80</td>\n",
       "    </tr>\n",
       "  </tbody>\n",
       "</table>\n",
       "<p>105166 rows × 34 columns</p>\n",
       "</div>"
      ],
      "text/plain": [
       "        AFULA  ANTOKOLSKY  HOLON  IRONID  KVISH4  REMEZ  YAD_LEBANIM  \\\n",
       "0       27.45       28.10   55.0   43.80   34.80  35.67        23.76   \n",
       "1       24.02       26.67   55.0   43.76   35.00  43.40        18.50   \n",
       "2       29.18       27.70   55.0   46.38   43.72  45.86        21.70   \n",
       "3       19.40       26.30   64.6   48.70   44.01  40.65        23.60   \n",
       "4       25.70       28.00   71.0   44.70   32.94  28.13        25.00   \n",
       "...       ...         ...    ...     ...     ...    ...          ...   \n",
       "105161  19.40       27.30   27.0   29.80   29.61  26.00        14.90   \n",
       "105162  21.68       26.90   28.9   23.10   25.87  31.80        14.80   \n",
       "105163  26.30       28.50   21.8   28.80   26.80  30.50        16.90   \n",
       "105164  22.70       29.30   24.1   23.10   33.90  31.10        18.90   \n",
       "105165  13.30       27.20   45.0   29.50   32.44  30.70        18.20   \n",
       "\n",
       "        YEFET_YAFO  AHUZA_G  ATZMAUT_B  ...    ORT  ROVA_TV  SDEROT  SDE_YOAV  \\\n",
       "0            32.27     17.8       31.2  ...  39.20    39.20    45.7     35.10   \n",
       "1            26.19     17.8       38.8  ...  49.00    49.00    54.0     34.40   \n",
       "2            34.96     16.2       43.3  ...  43.80    43.80    48.0     44.90   \n",
       "3            37.76     17.1       39.3  ...  39.40    39.40    25.6     34.60   \n",
       "4            27.66     18.3       37.1  ...  42.50    42.50    20.3     26.00   \n",
       "...            ...      ...        ...  ...    ...      ...     ...       ...   \n",
       "105161       28.40     24.7       19.4  ...  18.62    18.06    23.6      5.10   \n",
       "105162       38.40     23.5       29.4  ...  17.54    18.09    15.6      9.25   \n",
       "105163       40.80     20.0       29.0  ...  19.20    18.71    19.6      7.00   \n",
       "105164       43.60     18.7       28.9  ...  18.92    19.02    42.8     14.30   \n",
       "105165       44.00     21.7       28.5  ...  19.37    19.09    47.7     15.55   \n",
       "\n",
       "        YAHALOM  BEER_SHEVA  EAST_NEGEV  KFAR_MASARIK  PARDES_HANA  RAANANA  \n",
       "0         52.40        35.3       13.83          9.30         16.9    29.40  \n",
       "1         42.40        33.1       19.95         15.60         16.9    26.73  \n",
       "2         42.67        25.9       28.39         20.20         11.9    38.69  \n",
       "3         45.40        26.4       21.93         16.60         15.1    35.50  \n",
       "4         35.10        34.6       21.65         14.40         17.0    33.81  \n",
       "...         ...         ...         ...           ...          ...      ...  \n",
       "105161    20.46        18.3        8.30         25.90         32.5    15.80  \n",
       "105162    18.05        17.3       24.20         21.60         38.0    33.40  \n",
       "105163    19.66        19.3       14.90         19.40         37.6    18.60  \n",
       "105164    22.87        23.7       13.30         26.80         33.0    25.88  \n",
       "105165    19.65        25.4       17.50         25.85         33.4    49.80  \n",
       "\n",
       "[105166 rows x 34 columns]"
      ]
     },
     "execution_count": 33,
     "metadata": {},
     "output_type": "execute_result"
    }
   ],
   "source": [
    "df"
   ]
  },
  {
   "cell_type": "code",
   "execution_count": 10,
   "metadata": {},
   "outputs": [],
   "source": []
  },
  {
   "cell_type": "code",
   "execution_count": null,
   "metadata": {},
   "outputs": [],
   "source": [
    "# Bartlett’s Test"
   ]
  },
  {
   "cell_type": "code",
   "execution_count": 11,
   "metadata": {},
   "outputs": [
    {
     "data": {
      "text/plain": [
       "(5301086.238691375, 0.0)"
      ]
     },
     "execution_count": 11,
     "metadata": {},
     "output_type": "execute_result"
    }
   ],
   "source": [
    "chi_square_value,p_value=calculate_bartlett_sphericity(df)\n",
    "chi_square_value, p_value"
   ]
  },
  {
   "cell_type": "code",
   "execution_count": null,
   "metadata": {},
   "outputs": [],
   "source": [
    "# Kaiser-Meyer-Olkin (KMO) Test"
   ]
  },
  {
   "cell_type": "code",
   "execution_count": 12,
   "metadata": {},
   "outputs": [
    {
     "data": {
      "text/plain": [
       "0.9864025974424117"
      ]
     },
     "execution_count": 12,
     "metadata": {},
     "output_type": "execute_result"
    }
   ],
   "source": [
    "\n",
    "kmo_all,kmo_model=calculate_kmo(df)\n",
    "kmo_model"
   ]
  },
  {
   "cell_type": "code",
   "execution_count": 26,
   "metadata": {},
   "outputs": [],
   "source": [
    "fa = FactorAnalyzer()"
   ]
  },
  {
   "cell_type": "code",
   "execution_count": 27,
   "metadata": {},
   "outputs": [
    {
     "data": {
      "text/plain": [
       "FactorAnalyzer(rotation_kwargs={})"
      ]
     },
     "execution_count": 27,
     "metadata": {},
     "output_type": "execute_result"
    },
    {
     "data": {
      "text/plain": [
       "array([24.24330935,  2.07115241,  1.34684644,  0.81734066,  0.38906624,\n",
       "        0.37382714,  0.33766111,  0.31911363,  0.29851798,  0.2799224 ,\n",
       "        0.26775461,  0.23576525,  0.21630204,  0.21311889,  0.2015623 ,\n",
       "        0.18628146,  0.18017646,  0.17718492,  0.16582257,  0.16201526,\n",
       "        0.14839486,  0.14675941,  0.13405586,  0.12854055,  0.12645096,\n",
       "        0.12284043,  0.11542961,  0.11028495,  0.09810684,  0.09584521,\n",
       "        0.08515682,  0.07754957,  0.06556619,  0.0622776 ])"
      ]
     },
     "execution_count": 27,
     "metadata": {},
     "output_type": "execute_result"
    }
   ],
   "source": [
    "fa.fit(df)\n",
    "# Check Eigenvalues\n",
    "ev, v = fa.get_eigenvalues()\n",
    "ev"
   ]
  },
  {
   "cell_type": "code",
   "execution_count": 28,
   "metadata": {},
   "outputs": [
    {
     "data": {
      "image/png": "[encoded data removed]",
      "text/plain": [
       "<Figure size 432x288 with 1 Axes>"
      ]
     },
     "metadata": {
      "image/png": {
       "height": 277,
       "width": 382
      },
      "needs_background": "light"
     },
     "output_type": "display_data"
    }
   ],
   "source": [
    "# Create scree plot using matplotlib\n",
    "plt.scatter(range(1,df.shape[1]+1),ev)\n",
    "plt.plot(range(1,df.shape[1]+1),ev)\n",
    "plt.title('Scree Plot')\n",
    "plt.xlabel('Number of factors')\n",
    "plt.ylabel('Eigenvalue')\n",
    "plt.axhline(y=1,c='r')\n",
    "plt.show();"
   ]
  },
  {
   "cell_type": "code",
   "execution_count": 63,
   "metadata": {},
   "outputs": [],
   "source": [
    "NUM = 4"
   ]
  },
  {
   "cell_type": "code",
   "execution_count": 64,
   "metadata": {},
   "outputs": [
    {
     "data": {
      "text/plain": [
       "FactorAnalyzer(n_factors=4, rotation_kwargs={})"
      ]
     },
     "execution_count": 64,
     "metadata": {},
     "output_type": "execute_result"
    }
   ],
   "source": [
    "# Create factor analysis object and perform factor analysis\n",
    "fa = FactorAnalyzer(n_factors=NUM, rotation='promax')\n",
    "fa.fit(df)"
   ]
  },
  {
   "cell_type": "code",
   "execution_count": 65,
   "metadata": {},
   "outputs": [
    {
     "data": {
      "text/plain": [
       "array([[ 0.01018329,  0.54428361,  0.08250562,  0.36457336],\n",
       "       [ 0.19765639,  0.05486402,  0.70269869,  0.05860016],\n",
       "       [ 0.2831687 ,  0.05268768,  0.61160335,  0.0168297 ],\n",
       "       [ 0.16007334,  0.10237424,  0.68955143,  0.00345629],\n",
       "       [ 0.20613101,  0.07932878,  0.66917596,  0.04222398],\n",
       "       [ 0.09675634, -0.06758858,  0.82130535,  0.07119234],\n",
       "       [ 0.50759113,  0.14319857,  0.365059  , -0.00122888],\n",
       "       [ 0.24449122,  0.13212011,  0.52506429, -0.02780583],\n",
       "       [ 0.12204399,  0.72253832, -0.03028552,  0.12597638],\n",
       "       [ 0.00692591,  0.79200364,  0.09050446,  0.00493238],\n",
       "       [ 0.12301999,  0.96919209, -0.06192037, -0.13166961],\n",
       "       [-0.06753635,  0.82958707,  0.05283566,  0.11168713],\n",
       "       [ 0.02421465,  0.86119341, -0.00547132, -0.04818608],\n",
       "       [ 0.0287322 ,  0.89597333, -0.06471953,  0.02622911],\n",
       "       [-0.0098051 ,  0.95030405, -0.00850206, -0.00912302],\n",
       "       [-0.01308432,  0.94341289,  0.03273486, -0.04381363],\n",
       "       [-0.181239  ,  0.09329508,  0.10796281,  0.86164774],\n",
       "       [ 0.12172203, -0.0431891 ,  0.03170819,  0.86021938],\n",
       "       [ 0.67705316,  0.06552665,  0.2716761 , -0.05089908],\n",
       "       [ 0.81586435,  0.08232248,  0.10732615, -0.09527159],\n",
       "       [ 0.68524206,  0.15183787,  0.11879835,  0.05014541],\n",
       "       [ 0.83789761,  0.03009376, -0.00941528,  0.07262157],\n",
       "       [ 0.85769834,  0.07750764, -0.02772119,  0.02373591],\n",
       "       [ 0.84481977,  0.01722747,  0.07705422,  0.03463266],\n",
       "       [ 0.65981973, -0.03693173,  0.35753241, -0.04332842],\n",
       "       [ 0.68292288,  0.04507559,  0.28486654, -0.04962931],\n",
       "       [ 0.98520662,  0.0867448 , -0.1941377 ,  0.03009388],\n",
       "       [ 0.99634475,  0.05833175, -0.17020621,  0.01207586],\n",
       "       [ 0.6410496 , -0.06599408,  0.37123651, -0.02502171],\n",
       "       [ 0.75190379, -0.08048973,  0.02600039,  0.18155323],\n",
       "       [ 0.23800246, -0.04251509, -0.0754038 ,  0.75511339],\n",
       "       [ 0.21193109,  0.71974068,  0.01337235, -0.02062233],\n",
       "       [ 0.06013085,  0.53030529,  0.32472239,  0.01929994],\n",
       "       [ 0.3137068 ,  0.20962901,  0.48512155, -0.07925825]])"
      ]
     },
     "execution_count": 65,
     "metadata": {},
     "output_type": "execute_result"
    }
   ],
   "source": [
    "fa.loadings_"
   ]
  },
  {
   "cell_type": "code",
   "execution_count": 66,
   "metadata": {},
   "outputs": [
    {
     "data": {
      "text/plain": [
       "(array([8.38824086, 7.39780503, 3.78220674, 2.3148751 ]),\n",
       " array([0.24671297, 0.2175825 , 0.11124137, 0.06808456]),\n",
       " array([0.24671297, 0.46429547, 0.57553684, 0.6436214 ]))"
      ]
     },
     "execution_count": 66,
     "metadata": {},
     "output_type": "execute_result"
    }
   ],
   "source": [
    "fa.get_factor_variance()"
   ]
  },
  {
   "cell_type": "code",
   "execution_count": 67,
   "metadata": {},
   "outputs": [
    {
     "data": {
      "image/png": "[encoded data removed]",
      "text/plain": [
       "<Figure size 720x720 with 2 Axes>"
      ]
     },
     "metadata": {
      "image/png": {
       "height": 574,
       "width": 640
      },
      "needs_background": "light"
     },
     "output_type": "display_data"
    }
   ],
   "source": [
    "Z=np.abs(fa.loadings_)\n",
    "fig, ax = plt.subplots(figsize=(10,10))\n",
    "c = ax.pcolor(Z)\n",
    "fig.colorbar(c, ax=ax)\n",
    "ax.set_yticks(np.arange(fa.loadings_.shape[0])+0.5, minor=False)\n",
    "ax.set_xticks(np.arange(fa.loadings_.shape[1])+0.5, minor=False)\n",
    "ax.set_yticklabels(df.columns)\n",
    "ax.set_xticklabels(['Factor '+str(i+1) for i in range(fa.loadings_.shape[1])])\n",
    "plt.show();"
   ]
  },
  {
   "cell_type": "code",
   "execution_count": null,
   "metadata": {},
   "outputs": [],
   "source": []
  }
 ],
 "metadata": {
  "kernelspec": {
   "display_name": "Python 3",
   "language": "python",
   "name": "python3"
  },
  "language_info": {
   "codemirror_mode": {
    "name": "ipython",
    "version": 3
   },
   "file_extension": ".py",
   "mimetype": "text/x-python",
   "name": "python",
   "nbconvert_exporter": "python",
   "pygments_lexer": "ipython3",
   "version": "3.6.4"
  }
 },
 "nbformat": 4,
 "nbformat_minor": 4
}
