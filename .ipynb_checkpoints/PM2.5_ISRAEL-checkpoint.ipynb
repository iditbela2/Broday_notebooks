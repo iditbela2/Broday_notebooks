{
 "cells": [
  {
   "cell_type": "markdown",
   "metadata": {},
   "source": [
    "# Part (1)- data imputation "
   ]
  },
  {
   "cell_type": "markdown",
   "metadata": {},
   "source": [
    "## upload matlab's data"
   ]
  },
  {
   "cell_type": "code",
   "execution_count": 1,
   "metadata": {},
   "outputs": [],
   "source": [
    "from scipy.io import loadmat\n",
    "import numpy as np\n",
    "import pandas as pd\n",
    "import matplotlib.pyplot as plt\n",
    "\n",
    "\n",
    "# import requests\n",
    "# import pandas as pd\n",
    "# import numpy as np\n",
    "# import json\n",
    "# from pandas.io.json import json_normalize\n",
    "# from datetime import datetime, timedelta\n",
    "# from dateutil.relativedelta import relativedelta\n",
    "# from matplotlib import pyplot as plt\n",
    "# import matplotlib.cm as cm\n",
    "# import itertools\n",
    "# import metpy as mp\n",
    "# import metpy.calc as mpcalc\n",
    "# import plotly as py\n",
    "# import plotly.graph_objs as go\n",
    "# import plotly.figure_factory as ff\n",
    "# from scipy import special\n",
    "# import ipywidgets as widgets\n",
    "# from metpy.units import units\n",
    "\n",
    "\n",
    "from IPython.core.interactiveshell import InteractiveShell\n",
    "InteractiveShell.ast_node_interactivity = \"all\"\n",
    "%config InlineBackend.figure_format = 'retina'"
   ]
  },
  {
   "cell_type": "code",
   "execution_count": 2,
   "metadata": {},
   "outputs": [],
   "source": [
    "PM25_dict = loadmat('/Users/iditbela/Documents/Broday/AQMdataQC/LoadDataVar_PM25_2000#2018.mat')"
   ]
  },
  {
   "cell_type": "code",
   "execution_count": 3,
   "metadata": {},
   "outputs": [
    {
     "data": {
      "text/plain": [
       "dict_keys(['__header__', '__version__', '__globals__', 'StNames_Titles', 'SelYears', 'TA', 'README_TA', 'DATA', 'StNames', 'StTypes', 'fffSt', 'README_DATA', 'VarName', 'VarCode', 'VarUnits'])"
      ]
     },
     "execution_count": 3,
     "metadata": {},
     "output_type": "execute_result"
    }
   ],
   "source": [
    "PM25_dict.keys()"
   ]
  },
  {
   "cell_type": "code",
   "execution_count": 4,
   "metadata": {},
   "outputs": [
    {
     "data": {
      "text/plain": [
       "array([[2000, 2001, 2002, 2003, 2004, 2005, 2006, 2007, 2008, 2009, 2010,\n",
       "        2011, 2012, 2013, 2014, 2015, 2016, 2017, 2018]], dtype=uint16)"
      ]
     },
     "execution_count": 4,
     "metadata": {},
     "output_type": "execute_result"
    }
   ],
   "source": [
    "PM25_dict['SelYears']"
   ]
  },
  {
   "cell_type": "code",
   "execution_count": 5,
   "metadata": {},
   "outputs": [
    {
     "data": {
      "text/plain": [
       "(numpy.ndarray, (69, 333122))"
      ]
     },
     "execution_count": 5,
     "metadata": {},
     "output_type": "execute_result"
    }
   ],
   "source": [
    "type(PM25_dict['DATA']),PM25_dict['DATA'].shape"
   ]
  },
  {
   "cell_type": "code",
   "execution_count": 6,
   "metadata": {},
   "outputs": [],
   "source": [
    "data = PM25_dict['DATA']\n",
    "columns = PM25_dict['StNames']"
   ]
  },
  {
   "cell_type": "code",
   "execution_count": 7,
   "metadata": {},
   "outputs": [],
   "source": [
    "col_list = []\n",
    "for c in columns:\n",
    "    col_list.append(c[0][0])"
   ]
  },
  {
   "cell_type": "code",
   "execution_count": 8,
   "metadata": {},
   "outputs": [],
   "source": [
    "# col_list"
   ]
  },
  {
   "cell_type": "code",
   "execution_count": 9,
   "metadata": {},
   "outputs": [
    {
     "data": {
      "text/plain": [
       "(69,)"
      ]
     },
     "execution_count": 9,
     "metadata": {},
     "output_type": "execute_result"
    }
   ],
   "source": [
    "np.shape(col_list)"
   ]
  },
  {
   "cell_type": "code",
   "execution_count": 10,
   "metadata": {},
   "outputs": [],
   "source": [
    "PM25 = pd.DataFrame(data.T, columns = col_list)"
   ]
  },
  {
   "cell_type": "code",
   "execution_count": 11,
   "metadata": {},
   "outputs": [
    {
     "data": {
      "text/html": [
       "<div>\n",
       "<style scoped>\n",
       "    .dataframe tbody tr th:only-of-type {\n",
       "        vertical-align: middle;\n",
       "    }\n",
       "\n",
       "    .dataframe tbody tr th {\n",
       "        vertical-align: top;\n",
       "    }\n",
       "\n",
       "    .dataframe thead th {\n",
       "        text-align: right;\n",
       "    }\n",
       "</style>\n",
       "<table border=\"1\" class=\"dataframe\">\n",
       "  <thead>\n",
       "    <tr style=\"text-align: right;\">\n",
       "      <th></th>\n",
       "      <th>AFULA</th>\n",
       "      <th>ANTOKOLSKY</th>\n",
       "      <th>AZUR</th>\n",
       "      <th>EHAD_HAAM</th>\n",
       "      <th>HATIKVA</th>\n",
       "      <th>HOLON</th>\n",
       "      <th>IRONID</th>\n",
       "      <th>KVISH4</th>\n",
       "      <th>PETAH_TIKVA_ROAD</th>\n",
       "      <th>RAKEVET_HASHALOM</th>\n",
       "      <th>...</th>\n",
       "      <th>RAANANA</th>\n",
       "      <th>SHFEYA</th>\n",
       "      <th>UM_EL_FAHEM_C</th>\n",
       "      <th>BEIT_RIVKA</th>\n",
       "      <th>BEN_GURION_AIRPORT</th>\n",
       "      <th>BNEI_ATAROT</th>\n",
       "      <th>MODEIN</th>\n",
       "      <th>ASHALIM</th>\n",
       "      <th>GUSH_EZION</th>\n",
       "      <th>NEOT_HAKIKAR</th>\n",
       "    </tr>\n",
       "  </thead>\n",
       "  <tbody>\n",
       "    <tr>\n",
       "      <th>333117</th>\n",
       "      <td>18.9</td>\n",
       "      <td>26.9</td>\n",
       "      <td>NaN</td>\n",
       "      <td>45.0</td>\n",
       "      <td>NaN</td>\n",
       "      <td>28.9</td>\n",
       "      <td>23.1</td>\n",
       "      <td>NaN</td>\n",
       "      <td>NaN</td>\n",
       "      <td>76.3</td>\n",
       "      <td>...</td>\n",
       "      <td>33.4</td>\n",
       "      <td>16.0</td>\n",
       "      <td>NaN</td>\n",
       "      <td>NaN</td>\n",
       "      <td>NaN</td>\n",
       "      <td>NaN</td>\n",
       "      <td>NaN</td>\n",
       "      <td>NaN</td>\n",
       "      <td>NaN</td>\n",
       "      <td>NaN</td>\n",
       "    </tr>\n",
       "    <tr>\n",
       "      <th>333118</th>\n",
       "      <td>26.3</td>\n",
       "      <td>28.5</td>\n",
       "      <td>NaN</td>\n",
       "      <td>39.8</td>\n",
       "      <td>NaN</td>\n",
       "      <td>21.8</td>\n",
       "      <td>28.8</td>\n",
       "      <td>NaN</td>\n",
       "      <td>NaN</td>\n",
       "      <td>74.0</td>\n",
       "      <td>...</td>\n",
       "      <td>18.6</td>\n",
       "      <td>15.0</td>\n",
       "      <td>NaN</td>\n",
       "      <td>NaN</td>\n",
       "      <td>NaN</td>\n",
       "      <td>NaN</td>\n",
       "      <td>NaN</td>\n",
       "      <td>NaN</td>\n",
       "      <td>NaN</td>\n",
       "      <td>NaN</td>\n",
       "    </tr>\n",
       "    <tr>\n",
       "      <th>333119</th>\n",
       "      <td>22.7</td>\n",
       "      <td>29.3</td>\n",
       "      <td>NaN</td>\n",
       "      <td>39.6</td>\n",
       "      <td>NaN</td>\n",
       "      <td>24.1</td>\n",
       "      <td>23.1</td>\n",
       "      <td>NaN</td>\n",
       "      <td>NaN</td>\n",
       "      <td>55.3</td>\n",
       "      <td>...</td>\n",
       "      <td>32.3</td>\n",
       "      <td>15.0</td>\n",
       "      <td>NaN</td>\n",
       "      <td>NaN</td>\n",
       "      <td>NaN</td>\n",
       "      <td>NaN</td>\n",
       "      <td>NaN</td>\n",
       "      <td>NaN</td>\n",
       "      <td>NaN</td>\n",
       "      <td>NaN</td>\n",
       "    </tr>\n",
       "    <tr>\n",
       "      <th>333120</th>\n",
       "      <td>13.3</td>\n",
       "      <td>27.2</td>\n",
       "      <td>NaN</td>\n",
       "      <td>40.4</td>\n",
       "      <td>NaN</td>\n",
       "      <td>45.0</td>\n",
       "      <td>29.5</td>\n",
       "      <td>NaN</td>\n",
       "      <td>NaN</td>\n",
       "      <td>46.0</td>\n",
       "      <td>...</td>\n",
       "      <td>49.8</td>\n",
       "      <td>15.0</td>\n",
       "      <td>NaN</td>\n",
       "      <td>NaN</td>\n",
       "      <td>NaN</td>\n",
       "      <td>NaN</td>\n",
       "      <td>NaN</td>\n",
       "      <td>NaN</td>\n",
       "      <td>NaN</td>\n",
       "      <td>NaN</td>\n",
       "    </tr>\n",
       "    <tr>\n",
       "      <th>333121</th>\n",
       "      <td>NaN</td>\n",
       "      <td>NaN</td>\n",
       "      <td>NaN</td>\n",
       "      <td>NaN</td>\n",
       "      <td>NaN</td>\n",
       "      <td>NaN</td>\n",
       "      <td>NaN</td>\n",
       "      <td>NaN</td>\n",
       "      <td>NaN</td>\n",
       "      <td>NaN</td>\n",
       "      <td>...</td>\n",
       "      <td>NaN</td>\n",
       "      <td>NaN</td>\n",
       "      <td>NaN</td>\n",
       "      <td>NaN</td>\n",
       "      <td>NaN</td>\n",
       "      <td>NaN</td>\n",
       "      <td>NaN</td>\n",
       "      <td>NaN</td>\n",
       "      <td>NaN</td>\n",
       "      <td>NaN</td>\n",
       "    </tr>\n",
       "  </tbody>\n",
       "</table>\n",
       "<p>5 rows × 69 columns</p>\n",
       "</div>"
      ],
      "text/plain": [
       "        AFULA  ANTOKOLSKY  AZUR  EHAD_HAAM  HATIKVA  HOLON  IRONID  KVISH4  \\\n",
       "333117   18.9        26.9   NaN       45.0      NaN   28.9    23.1     NaN   \n",
       "333118   26.3        28.5   NaN       39.8      NaN   21.8    28.8     NaN   \n",
       "333119   22.7        29.3   NaN       39.6      NaN   24.1    23.1     NaN   \n",
       "333120   13.3        27.2   NaN       40.4      NaN   45.0    29.5     NaN   \n",
       "333121    NaN         NaN   NaN        NaN      NaN    NaN     NaN     NaN   \n",
       "\n",
       "        PETAH_TIKVA_ROAD  RAKEVET_HASHALOM  ...  RAANANA  SHFEYA  \\\n",
       "333117               NaN              76.3  ...     33.4    16.0   \n",
       "333118               NaN              74.0  ...     18.6    15.0   \n",
       "333119               NaN              55.3  ...     32.3    15.0   \n",
       "333120               NaN              46.0  ...     49.8    15.0   \n",
       "333121               NaN               NaN  ...      NaN     NaN   \n",
       "\n",
       "        UM_EL_FAHEM_C  BEIT_RIVKA  BEN_GURION_AIRPORT  BNEI_ATAROT  MODEIN  \\\n",
       "333117            NaN         NaN                 NaN          NaN     NaN   \n",
       "333118            NaN         NaN                 NaN          NaN     NaN   \n",
       "333119            NaN         NaN                 NaN          NaN     NaN   \n",
       "333120            NaN         NaN                 NaN          NaN     NaN   \n",
       "333121            NaN         NaN                 NaN          NaN     NaN   \n",
       "\n",
       "        ASHALIM  GUSH_EZION  NEOT_HAKIKAR  \n",
       "333117      NaN         NaN           NaN  \n",
       "333118      NaN         NaN           NaN  \n",
       "333119      NaN         NaN           NaN  \n",
       "333120      NaN         NaN           NaN  \n",
       "333121      NaN         NaN           NaN  \n",
       "\n",
       "[5 rows x 69 columns]"
      ]
     },
     "execution_count": 11,
     "metadata": {},
     "output_type": "execute_result"
    }
   ],
   "source": [
    "PM25.tail()"
   ]
  },
  {
   "cell_type": "code",
   "execution_count": null,
   "metadata": {},
   "outputs": [],
   "source": []
  },
  {
   "cell_type": "markdown",
   "metadata": {},
   "source": [
    "## save dataframe"
   ]
  },
  {
   "cell_type": "code",
   "execution_count": 18,
   "metadata": {},
   "outputs": [],
   "source": [
    "PM25.to_pickle(\"/Users/iditbela/Documents/Broday/saved_data_from_notebooks/PM25\")"
   ]
  },
  {
   "cell_type": "code",
   "execution_count": 44,
   "metadata": {},
   "outputs": [],
   "source": [
    "PM25 = pd.read_pickle(\"/Users/iditbela/Documents/Broday/saved_data_from_notebooks/PM25\")"
   ]
  },
  {
   "cell_type": "markdown",
   "metadata": {},
   "source": []
  },
  {
   "cell_type": "markdown",
   "metadata": {},
   "source": [
    "## plot map of missing data"
   ]
  },
  {
   "cell_type": "code",
   "execution_count": 45,
   "metadata": {},
   "outputs": [
    {
     "data": {
      "text/plain": [
       "(333122, 69)"
      ]
     },
     "execution_count": 45,
     "metadata": {},
     "output_type": "execute_result"
    }
   ],
   "source": [
    "PM25.shape"
   ]
  },
  {
   "cell_type": "code",
   "execution_count": 46,
   "metadata": {},
   "outputs": [
    {
     "data": {
      "text/plain": [
       "227954"
      ]
     },
     "execution_count": 46,
     "metadata": {},
     "output_type": "execute_result"
    }
   ],
   "source": [
    "times = pd.date_range(start='2013-01-01 00:00:00', end='2018-12-31 23:30:00', freq='30Min')\n",
    "start_year = PM25.shape[0]-times.shape[0]\n",
    "start_year"
   ]
  },
  {
   "cell_type": "code",
   "execution_count": 47,
   "metadata": {},
   "outputs": [
    {
     "data": {
      "text/plain": [
       "35"
      ]
     },
     "execution_count": 47,
     "metadata": {},
     "output_type": "execute_result"
    }
   ],
   "source": [
    "# percentage of not-null should be more than 50%\n",
    "# how many stations?\n",
    "np.sum(PM25[start_year:].notnull().sum(axis = 0)/PM25[start_year:].shape[0] > 0.5)"
   ]
  },
  {
   "cell_type": "code",
   "execution_count": 48,
   "metadata": {},
   "outputs": [
    {
     "data": {
      "text/plain": [
       "15.000168106579572"
      ]
     },
     "execution_count": 48,
     "metadata": {},
     "output_type": "execute_result"
    }
   ],
   "source": [
    "times = pd.date_range(start='2015-01-01 00:00:00', end='2018-12-31 23:30:00', freq='30Min')\n",
    "start_year = PM25.shape[0]-times.shape[0]\n",
    "start_year/PM25.shape[0]*19"
   ]
  },
  {
   "cell_type": "code",
   "execution_count": null,
   "metadata": {},
   "outputs": [],
   "source": []
  },
  {
   "cell_type": "code",
   "execution_count": null,
   "metadata": {},
   "outputs": [],
   "source": []
  },
  {
   "cell_type": "code",
   "execution_count": null,
   "metadata": {},
   "outputs": [],
   "source": []
  },
  {
   "cell_type": "code",
   "execution_count": 49,
   "metadata": {},
   "outputs": [],
   "source": [
    "# according to what I see, if I take starting 2010 (meaning I will have 10-years data if I include 2019), \n",
    "# only stations with not-null values>54% then I will have 33 stations\n",
    "# if I start 2013, I have 35 stations. "
   ]
  },
  {
   "cell_type": "code",
   "execution_count": 50,
   "metadata": {},
   "outputs": [],
   "source": [
    "# percentage of these 33 stations:\n",
    "x = PM25[start_year:].notnull().sum(axis = 0)/PM25[start_year:].shape[0]"
   ]
  },
  {
   "cell_type": "code",
   "execution_count": 51,
   "metadata": {},
   "outputs": [
    {
     "data": {
      "text/plain": [
       "AFULA           0.967160\n",
       "ANTOKOLSKY      0.872904\n",
       "AZUR            0.247063\n",
       "EHAD_HAAM       0.512406\n",
       "HATIKVA         0.231220\n",
       "                  ...   \n",
       "BNEI_ATAROT     0.307894\n",
       "MODEIN          0.392112\n",
       "ASHALIM         0.543249\n",
       "GUSH_EZION      0.219228\n",
       "NEOT_HAKIKAR    0.672841\n",
       "Length: 69, dtype: float64"
      ]
     },
     "execution_count": 51,
     "metadata": {},
     "output_type": "execute_result"
    }
   ],
   "source": [
    "x"
   ]
  },
  {
   "cell_type": "code",
   "execution_count": 52,
   "metadata": {},
   "outputs": [],
   "source": [
    "xs = x.sort_values(ascending=True)"
   ]
  },
  {
   "cell_type": "code",
   "execution_count": 53,
   "metadata": {},
   "outputs": [
    {
     "data": {
      "text/plain": [
       "ASHKELON              0.000000\n",
       "BARKAI                0.000000\n",
       "BEIT_RIVKA            0.000000\n",
       "BEN_GURION_AIRPORT    0.000000\n",
       "AGRIPAS               0.000000\n",
       "                        ...   \n",
       "KIRYAT_TIVON          0.960943\n",
       "AFULA                 0.967160\n",
       "NAVE_SHANAAN          0.967360\n",
       "AHUZA_G               0.968714\n",
       "EFRATA                0.970582\n",
       "Length: 69, dtype: float64"
      ]
     },
     "execution_count": 53,
     "metadata": {},
     "output_type": "execute_result"
    }
   ],
   "source": [
    "xs"
   ]
  },
  {
   "cell_type": "code",
   "execution_count": 54,
   "metadata": {},
   "outputs": [
    {
     "data": {
      "image/png": "[encoded data removed]",
      "text/plain": [
       "<Figure size 1440x1080 with 1 Axes>"
      ]
     },
     "metadata": {
      "image/png": {
       "height": 849,
       "width": 1286
      }
     },
     "output_type": "display_data"
    }
   ],
   "source": [
    "xs.plot(kind='barh',figsize=(20,15),fontsize=13)\n",
    "plt.plot(np.ones((100,))*0.5,np.arange(0,100,1),'r')\n",
    "plt.show();"
   ]
  },
  {
   "cell_type": "code",
   "execution_count": 55,
   "metadata": {},
   "outputs": [],
   "source": [
    "# reduced PM25 \n",
    "r_PM25 = PM25[start_year:-1]\n",
    "idx = r_PM25.notnull().sum(axis = 0)/r_PM25.shape[0]>0.5\n",
    "r_PM25 = r_PM25.loc[:, idx]"
   ]
  },
  {
   "cell_type": "code",
   "execution_count": 56,
   "metadata": {},
   "outputs": [],
   "source": [
    "r_PM25.reset_index(inplace=True)\n",
    "r_PM25.drop(labels = 'index',axis=1, inplace=True)"
   ]
  },
  {
   "cell_type": "code",
   "execution_count": null,
   "metadata": {},
   "outputs": [],
   "source": []
  },
  {
   "cell_type": "code",
   "execution_count": 57,
   "metadata": {},
   "outputs": [
    {
     "data": {
      "text/html": [
       "<div>\n",
       "<style scoped>\n",
       "    .dataframe tbody tr th:only-of-type {\n",
       "        vertical-align: middle;\n",
       "    }\n",
       "\n",
       "    .dataframe tbody tr th {\n",
       "        vertical-align: top;\n",
       "    }\n",
       "\n",
       "    .dataframe thead th {\n",
       "        text-align: right;\n",
       "    }\n",
       "</style>\n",
       "<table border=\"1\" class=\"dataframe\">\n",
       "  <thead>\n",
       "    <tr style=\"text-align: right;\">\n",
       "      <th></th>\n",
       "      <th>AFULA</th>\n",
       "      <th>ANTOKOLSKY</th>\n",
       "      <th>EHAD_HAAM</th>\n",
       "      <th>HOLON</th>\n",
       "      <th>IRONID</th>\n",
       "      <th>KVISH4</th>\n",
       "      <th>RAKEVET_HASHALOM</th>\n",
       "      <th>REMEZ</th>\n",
       "      <th>RISHON_LEZION</th>\n",
       "      <th>YEFET_YAFO</th>\n",
       "      <th>...</th>\n",
       "      <th>SDE_YOAV</th>\n",
       "      <th>YAHALOM</th>\n",
       "      <th>BEER_SHEVA</th>\n",
       "      <th>EAST_NEGEV</th>\n",
       "      <th>KFAR_MASARIK</th>\n",
       "      <th>PARDES_HANA</th>\n",
       "      <th>RAANANA</th>\n",
       "      <th>SHFEYA</th>\n",
       "      <th>ASHALIM</th>\n",
       "      <th>NEOT_HAKIKAR</th>\n",
       "    </tr>\n",
       "  </thead>\n",
       "  <tbody>\n",
       "    <tr>\n",
       "      <th>70122</th>\n",
       "      <td>19.4</td>\n",
       "      <td>27.3</td>\n",
       "      <td>36.7</td>\n",
       "      <td>27.0</td>\n",
       "      <td>29.8</td>\n",
       "      <td>NaN</td>\n",
       "      <td>81.0</td>\n",
       "      <td>26.0</td>\n",
       "      <td>27.0</td>\n",
       "      <td>28.4</td>\n",
       "      <td>...</td>\n",
       "      <td>5.1</td>\n",
       "      <td>NaN</td>\n",
       "      <td>18.3</td>\n",
       "      <td>8.3</td>\n",
       "      <td>25.9</td>\n",
       "      <td>32.5</td>\n",
       "      <td>15.8</td>\n",
       "      <td>16.0</td>\n",
       "      <td>NaN</td>\n",
       "      <td>NaN</td>\n",
       "    </tr>\n",
       "    <tr>\n",
       "      <th>70123</th>\n",
       "      <td>18.9</td>\n",
       "      <td>26.9</td>\n",
       "      <td>45.0</td>\n",
       "      <td>28.9</td>\n",
       "      <td>23.1</td>\n",
       "      <td>NaN</td>\n",
       "      <td>76.3</td>\n",
       "      <td>31.8</td>\n",
       "      <td>21.4</td>\n",
       "      <td>38.4</td>\n",
       "      <td>...</td>\n",
       "      <td>4.7</td>\n",
       "      <td>NaN</td>\n",
       "      <td>17.3</td>\n",
       "      <td>24.2</td>\n",
       "      <td>21.6</td>\n",
       "      <td>38.0</td>\n",
       "      <td>33.4</td>\n",
       "      <td>16.0</td>\n",
       "      <td>NaN</td>\n",
       "      <td>NaN</td>\n",
       "    </tr>\n",
       "    <tr>\n",
       "      <th>70124</th>\n",
       "      <td>26.3</td>\n",
       "      <td>28.5</td>\n",
       "      <td>39.8</td>\n",
       "      <td>21.8</td>\n",
       "      <td>28.8</td>\n",
       "      <td>NaN</td>\n",
       "      <td>74.0</td>\n",
       "      <td>30.5</td>\n",
       "      <td>22.5</td>\n",
       "      <td>40.8</td>\n",
       "      <td>...</td>\n",
       "      <td>7.0</td>\n",
       "      <td>NaN</td>\n",
       "      <td>19.3</td>\n",
       "      <td>14.9</td>\n",
       "      <td>19.4</td>\n",
       "      <td>37.6</td>\n",
       "      <td>18.6</td>\n",
       "      <td>15.0</td>\n",
       "      <td>NaN</td>\n",
       "      <td>NaN</td>\n",
       "    </tr>\n",
       "    <tr>\n",
       "      <th>70125</th>\n",
       "      <td>22.7</td>\n",
       "      <td>29.3</td>\n",
       "      <td>39.6</td>\n",
       "      <td>24.1</td>\n",
       "      <td>23.1</td>\n",
       "      <td>NaN</td>\n",
       "      <td>55.3</td>\n",
       "      <td>31.1</td>\n",
       "      <td>20.4</td>\n",
       "      <td>43.6</td>\n",
       "      <td>...</td>\n",
       "      <td>14.3</td>\n",
       "      <td>NaN</td>\n",
       "      <td>23.7</td>\n",
       "      <td>13.3</td>\n",
       "      <td>26.8</td>\n",
       "      <td>33.0</td>\n",
       "      <td>32.3</td>\n",
       "      <td>15.0</td>\n",
       "      <td>NaN</td>\n",
       "      <td>NaN</td>\n",
       "    </tr>\n",
       "    <tr>\n",
       "      <th>70126</th>\n",
       "      <td>13.3</td>\n",
       "      <td>27.2</td>\n",
       "      <td>40.4</td>\n",
       "      <td>45.0</td>\n",
       "      <td>29.5</td>\n",
       "      <td>NaN</td>\n",
       "      <td>46.0</td>\n",
       "      <td>30.7</td>\n",
       "      <td>28.1</td>\n",
       "      <td>44.0</td>\n",
       "      <td>...</td>\n",
       "      <td>22.6</td>\n",
       "      <td>NaN</td>\n",
       "      <td>25.4</td>\n",
       "      <td>17.5</td>\n",
       "      <td>21.0</td>\n",
       "      <td>33.4</td>\n",
       "      <td>49.8</td>\n",
       "      <td>15.0</td>\n",
       "      <td>NaN</td>\n",
       "      <td>NaN</td>\n",
       "    </tr>\n",
       "  </tbody>\n",
       "</table>\n",
       "<p>5 rows × 41 columns</p>\n",
       "</div>"
      ],
      "text/plain": [
       "       AFULA  ANTOKOLSKY  EHAD_HAAM  HOLON  IRONID  KVISH4  RAKEVET_HASHALOM  \\\n",
       "70122   19.4        27.3       36.7   27.0    29.8     NaN              81.0   \n",
       "70123   18.9        26.9       45.0   28.9    23.1     NaN              76.3   \n",
       "70124   26.3        28.5       39.8   21.8    28.8     NaN              74.0   \n",
       "70125   22.7        29.3       39.6   24.1    23.1     NaN              55.3   \n",
       "70126   13.3        27.2       40.4   45.0    29.5     NaN              46.0   \n",
       "\n",
       "       REMEZ  RISHON_LEZION  YEFET_YAFO  ...  SDE_YOAV  YAHALOM  BEER_SHEVA  \\\n",
       "70122   26.0           27.0        28.4  ...       5.1      NaN        18.3   \n",
       "70123   31.8           21.4        38.4  ...       4.7      NaN        17.3   \n",
       "70124   30.5           22.5        40.8  ...       7.0      NaN        19.3   \n",
       "70125   31.1           20.4        43.6  ...      14.3      NaN        23.7   \n",
       "70126   30.7           28.1        44.0  ...      22.6      NaN        25.4   \n",
       "\n",
       "       EAST_NEGEV  KFAR_MASARIK  PARDES_HANA  RAANANA  SHFEYA  ASHALIM  \\\n",
       "70122         8.3          25.9         32.5     15.8    16.0      NaN   \n",
       "70123        24.2          21.6         38.0     33.4    16.0      NaN   \n",
       "70124        14.9          19.4         37.6     18.6    15.0      NaN   \n",
       "70125        13.3          26.8         33.0     32.3    15.0      NaN   \n",
       "70126        17.5          21.0         33.4     49.8    15.0      NaN   \n",
       "\n",
       "       NEOT_HAKIKAR  \n",
       "70122           NaN  \n",
       "70123           NaN  \n",
       "70124           NaN  \n",
       "70125           NaN  \n",
       "70126           NaN  \n",
       "\n",
       "[5 rows x 41 columns]"
      ]
     },
     "execution_count": 57,
     "metadata": {},
     "output_type": "execute_result"
    }
   ],
   "source": [
    "r_PM25.tail(5)\n",
    "# r_PM25.shape"
   ]
  },
  {
   "cell_type": "code",
   "execution_count": 58,
   "metadata": {},
   "outputs": [
    {
     "name": "stdout",
     "output_type": "stream",
     "text": [
      "<class 'pandas.core.frame.DataFrame'>\n",
      "RangeIndex: 70127 entries, 0 to 70126\n",
      "Data columns (total 41 columns):\n",
      "AFULA               67825 non-null float64\n",
      "ANTOKOLSKY          61215 non-null float64\n",
      "EHAD_HAAM           35934 non-null float64\n",
      "HOLON               65414 non-null float64\n",
      "IRONID              66977 non-null float64\n",
      "KVISH4              48809 non-null float64\n",
      "RAKEVET_HASHALOM    46500 non-null float64\n",
      "REMEZ               63613 non-null float64\n",
      "RISHON_LEZION       50147 non-null float64\n",
      "YEFET_YAFO          55800 non-null float64\n",
      "AHUZA_G             67934 non-null float64\n",
      "ATZMAUT_B           65136 non-null float64\n",
      "KIRYAT_ATA          51595 non-null float64\n",
      "KIRYAT_BIALIK       40115 non-null float64\n",
      "KIRYAT_BINYAMIN     67251 non-null float64\n",
      "KIRYAT_TIVON        67389 non-null float64\n",
      "NAVE_SHANAAN        67839 non-null float64\n",
      "NESHER              60350 non-null float64\n",
      "BAR_ILAN            47737 non-null float64\n",
      "EFRATA              68065 non-null float64\n",
      "NAVE_ILAN           37806 non-null float64\n",
      "ASHDOD_IGUD         64077 non-null float64\n",
      "ASHKELON_SOUTH      61750 non-null float64\n",
      "DALYA               55907 non-null float64\n",
      "GEDERA              61430 non-null float64\n",
      "GVARAAM             62221 non-null float64\n",
      "KIRYAT_MALAHI       66632 non-null float64\n",
      "NIR_ISRAEL          63351 non-null float64\n",
      "ORT                 48875 non-null float64\n",
      "ROVA_TV             38162 non-null float64\n",
      "SDEROT              64988 non-null float64\n",
      "SDE_YOAV            66366 non-null float64\n",
      "YAHALOM             46520 non-null float64\n",
      "BEER_SHEVA          61461 non-null float64\n",
      "EAST_NEGEV          62194 non-null float64\n",
      "KFAR_MASARIK        47706 non-null float64\n",
      "PARDES_HANA         46491 non-null float64\n",
      "RAANANA             60759 non-null float64\n",
      "SHFEYA              50030 non-null float64\n",
      "ASHALIM             38097 non-null float64\n",
      "NEOT_HAKIKAR        47185 non-null float64\n",
      "dtypes: float64(41)\n",
      "memory usage: 21.9 MB\n"
     ]
    }
   ],
   "source": [
    "r_PM25.info()"
   ]
  },
  {
   "cell_type": "code",
   "execution_count": 59,
   "metadata": {},
   "outputs": [],
   "source": [
    "# change r_PM25 to binary data"
   ]
  },
  {
   "cell_type": "code",
   "execution_count": 60,
   "metadata": {},
   "outputs": [],
   "source": [
    "r_PM25[r_PM25.notnull()] = 1\n",
    "r_PM25[r_PM25.isnull()] = 0"
   ]
  },
  {
   "cell_type": "code",
   "execution_count": 61,
   "metadata": {},
   "outputs": [
    {
     "data": {
      "text/html": [
       "<div>\n",
       "<style scoped>\n",
       "    .dataframe tbody tr th:only-of-type {\n",
       "        vertical-align: middle;\n",
       "    }\n",
       "\n",
       "    .dataframe tbody tr th {\n",
       "        vertical-align: top;\n",
       "    }\n",
       "\n",
       "    .dataframe thead th {\n",
       "        text-align: right;\n",
       "    }\n",
       "</style>\n",
       "<table border=\"1\" class=\"dataframe\">\n",
       "  <thead>\n",
       "    <tr style=\"text-align: right;\">\n",
       "      <th></th>\n",
       "      <th>AFULA</th>\n",
       "      <th>ANTOKOLSKY</th>\n",
       "      <th>EHAD_HAAM</th>\n",
       "      <th>HOLON</th>\n",
       "      <th>IRONID</th>\n",
       "      <th>KVISH4</th>\n",
       "      <th>RAKEVET_HASHALOM</th>\n",
       "      <th>REMEZ</th>\n",
       "      <th>RISHON_LEZION</th>\n",
       "      <th>YEFET_YAFO</th>\n",
       "      <th>...</th>\n",
       "      <th>SDE_YOAV</th>\n",
       "      <th>YAHALOM</th>\n",
       "      <th>BEER_SHEVA</th>\n",
       "      <th>EAST_NEGEV</th>\n",
       "      <th>KFAR_MASARIK</th>\n",
       "      <th>PARDES_HANA</th>\n",
       "      <th>RAANANA</th>\n",
       "      <th>SHFEYA</th>\n",
       "      <th>ASHALIM</th>\n",
       "      <th>NEOT_HAKIKAR</th>\n",
       "    </tr>\n",
       "  </thead>\n",
       "  <tbody>\n",
       "    <tr>\n",
       "      <th>70122</th>\n",
       "      <td>1.0</td>\n",
       "      <td>1.0</td>\n",
       "      <td>1.0</td>\n",
       "      <td>1.0</td>\n",
       "      <td>1.0</td>\n",
       "      <td>0.0</td>\n",
       "      <td>1.0</td>\n",
       "      <td>1.0</td>\n",
       "      <td>1.0</td>\n",
       "      <td>1.0</td>\n",
       "      <td>...</td>\n",
       "      <td>1.0</td>\n",
       "      <td>0.0</td>\n",
       "      <td>1.0</td>\n",
       "      <td>1.0</td>\n",
       "      <td>1.0</td>\n",
       "      <td>1.0</td>\n",
       "      <td>1.0</td>\n",
       "      <td>1.0</td>\n",
       "      <td>0.0</td>\n",
       "      <td>0.0</td>\n",
       "    </tr>\n",
       "    <tr>\n",
       "      <th>70123</th>\n",
       "      <td>1.0</td>\n",
       "      <td>1.0</td>\n",
       "      <td>1.0</td>\n",
       "      <td>1.0</td>\n",
       "      <td>1.0</td>\n",
       "      <td>0.0</td>\n",
       "      <td>1.0</td>\n",
       "      <td>1.0</td>\n",
       "      <td>1.0</td>\n",
       "      <td>1.0</td>\n",
       "      <td>...</td>\n",
       "      <td>1.0</td>\n",
       "      <td>0.0</td>\n",
       "      <td>1.0</td>\n",
       "      <td>1.0</td>\n",
       "      <td>1.0</td>\n",
       "      <td>1.0</td>\n",
       "      <td>1.0</td>\n",
       "      <td>1.0</td>\n",
       "      <td>0.0</td>\n",
       "      <td>0.0</td>\n",
       "    </tr>\n",
       "    <tr>\n",
       "      <th>70124</th>\n",
       "      <td>1.0</td>\n",
       "      <td>1.0</td>\n",
       "      <td>1.0</td>\n",
       "      <td>1.0</td>\n",
       "      <td>1.0</td>\n",
       "      <td>0.0</td>\n",
       "      <td>1.0</td>\n",
       "      <td>1.0</td>\n",
       "      <td>1.0</td>\n",
       "      <td>1.0</td>\n",
       "      <td>...</td>\n",
       "      <td>1.0</td>\n",
       "      <td>0.0</td>\n",
       "      <td>1.0</td>\n",
       "      <td>1.0</td>\n",
       "      <td>1.0</td>\n",
       "      <td>1.0</td>\n",
       "      <td>1.0</td>\n",
       "      <td>1.0</td>\n",
       "      <td>0.0</td>\n",
       "      <td>0.0</td>\n",
       "    </tr>\n",
       "    <tr>\n",
       "      <th>70125</th>\n",
       "      <td>1.0</td>\n",
       "      <td>1.0</td>\n",
       "      <td>1.0</td>\n",
       "      <td>1.0</td>\n",
       "      <td>1.0</td>\n",
       "      <td>0.0</td>\n",
       "      <td>1.0</td>\n",
       "      <td>1.0</td>\n",
       "      <td>1.0</td>\n",
       "      <td>1.0</td>\n",
       "      <td>...</td>\n",
       "      <td>1.0</td>\n",
       "      <td>0.0</td>\n",
       "      <td>1.0</td>\n",
       "      <td>1.0</td>\n",
       "      <td>1.0</td>\n",
       "      <td>1.0</td>\n",
       "      <td>1.0</td>\n",
       "      <td>1.0</td>\n",
       "      <td>0.0</td>\n",
       "      <td>0.0</td>\n",
       "    </tr>\n",
       "    <tr>\n",
       "      <th>70126</th>\n",
       "      <td>1.0</td>\n",
       "      <td>1.0</td>\n",
       "      <td>1.0</td>\n",
       "      <td>1.0</td>\n",
       "      <td>1.0</td>\n",
       "      <td>0.0</td>\n",
       "      <td>1.0</td>\n",
       "      <td>1.0</td>\n",
       "      <td>1.0</td>\n",
       "      <td>1.0</td>\n",
       "      <td>...</td>\n",
       "      <td>1.0</td>\n",
       "      <td>0.0</td>\n",
       "      <td>1.0</td>\n",
       "      <td>1.0</td>\n",
       "      <td>1.0</td>\n",
       "      <td>1.0</td>\n",
       "      <td>1.0</td>\n",
       "      <td>1.0</td>\n",
       "      <td>0.0</td>\n",
       "      <td>0.0</td>\n",
       "    </tr>\n",
       "  </tbody>\n",
       "</table>\n",
       "<p>5 rows × 41 columns</p>\n",
       "</div>"
      ],
      "text/plain": [
       "       AFULA  ANTOKOLSKY  EHAD_HAAM  HOLON  IRONID  KVISH4  RAKEVET_HASHALOM  \\\n",
       "70122    1.0         1.0        1.0    1.0     1.0     0.0               1.0   \n",
       "70123    1.0         1.0        1.0    1.0     1.0     0.0               1.0   \n",
       "70124    1.0         1.0        1.0    1.0     1.0     0.0               1.0   \n",
       "70125    1.0         1.0        1.0    1.0     1.0     0.0               1.0   \n",
       "70126    1.0         1.0        1.0    1.0     1.0     0.0               1.0   \n",
       "\n",
       "       REMEZ  RISHON_LEZION  YEFET_YAFO  ...  SDE_YOAV  YAHALOM  BEER_SHEVA  \\\n",
       "70122    1.0            1.0         1.0  ...       1.0      0.0         1.0   \n",
       "70123    1.0            1.0         1.0  ...       1.0      0.0         1.0   \n",
       "70124    1.0            1.0         1.0  ...       1.0      0.0         1.0   \n",
       "70125    1.0            1.0         1.0  ...       1.0      0.0         1.0   \n",
       "70126    1.0            1.0         1.0  ...       1.0      0.0         1.0   \n",
       "\n",
       "       EAST_NEGEV  KFAR_MASARIK  PARDES_HANA  RAANANA  SHFEYA  ASHALIM  \\\n",
       "70122         1.0           1.0          1.0      1.0     1.0      0.0   \n",
       "70123         1.0           1.0          1.0      1.0     1.0      0.0   \n",
       "70124         1.0           1.0          1.0      1.0     1.0      0.0   \n",
       "70125         1.0           1.0          1.0      1.0     1.0      0.0   \n",
       "70126         1.0           1.0          1.0      1.0     1.0      0.0   \n",
       "\n",
       "       NEOT_HAKIKAR  \n",
       "70122           0.0  \n",
       "70123           0.0  \n",
       "70124           0.0  \n",
       "70125           0.0  \n",
       "70126           0.0  \n",
       "\n",
       "[5 rows x 41 columns]"
      ]
     },
     "execution_count": 61,
     "metadata": {},
     "output_type": "execute_result"
    }
   ],
   "source": [
    "r_PM25.tail(5)"
   ]
  },
  {
   "cell_type": "code",
   "execution_count": 62,
   "metadata": {},
   "outputs": [],
   "source": [
    "diffs = r_PM25.diff(axis = 0)"
   ]
  },
  {
   "cell_type": "code",
   "execution_count": 63,
   "metadata": {},
   "outputs": [],
   "source": [
    "# diffs.iloc[0:50,0]"
   ]
  },
  {
   "cell_type": "code",
   "execution_count": null,
   "metadata": {},
   "outputs": [],
   "source": []
  },
  {
   "cell_type": "code",
   "execution_count": 64,
   "metadata": {},
   "outputs": [],
   "source": [
    "# Only label every 20th value\n",
    "ticks_to_use = np.arange(0,r_PM25.shape[0]-365*24,366*48)\n",
    "\n",
    "# Set format of labels (note year not excluded as requested)\n",
    "labels = [times[i].strftime(\"%Y\") for i in ticks_to_use]"
   ]
  },
  {
   "cell_type": "code",
   "execution_count": 69,
   "metadata": {},
   "outputs": [
    {
     "data": {
      "text/plain": [
       "array([    0, 17568, 35136, 52704])"
      ]
     },
     "execution_count": 69,
     "metadata": {},
     "output_type": "execute_result"
    },
    {
     "data": {
      "text/plain": [
       "['2015', '2016', '2017', '2018']"
      ]
     },
     "execution_count": 69,
     "metadata": {},
     "output_type": "execute_result"
    },
    {
     "data": {
      "text/plain": [
       "(70127, 41)"
      ]
     },
     "execution_count": 69,
     "metadata": {},
     "output_type": "execute_result"
    }
   ],
   "source": [
    "ticks_to_use\n",
    "labels\n",
    "r_PM25.shape"
   ]
  },
  {
   "cell_type": "code",
   "execution_count": null,
   "metadata": {},
   "outputs": [],
   "source": []
  },
  {
   "cell_type": "code",
   "execution_count": 66,
   "metadata": {},
   "outputs": [
    {
     "data": {
      "image/png": "[encoded data removed]",
      "text/plain": [
       "<Figure size 1008x720 with 1 Axes>"
      ]
     },
     "metadata": {
      "image/png": {
       "height": 574,
       "width": 910
      }
     },
     "output_type": "display_data"
    }
   ],
   "source": [
    "# first row should be manually filled (or ignored)\n",
    "# -1 is the start of the interval\n",
    "# 1 is the first where there is no nan (so I need the 1 index before)\n",
    "\n",
    "missing_interval_lengths = []\n",
    "fig, ax = plt.subplots(figsize=(14,10))\n",
    "for monitor in range(r_PM25.shape[1]):\n",
    "    \n",
    "    #begining\n",
    "    if r_PM25.iloc[0,monitor]==0:\n",
    "        diffs.iloc[0,monitor]=-1\n",
    "    \n",
    "    #end\n",
    "    if r_PM25.iloc[-1,monitor]==0:\n",
    "        diffs.iloc[-1,monitor]=1\n",
    "\n",
    "    row_start = np.where(diffs.iloc[:,monitor] == -1)[0]\n",
    "    # col_start = np.where(diffs == 1)[1]-1\n",
    "\n",
    "    row_end = np.where(diffs.iloc[:,monitor] == 1)[0]-1\n",
    "    # col_end = np.where(diffs == -1)[1]\n",
    "\n",
    "    xranges = list(list(zip(row_start,row_end-row_start)))\n",
    "    missing_interval_lengths.extend(row_end-row_start)\n",
    "    yrange = (monitor,1)\n",
    "    plt.broken_barh(xranges, yrange, facecolors='r');\n",
    "\n",
    "\n",
    "for t in ticks_to_use:\n",
    "    plt.plot(np.ones((100,))*t,np.arange(0,r_PM25.shape[1]+0.5,(r_PM25.shape[1]+0.5)/100),'k')\n",
    "    \n",
    "plt.xlim((0, r_PM25.shape[0])) \n",
    "plt.ylim((0, r_PM25.shape[1]))\n",
    "plt.yticks(ticks=np.arange(0,r_PM25.shape[1])+0.5,labels=r_PM25.columns)\n",
    "\n",
    "# Now set the ticks and labels\n",
    "ax.set_xticks(ticks_to_use)\n",
    "ax.set_xticklabels(labels)\n",
    "plt.show();"
   ]
  },
  {
   "cell_type": "markdown",
   "metadata": {},
   "source": [
    "# What is the distribution of missing station data in each time step?"
   ]
  },
  {
   "cell_type": "code",
   "execution_count": null,
   "metadata": {},
   "outputs": [],
   "source": []
  },
  {
   "cell_type": "code",
   "execution_count": 71,
   "metadata": {},
   "outputs": [],
   "source": [
    "# reduced PM25 \n",
    "r_PM25 = PM25[start_year:-1]\n",
    "idx = r_PM25.notnull().sum(axis = 0)/r_PM25.shape[0]>0.5\n",
    "r_PM25 = r_PM25.loc[:, idx]"
   ]
  },
  {
   "cell_type": "code",
   "execution_count": 72,
   "metadata": {},
   "outputs": [],
   "source": [
    "r_PM25.reset_index(inplace=True)\n",
    "r_PM25.drop(labels = 'index',axis=1, inplace=True)"
   ]
  },
  {
   "cell_type": "code",
   "execution_count": 73,
   "metadata": {},
   "outputs": [
    {
     "data": {
      "text/plain": [
       "0        0.292683\n",
       "1        0.317073\n",
       "2        0.317073\n",
       "3        0.317073\n",
       "4        0.317073\n",
       "           ...   \n",
       "70122    0.219512\n",
       "70123    0.219512\n",
       "70124    0.219512\n",
       "70125    0.219512\n",
       "70126    0.219512\n",
       "Length: 70127, dtype: float64"
      ]
     },
     "execution_count": 73,
     "metadata": {},
     "output_type": "execute_result"
    }
   ],
   "source": [
    "r_PM25.isnull().sum(axis = 1)/r_PM25.shape[1]"
   ]
  },
  {
   "cell_type": "code",
   "execution_count": 74,
   "metadata": {},
   "outputs": [
    {
     "data": {
      "image/png": "[encoded data removed]",
      "text/plain": [
       "<Figure size 432x288 with 1 Axes>"
      ]
     },
     "metadata": {
      "image/png": {
       "height": 248,
       "width": 381
      }
     },
     "output_type": "display_data"
    }
   ],
   "source": [
    "plt.hist(r_PM25.isnull().sum(axis = 1)/r_PM25.shape[1],\n",
    "         color = 'blue', edgecolor = 'black',bins=60);"
   ]
  },
  {
   "cell_type": "code",
   "execution_count": 75,
   "metadata": {},
   "outputs": [
    {
     "data": {
      "text/plain": [
       "0.19391786400074854"
      ]
     },
     "execution_count": 75,
     "metadata": {},
     "output_type": "execute_result"
    }
   ],
   "source": [
    "np.mean(r_PM25.isnull().sum(axis = 1)/r_PM25.shape[1])"
   ]
  },
  {
   "cell_type": "code",
   "execution_count": 76,
   "metadata": {},
   "outputs": [
    {
     "data": {
      "text/plain": [
       "0.1951219512195122"
      ]
     },
     "execution_count": 76,
     "metadata": {},
     "output_type": "execute_result"
    }
   ],
   "source": [
    "np.median(r_PM25.isnull().sum(axis = 1)/r_PM25.shape[1])"
   ]
  },
  {
   "cell_type": "markdown",
   "metadata": {},
   "source": [
    "--> on average, 0.17 of the stations are missing in each time point. "
   ]
  },
  {
   "cell_type": "code",
   "execution_count": null,
   "metadata": {},
   "outputs": [],
   "source": []
  },
  {
   "cell_type": "code",
   "execution_count": null,
   "metadata": {},
   "outputs": [],
   "source": []
  },
  {
   "cell_type": "code",
   "execution_count": 77,
   "metadata": {},
   "outputs": [],
   "source": [
    "# np.shape(row_start)"
   ]
  },
  {
   "cell_type": "code",
   "execution_count": 78,
   "metadata": {},
   "outputs": [],
   "source": [
    "# np.shape(list(zip(row_start,row_end-row_start)))"
   ]
  },
  {
   "cell_type": "code",
   "execution_count": 79,
   "metadata": {},
   "outputs": [],
   "source": [
    "# row_end-row_start"
   ]
  },
  {
   "cell_type": "code",
   "execution_count": 80,
   "metadata": {},
   "outputs": [],
   "source": [
    "# xranges = list(list(zip(row_start,row_end-row_start)))\n",
    "# yrange = (1,1)\n",
    "# plt.broken_barh(xranges, yrange, facecolors='r')\n",
    "# plt.xlim((0, 157776)) \n",
    "# plt.ylim((0, 33)) "
   ]
  },
  {
   "cell_type": "code",
   "execution_count": null,
   "metadata": {},
   "outputs": [],
   "source": []
  },
  {
   "cell_type": "code",
   "execution_count": null,
   "metadata": {},
   "outputs": [],
   "source": []
  },
  {
   "cell_type": "markdown",
   "metadata": {},
   "source": [
    "## plot distribution of missing data interval lengths"
   ]
  },
  {
   "cell_type": "code",
   "execution_count": 81,
   "metadata": {},
   "outputs": [],
   "source": [
    "# how long are the intervals of missing data?"
   ]
  },
  {
   "cell_type": "code",
   "execution_count": 82,
   "metadata": {},
   "outputs": [
    {
     "data": {
      "text/plain": [
       "578.9166666666666"
      ]
     },
     "execution_count": 82,
     "metadata": {},
     "output_type": "execute_result"
    },
    {
     "data": {
      "text/plain": [
       "0.5"
      ]
     },
     "execution_count": 82,
     "metadata": {},
     "output_type": "execute_result"
    }
   ],
   "source": [
    "data = [i*30/60 for i in missing_interval_lengths if i>0]#in hours\n",
    "_, bins = np.histogram(np.log10(data), bins='auto')\n",
    "np.max(data)/24 #in days\n",
    "np.min(data) #in hours\n"
   ]
  },
  {
   "cell_type": "code",
   "execution_count": 83,
   "metadata": {},
   "outputs": [
    {
     "data": {
      "image/png": "[encoded data removed]",
      "text/plain": [
       "<Figure size 432x288 with 1 Axes>"
      ]
     },
     "metadata": {
      "image/png": {
       "height": 278,
       "width": 392
      }
     },
     "output_type": "display_data"
    }
   ],
   "source": [
    "# bins are unequal in width in a way that would make them look equal on a logarithmic scale.\n",
    "# matplotlib histogram\n",
    "plt.hist(data, color = 'blue', edgecolor = 'black',bins=10**bins)\n",
    "plt.gca().set_xscale(\"log\")\n",
    "\n",
    "plt.title('Length of missing data intervals')\n",
    "plt.xlabel('Interval length [hours]')\n",
    "plt.ylabel('Percentage [%]')\n",
    "plt.yticks(ticks=np.arange(0,9000,1000),labels=np.round(100*np.arange(0,9000,1000)/len(data),1))\n",
    "\n",
    "# plt.ylim(0,2000)\n",
    "plt.show();"
   ]
  },
  {
   "cell_type": "markdown",
   "metadata": {},
   "source": [
    "we can see that the majority of missing intervals are between half an hour to 2-3 hours."
   ]
  },
  {
   "cell_type": "markdown",
   "metadata": {},
   "source": [
    "## Check verious methods for data imputation"
   ]
  },
  {
   "cell_type": "code",
   "execution_count": 84,
   "metadata": {},
   "outputs": [],
   "source": [
    "# https://towardsdatascience.com/facing-the-arima-model-against-neural-networks-745ba5a933ca\n",
    "# https://towardsdatascience.com/playing-with-time-series-data-in-python-959e2485bff8\n",
    "# https://towardsdatascience.com/forecasting-with-prophet-d50bbfe95f91\n",
    "# https://medium.com/@drnesr/filling-gaps-of-a-time-series-using-python-d4bfddd8c460\n",
    "# https://github.com/KlickInc/datasci-strata-talk-missing-data/blob/master/Strata%20Data%20Conference%20New%20York%202019_FINAL.pdf\n",
    "# https://stackoverflow.com/questions/57419021/filling-huge-large-chunks-of-time-series-data\n",
    "# looks good - \n",
    "# https://medium.com/analytics-vidhya/using-scikit-learns-iterative-imputer-694c3cca34de\n",
    "\n",
    "# libraries\n",
    "# https://pypi.org/project/fancyimpute/\n",
    "# looks the most interesting - \n",
    "# https://scikit-learn.org/stable/modules/generated/sklearn.impute.IterativeImputer.html\n",
    "\n",
    "# examples\n",
    "# https://scikit-learn.org/stable/auto_examples/impute/plot_missing_values.html#sphx-glr-auto-examples-impute-plot-missing-values-py\n",
    "# https://scikit-learn.org/stable/auto_examples/impute/plot_iterative_imputer_variants_comparison.html#sphx-glr-auto-examples-impute-plot-iterative-imputer-variants-comparison-py"
   ]
  },
  {
   "cell_type": "code",
   "execution_count": 85,
   "metadata": {},
   "outputs": [],
   "source": [
    "# Data-driven methods (using TIME-SERIES FORCASTING). \n",
    "# sometimes called univariate imputation: \"One type of imputation algorithm is\n",
    "# univariate, which imputes values in the i-th feature dimension using only non-missing\n",
    "# values in that feature dimension (e.g. impute.SimpleImputer).\"\n",
    "\n",
    "# By contrast, multivariate imputation algorithms use the entire set of available \n",
    "# feature dimensions to estimate the missing values (e.g. impute.IterativeImputer).\n",
    "\n",
    "# ARIMA - takes into consideration...? \n",
    "# Prophet - takes into cosideration seasonality and trend\n",
    "# LSTM (ANN?)\n",
    "\n",
    "# interpolation-like (data-driven)\n",
    "# EM-?\n",
    "# KNN-?\n",
    "# moving average (rolling)\n",
    "# mean (simple imputer or fillna pandas)\n",
    "\n",
    "# Regression (maybe called multivariate imputation?)\n",
    "# forcast by the values in other stations.\n",
    "# Random forest for example\n",
    "\n",
    "# Clustering - take the hour of the day, and the day of the year and cluster to groups. \n",
    "# then maybe give the average value where is it missing according to the group. ?\n",
    "\n",
    "# Evaluation matrics - MAE, RMSE, R^2, rank product = geometric mean of the all evaluation values\n",
    "# compare to random\n",
    "# ensamble - take mean value(?) of top performing methods. "
   ]
  },
  {
   "cell_type": "code",
   "execution_count": 86,
   "metadata": {},
   "outputs": [],
   "source": [
    "# SUMMARY\n",
    "\n",
    "# long periods (over several hours) - univariate-ARIMA, Prophet, LSTM,  multivariate-regression like (sklearn)\n",
    "# problem might arrise with the long missing period *at the begining* of time (before station started to operate). \n",
    "# for this maybe only the multivariate is appropriate. Not sure. \n",
    "# short periods - everything is good... \n",
    "# Evaluation matrics - MAE, RMSE, R^2, rank product = geometric mean of the all evaluation values\n",
    "# compare to random\n",
    "# ensamble - take mean value(?) of top performing methods. \n",
    "# uncertainty - \"IterativeImputer can also be used for multiple imputations by \n",
    "# applying it repeatedly to the same dataset with different random seeds when \n",
    "# sample_posterior=True.\"\n",
    "\n",
    "# understanding - \n",
    "# I need to take from each time-series of each station, the non-missing data I have. \n",
    "# I NEED TO MAKE SURE MY DATA IS NORMALLY DISTRIBUTED. MIGHT BE JUST DUE TO THE SIZE OF THE DATASET...\n",
    "# then, I need to randomly take chunks of data and report it as missing \n",
    "# (based on the distribution of missing interval sizes?)- \n",
    "# technically I can randomly choose X time points (from a poisson dist. or - the distance between start of missing intervals is exp. dist.)\n",
    "# and then randomly choose interval length. however, I might have a problem with overlapping. \n",
    "# one solution - interate until I don't have an overlap. \n",
    "# other solution - both missing intervals and data intervals are geometric dist.\n",
    "# write a function that randomly builds simultanously the missing and non-missing. \n",
    "# (based on the probability of that station to be missing?)\n",
    "# I should probably assign for each station the size of missing chunks based on \n",
    "# the real size of missing chunks of that station - NOT SURE IT MATTERS.\n",
    "# I then train all kinds of models (regression (multivariate) or univariate) \n",
    "# and evaluate their performance based on predicting the dummy missing values.\n",
    "# I can do 10 fold cross-validation. \n",
    "# I think it must also predict the real missing values simultanously, but the \n",
    "# evaluation would be based only on the dummy ones of course. \n",
    "# I should try and add the day in the year, the day in the week and time of day as features.\n"
   ]
  },
  {
   "cell_type": "code",
   "execution_count": null,
   "metadata": {},
   "outputs": [],
   "source": []
  },
  {
   "cell_type": "markdown",
   "metadata": {},
   "source": [
    "# Multivariate-regression like (sklearn)"
   ]
  },
  {
   "cell_type": "code",
   "execution_count": 87,
   "metadata": {},
   "outputs": [],
   "source": [
    "# start with trying to impute missing values in one station based on other stations\n",
    "# later possibly add meteorological data \n",
    "# 105167 entries, each with 35 features. "
   ]
  },
  {
   "cell_type": "code",
   "execution_count": 88,
   "metadata": {},
   "outputs": [
    {
     "data": {
      "text/plain": [
       "'This uses round-robin linear regression, modeling each feature with missing \\nvalues as a function of other features, in turn. The version implemented assumes \\nGaussian (output) variables. If your features are obviously non-normal, consider \\ntransforming them to look more normal to potentially improve performance.'"
      ]
     },
     "execution_count": 88,
     "metadata": {},
     "output_type": "execute_result"
    }
   ],
   "source": [
    "# IterativeImputer - Iterative imputation of the missing values.\n",
    "# https://scikit-learn.org/stable/modules/generated/sklearn.impute.IterativeImputer.html#sklearn.impute.IterativeImputer\n",
    "\n",
    "'''This uses round-robin linear regression, modeling each feature with missing \n",
    "values as a function of other features, in turn. The version implemented assumes \n",
    "Gaussian (output) variables. If your features are obviously non-normal, consider \n",
    "transforming them to look more normal to potentially improve performance.'''\n",
    "\n",
    "from sklearn.experimental import enable_iterative_imputer\n",
    "from sklearn.impute import IterativeImputer\n",
    "from sklearn.ensemble import ExtraTreesRegressor\n",
    "from sklearn.impute import MissingIndicator"
   ]
  },
  {
   "cell_type": "code",
   "execution_count": null,
   "metadata": {},
   "outputs": [],
   "source": []
  },
  {
   "cell_type": "code",
   "execution_count": 89,
   "metadata": {},
   "outputs": [],
   "source": [
    "# reduced PM25\n",
    "r_PM25 = PM25[start_year:-1]\n",
    "idx = r_PM25.notnull().sum(axis = 0)/r_PM25.shape[0]>0.5\n",
    "r_PM25 = r_PM25.loc[:, idx]"
   ]
  },
  {
   "cell_type": "code",
   "execution_count": 90,
   "metadata": {},
   "outputs": [],
   "source": [
    "r_PM25.reset_index(inplace=True)\n",
    "r_PM25.drop(labels = 'index',axis=1, inplace=True)"
   ]
  },
  {
   "cell_type": "code",
   "execution_count": 91,
   "metadata": {},
   "outputs": [
    {
     "data": {
      "text/html": [
       "<div>\n",
       "<style scoped>\n",
       "    .dataframe tbody tr th:only-of-type {\n",
       "        vertical-align: middle;\n",
       "    }\n",
       "\n",
       "    .dataframe tbody tr th {\n",
       "        vertical-align: top;\n",
       "    }\n",
       "\n",
       "    .dataframe thead th {\n",
       "        text-align: right;\n",
       "    }\n",
       "</style>\n",
       "<table border=\"1\" class=\"dataframe\">\n",
       "  <thead>\n",
       "    <tr style=\"text-align: right;\">\n",
       "      <th></th>\n",
       "      <th>AFULA</th>\n",
       "      <th>ANTOKOLSKY</th>\n",
       "      <th>EHAD_HAAM</th>\n",
       "      <th>HOLON</th>\n",
       "      <th>IRONID</th>\n",
       "      <th>KVISH4</th>\n",
       "      <th>RAKEVET_HASHALOM</th>\n",
       "      <th>REMEZ</th>\n",
       "      <th>RISHON_LEZION</th>\n",
       "      <th>YEFET_YAFO</th>\n",
       "      <th>...</th>\n",
       "      <th>SDE_YOAV</th>\n",
       "      <th>YAHALOM</th>\n",
       "      <th>BEER_SHEVA</th>\n",
       "      <th>EAST_NEGEV</th>\n",
       "      <th>KFAR_MASARIK</th>\n",
       "      <th>PARDES_HANA</th>\n",
       "      <th>RAANANA</th>\n",
       "      <th>SHFEYA</th>\n",
       "      <th>ASHALIM</th>\n",
       "      <th>NEOT_HAKIKAR</th>\n",
       "    </tr>\n",
       "  </thead>\n",
       "  <tbody>\n",
       "    <tr>\n",
       "      <th>0</th>\n",
       "      <td>46.7</td>\n",
       "      <td>41.3</td>\n",
       "      <td>NaN</td>\n",
       "      <td>39.6</td>\n",
       "      <td>39.0</td>\n",
       "      <td>49.4</td>\n",
       "      <td>NaN</td>\n",
       "      <td>41.8</td>\n",
       "      <td>NaN</td>\n",
       "      <td>41.4</td>\n",
       "      <td>...</td>\n",
       "      <td>36.7</td>\n",
       "      <td>NaN</td>\n",
       "      <td>36.5</td>\n",
       "      <td>7.6</td>\n",
       "      <td>NaN</td>\n",
       "      <td>33.8</td>\n",
       "      <td>47.5</td>\n",
       "      <td>NaN</td>\n",
       "      <td>NaN</td>\n",
       "      <td>NaN</td>\n",
       "    </tr>\n",
       "    <tr>\n",
       "      <th>1</th>\n",
       "      <td>43.2</td>\n",
       "      <td>40.6</td>\n",
       "      <td>NaN</td>\n",
       "      <td>35.6</td>\n",
       "      <td>39.5</td>\n",
       "      <td>47.9</td>\n",
       "      <td>NaN</td>\n",
       "      <td>43.3</td>\n",
       "      <td>NaN</td>\n",
       "      <td>39.5</td>\n",
       "      <td>...</td>\n",
       "      <td>18.6</td>\n",
       "      <td>NaN</td>\n",
       "      <td>34.8</td>\n",
       "      <td>7.8</td>\n",
       "      <td>NaN</td>\n",
       "      <td>22.2</td>\n",
       "      <td>44.5</td>\n",
       "      <td>NaN</td>\n",
       "      <td>NaN</td>\n",
       "      <td>NaN</td>\n",
       "    </tr>\n",
       "    <tr>\n",
       "      <th>2</th>\n",
       "      <td>37.3</td>\n",
       "      <td>41.7</td>\n",
       "      <td>NaN</td>\n",
       "      <td>38.8</td>\n",
       "      <td>40.7</td>\n",
       "      <td>37.7</td>\n",
       "      <td>NaN</td>\n",
       "      <td>43.6</td>\n",
       "      <td>NaN</td>\n",
       "      <td>38.3</td>\n",
       "      <td>...</td>\n",
       "      <td>16.5</td>\n",
       "      <td>NaN</td>\n",
       "      <td>35.6</td>\n",
       "      <td>15.0</td>\n",
       "      <td>NaN</td>\n",
       "      <td>23.6</td>\n",
       "      <td>47.9</td>\n",
       "      <td>NaN</td>\n",
       "      <td>NaN</td>\n",
       "      <td>NaN</td>\n",
       "    </tr>\n",
       "    <tr>\n",
       "      <th>3</th>\n",
       "      <td>41.8</td>\n",
       "      <td>40.6</td>\n",
       "      <td>NaN</td>\n",
       "      <td>34.9</td>\n",
       "      <td>42.2</td>\n",
       "      <td>45.5</td>\n",
       "      <td>NaN</td>\n",
       "      <td>47.8</td>\n",
       "      <td>NaN</td>\n",
       "      <td>39.1</td>\n",
       "      <td>...</td>\n",
       "      <td>27.4</td>\n",
       "      <td>NaN</td>\n",
       "      <td>37.7</td>\n",
       "      <td>14.2</td>\n",
       "      <td>NaN</td>\n",
       "      <td>21.4</td>\n",
       "      <td>45.8</td>\n",
       "      <td>NaN</td>\n",
       "      <td>NaN</td>\n",
       "      <td>NaN</td>\n",
       "    </tr>\n",
       "    <tr>\n",
       "      <th>4</th>\n",
       "      <td>45.6</td>\n",
       "      <td>43.2</td>\n",
       "      <td>NaN</td>\n",
       "      <td>43.5</td>\n",
       "      <td>48.2</td>\n",
       "      <td>51.7</td>\n",
       "      <td>NaN</td>\n",
       "      <td>44.8</td>\n",
       "      <td>NaN</td>\n",
       "      <td>40.0</td>\n",
       "      <td>...</td>\n",
       "      <td>24.9</td>\n",
       "      <td>NaN</td>\n",
       "      <td>34.8</td>\n",
       "      <td>11.6</td>\n",
       "      <td>NaN</td>\n",
       "      <td>20.2</td>\n",
       "      <td>47.4</td>\n",
       "      <td>NaN</td>\n",
       "      <td>NaN</td>\n",
       "      <td>NaN</td>\n",
       "    </tr>\n",
       "  </tbody>\n",
       "</table>\n",
       "<p>5 rows × 41 columns</p>\n",
       "</div>"
      ],
      "text/plain": [
       "   AFULA  ANTOKOLSKY  EHAD_HAAM  HOLON  IRONID  KVISH4  RAKEVET_HASHALOM  \\\n",
       "0   46.7        41.3        NaN   39.6    39.0    49.4               NaN   \n",
       "1   43.2        40.6        NaN   35.6    39.5    47.9               NaN   \n",
       "2   37.3        41.7        NaN   38.8    40.7    37.7               NaN   \n",
       "3   41.8        40.6        NaN   34.9    42.2    45.5               NaN   \n",
       "4   45.6        43.2        NaN   43.5    48.2    51.7               NaN   \n",
       "\n",
       "   REMEZ  RISHON_LEZION  YEFET_YAFO  ...  SDE_YOAV  YAHALOM  BEER_SHEVA  \\\n",
       "0   41.8            NaN        41.4  ...      36.7      NaN        36.5   \n",
       "1   43.3            NaN        39.5  ...      18.6      NaN        34.8   \n",
       "2   43.6            NaN        38.3  ...      16.5      NaN        35.6   \n",
       "3   47.8            NaN        39.1  ...      27.4      NaN        37.7   \n",
       "4   44.8            NaN        40.0  ...      24.9      NaN        34.8   \n",
       "\n",
       "   EAST_NEGEV  KFAR_MASARIK  PARDES_HANA  RAANANA  SHFEYA  ASHALIM  \\\n",
       "0         7.6           NaN         33.8     47.5     NaN      NaN   \n",
       "1         7.8           NaN         22.2     44.5     NaN      NaN   \n",
       "2        15.0           NaN         23.6     47.9     NaN      NaN   \n",
       "3        14.2           NaN         21.4     45.8     NaN      NaN   \n",
       "4        11.6           NaN         20.2     47.4     NaN      NaN   \n",
       "\n",
       "   NEOT_HAKIKAR  \n",
       "0           NaN  \n",
       "1           NaN  \n",
       "2           NaN  \n",
       "3           NaN  \n",
       "4           NaN  \n",
       "\n",
       "[5 rows x 41 columns]"
      ]
     },
     "execution_count": 91,
     "metadata": {},
     "output_type": "execute_result"
    },
    {
     "data": {
      "text/plain": [
       "(70127, 41)"
      ]
     },
     "execution_count": 91,
     "metadata": {},
     "output_type": "execute_result"
    }
   ],
   "source": [
    "r_PM25.head(5)\n",
    "r_PM25.shape"
   ]
  },
  {
   "cell_type": "code",
   "execution_count": 101,
   "metadata": {},
   "outputs": [
    {
     "data": {
      "image/png": "[encoded data removed]",
      "text/plain": [
       "<Figure size 432x288 with 1 Axes>"
      ]
     },
     "metadata": {
      "image/png": {
       "height": 248,
       "width": 404
      }
     },
     "output_type": "display_data"
    }
   ],
   "source": [
    "# check for Normality\n",
    "# https://towardsdatascience.com/6-ways-to-test-for-a-normal-distribution-which-one-to-use-9dcf47d8fa93\n",
    "check = r_PM25.values\n",
    "check = check[~np.isnan(check)]\n",
    "check\n",
    "\n",
    "plt.hist(check,color = 'blue', edgecolor = 'black',bins=500)\n",
    "plt.xlim([0,250])\n",
    "plt.show();"
   ]
  },
  {
   "cell_type": "code",
   "execution_count": 102,
   "metadata": {},
   "outputs": [
    {
     "data": {
      "text/plain": [
       "array([[False, False,  True, ...,  True,  True,  True],\n",
       "       [False, False,  True, ...,  True,  True,  True],\n",
       "       [False, False,  True, ...,  True,  True,  True],\n",
       "       ...,\n",
       "       [False, False, False, ..., False,  True,  True],\n",
       "       [False, False, False, ..., False,  True,  True],\n",
       "       [False, False, False, ..., False,  True,  True]])"
      ]
     },
     "execution_count": 102,
     "metadata": {},
     "output_type": "execute_result"
    },
    {
     "data": {
      "text/plain": [
       "(70127, 41)"
      ]
     },
     "execution_count": 102,
     "metadata": {},
     "output_type": "execute_result"
    }
   ],
   "source": [
    "indicator = MissingIndicator(missing_values=np.nan)\n",
    "mask_missing_values_original = indicator.fit_transform(r_PM25)\n",
    "mask_missing_values_original\n",
    "mask_missing_values_original.shape"
   ]
  },
  {
   "cell_type": "code",
   "execution_count": null,
   "metadata": {},
   "outputs": [],
   "source": [
    "# example - fit the iterative model (should resolve the convergence problem somehow...)\n",
    "imp = IterativeImputer(max_iter=10)\n",
    "imp.fit(r_PM25) # fit based on the data\n",
    "imputed_df = imp.transform(r_PM25) # impute it\n",
    "imputed_df = pd.DataFrame(imputed_df, columns=r_PM25.columns) #turn it from IterativeImputer object to a dataframe"
   ]
  },
  {
   "cell_type": "code",
   "execution_count": 279,
   "metadata": {},
   "outputs": [
    {
     "data": {
      "text/html": [
       "<div>\n",
       "<style scoped>\n",
       "    .dataframe tbody tr th:only-of-type {\n",
       "        vertical-align: middle;\n",
       "    }\n",
       "\n",
       "    .dataframe tbody tr th {\n",
       "        vertical-align: top;\n",
       "    }\n",
       "\n",
       "    .dataframe thead th {\n",
       "        text-align: right;\n",
       "    }\n",
       "</style>\n",
       "<table border=\"1\" class=\"dataframe\">\n",
       "  <thead>\n",
       "    <tr style=\"text-align: right;\">\n",
       "      <th></th>\n",
       "      <th>AFULA</th>\n",
       "      <th>ANTOKOLSKY</th>\n",
       "      <th>HOLON</th>\n",
       "      <th>IRONID</th>\n",
       "      <th>KVISH4</th>\n",
       "      <th>REMEZ</th>\n",
       "      <th>YAD_LEBANIM</th>\n",
       "      <th>YEFET_YAFO</th>\n",
       "      <th>AHUZA_G</th>\n",
       "      <th>ATZMAUT_B</th>\n",
       "      <th>...</th>\n",
       "      <th>ORT</th>\n",
       "      <th>ROVA_TV</th>\n",
       "      <th>SDEROT</th>\n",
       "      <th>SDE_YOAV</th>\n",
       "      <th>YAHALOM</th>\n",
       "      <th>BEER_SHEVA</th>\n",
       "      <th>EAST_NEGEV</th>\n",
       "      <th>KFAR_MASARIK</th>\n",
       "      <th>PARDES_HANA</th>\n",
       "      <th>RAANANA</th>\n",
       "    </tr>\n",
       "  </thead>\n",
       "  <tbody>\n",
       "    <tr>\n",
       "      <th>0</th>\n",
       "      <td>22.651278</td>\n",
       "      <td>28.2</td>\n",
       "      <td>55.0</td>\n",
       "      <td>46.0</td>\n",
       "      <td>40.706404</td>\n",
       "      <td>43.498597</td>\n",
       "      <td>23.2</td>\n",
       "      <td>32.826855</td>\n",
       "      <td>17.4</td>\n",
       "      <td>33.1</td>\n",
       "      <td>...</td>\n",
       "      <td>30.1</td>\n",
       "      <td>30.1</td>\n",
       "      <td>46.9</td>\n",
       "      <td>41.0</td>\n",
       "      <td>36.3</td>\n",
       "      <td>38.8</td>\n",
       "      <td>15.709804</td>\n",
       "      <td>13.6</td>\n",
       "      <td>16.4</td>\n",
       "      <td>30.510988</td>\n",
       "    </tr>\n",
       "    <tr>\n",
       "      <th>1</th>\n",
       "      <td>24.139571</td>\n",
       "      <td>28.1</td>\n",
       "      <td>55.0</td>\n",
       "      <td>43.8</td>\n",
       "      <td>39.413840</td>\n",
       "      <td>47.150667</td>\n",
       "      <td>18.9</td>\n",
       "      <td>34.676349</td>\n",
       "      <td>17.8</td>\n",
       "      <td>31.2</td>\n",
       "      <td>...</td>\n",
       "      <td>39.2</td>\n",
       "      <td>39.2</td>\n",
       "      <td>45.7</td>\n",
       "      <td>35.1</td>\n",
       "      <td>52.4</td>\n",
       "      <td>35.3</td>\n",
       "      <td>14.309201</td>\n",
       "      <td>9.3</td>\n",
       "      <td>16.9</td>\n",
       "      <td>27.779005</td>\n",
       "    </tr>\n",
       "    <tr>\n",
       "      <th>2</th>\n",
       "      <td>25.235384</td>\n",
       "      <td>30.0</td>\n",
       "      <td>55.0</td>\n",
       "      <td>46.7</td>\n",
       "      <td>40.957420</td>\n",
       "      <td>49.058964</td>\n",
       "      <td>18.5</td>\n",
       "      <td>36.565121</td>\n",
       "      <td>17.8</td>\n",
       "      <td>38.8</td>\n",
       "      <td>...</td>\n",
       "      <td>49.0</td>\n",
       "      <td>49.0</td>\n",
       "      <td>54.0</td>\n",
       "      <td>34.4</td>\n",
       "      <td>42.4</td>\n",
       "      <td>33.1</td>\n",
       "      <td>8.894213</td>\n",
       "      <td>10.9</td>\n",
       "      <td>16.9</td>\n",
       "      <td>28.577647</td>\n",
       "    </tr>\n",
       "    <tr>\n",
       "      <th>3</th>\n",
       "      <td>26.141819</td>\n",
       "      <td>27.7</td>\n",
       "      <td>55.0</td>\n",
       "      <td>36.0</td>\n",
       "      <td>38.653168</td>\n",
       "      <td>42.132239</td>\n",
       "      <td>21.7</td>\n",
       "      <td>34.996533</td>\n",
       "      <td>16.2</td>\n",
       "      <td>43.3</td>\n",
       "      <td>...</td>\n",
       "      <td>43.8</td>\n",
       "      <td>43.8</td>\n",
       "      <td>48.0</td>\n",
       "      <td>44.9</td>\n",
       "      <td>39.2</td>\n",
       "      <td>25.9</td>\n",
       "      <td>14.408681</td>\n",
       "      <td>20.2</td>\n",
       "      <td>11.9</td>\n",
       "      <td>29.118868</td>\n",
       "    </tr>\n",
       "    <tr>\n",
       "      <th>4</th>\n",
       "      <td>24.375098</td>\n",
       "      <td>26.3</td>\n",
       "      <td>64.6</td>\n",
       "      <td>48.7</td>\n",
       "      <td>45.679280</td>\n",
       "      <td>43.811706</td>\n",
       "      <td>23.6</td>\n",
       "      <td>37.435475</td>\n",
       "      <td>17.1</td>\n",
       "      <td>39.3</td>\n",
       "      <td>...</td>\n",
       "      <td>39.4</td>\n",
       "      <td>39.4</td>\n",
       "      <td>25.6</td>\n",
       "      <td>34.6</td>\n",
       "      <td>45.4</td>\n",
       "      <td>26.4</td>\n",
       "      <td>6.334311</td>\n",
       "      <td>16.6</td>\n",
       "      <td>15.1</td>\n",
       "      <td>31.933564</td>\n",
       "    </tr>\n",
       "  </tbody>\n",
       "</table>\n",
       "<p>5 rows × 35 columns</p>\n",
       "</div>"
      ],
      "text/plain": [
       "       AFULA  ANTOKOLSKY  HOLON  IRONID     KVISH4      REMEZ  YAD_LEBANIM  \\\n",
       "0  22.651278        28.2   55.0    46.0  40.706404  43.498597         23.2   \n",
       "1  24.139571        28.1   55.0    43.8  39.413840  47.150667         18.9   \n",
       "2  25.235384        30.0   55.0    46.7  40.957420  49.058964         18.5   \n",
       "3  26.141819        27.7   55.0    36.0  38.653168  42.132239         21.7   \n",
       "4  24.375098        26.3   64.6    48.7  45.679280  43.811706         23.6   \n",
       "\n",
       "   YEFET_YAFO  AHUZA_G  ATZMAUT_B  ...   ORT  ROVA_TV  SDEROT  SDE_YOAV  \\\n",
       "0   32.826855     17.4       33.1  ...  30.1     30.1    46.9      41.0   \n",
       "1   34.676349     17.8       31.2  ...  39.2     39.2    45.7      35.1   \n",
       "2   36.565121     17.8       38.8  ...  49.0     49.0    54.0      34.4   \n",
       "3   34.996533     16.2       43.3  ...  43.8     43.8    48.0      44.9   \n",
       "4   37.435475     17.1       39.3  ...  39.4     39.4    25.6      34.6   \n",
       "\n",
       "   YAHALOM  BEER_SHEVA  EAST_NEGEV  KFAR_MASARIK  PARDES_HANA    RAANANA  \n",
       "0     36.3        38.8   15.709804          13.6         16.4  30.510988  \n",
       "1     52.4        35.3   14.309201           9.3         16.9  27.779005  \n",
       "2     42.4        33.1    8.894213          10.9         16.9  28.577647  \n",
       "3     39.2        25.9   14.408681          20.2         11.9  29.118868  \n",
       "4     45.4        26.4    6.334311          16.6         15.1  31.933564  \n",
       "\n",
       "[5 rows x 35 columns]"
      ]
     },
     "execution_count": 279,
     "metadata": {},
     "output_type": "execute_result"
    }
   ],
   "source": [
    "imputed_df.head()"
   ]
  },
  {
   "cell_type": "code",
   "execution_count": null,
   "metadata": {},
   "outputs": [],
   "source": [
    "# compare between variants of IterativeImputer"
   ]
  },
  {
   "cell_type": "code",
   "execution_count": 283,
   "metadata": {},
   "outputs": [],
   "source": [
    "# example\n",
    "# To use this experimental feature, we need to explicitly ask for it:\n",
    "from sklearn.experimental import enable_iterative_imputer  # noqa\n",
    "from sklearn.impute import SimpleImputer\n",
    "from sklearn.impute import IterativeImputer\n",
    "from sklearn.linear_model import BayesianRidge\n",
    "from sklearn.tree import DecisionTreeRegressor\n",
    "from sklearn.ensemble import ExtraTreesRegressor\n",
    "from sklearn.ensemble import RandomForestRegressor \n",
    "from sklearn.neighbors import KNeighborsRegressor\n",
    "from sklearn.pipeline import make_pipeline\n",
    "from sklearn.model_selection import cross_val_score"
   ]
  },
  {
   "cell_type": "code",
   "execution_count": null,
   "metadata": {},
   "outputs": [],
   "source": []
  },
  {
   "cell_type": "code",
   "execution_count": 550,
   "metadata": {},
   "outputs": [],
   "source": [
    "rng = np.random.RandomState(42)"
   ]
  },
  {
   "cell_type": "code",
   "execution_count": 551,
   "metadata": {},
   "outputs": [],
   "source": [
    "def generate_missing_values_for_all_stations(PM25,per):\n",
    "    # per is the percentage of missing values per 1 station, later would be a vector\n",
    "    # of percentages. alternatively - do it according to percentage of missing stations\n",
    "    # per 1 time point :/\n",
    "    # n_features is the number of stations\n",
    "    n_samples, n_features = PM25.shape\n",
    "    X_missing = PM25.copy()\n",
    "    \n",
    "    # Add missing values in per% of the lines (a line is 1 station, all timesteps)\n",
    "    # this is just the average, maybe later I should do it seperately for each station\n",
    "    missing_rate = per\n",
    "    \n",
    "    for f in range(n_features): # for each station       \n",
    "        n_missing_samples = int(n_samples * missing_rate)\n",
    "        missing_samples = np.zeros(n_samples, dtype=np.bool)\n",
    "        missing_samples[: n_missing_samples] = True\n",
    "        rng.shuffle(missing_samples)\n",
    "        X_missing.iloc[missing_samples,f] = np.nan\n",
    "    \n",
    "    return X_missing"
   ]
  },
  {
   "cell_type": "code",
   "execution_count": 559,
   "metadata": {},
   "outputs": [],
   "source": [
    "X_missing = generate_missing_values_for_all_stations(r_PM25,0.2)"
   ]
  },
  {
   "cell_type": "code",
   "execution_count": null,
   "metadata": {},
   "outputs": [],
   "source": []
  },
  {
   "cell_type": "code",
   "execution_count": 560,
   "metadata": {},
   "outputs": [
    {
     "data": {
      "text/plain": [
       "array([[ True, False, False, ...,  True,  True,  True],\n",
       "       [ True, False,  True, ..., False, False,  True],\n",
       "       [ True, False,  True, ..., False, False,  True],\n",
       "       ...,\n",
       "       [False,  True, False, ...,  True, False, False],\n",
       "       [ True, False, False, ..., False, False, False],\n",
       "       [False,  True,  True, ..., False,  True, False]])"
      ]
     },
     "execution_count": 560,
     "metadata": {},
     "output_type": "execute_result"
    },
    {
     "data": {
      "text/plain": [
       "(105167, 35)"
      ]
     },
     "execution_count": 560,
     "metadata": {},
     "output_type": "execute_result"
    }
   ],
   "source": [
    "mask_missing_values_all = indicator.fit_transform(X_missing)\n",
    "mask_missing_values_all\n",
    "mask_missing_values_all.shape"
   ]
  },
  {
   "cell_type": "code",
   "execution_count": 561,
   "metadata": {},
   "outputs": [],
   "source": [
    "# true = nan\n",
    "a = mask_missing_values_original # here I want false = not nan\n",
    "b = mask_missing_values_all # here I want true = nan"
   ]
  },
  {
   "cell_type": "code",
   "execution_count": 562,
   "metadata": {},
   "outputs": [
    {
     "data": {
      "text/plain": [
       "array([[False, False, False, ...,  True,  True, False],\n",
       "       [False, False,  True, ..., False, False, False],\n",
       "       [False, False,  True, ..., False, False, False],\n",
       "       ...,\n",
       "       [False,  True, False, ...,  True, False, False],\n",
       "       [ True, False, False, ..., False, False, False],\n",
       "       [False,  True,  True, ..., False,  True, False]])"
      ]
     },
     "execution_count": 562,
     "metadata": {},
     "output_type": "execute_result"
    },
    {
     "data": {
      "text/plain": [
       "array([[False,  True,  True, ...,  True,  True, False],\n",
       "       [False,  True,  True, ...,  True,  True, False],\n",
       "       [False,  True,  True, ...,  True,  True, False],\n",
       "       ...,\n",
       "       [ True,  True,  True, ...,  True,  True,  True],\n",
       "       [ True,  True,  True, ...,  True,  True,  True],\n",
       "       [ True,  True,  True, ...,  True,  True,  True]])"
      ]
     },
     "execution_count": 562,
     "metadata": {},
     "output_type": "execute_result"
    },
    {
     "data": {
      "text/plain": [
       "array([[ True, False, False, ...,  True,  True,  True],\n",
       "       [ True, False,  True, ..., False, False,  True],\n",
       "       [ True, False,  True, ..., False, False,  True],\n",
       "       ...,\n",
       "       [False,  True, False, ...,  True, False, False],\n",
       "       [ True, False, False, ..., False, False, False],\n",
       "       [False,  True,  True, ..., False,  True, False]])"
      ]
     },
     "execution_count": 562,
     "metadata": {},
     "output_type": "execute_result"
    }
   ],
   "source": [
    "(~a) & (b)\n",
    "~a\n",
    "b"
   ]
  },
  {
   "cell_type": "code",
   "execution_count": 563,
   "metadata": {},
   "outputs": [],
   "source": [
    "# y missing should be the diff between the original missing and the new generated missing\n",
    "mask = ((~a) & (b))\n",
    "y_missing = r_PM25.mask(~mask)# for validation "
   ]
  },
  {
   "cell_type": "code",
   "execution_count": 564,
   "metadata": {},
   "outputs": [
    {
     "data": {
      "text/plain": [
       "0.16695242532624982"
      ]
     },
     "execution_count": 564,
     "metadata": {},
     "output_type": "execute_result"
    },
    {
     "data": {
      "text/plain": [
       "0.19999648515760163"
      ]
     },
     "execution_count": 564,
     "metadata": {},
     "output_type": "execute_result"
    }
   ],
   "source": [
    "# percentage for validation from a complete dataset\n",
    "(np.sum(np.sum(~y_missing.isnull())))/(105167*35)\n",
    "\n",
    "# percentage for validation from the non-missing data\n",
    "(np.sum(np.sum(~y_missing.isnull())))/(np.sum(np.sum(~mask_missing_values_original)))"
   ]
  },
  {
   "cell_type": "code",
   "execution_count": 565,
   "metadata": {},
   "outputs": [
    {
     "data": {
      "text/plain": [
       "IterativeImputer(add_indicator=False, estimator=None,\n",
       "                 imputation_order='ascending', initial_strategy='mean',\n",
       "                 max_iter=20, max_value=None, min_value=None,\n",
       "                 missing_values=nan, n_nearest_features=None, random_state=None,\n",
       "                 sample_posterior=False, skip_complete=False, tol=0.001,\n",
       "                 verbose=0)"
      ]
     },
     "execution_count": 565,
     "metadata": {},
     "output_type": "execute_result"
    }
   ],
   "source": [
    "# example of fitting and calculating scores\n",
    "imp = IterativeImputer(max_iter=20)\n",
    "imp.fit(X_missing) # fit based on the data\n",
    "imputed_df = imp.transform(X_missing) # impute it\n",
    "imputed_df = pd.DataFrame(imputed_df, columns=X_missing.columns) #turn it from IterativeImputer object to a dataframe"
   ]
  },
  {
   "cell_type": "code",
   "execution_count": 566,
   "metadata": {},
   "outputs": [
    {
     "data": {
      "text/html": [
       "<div>\n",
       "<style scoped>\n",
       "    .dataframe tbody tr th:only-of-type {\n",
       "        vertical-align: middle;\n",
       "    }\n",
       "\n",
       "    .dataframe tbody tr th {\n",
       "        vertical-align: top;\n",
       "    }\n",
       "\n",
       "    .dataframe thead th {\n",
       "        text-align: right;\n",
       "    }\n",
       "</style>\n",
       "<table border=\"1\" class=\"dataframe\">\n",
       "  <thead>\n",
       "    <tr style=\"text-align: right;\">\n",
       "      <th></th>\n",
       "      <th>AFULA</th>\n",
       "      <th>ANTOKOLSKY</th>\n",
       "      <th>HOLON</th>\n",
       "      <th>IRONID</th>\n",
       "      <th>KVISH4</th>\n",
       "      <th>REMEZ</th>\n",
       "      <th>YAD_LEBANIM</th>\n",
       "      <th>YEFET_YAFO</th>\n",
       "      <th>AHUZA_G</th>\n",
       "      <th>ATZMAUT_B</th>\n",
       "      <th>...</th>\n",
       "      <th>ORT</th>\n",
       "      <th>ROVA_TV</th>\n",
       "      <th>SDEROT</th>\n",
       "      <th>SDE_YOAV</th>\n",
       "      <th>YAHALOM</th>\n",
       "      <th>BEER_SHEVA</th>\n",
       "      <th>EAST_NEGEV</th>\n",
       "      <th>KFAR_MASARIK</th>\n",
       "      <th>PARDES_HANA</th>\n",
       "      <th>RAANANA</th>\n",
       "    </tr>\n",
       "  </thead>\n",
       "  <tbody>\n",
       "    <tr>\n",
       "      <th>0</th>\n",
       "      <td>NaN</td>\n",
       "      <td>NaN</td>\n",
       "      <td>NaN</td>\n",
       "      <td>NaN</td>\n",
       "      <td>NaN</td>\n",
       "      <td>NaN</td>\n",
       "      <td>NaN</td>\n",
       "      <td>NaN</td>\n",
       "      <td>NaN</td>\n",
       "      <td>19.467747</td>\n",
       "      <td>...</td>\n",
       "      <td>NaN</td>\n",
       "      <td>NaN</td>\n",
       "      <td>NaN</td>\n",
       "      <td>40.400740</td>\n",
       "      <td>NaN</td>\n",
       "      <td>NaN</td>\n",
       "      <td>NaN</td>\n",
       "      <td>17.298656</td>\n",
       "      <td>26.019469</td>\n",
       "      <td>NaN</td>\n",
       "    </tr>\n",
       "    <tr>\n",
       "      <th>1</th>\n",
       "      <td>NaN</td>\n",
       "      <td>NaN</td>\n",
       "      <td>33.698839</td>\n",
       "      <td>NaN</td>\n",
       "      <td>NaN</td>\n",
       "      <td>NaN</td>\n",
       "      <td>NaN</td>\n",
       "      <td>NaN</td>\n",
       "      <td>NaN</td>\n",
       "      <td>NaN</td>\n",
       "      <td>...</td>\n",
       "      <td>32.281969</td>\n",
       "      <td>32.844450</td>\n",
       "      <td>NaN</td>\n",
       "      <td>NaN</td>\n",
       "      <td>NaN</td>\n",
       "      <td>NaN</td>\n",
       "      <td>NaN</td>\n",
       "      <td>NaN</td>\n",
       "      <td>NaN</td>\n",
       "      <td>NaN</td>\n",
       "    </tr>\n",
       "    <tr>\n",
       "      <th>2</th>\n",
       "      <td>NaN</td>\n",
       "      <td>NaN</td>\n",
       "      <td>37.074137</td>\n",
       "      <td>NaN</td>\n",
       "      <td>NaN</td>\n",
       "      <td>NaN</td>\n",
       "      <td>NaN</td>\n",
       "      <td>NaN</td>\n",
       "      <td>NaN</td>\n",
       "      <td>NaN</td>\n",
       "      <td>...</td>\n",
       "      <td>NaN</td>\n",
       "      <td>45.209091</td>\n",
       "      <td>NaN</td>\n",
       "      <td>NaN</td>\n",
       "      <td>NaN</td>\n",
       "      <td>NaN</td>\n",
       "      <td>NaN</td>\n",
       "      <td>NaN</td>\n",
       "      <td>NaN</td>\n",
       "      <td>NaN</td>\n",
       "    </tr>\n",
       "    <tr>\n",
       "      <th>3</th>\n",
       "      <td>NaN</td>\n",
       "      <td>28.193254</td>\n",
       "      <td>NaN</td>\n",
       "      <td>NaN</td>\n",
       "      <td>NaN</td>\n",
       "      <td>NaN</td>\n",
       "      <td>NaN</td>\n",
       "      <td>NaN</td>\n",
       "      <td>NaN</td>\n",
       "      <td>NaN</td>\n",
       "      <td>...</td>\n",
       "      <td>NaN</td>\n",
       "      <td>NaN</td>\n",
       "      <td>NaN</td>\n",
       "      <td>35.388250</td>\n",
       "      <td>NaN</td>\n",
       "      <td>NaN</td>\n",
       "      <td>NaN</td>\n",
       "      <td>23.483223</td>\n",
       "      <td>NaN</td>\n",
       "      <td>NaN</td>\n",
       "    </tr>\n",
       "    <tr>\n",
       "      <th>4</th>\n",
       "      <td>NaN</td>\n",
       "      <td>34.595237</td>\n",
       "      <td>NaN</td>\n",
       "      <td>NaN</td>\n",
       "      <td>NaN</td>\n",
       "      <td>NaN</td>\n",
       "      <td>NaN</td>\n",
       "      <td>NaN</td>\n",
       "      <td>24.205103</td>\n",
       "      <td>NaN</td>\n",
       "      <td>...</td>\n",
       "      <td>NaN</td>\n",
       "      <td>NaN</td>\n",
       "      <td>NaN</td>\n",
       "      <td>27.037277</td>\n",
       "      <td>NaN</td>\n",
       "      <td>NaN</td>\n",
       "      <td>NaN</td>\n",
       "      <td>NaN</td>\n",
       "      <td>NaN</td>\n",
       "      <td>NaN</td>\n",
       "    </tr>\n",
       "  </tbody>\n",
       "</table>\n",
       "<p>5 rows × 35 columns</p>\n",
       "</div>"
      ],
      "text/plain": [
       "   AFULA  ANTOKOLSKY      HOLON  IRONID  KVISH4  REMEZ  YAD_LEBANIM  \\\n",
       "0    NaN         NaN        NaN     NaN     NaN    NaN          NaN   \n",
       "1    NaN         NaN  33.698839     NaN     NaN    NaN          NaN   \n",
       "2    NaN         NaN  37.074137     NaN     NaN    NaN          NaN   \n",
       "3    NaN   28.193254        NaN     NaN     NaN    NaN          NaN   \n",
       "4    NaN   34.595237        NaN     NaN     NaN    NaN          NaN   \n",
       "\n",
       "   YEFET_YAFO    AHUZA_G  ATZMAUT_B  ...        ORT    ROVA_TV  SDEROT  \\\n",
       "0         NaN        NaN  19.467747  ...        NaN        NaN     NaN   \n",
       "1         NaN        NaN        NaN  ...  32.281969  32.844450     NaN   \n",
       "2         NaN        NaN        NaN  ...        NaN  45.209091     NaN   \n",
       "3         NaN        NaN        NaN  ...        NaN        NaN     NaN   \n",
       "4         NaN  24.205103        NaN  ...        NaN        NaN     NaN   \n",
       "\n",
       "    SDE_YOAV  YAHALOM  BEER_SHEVA  EAST_NEGEV  KFAR_MASARIK  PARDES_HANA  \\\n",
       "0  40.400740      NaN         NaN         NaN     17.298656    26.019469   \n",
       "1        NaN      NaN         NaN         NaN           NaN          NaN   \n",
       "2        NaN      NaN         NaN         NaN           NaN          NaN   \n",
       "3  35.388250      NaN         NaN         NaN     23.483223          NaN   \n",
       "4  27.037277      NaN         NaN         NaN           NaN          NaN   \n",
       "\n",
       "   RAANANA  \n",
       "0      NaN  \n",
       "1      NaN  \n",
       "2      NaN  \n",
       "3      NaN  \n",
       "4      NaN  \n",
       "\n",
       "[5 rows x 35 columns]"
      ]
     },
     "execution_count": 566,
     "metadata": {},
     "output_type": "execute_result"
    }
   ],
   "source": [
    "imputed_df.mask(~mask).head()"
   ]
  },
  {
   "cell_type": "code",
   "execution_count": 567,
   "metadata": {},
   "outputs": [
    {
     "data": {
      "text/html": [
       "<div>\n",
       "<style scoped>\n",
       "    .dataframe tbody tr th:only-of-type {\n",
       "        vertical-align: middle;\n",
       "    }\n",
       "\n",
       "    .dataframe tbody tr th {\n",
       "        vertical-align: top;\n",
       "    }\n",
       "\n",
       "    .dataframe thead th {\n",
       "        text-align: right;\n",
       "    }\n",
       "</style>\n",
       "<table border=\"1\" class=\"dataframe\">\n",
       "  <thead>\n",
       "    <tr style=\"text-align: right;\">\n",
       "      <th></th>\n",
       "      <th>AFULA</th>\n",
       "      <th>ANTOKOLSKY</th>\n",
       "      <th>HOLON</th>\n",
       "      <th>IRONID</th>\n",
       "      <th>KVISH4</th>\n",
       "      <th>REMEZ</th>\n",
       "      <th>YAD_LEBANIM</th>\n",
       "      <th>YEFET_YAFO</th>\n",
       "      <th>AHUZA_G</th>\n",
       "      <th>ATZMAUT_B</th>\n",
       "      <th>...</th>\n",
       "      <th>ORT</th>\n",
       "      <th>ROVA_TV</th>\n",
       "      <th>SDEROT</th>\n",
       "      <th>SDE_YOAV</th>\n",
       "      <th>YAHALOM</th>\n",
       "      <th>BEER_SHEVA</th>\n",
       "      <th>EAST_NEGEV</th>\n",
       "      <th>KFAR_MASARIK</th>\n",
       "      <th>PARDES_HANA</th>\n",
       "      <th>RAANANA</th>\n",
       "    </tr>\n",
       "  </thead>\n",
       "  <tbody>\n",
       "    <tr>\n",
       "      <th>0</th>\n",
       "      <td>NaN</td>\n",
       "      <td>NaN</td>\n",
       "      <td>NaN</td>\n",
       "      <td>NaN</td>\n",
       "      <td>NaN</td>\n",
       "      <td>NaN</td>\n",
       "      <td>NaN</td>\n",
       "      <td>NaN</td>\n",
       "      <td>NaN</td>\n",
       "      <td>33.1</td>\n",
       "      <td>...</td>\n",
       "      <td>NaN</td>\n",
       "      <td>NaN</td>\n",
       "      <td>NaN</td>\n",
       "      <td>41.0</td>\n",
       "      <td>NaN</td>\n",
       "      <td>NaN</td>\n",
       "      <td>NaN</td>\n",
       "      <td>13.6</td>\n",
       "      <td>16.4</td>\n",
       "      <td>NaN</td>\n",
       "    </tr>\n",
       "    <tr>\n",
       "      <th>1</th>\n",
       "      <td>NaN</td>\n",
       "      <td>NaN</td>\n",
       "      <td>55.0</td>\n",
       "      <td>NaN</td>\n",
       "      <td>NaN</td>\n",
       "      <td>NaN</td>\n",
       "      <td>NaN</td>\n",
       "      <td>NaN</td>\n",
       "      <td>NaN</td>\n",
       "      <td>NaN</td>\n",
       "      <td>...</td>\n",
       "      <td>39.2</td>\n",
       "      <td>39.2</td>\n",
       "      <td>NaN</td>\n",
       "      <td>NaN</td>\n",
       "      <td>NaN</td>\n",
       "      <td>NaN</td>\n",
       "      <td>NaN</td>\n",
       "      <td>NaN</td>\n",
       "      <td>NaN</td>\n",
       "      <td>NaN</td>\n",
       "    </tr>\n",
       "    <tr>\n",
       "      <th>2</th>\n",
       "      <td>NaN</td>\n",
       "      <td>NaN</td>\n",
       "      <td>55.0</td>\n",
       "      <td>NaN</td>\n",
       "      <td>NaN</td>\n",
       "      <td>NaN</td>\n",
       "      <td>NaN</td>\n",
       "      <td>NaN</td>\n",
       "      <td>NaN</td>\n",
       "      <td>NaN</td>\n",
       "      <td>...</td>\n",
       "      <td>NaN</td>\n",
       "      <td>49.0</td>\n",
       "      <td>NaN</td>\n",
       "      <td>NaN</td>\n",
       "      <td>NaN</td>\n",
       "      <td>NaN</td>\n",
       "      <td>NaN</td>\n",
       "      <td>NaN</td>\n",
       "      <td>NaN</td>\n",
       "      <td>NaN</td>\n",
       "    </tr>\n",
       "    <tr>\n",
       "      <th>3</th>\n",
       "      <td>NaN</td>\n",
       "      <td>27.7</td>\n",
       "      <td>NaN</td>\n",
       "      <td>NaN</td>\n",
       "      <td>NaN</td>\n",
       "      <td>NaN</td>\n",
       "      <td>NaN</td>\n",
       "      <td>NaN</td>\n",
       "      <td>NaN</td>\n",
       "      <td>NaN</td>\n",
       "      <td>...</td>\n",
       "      <td>NaN</td>\n",
       "      <td>NaN</td>\n",
       "      <td>NaN</td>\n",
       "      <td>44.9</td>\n",
       "      <td>NaN</td>\n",
       "      <td>NaN</td>\n",
       "      <td>NaN</td>\n",
       "      <td>20.2</td>\n",
       "      <td>NaN</td>\n",
       "      <td>NaN</td>\n",
       "    </tr>\n",
       "    <tr>\n",
       "      <th>4</th>\n",
       "      <td>NaN</td>\n",
       "      <td>26.3</td>\n",
       "      <td>NaN</td>\n",
       "      <td>NaN</td>\n",
       "      <td>NaN</td>\n",
       "      <td>NaN</td>\n",
       "      <td>NaN</td>\n",
       "      <td>NaN</td>\n",
       "      <td>17.1</td>\n",
       "      <td>NaN</td>\n",
       "      <td>...</td>\n",
       "      <td>NaN</td>\n",
       "      <td>NaN</td>\n",
       "      <td>NaN</td>\n",
       "      <td>34.6</td>\n",
       "      <td>NaN</td>\n",
       "      <td>NaN</td>\n",
       "      <td>NaN</td>\n",
       "      <td>NaN</td>\n",
       "      <td>NaN</td>\n",
       "      <td>NaN</td>\n",
       "    </tr>\n",
       "  </tbody>\n",
       "</table>\n",
       "<p>5 rows × 35 columns</p>\n",
       "</div>"
      ],
      "text/plain": [
       "   AFULA  ANTOKOLSKY  HOLON  IRONID  KVISH4  REMEZ  YAD_LEBANIM  YEFET_YAFO  \\\n",
       "0    NaN         NaN    NaN     NaN     NaN    NaN          NaN         NaN   \n",
       "1    NaN         NaN   55.0     NaN     NaN    NaN          NaN         NaN   \n",
       "2    NaN         NaN   55.0     NaN     NaN    NaN          NaN         NaN   \n",
       "3    NaN        27.7    NaN     NaN     NaN    NaN          NaN         NaN   \n",
       "4    NaN        26.3    NaN     NaN     NaN    NaN          NaN         NaN   \n",
       "\n",
       "   AHUZA_G  ATZMAUT_B  ...   ORT  ROVA_TV  SDEROT  SDE_YOAV  YAHALOM  \\\n",
       "0      NaN       33.1  ...   NaN      NaN     NaN      41.0      NaN   \n",
       "1      NaN        NaN  ...  39.2     39.2     NaN       NaN      NaN   \n",
       "2      NaN        NaN  ...   NaN     49.0     NaN       NaN      NaN   \n",
       "3      NaN        NaN  ...   NaN      NaN     NaN      44.9      NaN   \n",
       "4     17.1        NaN  ...   NaN      NaN     NaN      34.6      NaN   \n",
       "\n",
       "   BEER_SHEVA  EAST_NEGEV  KFAR_MASARIK  PARDES_HANA  RAANANA  \n",
       "0         NaN         NaN          13.6         16.4      NaN  \n",
       "1         NaN         NaN           NaN          NaN      NaN  \n",
       "2         NaN         NaN           NaN          NaN      NaN  \n",
       "3         NaN         NaN          20.2          NaN      NaN  \n",
       "4         NaN         NaN           NaN          NaN      NaN  \n",
       "\n",
       "[5 rows x 35 columns]"
      ]
     },
     "execution_count": 567,
     "metadata": {},
     "output_type": "execute_result"
    }
   ],
   "source": [
    "y_missing.head()"
   ]
  },
  {
   "cell_type": "code",
   "execution_count": 568,
   "metadata": {},
   "outputs": [],
   "source": [
    "# Evaluation matrics - MAE, RMSE, R^2, rank product = geometric mean of the all evaluation values"
   ]
  },
  {
   "cell_type": "code",
   "execution_count": 569,
   "metadata": {},
   "outputs": [
    {
     "data": {
      "text/plain": [
       "11.702752820023884"
      ]
     },
     "execution_count": 569,
     "metadata": {},
     "output_type": "execute_result"
    },
    {
     "data": {
      "text/plain": [
       "4.643724905493887"
      ]
     },
     "execution_count": 569,
     "metadata": {},
     "output_type": "execute_result"
    },
    {
     "data": {
      "text/plain": [
       "6.689492687388733"
      ]
     },
     "execution_count": 569,
     "metadata": {},
     "output_type": "execute_result"
    },
    {
     "data": {
      "text/plain": [
       "0.7433823351274268"
      ]
     },
     "execution_count": 569,
     "metadata": {},
     "output_type": "execute_result"
    }
   ],
   "source": [
    "from sklearn.metrics import mean_squared_error\n",
    "from sklearn.metrics import median_absolute_error\n",
    "from sklearn.metrics import mean_absolute_error\n",
    "from sklearn.metrics import r2_score\n",
    "\n",
    "y_train = y_missing.values\n",
    "y_train = y_train[~np.isnan(y_train)]\n",
    "\n",
    "y_pred = imputed_df.mask(~mask).values\n",
    "y_pred = y_pred[~np.isnan(y_pred)]\n",
    "\n",
    "# RMSE\n",
    "np.sqrt(mean_squared_error(y_train, y_pred))\n",
    "# MAE - median absolute error\n",
    "median_absolute_error(y_train, y_pred)\n",
    "# MAE - mean absolute error\n",
    "mean_absolute_error(y_train,y_pred)\n",
    "# r2\n",
    "r2_score(y_train,y_pred)"
   ]
  },
  {
   "cell_type": "code",
   "execution_count": null,
   "metadata": {},
   "outputs": [],
   "source": []
  },
  {
   "cell_type": "code",
   "execution_count": null,
   "metadata": {},
   "outputs": [],
   "source": []
  },
  {
   "cell_type": "code",
   "execution_count": 583,
   "metadata": {},
   "outputs": [],
   "source": [
    "# compare estimators\n",
    "estimators = [\n",
    "    BayesianRidge(),\n",
    "    DecisionTreeRegressor(random_state=0),\n",
    "    ExtraTreesRegressor(n_estimators=10,random_state=0), #n_estimators=number of trees in the forest. by default=100, oob_score=True\n",
    "    KNeighborsRegressor(n_neighbors=5)\n",
    "]\n",
    "score_iterative_imputer = pd.DataFrame()"
   ]
  },
  {
   "cell_type": "code",
   "execution_count": null,
   "metadata": {},
   "outputs": [],
   "source": []
  },
  {
   "cell_type": "code",
   "execution_count": null,
   "metadata": {},
   "outputs": [],
   "source": [
    "for impute_estimator in estimators:\n",
    "    imp = IterativeImputer(estimator=impute_estimator,max_iter=20,tol=1e-2)\n",
    "    imp.fit(X_missing) # fit based on the data\n",
    "    imputed_df = imp.transform(X_missing) # impute it\n",
    "    imputed_df = pd.DataFrame(imputed_df, columns=X_missing.columns) #turn it from IterativeImputer object to a dataframe\n",
    "    print(imp.n_iter_)\n",
    "    y_train = y_missing.values\n",
    "    y_train = y_train[~np.isnan(y_train)]\n",
    "\n",
    "    y_pred = imputed_df.mask(~mask).values\n",
    "    y_pred = y_pred[~np.isnan(y_pred)]\n",
    "\n",
    "    # RMSE\n",
    "    rmse = np.sqrt(mean_squared_error(y_train, y_pred))\n",
    "    # MAE - median absolute error\n",
    "    mae1 = median_absolute_error(y_train, y_pred)\n",
    "    # MAE - mean absolute error\n",
    "    mae2 = mean_absolute_error(y_train,y_pred)\n",
    "    # r2\n",
    "    r2 = r2_score(y_train,y_pred)\n",
    "    \n",
    "    score_iterative_imputer[impute_estimator.__class__.__name__] = [rmse, mae1, mae2, r2]\n",
    "    print(score_iterative_imputer)"
   ]
  },
  {
   "cell_type": "code",
   "execution_count": null,
   "metadata": {},
   "outputs": [],
   "source": [
    "score_iterative_imputer"
   ]
  },
  {
   "cell_type": "code",
   "execution_count": 574,
   "metadata": {},
   "outputs": [
    {
     "data": {
      "text/html": [
       "<div>\n",
       "<style scoped>\n",
       "    .dataframe tbody tr th:only-of-type {\n",
       "        vertical-align: middle;\n",
       "    }\n",
       "\n",
       "    .dataframe tbody tr th {\n",
       "        vertical-align: top;\n",
       "    }\n",
       "\n",
       "    .dataframe thead th {\n",
       "        text-align: right;\n",
       "    }\n",
       "</style>\n",
       "<table border=\"1\" class=\"dataframe\">\n",
       "  <thead>\n",
       "    <tr style=\"text-align: right;\">\n",
       "      <th></th>\n",
       "      <th>BayesianRidge</th>\n",
       "      <th>DecisionTreeRegressor</th>\n",
       "      <th>ExtraTreesRegressor</th>\n",
       "    </tr>\n",
       "  </thead>\n",
       "  <tbody>\n",
       "    <tr>\n",
       "      <th>0</th>\n",
       "      <td>11.702753</td>\n",
       "      <td>14.705225</td>\n",
       "      <td>9.949682</td>\n",
       "    </tr>\n",
       "    <tr>\n",
       "      <th>1</th>\n",
       "      <td>4.643725</td>\n",
       "      <td>5.900000</td>\n",
       "      <td>4.150000</td>\n",
       "    </tr>\n",
       "    <tr>\n",
       "      <th>2</th>\n",
       "      <td>6.689493</td>\n",
       "      <td>8.438193</td>\n",
       "      <td>5.868296</td>\n",
       "    </tr>\n",
       "    <tr>\n",
       "      <th>3</th>\n",
       "      <td>0.743382</td>\n",
       "      <td>0.594815</td>\n",
       "      <td>0.814506</td>\n",
       "    </tr>\n",
       "  </tbody>\n",
       "</table>\n",
       "</div>"
      ],
      "text/plain": [
       "   BayesianRidge  DecisionTreeRegressor  ExtraTreesRegressor\n",
       "0      11.702753              14.705225             9.949682\n",
       "1       4.643725               5.900000             4.150000\n",
       "2       6.689493               8.438193             5.868296\n",
       "3       0.743382               0.594815             0.814506"
      ]
     },
     "execution_count": 574,
     "metadata": {},
     "output_type": "execute_result"
    }
   ],
   "source": [
    "score_iterative_imputer"
   ]
  },
  {
   "cell_type": "code",
   "execution_count": null,
   "metadata": {},
   "outputs": [],
   "source": [
    "# still doesn't converge... \n",
    "DecisionTreeRegressor\n",
    "0              14.230203\n",
    "1               5.800000\n",
    "2               8.268127\n",
    "3               0.620569"
   ]
  },
  {
   "cell_type": "code",
   "execution_count": null,
   "metadata": {},
   "outputs": [],
   "source": [
    "# DecisionTreeRegressor doesn't converge.\n",
    "# ExtraTreesRegressor doesn't converge.\n",
    "\n",
    "# tried updating the sklearn version, changing tol to only 0.1 "
   ]
  },
  {
   "cell_type": "code",
   "execution_count": null,
   "metadata": {},
   "outputs": [],
   "source": [
    "oob_score_"
   ]
  },
  {
   "cell_type": "code",
   "execution_count": null,
   "metadata": {},
   "outputs": [],
   "source": [
    "# compare to imputing with the mean and median (SimpleImputer)"
   ]
  },
  {
   "cell_type": "code",
   "execution_count": null,
   "metadata": {},
   "outputs": [],
   "source": []
  },
  {
   "cell_type": "code",
   "execution_count": null,
   "metadata": {},
   "outputs": [],
   "source": []
  },
  {
   "cell_type": "code",
   "execution_count": null,
   "metadata": {},
   "outputs": [],
   "source": [
    "# add time of day, day of week and day of year as features.\n",
    "# will have to scale the features then! (for KNN,)"
   ]
  },
  {
   "cell_type": "code",
   "execution_count": null,
   "metadata": {},
   "outputs": [],
   "source": []
  },
  {
   "cell_type": "code",
   "execution_count": null,
   "metadata": {},
   "outputs": [],
   "source": []
  },
  {
   "cell_type": "code",
   "execution_count": null,
   "metadata": {},
   "outputs": [],
   "source": [
    "# add cross-validation. "
   ]
  },
  {
   "cell_type": "code",
   "execution_count": null,
   "metadata": {},
   "outputs": [],
   "source": []
  },
  {
   "cell_type": "code",
   "execution_count": null,
   "metadata": {},
   "outputs": [],
   "source": []
  },
  {
   "cell_type": "markdown",
   "metadata": {},
   "source": [
    "# Univariate models "
   ]
  },
  {
   "cell_type": "code",
   "execution_count": null,
   "metadata": {},
   "outputs": [],
   "source": []
  },
  {
   "cell_type": "markdown",
   "metadata": {},
   "source": [
    "Originally, I tried to write a script that extracts all PM2.5 data available from environmental protection of Israel. But then I used Yuval's data from matlab (above). "
   ]
  },
  {
   "cell_type": "code",
   "execution_count": null,
   "metadata": {},
   "outputs": [],
   "source": [
    "# Arima models Vs. ML:\n",
    "# https://towardsdatascience.com/facing-the-arima-model-against-neural-networks-745ba5a933ca\n",
    "\n",
    "# time-series analysis in plurasight:\n",
    "\n",
    "# FA and PCA in plurasight:\n",
    "# https://app.pluralsight.com/course-player?clipId=9306a799-e3f5-41bc-bb65-474dafec524d\n",
    "    \n",
    "# FA in python:\n",
    "# https://www.datacamp.com/community/tutorials/introduction-factor-analysis\n",
    "# from factor_analyzer import FactorAnalyzer\n",
    "# https://scikit-learn.org/stable/modules/generated/sklearn.decomposition.FactorAnalysis.html#sklearn.decomposition.FactorAnalysis\n",
    "# blind source seperation? if non-Gaussian priors on the latent variables are assumed.\n",
    "# https://scikit-learn.org/stable/auto_examples/decomposition/plot_ica_blind_source_separation.html#sphx-glr-auto-examples-decomposition-plot-ica-blind-source-separation-py\n",
    "# https://scikit-learn.org/stable/modules/decomposition.html\n",
    "\n",
    "# technically when we say FA we mean varimax-rotated principal component analysis"
   ]
  },
  {
   "cell_type": "code",
   "execution_count": 3,
   "metadata": {},
   "outputs": [],
   "source": [
    "import numpy as np\n",
    "import pandas as pd"
   ]
  },
  {
   "cell_type": "code",
   "execution_count": 20,
   "metadata": {},
   "outputs": [],
   "source": [
    "# X = np.random.rand(10,5)"
   ]
  },
  {
   "cell_type": "code",
   "execution_count": 29,
   "metadata": {},
   "outputs": [],
   "source": [
    "# X"
   ]
  },
  {
   "cell_type": "code",
   "execution_count": 74,
   "metadata": {},
   "outputs": [],
   "source": [
    "G = np.random.rand(10,3)"
   ]
  },
  {
   "cell_type": "code",
   "execution_count": 75,
   "metadata": {},
   "outputs": [],
   "source": [
    "F = np.random.rand(3,5)"
   ]
  },
  {
   "cell_type": "code",
   "execution_count": 76,
   "metadata": {},
   "outputs": [
    {
     "data": {
      "text/plain": [
       "array([[0.39887499, 0.25868312, 0.79348595],\n",
       "       [0.5840844 , 0.87063411, 0.84165557],\n",
       "       [0.16245394, 0.35716553, 0.28596862],\n",
       "       [0.74534349, 0.22252331, 0.75446334],\n",
       "       [0.65277712, 0.96770442, 0.30318783],\n",
       "       [0.11232998, 0.41472656, 0.91533984],\n",
       "       [0.74274971, 0.86629095, 0.44709888],\n",
       "       [0.61750942, 0.64176317, 0.48511266],\n",
       "       [0.7446682 , 0.50462566, 0.17565843],\n",
       "       [0.22539797, 0.72084979, 0.73391664]])"
      ]
     },
     "execution_count": 76,
     "metadata": {},
     "output_type": "execute_result"
    }
   ],
   "source": [
    "G"
   ]
  },
  {
   "cell_type": "code",
   "execution_count": 77,
   "metadata": {},
   "outputs": [
    {
     "data": {
      "text/plain": [
       "array([[0.95959013, 0.22197795, 0.39603034, 0.95842235, 0.04710638],\n",
       "       [0.28557944, 0.2614658 , 0.36862438, 0.17232797, 0.93638644],\n",
       "       [0.18525169, 0.50439401, 0.00849516, 0.39499191, 0.72722094]])"
      ]
     },
     "execution_count": 77,
     "metadata": {},
     "output_type": "execute_result"
    }
   ],
   "source": [
    "F"
   ]
  },
  {
   "cell_type": "code",
   "execution_count": 78,
   "metadata": {},
   "outputs": [
    {
     "data": {
      "text/plain": [
       "array([[0.6036257 , 0.5564078 , 0.26006429, 0.74028957, 0.83805652],\n",
       "       [0.96503495, 0.78182093, 0.5594021 , 1.04228129, 1.45483363],\n",
       "       [0.3108645 , 0.27368862, 0.19842596, 0.33020439, 0.55005994],\n",
       "       [0.91853795, 0.60417885, 0.38361544, 1.05070776, 0.79213978],\n",
       "       [0.95892103, 0.55084986, 0.61781462, 0.91215546, 1.15737979],\n",
       "       [0.39579637, 0.59506353, 0.20514036, 0.54068038, 1.05929008],\n",
       "       [1.042956  , 0.61689351, 0.61728556, 1.03775452, 1.17131101],\n",
       "       [0.86569825, 0.54956051, 0.48524313, 0.89404414, 0.98281104],\n",
       "       [0.89122799, 0.38584333, 0.48242077, 0.87005142, 0.63534574],\n",
       "       [0.55810885, 0.6086941 , 0.36122198, 0.63014016, 1.21933119]])"
      ]
     },
     "execution_count": 78,
     "metadata": {},
     "output_type": "execute_result"
    }
   ],
   "source": [
    "X = np.matmul(G,F)\n",
    "X"
   ]
  },
  {
   "cell_type": "code",
   "execution_count": 79,
   "metadata": {},
   "outputs": [
    {
     "data": {
      "text/plain": [
       "(10, 1)"
      ]
     },
     "execution_count": 79,
     "metadata": {},
     "output_type": "execute_result"
    }
   ],
   "source": [
    "np.reshape(G[:,2],(-1,1)).shape"
   ]
  },
  {
   "cell_type": "code",
   "execution_count": 80,
   "metadata": {},
   "outputs": [
    {
     "data": {
      "text/plain": [
       "(1, 5)"
      ]
     },
     "execution_count": 80,
     "metadata": {},
     "output_type": "execute_result"
    }
   ],
   "source": [
    "np.reshape(F[2,:],(1,-1)).shape"
   ]
  },
  {
   "cell_type": "code",
   "execution_count": 81,
   "metadata": {},
   "outputs": [
    {
     "data": {
      "text/plain": [
       "array([[0.38275651, 0.08854145, 0.1579666 , 0.38229071, 0.01878956],\n",
       "       [0.56048163, 0.12965386, 0.23131514, 0.55979955, 0.0275141 ],\n",
       "       [0.1558892 , 0.03606119, 0.06433669, 0.15569949, 0.00765262],\n",
       "       [0.71522426, 0.16544982, 0.29517863, 0.71435386, 0.03511043],\n",
       "       [0.62639848, 0.14490213, 0.25851954, 0.62563619, 0.03074997],\n",
       "       [0.10779074, 0.02493478, 0.04448608, 0.10765956, 0.00529146],\n",
       "       [0.71273529, 0.16487406, 0.29415142, 0.71186792, 0.03498825],\n",
       "       [0.59255594, 0.13707347, 0.24455246, 0.59183483, 0.02908863],\n",
       "       [0.71457626, 0.16529992, 0.2949112 , 0.71370665, 0.03507862],\n",
       "       [0.21628967, 0.05003338, 0.08926443, 0.21602645, 0.01061768]])"
      ]
     },
     "execution_count": 81,
     "metadata": {},
     "output_type": "execute_result"
    }
   ],
   "source": [
    "# G1*F1 \n",
    "# X matrix related to factor1\n",
    "np.matmul(np.reshape(G[:,0],(-1,1)),np.reshape(F[0,:],(1,-1)))"
   ]
  },
  {
   "cell_type": "code",
   "execution_count": 82,
   "metadata": {},
   "outputs": [
    {
     "data": {
      "text/plain": [
       "array([[0.07387458, 0.06763679, 0.09535691, 0.04457834, 0.24222737],\n",
       "       [0.2486352 , 0.22764104, 0.32093696, 0.1500346 , 0.81524997],\n",
       "       [0.10199913, 0.09338657, 0.13165992, 0.06154961, 0.33444496],\n",
       "       [0.06354808, 0.05818224, 0.08202752, 0.03834699, 0.20836781],\n",
       "       [0.27635649, 0.25302161, 0.35671944, 0.16676253, 0.90614529],\n",
       "       [0.11843738, 0.10843681, 0.15287832, 0.07146898, 0.38834433],\n",
       "       [0.24739488, 0.22650546, 0.31933597, 0.14928616, 0.8111831 ],\n",
       "       [0.18327437, 0.16779912, 0.23656955, 0.11059374, 0.60093833],\n",
       "       [0.14411071, 0.13194235, 0.18601732, 0.08696111, 0.47252462],\n",
       "       [0.20585988, 0.18847757, 0.26572281, 0.12422258, 0.67499396]])"
      ]
     },
     "execution_count": 82,
     "metadata": {},
     "output_type": "execute_result"
    }
   ],
   "source": [
    "# G2*F2\n",
    "# X matrix related to factor2\n",
    "np.matmul(np.reshape(G[:,1],(-1,1)),np.reshape(F[1,:],(1,-1)))"
   ]
  },
  {
   "cell_type": "code",
   "execution_count": 83,
   "metadata": {},
   "outputs": [
    {
     "data": {
      "text/plain": [
       "array([[0.14699461, 0.40022956, 0.00674079, 0.31342053, 0.57703959],\n",
       "       [0.15591812, 0.42452603, 0.00715   , 0.33244714, 0.61206955],\n",
       "       [0.05297617, 0.14424086, 0.00242935, 0.11295529, 0.20796237],\n",
       "       [0.13976561, 0.38054679, 0.00640929, 0.29800691, 0.54866154],\n",
       "       [0.05616606, 0.15292612, 0.00257563, 0.11975674, 0.22048453],\n",
       "       [0.16956825, 0.46169194, 0.00777596, 0.36155183, 0.6656543 ],\n",
       "       [0.08282582, 0.225514  , 0.00379818, 0.17660044, 0.32513966],\n",
       "       [0.08986794, 0.24468792, 0.00412111, 0.19161557, 0.35278408],\n",
       "       [0.03254102, 0.08860106, 0.00149225, 0.06938366, 0.12774249],\n",
       "       [0.1359593 , 0.37018316, 0.00623474, 0.28989113, 0.53371954]])"
      ]
     },
     "execution_count": 83,
     "metadata": {},
     "output_type": "execute_result"
    }
   ],
   "source": [
    "# G3*F3\n",
    "# X matrix related to factor3\n",
    "np.matmul(np.reshape(G[:,2],(-1,1)),np.reshape(F[2,:],(1,-1)))"
   ]
  },
  {
   "cell_type": "code",
   "execution_count": null,
   "metadata": {},
   "outputs": [],
   "source": []
  },
  {
   "cell_type": "code",
   "execution_count": null,
   "metadata": {},
   "outputs": [],
   "source": []
  },
  {
   "cell_type": "code",
   "execution_count": null,
   "metadata": {},
   "outputs": [],
   "source": []
  },
  {
   "cell_type": "code",
   "execution_count": null,
   "metadata": {},
   "outputs": [],
   "source": []
  },
  {
   "cell_type": "code",
   "execution_count": null,
   "metadata": {},
   "outputs": [],
   "source": [
    "# change Q1"
   ]
  },
  {
   "cell_type": "code",
   "execution_count": 232,
   "metadata": {},
   "outputs": [],
   "source": [
    "import operator as op\n",
    "from functools import reduce\n",
    "\n",
    "def nck(n, k):\n",
    "    k = min(k, n-k)\n",
    "    numer = reduce(op.mul, range(n, n-k, -1), 1)\n",
    "    denom = reduce(op.mul, range(1, k+1), 1)\n",
    "    return numer / denom"
   ]
  },
  {
   "cell_type": "code",
   "execution_count": 233,
   "metadata": {},
   "outputs": [],
   "source": [
    "p = 0.8 #probability to ruin a toy\n",
    "q = 1-p\n",
    "n = 8 # number of toys each kid got\n",
    "k = 6 #at least number of toys"
   ]
  },
  {
   "cell_type": "code",
   "execution_count": 234,
   "metadata": {},
   "outputs": [],
   "source": [
    "no_toys_a_kid_ruins_a_day = 0\n",
    "for i in range(k,n+1):\n",
    "    no_toys_a_kid_ruins_a_day = no_toys_a_kid_ruins_a_day + nck(n,i)*(p**i)*(q**(n-i))"
   ]
  },
  {
   "cell_type": "code",
   "execution_count": 235,
   "metadata": {},
   "outputs": [
    {
     "data": {
      "text/plain": [
       "0.79691776"
      ]
     },
     "execution_count": 235,
     "metadata": {},
     "output_type": "execute_result"
    }
   ],
   "source": [
    "no_toys_a_kid_ruins_a_day"
   ]
  },
  {
   "cell_type": "code",
   "execution_count": 236,
   "metadata": {},
   "outputs": [],
   "source": [
    "p1 = no_toys_a_kid_ruins_a_day\n",
    "q1 = 1-p1\n",
    "n1 = 11 # number of kids yudicolus have\n",
    "k1 = 9 # at least number of kids"
   ]
  },
  {
   "cell_type": "code",
   "execution_count": 237,
   "metadata": {},
   "outputs": [],
   "source": [
    "no_kids = 0\n",
    "for i in range(k1,n1+1):\n",
    "    no_kids = no_kids + nck(n1,i)*(p1**i)*(q1**(n1-i))"
   ]
  },
  {
   "cell_type": "code",
   "execution_count": 238,
   "metadata": {},
   "outputs": [
    {
     "data": {
      "text/plain": [
       "0.607163697719032"
      ]
     },
     "execution_count": 238,
     "metadata": {},
     "output_type": "execute_result"
    }
   ],
   "source": [
    "no_kids"
   ]
  },
  {
   "cell_type": "code",
   "execution_count": null,
   "metadata": {},
   "outputs": [],
   "source": [
    "# change Q2"
   ]
  },
  {
   "cell_type": "code",
   "execution_count": 241,
   "metadata": {},
   "outputs": [
    {
     "data": {
      "text/plain": [
       "0.027040137309141496"
      ]
     },
     "execution_count": 241,
     "metadata": {},
     "output_type": "execute_result"
    }
   ],
   "source": [
    "balls=26\n",
    "winning=11\n",
    "\n",
    "p = winning/balls\n",
    "q=1-p\n",
    "#a\n",
    "n = 6\n",
    "(1-p)**(n-1)*p #probability to only extract winning in the nth trial"
   ]
  },
  {
   "cell_type": "code",
   "execution_count": 242,
   "metadata": {},
   "outputs": [
    {
     "data": {
      "text/plain": [
       "2.3636363636363638"
      ]
     },
     "execution_count": 242,
     "metadata": {},
     "output_type": "execute_result"
    }
   ],
   "source": [
    "#b #E\n",
    "1/p"
   ]
  },
  {
   "cell_type": "code",
   "execution_count": 243,
   "metadata": {},
   "outputs": [
    {
     "data": {
      "text/plain": [
       "3.2231404958677685"
      ]
     },
     "execution_count": 243,
     "metadata": {},
     "output_type": "execute_result"
    }
   ],
   "source": [
    "#b2 #Var\n",
    "q/(p**2)"
   ]
  },
  {
   "cell_type": "code",
   "execution_count": 244,
   "metadata": {},
   "outputs": [
    {
     "data": {
      "text/plain": [
       "0.1408170232134729"
      ]
     },
     "execution_count": 244,
     "metadata": {},
     "output_type": "execute_result"
    }
   ],
   "source": [
    "until = 3\n",
    "k = 10 \n",
    "\n",
    "p*q**(until-1)"
   ]
  },
  {
   "cell_type": "code",
   "execution_count": null,
   "metadata": {},
   "outputs": [],
   "source": []
  },
  {
   "cell_type": "code",
   "execution_count": 245,
   "metadata": {},
   "outputs": [],
   "source": [
    "# import datetime\n",
    "# import numpy as np\n",
    "# import pandas as pd\n",
    "\n",
    "# import plotly.graph_objects as go\n",
    "# from ipywidgets import widgets"
   ]
  },
  {
   "cell_type": "code",
   "execution_count": 248,
   "metadata": {},
   "outputs": [],
   "source": [
    "# df = pd.read_csv('https://raw.githubusercontent.com/yankev/testing/master/datasets/nycflights.csv')\n",
    "# df = df.drop(df.columns[[0]], axis=1)"
   ]
  },
  {
   "cell_type": "code",
   "execution_count": 255,
   "metadata": {},
   "outputs": [],
   "source": [
    "# df = pd.DataFrame([[2013,9,19,1846.0,16.0,2250.0,np.NAN,'DL','N909DL',2391,'JFK','TPA',np.NAN],\n",
    "#                    [2012,2,1,1146.0,0,1350.0,-11,'FL','N969AT',353,'LGA','CAK',65]],columns =\n",
    "#                   ['year','month','day','dep_time','dep_delay','arr_time','arr_delay','carrier','tailnum',\n",
    "#                    'flight','origin','dest','air_time'])"
   ]
  },
  {
   "cell_type": "code",
   "execution_count": 256,
   "metadata": {},
   "outputs": [
    {
     "data": {
      "text/html": [
       "<div>\n",
       "<style scoped>\n",
       "    .dataframe tbody tr th:only-of-type {\n",
       "        vertical-align: middle;\n",
       "    }\n",
       "\n",
       "    .dataframe tbody tr th {\n",
       "        vertical-align: top;\n",
       "    }\n",
       "\n",
       "    .dataframe thead th {\n",
       "        text-align: right;\n",
       "    }\n",
       "</style>\n",
       "<table border=\"1\" class=\"dataframe\">\n",
       "  <thead>\n",
       "    <tr style=\"text-align: right;\">\n",
       "      <th></th>\n",
       "      <th>year</th>\n",
       "      <th>month</th>\n",
       "      <th>day</th>\n",
       "      <th>dep_time</th>\n",
       "      <th>dep_delay</th>\n",
       "      <th>arr_time</th>\n",
       "      <th>arr_delay</th>\n",
       "      <th>carrier</th>\n",
       "      <th>tailnum</th>\n",
       "      <th>flight</th>\n",
       "      <th>origin</th>\n",
       "      <th>dest</th>\n",
       "      <th>air_time</th>\n",
       "    </tr>\n",
       "  </thead>\n",
       "  <tbody>\n",
       "    <tr>\n",
       "      <th>0</th>\n",
       "      <td>2013</td>\n",
       "      <td>9</td>\n",
       "      <td>19</td>\n",
       "      <td>1846.0</td>\n",
       "      <td>16.0</td>\n",
       "      <td>2250.0</td>\n",
       "      <td>NaN</td>\n",
       "      <td>DL</td>\n",
       "      <td>N909DL</td>\n",
       "      <td>2391</td>\n",
       "      <td>JFK</td>\n",
       "      <td>TPA</td>\n",
       "      <td>NaN</td>\n",
       "    </tr>\n",
       "    <tr>\n",
       "      <th>1</th>\n",
       "      <td>2012</td>\n",
       "      <td>2</td>\n",
       "      <td>1</td>\n",
       "      <td>1146.0</td>\n",
       "      <td>0.0</td>\n",
       "      <td>1350.0</td>\n",
       "      <td>-11.0</td>\n",
       "      <td>FL</td>\n",
       "      <td>N969AT</td>\n",
       "      <td>353</td>\n",
       "      <td>LGA</td>\n",
       "      <td>CAK</td>\n",
       "      <td>65.0</td>\n",
       "    </tr>\n",
       "  </tbody>\n",
       "</table>\n",
       "</div>"
      ],
      "text/plain": [
       "   year  month  day  dep_time  dep_delay  arr_time  arr_delay carrier tailnum  \\\n",
       "0  2013      9   19    1846.0       16.0    2250.0        NaN      DL  N909DL   \n",
       "1  2012      2    1    1146.0        0.0    1350.0      -11.0      FL  N969AT   \n",
       "\n",
       "   flight origin dest  air_time  \n",
       "0    2391    JFK  TPA       NaN  \n",
       "1     353    LGA  CAK      65.0  "
      ]
     },
     "execution_count": 256,
     "metadata": {},
     "output_type": "execute_result"
    }
   ],
   "source": [
    "# df"
   ]
  },
  {
   "cell_type": "code",
   "execution_count": null,
   "metadata": {},
   "outputs": [],
   "source": []
  },
  {
   "cell_type": "markdown",
   "metadata": {},
   "source": [
    "# Import"
   ]
  },
  {
   "cell_type": "code",
   "execution_count": 1,
   "metadata": {},
   "outputs": [],
   "source": [
    "import requests\n",
    "import pandas as pd\n",
    "import numpy as np\n",
    "import json\n",
    "from pandas.io.json import json_normalize\n",
    "from datetime import datetime, timedelta\n",
    "from dateutil.relativedelta import relativedelta\n",
    "from matplotlib import pyplot as plt\n",
    "import matplotlib.cm as cm\n",
    "import itertools\n",
    "import metpy as mp\n",
    "import metpy.calc as mpcalc\n",
    "import plotly as py\n",
    "import plotly.graph_objs as go\n",
    "import plotly.figure_factory as ff\n",
    "from scipy import special\n",
    "import ipywidgets as widgets\n",
    "from metpy.units import units\n",
    "\n",
    "\n",
    "from IPython.core.interactiveshell import InteractiveShell\n",
    "InteractiveShell.ast_node_interactivity = \"all\"\n",
    "%config InlineBackend.figure_format = 'retina'"
   ]
  },
  {
   "cell_type": "markdown",
   "metadata": {},
   "source": [
    "# Functions "
   ]
  },
  {
   "cell_type": "code",
   "execution_count": 93,
   "metadata": {},
   "outputs": [],
   "source": [
    "# extraction is in UTC time. it gives you results for UTC time. \n",
    "# the true corresponding time in Israel it was 2 or 3 hours later\n",
    "def get_station_props():\n",
    "    station_names = []\n",
    "    station_ids = []\n",
    "    station_latitude = []\n",
    "    station_longitude = []\n",
    "    myUrl = 'https://api.svivaaqm.net/v1/envista/stations/?from=2019-11-01T00:00&to=2019/11/01T00:30'\n",
    "    head = {'Authorization': 'ApiToken {}'.format(myToken), 'envi-data-source': 'MANA'}\n",
    "    response = requests.get(myUrl, headers=head)\n",
    "    j_response = response.json()\n",
    "    for row in j_response:\n",
    "        station_ids.append(row['stationId'])\n",
    "        station_names.append(row['name'])\n",
    "        station_latitude.append(row['location']['latitude'])\n",
    "        station_longitude.append(row['location']['longitude'])\n",
    "    return station_ids,station_names,station_latitude,station_longitude\n",
    "\n",
    "def get_data_by_stationId(from_date, to_date, stationId):\n",
    "    myUrl = 'https://api.svivaaqm.net/v1/envista/stations/'+stationId+'/data?from='+from_date+'&to='+to_date\n",
    "    head = {'Authorization': 'ApiToken {}'.format(myToken), 'envi-data-source': 'MANA'}\n",
    "    response = requests.get(myUrl, headers=head)\n",
    "    return response\n",
    "\n",
    "# use this to get column names and units of the station\n",
    "def get_column_names(stationId):\n",
    "    myUrl = 'https://api.svivaaqm.net/v1/envista/stations/'+stationId+'?from=2019-12-01T00:00&to=2019/12/01T00:06'\n",
    "    head = {'Authorization': 'ApiToken {}'.format(myToken), 'envi-data-source': 'MANA'}\n",
    "    response = requests.get(myUrl, headers=head)\n",
    "    # units\n",
    "    extract = response.json()['monitors']\n",
    "    units = dict()\n",
    "    for e in extract:\n",
    "        units.update({e['name']:e['units']})\n",
    "    column_names = [i + ' [' + j +']' for i, j in units.items()]\n",
    "    return list(units.keys()), column_names\n",
    "\n",
    "\n",
    "def get_dataFrame(dict_train,stationId):\n",
    "    dates = []\n",
    "    for row in dict_train:\n",
    "        dates.append(row['datetime'])\n",
    "\n",
    "    pollutants = []\n",
    "    for row in dict_train:\n",
    "        pollutant = dict()\n",
    "        for p in row['channels']:\n",
    "            pollutant.update({p['name']:p['value']})\n",
    "        pollutants.append(pollutant)\n",
    "\n",
    "    cols, station_columns = get_column_names(str(stationId))\n",
    "\n",
    "    total_list = []\n",
    "    for c in cols: #number of columns(j)\n",
    "        vals = []\n",
    "        for p in pollutants: #number of rows or values(i)\n",
    "            if p[c] is not None:\n",
    "                vals.append(p[c])\n",
    "            else:\n",
    "                vals.append(np.NaN)\n",
    "        total_list.append(vals)\n",
    "\n",
    "    data_df = pd.DataFrame(np.transpose(total_list), index = pd.to_datetime(dates,utc=True).tz_convert('Israel'), columns = station_columns)\n",
    "    \n",
    "    return data_df"
   ]
  },
  {
   "cell_type": "code",
   "execution_count": 94,
   "metadata": {},
   "outputs": [],
   "source": [
    "myToken = '71e67c41-8478-4310-9293-196f559493ca'"
   ]
  },
  {
   "cell_type": "code",
   "execution_count": 95,
   "metadata": {},
   "outputs": [],
   "source": [
    "# get a list of station names, ids, latitude and longitude\n",
    "station_ids,station_names,station_latitude, station_longitude = get_station_props()"
   ]
  },
  {
   "cell_type": "code",
   "execution_count": null,
   "metadata": {},
   "outputs": [],
   "source": [
    "# constract a dataframe of station properties"
   ]
  },
  {
   "cell_type": "code",
   "execution_count": 101,
   "metadata": {},
   "outputs": [],
   "source": [
    "prop_df = pd.DataFrame(np.transpose([station_ids,station_names,station_latitude,station_longitude]), columns = ['station_ids','station_names','station_latitude','station_longitude'])"
   ]
  },
  {
   "cell_type": "code",
   "execution_count": 102,
   "metadata": {},
   "outputs": [
    {
     "data": {
      "text/html": [
       "<div>\n",
       "<style scoped>\n",
       "    .dataframe tbody tr th:only-of-type {\n",
       "        vertical-align: middle;\n",
       "    }\n",
       "\n",
       "    .dataframe tbody tr th {\n",
       "        vertical-align: top;\n",
       "    }\n",
       "\n",
       "    .dataframe thead th {\n",
       "        text-align: right;\n",
       "    }\n",
       "</style>\n",
       "<table border=\"1\" class=\"dataframe\">\n",
       "  <thead>\n",
       "    <tr style=\"text-align: right;\">\n",
       "      <th></th>\n",
       "      <th>station_ids</th>\n",
       "      <th>station_names</th>\n",
       "      <th>station_latitude</th>\n",
       "      <th>station_longitude</th>\n",
       "    </tr>\n",
       "  </thead>\n",
       "  <tbody>\n",
       "    <tr>\n",
       "      <th>0</th>\n",
       "      <td>1</td>\n",
       "      <td>עפולה</td>\n",
       "      <td>32.6033</td>\n",
       "      <td>35.291</td>\n",
       "    </tr>\n",
       "    <tr>\n",
       "      <th>1</th>\n",
       "      <td>2</td>\n",
       "      <td>עמיאל</td>\n",
       "      <td>32.047</td>\n",
       "      <td>34.7926</td>\n",
       "    </tr>\n",
       "    <tr>\n",
       "      <th>2</th>\n",
       "      <td>3</td>\n",
       "      <td>אריאל</td>\n",
       "      <td>32.1035</td>\n",
       "      <td>35.1678</td>\n",
       "    </tr>\n",
       "    <tr>\n",
       "      <th>3</th>\n",
       "      <td>5</td>\n",
       "      <td>בר אילן -י''ם</td>\n",
       "      <td>31.7945</td>\n",
       "      <td>35.22</td>\n",
       "    </tr>\n",
       "    <tr>\n",
       "      <th>4</th>\n",
       "      <td>6</td>\n",
       "      <td>באר שבע</td>\n",
       "      <td>31.2567</td>\n",
       "      <td>34.7813</td>\n",
       "    </tr>\n",
       "    <tr>\n",
       "      <th>...</th>\n",
       "      <td>...</td>\n",
       "      <td>...</td>\n",
       "      <td>...</td>\n",
       "      <td>...</td>\n",
       "    </tr>\n",
       "    <tr>\n",
       "      <th>153</th>\n",
       "      <td>465</td>\n",
       "      <td>אלעד</td>\n",
       "      <td>32.0593</td>\n",
       "      <td>34.9517</td>\n",
       "    </tr>\n",
       "    <tr>\n",
       "      <th>154</th>\n",
       "      <td>467</td>\n",
       "      <td>לב אשדוד</td>\n",
       "      <td>31.7969</td>\n",
       "      <td>34.6483</td>\n",
       "    </tr>\n",
       "    <tr>\n",
       "      <th>155</th>\n",
       "      <td>468</td>\n",
       "      <td>אביגדור</td>\n",
       "      <td>31.711</td>\n",
       "      <td>34.745</td>\n",
       "    </tr>\n",
       "    <tr>\n",
       "      <th>156</th>\n",
       "      <td>469</td>\n",
       "      <td>תימורים</td>\n",
       "      <td>31.7159</td>\n",
       "      <td>34.7552</td>\n",
       "    </tr>\n",
       "    <tr>\n",
       "      <th>157</th>\n",
       "      <td>472</td>\n",
       "      <td>נחשולים</td>\n",
       "      <td>32.6139</td>\n",
       "      <td>34.9182</td>\n",
       "    </tr>\n",
       "  </tbody>\n",
       "</table>\n",
       "<p>158 rows × 4 columns</p>\n",
       "</div>"
      ],
      "text/plain": [
       "    station_ids  station_names station_latitude station_longitude\n",
       "0             1          עפולה          32.6033            35.291\n",
       "1             2          עמיאל           32.047           34.7926\n",
       "2             3          אריאל          32.1035           35.1678\n",
       "3             5  בר אילן -י''ם          31.7945             35.22\n",
       "4             6        באר שבע          31.2567           34.7813\n",
       "..          ...            ...              ...               ...\n",
       "153         465           אלעד          32.0593           34.9517\n",
       "154         467       לב אשדוד          31.7969           34.6483\n",
       "155         468        אביגדור           31.711            34.745\n",
       "156         469        תימורים          31.7159           34.7552\n",
       "157         472        נחשולים          32.6139           34.9182\n",
       "\n",
       "[158 rows x 4 columns]"
      ]
     },
     "execution_count": 102,
     "metadata": {},
     "output_type": "execute_result"
    }
   ],
   "source": [
    "df.set_index('month')"
   ]
  },
  {
   "cell_type": "code",
   "execution_count": null,
   "metadata": {},
   "outputs": [],
   "source": []
  },
  {
   "cell_type": "code",
   "execution_count": 92,
   "metadata": {},
   "outputs": [],
   "source": [
    "# extract all stations info for the last X time by days"
   ]
  },
  {
   "cell_type": "code",
   "execution_count": 53,
   "metadata": {},
   "outputs": [],
   "source": [
    "# getting data of last x months or days (in LOCAL TIME (now) or UTC time (utcnow)) for a specific station\n",
    "num_days = 30\n",
    "to_time = pd.Timestamp.utcnow().to_pydatetime().strftime('%Y-%m-%dT%H:%M')\n",
    "from_time = (pd.Timestamp.utcnow().to_pydatetime() - relativedelta(days=num_days)).strftime('%Y-%m-%dT%H:%M')"
   ]
  },
  {
   "cell_type": "code",
   "execution_count": 55,
   "metadata": {},
   "outputs": [],
   "source": [
    "for SI in str(station_ids[0]):\n",
    "    stationData = get_data_by_stationId(from_time, to_time,SI)"
   ]
  },
  {
   "cell_type": "code",
   "execution_count": 56,
   "metadata": {},
   "outputs": [
    {
     "data": {
      "text/plain": [
       "<Response [200]>"
      ]
     },
     "execution_count": 56,
     "metadata": {},
     "output_type": "execute_result"
    }
   ],
   "source": [
    "stationData"
   ]
  },
  {
   "cell_type": "code",
   "execution_count": 57,
   "metadata": {},
   "outputs": [],
   "source": [
    "dict_train = stationData.json()['data']\n",
    "df1 = get_dataFrame(dict_train,SI)"
   ]
  },
  {
   "cell_type": "code",
   "execution_count": 59,
   "metadata": {},
   "outputs": [
    {
     "data": {
      "text/html": [
       "<div>\n",
       "<style scoped>\n",
       "    .dataframe tbody tr th:only-of-type {\n",
       "        vertical-align: middle;\n",
       "    }\n",
       "\n",
       "    .dataframe tbody tr th {\n",
       "        vertical-align: top;\n",
       "    }\n",
       "\n",
       "    .dataframe thead th {\n",
       "        text-align: right;\n",
       "    }\n",
       "</style>\n",
       "<table border=\"1\" class=\"dataframe\">\n",
       "  <thead>\n",
       "    <tr style=\"text-align: right;\">\n",
       "      <th></th>\n",
       "      <th>SO2 [ppb]</th>\n",
       "      <th>No [ppb]</th>\n",
       "      <th>Nox [ppb]</th>\n",
       "      <th>No2 [ppb]</th>\n",
       "      <th>O3 [ppb]</th>\n",
       "      <th>PM10 [µg/m3]</th>\n",
       "      <th>WS [m/sec]</th>\n",
       "      <th>WD [deg]</th>\n",
       "      <th>Temp [°c]</th>\n",
       "      <th>RH [%]</th>\n",
       "      <th>GSR [w/m2]</th>\n",
       "      <th>StWd [deg]</th>\n",
       "      <th>PM2.5 [µg/m3]</th>\n",
       "    </tr>\n",
       "  </thead>\n",
       "  <tbody>\n",
       "    <tr>\n",
       "      <th>2020-04-21 10:55:00+03:00</th>\n",
       "      <td>1.6</td>\n",
       "      <td>2.4</td>\n",
       "      <td>13.8</td>\n",
       "      <td>11.4</td>\n",
       "      <td>48.5</td>\n",
       "      <td>44.0</td>\n",
       "      <td>2.4</td>\n",
       "      <td>157.0</td>\n",
       "      <td>26.0</td>\n",
       "      <td>52.0</td>\n",
       "      <td>974.5</td>\n",
       "      <td>18.6</td>\n",
       "      <td>-9999.0</td>\n",
       "    </tr>\n",
       "    <tr>\n",
       "      <th>2020-04-21 11:00:00+03:00</th>\n",
       "      <td>1.4</td>\n",
       "      <td>1.9</td>\n",
       "      <td>11.5</td>\n",
       "      <td>9.6</td>\n",
       "      <td>48.3</td>\n",
       "      <td>44.0</td>\n",
       "      <td>2.3</td>\n",
       "      <td>120.0</td>\n",
       "      <td>26.0</td>\n",
       "      <td>52.0</td>\n",
       "      <td>964.5</td>\n",
       "      <td>16.9</td>\n",
       "      <td>-9999.0</td>\n",
       "    </tr>\n",
       "    <tr>\n",
       "      <th>2020-04-21 11:05:00+03:00</th>\n",
       "      <td>1.3</td>\n",
       "      <td>2.4</td>\n",
       "      <td>13.3</td>\n",
       "      <td>10.9</td>\n",
       "      <td>46.9</td>\n",
       "      <td>44.0</td>\n",
       "      <td>1.9</td>\n",
       "      <td>134.0</td>\n",
       "      <td>26.3</td>\n",
       "      <td>53.0</td>\n",
       "      <td>961.8</td>\n",
       "      <td>22.4</td>\n",
       "      <td>-9999.0</td>\n",
       "    </tr>\n",
       "    <tr>\n",
       "      <th>2020-04-21 11:10:00+03:00</th>\n",
       "      <td>1.4</td>\n",
       "      <td>2.2</td>\n",
       "      <td>11.5</td>\n",
       "      <td>9.4</td>\n",
       "      <td>48.9</td>\n",
       "      <td>44.0</td>\n",
       "      <td>2.7</td>\n",
       "      <td>134.0</td>\n",
       "      <td>26.2</td>\n",
       "      <td>52.0</td>\n",
       "      <td>921.3</td>\n",
       "      <td>13.6</td>\n",
       "      <td>-9999.0</td>\n",
       "    </tr>\n",
       "    <tr>\n",
       "      <th>2020-04-21 11:15:00+03:00</th>\n",
       "      <td>1.4</td>\n",
       "      <td>1.6</td>\n",
       "      <td>10.8</td>\n",
       "      <td>8.9</td>\n",
       "      <td>47.3</td>\n",
       "      <td>44.0</td>\n",
       "      <td>2.5</td>\n",
       "      <td>139.0</td>\n",
       "      <td>26.0</td>\n",
       "      <td>54.0</td>\n",
       "      <td>897.3</td>\n",
       "      <td>12.9</td>\n",
       "      <td>-9999.0</td>\n",
       "    </tr>\n",
       "  </tbody>\n",
       "</table>\n",
       "</div>"
      ],
      "text/plain": [
       "                           SO2 [ppb]  No [ppb]  Nox [ppb]  No2 [ppb]  \\\n",
       "2020-04-21 10:55:00+03:00        1.6       2.4       13.8       11.4   \n",
       "2020-04-21 11:00:00+03:00        1.4       1.9       11.5        9.6   \n",
       "2020-04-21 11:05:00+03:00        1.3       2.4       13.3       10.9   \n",
       "2020-04-21 11:10:00+03:00        1.4       2.2       11.5        9.4   \n",
       "2020-04-21 11:15:00+03:00        1.4       1.6       10.8        8.9   \n",
       "\n",
       "                           O3 [ppb]  PM10 [µg/m3]  WS [m/sec]  WD [deg]  \\\n",
       "2020-04-21 10:55:00+03:00      48.5          44.0         2.4     157.0   \n",
       "2020-04-21 11:00:00+03:00      48.3          44.0         2.3     120.0   \n",
       "2020-04-21 11:05:00+03:00      46.9          44.0         1.9     134.0   \n",
       "2020-04-21 11:10:00+03:00      48.9          44.0         2.7     134.0   \n",
       "2020-04-21 11:15:00+03:00      47.3          44.0         2.5     139.0   \n",
       "\n",
       "                           Temp [°c]  RH [%]  GSR [w/m2]  StWd [deg]  \\\n",
       "2020-04-21 10:55:00+03:00       26.0    52.0       974.5        18.6   \n",
       "2020-04-21 11:00:00+03:00       26.0    52.0       964.5        16.9   \n",
       "2020-04-21 11:05:00+03:00       26.3    53.0       961.8        22.4   \n",
       "2020-04-21 11:10:00+03:00       26.2    52.0       921.3        13.6   \n",
       "2020-04-21 11:15:00+03:00       26.0    54.0       897.3        12.9   \n",
       "\n",
       "                           PM2.5 [µg/m3]  \n",
       "2020-04-21 10:55:00+03:00        -9999.0  \n",
       "2020-04-21 11:00:00+03:00        -9999.0  \n",
       "2020-04-21 11:05:00+03:00        -9999.0  \n",
       "2020-04-21 11:10:00+03:00        -9999.0  \n",
       "2020-04-21 11:15:00+03:00        -9999.0  "
      ]
     },
     "execution_count": 59,
     "metadata": {},
     "output_type": "execute_result"
    }
   ],
   "source": [
    "df1.tail()"
   ]
  },
  {
   "cell_type": "code",
   "execution_count": null,
   "metadata": {},
   "outputs": [],
   "source": []
  }
 ],
 "metadata": {
  "kernelspec": {
   "display_name": "Python 3",
   "language": "python",
   "name": "python3"
  },
  "language_info": {
   "codemirror_mode": {
    "name": "ipython",
    "version": 3
   },
   "file_extension": ".py",
   "mimetype": "text/x-python",
   "name": "python",
   "nbconvert_exporter": "python",
   "pygments_lexer": "ipython3",
   "version": "3.6.4"
  }
 },
 "nbformat": 4,
 "nbformat_minor": 2
}
