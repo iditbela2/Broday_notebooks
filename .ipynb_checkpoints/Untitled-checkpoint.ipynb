{
 "cells": [
  {
   "cell_type": "code",
   "execution_count": 27,
   "metadata": {},
   "outputs": [],
   "source": [
    "import numpy as np\n",
    "import pandas as pd\n",
    "from factanal.wrapper import factanal\n",
    "from scipy.stats import zscore\n"
   ]
  },
  {
   "cell_type": "code",
   "execution_count": 28,
   "metadata": {},
   "outputs": [],
   "source": [
    "np.random.seed(0)\n",
    "rand_df = pd.DataFrame(np.random.randn(20, 6), columns=list('ABCDEF'))"
   ]
  },
  {
   "cell_type": "code",
   "execution_count": 29,
   "metadata": {},
   "outputs": [
    {
     "data": {
      "text/html": [
       "<div>\n",
       "<style scoped>\n",
       "    .dataframe tbody tr th:only-of-type {\n",
       "        vertical-align: middle;\n",
       "    }\n",
       "\n",
       "    .dataframe tbody tr th {\n",
       "        vertical-align: top;\n",
       "    }\n",
       "\n",
       "    .dataframe thead th {\n",
       "        text-align: right;\n",
       "    }\n",
       "</style>\n",
       "<table border=\"1\" class=\"dataframe\">\n",
       "  <thead>\n",
       "    <tr style=\"text-align: right;\">\n",
       "      <th></th>\n",
       "      <th>A</th>\n",
       "      <th>B</th>\n",
       "      <th>C</th>\n",
       "      <th>D</th>\n",
       "      <th>E</th>\n",
       "      <th>F</th>\n",
       "    </tr>\n",
       "  </thead>\n",
       "  <tbody>\n",
       "    <tr>\n",
       "      <th>0</th>\n",
       "      <td>1.764052</td>\n",
       "      <td>0.400157</td>\n",
       "      <td>0.978738</td>\n",
       "      <td>2.240893</td>\n",
       "      <td>1.867558</td>\n",
       "      <td>-0.977278</td>\n",
       "    </tr>\n",
       "    <tr>\n",
       "      <th>1</th>\n",
       "      <td>0.950088</td>\n",
       "      <td>-0.151357</td>\n",
       "      <td>-0.103219</td>\n",
       "      <td>0.410599</td>\n",
       "      <td>0.144044</td>\n",
       "      <td>1.454274</td>\n",
       "    </tr>\n",
       "    <tr>\n",
       "      <th>2</th>\n",
       "      <td>0.761038</td>\n",
       "      <td>0.121675</td>\n",
       "      <td>0.443863</td>\n",
       "      <td>0.333674</td>\n",
       "      <td>1.494079</td>\n",
       "      <td>-0.205158</td>\n",
       "    </tr>\n",
       "    <tr>\n",
       "      <th>3</th>\n",
       "      <td>0.313068</td>\n",
       "      <td>-0.854096</td>\n",
       "      <td>-2.552990</td>\n",
       "      <td>0.653619</td>\n",
       "      <td>0.864436</td>\n",
       "      <td>-0.742165</td>\n",
       "    </tr>\n",
       "    <tr>\n",
       "      <th>4</th>\n",
       "      <td>2.269755</td>\n",
       "      <td>-1.454366</td>\n",
       "      <td>0.045759</td>\n",
       "      <td>-0.187184</td>\n",
       "      <td>1.532779</td>\n",
       "      <td>1.469359</td>\n",
       "    </tr>\n",
       "    <tr>\n",
       "      <th>5</th>\n",
       "      <td>0.154947</td>\n",
       "      <td>0.378163</td>\n",
       "      <td>-0.887786</td>\n",
       "      <td>-1.980796</td>\n",
       "      <td>-0.347912</td>\n",
       "      <td>0.156349</td>\n",
       "    </tr>\n",
       "    <tr>\n",
       "      <th>6</th>\n",
       "      <td>1.230291</td>\n",
       "      <td>1.202380</td>\n",
       "      <td>-0.387327</td>\n",
       "      <td>-0.302303</td>\n",
       "      <td>-1.048553</td>\n",
       "      <td>-1.420018</td>\n",
       "    </tr>\n",
       "    <tr>\n",
       "      <th>7</th>\n",
       "      <td>-1.706270</td>\n",
       "      <td>1.950775</td>\n",
       "      <td>-0.509652</td>\n",
       "      <td>-0.438074</td>\n",
       "      <td>-1.252795</td>\n",
       "      <td>0.777490</td>\n",
       "    </tr>\n",
       "    <tr>\n",
       "      <th>8</th>\n",
       "      <td>-1.613898</td>\n",
       "      <td>-0.212740</td>\n",
       "      <td>-0.895467</td>\n",
       "      <td>0.386902</td>\n",
       "      <td>-0.510805</td>\n",
       "      <td>-1.180632</td>\n",
       "    </tr>\n",
       "    <tr>\n",
       "      <th>9</th>\n",
       "      <td>-0.028182</td>\n",
       "      <td>0.428332</td>\n",
       "      <td>0.066517</td>\n",
       "      <td>0.302472</td>\n",
       "      <td>-0.634322</td>\n",
       "      <td>-0.362741</td>\n",
       "    </tr>\n",
       "    <tr>\n",
       "      <th>10</th>\n",
       "      <td>-0.672460</td>\n",
       "      <td>-0.359553</td>\n",
       "      <td>-0.813146</td>\n",
       "      <td>-1.726283</td>\n",
       "      <td>0.177426</td>\n",
       "      <td>-0.401781</td>\n",
       "    </tr>\n",
       "    <tr>\n",
       "      <th>11</th>\n",
       "      <td>-1.630198</td>\n",
       "      <td>0.462782</td>\n",
       "      <td>-0.907298</td>\n",
       "      <td>0.051945</td>\n",
       "      <td>0.729091</td>\n",
       "      <td>0.128983</td>\n",
       "    </tr>\n",
       "    <tr>\n",
       "      <th>12</th>\n",
       "      <td>1.139401</td>\n",
       "      <td>-1.234826</td>\n",
       "      <td>0.402342</td>\n",
       "      <td>-0.684810</td>\n",
       "      <td>-0.870797</td>\n",
       "      <td>-0.578850</td>\n",
       "    </tr>\n",
       "    <tr>\n",
       "      <th>13</th>\n",
       "      <td>-0.311553</td>\n",
       "      <td>0.056165</td>\n",
       "      <td>-1.165150</td>\n",
       "      <td>0.900826</td>\n",
       "      <td>0.465662</td>\n",
       "      <td>-1.536244</td>\n",
       "    </tr>\n",
       "    <tr>\n",
       "      <th>14</th>\n",
       "      <td>1.488252</td>\n",
       "      <td>1.895889</td>\n",
       "      <td>1.178780</td>\n",
       "      <td>-0.179925</td>\n",
       "      <td>-1.070753</td>\n",
       "      <td>1.054452</td>\n",
       "    </tr>\n",
       "    <tr>\n",
       "      <th>15</th>\n",
       "      <td>-0.403177</td>\n",
       "      <td>1.222445</td>\n",
       "      <td>0.208275</td>\n",
       "      <td>0.976639</td>\n",
       "      <td>0.356366</td>\n",
       "      <td>0.706573</td>\n",
       "    </tr>\n",
       "    <tr>\n",
       "      <th>16</th>\n",
       "      <td>0.010500</td>\n",
       "      <td>1.785870</td>\n",
       "      <td>0.126912</td>\n",
       "      <td>0.401989</td>\n",
       "      <td>1.883151</td>\n",
       "      <td>-1.347759</td>\n",
       "    </tr>\n",
       "    <tr>\n",
       "      <th>17</th>\n",
       "      <td>-1.270485</td>\n",
       "      <td>0.969397</td>\n",
       "      <td>-1.173123</td>\n",
       "      <td>1.943621</td>\n",
       "      <td>-0.413619</td>\n",
       "      <td>-0.747455</td>\n",
       "    </tr>\n",
       "    <tr>\n",
       "      <th>18</th>\n",
       "      <td>1.922942</td>\n",
       "      <td>1.480515</td>\n",
       "      <td>1.867559</td>\n",
       "      <td>0.906045</td>\n",
       "      <td>-0.861226</td>\n",
       "      <td>1.910065</td>\n",
       "    </tr>\n",
       "    <tr>\n",
       "      <th>19</th>\n",
       "      <td>-0.268003</td>\n",
       "      <td>0.802456</td>\n",
       "      <td>0.947252</td>\n",
       "      <td>-0.155010</td>\n",
       "      <td>0.614079</td>\n",
       "      <td>0.922207</td>\n",
       "    </tr>\n",
       "  </tbody>\n",
       "</table>\n",
       "</div>"
      ],
      "text/plain": [
       "           A         B         C         D         E         F\n",
       "0   1.764052  0.400157  0.978738  2.240893  1.867558 -0.977278\n",
       "1   0.950088 -0.151357 -0.103219  0.410599  0.144044  1.454274\n",
       "2   0.761038  0.121675  0.443863  0.333674  1.494079 -0.205158\n",
       "3   0.313068 -0.854096 -2.552990  0.653619  0.864436 -0.742165\n",
       "4   2.269755 -1.454366  0.045759 -0.187184  1.532779  1.469359\n",
       "5   0.154947  0.378163 -0.887786 -1.980796 -0.347912  0.156349\n",
       "6   1.230291  1.202380 -0.387327 -0.302303 -1.048553 -1.420018\n",
       "7  -1.706270  1.950775 -0.509652 -0.438074 -1.252795  0.777490\n",
       "8  -1.613898 -0.212740 -0.895467  0.386902 -0.510805 -1.180632\n",
       "9  -0.028182  0.428332  0.066517  0.302472 -0.634322 -0.362741\n",
       "10 -0.672460 -0.359553 -0.813146 -1.726283  0.177426 -0.401781\n",
       "11 -1.630198  0.462782 -0.907298  0.051945  0.729091  0.128983\n",
       "12  1.139401 -1.234826  0.402342 -0.684810 -0.870797 -0.578850\n",
       "13 -0.311553  0.056165 -1.165150  0.900826  0.465662 -1.536244\n",
       "14  1.488252  1.895889  1.178780 -0.179925 -1.070753  1.054452\n",
       "15 -0.403177  1.222445  0.208275  0.976639  0.356366  0.706573\n",
       "16  0.010500  1.785870  0.126912  0.401989  1.883151 -1.347759\n",
       "17 -1.270485  0.969397 -1.173123  1.943621 -0.413619 -0.747455\n",
       "18  1.922942  1.480515  1.867559  0.906045 -0.861226  1.910065\n",
       "19 -0.268003  0.802456  0.947252 -0.155010  0.614079  0.922207"
      ]
     },
     "execution_count": 29,
     "metadata": {},
     "output_type": "execute_result"
    }
   ],
   "source": [
    "rand_df"
   ]
  },
  {
   "cell_type": "code",
   "execution_count": 30,
   "metadata": {},
   "outputs": [],
   "source": [
    "NUM = 3\n",
    "rotation = 'promax'"
   ]
  },
  {
   "cell_type": "code",
   "execution_count": 31,
   "metadata": {},
   "outputs": [
    {
     "name": "stdout",
     "output_type": "stream",
     "text": [
      "Uniquenesses: \n",
      "    A     B     C     D     E     F \n",
      "0.472 0.041 0.060 0.523 0.630 0.639 \n",
      "\n",
      "Loadings:\n",
      "  Factor1 Factor2 Factor3\n",
      "A  0.654  -0.291   0.101 \n",
      "B  0.164   0.983   0.105 \n",
      "C  0.949   0.231         \n",
      "D          0.235   0.698 \n",
      "E         -0.250   0.507 \n",
      "F  0.508          -0.288 \n",
      "\n",
      "               Factor1 Factor2 Factor3\n",
      "SS loadings      1.625   1.223   0.854\n",
      "Proportion Var   0.271   0.204   0.142\n",
      "Cumulative Var   0.271   0.475   0.617\n",
      "\n",
      "Factor Correlations:\n",
      "         Factor1 Factor2 Factor3\n",
      "Factor1  1.00000 0.00595 -0.2038\n",
      "Factor2  0.00595 1.00000  0.0636\n",
      "Factor3 -0.20382 0.06358  1.0000\n",
      "\n",
      "The degrees of freedom for the model is 0 and the fit was 0 \n",
      "\n"
     ]
    }
   ],
   "source": [
    "fa = factanal(rand_df, factors=NUM, scores='regression', rotation=rotation, \n",
    "              verbose=True, return_dict=True)"
   ]
  },
  {
   "cell_type": "code",
   "execution_count": 33,
   "metadata": {},
   "outputs": [],
   "source": [
    "pattern_Loadings = np.array(fa['loadings'])\n",
    "scores = np.array(fa['scores']) \n",
    "rotmat = np.array(fa['rotmat'])"
   ]
  },
  {
   "cell_type": "code",
   "execution_count": 34,
   "metadata": {},
   "outputs": [
    {
     "data": {
      "text/plain": [
       "array([[ 0.65413773, -0.29060985,  0.10060954],\n",
       "       [ 0.16406726,  0.98347749,  0.1048262 ],\n",
       "       [ 0.94883748,  0.2310194 ,  0.07713397],\n",
       "       [ 0.09764273,  0.23457859,  0.69837398],\n",
       "       [ 0.03950203, -0.25003314,  0.50655048],\n",
       "       [ 0.50831548,  0.01157763, -0.28809142]])"
      ]
     },
     "execution_count": 34,
     "metadata": {},
     "output_type": "execute_result"
    }
   ],
   "source": [
    "pattern_Loadings"
   ]
  },
  {
   "cell_type": "code",
   "execution_count": 35,
   "metadata": {},
   "outputs": [
    {
     "data": {
      "text/plain": [
       "array([[ 1.16722428, -0.0058227 ,  1.95261793],\n",
       "       [ 0.26824434, -0.67001721, -0.21793732],\n",
       "       [ 0.65473307, -0.36788571,  0.56313834],\n",
       "       [-2.00510142, -1.02786065,  0.35997848],\n",
       "       [ 0.72302736, -2.07484456, -0.16454958],\n",
       "       [-0.67850455, -0.16377528, -1.37821478],\n",
       "       [-0.32732361,  0.74559799, -0.23361273],\n",
       "       [-0.69246347,  1.53799834, -0.87661772],\n",
       "       [-0.77876604, -0.49448794, -0.13666247],\n",
       "       [ 0.16442637, -0.02488304, -0.15899282],\n",
       "       [-0.57919674, -0.84721068, -1.1163337 ],\n",
       "       [-0.82200008,  0.14905589, -0.04840255],\n",
       "       [ 0.79856849, -1.85555256, -0.86970382],\n",
       "       [-0.96234181, -0.17716268,  0.64237897],\n",
       "       [ 1.13279471,  1.22050909, -0.49049243],\n",
       "       [ 0.2092616 ,  0.81182268,  0.41715155],\n",
       "       [ 0.0043722 ,  1.42868501,  1.13513158],\n",
       "       [-1.15329112,  0.81931048,  0.80870662],\n",
       "       [ 1.91156235,  0.7695981 , -0.03022361],\n",
       "       [ 0.96477406,  0.22692542, -0.15735994]])"
      ]
     },
     "execution_count": 35,
     "metadata": {},
     "output_type": "execute_result"
    }
   ],
   "source": [
    "scores"
   ]
  },
  {
   "cell_type": "code",
   "execution_count": 36,
   "metadata": {},
   "outputs": [
    {
     "data": {
      "text/plain": [
       "array([[ 0.87388855, -0.52579973,  0.1111989 ],\n",
       "       [ 0.51582796,  0.85320355, -0.00674291],\n",
       "       [ 0.11821778, -0.00361372,  1.0176068 ]])"
      ]
     },
     "execution_count": 36,
     "metadata": {},
     "output_type": "execute_result"
    }
   ],
   "source": [
    "rotmat"
   ]
  },
  {
   "cell_type": "code",
   "execution_count": 37,
   "metadata": {},
   "outputs": [],
   "source": [
    "df_scores = pd.DataFrame.from_records(scores, columns=['F1','F2','F3'])"
   ]
  },
  {
   "cell_type": "code",
   "execution_count": 38,
   "metadata": {},
   "outputs": [
    {
     "data": {
      "text/plain": [
       "F1    0.970722\n",
       "F2    0.996267\n",
       "F3    0.791429\n",
       "dtype: float64"
      ]
     },
     "execution_count": 38,
     "metadata": {},
     "output_type": "execute_result"
    }
   ],
   "source": [
    "df_scores.std(axis=0)"
   ]
  },
  {
   "cell_type": "code",
   "execution_count": 39,
   "metadata": {},
   "outputs": [],
   "source": [
    "df_scores_z_stand = zscore(df_scores)"
   ]
  },
  {
   "cell_type": "code",
   "execution_count": 40,
   "metadata": {},
   "outputs": [
    {
     "data": {
      "text/plain": [
       "array([1., 1., 1.])"
      ]
     },
     "execution_count": 40,
     "metadata": {},
     "output_type": "execute_result"
    }
   ],
   "source": [
    "df_scores_z_stand.std(axis=0)"
   ]
  },
  {
   "cell_type": "code",
   "execution_count": 41,
   "metadata": {},
   "outputs": [
    {
     "name": "stdout",
     "output_type": "stream",
     "text": [
      "Uniquenesses: \n",
      "    A     B     C     D     E     F \n",
      "0.472 0.041 0.060 0.523 0.630 0.639 \n",
      "\n",
      "Loadings:\n",
      "  Factor1 Factor2 Factor3\n",
      "A          0.717         \n",
      "B  0.908  -0.367         \n",
      "C  0.675   0.696         \n",
      "D  0.179           0.667 \n",
      "E -0.243   0.194   0.523 \n",
      "F  0.300   0.412  -0.319 \n",
      "\n",
      "               Factor1 Factor2 Factor3\n",
      "SS loadings      1.467   1.341   0.827\n",
      "Proportion Var   0.245   0.224   0.138\n",
      "Cumulative Var   0.245   0.468   0.606\n",
      "\n",
      "The degrees of freedom for the model is 0 and the fit was 0 \n",
      "\n"
     ]
    }
   ],
   "source": [
    "rotation = 'none'\n",
    "fa = factanal(rand_df, factors=NUM, scores='regression', rotation=rotation, \n",
    "              verbose=True, return_dict=True)"
   ]
  },
  {
   "cell_type": "code",
   "execution_count": 42,
   "metadata": {},
   "outputs": [],
   "source": [
    "A = np.array(fa['loadings'])"
   ]
  },
  {
   "cell_type": "code",
   "execution_count": 43,
   "metadata": {},
   "outputs": [],
   "source": [
    "structure_Loadings = np.dot(A,np.dot(rotmat,rotmat.T))"
   ]
  },
  {
   "cell_type": "code",
   "execution_count": null,
   "metadata": {},
   "outputs": [],
   "source": [
    "#  If you want to reckon after factor i only the unique \"clean\" portion of its variance, multiply its variance by 1−𝑅2𝑖\n",
    "#  of the factor's dependence on the other factors"
   ]
  },
  {
   "cell_type": "code",
   "execution_count": 45,
   "metadata": {},
   "outputs": [
    {
     "data": {
      "text/plain": [
       "array([[ 0.65413773, -0.29060985,  0.10060954],\n",
       "       [ 0.16406726,  0.98347749,  0.1048262 ],\n",
       "       [ 0.94883748,  0.2310194 ,  0.07713397],\n",
       "       [ 0.09764273,  0.23457859,  0.69837398],\n",
       "       [ 0.03950203, -0.25003314,  0.50655048],\n",
       "       [ 0.50831548,  0.01157763, -0.28809142]])"
      ]
     },
     "execution_count": 45,
     "metadata": {},
     "output_type": "execute_result"
    }
   ],
   "source": [
    "pattern_Loadings"
   ]
  },
  {
   "cell_type": "code",
   "execution_count": 46,
   "metadata": {},
   "outputs": [
    {
     "data": {
      "text/plain": [
       "array([[ 0.10319868,  0.71764104,  0.14361639],\n",
       "       [ 0.95633575, -0.36341435,  0.1860502 ],\n",
       "       [ 0.71132618,  0.6925455 ,  0.18025658],\n",
       "       [ 0.33399817,  0.035574  ,  0.73888729],\n",
       "       [-0.14085634,  0.21879195,  0.50581324],\n",
       "       [ 0.24651896,  0.39410933, -0.24786573]])"
      ]
     },
     "execution_count": 46,
     "metadata": {},
     "output_type": "execute_result"
    }
   ],
   "source": [
    "structure_Loadings"
   ]
  },
  {
   "cell_type": "code",
   "execution_count": 49,
   "metadata": {},
   "outputs": [],
   "source": [
    "Corr = np.array([[1.00000, 0.00595, -0.2038],\n",
    "[0.00595, 1.00000,  0.0636],\n",
    "[-0.20382, 0.06358,  1.0000]])"
   ]
  },
  {
   "cell_type": "code",
   "execution_count": 52,
   "metadata": {},
   "outputs": [
    {
     "data": {
      "text/plain": [
       "array([[0.        , 0.9999646 , 0.95846556],\n",
       "       [0.9999646 , 0.        , 0.99595504],\n",
       "       [0.95845741, 0.99595758, 0.        ]])"
      ]
     },
     "execution_count": 52,
     "metadata": {},
     "output_type": "execute_result"
    }
   ],
   "source": [
    "1-Corr**2"
   ]
  },
  {
   "cell_type": "code",
   "execution_count": 67,
   "metadata": {},
   "outputs": [
    {
     "data": {
      "text/plain": [
       "array([[0.01064997, 0.51500866, 0.02062567],\n",
       "       [0.91457807, 0.13206999, 0.03461468],\n",
       "       [0.50598494, 0.47961927, 0.03249243],\n",
       "       [0.11155477, 0.00126551, 0.54595442],\n",
       "       [0.01984051, 0.04786992, 0.25584703],\n",
       "       [0.0607716 , 0.15532216, 0.06143742]])"
      ]
     },
     "execution_count": 67,
     "metadata": {},
     "output_type": "execute_result"
    }
   ],
   "source": [
    "structure_Loadings**2"
   ]
  },
  {
   "cell_type": "code",
   "execution_count": 70,
   "metadata": {},
   "outputs": [],
   "source": [
    "true_structure_Loadings = np.dot(structure_Loadings,1-Corr**2)"
   ]
  },
  {
   "cell_type": "code",
   "execution_count": 71,
   "metadata": {},
   "outputs": [
    {
     "data": {
      "text/plain": [
       "array([[ 8.55265830e-01,  2.46230865e-01,  8.13650594e-01],\n",
       "       [-1.85080286e-01,  1.14160000e+00,  5.54670530e-01],\n",
       "       [ 8.65289232e-01,  8.90828906e-01,  1.37152583e+00],\n",
       "       [ 7.43764739e-01,  1.06988674e+00,  3.55555847e-01],\n",
       "       [ 7.03584645e-01,  3.62917179e-01,  8.29009917e-02],\n",
       "       [ 1.56526630e-01, -3.53526979e-04,  6.28795104e-01]])"
      ]
     },
     "execution_count": 71,
     "metadata": {},
     "output_type": "execute_result"
    }
   ],
   "source": [
    "true_structure_Loadings"
   ]
  },
  {
   "cell_type": "code",
   "execution_count": 77,
   "metadata": {},
   "outputs": [],
   "source": [
    "true_factor_variance = np.sum(true_structure_Loadings**2,axis=0)"
   ]
  },
  {
   "cell_type": "code",
   "execution_count": 78,
   "metadata": {},
   "outputs": [
    {
     "data": {
      "text/plain": [
       "array([2.58717773, 3.43382298, 3.3794456 ])"
      ]
     },
     "execution_count": 78,
     "metadata": {},
     "output_type": "execute_result"
    }
   ],
   "source": [
    "true_factor_variance"
   ]
  },
  {
   "cell_type": "code",
   "execution_count": 79,
   "metadata": {},
   "outputs": [],
   "source": [
    "unstandardized_scores = df_scores_z_stand*np.sqrt(true_factor_variance)"
   ]
  },
  {
   "cell_type": "code",
   "execution_count": 80,
   "metadata": {},
   "outputs": [
    {
     "data": {
      "text/plain": [
       "array([[ 1.9843164 , -0.01111157,  4.65335365],\n",
       "       [ 0.45602344, -1.27860752, -0.51937423],\n",
       "       [ 1.11306591, -0.7020438 ,  1.34203511],\n",
       "       [-3.40873274, -1.96148745,  0.85787759],\n",
       "       [ 1.22916827, -3.95946821, -0.39214398],\n",
       "       [-1.15347814, -0.31253571, -3.28447294],\n",
       "       [-0.55645998,  1.42283985, -0.55673085],\n",
       "       [-1.17720874,  2.93499361, -2.08909904],\n",
       "       [-1.3239257 , -0.94364142, -0.32568523],\n",
       "       [ 0.27952978, -0.04748482, -0.37890149],\n",
       "       [-0.98465189, -1.61674943, -2.66037477],\n",
       "       [-1.39742486,  0.2844464 , -0.11534984],\n",
       "       [ 1.35759046, -3.5409888 , -2.07262229],\n",
       "       [-1.63601004, -0.33808315,  1.5308763 ],\n",
       "       [ 1.92578509,  2.3291224 , -1.16891005],\n",
       "       [ 0.35575102,  1.54921779,  0.99412879],\n",
       "       [ 0.00743288,  2.72638876,  2.70517267],\n",
       "       [-1.9606296 ,  1.56350691,  1.92725767],\n",
       "       [ 3.24971352,  1.46863976, -0.07202698],\n",
       "       [ 1.64014492,  0.43304641, -0.3750101 ]])"
      ]
     },
     "execution_count": 80,
     "metadata": {},
     "output_type": "execute_result"
    }
   ],
   "source": [
    "unstandardized_scores"
   ]
  },
  {
   "cell_type": "code",
   "execution_count": 81,
   "metadata": {},
   "outputs": [],
   "source": [
    "cov_df = rand_df.cov()"
   ]
  },
  {
   "cell_type": "code",
   "execution_count": 82,
   "metadata": {},
   "outputs": [],
   "source": [
    "trace_cov = np.matrix.trace(cov_df.values)"
   ]
  },
  {
   "cell_type": "code",
   "execution_count": 83,
   "metadata": {},
   "outputs": [
    {
     "data": {
      "text/plain": [
       "6.665284855006366"
      ]
     },
     "execution_count": 83,
     "metadata": {},
     "output_type": "execute_result"
    }
   ],
   "source": [
    "trace_cov"
   ]
  },
  {
   "cell_type": "code",
   "execution_count": 84,
   "metadata": {},
   "outputs": [],
   "source": [
    "unstandardized_scores = unstandardized_scores*np.sqrt(trace_cov) "
   ]
  },
  {
   "cell_type": "code",
   "execution_count": 85,
   "metadata": {},
   "outputs": [
    {
     "data": {
      "text/plain": [
       "array([[  5.12295192,  -0.02868699,  12.01366221],\n",
       "       [  1.17732543,  -3.30100825,  -1.34087951],\n",
       "       [  2.87362597,  -1.81248144,   3.46476063],\n",
       "       [ -8.80039792,  -5.06401391,   2.21480085],\n",
       "       [  3.17336989, -10.2222434 ,  -1.01240648],\n",
       "       [ -2.97795909,  -0.80688009,  -8.47959374],\n",
       "       [ -1.43662458,   3.67337595,  -1.4373239 ],\n",
       "       [ -3.03922488,   7.5773355 ,  -5.39347147],\n",
       "       [ -3.41800717,  -2.43621916,  -0.84082848],\n",
       "       [  0.72166799,  -0.12259257,  -0.97821803],\n",
       "       [ -2.54209676,  -4.17399644,  -6.8683462 ],\n",
       "       [ -3.60776153,   0.73436132,  -0.29780114],\n",
       "       [  3.50492019,  -9.14184621,  -5.35093311],\n",
       "       [ -4.22372195,  -0.87283647,   3.95229594],\n",
       "       [  4.97184039,   6.0131449 ,  -3.01779997],\n",
       "       [  0.91844997,   3.99964856,   2.56656347],\n",
       "       [  0.01918962,   7.03877592,   6.98400188],\n",
       "       [ -5.0617992 ,   4.0365391 ,   4.97564218],\n",
       "       [  8.3898546 ,   3.79161855,  -0.18595358],\n",
       "       [  4.23439708,   1.11800513,  -0.96817156]])"
      ]
     },
     "execution_count": 85,
     "metadata": {},
     "output_type": "execute_result"
    }
   ],
   "source": [
    "unstandardized_scores"
   ]
  },
  {
   "cell_type": "code",
   "execution_count": 87,
   "metadata": {},
   "outputs": [],
   "source": [
    "UnstandardizedFactorScores = pd.DataFrame(unstandardized_scores,columns = df_scores.columns)"
   ]
  },
  {
   "cell_type": "code",
   "execution_count": 88,
   "metadata": {},
   "outputs": [
    {
     "data": {
      "text/html": [
       "<div>\n",
       "<style scoped>\n",
       "    .dataframe tbody tr th:only-of-type {\n",
       "        vertical-align: middle;\n",
       "    }\n",
       "\n",
       "    .dataframe tbody tr th {\n",
       "        vertical-align: top;\n",
       "    }\n",
       "\n",
       "    .dataframe thead th {\n",
       "        text-align: right;\n",
       "    }\n",
       "</style>\n",
       "<table border=\"1\" class=\"dataframe\">\n",
       "  <thead>\n",
       "    <tr style=\"text-align: right;\">\n",
       "      <th></th>\n",
       "      <th>F1</th>\n",
       "      <th>F2</th>\n",
       "      <th>F3</th>\n",
       "    </tr>\n",
       "  </thead>\n",
       "  <tbody>\n",
       "    <tr>\n",
       "      <th>0</th>\n",
       "      <td>5.122952</td>\n",
       "      <td>-0.028687</td>\n",
       "      <td>12.013662</td>\n",
       "    </tr>\n",
       "    <tr>\n",
       "      <th>1</th>\n",
       "      <td>1.177325</td>\n",
       "      <td>-3.301008</td>\n",
       "      <td>-1.340880</td>\n",
       "    </tr>\n",
       "    <tr>\n",
       "      <th>2</th>\n",
       "      <td>2.873626</td>\n",
       "      <td>-1.812481</td>\n",
       "      <td>3.464761</td>\n",
       "    </tr>\n",
       "    <tr>\n",
       "      <th>3</th>\n",
       "      <td>-8.800398</td>\n",
       "      <td>-5.064014</td>\n",
       "      <td>2.214801</td>\n",
       "    </tr>\n",
       "    <tr>\n",
       "      <th>4</th>\n",
       "      <td>3.173370</td>\n",
       "      <td>-10.222243</td>\n",
       "      <td>-1.012406</td>\n",
       "    </tr>\n",
       "    <tr>\n",
       "      <th>5</th>\n",
       "      <td>-2.977959</td>\n",
       "      <td>-0.806880</td>\n",
       "      <td>-8.479594</td>\n",
       "    </tr>\n",
       "    <tr>\n",
       "      <th>6</th>\n",
       "      <td>-1.436625</td>\n",
       "      <td>3.673376</td>\n",
       "      <td>-1.437324</td>\n",
       "    </tr>\n",
       "    <tr>\n",
       "      <th>7</th>\n",
       "      <td>-3.039225</td>\n",
       "      <td>7.577336</td>\n",
       "      <td>-5.393471</td>\n",
       "    </tr>\n",
       "    <tr>\n",
       "      <th>8</th>\n",
       "      <td>-3.418007</td>\n",
       "      <td>-2.436219</td>\n",
       "      <td>-0.840828</td>\n",
       "    </tr>\n",
       "    <tr>\n",
       "      <th>9</th>\n",
       "      <td>0.721668</td>\n",
       "      <td>-0.122593</td>\n",
       "      <td>-0.978218</td>\n",
       "    </tr>\n",
       "    <tr>\n",
       "      <th>10</th>\n",
       "      <td>-2.542097</td>\n",
       "      <td>-4.173996</td>\n",
       "      <td>-6.868346</td>\n",
       "    </tr>\n",
       "    <tr>\n",
       "      <th>11</th>\n",
       "      <td>-3.607762</td>\n",
       "      <td>0.734361</td>\n",
       "      <td>-0.297801</td>\n",
       "    </tr>\n",
       "    <tr>\n",
       "      <th>12</th>\n",
       "      <td>3.504920</td>\n",
       "      <td>-9.141846</td>\n",
       "      <td>-5.350933</td>\n",
       "    </tr>\n",
       "    <tr>\n",
       "      <th>13</th>\n",
       "      <td>-4.223722</td>\n",
       "      <td>-0.872836</td>\n",
       "      <td>3.952296</td>\n",
       "    </tr>\n",
       "    <tr>\n",
       "      <th>14</th>\n",
       "      <td>4.971840</td>\n",
       "      <td>6.013145</td>\n",
       "      <td>-3.017800</td>\n",
       "    </tr>\n",
       "    <tr>\n",
       "      <th>15</th>\n",
       "      <td>0.918450</td>\n",
       "      <td>3.999649</td>\n",
       "      <td>2.566563</td>\n",
       "    </tr>\n",
       "    <tr>\n",
       "      <th>16</th>\n",
       "      <td>0.019190</td>\n",
       "      <td>7.038776</td>\n",
       "      <td>6.984002</td>\n",
       "    </tr>\n",
       "    <tr>\n",
       "      <th>17</th>\n",
       "      <td>-5.061799</td>\n",
       "      <td>4.036539</td>\n",
       "      <td>4.975642</td>\n",
       "    </tr>\n",
       "    <tr>\n",
       "      <th>18</th>\n",
       "      <td>8.389855</td>\n",
       "      <td>3.791619</td>\n",
       "      <td>-0.185954</td>\n",
       "    </tr>\n",
       "    <tr>\n",
       "      <th>19</th>\n",
       "      <td>4.234397</td>\n",
       "      <td>1.118005</td>\n",
       "      <td>-0.968172</td>\n",
       "    </tr>\n",
       "  </tbody>\n",
       "</table>\n",
       "</div>"
      ],
      "text/plain": [
       "          F1         F2         F3\n",
       "0   5.122952  -0.028687  12.013662\n",
       "1   1.177325  -3.301008  -1.340880\n",
       "2   2.873626  -1.812481   3.464761\n",
       "3  -8.800398  -5.064014   2.214801\n",
       "4   3.173370 -10.222243  -1.012406\n",
       "5  -2.977959  -0.806880  -8.479594\n",
       "6  -1.436625   3.673376  -1.437324\n",
       "7  -3.039225   7.577336  -5.393471\n",
       "8  -3.418007  -2.436219  -0.840828\n",
       "9   0.721668  -0.122593  -0.978218\n",
       "10 -2.542097  -4.173996  -6.868346\n",
       "11 -3.607762   0.734361  -0.297801\n",
       "12  3.504920  -9.141846  -5.350933\n",
       "13 -4.223722  -0.872836   3.952296\n",
       "14  4.971840   6.013145  -3.017800\n",
       "15  0.918450   3.999649   2.566563\n",
       "16  0.019190   7.038776   6.984002\n",
       "17 -5.061799   4.036539   4.975642\n",
       "18  8.389855   3.791619  -0.185954\n",
       "19  4.234397   1.118005  -0.968172"
      ]
     },
     "execution_count": 88,
     "metadata": {},
     "output_type": "execute_result"
    }
   ],
   "source": [
    "UnstandardizedFactorScores"
   ]
  },
  {
   "cell_type": "code",
   "execution_count": null,
   "metadata": {},
   "outputs": [],
   "source": []
  },
  {
   "cell_type": "code",
   "execution_count": null,
   "metadata": {},
   "outputs": [],
   "source": []
  },
  {
   "cell_type": "code",
   "execution_count": null,
   "metadata": {},
   "outputs": [],
   "source": []
  },
  {
   "cell_type": "code",
   "execution_count": null,
   "metadata": {},
   "outputs": [],
   "source": []
  }
 ],
 "metadata": {
  "kernelspec": {
   "display_name": "Python 3",
   "language": "python",
   "name": "python3"
  },
  "language_info": {
   "codemirror_mode": {
    "name": "ipython",
    "version": 3
   },
   "file_extension": ".py",
   "mimetype": "text/x-python",
   "name": "python",
   "nbconvert_exporter": "python",
   "pygments_lexer": "ipython3",
   "version": "3.6.4"
  }
 },
 "nbformat": 4,
 "nbformat_minor": 2
}
