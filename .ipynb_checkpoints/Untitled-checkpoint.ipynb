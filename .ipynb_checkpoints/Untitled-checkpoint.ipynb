{
 "cells": [
  {
   "cell_type": "code",
   "execution_count": 207,
   "metadata": {},
   "outputs": [
    {
     "name": "stdout",
     "output_type": "stream",
     "text": [
      "Uniquenesses: \n",
      "    A     B     C     D     E     F \n",
      "0.472 0.041 0.060 0.523 0.630 0.639 \n",
      "\n",
      "Loadings:\n",
      "  Factor1 Factor2 Factor3\n",
      "A  0.664  -0.246   0.164 \n",
      "B          0.976         \n",
      "C  0.918   0.297         \n",
      "D          0.171   0.669 \n",
      "E         -0.295   0.532 \n",
      "F  0.535          -0.262 \n",
      "\n",
      "               Factor1 Factor2 Factor3\n",
      "SS loadings      1.576   1.224   0.835\n",
      "Proportion Var   0.263   0.204   0.139\n",
      "Cumulative Var   0.263   0.467   0.606\n",
      "\n",
      "The degrees of freedom for the model is 0 and the fit was 0 \n",
      "\n"
     ]
    },
    {
     "data": {
      "text/plain": [
       "array([[ 1.41473953e+00,  4.09052657e-01,  8.94650167e-01,\n",
       "         1.52821568e+00,  1.26488488e+00, -6.29813830e-02],\n",
       "       [ 6.43941758e-01, -1.30166257e-01, -3.62063990e-02,\n",
       "         2.34270482e-03,  2.75555666e-01,  1.30325777e-01],\n",
       "       [ 9.46986536e-01,  1.33415651e-01,  3.72155804e-01,\n",
       "         5.60598978e-01,  6.09547936e-01,  1.00386806e-01],\n",
       "       [-9.37683220e-01, -8.72774469e-01, -2.29572798e+00,\n",
       "         2.26975230e-01,  7.07894586e-01, -1.36041213e+00],\n",
       "       [ 1.55258456e+00, -1.40484578e+00,  9.77430559e-02,\n",
       "        -6.93651069e-02,  8.12084221e-01,  2.65593895e-01],\n",
       "       [-4.69027453e-01,  3.31524697e-01, -7.95448227e-01,\n",
       "        -7.57828541e-01, -5.65519190e-01,  3.50530223e-02],\n",
       "       [-3.75043328e-01,  1.12968833e+00, -3.03160751e-01,\n",
       "         9.22764796e-02, -2.44904635e-01, -9.55713701e-02],\n",
       "       [-1.06218819e+00,  1.89675641e+00, -4.63444775e-01,\n",
       "        -2.73087934e-01, -8.92684060e-01, -2.29424148e-02],\n",
       "       [-2.42080728e-01, -1.28771981e-01, -9.99063488e-01,\n",
       "         1.67029872e-02,  2.49106097e-01, -4.68801608e-01],\n",
       "       [ 3.22005056e-01,  4.62199070e-01, -2.03232410e-04,\n",
       "         9.52749892e-02,  7.69704806e-02,  9.82474016e-02],\n",
       "       [-8.96150797e-02, -3.31680716e-01, -8.53685328e-01,\n",
       "        -6.45113719e-01, -1.73107212e-01, -4.77759882e-02],\n",
       "       [-5.11131970e-01,  4.68094034e-01, -9.06571548e-01,\n",
       "         1.31807528e-01,  6.80908791e-02, -4.77229947e-01],\n",
       "       [ 1.42633425e+00, -1.11067490e+00,  2.37774294e-01,\n",
       "        -5.05371301e-01,  3.38320289e-01,  5.64375482e-01],\n",
       "       [-3.97217081e-01,  6.39161887e-02, -1.13056440e+00,\n",
       "         5.45098220e-01,  5.71455202e-01, -8.14851904e-01],\n",
       "       [ 5.63043652e-01,  1.82794418e+00,  1.19651901e+00,\n",
       "         4.53759692e-02, -5.46060757e-01,  8.40285672e-01],\n",
       "       [ 1.18940129e-01,  1.20491620e+00,  2.02203096e-01,\n",
       "         5.51441637e-01,  1.01626069e-01, -1.40755387e-02],\n",
       "       [-1.77117257e-01,  1.68596634e+00,  1.15744634e-01,\n",
       "         1.06666962e+00,  2.82351160e-01, -3.29798757e-01],\n",
       "       [-9.07869382e-01,  9.66382360e-01, -1.10640579e+00,\n",
       "         7.36179805e-01,  3.06725268e-01, -9.07192166e-01],\n",
       "       [ 1.42046011e+00,  1.46724473e+00,  1.82886347e+00,\n",
       "         3.44883585e-01, -1.19375543e-01,  1.08510264e+00],\n",
       "       [ 8.60045048e-01,  8.21877456e-01,  8.15666693e-01,\n",
       "         1.61763337e-01, -5.07181804e-03,  5.61932938e-01]])"
      ]
     },
     "execution_count": 207,
     "metadata": {},
     "output_type": "execute_result"
    }
   ],
   "source": [
    "import numpy as np\n",
    "import pandas as pd\n",
    "from factanal.wrapper import factanal\n",
    "from scipy.stats import zscore\n",
    "\n",
    "# generate a random df\n",
    "np.random.seed(0)\n",
    "rand_df = pd.DataFrame(np.random.randn(20, 6), columns=list('ABCDEF'))\n",
    "\n",
    "# use 'factanal' function to extract 3 factors and calculate factor scores by 'regression'\n",
    "NUM = 3\n",
    "rotation = 'varimax'\n",
    "fa = factanal(rand_df, factors=NUM, scores='regression', rotation=rotation, \n",
    "              verbose=True, return_dict=True)\n",
    "\n",
    "# extract loadings and scores \n",
    "Loadings = np.array(fa['loadings'])\n",
    "Scores = np.array(fa['scores']) \n",
    "\n",
    "# \n",
    "X0 = np.dot(Scores[:,0].reshape(1,-1).T,Loadings[:,0].reshape(1,-1))*rand_df.std(axis=0).values\n",
    "X1 = np.dot(Scores[:,1].reshape(1,-1).T,Loadings[:,1].reshape(1,-1))*rand_df.std(axis=0).values\n",
    "X2 = np.dot(Scores[:,2].reshape(1,-1).T,Loadings[:,2].reshape(1,-1))*rand_df.std(axis=0).values\n",
    "\n",
    "# the way I would \"reconstruct\" rand_df directly -\n",
    "X = np.dot(Scores,Loadings.T)*rand_df.std(axis=0).values + rand_df.mean(axis=0).values\n",
    "\n",
    "# \"reconstruct\" rand_df\n",
    "X0+X1+X2+rand_df.mean(axis=0).values"
   ]
  },
  {
   "cell_type": "code",
   "execution_count": null,
   "metadata": {},
   "outputs": [],
   "source": []
  },
  {
   "cell_type": "code",
   "execution_count": null,
   "metadata": {},
   "outputs": [],
   "source": []
  },
  {
   "cell_type": "code",
   "execution_count": null,
   "metadata": {},
   "outputs": [],
   "source": []
  },
  {
   "cell_type": "code",
   "execution_count": null,
   "metadata": {},
   "outputs": [],
   "source": []
  },
  {
   "cell_type": "code",
   "execution_count": null,
   "metadata": {},
   "outputs": [],
   "source": []
  },
  {
   "cell_type": "code",
   "execution_count": null,
   "metadata": {},
   "outputs": [],
   "source": []
  },
  {
   "cell_type": "code",
   "execution_count": 103,
   "metadata": {},
   "outputs": [
    {
     "name": "stdout",
     "output_type": "stream",
     "text": [
      "Uniquenesses: \n",
      "    A     B     C     D     E     F \n",
      "0.472 0.041 0.060 0.523 0.630 0.639 \n",
      "\n",
      "Loadings:\n",
      "  Factor1 Factor2 Factor3\n",
      "A          0.717         \n",
      "B  0.908  -0.367         \n",
      "C  0.675   0.696         \n",
      "D  0.179           0.667 \n",
      "E -0.243   0.194   0.523 \n",
      "F  0.300   0.412  -0.319 \n",
      "\n",
      "               Factor1 Factor2 Factor3\n",
      "SS loadings      1.467   1.341   0.827\n",
      "Proportion Var   0.245   0.224   0.138\n",
      "Cumulative Var   0.245   0.468   0.606\n",
      "\n",
      "The degrees of freedom for the model is 0 and the fit was 0 \n",
      "\n"
     ]
    }
   ],
   "source": [
    "rotation = 'none'\n",
    "fa = factanal(rand_df, factors=NUM, scores='regression', rotation=rotation, \n",
    "              verbose=True, return_dict=True)"
   ]
  },
  {
   "cell_type": "code",
   "execution_count": 104,
   "metadata": {},
   "outputs": [],
   "source": [
    "A = np.array(fa['loadings'])"
   ]
  },
  {
   "cell_type": "code",
   "execution_count": 105,
   "metadata": {},
   "outputs": [],
   "source": [
    "structure_Loadings = np.dot(A,np.dot(rotmat,rotmat.T))"
   ]
  },
  {
   "cell_type": "code",
   "execution_count": 106,
   "metadata": {},
   "outputs": [],
   "source": [
    "#  If you want to reckon after factor i only the unique \"clean\" portion of its variance, multiply its variance by 1−𝑅2𝑖\n",
    "#  of the factor's dependence on the other factors"
   ]
  },
  {
   "cell_type": "code",
   "execution_count": 107,
   "metadata": {},
   "outputs": [
    {
     "data": {
      "text/plain": [
       "array([[ 0.65413773, -0.29060985,  0.10060954],\n",
       "       [ 0.16406726,  0.98347749,  0.1048262 ],\n",
       "       [ 0.94883748,  0.2310194 ,  0.07713397],\n",
       "       [ 0.09764273,  0.23457859,  0.69837398],\n",
       "       [ 0.03950203, -0.25003314,  0.50655048],\n",
       "       [ 0.50831548,  0.01157763, -0.28809142]])"
      ]
     },
     "execution_count": 107,
     "metadata": {},
     "output_type": "execute_result"
    }
   ],
   "source": [
    "pattern_Loadings"
   ]
  },
  {
   "cell_type": "code",
   "execution_count": 108,
   "metadata": {},
   "outputs": [
    {
     "data": {
      "text/plain": [
       "array([[ 0.10319868,  0.71764104,  0.14361639],\n",
       "       [ 0.95633575, -0.36341435,  0.1860502 ],\n",
       "       [ 0.71132618,  0.6925455 ,  0.18025658],\n",
       "       [ 0.33399817,  0.035574  ,  0.73888729],\n",
       "       [-0.14085634,  0.21879195,  0.50581324],\n",
       "       [ 0.24651896,  0.39410933, -0.24786573]])"
      ]
     },
     "execution_count": 108,
     "metadata": {},
     "output_type": "execute_result"
    }
   ],
   "source": [
    "structure_Loadings"
   ]
  },
  {
   "cell_type": "code",
   "execution_count": 109,
   "metadata": {},
   "outputs": [],
   "source": [
    "Corr = np.array([[1.00000, 0.00595, -0.2038],\n",
    "[0.00595, 1.00000,  0.0636],\n",
    "[-0.20382, 0.06358,  1.0000]])"
   ]
  },
  {
   "cell_type": "code",
   "execution_count": 110,
   "metadata": {},
   "outputs": [
    {
     "data": {
      "text/plain": [
       "array([[0.        , 0.9999646 , 0.95846556],\n",
       "       [0.9999646 , 0.        , 0.99595504],\n",
       "       [0.95845741, 0.99595758, 0.        ]])"
      ]
     },
     "execution_count": 110,
     "metadata": {},
     "output_type": "execute_result"
    }
   ],
   "source": [
    "1-Corr**2"
   ]
  },
  {
   "cell_type": "code",
   "execution_count": 111,
   "metadata": {},
   "outputs": [
    {
     "data": {
      "text/plain": [
       "array([[0.01064997, 0.51500866, 0.02062567],\n",
       "       [0.91457807, 0.13206999, 0.03461468],\n",
       "       [0.50598494, 0.47961927, 0.03249243],\n",
       "       [0.11155477, 0.00126551, 0.54595442],\n",
       "       [0.01984051, 0.04786992, 0.25584703],\n",
       "       [0.0607716 , 0.15532216, 0.06143742]])"
      ]
     },
     "execution_count": 111,
     "metadata": {},
     "output_type": "execute_result"
    }
   ],
   "source": [
    "structure_Loadings**2"
   ]
  },
  {
   "cell_type": "code",
   "execution_count": 112,
   "metadata": {},
   "outputs": [],
   "source": [
    "true_structure_Loadings = np.dot(structure_Loadings,1-Corr**2)"
   ]
  },
  {
   "cell_type": "code",
   "execution_count": 113,
   "metadata": {},
   "outputs": [
    {
     "data": {
      "text/plain": [
       "array([[ 8.55265830e-01,  2.46230865e-01,  8.13650594e-01],\n",
       "       [-1.85080286e-01,  1.14160000e+00,  5.54670530e-01],\n",
       "       [ 8.65289232e-01,  8.90828906e-01,  1.37152583e+00],\n",
       "       [ 7.43764739e-01,  1.06988674e+00,  3.55555847e-01],\n",
       "       [ 7.03584645e-01,  3.62917179e-01,  8.29009917e-02],\n",
       "       [ 1.56526630e-01, -3.53526979e-04,  6.28795104e-01]])"
      ]
     },
     "execution_count": 113,
     "metadata": {},
     "output_type": "execute_result"
    }
   ],
   "source": [
    "true_structure_Loadings"
   ]
  },
  {
   "cell_type": "code",
   "execution_count": 136,
   "metadata": {},
   "outputs": [
    {
     "data": {
      "text/plain": [
       "array([[7.31479640e-01, 6.06296386e-02, 6.62027289e-01],\n",
       "       [3.42547124e-02, 1.30325057e+00, 3.07659397e-01],\n",
       "       [7.48725455e-01, 7.93576139e-01, 1.88108309e+00],\n",
       "       [5.53185987e-01, 1.14465763e+00, 1.26419961e-01],\n",
       "       [4.95031352e-01, 1.31708879e-01, 6.87257442e-03],\n",
       "       [2.45005859e-02, 1.24981325e-07, 3.95383283e-01]])"
      ]
     },
     "execution_count": 136,
     "metadata": {},
     "output_type": "execute_result"
    }
   ],
   "source": [
    "true_structure_Loadings**2"
   ]
  },
  {
   "cell_type": "code",
   "execution_count": 114,
   "metadata": {},
   "outputs": [],
   "source": [
    "true_factor_variance = np.sum(true_structure_Loadings**2,axis=0)"
   ]
  },
  {
   "cell_type": "code",
   "execution_count": 115,
   "metadata": {},
   "outputs": [
    {
     "data": {
      "text/plain": [
       "array([2.58717773, 3.43382298, 3.3794456 ])"
      ]
     },
     "execution_count": 115,
     "metadata": {},
     "output_type": "execute_result"
    }
   ],
   "source": [
    "true_factor_variance"
   ]
  },
  {
   "cell_type": "code",
   "execution_count": 116,
   "metadata": {},
   "outputs": [],
   "source": [
    "unstandardized_scores = df_scores_z_stand*np.sqrt(true_factor_variance)"
   ]
  },
  {
   "cell_type": "code",
   "execution_count": 117,
   "metadata": {},
   "outputs": [
    {
     "data": {
      "text/plain": [
       "array([[ 1.9843164 , -0.01111157,  4.65335365],\n",
       "       [ 0.45602344, -1.27860752, -0.51937423],\n",
       "       [ 1.11306591, -0.7020438 ,  1.34203511],\n",
       "       [-3.40873274, -1.96148745,  0.85787759],\n",
       "       [ 1.22916827, -3.95946821, -0.39214398],\n",
       "       [-1.15347814, -0.31253571, -3.28447294],\n",
       "       [-0.55645998,  1.42283985, -0.55673085],\n",
       "       [-1.17720874,  2.93499361, -2.08909904],\n",
       "       [-1.3239257 , -0.94364142, -0.32568523],\n",
       "       [ 0.27952978, -0.04748482, -0.37890149],\n",
       "       [-0.98465189, -1.61674943, -2.66037477],\n",
       "       [-1.39742486,  0.2844464 , -0.11534984],\n",
       "       [ 1.35759046, -3.5409888 , -2.07262229],\n",
       "       [-1.63601004, -0.33808315,  1.5308763 ],\n",
       "       [ 1.92578509,  2.3291224 , -1.16891005],\n",
       "       [ 0.35575102,  1.54921779,  0.99412879],\n",
       "       [ 0.00743288,  2.72638876,  2.70517267],\n",
       "       [-1.9606296 ,  1.56350691,  1.92725767],\n",
       "       [ 3.24971352,  1.46863976, -0.07202698],\n",
       "       [ 1.64014492,  0.43304641, -0.3750101 ]])"
      ]
     },
     "execution_count": 117,
     "metadata": {},
     "output_type": "execute_result"
    }
   ],
   "source": [
    "unstandardized_scores"
   ]
  },
  {
   "cell_type": "code",
   "execution_count": 118,
   "metadata": {},
   "outputs": [],
   "source": [
    "cov_df = rand_df.cov()"
   ]
  },
  {
   "cell_type": "code",
   "execution_count": 119,
   "metadata": {},
   "outputs": [],
   "source": [
    "trace_cov = np.matrix.trace(cov_df.values)"
   ]
  },
  {
   "cell_type": "code",
   "execution_count": 120,
   "metadata": {},
   "outputs": [
    {
     "data": {
      "text/plain": [
       "6.665284855006366"
      ]
     },
     "execution_count": 120,
     "metadata": {},
     "output_type": "execute_result"
    }
   ],
   "source": [
    "trace_cov"
   ]
  },
  {
   "cell_type": "code",
   "execution_count": 121,
   "metadata": {},
   "outputs": [],
   "source": [
    "unstandardized_scores = unstandardized_scores*np.sqrt(trace_cov) "
   ]
  },
  {
   "cell_type": "code",
   "execution_count": 122,
   "metadata": {},
   "outputs": [
    {
     "data": {
      "text/plain": [
       "array([[  5.12295192,  -0.02868699,  12.01366221],\n",
       "       [  1.17732543,  -3.30100825,  -1.34087951],\n",
       "       [  2.87362597,  -1.81248144,   3.46476063],\n",
       "       [ -8.80039792,  -5.06401391,   2.21480085],\n",
       "       [  3.17336989, -10.2222434 ,  -1.01240648],\n",
       "       [ -2.97795909,  -0.80688009,  -8.47959374],\n",
       "       [ -1.43662458,   3.67337595,  -1.4373239 ],\n",
       "       [ -3.03922488,   7.5773355 ,  -5.39347147],\n",
       "       [ -3.41800717,  -2.43621916,  -0.84082848],\n",
       "       [  0.72166799,  -0.12259257,  -0.97821803],\n",
       "       [ -2.54209676,  -4.17399644,  -6.8683462 ],\n",
       "       [ -3.60776153,   0.73436132,  -0.29780114],\n",
       "       [  3.50492019,  -9.14184621,  -5.35093311],\n",
       "       [ -4.22372195,  -0.87283647,   3.95229594],\n",
       "       [  4.97184039,   6.0131449 ,  -3.01779997],\n",
       "       [  0.91844997,   3.99964856,   2.56656347],\n",
       "       [  0.01918962,   7.03877592,   6.98400188],\n",
       "       [ -5.0617992 ,   4.0365391 ,   4.97564218],\n",
       "       [  8.3898546 ,   3.79161855,  -0.18595358],\n",
       "       [  4.23439708,   1.11800513,  -0.96817156]])"
      ]
     },
     "execution_count": 122,
     "metadata": {},
     "output_type": "execute_result"
    }
   ],
   "source": [
    "unstandardized_scores"
   ]
  },
  {
   "cell_type": "code",
   "execution_count": 123,
   "metadata": {},
   "outputs": [],
   "source": [
    "UnstandardizedFactorScores = pd.DataFrame(unstandardized_scores,columns = df_scores.columns)"
   ]
  },
  {
   "cell_type": "code",
   "execution_count": 124,
   "metadata": {},
   "outputs": [
    {
     "data": {
      "text/html": [
       "<div>\n",
       "<style scoped>\n",
       "    .dataframe tbody tr th:only-of-type {\n",
       "        vertical-align: middle;\n",
       "    }\n",
       "\n",
       "    .dataframe tbody tr th {\n",
       "        vertical-align: top;\n",
       "    }\n",
       "\n",
       "    .dataframe thead th {\n",
       "        text-align: right;\n",
       "    }\n",
       "</style>\n",
       "<table border=\"1\" class=\"dataframe\">\n",
       "  <thead>\n",
       "    <tr style=\"text-align: right;\">\n",
       "      <th></th>\n",
       "      <th>F1</th>\n",
       "      <th>F2</th>\n",
       "      <th>F3</th>\n",
       "    </tr>\n",
       "  </thead>\n",
       "  <tbody>\n",
       "    <tr>\n",
       "      <th>0</th>\n",
       "      <td>5.122952</td>\n",
       "      <td>-0.028687</td>\n",
       "      <td>12.013662</td>\n",
       "    </tr>\n",
       "    <tr>\n",
       "      <th>1</th>\n",
       "      <td>1.177325</td>\n",
       "      <td>-3.301008</td>\n",
       "      <td>-1.340880</td>\n",
       "    </tr>\n",
       "    <tr>\n",
       "      <th>2</th>\n",
       "      <td>2.873626</td>\n",
       "      <td>-1.812481</td>\n",
       "      <td>3.464761</td>\n",
       "    </tr>\n",
       "    <tr>\n",
       "      <th>3</th>\n",
       "      <td>-8.800398</td>\n",
       "      <td>-5.064014</td>\n",
       "      <td>2.214801</td>\n",
       "    </tr>\n",
       "    <tr>\n",
       "      <th>4</th>\n",
       "      <td>3.173370</td>\n",
       "      <td>-10.222243</td>\n",
       "      <td>-1.012406</td>\n",
       "    </tr>\n",
       "    <tr>\n",
       "      <th>5</th>\n",
       "      <td>-2.977959</td>\n",
       "      <td>-0.806880</td>\n",
       "      <td>-8.479594</td>\n",
       "    </tr>\n",
       "    <tr>\n",
       "      <th>6</th>\n",
       "      <td>-1.436625</td>\n",
       "      <td>3.673376</td>\n",
       "      <td>-1.437324</td>\n",
       "    </tr>\n",
       "    <tr>\n",
       "      <th>7</th>\n",
       "      <td>-3.039225</td>\n",
       "      <td>7.577336</td>\n",
       "      <td>-5.393471</td>\n",
       "    </tr>\n",
       "    <tr>\n",
       "      <th>8</th>\n",
       "      <td>-3.418007</td>\n",
       "      <td>-2.436219</td>\n",
       "      <td>-0.840828</td>\n",
       "    </tr>\n",
       "    <tr>\n",
       "      <th>9</th>\n",
       "      <td>0.721668</td>\n",
       "      <td>-0.122593</td>\n",
       "      <td>-0.978218</td>\n",
       "    </tr>\n",
       "    <tr>\n",
       "      <th>10</th>\n",
       "      <td>-2.542097</td>\n",
       "      <td>-4.173996</td>\n",
       "      <td>-6.868346</td>\n",
       "    </tr>\n",
       "    <tr>\n",
       "      <th>11</th>\n",
       "      <td>-3.607762</td>\n",
       "      <td>0.734361</td>\n",
       "      <td>-0.297801</td>\n",
       "    </tr>\n",
       "    <tr>\n",
       "      <th>12</th>\n",
       "      <td>3.504920</td>\n",
       "      <td>-9.141846</td>\n",
       "      <td>-5.350933</td>\n",
       "    </tr>\n",
       "    <tr>\n",
       "      <th>13</th>\n",
       "      <td>-4.223722</td>\n",
       "      <td>-0.872836</td>\n",
       "      <td>3.952296</td>\n",
       "    </tr>\n",
       "    <tr>\n",
       "      <th>14</th>\n",
       "      <td>4.971840</td>\n",
       "      <td>6.013145</td>\n",
       "      <td>-3.017800</td>\n",
       "    </tr>\n",
       "    <tr>\n",
       "      <th>15</th>\n",
       "      <td>0.918450</td>\n",
       "      <td>3.999649</td>\n",
       "      <td>2.566563</td>\n",
       "    </tr>\n",
       "    <tr>\n",
       "      <th>16</th>\n",
       "      <td>0.019190</td>\n",
       "      <td>7.038776</td>\n",
       "      <td>6.984002</td>\n",
       "    </tr>\n",
       "    <tr>\n",
       "      <th>17</th>\n",
       "      <td>-5.061799</td>\n",
       "      <td>4.036539</td>\n",
       "      <td>4.975642</td>\n",
       "    </tr>\n",
       "    <tr>\n",
       "      <th>18</th>\n",
       "      <td>8.389855</td>\n",
       "      <td>3.791619</td>\n",
       "      <td>-0.185954</td>\n",
       "    </tr>\n",
       "    <tr>\n",
       "      <th>19</th>\n",
       "      <td>4.234397</td>\n",
       "      <td>1.118005</td>\n",
       "      <td>-0.968172</td>\n",
       "    </tr>\n",
       "  </tbody>\n",
       "</table>\n",
       "</div>"
      ],
      "text/plain": [
       "          F1         F2         F3\n",
       "0   5.122952  -0.028687  12.013662\n",
       "1   1.177325  -3.301008  -1.340880\n",
       "2   2.873626  -1.812481   3.464761\n",
       "3  -8.800398  -5.064014   2.214801\n",
       "4   3.173370 -10.222243  -1.012406\n",
       "5  -2.977959  -0.806880  -8.479594\n",
       "6  -1.436625   3.673376  -1.437324\n",
       "7  -3.039225   7.577336  -5.393471\n",
       "8  -3.418007  -2.436219  -0.840828\n",
       "9   0.721668  -0.122593  -0.978218\n",
       "10 -2.542097  -4.173996  -6.868346\n",
       "11 -3.607762   0.734361  -0.297801\n",
       "12  3.504920  -9.141846  -5.350933\n",
       "13 -4.223722  -0.872836   3.952296\n",
       "14  4.971840   6.013145  -3.017800\n",
       "15  0.918450   3.999649   2.566563\n",
       "16  0.019190   7.038776   6.984002\n",
       "17 -5.061799   4.036539   4.975642\n",
       "18  8.389855   3.791619  -0.185954\n",
       "19  4.234397   1.118005  -0.968172"
      ]
     },
     "execution_count": 124,
     "metadata": {},
     "output_type": "execute_result"
    }
   ],
   "source": [
    "UnstandardizedFactorScores"
   ]
  },
  {
   "cell_type": "code",
   "execution_count": 127,
   "metadata": {},
   "outputs": [
    {
     "data": {
      "text/plain": [
       "(20, 3)"
      ]
     },
     "execution_count": 127,
     "metadata": {},
     "output_type": "execute_result"
    }
   ],
   "source": [
    "unstandardized_scores.shape"
   ]
  },
  {
   "cell_type": "code",
   "execution_count": 128,
   "metadata": {},
   "outputs": [
    {
     "data": {
      "text/plain": [
       "(6, 3)"
      ]
     },
     "execution_count": 128,
     "metadata": {},
     "output_type": "execute_result"
    }
   ],
   "source": [
    "pattern_Loadings.shape"
   ]
  },
  {
   "cell_type": "code",
   "execution_count": 135,
   "metadata": {},
   "outputs": [
    {
     "data": {
      "text/plain": [
       "array([[ 4.56814193e+00,  2.07164220e+00,  5.78088301e+00,\n",
       "         8.88351871e+00,  6.29506605e+00, -8.57289347e-01],\n",
       "       [ 1.59453321e+00, -3.19386606e+00,  2.51066189e-01,\n",
       "        -1.59582394e+00,  1.92645049e-01,  9.46530758e-01],\n",
       "       [ 2.75506011e+00, -9.47869083e-01,  2.57513640e+00,\n",
       "         2.27511801e+00,  2.32177064e+00,  4.41556518e-01],\n",
       "       [-4.06218987e+00, -6.19203168e+00, -9.34919646e+00,\n",
       "        -5.00444857e-01,  2.04044620e+00, -5.17007293e+00],\n",
       "       [ 4.94464781e+00, -9.63882692e+00,  5.71384815e-01,\n",
       "        -2.79510126e+00,  2.16841920e+00,  1.78638927e+00],\n",
       "       [-2.56663616e+00, -2.17101756e+00, -3.66606889e+00,\n",
       "        -6.40198044e+00, -4.21123094e+00,  9.19813720e-01],\n",
       "       [-2.15187807e+00,  3.22631031e+00, -6.25368640e-01,\n",
       "        -2.82370213e-01, -1.70329243e+00, -2.73648831e-01],\n",
       "       [-4.73275468e+00,  6.38812450e+00, -1.54923884e+00,\n",
       "        -2.28593767e+00, -4.74670612e+00,  9.66554138e-02],\n",
       "       [-1.61245353e+00, -3.04489061e+00, -3.87080364e+00,\n",
       "        -1.49244114e+00,  4.81952512e-02, -1.52339614e+00],\n",
       "       [ 4.09278796e-01, -1.04707821e-01,  5.80970537e-01,\n",
       "        -6.41453974e-01, -4.36357263e-01,  6.47231903e-01],\n",
       "       [-1.14089811e+00, -5.24208900e+00, -3.90609365e+00,\n",
       "        -6.02402171e+00, -2.53594459e+00,  6.38199460e-01],\n",
       "       [-2.60334720e+00,  9.90949314e-02, -3.27649823e+00,\n",
       "        -3.87982821e-01, -4.76979872e-01, -1.73958492e+00],\n",
       "       [ 4.41105612e+00, -8.97667530e+00,  8.00917096e-01,\n",
       "        -5.53920382e+00, -2.86301751e-01,  3.21732216e+00],\n",
       "       [-2.11160231e+00, -1.13708533e+00, -3.90441157e+00,\n",
       "         2.14301613e+00,  2.05342988e+00, -3.29571119e+00],\n",
       "       [ 1.20116976e+00,  6.41316436e+00,  5.87384674e+00,\n",
       "        -2.11533842e-01, -2.83575577e+00,  3.46628371e+00],\n",
       "       [-3.03323699e-01,  4.35329498e+00,  1.99342540e+00,\n",
       "         2.82033301e+00,  3.36329898e-01, -2.26236103e-01],\n",
       "       [-1.33032770e+00,  7.65773243e+00,  2.18300542e+00,\n",
       "         6.53046501e+00,  1.77858028e+00, -1.92078426e+00],\n",
       "       [-3.98357474e+00,  3.66094749e+00, -3.48651491e+00,\n",
       "         3.92749675e+00,  1.31119405e+00, -3.95969714e+00],\n",
       "       [ 4.36753002e+00,  5.08597911e+00,  8.82220261e+00,\n",
       "         1.57877572e+00, -7.10808918e-01,  4.36216259e+00],\n",
       "       [ 2.34756828e+00,  1.69276905e+00,  4.20135662e+00,\n",
       "        -4.27654011e-04, -6.02698840e-01,  2.44427537e+00]])"
      ]
     },
     "execution_count": 135,
     "metadata": {},
     "output_type": "execute_result"
    }
   ],
   "source": [
    "np.dot(unstandardized_scores,pattern_Loadings.T)"
   ]
  },
  {
   "cell_type": "code",
   "execution_count": null,
   "metadata": {},
   "outputs": [],
   "source": []
  },
  {
   "cell_type": "code",
   "execution_count": null,
   "metadata": {},
   "outputs": [],
   "source": []
  },
  {
   "cell_type": "code",
   "execution_count": null,
   "metadata": {},
   "outputs": [],
   "source": []
  },
  {
   "cell_type": "code",
   "execution_count": null,
   "metadata": {},
   "outputs": [],
   "source": []
  },
  {
   "cell_type": "code",
   "execution_count": null,
   "metadata": {},
   "outputs": [],
   "source": []
  },
  {
   "cell_type": "code",
   "execution_count": null,
   "metadata": {},
   "outputs": [],
   "source": []
  }
 ],
 "metadata": {
  "kernelspec": {
   "display_name": "Python 3",
   "language": "python",
   "name": "python3"
  },
  "language_info": {
   "codemirror_mode": {
    "name": "ipython",
    "version": 3
   },
   "file_extension": ".py",
   "mimetype": "text/x-python",
   "name": "python",
   "nbconvert_exporter": "python",
   "pygments_lexer": "ipython3",
   "version": "3.6.4"
  }
 },
 "nbformat": 4,
 "nbformat_minor": 2
}
