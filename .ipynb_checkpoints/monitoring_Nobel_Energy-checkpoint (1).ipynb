{
 "cells": [
  {
   "cell_type": "code",
   "execution_count": null,
   "metadata": {},
   "outputs": [],
   "source": []
  },
  {
   "cell_type": "code",
   "execution_count": 1,
   "metadata": {},
   "outputs": [],
   "source": [
    "import requests\n",
    "import pandas as pd\n",
    "import numpy as np\n",
    "import json\n",
    "from pandas.io.json import json_normalize\n",
    "from datetime import datetime, timedelta\n",
    "from dateutil.relativedelta import relativedelta\n",
    "from matplotlib import pyplot as plt\n",
    "import matplotlib.cm as cm\n",
    "import itertools\n",
    "import metpy as mp\n",
    "import metpy.calc as mpcalc\n",
    "# import plotly as py\n",
    "# import chart_studio.plotly as py\n",
    "import plotly.graph_objs as go\n",
    "import plotly.figure_factory as ff\n",
    "from scipy import special\n",
    "import ipywidgets as widgets\n",
    "from metpy.units import units\n",
    "\n",
    "\n",
    "from IPython.core.interactiveshell import InteractiveShell\n",
    "InteractiveShell.ast_node_interactivity = \"all\"\n",
    "%config InlineBackend.figure_format = 'retina'"
   ]
  },
  {
   "cell_type": "raw",
   "metadata": {},
   "source": [
    "import os, ssl\n",
    "if (not os.environ.get('PYTHONHTTPSVERIFY', '') and\n",
    "        getattr(ssl, '_create_unverified_context', None)):\n",
    "    ssl._create_default_https_context = ssl._create_unverified_context"
   ]
  },
  {
   "cell_type": "code",
   "execution_count": 2,
   "metadata": {},
   "outputs": [],
   "source": [
    "# example\n",
    "myToken = '71e67c41-8478-4310-9293-196f559493ca'\n",
    "myUrl = 'https://api.svivaaqm.net/v1/envista/stations/452/data?from=2019-11-01T00:00&to=2019/11/01T00:12'\n",
    "# myUrl = 'https://www.svivaaqm.net:44301/v1/envista/stations/452?from=2019-11-01T00:00&to=2019/11/01T00:12'\n",
    "head = {'Authorization': 'ApiToken {}'.format(myToken), 'envi-data-source': 'MANA'}\n",
    "response = requests.get(myUrl, headers=head)"
   ]
  },
  {
   "cell_type": "code",
   "execution_count": 3,
   "metadata": {},
   "outputs": [
    {
     "data": {
      "text/plain": [
       "b'{\"stationId\":452,\"data\":[{\"datetime\":\"2019-11-01T00:00:00+02:00\",\"channels\":[{\"id\":1,\"name\":\"SO2\",\"alias\":\"\\xd7\\x92\\xd7\\x95\\xd7\\xa4\\xd7\\xa8\\xd7\\x99\\xd7\\xaa \\xd7\\x93\\xd7\\x95 \\xd7\\x97\\xd7\\x9e\\xd7\\xa6\\xd7\\xa0\\xd7\\x99\\xd7\\xaa\",\"value\":0.0,\"status\":1,\"valid\":true,\"description\":null},{\"id\":2,\"name\":\"No\",\"alias\":\"\\xd7\\x97\\xd7\\xa0\\xd7\\xa7\\xd7\\x9f \\xd7\\x97\\xd7\\x93 \\xd7\\x97\\xd7\\x9e\\xd7\\xa6\\xd7\\xa0\\xd7\\x99\",\"value\":0.0,\"status\":1,\"valid\":true,\"description\":null},{\"id\":3,\"name\":\"No2\",\"alias\":\"\\xd7\\x97\\xd7\\xa0\\xd7\\xa7\\xd7\\x9f \\xd7\\x93\\xd7\\x95 \\xd7\\x97\\xd7\\x9e\\xd7\\xa6\\xd7\\xa0\\xd7\\x99\",\"value\":15.1,\"status\":1,\"valid\":true,\"description\":null},{\"id\":4,\"name\":\"Nox\",\"alias\":\"\\xd7\\xaa\\xd7\\x97\\xd7\\x9e\\xd7\\x95\\xd7\\xa6\\xd7\\x95\\xd7\\xaa \\xd7\\x97\\xd7\\xa0\\xd7\\xa7\\xd7\\x9f\",\"value\":15.0,\"status\":1,\"valid\":true,\"description\":null},{\"id\":5,\"name\":\"WS\",\"alias\":\"\\xd7\\x9e\\xd7\\x94\\xd7\\x99\\xd7\\xa8\\xd7\\x95\\xd7\\xaa \\xd7\\xa8\\xd7\\x95\\xd7\\x97\",\"value\":-9999.0,\"status\":0,\"valid\":false,\"description\":null},{\"id\":6,\"name\":\"WD\",\"alias\":\"\\xd7\\x9b\\xd7\\x95\\xd7\\x95\\xd7\\x9f \\xd7\\xa8\\xd7\\x95\\xd7\\x97\",\"value\":-9999.0,\"status\":0,\"valid\":false,\"description\":null},{\"id\":7,\"name\":\"Temp\",\"alias\":\"\\xd7\\x98\\xd7\\x9e\\xd7\\xa4\\xd7\\xa8\\xd7\\x98\\xd7\\x95\\xd7\\xa8\\xd7\\x94\",\"value\":-9999.0,\"status\":0,\"valid\":false,\"description\":null},{\"id\":8,\"name\":\"RH\",\"alias\":\"\\xd7\\x9c\\xd7\\x97\\xd7\\x95\\xd7\\xaa \\xd7\\x90\\xd7\\x95\\xd7\\x99\\xd7\\xa8\",\"value\":-9999.0,\"status\":0,\"valid\":false,\"description\":null},{\"id\":9,\"name\":\"Rain\",\"alias\":\"\\xd7\\x92\\xd7\\xa9\\xd7\\x9d\",\"value\":-9999.0,\"status\":0,\"valid\":false,\"description\":null},{\"id\":11,\"name\":\"PM2.5\",\"alias\":\"\\xd7\\x97\\xd7\\x9c\\xd7\\xa7\\xd7\\x99\\xd7\\xa7\\xd7\\x99\\xd7\\x9d \\xd7\\xa0\\xd7\\xa9\\xd7\\x99\\xd7\\x9e\\xd7\\x99\\xd7\\x9d \\xd7\\x91\\xd7\\x92\\xd7\\x95\\xd7\\x93\\xd7\\x9c 2.5 \\xd7\\x9e\\xd7\\x99\\xd7\\xa7\\xd7\\xa8\\xd7\\x95\\xd7\\x9f\",\"value\":32.3,\"status\":1,\"valid\":true,\"description\":null},{\"id\":12,\"name\":\"O3\",\"alias\":\"\\xd7\\x90\\xd7\\x95\\xd7\\x96\\xd7\\x95\\xd7\\x9f\",\"value\":20.2,\"status\":1,\"valid\":true,\"description\":null},{\"id\":13,\"name\":\"Benzen\",\"alias\":\"\\xd7\\x91\\xd7\\xa0\\xd7\\x96\\xd7\\x9f\",\"value\":0.29,\"status\":1,\"valid\":true,\"description\":null},{\"id\":14,\"name\":\"TOLUENE\",\"alias\":\"\\xd7\\x98\\xd7\\x95\\xd7\\x9c\\xd7\\x95\\xd7\\x90\\xd7\\x9f\",\"value\":0.5,\"status\":1,\"valid\":true,\"description\":null},{\"id\":15,\"name\":\"EthylB\",\"alias\":\"\\xd7\\x90\\xd7\\x98\\xd7\\x99\\xd7\\x9c \\xd7\\x91\\xd7\\xa0\\xd7\\x96\\xd7\\x9f\",\"value\":0.15,\"status\":1,\"valid\":true,\"description\":null},{\"id\":16,\"name\":\"M+P-XY\",\"alias\":\"\\xd7\\x9e\\xd7\\x98\\xd7\\x94 \\xd7\\xa4\\xd7\\xa8\\xd7\\x94 \\xd7\\xa7\\xd7\\xa1\\xd7\\x99\\xd7\\x9c\\xd7\\x9f\",\"value\":0.46,\"status\":1,\"valid\":true,\"description\":null},{\"id\":17,\"name\":\"O-Xyle\",\"alias\":\"\\xd7\\x90\\xd7\\x95 - \\xd7\\xa7\\xd7\\xa1\\xd7\\x99\\xd7\\x9c\\xd7\\x9f\",\"value\":0.15,\"status\":1,\"valid\":true,\"description\":null}]},{\"datetime\":\"2019-11-01T00:05:00+02:00\",\"channels\":[{\"id\":1,\"name\":\"SO2\",\"alias\":\"\\xd7\\x92\\xd7\\x95\\xd7\\xa4\\xd7\\xa8\\xd7\\x99\\xd7\\xaa \\xd7\\x93\\xd7\\x95 \\xd7\\x97\\xd7\\x9e\\xd7\\xa6\\xd7\\xa0\\xd7\\x99\\xd7\\xaa\",\"value\":0.0,\"status\":1,\"valid\":true,\"description\":null},{\"id\":2,\"name\":\"No\",\"alias\":\"\\xd7\\x97\\xd7\\xa0\\xd7\\xa7\\xd7\\x9f \\xd7\\x97\\xd7\\x93 \\xd7\\x97\\xd7\\x9e\\xd7\\xa6\\xd7\\xa0\\xd7\\x99\",\"value\":764.8,\"status\":6,\"valid\":false,\"description\":null},{\"id\":3,\"name\":\"No2\",\"alias\":\"\\xd7\\x97\\xd7\\xa0\\xd7\\xa7\\xd7\\x9f \\xd7\\x93\\xd7\\x95 \\xd7\\x97\\xd7\\x9e\\xd7\\xa6\\xd7\\xa0\\xd7\\x99\",\"value\":14.8,\"status\":6,\"valid\":false,\"description\":null},{\"id\":4,\"name\":\"Nox\",\"alias\":\"\\xd7\\xaa\\xd7\\x97\\xd7\\x9e\\xd7\\x95\\xd7\\xa6\\xd7\\x95\\xd7\\xaa \\xd7\\x97\\xd7\\xa0\\xd7\\xa7\\xd7\\x9f\",\"value\":779.6,\"status\":6,\"valid\":false,\"description\":null},{\"id\":5,\"name\":\"WS\",\"alias\":\"\\xd7\\x9e\\xd7\\x94\\xd7\\x99\\xd7\\xa8\\xd7\\x95\\xd7\\xaa \\xd7\\xa8\\xd7\\x95\\xd7\\x97\",\"value\":-9999.0,\"status\":0,\"valid\":false,\"description\":null},{\"id\":6,\"name\":\"WD\",\"alias\":\"\\xd7\\x9b\\xd7\\x95\\xd7\\x95\\xd7\\x9f \\xd7\\xa8\\xd7\\x95\\xd7\\x97\",\"value\":-9999.0,\"status\":0,\"valid\":false,\"description\":null},{\"id\":7,\"name\":\"Temp\",\"alias\":\"\\xd7\\x98\\xd7\\x9e\\xd7\\xa4\\xd7\\xa8\\xd7\\x98\\xd7\\x95\\xd7\\xa8\\xd7\\x94\",\"value\":-9999.0,\"status\":0,\"valid\":false,\"description\":null},{\"id\":8,\"name\":\"RH\",\"alias\":\"\\xd7\\x9c\\xd7\\x97\\xd7\\x95\\xd7\\xaa \\xd7\\x90\\xd7\\x95\\xd7\\x99\\xd7\\xa8\",\"value\":-9999.0,\"status\":0,\"valid\":false,\"description\":null},{\"id\":9,\"name\":\"Rain\",\"alias\":\"\\xd7\\x92\\xd7\\xa9\\xd7\\x9d\",\"value\":-9999.0,\"status\":0,\"valid\":false,\"description\":null},{\"id\":11,\"name\":\"PM2.5\",\"alias\":\"\\xd7\\x97\\xd7\\x9c\\xd7\\xa7\\xd7\\x99\\xd7\\xa7\\xd7\\x99\\xd7\\x9d \\xd7\\xa0\\xd7\\xa9\\xd7\\x99\\xd7\\x9e\\xd7\\x99\\xd7\\x9d \\xd7\\x91\\xd7\\x92\\xd7\\x95\\xd7\\x93\\xd7\\x9c 2.5 \\xd7\\x9e\\xd7\\x99\\xd7\\xa7\\xd7\\xa8\\xd7\\x95\\xd7\\x9f\",\"value\":33.6,\"status\":1,\"valid\":true,\"description\":null},{\"id\":12,\"name\":\"O3\",\"alias\":\"\\xd7\\x90\\xd7\\x95\\xd7\\x96\\xd7\\x95\\xd7\\x9f\",\"value\":20.0,\"status\":1,\"valid\":true,\"description\":null},{\"id\":13,\"name\":\"Benzen\",\"alias\":\"\\xd7\\x91\\xd7\\xa0\\xd7\\x96\\xd7\\x9f\",\"value\":0.3,\"status\":1,\"valid\":true,\"description\":null},{\"id\":14,\"name\":\"TOLUENE\",\"alias\":\"\\xd7\\x98\\xd7\\x95\\xd7\\x9c\\xd7\\x95\\xd7\\x90\\xd7\\x9f\",\"value\":0.51,\"status\":1,\"valid\":true,\"description\":null},{\"id\":15,\"name\":\"EthylB\",\"alias\":\"\\xd7\\x90\\xd7\\x98\\xd7\\x99\\xd7\\x9c \\xd7\\x91\\xd7\\xa0\\xd7\\x96\\xd7\\x9f\",\"value\":0.16,\"status\":1,\"valid\":true,\"description\":null},{\"id\":16,\"name\":\"M+P-XY\",\"alias\":\"\\xd7\\x9e\\xd7\\x98\\xd7\\x94 \\xd7\\xa4\\xd7\\xa8\\xd7\\x94 \\xd7\\xa7\\xd7\\xa1\\xd7\\x99\\xd7\\x9c\\xd7\\x9f\",\"value\":0.48,\"status\":1,\"valid\":true,\"description\":null},{\"id\":17,\"name\":\"O-Xyle\",\"alias\":\"\\xd7\\x90\\xd7\\x95 - \\xd7\\xa7\\xd7\\xa1\\xd7\\x99\\xd7\\x9c\\xd7\\x9f\",\"value\":0.16,\"status\":1,\"valid\":true,\"description\":null}]},{\"datetime\":\"2019-11-01T00:10:00+02:00\",\"channels\":[{\"id\":1,\"name\":\"SO2\",\"alias\":\"\\xd7\\x92\\xd7\\x95\\xd7\\xa4\\xd7\\xa8\\xd7\\x99\\xd7\\xaa \\xd7\\x93\\xd7\\x95 \\xd7\\x97\\xd7\\x9e\\xd7\\xa6\\xd7\\xa0\\xd7\\x99\\xd7\\xaa\",\"value\":0.0,\"status\":1,\"valid\":true,\"description\":null},{\"id\":2,\"name\":\"No\",\"alias\":\"\\xd7\\x97\\xd7\\xa0\\xd7\\xa7\\xd7\\x9f \\xd7\\x97\\xd7\\x93 \\xd7\\x97\\xd7\\x9e\\xd7\\xa6\\xd7\\xa0\\xd7\\x99\",\"value\":797.2,\"status\":6,\"valid\":false,\"description\":null},{\"id\":3,\"name\":\"No2\",\"alias\":\"\\xd7\\x97\\xd7\\xa0\\xd7\\xa7\\xd7\\x9f \\xd7\\x93\\xd7\\x95 \\xd7\\x97\\xd7\\x9e\\xd7\\xa6\\xd7\\xa0\\xd7\\x99\",\"value\":4.5,\"status\":6,\"valid\":false,\"description\":null},{\"id\":4,\"name\":\"Nox\",\"alias\":\"\\xd7\\xaa\\xd7\\x97\\xd7\\x9e\\xd7\\x95\\xd7\\xa6\\xd7\\x95\\xd7\\xaa \\xd7\\x97\\xd7\\xa0\\xd7\\xa7\\xd7\\x9f\",\"value\":801.7,\"status\":6,\"valid\":false,\"description\":null},{\"id\":5,\"name\":\"WS\",\"alias\":\"\\xd7\\x9e\\xd7\\x94\\xd7\\x99\\xd7\\xa8\\xd7\\x95\\xd7\\xaa \\xd7\\xa8\\xd7\\x95\\xd7\\x97\",\"value\":-9999.0,\"status\":0,\"valid\":false,\"description\":null},{\"id\":6,\"name\":\"WD\",\"alias\":\"\\xd7\\x9b\\xd7\\x95\\xd7\\x95\\xd7\\x9f \\xd7\\xa8\\xd7\\x95\\xd7\\x97\",\"value\":-9999.0,\"status\":0,\"valid\":false,\"description\":null},{\"id\":7,\"name\":\"Temp\",\"alias\":\"\\xd7\\x98\\xd7\\x9e\\xd7\\xa4\\xd7\\xa8\\xd7\\x98\\xd7\\x95\\xd7\\xa8\\xd7\\x94\",\"value\":-9999.0,\"status\":0,\"valid\":false,\"description\":null},{\"id\":8,\"name\":\"RH\",\"alias\":\"\\xd7\\x9c\\xd7\\x97\\xd7\\x95\\xd7\\xaa \\xd7\\x90\\xd7\\x95\\xd7\\x99\\xd7\\xa8\",\"value\":-9999.0,\"status\":0,\"valid\":false,\"description\":null},{\"id\":9,\"name\":\"Rain\",\"alias\":\"\\xd7\\x92\\xd7\\xa9\\xd7\\x9d\",\"value\":-9999.0,\"status\":0,\"valid\":false,\"description\":null},{\"id\":11,\"name\":\"PM2.5\",\"alias\":\"\\xd7\\x97\\xd7\\x9c\\xd7\\xa7\\xd7\\x99\\xd7\\xa7\\xd7\\x99\\xd7\\x9d \\xd7\\xa0\\xd7\\xa9\\xd7\\x99\\xd7\\x9e\\xd7\\x99\\xd7\\x9d \\xd7\\x91\\xd7\\x92\\xd7\\x95\\xd7\\x93\\xd7\\x9c 2.5 \\xd7\\x9e\\xd7\\x99\\xd7\\xa7\\xd7\\xa8\\xd7\\x95\\xd7\\x9f\",\"value\":34.0,\"status\":1,\"valid\":true,\"description\":null},{\"id\":12,\"name\":\"O3\",\"alias\":\"\\xd7\\x90\\xd7\\x95\\xd7\\x96\\xd7\\x95\\xd7\\x9f\",\"value\":20.2,\"status\":1,\"valid\":true,\"description\":null},{\"id\":13,\"name\":\"Benzen\",\"alias\":\"\\xd7\\x91\\xd7\\xa0\\xd7\\x96\\xd7\\x9f\",\"value\":0.3,\"status\":1,\"valid\":true,\"description\":null},{\"id\":14,\"name\":\"TOLUENE\",\"alias\":\"\\xd7\\x98\\xd7\\x95\\xd7\\x9c\\xd7\\x95\\xd7\\x90\\xd7\\x9f\",\"value\":0.51,\"status\":1,\"valid\":true,\"description\":null},{\"id\":15,\"name\":\"EthylB\",\"alias\":\"\\xd7\\x90\\xd7\\x98\\xd7\\x99\\xd7\\x9c \\xd7\\x91\\xd7\\xa0\\xd7\\x96\\xd7\\x9f\",\"value\":0.16,\"status\":1,\"valid\":true,\"description\":null},{\"id\":16,\"name\":\"M+P-XY\",\"alias\":\"\\xd7\\x9e\\xd7\\x98\\xd7\\x94 \\xd7\\xa4\\xd7\\xa8\\xd7\\x94 \\xd7\\xa7\\xd7\\xa1\\xd7\\x99\\xd7\\x9c\\xd7\\x9f\",\"value\":0.48,\"status\":1,\"valid\":true,\"description\":null},{\"id\":17,\"name\":\"O-Xyle\",\"alias\":\"\\xd7\\x90\\xd7\\x95 - \\xd7\\xa7\\xd7\\xa1\\xd7\\x99\\xd7\\x9c\\xd7\\x9f\",\"value\":0.16,\"status\":1,\"valid\":true,\"description\":null}]}]}'"
      ]
     },
     "execution_count": 3,
     "metadata": {},
     "output_type": "execute_result"
    }
   ],
   "source": [
    "response.content"
   ]
  },
  {
   "cell_type": "code",
   "execution_count": 4,
   "metadata": {},
   "outputs": [],
   "source": [
    "j_response = response.json()"
   ]
  },
  {
   "cell_type": "code",
   "execution_count": 5,
   "metadata": {},
   "outputs": [
    {
     "data": {
      "text/plain": [
       "{'data': [{'channels': [{'alias': 'גופרית דו חמצנית',\n",
       "     'description': None,\n",
       "     'id': 1,\n",
       "     'name': 'SO2',\n",
       "     'status': 1,\n",
       "     'valid': True,\n",
       "     'value': 0.0},\n",
       "    {'alias': 'חנקן חד חמצני',\n",
       "     'description': None,\n",
       "     'id': 2,\n",
       "     'name': 'No',\n",
       "     'status': 1,\n",
       "     'valid': True,\n",
       "     'value': 0.0},\n",
       "    {'alias': 'חנקן דו חמצני',\n",
       "     'description': None,\n",
       "     'id': 3,\n",
       "     'name': 'No2',\n",
       "     'status': 1,\n",
       "     'valid': True,\n",
       "     'value': 15.1},\n",
       "    {'alias': 'תחמוצות חנקן',\n",
       "     'description': None,\n",
       "     'id': 4,\n",
       "     'name': 'Nox',\n",
       "     'status': 1,\n",
       "     'valid': True,\n",
       "     'value': 15.0},\n",
       "    {'alias': 'מהירות רוח',\n",
       "     'description': None,\n",
       "     'id': 5,\n",
       "     'name': 'WS',\n",
       "     'status': 0,\n",
       "     'valid': False,\n",
       "     'value': -9999.0},\n",
       "    {'alias': 'כוון רוח',\n",
       "     'description': None,\n",
       "     'id': 6,\n",
       "     'name': 'WD',\n",
       "     'status': 0,\n",
       "     'valid': False,\n",
       "     'value': -9999.0},\n",
       "    {'alias': 'טמפרטורה',\n",
       "     'description': None,\n",
       "     'id': 7,\n",
       "     'name': 'Temp',\n",
       "     'status': 0,\n",
       "     'valid': False,\n",
       "     'value': -9999.0},\n",
       "    {'alias': 'לחות אויר',\n",
       "     'description': None,\n",
       "     'id': 8,\n",
       "     'name': 'RH',\n",
       "     'status': 0,\n",
       "     'valid': False,\n",
       "     'value': -9999.0},\n",
       "    {'alias': 'גשם',\n",
       "     'description': None,\n",
       "     'id': 9,\n",
       "     'name': 'Rain',\n",
       "     'status': 0,\n",
       "     'valid': False,\n",
       "     'value': -9999.0},\n",
       "    {'alias': 'חלקיקים נשימים בגודל 2.5 מיקרון',\n",
       "     'description': None,\n",
       "     'id': 11,\n",
       "     'name': 'PM2.5',\n",
       "     'status': 1,\n",
       "     'valid': True,\n",
       "     'value': 32.3},\n",
       "    {'alias': 'אוזון',\n",
       "     'description': None,\n",
       "     'id': 12,\n",
       "     'name': 'O3',\n",
       "     'status': 1,\n",
       "     'valid': True,\n",
       "     'value': 20.2},\n",
       "    {'alias': 'בנזן',\n",
       "     'description': None,\n",
       "     'id': 13,\n",
       "     'name': 'Benzen',\n",
       "     'status': 1,\n",
       "     'valid': True,\n",
       "     'value': 0.29},\n",
       "    {'alias': 'טולואן',\n",
       "     'description': None,\n",
       "     'id': 14,\n",
       "     'name': 'TOLUENE',\n",
       "     'status': 1,\n",
       "     'valid': True,\n",
       "     'value': 0.5},\n",
       "    {'alias': 'אטיל בנזן',\n",
       "     'description': None,\n",
       "     'id': 15,\n",
       "     'name': 'EthylB',\n",
       "     'status': 1,\n",
       "     'valid': True,\n",
       "     'value': 0.15},\n",
       "    {'alias': 'מטה פרה קסילן',\n",
       "     'description': None,\n",
       "     'id': 16,\n",
       "     'name': 'M+P-XY',\n",
       "     'status': 1,\n",
       "     'valid': True,\n",
       "     'value': 0.46},\n",
       "    {'alias': 'או - קסילן',\n",
       "     'description': None,\n",
       "     'id': 17,\n",
       "     'name': 'O-Xyle',\n",
       "     'status': 1,\n",
       "     'valid': True,\n",
       "     'value': 0.15}],\n",
       "   'datetime': '2019-11-01T00:00:00+02:00'},\n",
       "  {'channels': [{'alias': 'גופרית דו חמצנית',\n",
       "     'description': None,\n",
       "     'id': 1,\n",
       "     'name': 'SO2',\n",
       "     'status': 1,\n",
       "     'valid': True,\n",
       "     'value': 0.0},\n",
       "    {'alias': 'חנקן חד חמצני',\n",
       "     'description': None,\n",
       "     'id': 2,\n",
       "     'name': 'No',\n",
       "     'status': 6,\n",
       "     'valid': False,\n",
       "     'value': 764.8},\n",
       "    {'alias': 'חנקן דו חמצני',\n",
       "     'description': None,\n",
       "     'id': 3,\n",
       "     'name': 'No2',\n",
       "     'status': 6,\n",
       "     'valid': False,\n",
       "     'value': 14.8},\n",
       "    {'alias': 'תחמוצות חנקן',\n",
       "     'description': None,\n",
       "     'id': 4,\n",
       "     'name': 'Nox',\n",
       "     'status': 6,\n",
       "     'valid': False,\n",
       "     'value': 779.6},\n",
       "    {'alias': 'מהירות רוח',\n",
       "     'description': None,\n",
       "     'id': 5,\n",
       "     'name': 'WS',\n",
       "     'status': 0,\n",
       "     'valid': False,\n",
       "     'value': -9999.0},\n",
       "    {'alias': 'כוון רוח',\n",
       "     'description': None,\n",
       "     'id': 6,\n",
       "     'name': 'WD',\n",
       "     'status': 0,\n",
       "     'valid': False,\n",
       "     'value': -9999.0},\n",
       "    {'alias': 'טמפרטורה',\n",
       "     'description': None,\n",
       "     'id': 7,\n",
       "     'name': 'Temp',\n",
       "     'status': 0,\n",
       "     'valid': False,\n",
       "     'value': -9999.0},\n",
       "    {'alias': 'לחות אויר',\n",
       "     'description': None,\n",
       "     'id': 8,\n",
       "     'name': 'RH',\n",
       "     'status': 0,\n",
       "     'valid': False,\n",
       "     'value': -9999.0},\n",
       "    {'alias': 'גשם',\n",
       "     'description': None,\n",
       "     'id': 9,\n",
       "     'name': 'Rain',\n",
       "     'status': 0,\n",
       "     'valid': False,\n",
       "     'value': -9999.0},\n",
       "    {'alias': 'חלקיקים נשימים בגודל 2.5 מיקרון',\n",
       "     'description': None,\n",
       "     'id': 11,\n",
       "     'name': 'PM2.5',\n",
       "     'status': 1,\n",
       "     'valid': True,\n",
       "     'value': 33.6},\n",
       "    {'alias': 'אוזון',\n",
       "     'description': None,\n",
       "     'id': 12,\n",
       "     'name': 'O3',\n",
       "     'status': 1,\n",
       "     'valid': True,\n",
       "     'value': 20.0},\n",
       "    {'alias': 'בנזן',\n",
       "     'description': None,\n",
       "     'id': 13,\n",
       "     'name': 'Benzen',\n",
       "     'status': 1,\n",
       "     'valid': True,\n",
       "     'value': 0.3},\n",
       "    {'alias': 'טולואן',\n",
       "     'description': None,\n",
       "     'id': 14,\n",
       "     'name': 'TOLUENE',\n",
       "     'status': 1,\n",
       "     'valid': True,\n",
       "     'value': 0.51},\n",
       "    {'alias': 'אטיל בנזן',\n",
       "     'description': None,\n",
       "     'id': 15,\n",
       "     'name': 'EthylB',\n",
       "     'status': 1,\n",
       "     'valid': True,\n",
       "     'value': 0.16},\n",
       "    {'alias': 'מטה פרה קסילן',\n",
       "     'description': None,\n",
       "     'id': 16,\n",
       "     'name': 'M+P-XY',\n",
       "     'status': 1,\n",
       "     'valid': True,\n",
       "     'value': 0.48},\n",
       "    {'alias': 'או - קסילן',\n",
       "     'description': None,\n",
       "     'id': 17,\n",
       "     'name': 'O-Xyle',\n",
       "     'status': 1,\n",
       "     'valid': True,\n",
       "     'value': 0.16}],\n",
       "   'datetime': '2019-11-01T00:05:00+02:00'},\n",
       "  {'channels': [{'alias': 'גופרית דו חמצנית',\n",
       "     'description': None,\n",
       "     'id': 1,\n",
       "     'name': 'SO2',\n",
       "     'status': 1,\n",
       "     'valid': True,\n",
       "     'value': 0.0},\n",
       "    {'alias': 'חנקן חד חמצני',\n",
       "     'description': None,\n",
       "     'id': 2,\n",
       "     'name': 'No',\n",
       "     'status': 6,\n",
       "     'valid': False,\n",
       "     'value': 797.2},\n",
       "    {'alias': 'חנקן דו חמצני',\n",
       "     'description': None,\n",
       "     'id': 3,\n",
       "     'name': 'No2',\n",
       "     'status': 6,\n",
       "     'valid': False,\n",
       "     'value': 4.5},\n",
       "    {'alias': 'תחמוצות חנקן',\n",
       "     'description': None,\n",
       "     'id': 4,\n",
       "     'name': 'Nox',\n",
       "     'status': 6,\n",
       "     'valid': False,\n",
       "     'value': 801.7},\n",
       "    {'alias': 'מהירות רוח',\n",
       "     'description': None,\n",
       "     'id': 5,\n",
       "     'name': 'WS',\n",
       "     'status': 0,\n",
       "     'valid': False,\n",
       "     'value': -9999.0},\n",
       "    {'alias': 'כוון רוח',\n",
       "     'description': None,\n",
       "     'id': 6,\n",
       "     'name': 'WD',\n",
       "     'status': 0,\n",
       "     'valid': False,\n",
       "     'value': -9999.0},\n",
       "    {'alias': 'טמפרטורה',\n",
       "     'description': None,\n",
       "     'id': 7,\n",
       "     'name': 'Temp',\n",
       "     'status': 0,\n",
       "     'valid': False,\n",
       "     'value': -9999.0},\n",
       "    {'alias': 'לחות אויר',\n",
       "     'description': None,\n",
       "     'id': 8,\n",
       "     'name': 'RH',\n",
       "     'status': 0,\n",
       "     'valid': False,\n",
       "     'value': -9999.0},\n",
       "    {'alias': 'גשם',\n",
       "     'description': None,\n",
       "     'id': 9,\n",
       "     'name': 'Rain',\n",
       "     'status': 0,\n",
       "     'valid': False,\n",
       "     'value': -9999.0},\n",
       "    {'alias': 'חלקיקים נשימים בגודל 2.5 מיקרון',\n",
       "     'description': None,\n",
       "     'id': 11,\n",
       "     'name': 'PM2.5',\n",
       "     'status': 1,\n",
       "     'valid': True,\n",
       "     'value': 34.0},\n",
       "    {'alias': 'אוזון',\n",
       "     'description': None,\n",
       "     'id': 12,\n",
       "     'name': 'O3',\n",
       "     'status': 1,\n",
       "     'valid': True,\n",
       "     'value': 20.2},\n",
       "    {'alias': 'בנזן',\n",
       "     'description': None,\n",
       "     'id': 13,\n",
       "     'name': 'Benzen',\n",
       "     'status': 1,\n",
       "     'valid': True,\n",
       "     'value': 0.3},\n",
       "    {'alias': 'טולואן',\n",
       "     'description': None,\n",
       "     'id': 14,\n",
       "     'name': 'TOLUENE',\n",
       "     'status': 1,\n",
       "     'valid': True,\n",
       "     'value': 0.51},\n",
       "    {'alias': 'אטיל בנזן',\n",
       "     'description': None,\n",
       "     'id': 15,\n",
       "     'name': 'EthylB',\n",
       "     'status': 1,\n",
       "     'valid': True,\n",
       "     'value': 0.16},\n",
       "    {'alias': 'מטה פרה קסילן',\n",
       "     'description': None,\n",
       "     'id': 16,\n",
       "     'name': 'M+P-XY',\n",
       "     'status': 1,\n",
       "     'valid': True,\n",
       "     'value': 0.48},\n",
       "    {'alias': 'או - קסילן',\n",
       "     'description': None,\n",
       "     'id': 17,\n",
       "     'name': 'O-Xyle',\n",
       "     'status': 1,\n",
       "     'valid': True,\n",
       "     'value': 0.16}],\n",
       "   'datetime': '2019-11-01T00:10:00+02:00'}],\n",
       " 'stationId': 452}"
      ]
     },
     "execution_count": 5,
     "metadata": {},
     "output_type": "execute_result"
    }
   ],
   "source": [
    "j_response"
   ]
  },
  {
   "cell_type": "markdown",
   "metadata": {},
   "source": [
    "### FUNCTIONS"
   ]
  },
  {
   "cell_type": "code",
   "execution_count": 6,
   "metadata": {},
   "outputs": [],
   "source": [
    "# extraction is in UTC time. it gives you results for UTC time. \n",
    "# the true corresponding time in Israel it was 2 or 3 hours later\n",
    "def get_data(from_date, to_date, stationId):\n",
    "    myUrl = 'https://api.svivaaqm.net/v1/envista/stations/'+stationId+'/data?from='+from_date+'&to='+to_date\n",
    "    head = {'Authorization': 'ApiToken {}'.format(myToken), 'envi-data-source': 'MANA'}\n",
    "    response = requests.get(myUrl, headers=head)\n",
    "    return response\n",
    "\n",
    "# use this to get column names and units of the station\n",
    "def get_column_names(stationId):\n",
    "    myUrl = 'https://api.svivaaqm.net/v1/envista/stations/'+stationId+'?from=2019-12-01T00:00&to=2019/12/01T00:06'\n",
    "    head = {'Authorization': 'ApiToken {}'.format(myToken), 'envi-data-source': 'MANA'}\n",
    "    response = requests.get(myUrl, headers=head)\n",
    "    # units\n",
    "    extract = response.json()['monitors']\n",
    "    units = dict()\n",
    "    for e in extract:\n",
    "        units.update({e['name']:e['units']})\n",
    "    column_names = [i + ' [' + j +']' for i, j in units.items()]\n",
    "    return list(units.keys()), column_names\n",
    "\n",
    "\n",
    "def get_dataFrame(dict_train,stationId):\n",
    "    dates = []\n",
    "    for row in dict_train:\n",
    "        dates.append(row['datetime'])\n",
    "\n",
    "    pollutants = []\n",
    "    for row in dict_train:\n",
    "        pollutant = dict()\n",
    "        for p in row['channels']:\n",
    "            pollutant.update({p['name']:p['value']})\n",
    "        pollutants.append(pollutant)\n",
    "\n",
    "    cols, station_columns = get_column_names(str(stationId))\n",
    "\n",
    "    total_list = []\n",
    "    for c in cols: #number of columns(j)\n",
    "        vals = []\n",
    "        for p in pollutants: #number of rows or values(i)\n",
    "            if p[c] is not None:\n",
    "                vals.append(p[c])\n",
    "            else:\n",
    "                vals.append(np.NaN)\n",
    "        total_list.append(vals)\n",
    "\n",
    "    data_df = pd.DataFrame(np.transpose(total_list), index = pd.to_datetime(dates,utc=True).tz_convert('Israel'), columns = station_columns)\n",
    "    \n",
    "    return data_df"
   ]
  },
  {
   "cell_type": "markdown",
   "metadata": {},
   "source": [
    "### station numbers "
   ]
  },
  {
   "cell_type": "markdown",
   "metadata": {},
   "source": [
    "ג.עדה = 107\n",
    "גן שמואל = 108 \n",
    "103 = זכרון יעקב\n",
    "מעיין צבי איגוד = 452\n",
    "456 = מעיין צבי נובל\n",
    "428 = נחשולים\n",
    "\n",
    "חיפה איגוד - 96\n",
    "אשדוד איגוד - 115\n",
    "כביש 531 אביב רעננה - 360\n",
    "כביש 531 רעות הרצליה - 362\n",
    "קיסריה = 453"
   ]
  },
  {
   "cell_type": "markdown",
   "metadata": {},
   "source": []
  },
  {
   "cell_type": "markdown",
   "metadata": {},
   "source": [
    "### (1) Get data of the last X months from relevant stations"
   ]
  },
  {
   "cell_type": "code",
   "execution_count": 7,
   "metadata": {},
   "outputs": [],
   "source": [
    "myToken = '71e67c41-8478-4310-9293-196f559493ca'"
   ]
  },
  {
   "cell_type": "code",
   "execution_count": 8,
   "metadata": {},
   "outputs": [],
   "source": [
    "# getting data of last x months or days (in LOCAL TIME (now) or UTC time (utcnow)) for a specific station\n",
    "num_days = 30\n",
    "to_time = pd.Timestamp.now().to_pydatetime().strftime('%Y-%m-%dT%H:%M')\n",
    "from_time = (pd.Timestamp.now().to_pydatetime() - relativedelta(days=num_days)).strftime('%Y-%m-%dT%H:%M')"
   ]
  },
  {
   "cell_type": "code",
   "execution_count": 9,
   "metadata": {},
   "outputs": [],
   "source": [
    "# maayanTzviIgud\n",
    "stationId = 452\n",
    "maayanTzviIgud = get_data(from_time, to_time,str(stationId))"
   ]
  },
  {
   "cell_type": "code",
   "execution_count": 10,
   "metadata": {},
   "outputs": [],
   "source": [
    "# maayanTzviNobel\n",
    "stationId = 456\n",
    "maayanTzviNobel = get_data(from_time, to_time,str(stationId))"
   ]
  },
  {
   "cell_type": "code",
   "execution_count": 11,
   "metadata": {},
   "outputs": [],
   "source": [
    "# Nachsholim\n",
    "stationId = 428\n",
    "Nachsholim = get_data(from_time, to_time,str(stationId))"
   ]
  },
  {
   "cell_type": "code",
   "execution_count": 12,
   "metadata": {},
   "outputs": [],
   "source": [
    "# # Haifa Igud\n",
    "# stationId = 96\n",
    "# Haifa = get_data(from_time, to_time,str(stationId))\n",
    "\n",
    "# Raanana\n",
    "stationId = 360\n",
    "Raanana_531 = get_data(from_time, to_time,str(stationId))"
   ]
  },
  {
   "cell_type": "markdown",
   "metadata": {},
   "source": [
    "### (2) create dataframes of stations"
   ]
  },
  {
   "cell_type": "code",
   "execution_count": 13,
   "metadata": {},
   "outputs": [],
   "source": [
    "# create dataframes\n",
    "\n",
    "# maayanTzviIgud\n",
    "stationId = 452\n",
    "dict_train = maayanTzviIgud.json()['data']\n",
    "df1 = get_dataFrame(dict_train,stationId)"
   ]
  },
  {
   "cell_type": "code",
   "execution_count": 14,
   "metadata": {},
   "outputs": [
    {
     "data": {
      "text/html": [
       "<div>\n",
       "<style scoped>\n",
       "    .dataframe tbody tr th:only-of-type {\n",
       "        vertical-align: middle;\n",
       "    }\n",
       "\n",
       "    .dataframe tbody tr th {\n",
       "        vertical-align: top;\n",
       "    }\n",
       "\n",
       "    .dataframe thead th {\n",
       "        text-align: right;\n",
       "    }\n",
       "</style>\n",
       "<table border=\"1\" class=\"dataframe\">\n",
       "  <thead>\n",
       "    <tr style=\"text-align: right;\">\n",
       "      <th></th>\n",
       "      <th>SO2 [ppb]</th>\n",
       "      <th>No [ppb]</th>\n",
       "      <th>No2 [ppb]</th>\n",
       "      <th>Nox [ppb]</th>\n",
       "      <th>WS [m/sec]</th>\n",
       "      <th>WD [deg]</th>\n",
       "      <th>Temp [°c]</th>\n",
       "      <th>RH [%]</th>\n",
       "      <th>Rain [mm]</th>\n",
       "      <th>PM2.5 [µg/m3]</th>\n",
       "      <th>O3 [ppb]</th>\n",
       "      <th>Benzen [ppb]</th>\n",
       "      <th>TOLUENE [ppb]</th>\n",
       "      <th>EthylB [ppb]</th>\n",
       "      <th>M+P-XY [ppb]</th>\n",
       "      <th>O-Xyle [ppb]</th>\n",
       "    </tr>\n",
       "  </thead>\n",
       "  <tbody>\n",
       "    <tr>\n",
       "      <th>2020-03-31 10:15:00+03:00</th>\n",
       "      <td>0.8</td>\n",
       "      <td>0.0</td>\n",
       "      <td>2.8</td>\n",
       "      <td>3.1</td>\n",
       "      <td>11.2</td>\n",
       "      <td>101.0</td>\n",
       "      <td>-9999.0</td>\n",
       "      <td>-9999.0</td>\n",
       "      <td>-9999.0</td>\n",
       "      <td>-9999.0</td>\n",
       "      <td>38.1</td>\n",
       "      <td>0.12</td>\n",
       "      <td>0.15</td>\n",
       "      <td>0.02</td>\n",
       "      <td>0.08</td>\n",
       "      <td>0.02</td>\n",
       "    </tr>\n",
       "    <tr>\n",
       "      <th>2020-03-31 10:20:00+03:00</th>\n",
       "      <td>0.7</td>\n",
       "      <td>0.0</td>\n",
       "      <td>2.8</td>\n",
       "      <td>3.0</td>\n",
       "      <td>11.1</td>\n",
       "      <td>98.0</td>\n",
       "      <td>-9999.0</td>\n",
       "      <td>-9999.0</td>\n",
       "      <td>-9999.0</td>\n",
       "      <td>-9999.0</td>\n",
       "      <td>37.7</td>\n",
       "      <td>0.12</td>\n",
       "      <td>0.15</td>\n",
       "      <td>0.02</td>\n",
       "      <td>0.08</td>\n",
       "      <td>0.02</td>\n",
       "    </tr>\n",
       "    <tr>\n",
       "      <th>2020-03-31 10:25:00+03:00</th>\n",
       "      <td>0.7</td>\n",
       "      <td>0.0</td>\n",
       "      <td>3.3</td>\n",
       "      <td>3.6</td>\n",
       "      <td>11.3</td>\n",
       "      <td>98.0</td>\n",
       "      <td>-9999.0</td>\n",
       "      <td>-9999.0</td>\n",
       "      <td>-9999.0</td>\n",
       "      <td>-9999.0</td>\n",
       "      <td>36.5</td>\n",
       "      <td>0.12</td>\n",
       "      <td>0.15</td>\n",
       "      <td>0.02</td>\n",
       "      <td>0.08</td>\n",
       "      <td>0.02</td>\n",
       "    </tr>\n",
       "    <tr>\n",
       "      <th>2020-03-31 10:30:00+03:00</th>\n",
       "      <td>0.9</td>\n",
       "      <td>0.3</td>\n",
       "      <td>4.2</td>\n",
       "      <td>4.7</td>\n",
       "      <td>11.1</td>\n",
       "      <td>100.0</td>\n",
       "      <td>-9999.0</td>\n",
       "      <td>-9999.0</td>\n",
       "      <td>-9999.0</td>\n",
       "      <td>-9999.0</td>\n",
       "      <td>35.3</td>\n",
       "      <td>0.12</td>\n",
       "      <td>0.13</td>\n",
       "      <td>0.02</td>\n",
       "      <td>0.08</td>\n",
       "      <td>0.02</td>\n",
       "    </tr>\n",
       "    <tr>\n",
       "      <th>2020-03-31 10:35:00+03:00</th>\n",
       "      <td>0.8</td>\n",
       "      <td>0.3</td>\n",
       "      <td>4.3</td>\n",
       "      <td>4.8</td>\n",
       "      <td>11.4</td>\n",
       "      <td>100.0</td>\n",
       "      <td>-9999.0</td>\n",
       "      <td>-9999.0</td>\n",
       "      <td>-9999.0</td>\n",
       "      <td>-9999.0</td>\n",
       "      <td>35.6</td>\n",
       "      <td>0.12</td>\n",
       "      <td>0.13</td>\n",
       "      <td>0.02</td>\n",
       "      <td>0.08</td>\n",
       "      <td>0.02</td>\n",
       "    </tr>\n",
       "  </tbody>\n",
       "</table>\n",
       "</div>"
      ],
      "text/plain": [
       "                           SO2 [ppb]  No [ppb]  No2 [ppb]  Nox [ppb]  \\\n",
       "2020-03-31 10:15:00+03:00        0.8       0.0        2.8        3.1   \n",
       "2020-03-31 10:20:00+03:00        0.7       0.0        2.8        3.0   \n",
       "2020-03-31 10:25:00+03:00        0.7       0.0        3.3        3.6   \n",
       "2020-03-31 10:30:00+03:00        0.9       0.3        4.2        4.7   \n",
       "2020-03-31 10:35:00+03:00        0.8       0.3        4.3        4.8   \n",
       "\n",
       "                           WS [m/sec]  WD [deg]  Temp [°c]  RH [%]  Rain [mm]  \\\n",
       "2020-03-31 10:15:00+03:00        11.2     101.0    -9999.0 -9999.0    -9999.0   \n",
       "2020-03-31 10:20:00+03:00        11.1      98.0    -9999.0 -9999.0    -9999.0   \n",
       "2020-03-31 10:25:00+03:00        11.3      98.0    -9999.0 -9999.0    -9999.0   \n",
       "2020-03-31 10:30:00+03:00        11.1     100.0    -9999.0 -9999.0    -9999.0   \n",
       "2020-03-31 10:35:00+03:00        11.4     100.0    -9999.0 -9999.0    -9999.0   \n",
       "\n",
       "                           PM2.5 [µg/m3]  O3 [ppb]  Benzen [ppb]  \\\n",
       "2020-03-31 10:15:00+03:00        -9999.0      38.1          0.12   \n",
       "2020-03-31 10:20:00+03:00        -9999.0      37.7          0.12   \n",
       "2020-03-31 10:25:00+03:00        -9999.0      36.5          0.12   \n",
       "2020-03-31 10:30:00+03:00        -9999.0      35.3          0.12   \n",
       "2020-03-31 10:35:00+03:00        -9999.0      35.6          0.12   \n",
       "\n",
       "                           TOLUENE [ppb]  EthylB [ppb]  M+P-XY [ppb]  \\\n",
       "2020-03-31 10:15:00+03:00           0.15          0.02          0.08   \n",
       "2020-03-31 10:20:00+03:00           0.15          0.02          0.08   \n",
       "2020-03-31 10:25:00+03:00           0.15          0.02          0.08   \n",
       "2020-03-31 10:30:00+03:00           0.13          0.02          0.08   \n",
       "2020-03-31 10:35:00+03:00           0.13          0.02          0.08   \n",
       "\n",
       "                           O-Xyle [ppb]  \n",
       "2020-03-31 10:15:00+03:00          0.02  \n",
       "2020-03-31 10:20:00+03:00          0.02  \n",
       "2020-03-31 10:25:00+03:00          0.02  \n",
       "2020-03-31 10:30:00+03:00          0.02  \n",
       "2020-03-31 10:35:00+03:00          0.02  "
      ]
     },
     "execution_count": 14,
     "metadata": {},
     "output_type": "execute_result"
    }
   ],
   "source": [
    "df1.head()"
   ]
  },
  {
   "cell_type": "code",
   "execution_count": 15,
   "metadata": {},
   "outputs": [],
   "source": [
    "# maayanTzviNobel\n",
    "stationId = 456\n",
    "dict_train = maayanTzviNobel.json()['data']\n",
    "df2 = get_dataFrame(dict_train,stationId)"
   ]
  },
  {
   "cell_type": "code",
   "execution_count": 16,
   "metadata": {},
   "outputs": [
    {
     "data": {
      "text/html": [
       "<div>\n",
       "<style scoped>\n",
       "    .dataframe tbody tr th:only-of-type {\n",
       "        vertical-align: middle;\n",
       "    }\n",
       "\n",
       "    .dataframe tbody tr th {\n",
       "        vertical-align: top;\n",
       "    }\n",
       "\n",
       "    .dataframe thead th {\n",
       "        text-align: right;\n",
       "    }\n",
       "</style>\n",
       "<table border=\"1\" class=\"dataframe\">\n",
       "  <thead>\n",
       "    <tr style=\"text-align: right;\">\n",
       "      <th></th>\n",
       "      <th>Benzen [ppb]</th>\n",
       "      <th>TOLUENE [ppb]</th>\n",
       "      <th>EthylB [ppb]</th>\n",
       "      <th>M+P-XY [ppb]</th>\n",
       "      <th>O-Xyle [ppb]</th>\n",
       "      <th>Nox [ppb]</th>\n",
       "      <th>No [ppb]</th>\n",
       "      <th>No2 [ppb]</th>\n",
       "      <th>O3 [ppb]</th>\n",
       "    </tr>\n",
       "  </thead>\n",
       "  <tbody>\n",
       "    <tr>\n",
       "      <th>2020-03-31 10:15:00+03:00</th>\n",
       "      <td>0.07</td>\n",
       "      <td>0.06</td>\n",
       "      <td>0.01</td>\n",
       "      <td>0.02</td>\n",
       "      <td>0.01</td>\n",
       "      <td>4.6</td>\n",
       "      <td>1.4</td>\n",
       "      <td>3.2</td>\n",
       "      <td>42.9</td>\n",
       "    </tr>\n",
       "    <tr>\n",
       "      <th>2020-03-31 10:20:00+03:00</th>\n",
       "      <td>0.07</td>\n",
       "      <td>0.06</td>\n",
       "      <td>0.01</td>\n",
       "      <td>0.02</td>\n",
       "      <td>0.01</td>\n",
       "      <td>4.3</td>\n",
       "      <td>1.2</td>\n",
       "      <td>3.0</td>\n",
       "      <td>42.4</td>\n",
       "    </tr>\n",
       "    <tr>\n",
       "      <th>2020-03-31 10:25:00+03:00</th>\n",
       "      <td>0.07</td>\n",
       "      <td>0.06</td>\n",
       "      <td>0.01</td>\n",
       "      <td>0.02</td>\n",
       "      <td>0.01</td>\n",
       "      <td>5.0</td>\n",
       "      <td>1.2</td>\n",
       "      <td>3.7</td>\n",
       "      <td>40.9</td>\n",
       "    </tr>\n",
       "    <tr>\n",
       "      <th>2020-03-31 10:30:00+03:00</th>\n",
       "      <td>0.07</td>\n",
       "      <td>0.06</td>\n",
       "      <td>0.01</td>\n",
       "      <td>0.02</td>\n",
       "      <td>0.01</td>\n",
       "      <td>6.3</td>\n",
       "      <td>1.4</td>\n",
       "      <td>4.9</td>\n",
       "      <td>39.7</td>\n",
       "    </tr>\n",
       "    <tr>\n",
       "      <th>2020-03-31 10:35:00+03:00</th>\n",
       "      <td>0.07</td>\n",
       "      <td>0.06</td>\n",
       "      <td>0.01</td>\n",
       "      <td>0.02</td>\n",
       "      <td>0.01</td>\n",
       "      <td>6.6</td>\n",
       "      <td>1.5</td>\n",
       "      <td>5.1</td>\n",
       "      <td>41.2</td>\n",
       "    </tr>\n",
       "  </tbody>\n",
       "</table>\n",
       "</div>"
      ],
      "text/plain": [
       "                           Benzen [ppb]  TOLUENE [ppb]  EthylB [ppb]  \\\n",
       "2020-03-31 10:15:00+03:00          0.07           0.06          0.01   \n",
       "2020-03-31 10:20:00+03:00          0.07           0.06          0.01   \n",
       "2020-03-31 10:25:00+03:00          0.07           0.06          0.01   \n",
       "2020-03-31 10:30:00+03:00          0.07           0.06          0.01   \n",
       "2020-03-31 10:35:00+03:00          0.07           0.06          0.01   \n",
       "\n",
       "                           M+P-XY [ppb]  O-Xyle [ppb]  Nox [ppb]  No [ppb]  \\\n",
       "2020-03-31 10:15:00+03:00          0.02          0.01        4.6       1.4   \n",
       "2020-03-31 10:20:00+03:00          0.02          0.01        4.3       1.2   \n",
       "2020-03-31 10:25:00+03:00          0.02          0.01        5.0       1.2   \n",
       "2020-03-31 10:30:00+03:00          0.02          0.01        6.3       1.4   \n",
       "2020-03-31 10:35:00+03:00          0.02          0.01        6.6       1.5   \n",
       "\n",
       "                           No2 [ppb]  O3 [ppb]  \n",
       "2020-03-31 10:15:00+03:00        3.2      42.9  \n",
       "2020-03-31 10:20:00+03:00        3.0      42.4  \n",
       "2020-03-31 10:25:00+03:00        3.7      40.9  \n",
       "2020-03-31 10:30:00+03:00        4.9      39.7  \n",
       "2020-03-31 10:35:00+03:00        5.1      41.2  "
      ]
     },
     "execution_count": 16,
     "metadata": {},
     "output_type": "execute_result"
    }
   ],
   "source": [
    "df2.head()"
   ]
  },
  {
   "cell_type": "code",
   "execution_count": 17,
   "metadata": {},
   "outputs": [],
   "source": [
    "# # Nachsholim\n",
    "# stationId = 428\n",
    "# dict_train = Nachsholim.json()['data']\n",
    "# df3 = get_dataFrame(dict_train,stationId)"
   ]
  },
  {
   "cell_type": "code",
   "execution_count": 18,
   "metadata": {},
   "outputs": [],
   "source": [
    "# df3.head(2)"
   ]
  },
  {
   "cell_type": "code",
   "execution_count": 19,
   "metadata": {},
   "outputs": [],
   "source": [
    "# df4"
   ]
  },
  {
   "cell_type": "code",
   "execution_count": 20,
   "metadata": {},
   "outputs": [],
   "source": [
    "# Hifa/kfarSaba/Ashdod/Hertzelia/Raanana_531\n",
    "stationId = 360\n",
    "dict_train = Raanana_531.json()['data']\n",
    "df4 = get_dataFrame(dict_train,stationId)"
   ]
  },
  {
   "cell_type": "code",
   "execution_count": 21,
   "metadata": {},
   "outputs": [
    {
     "data": {
      "text/html": [
       "<div>\n",
       "<style scoped>\n",
       "    .dataframe tbody tr th:only-of-type {\n",
       "        vertical-align: middle;\n",
       "    }\n",
       "\n",
       "    .dataframe tbody tr th {\n",
       "        vertical-align: top;\n",
       "    }\n",
       "\n",
       "    .dataframe thead th {\n",
       "        text-align: right;\n",
       "    }\n",
       "</style>\n",
       "<table border=\"1\" class=\"dataframe\">\n",
       "  <thead>\n",
       "    <tr style=\"text-align: right;\">\n",
       "      <th></th>\n",
       "      <th>PM2.5 [µg/m3]</th>\n",
       "      <th>No [ppb]</th>\n",
       "      <th>Nox [ppb]</th>\n",
       "      <th>No2 [ppb]</th>\n",
       "      <th>Benzen [ppb]</th>\n",
       "      <th>TOLUENE [ppb]</th>\n",
       "      <th>P-Xylen [ppb]</th>\n",
       "    </tr>\n",
       "  </thead>\n",
       "  <tbody>\n",
       "    <tr>\n",
       "      <th>2020-04-28 02:25:00+03:00</th>\n",
       "      <td>8.0</td>\n",
       "      <td>3.6</td>\n",
       "      <td>16.0</td>\n",
       "      <td>12.3</td>\n",
       "      <td>0.29</td>\n",
       "      <td>1.01</td>\n",
       "      <td>0.2</td>\n",
       "    </tr>\n",
       "    <tr>\n",
       "      <th>2020-04-28 02:30:00+03:00</th>\n",
       "      <td>8.0</td>\n",
       "      <td>3.1</td>\n",
       "      <td>15.6</td>\n",
       "      <td>12.5</td>\n",
       "      <td>0.29</td>\n",
       "      <td>1.01</td>\n",
       "      <td>0.2</td>\n",
       "    </tr>\n",
       "  </tbody>\n",
       "</table>\n",
       "</div>"
      ],
      "text/plain": [
       "                           PM2.5 [µg/m3]  No [ppb]  Nox [ppb]  No2 [ppb]  \\\n",
       "2020-04-28 02:25:00+03:00            8.0       3.6       16.0       12.3   \n",
       "2020-04-28 02:30:00+03:00            8.0       3.1       15.6       12.5   \n",
       "\n",
       "                           Benzen [ppb]  TOLUENE [ppb]  P-Xylen [ppb]  \n",
       "2020-04-28 02:25:00+03:00          0.29           1.01            0.2  \n",
       "2020-04-28 02:30:00+03:00          0.29           1.01            0.2  "
      ]
     },
     "execution_count": 21,
     "metadata": {},
     "output_type": "execute_result"
    }
   ],
   "source": [
    "df4.tail(2)"
   ]
  },
  {
   "cell_type": "markdown",
   "metadata": {},
   "source": [
    "### (3) concat to one happy dataframe"
   ]
  },
  {
   "cell_type": "code",
   "execution_count": 22,
   "metadata": {},
   "outputs": [],
   "source": [
    "# total_df_backup = data_df"
   ]
  },
  {
   "cell_type": "code",
   "execution_count": null,
   "metadata": {},
   "outputs": [],
   "source": []
  },
  {
   "cell_type": "code",
   "execution_count": 23,
   "metadata": {},
   "outputs": [],
   "source": [
    "# now - replace negative values or momentary extreme values in nans\n",
    "df1[df1<0]=np.nan\n",
    "df2[df2<0]=np.nan\n",
    "# df3[df3<0]=np.nan\n",
    "df4[df4<0]=np.nan"
   ]
  },
  {
   "cell_type": "code",
   "execution_count": 24,
   "metadata": {},
   "outputs": [],
   "source": [
    "# # NOT A GOOD OPTION - JUST CUT EVERYTHING OVER A THRESHOLD\n",
    "# df1[df1>200]=np.nan\n",
    "# df2[df2>200]=np.nan\n",
    "# df3[df3>200]=np.nan"
   ]
  },
  {
   "cell_type": "code",
   "execution_count": 25,
   "metadata": {},
   "outputs": [],
   "source": [
    "# BETTER OPTION - TAKE AN AVERAGE OF ALL SPECIFIC TIMES IN A DAY - AND/OR COUNT THE NUMBER OF OBSERVATIONS OUT OF X DAYS \n",
    "# THAT ARE ABOVE A CERTAIN THRESHOLD (LIKE MORE THAN N-2) AND THEN ERASE THOSE TIMES\n",
    "\n",
    "# df1.groupby\n",
    "\n",
    "# df1.groupby([datetime.hour, datetime.minute]).value_col.sum()"
   ]
  },
  {
   "cell_type": "code",
   "execution_count": 26,
   "metadata": {},
   "outputs": [],
   "source": [
    "# data_df = pd.concat([df1, df2, df3, df4], keys=['Maayan-Zvi igud', 'Maayan-Zvi Nobel','Nachsholim','Raanana_531'],sort=False)\n",
    "data_df = pd.concat([df1, df2, df4], keys=['Maayan-Zvi igud', 'Maayan-Zvi Nobel','Raanana_531'],sort=False)"
   ]
  },
  {
   "cell_type": "code",
   "execution_count": 27,
   "metadata": {},
   "outputs": [
    {
     "data": {
      "text/html": [
       "<div>\n",
       "<style scoped>\n",
       "    .dataframe tbody tr th:only-of-type {\n",
       "        vertical-align: middle;\n",
       "    }\n",
       "\n",
       "    .dataframe tbody tr th {\n",
       "        vertical-align: top;\n",
       "    }\n",
       "\n",
       "    .dataframe thead th {\n",
       "        text-align: right;\n",
       "    }\n",
       "</style>\n",
       "<table border=\"1\" class=\"dataframe\">\n",
       "  <thead>\n",
       "    <tr style=\"text-align: right;\">\n",
       "      <th></th>\n",
       "      <th></th>\n",
       "      <th>SO2 [ppb]</th>\n",
       "      <th>No [ppb]</th>\n",
       "      <th>No2 [ppb]</th>\n",
       "      <th>Nox [ppb]</th>\n",
       "      <th>WS [m/sec]</th>\n",
       "      <th>WD [deg]</th>\n",
       "      <th>Temp [°c]</th>\n",
       "      <th>RH [%]</th>\n",
       "      <th>Rain [mm]</th>\n",
       "      <th>PM2.5 [µg/m3]</th>\n",
       "      <th>O3 [ppb]</th>\n",
       "      <th>Benzen [ppb]</th>\n",
       "      <th>TOLUENE [ppb]</th>\n",
       "      <th>EthylB [ppb]</th>\n",
       "      <th>M+P-XY [ppb]</th>\n",
       "      <th>O-Xyle [ppb]</th>\n",
       "      <th>P-Xylen [ppb]</th>\n",
       "    </tr>\n",
       "  </thead>\n",
       "  <tbody>\n",
       "    <tr>\n",
       "      <th rowspan=\"5\" valign=\"top\">Maayan-Zvi igud</th>\n",
       "      <th>2020-03-31 10:15:00+03:00</th>\n",
       "      <td>0.8</td>\n",
       "      <td>0.0</td>\n",
       "      <td>2.8</td>\n",
       "      <td>3.1</td>\n",
       "      <td>11.2</td>\n",
       "      <td>101.0</td>\n",
       "      <td>NaN</td>\n",
       "      <td>NaN</td>\n",
       "      <td>NaN</td>\n",
       "      <td>NaN</td>\n",
       "      <td>38.1</td>\n",
       "      <td>0.12</td>\n",
       "      <td>0.15</td>\n",
       "      <td>0.02</td>\n",
       "      <td>0.08</td>\n",
       "      <td>0.02</td>\n",
       "      <td>NaN</td>\n",
       "    </tr>\n",
       "    <tr>\n",
       "      <th>2020-03-31 10:20:00+03:00</th>\n",
       "      <td>0.7</td>\n",
       "      <td>0.0</td>\n",
       "      <td>2.8</td>\n",
       "      <td>3.0</td>\n",
       "      <td>11.1</td>\n",
       "      <td>98.0</td>\n",
       "      <td>NaN</td>\n",
       "      <td>NaN</td>\n",
       "      <td>NaN</td>\n",
       "      <td>NaN</td>\n",
       "      <td>37.7</td>\n",
       "      <td>0.12</td>\n",
       "      <td>0.15</td>\n",
       "      <td>0.02</td>\n",
       "      <td>0.08</td>\n",
       "      <td>0.02</td>\n",
       "      <td>NaN</td>\n",
       "    </tr>\n",
       "    <tr>\n",
       "      <th>2020-03-31 10:25:00+03:00</th>\n",
       "      <td>0.7</td>\n",
       "      <td>0.0</td>\n",
       "      <td>3.3</td>\n",
       "      <td>3.6</td>\n",
       "      <td>11.3</td>\n",
       "      <td>98.0</td>\n",
       "      <td>NaN</td>\n",
       "      <td>NaN</td>\n",
       "      <td>NaN</td>\n",
       "      <td>NaN</td>\n",
       "      <td>36.5</td>\n",
       "      <td>0.12</td>\n",
       "      <td>0.15</td>\n",
       "      <td>0.02</td>\n",
       "      <td>0.08</td>\n",
       "      <td>0.02</td>\n",
       "      <td>NaN</td>\n",
       "    </tr>\n",
       "    <tr>\n",
       "      <th>2020-03-31 10:30:00+03:00</th>\n",
       "      <td>0.9</td>\n",
       "      <td>0.3</td>\n",
       "      <td>4.2</td>\n",
       "      <td>4.7</td>\n",
       "      <td>11.1</td>\n",
       "      <td>100.0</td>\n",
       "      <td>NaN</td>\n",
       "      <td>NaN</td>\n",
       "      <td>NaN</td>\n",
       "      <td>NaN</td>\n",
       "      <td>35.3</td>\n",
       "      <td>0.12</td>\n",
       "      <td>0.13</td>\n",
       "      <td>0.02</td>\n",
       "      <td>0.08</td>\n",
       "      <td>0.02</td>\n",
       "      <td>NaN</td>\n",
       "    </tr>\n",
       "    <tr>\n",
       "      <th>2020-03-31 10:35:00+03:00</th>\n",
       "      <td>0.8</td>\n",
       "      <td>0.3</td>\n",
       "      <td>4.3</td>\n",
       "      <td>4.8</td>\n",
       "      <td>11.4</td>\n",
       "      <td>100.0</td>\n",
       "      <td>NaN</td>\n",
       "      <td>NaN</td>\n",
       "      <td>NaN</td>\n",
       "      <td>NaN</td>\n",
       "      <td>35.6</td>\n",
       "      <td>0.12</td>\n",
       "      <td>0.13</td>\n",
       "      <td>0.02</td>\n",
       "      <td>0.08</td>\n",
       "      <td>0.02</td>\n",
       "      <td>NaN</td>\n",
       "    </tr>\n",
       "  </tbody>\n",
       "</table>\n",
       "</div>"
      ],
      "text/plain": [
       "                                           SO2 [ppb]  No [ppb]  No2 [ppb]  \\\n",
       "Maayan-Zvi igud 2020-03-31 10:15:00+03:00        0.8       0.0        2.8   \n",
       "                2020-03-31 10:20:00+03:00        0.7       0.0        2.8   \n",
       "                2020-03-31 10:25:00+03:00        0.7       0.0        3.3   \n",
       "                2020-03-31 10:30:00+03:00        0.9       0.3        4.2   \n",
       "                2020-03-31 10:35:00+03:00        0.8       0.3        4.3   \n",
       "\n",
       "                                           Nox [ppb]  WS [m/sec]  WD [deg]  \\\n",
       "Maayan-Zvi igud 2020-03-31 10:15:00+03:00        3.1        11.2     101.0   \n",
       "                2020-03-31 10:20:00+03:00        3.0        11.1      98.0   \n",
       "                2020-03-31 10:25:00+03:00        3.6        11.3      98.0   \n",
       "                2020-03-31 10:30:00+03:00        4.7        11.1     100.0   \n",
       "                2020-03-31 10:35:00+03:00        4.8        11.4     100.0   \n",
       "\n",
       "                                           Temp [°c]  RH [%]  Rain [mm]  \\\n",
       "Maayan-Zvi igud 2020-03-31 10:15:00+03:00        NaN     NaN        NaN   \n",
       "                2020-03-31 10:20:00+03:00        NaN     NaN        NaN   \n",
       "                2020-03-31 10:25:00+03:00        NaN     NaN        NaN   \n",
       "                2020-03-31 10:30:00+03:00        NaN     NaN        NaN   \n",
       "                2020-03-31 10:35:00+03:00        NaN     NaN        NaN   \n",
       "\n",
       "                                           PM2.5 [µg/m3]  O3 [ppb]  \\\n",
       "Maayan-Zvi igud 2020-03-31 10:15:00+03:00            NaN      38.1   \n",
       "                2020-03-31 10:20:00+03:00            NaN      37.7   \n",
       "                2020-03-31 10:25:00+03:00            NaN      36.5   \n",
       "                2020-03-31 10:30:00+03:00            NaN      35.3   \n",
       "                2020-03-31 10:35:00+03:00            NaN      35.6   \n",
       "\n",
       "                                           Benzen [ppb]  TOLUENE [ppb]  \\\n",
       "Maayan-Zvi igud 2020-03-31 10:15:00+03:00          0.12           0.15   \n",
       "                2020-03-31 10:20:00+03:00          0.12           0.15   \n",
       "                2020-03-31 10:25:00+03:00          0.12           0.15   \n",
       "                2020-03-31 10:30:00+03:00          0.12           0.13   \n",
       "                2020-03-31 10:35:00+03:00          0.12           0.13   \n",
       "\n",
       "                                           EthylB [ppb]  M+P-XY [ppb]  \\\n",
       "Maayan-Zvi igud 2020-03-31 10:15:00+03:00          0.02          0.08   \n",
       "                2020-03-31 10:20:00+03:00          0.02          0.08   \n",
       "                2020-03-31 10:25:00+03:00          0.02          0.08   \n",
       "                2020-03-31 10:30:00+03:00          0.02          0.08   \n",
       "                2020-03-31 10:35:00+03:00          0.02          0.08   \n",
       "\n",
       "                                           O-Xyle [ppb]  P-Xylen [ppb]  \n",
       "Maayan-Zvi igud 2020-03-31 10:15:00+03:00          0.02            NaN  \n",
       "                2020-03-31 10:20:00+03:00          0.02            NaN  \n",
       "                2020-03-31 10:25:00+03:00          0.02            NaN  \n",
       "                2020-03-31 10:30:00+03:00          0.02            NaN  \n",
       "                2020-03-31 10:35:00+03:00          0.02            NaN  "
      ]
     },
     "execution_count": 27,
     "metadata": {},
     "output_type": "execute_result"
    }
   ],
   "source": [
    "# data_df.loc['Maayan-Zvi igud'].iloc[-15*12*24:].head()\n",
    "data_df.head()"
   ]
  },
  {
   "cell_type": "code",
   "execution_count": 28,
   "metadata": {},
   "outputs": [
    {
     "data": {
      "image/png": "[encoded data removed]",
      "text/plain": [
       "<Figure size 1080x504 with 1 Axes>"
      ]
     },
     "metadata": {
      "image/png": {
       "height": 401,
       "width": 890
      }
     },
     "output_type": "display_data"
    }
   ],
   "source": [
    "fig, ax = plt.subplots(figsize=(15,7))\n",
    "data_df.loc['Maayan-Zvi igud']['WD [deg]'].plot(ax=ax,legend=True)\n",
    "# plt.legend(loc='lower right', bbox_to_anchor=(1.15, 0.5))\n",
    "plt.show();"
   ]
  },
  {
   "cell_type": "code",
   "execution_count": null,
   "metadata": {},
   "outputs": [],
   "source": []
  },
  {
   "cell_type": "code",
   "execution_count": null,
   "metadata": {},
   "outputs": [],
   "source": []
  },
  {
   "cell_type": "code",
   "execution_count": null,
   "metadata": {},
   "outputs": [],
   "source": []
  },
  {
   "cell_type": "code",
   "execution_count": null,
   "metadata": {},
   "outputs": [],
   "source": []
  },
  {
   "cell_type": "code",
   "execution_count": 29,
   "metadata": {},
   "outputs": [],
   "source": [
    "# np.shape(data_df.loc['Maayan-Zvi igud'])\n",
    "# np.shape(X)"
   ]
  },
  {
   "cell_type": "code",
   "execution_count": 30,
   "metadata": {},
   "outputs": [],
   "source": [
    "threeH_speed = data_df.loc['Maayan-Zvi igud']['WS [m/sec]']#.resample('3H').mean()\n",
    "threeH_direction = data_df.loc['Maayan-Zvi igud']['WD [deg]']#.resample('3H').mean()\n",
    "\n",
    "X=threeH_speed.index#.values\n",
    "Y=np.ones(X.shape)*40\n",
    "\n",
    "U,V = mpcalc.wind_components(threeH_speed.values* units('m/s'),threeH_direction.values* units.deg)"
   ]
  },
  {
   "cell_type": "code",
   "execution_count": 31,
   "metadata": {},
   "outputs": [
    {
     "data": {
      "text/plain": [
       "<Figure size 432x288 with 0 Axes>"
      ]
     },
     "execution_count": 31,
     "metadata": {},
     "output_type": "execute_result"
    },
    {
     "data": {
      "text/plain": [
       "<matplotlib.quiver.Quiver at 0x10446ab70>"
      ]
     },
     "execution_count": 31,
     "metadata": {},
     "output_type": "execute_result"
    },
    {
     "data": {
      "text/plain": [
       "(737513.8048611111, 737546.74375, 37.8, 42.2)"
      ]
     },
     "execution_count": 31,
     "metadata": {},
     "output_type": "execute_result"
    },
    {
     "data": {
      "image/png": "[encoded data removed]",
      "text/plain": [
       "<Figure size 432x288 with 1 Axes>"
      ]
     },
     "metadata": {
      "image/png": {
       "height": 248,
       "width": 398
      }
     },
     "output_type": "display_data"
    }
   ],
   "source": [
    "\n",
    "plt.figure()\n",
    "plt.quiver(X, Y, U, V, units='xy', scale = 1.5)\n",
    "plt.axis('equal')\n",
    "plt.show()"
   ]
  },
  {
   "cell_type": "code",
   "execution_count": null,
   "metadata": {},
   "outputs": [],
   "source": [
    "\n"
   ]
  },
  {
   "cell_type": "code",
   "execution_count": 32,
   "metadata": {},
   "outputs": [],
   "source": [
    "# drop WD, WS, Temp, RH, Rain\n",
    "data_df.drop(columns=['WS [m/sec]','WD [deg]','Temp [°c]','RH [%]','Rain [mm]'],inplace=True)"
   ]
  },
  {
   "cell_type": "code",
   "execution_count": null,
   "metadata": {},
   "outputs": [],
   "source": []
  },
  {
   "cell_type": "code",
   "execution_count": 33,
   "metadata": {},
   "outputs": [],
   "source": [
    "# # later - find each pollutant and its time of calibration:\n",
    "# std = data_df['Nox [ppb]'].rolling(window=12).std()\n",
    "# std[0:-1]\n",
    "# temp = data_df.iloc[1:]\n",
    "\n",
    "# np.shape(dates)\n",
    "# np.shape(std)\n",
    "\n",
    "# # print(temp.loc[(temp['Nox [ppb]'].values > 150*std[0:-1].values) & (std[0:-1].values > 0),'Nox [ppb]'].to_string())\n",
    "# np.shape((temp['Nox [ppb]'].values > 150*std[0:-1].values) & (std[0:-1].values > 0))\n",
    "\n",
    "# print(temp.loc[(temp['Nox [ppb]'].values > 150*std[0:-1].values) & (std[0:-1].values > 0),'Nox [ppb]'].to_string())\n",
    "# data_df['Nox [ppb]'] > 3*std\n",
    "\n",
    "# np.array(dates[1:])[(temp['Nox [ppb]'].values > 150*std[0:-1].values) & (std[0:-1].values > 0)]"
   ]
  },
  {
   "cell_type": "code",
   "execution_count": null,
   "metadata": {},
   "outputs": [],
   "source": []
  },
  {
   "cell_type": "code",
   "execution_count": 34,
   "metadata": {},
   "outputs": [],
   "source": [
    "# # try to display the data \n",
    "# fig, ax = plt.subplots(figsize=(15,7))\n",
    "# # data_df.loc['Nachsholim'].rolling(window=12*24,min_periods=1).mean().plot(ax=ax,legend=True,linewidth=1,linestyle='solid')\n",
    "# data_df.loc['Nachsholim'].rolling(window=1,min_periods=1).mean().plot(ax=ax,legend=True,alpha = 0.3)\n",
    "# plt.legend(loc='lower right', bbox_to_anchor=(1.15, 0.5))\n",
    "# plt.show();"
   ]
  },
  {
   "cell_type": "markdown",
   "metadata": {},
   "source": [
    "# save dataframe "
   ]
  },
  {
   "cell_type": "code",
   "execution_count": 41,
   "metadata": {},
   "outputs": [],
   "source": [
    "# data_df.to_pickle(\"/Users/iditbela/Documents/Shai_Kendler/Borg-1.9/meteorological_data/data_df\")"
   ]
  },
  {
   "cell_type": "code",
   "execution_count": 42,
   "metadata": {},
   "outputs": [],
   "source": [
    "data_df = pd.read_pickle(\"/Users/iditbela/Documents/Shai_Kendler/Borg-1.9/meteorological_data/data_df\")"
   ]
  },
  {
   "cell_type": "code",
   "execution_count": null,
   "metadata": {},
   "outputs": [],
   "source": []
  },
  {
   "cell_type": "code",
   "execution_count": null,
   "metadata": {},
   "outputs": [],
   "source": []
  },
  {
   "cell_type": "markdown",
   "metadata": {},
   "source": [
    "### (4) interact"
   ]
  },
  {
   "cell_type": "code",
   "execution_count": 43,
   "metadata": {},
   "outputs": [],
   "source": [
    "# offline mode. for an online, I need to login\n",
    "# py.offline.init_notebook_mode(connected=True)"
   ]
  },
  {
   "cell_type": "code",
   "execution_count": 44,
   "metadata": {},
   "outputs": [],
   "source": [
    "# definitions\n",
    "\n",
    "rolling_windows = {'5 minutes':int(12*5/60),'30 minutes':int(6), '1 hour':int(12), '8 hour':int(12*8), '24 hour': int(12*24)}\n",
    "\n",
    "monitoring_stations = ['Maayan-Zvi igud', 'Maayan-Zvi Nobel','Raanana_531']\n",
    "\n",
    "# set extra colors in case more pollutants are measured in a station:\n",
    "colors = ['#FFD700','firebrick','LightSkyBlue','#8B008B','blue','turquoise','DarkSlateGrey','fuchsia','#8B4513','#2ca02c','#ff7f0e','#BC8F8F']\n",
    "\n",
    "color_lines = dict()\n",
    "for col, c in zip(data_df.columns, colors[0:len(data_df.columns)+1]):\n",
    "    color_lines[col] = c"
   ]
  },
  {
   "cell_type": "code",
   "execution_count": 45,
   "metadata": {},
   "outputs": [],
   "source": [
    "standards = dict()\n",
    "for col in data_df.columns:\n",
    "    for avg in rolling_windows.keys():\n",
    "        standards[(col,avg)] = (np.nan,np.nan)"
   ]
  },
  {
   "cell_type": "code",
   "execution_count": 46,
   "metadata": {},
   "outputs": [],
   "source": [
    "standards[('Benzen [ppb]', '24 hour')] = (1.2,7) #in microgram/m^3:(3.9,7)\n",
    "standards[('No2 [ppb]', '1 hour')] = (106,8)#(200,8)\n",
    "# standards[('Nox [ppb]', '30 minutes')] = (940,0) # don't know how to convert\n",
    "# standards[('Nox [ppb]', '24 hour')] = (560,0) # don't know how to convert\n",
    "standards[('TOLUENE [ppb]', '24 hour')] = (1000,0)#(3770,0)\n",
    "standards[('SO2 [ppb]', '1 hour')]=(134,8)#(350,8)\n",
    "standards[('SO2 [ppb]', '24 hour')]=(19,4)#(50,4)\n",
    "standards[('O3 [ppb]', '8 hour')]=(71,10)#(140,10)\n",
    "standards[('PM2.5 [µg/m3]', '24 hour')]=(37.5,18)"
   ]
  },
  {
   "cell_type": "code",
   "execution_count": 280,
   "metadata": {},
   "outputs": [
    {
     "data": {
      "text/plain": [
       "{('Benzen [ppb]', '1 hour'): (nan, nan),\n",
       " ('Benzen [ppb]', '24 hour'): (1.2, 7),\n",
       " ('Benzen [ppb]', '30 minutes'): (nan, nan),\n",
       " ('Benzen [ppb]', '5 minutes'): (nan, nan),\n",
       " ('Benzen [ppb]', '8 hour'): (nan, nan),\n",
       " ('EthylB [ppb]', '1 hour'): (nan, nan),\n",
       " ('EthylB [ppb]', '24 hour'): (nan, nan),\n",
       " ('EthylB [ppb]', '30 minutes'): (nan, nan),\n",
       " ('EthylB [ppb]', '5 minutes'): (nan, nan),\n",
       " ('EthylB [ppb]', '8 hour'): (nan, nan),\n",
       " ('M+P-XY [ppb]', '1 hour'): (nan, nan),\n",
       " ('M+P-XY [ppb]', '24 hour'): (nan, nan),\n",
       " ('M+P-XY [ppb]', '30 minutes'): (nan, nan),\n",
       " ('M+P-XY [ppb]', '5 minutes'): (nan, nan),\n",
       " ('M+P-XY [ppb]', '8 hour'): (nan, nan),\n",
       " ('No [ppb]', '1 hour'): (nan, nan),\n",
       " ('No [ppb]', '24 hour'): (nan, nan),\n",
       " ('No [ppb]', '30 minutes'): (nan, nan),\n",
       " ('No [ppb]', '5 minutes'): (nan, nan),\n",
       " ('No [ppb]', '8 hour'): (nan, nan),\n",
       " ('No2 [ppb]', '1 hour'): (106, 8),\n",
       " ('No2 [ppb]', '24 hour'): (nan, nan),\n",
       " ('No2 [ppb]', '30 minutes'): (nan, nan),\n",
       " ('No2 [ppb]', '5 minutes'): (nan, nan),\n",
       " ('No2 [ppb]', '8 hour'): (nan, nan),\n",
       " ('Nox [ppb]', '1 hour'): (nan, nan),\n",
       " ('Nox [ppb]', '24 hour'): (nan, nan),\n",
       " ('Nox [ppb]', '30 minutes'): (nan, nan),\n",
       " ('Nox [ppb]', '5 minutes'): (nan, nan),\n",
       " ('Nox [ppb]', '8 hour'): (nan, nan),\n",
       " ('O-Xyle [ppb]', '1 hour'): (nan, nan),\n",
       " ('O-Xyle [ppb]', '24 hour'): (nan, nan),\n",
       " ('O-Xyle [ppb]', '30 minutes'): (nan, nan),\n",
       " ('O-Xyle [ppb]', '5 minutes'): (nan, nan),\n",
       " ('O-Xyle [ppb]', '8 hour'): (nan, nan),\n",
       " ('O3 [ppb]', '1 hour'): (nan, nan),\n",
       " ('O3 [ppb]', '24 hour'): (nan, nan),\n",
       " ('O3 [ppb]', '30 minutes'): (nan, nan),\n",
       " ('O3 [ppb]', '5 minutes'): (nan, nan),\n",
       " ('O3 [ppb]', '8 hour'): (71, 10),\n",
       " ('P-Xylen [ppb]', '1 hour'): (nan, nan),\n",
       " ('P-Xylen [ppb]', '24 hour'): (nan, nan),\n",
       " ('P-Xylen [ppb]', '30 minutes'): (nan, nan),\n",
       " ('P-Xylen [ppb]', '5 minutes'): (nan, nan),\n",
       " ('P-Xylen [ppb]', '8 hour'): (nan, nan),\n",
       " ('PM2.5 [µg/m3]', '1 hour'): (nan, nan),\n",
       " ('PM2.5 [µg/m3]', '24 hour'): (37.5, 18),\n",
       " ('PM2.5 [µg/m3]', '30 minutes'): (nan, nan),\n",
       " ('PM2.5 [µg/m3]', '5 minutes'): (nan, nan),\n",
       " ('PM2.5 [µg/m3]', '8 hour'): (nan, nan),\n",
       " ('SO2 [ppb]', '1 hour'): (134, 8),\n",
       " ('SO2 [ppb]', '24 hour'): (19, 4),\n",
       " ('SO2 [ppb]', '30 minutes'): (nan, nan),\n",
       " ('SO2 [ppb]', '5 minutes'): (nan, nan),\n",
       " ('SO2 [ppb]', '8 hour'): (nan, nan),\n",
       " ('TOLUENE [ppb]', '1 hour'): (nan, nan),\n",
       " ('TOLUENE [ppb]', '24 hour'): (1000, 0),\n",
       " ('TOLUENE [ppb]', '30 minutes'): (nan, nan),\n",
       " ('TOLUENE [ppb]', '5 minutes'): (nan, nan),\n",
       " ('TOLUENE [ppb]', '8 hour'): (nan, nan)}"
      ]
     },
     "execution_count": 280,
     "metadata": {},
     "output_type": "execute_result"
    }
   ],
   "source": [
    "standards"
   ]
  },
  {
   "cell_type": "code",
   "execution_count": null,
   "metadata": {},
   "outputs": [],
   "source": [
    "\n"
   ]
  },
  {
   "cell_type": "code",
   "execution_count": null,
   "metadata": {},
   "outputs": [],
   "source": []
  },
  {
   "cell_type": "code",
   "execution_count": null,
   "metadata": {},
   "outputs": [],
   "source": []
  },
  {
   "cell_type": "code",
   "execution_count": null,
   "metadata": {},
   "outputs": [],
   "source": []
  },
  {
   "cell_type": "code",
   "execution_count": 313,
   "metadata": {},
   "outputs": [],
   "source": [
    "import plotly as py\n",
    "# import chart_studio.plotly as py"
   ]
  },
  {
   "cell_type": "code",
   "execution_count": 339,
   "metadata": {},
   "outputs": [],
   "source": [
    "import dash\n",
    "import dash_core_components as dcc\n",
    "import dash_html_components as html\n",
    "from dash.dependencies import Input, Output"
   ]
  },
  {
   "cell_type": "code",
   "execution_count": 340,
   "metadata": {},
   "outputs": [],
   "source": [
    "external_stylesheets = ['https://codepen.io/chriddyp/pen/bWLwgP.css']\n",
    "\n",
    "app = dash.Dash(__name__, external_stylesheets=external_stylesheets, external_scripts=[\n",
    "  'https://cdnjs.cloudflare.com/ajax/libs/mathjax/2.7.4/MathJax.js?config=TeX-MML-AM_CHTML'])"
   ]
  },
  {
   "cell_type": "code",
   "execution_count": 341,
   "metadata": {},
   "outputs": [],
   "source": [
    "# data_df.head()"
   ]
  },
  {
   "cell_type": "code",
   "execution_count": 342,
   "metadata": {},
   "outputs": [],
   "source": [
    "# BASED ON - available_indicators = df['Indicator Name'].unique()\n",
    "\n",
    "app.layout = html.Div([\n",
    "    html.Div([\n",
    "\n",
    "        html.Div([\n",
    "            html.H4('Monitoring station'),\n",
    "            dcc.RadioItems(\n",
    "                id='Station', #xaxis-type\n",
    "                options=[{'label': i, 'value': i} for i in monitoring_stations],\n",
    "                value='Maayan-Zvi igud',\n",
    "                labelStyle={}\n",
    "            )\n",
    "            \n",
    "#             ,\n",
    "#             dcc.RadioItems(\n",
    "#                 id='Averaging period', #xaxis-column\n",
    "#                 options=[{'label': i, 'value': i} for i in rolling_windows.keys()],\n",
    "#                 value='1 hour'\n",
    "#             )\n",
    "            \n",
    "        ],\n",
    "        style={'display': 'inline-block', 'vertical-align': 'top', 'margin': '5px 20px'}),\n",
    "        \n",
    "        html.Div([\n",
    "            html.H4('Averging period'),\n",
    "            dcc.RadioItems(\n",
    "                id='Averaging period', #xaxis-column\n",
    "                options=[{'label': i, 'value': i} for i in rolling_windows.keys()],\n",
    "                value='1 hour'\n",
    "            ),\n",
    "        ],style={'display': 'inline-block', 'vertical-align': 'top', 'margin': '5px 20px'}),\n",
    "\n",
    "        html.Div([\n",
    "            html.H4('Pollutant'),\n",
    "            dcc.Dropdown(\n",
    "                id='Pollutant', #yaxis-column\n",
    "                options=[{'label': i, 'value': i} for i in data_df.columns],\n",
    "                value=('Benzen [ppb]','No2 [ppb]'),\n",
    "                multi=True\n",
    "            ),\n",
    "        ],style={'display': 'inline-block', 'vertical-align': 'top', 'margin': '5px 20px'})\n",
    "    ]),\n",
    "\n",
    "    dcc.Graph(id='monitoring'),\n",
    "\n",
    "    dcc.RangeSlider(\n",
    "        id='x_days_back',\n",
    "        count=1,\n",
    "        min=0,\n",
    "        max=30,\n",
    "        marks={i: '{}\\n Days\\n Back'.format(i) if i == 0 else str(i) for i in range(0, 31)},\n",
    "        value=[0,10],\n",
    "        step=1\n",
    "    )   \n",
    "])\n",
    "\n",
    "@app.callback(\n",
    "    Output('monitoring', 'figure'),\n",
    "    [Input('Station', 'value'),\n",
    "     Input('Averaging period', 'value'),\n",
    "     Input('Pollutant', 'value'),\n",
    "     Input('x_days_back', 'value')\n",
    "     ])\n",
    "#      Input('year--slider', 'value')\n",
    "#     ])\n",
    "def update_graph(stations,avg,pollutants,time):\n",
    "    data = []\n",
    "    for p in pollutants:\n",
    "        if time[0]==0:\n",
    "            chosen_data = data_df.loc[stations].iloc[-time[1]*12*24:]\n",
    "        else:\n",
    "            chosen_data = data_df.loc[stations].iloc[-time[1]*12*24:-time[0]*12*24]\n",
    "    \n",
    "        # Create traces\n",
    "        averages_by_window = go.Scatter(\n",
    "            x=chosen_data.index,\n",
    "            y=chosen_data[p].rolling(window=rolling_windows[avg],min_periods=1,center=True).mean(),\n",
    "            mode = 'lines',#lines/markers\n",
    "            name = '{}\\n{} average'.format(p,avg),\n",
    "            line = dict(width=2,color=color_lines[p]),\n",
    "            showlegend = True\n",
    "        ) \n",
    "        five_min_averages = go.Scatter(\n",
    "            x=chosen_data.index,\n",
    "            y=chosen_data[p],\n",
    "            mode = 'lines',#lines/markers\n",
    "            name = '{}\\n{} average'.format(p,'5 minutes'),\n",
    "            opacity=.3,\n",
    "            line = dict(width=6,color=color_lines[p]),\n",
    "            showlegend = True\n",
    "        )\n",
    "        if not np.isnan(standards[(p, avg)][0]):\n",
    "            standards_line = go.Scatter(\n",
    "                x=chosen_data.index,\n",
    "                y=np.ones((len(chosen_data.index),))*standards[(p, avg)][0],\n",
    "                mode = 'lines',#lines/markers\n",
    "                name = '{} [Limit value],*{} exceedences allowed per year'.format(standards[(p, avg)][0],standards[(p, avg)][1]),\n",
    "                line = dict(width=2,color=color_lines[p],dash='dash'),\n",
    "                showlegend = True\n",
    "            )\n",
    "        else:\n",
    "            standards_line = {}\n",
    "           \n",
    "        # How do I integrate the layout?\n",
    "        layout = go.Layout(           \n",
    "            title={\n",
    "#                 'text': \"Choose a station, pollutants and average time\",\n",
    "                'y':0.9,\n",
    "                'x':0.6,\n",
    "                'xanchor': 'right',\n",
    "                'yanchor': 'top'},\n",
    "            yaxis = dict(\n",
    "                title = '$\\mu g/m^3~or~ppb$'\n",
    "            ),\n",
    "            xaxis = dict(\n",
    "                title = 'Date'\n",
    "            ),\n",
    "            plot_bgcolor='rgb(255,255,250)'\n",
    "        )\n",
    "            \n",
    "            \n",
    "        data.extend([averages_by_window, five_min_averages, standards_line])\n",
    "\n",
    "    return go.Figure(\n",
    "        data=data,\n",
    "        layout=layout)\n",
    "      \n",
    "    \n",
    "    \n",
    "#     return {\n",
    "#         'data': [\n",
    "#             dict(          \n",
    "#                 x=chosen_data.index,\n",
    "#                 y=chosen_data[p].rolling(window=rolling_windows[avg],min_periods=1,center=True).mean(),\n",
    "#                 mode = 'lines',#lines/markers\n",
    "#                 name = '{}\\n{} average'.format(p,avg),\n",
    "#                 line = dict(width=2,color=color_lines[p]),\n",
    "#                 showlegend = True\n",
    "#             ) for p in pollutants\n",
    "#         ],\n",
    "#         'layout': dict(\n",
    "#             xaxis={\n",
    "#                 'title': 'Date'\n",
    "#             },\n",
    "#             yaxis={\n",
    "#                 'title': '$\\mu g/m^3 or ppb$ '\n",
    "#             },\n",
    "#             plot_bgcolor='rgb(255,255,250)'\n",
    "#         )\n",
    "#     }\n",
    "\n"
   ]
  },
  {
   "cell_type": "code",
   "execution_count": null,
   "metadata": {},
   "outputs": [
    {
     "name": "stdout",
     "output_type": "stream",
     "text": [
      "Running on http://127.0.0.1:8050/\n",
      "Running on http://127.0.0.1:8050/\n",
      "Running on http://127.0.0.1:8050/\n",
      "Running on http://127.0.0.1:8050/\n",
      "Running on http://127.0.0.1:8050/\n",
      "Running on http://127.0.0.1:8050/\n",
      "Running on http://127.0.0.1:8050/\n",
      "Running on http://127.0.0.1:8050/\n",
      "Running on http://127.0.0.1:8050/\n",
      "Running on http://127.0.0.1:8050/\n",
      "Running on http://127.0.0.1:8050/\n",
      "Running on http://127.0.0.1:8050/\n",
      "Running on http://127.0.0.1:8050/\n",
      "Running on http://127.0.0.1:8050/\n",
      "Running on http://127.0.0.1:8050/\n",
      "Running on http://127.0.0.1:8050/\n",
      "Running on http://127.0.0.1:8050/\n",
      "Running on http://127.0.0.1:8050/\n",
      "Running on http://127.0.0.1:8050/\n",
      "Running on http://127.0.0.1:8050/\n",
      "Running on http://127.0.0.1:8050/\n",
      "Running on http://127.0.0.1:8050/\n",
      "Running on http://127.0.0.1:8050/\n",
      "Running on http://127.0.0.1:8050/\n",
      "Running on http://127.0.0.1:8050/\n",
      "Running on http://127.0.0.1:8050/\n",
      "Running on http://127.0.0.1:8050/\n",
      "Running on http://127.0.0.1:8050/\n",
      "Running on http://127.0.0.1:8050/\n",
      "Running on http://127.0.0.1:8050/\n",
      "Running on http://127.0.0.1:8050/\n",
      "Running on http://127.0.0.1:8050/\n",
      "Running on http://127.0.0.1:8050/\n",
      "Running on http://127.0.0.1:8050/\n",
      "Running on http://127.0.0.1:8050/\n",
      "Running on http://127.0.0.1:8050/\n",
      "Running on http://127.0.0.1:8050/\n",
      "Running on http://127.0.0.1:8050/\n",
      "Running on http://127.0.0.1:8050/\n",
      "Running on http://127.0.0.1:8050/\n",
      "Running on http://127.0.0.1:8050/\n",
      "Debugger PIN: 745-663-291\n",
      "Debugger PIN: 745-663-291\n",
      "Debugger PIN: 745-663-291\n",
      "Debugger PIN: 745-663-291\n",
      "Debugger PIN: 745-663-291\n",
      "Debugger PIN: 745-663-291\n",
      "Debugger PIN: 745-663-291\n",
      "Debugger PIN: 745-663-291\n",
      "Debugger PIN: 745-663-291\n",
      "Debugger PIN: 745-663-291\n",
      "Debugger PIN: 745-663-291\n",
      "Debugger PIN: 745-663-291\n",
      "Debugger PIN: 745-663-291\n",
      "Debugger PIN: 745-663-291\n",
      "Debugger PIN: 745-663-291\n",
      "Debugger PIN: 745-663-291\n",
      "Debugger PIN: 745-663-291\n",
      "Debugger PIN: 745-663-291\n",
      "Debugger PIN: 745-663-291\n",
      "Debugger PIN: 745-663-291\n",
      "Debugger PIN: 745-663-291\n",
      "Debugger PIN: 745-663-291\n",
      "Debugger PIN: 745-663-291\n",
      "Debugger PIN: 745-663-291\n",
      "Debugger PIN: 745-663-291\n",
      "Debugger PIN: 745-663-291\n",
      "Debugger PIN: 745-663-291\n",
      "Debugger PIN: 745-663-291\n",
      "Debugger PIN: 745-663-291\n",
      "Debugger PIN: 745-663-291\n",
      "Debugger PIN: 745-663-291\n",
      "Debugger PIN: 745-663-291\n",
      "Debugger PIN: 745-663-291\n",
      "Debugger PIN: 745-663-291\n",
      "Debugger PIN: 745-663-291\n",
      "Debugger PIN: 745-663-291\n",
      "Debugger PIN: 745-663-291\n",
      "Debugger PIN: 745-663-291\n",
      "Debugger PIN: 745-663-291\n",
      "Debugger PIN: 745-663-291\n",
      "Debugger PIN: 745-663-291\n",
      " * Serving Flask app \"__main__\" (lazy loading)\n",
      " * Environment: production\n",
      "   WARNING: This is a development server. Do not use it in a production deployment.\n",
      "   Use a production WSGI server instead.\n",
      " * Debug mode: on\n"
     ]
    }
   ],
   "source": [
    "app.run_server(debug=True, use_reloader=False)  # Turn off reloader if inside Jupyter"
   ]
  },
  {
   "cell_type": "code",
   "execution_count": null,
   "metadata": {},
   "outputs": [],
   "source": []
  },
  {
   "cell_type": "code",
   "execution_count": null,
   "metadata": {},
   "outputs": [],
   "source": []
  },
  {
   "cell_type": "code",
   "execution_count": 44,
   "metadata": {},
   "outputs": [
    {
     "ename": "DuplicateCallbackOutput",
     "evalue": "\nYou have already assigned a callback to the output\nwith ID \"graph-with-slider\" and property \"figure\". An output can only have\na single callback function. Try combining your inputs and\ncallback functions together into one function.\n",
     "output_type": "error",
     "traceback": [
      "\u001b[0;31m---------------------------------------------------------------------------\u001b[0m",
      "\u001b[0;31mDuplicateCallbackOutput\u001b[0m                   Traceback (most recent call last)",
      "\u001b[0;32m<ipython-input-44-8f984d722526>\u001b[0m in \u001b[0;36m<module>\u001b[0;34m()\u001b[0m\n\u001b[1;32m     14\u001b[0m @app.callback(\n\u001b[1;32m     15\u001b[0m     \u001b[0mOutput\u001b[0m\u001b[0;34m(\u001b[0m\u001b[0;34m'graph-with-slider'\u001b[0m\u001b[0;34m,\u001b[0m \u001b[0;34m'figure'\u001b[0m\u001b[0;34m)\u001b[0m\u001b[0;34m,\u001b[0m\u001b[0;34m\u001b[0m\u001b[0m\n\u001b[0;32m---> 16\u001b[0;31m     [Input('time-slider', 'value')])\n\u001b[0m\u001b[1;32m     17\u001b[0m \u001b[0;34m\u001b[0m\u001b[0m\n\u001b[1;32m     18\u001b[0m \u001b[0;32mdef\u001b[0m \u001b[0mupdate_figure\u001b[0m\u001b[0;34m(\u001b[0m\u001b[0mtime\u001b[0m\u001b[0;34m)\u001b[0m\u001b[0;34m:\u001b[0m\u001b[0;34m\u001b[0m\u001b[0m\n",
      "\u001b[0;32m/Library/Frameworks/Python.framework/Versions/3.6/lib/python3.6/site-packages/dash/dash.py\u001b[0m in \u001b[0;36mcallback\u001b[0;34m(self, output, inputs, state)\u001b[0m\n\u001b[1;32m   1315\u001b[0m     \u001b[0;31m# pylint: disable=dangerous-default-value\u001b[0m\u001b[0;34m\u001b[0m\u001b[0;34m\u001b[0m\u001b[0m\n\u001b[1;32m   1316\u001b[0m     \u001b[0;32mdef\u001b[0m \u001b[0mcallback\u001b[0m\u001b[0;34m(\u001b[0m\u001b[0mself\u001b[0m\u001b[0;34m,\u001b[0m \u001b[0moutput\u001b[0m\u001b[0;34m,\u001b[0m \u001b[0minputs\u001b[0m\u001b[0;34m=\u001b[0m\u001b[0;34m[\u001b[0m\u001b[0;34m]\u001b[0m\u001b[0;34m,\u001b[0m \u001b[0mstate\u001b[0m\u001b[0;34m=\u001b[0m\u001b[0;34m[\u001b[0m\u001b[0;34m]\u001b[0m\u001b[0;34m)\u001b[0m\u001b[0;34m:\u001b[0m\u001b[0;34m\u001b[0m\u001b[0m\n\u001b[0;32m-> 1317\u001b[0;31m         \u001b[0mself\u001b[0m\u001b[0;34m.\u001b[0m\u001b[0m_validate_callback\u001b[0m\u001b[0;34m(\u001b[0m\u001b[0moutput\u001b[0m\u001b[0;34m,\u001b[0m \u001b[0minputs\u001b[0m\u001b[0;34m,\u001b[0m \u001b[0mstate\u001b[0m\u001b[0;34m)\u001b[0m\u001b[0;34m\u001b[0m\u001b[0m\n\u001b[0m\u001b[1;32m   1318\u001b[0m \u001b[0;34m\u001b[0m\u001b[0m\n\u001b[1;32m   1319\u001b[0m         \u001b[0mcallback_id\u001b[0m \u001b[0;34m=\u001b[0m \u001b[0m_create_callback_id\u001b[0m\u001b[0;34m(\u001b[0m\u001b[0moutput\u001b[0m\u001b[0;34m)\u001b[0m\u001b[0;34m\u001b[0m\u001b[0m\n",
      "\u001b[0;32m/Library/Frameworks/Python.framework/Versions/3.6/lib/python3.6/site-packages/dash/dash.py\u001b[0m in \u001b[0;36m_validate_callback\u001b[0;34m(self, output, inputs, state)\u001b[0m\n\u001b[1;32m   1073\u001b[0m                 \"\"\"\n\u001b[1;32m   1074\u001b[0m                 ).format(output.component_id, output.component_property)\n\u001b[0;32m-> 1075\u001b[0;31m             \u001b[0;32mraise\u001b[0m \u001b[0mexceptions\u001b[0m\u001b[0;34m.\u001b[0m\u001b[0mDuplicateCallbackOutput\u001b[0m\u001b[0;34m(\u001b[0m\u001b[0mmsg\u001b[0m\u001b[0;34m)\u001b[0m\u001b[0;34m\u001b[0m\u001b[0m\n\u001b[0m\u001b[1;32m   1076\u001b[0m \u001b[0;34m\u001b[0m\u001b[0m\n\u001b[1;32m   1077\u001b[0m     \u001b[0;34m@\u001b[0m\u001b[0mstaticmethod\u001b[0m\u001b[0;34m\u001b[0m\u001b[0m\n",
      "\u001b[0;31mDuplicateCallbackOutput\u001b[0m: \nYou have already assigned a callback to the output\nwith ID \"graph-with-slider\" and property \"figure\". An output can only have\na single callback function. Try combining your inputs and\ncallback functions together into one function.\n"
     ]
    }
   ],
   "source": [
    "# dash version \n",
    "\n",
    "app.layout = html.Div([\n",
    "    dcc.Graph(id='graph-with-slider'),\n",
    "    dcc.Slider(\n",
    "        id='time-slider',\n",
    "        min=1,\n",
    "        max=60,\n",
    "        value=1,\n",
    "        step=1\n",
    "    )\n",
    "])\n",
    "\n",
    "@app.callback(\n",
    "    Output('graph-with-slider', 'figure'),\n",
    "    [Input('time-slider', 'value')])\n",
    "\n",
    "\n",
    "\n",
    "\n",
    "\n",
    "def update_figure(stations,Pollutant,avg,time,yaxis):\n",
    "#     filtered_df = df[df.year == selected_year]\n",
    "    traces = [] # i called it 'data'\n",
    "    chosen_data = data_df.loc['Maayan-Zvi igud'].iloc[-time*12*24:]\n",
    "    for p in Pollutant:\n",
    "        traces.append(dict(            \n",
    "            x=chosen_data.index,\n",
    "            y=chosen_data[p],\n",
    "            mode='lines',\n",
    "            opacity=0.3,\n",
    "            line = dict(width=6,color=color_lines[p]),\n",
    "            name='{}\\n{} average'.format(p,'5 minutes'),\n",
    "            showlegend = True\n",
    "        ))\n",
    "\n",
    "    return {\n",
    "        'data': traces,\n",
    "        'layout': dict(\n",
    "            title={\n",
    "            'text': \"Choose a station, pollutants and average time\",\n",
    "            'y':0.9,\n",
    "            'x':0.5,\n",
    "            'xanchor': 'right',\n",
    "            'yanchor': 'top'},\n",
    "            xaxis = dict(title = 'Date'),\n",
    "            yaxis= dict(title = '$\\mu g/m^3 or ppb$ '),\n",
    "            hovermode='closest',\n",
    "            plot_bgcolor='rgb(255,255,250)'\n",
    "        )\n",
    "    }"
   ]
  },
  {
   "cell_type": "code",
   "execution_count": 44,
   "metadata": {},
   "outputs": [],
   "source": [
    "# layout = go.Layout(\n",
    "#     title={\n",
    "#         'text': \"Choose a station, pollutants and average time\",\n",
    "#         'y':0.9,\n",
    "#         'x':0.5,\n",
    "#         'xanchor': 'right',\n",
    "#         'yanchor': 'top'},\n",
    "#     yaxis = dict(\n",
    "#         title = '$\\mu g/m^3 or ppb$ '\n",
    "#     ),\n",
    "#     xaxis = dict(\n",
    "#         title = 'Date'\n",
    "#     ),\n",
    "#     plot_bgcolor='rgb(255,255,250)'\n",
    "# #     paper_bgcolor = 'rgba(0,0,0,0)',\n",
    "# #     plot_bgcolor = 'rgba(0,0,0,0)'\n",
    "# )\n",
    "\n",
    "# def update_plot(stations,Pollutant,avg,time,yaxis):    \n",
    "#     data = [] #empty list where all my traces are in\n",
    "#     fig = go.Figure(layout=layout)\n",
    "    \n",
    "#     for p in Pollutant: # signals are the items in the multiselect widget\n",
    "#         chosen_data = data_df.loc[stations].iloc[-time*12*24:]\n",
    "#         # updaing averages\n",
    "#         fig.add_trace(go.Scatter(\n",
    "#             x=chosen_data.index,\n",
    "#             y=chosen_data[p].rolling(window=rolling_windows[avg],min_periods=1,center=True).mean(),\n",
    "#             mode = 'lines',#lines/markers\n",
    "#             name = '{}\\n{} average'.format(p,avg),\n",
    "#             line = dict(width=2,color=color_lines[p]),\n",
    "#             showlegend = True\n",
    "#         ))   \n",
    "#         # constant 5 minutes         \n",
    "#         fig.add_trace(go.Scatter(\n",
    "#             x=chosen_data.index,\n",
    "#             y=chosen_data[p],\n",
    "#             mode = 'lines',#lines/markers\n",
    "#             name = '{}\\n{} average'.format(p,'5 minutes'),\n",
    "#             opacity=.3,\n",
    "#             line = dict(width=6,color=color_lines[p]),\n",
    "#             showlegend = True\n",
    "#         ))\n",
    "#         # wind direction and magnitude\n",
    "        \n",
    "# #         fig.add_trace(ff.create_quiver(X, Y, U, V,\n",
    "# #             scale=1.5,\n",
    "# # #             axis = 'equal'\n",
    "# #             arrow_scale=.4,\n",
    "# #             name='quiver',\n",
    "# #             line=dict(width=1) \n",
    "# #         ))\n",
    "        \n",
    "#         # standards and limits\n",
    "#         if not np.isnan(standards[(p, avg)][0]):\n",
    "#             fig.add_trace(go.Scatter(\n",
    "#                 x=chosen_data.index,\n",
    "#                 y=np.ones((len(chosen_data.index),))*standards[(p, avg)][0],\n",
    "#                 mode = 'lines',#lines/markers\n",
    "#                 name = '{} [Limit value],*{} exceedences allowed per year'.format(standards[(p, avg)][0],standards[(p, avg)][1]),\n",
    "#                 line = dict(width=2,color=color_lines[p],dash='dash'),\n",
    "#                 showlegend = True\n",
    "#             ))\n",
    "            \n",
    "#         fig.update_layout(\n",
    "#         yaxis = go.layout.YAxis(\n",
    "#             title = '$\\mu g/m^3 or ppb$ ',\n",
    "#             range = [0,yaxis]\n",
    "#             ))\n",
    "        \n",
    "# #     container = widgets.HBox(children=[stations, Pollutant, avg])\n",
    "# #     widgets.VBox([container,\n",
    "# #               fig])\n",
    "# #     py.offline.iplot(fig) # when using notebook\n",
    "# #     py.plot(fig) # when using chart_studio\n",
    "\n",
    "#     app = dash.Dash()\n",
    "#     app.layout = html.Div([\n",
    "#         dcc.Graph(figure=fig)\n",
    "#     ])\n",
    "#     app.run_server(debug=True, use_reloader=False)  # Turn off reloader if inside Jupyter\n",
    "\n",
    "# i = widgets.interact(update_plot,\n",
    "#              stations = widgets.RadioButtons(options=monitoring_stations,description='Station'),      \n",
    "#              Pollutant = widgets.SelectMultiple(options=list(data_df.columns),value=('Benzen [ppb]','No2 [ppb]')),\n",
    "#              avg = widgets.RadioButtons(options=rolling_windows.keys(),value=('1 hour'),description='Average time'),\n",
    "#              time = widgets.IntSlider(value=1,min=1,max=60,step=1,description='last days',continuous_update=False),\n",
    "#              yaxis = widgets.IntSlider(value=25,min=0,max=2000,step=25,description='Y-axis range',continuous_update=False)\n",
    "#              )\n",
    "\n",
    "# # organize the boxes (how?)\n",
    "# # fix calibration times\n",
    "# # avoid threshold determination of y range?\n",
    "# # maybe do checkbox for showing 5 minutes yes/no"
   ]
  },
  {
   "cell_type": "code",
   "execution_count": null,
   "metadata": {},
   "outputs": [],
   "source": [
    "# # dash vesion \n",
    "\n",
    "# time = 1\n",
    "# avg = '1 hour'\n",
    "\n",
    "# # first part - the \"layout\" of the app - it describes what the application looks like.\n",
    "\n",
    "# app.layout = html.Div(children=[\n",
    "#     html.H1(children=\"Monitoring Nobel Energy's emissions\",\n",
    "#            style={\n",
    "#             'textAlign': 'center'\n",
    "#         }\n",
    "#            ),\n",
    "             \n",
    "#     html.Div([\n",
    "#         html.Label('Multi-Select Dropdown'),\n",
    "#         dcc.Dropdown(\n",
    "#             options=[\n",
    "#                 {'label': 'New York City', 'value': 'NYC'},\n",
    "#                 {'label': u'Montréal', 'value': 'MTL'},\n",
    "#                 {'label': 'San Francisco', 'value': 'SF'}\n",
    "#             ],\n",
    "#             value=['MTL', 'SF'],\n",
    "#             multi=True\n",
    "#         ),\n",
    "        \n",
    "#         html.Label('Radio Items'),\n",
    "#         dcc.RadioItems(\n",
    "#         options=[\n",
    "#             {'label': 'New York City', 'value': 'NYC'},\n",
    "#             {'label': u'Montréal', 'value': 'MTL'},\n",
    "#             {'label': 'San Francisco', 'value': 'SF'}\n",
    "#         ],\n",
    "#         value='MTL'\n",
    "#         ),\n",
    "             \n",
    "#             ], style={'columnCount': 2}\n",
    "         \n",
    "#             ),\n",
    "#     # Graph renders interactive data visualizations using the open source plotly.js JavaScript graphing library. \n",
    "#     dcc.Graph(\n",
    "#         id='example-graph',\n",
    "#         figure={\n",
    "#             'data': [\n",
    "#                 dict(\n",
    "#                     x=data_df.index,\n",
    "#                     y=data_df['SO2 [ppb]'].rolling(window=rolling_windows[avg],min_periods=1,center=True).mean(),\n",
    "#                     mode='lines',\n",
    "#                     name=station\n",
    "#                 ) for station in monitoring_stations\n",
    "#             ],\n",
    "            \n",
    "# #         chosen_data = data_df.loc[station].iloc[-time*12*24:]\n",
    "                       \n",
    "# #             'data': [\n",
    "# #                 {'x': [1, 2, 3], 'y': [4, 1, 2], 'type': 'bar', 'name': 'SF'},\n",
    "# #                 {'x': [1, 2, 3], 'y': [2, 4, 5], 'type': 'bar', 'name': u'Montréal'},\n",
    "# #             ],\n",
    "#             'layout': {\n",
    "#                 'title':{\n",
    "#                     'text': \"Choose a station, pollutants and average time\",\n",
    "#                     'y':0.9,\n",
    "#                     'x':0.5,\n",
    "#                     'xanchor': 'right',\n",
    "#                     'yanchor': 'top'},\n",
    "#                 'yaxis':dict(\n",
    "#                     title = '$\\mu g/m^3 or ppb$'\n",
    "#                     ),\n",
    "#                 'xaxis':dict(\n",
    "#                     title = 'Date'\n",
    "#                     ),\n",
    "#                 'plot_bgcolor':'rgb(255,255,250)'\n",
    "#             }\n",
    "#         }\n",
    "#     )\n",
    "# ])"
   ]
  },
  {
   "cell_type": "code",
   "execution_count": 136,
   "metadata": {},
   "outputs": [],
   "source": []
  },
  {
   "cell_type": "code",
   "execution_count": 43,
   "metadata": {},
   "outputs": [
    {
     "name": "stdout",
     "output_type": "stream",
     "text": [
      "Running on http://127.0.0.1:8050/\n",
      "Debugger PIN: 864-199-343\n",
      " * Serving Flask app \"__main__\" (lazy loading)\n",
      " * Environment: production\n",
      "   WARNING: This is a development server. Do not use it in a production deployment.\n",
      "   Use a production WSGI server instead.\n",
      " * Debug mode: on\n"
     ]
    }
   ],
   "source": [
    "app.run_server(debug=True, use_reloader=False)  # Turn off reloader if inside Jupyter"
   ]
  },
  {
   "cell_type": "code",
   "execution_count": null,
   "metadata": {},
   "outputs": [],
   "source": []
  },
  {
   "cell_type": "code",
   "execution_count": null,
   "metadata": {},
   "outputs": [],
   "source": []
  },
  {
   "cell_type": "code",
   "execution_count": null,
   "metadata": {},
   "outputs": [],
   "source": []
  },
  {
   "cell_type": "code",
   "execution_count": 279,
   "metadata": {},
   "outputs": [
    {
     "data": {
      "application/vnd.jupyter.widget-view+json": {
       "model_id": "921760a00fd74bd8981d164bc1a920c7",
       "version_major": 2,
       "version_minor": 0
      },
      "text/html": [
       "<p>Failed to display Jupyter Widget of type <code>interactive</code>.</p>\n",
       "<p>\n",
       "  If you're reading this message in the Jupyter Notebook or JupyterLab Notebook, it may mean\n",
       "  that the widgets JavaScript is still loading. If this message persists, it\n",
       "  likely means that the widgets JavaScript library is either not installed or\n",
       "  not enabled. See the <a href=\"https://ipywidgets.readthedocs.io/en/stable/user_install.html\">Jupyter\n",
       "  Widgets Documentation</a> for setup instructions.\n",
       "</p>\n",
       "<p>\n",
       "  If you're reading this message in another frontend (for example, a static\n",
       "  rendering on GitHub or <a href=\"https://nbviewer.jupyter.org/\">NBViewer</a>),\n",
       "  it may mean that your frontend doesn't currently support widgets.\n",
       "</p>\n"
      ],
      "text/plain": [
       "interactive(children=(RadioButtons(description='Station', options=('Maayan-Zvi igud', 'Maayan-Zvi Nobel', 'Raanana_531'), value='Maayan-Zvi igud'), SelectMultiple(description='Pollutant', index=(6, 2), options=('SO2 [ppb]', 'No [ppb]', 'No2 [ppb]', 'Nox [ppb]', 'PM2.5 [µg/m3]', 'O3 [ppb]', 'Benzen [ppb]', 'TOLUENE [ppb]', 'EthylB [ppb]', 'M+P-XY [ppb]', 'O-Xyle [ppb]', 'P-Xylen [ppb]'), value=('Benzen [ppb]', 'No2 [ppb]')), RadioButtons(description='Average time', index=2, options=('5 minutes', '30 minutes', '1 hour', '8 hour', '24 hour'), value='1 hour'), IntSlider(value=1, continuous_update=False, description='last days', max=60, min=1), IntSlider(value=25, continuous_update=False, description='Y-axis range', max=2000, step=25), Output()), _dom_classes=('widget-interact',))"
      ]
     },
     "metadata": {},
     "output_type": "display_data"
    }
   ],
   "source": [
    "layout = go.Layout(\n",
    "    title={\n",
    "        'text': \"Choose a station, pollutants and average time\",\n",
    "        'y':0.9,\n",
    "        'x':0.5,\n",
    "        'xanchor': 'right',\n",
    "        'yanchor': 'top'},\n",
    "    yaxis = dict(\n",
    "        title = '$\\mu g/m^3 or ppb$ '\n",
    "    ),\n",
    "    xaxis = dict(\n",
    "        title = 'Date'\n",
    "    ),\n",
    "    plot_bgcolor='rgb(255,255,250)'\n",
    "#     paper_bgcolor = 'rgba(0,0,0,0)',\n",
    "#     plot_bgcolor = 'rgba(0,0,0,0)'\n",
    ")\n",
    "\n",
    "def update_plot(stations,Pollutant,avg,time,yaxis):    \n",
    "    data = [] #empty list where all my traces are in\n",
    "    fig = go.Figure(layout=layout)\n",
    "    \n",
    "    for p in Pollutant: # signals are the items in the multiselect widget\n",
    "        chosen_data = data_df.loc[stations].iloc[-time*12*24:]\n",
    "        # updaing averages\n",
    "        fig.add_trace(go.Scatter(\n",
    "            x=chosen_data.index,\n",
    "            y=chosen_data[p].rolling(window=rolling_windows[avg],min_periods=1,center=True).mean(),\n",
    "            mode = 'lines',#lines/markers\n",
    "            name = '{}\\n{} average'.format(p,avg),\n",
    "            line = dict(width=2,color=color_lines[p]),\n",
    "            showlegend = True\n",
    "        ))   \n",
    "        # constant 5 minutes         \n",
    "        fig.add_trace(go.Scatter(\n",
    "            x=chosen_data.index,\n",
    "            y=chosen_data[p],\n",
    "            mode = 'lines',#lines/markers\n",
    "            name = '{}\\n{} average'.format(p,'5 minutes'),\n",
    "            opacity=.3,\n",
    "            line = dict(width=6,color=color_lines[p]),\n",
    "            showlegend = True\n",
    "        ))\n",
    "        # wind direction and magnitude\n",
    "        \n",
    "#         fig.add_trace(ff.create_quiver(X, Y, U, V,\n",
    "#             scale=1.5,\n",
    "# #             axis = 'equal'\n",
    "#             arrow_scale=.4,\n",
    "#             name='quiver',\n",
    "#             line=dict(width=1) \n",
    "#         ))\n",
    "        \n",
    "        # standards and limits\n",
    "        if not np.isnan(standards[(p, avg)][0]):\n",
    "            fig.add_trace(go.Scatter(\n",
    "                x=chosen_data.index,\n",
    "                y=np.ones((len(chosen_data.index),))*standards[(p, avg)][0],\n",
    "                mode = 'lines',#lines/markers\n",
    "                name = '{} [Limit value],*{} exceedences allowed per year'.format(standards[(p, avg)][0],standards[(p, avg)][1]),\n",
    "                line = dict(width=2,color=color_lines[p],dash='dash'),\n",
    "                showlegend = True\n",
    "            ))\n",
    "            \n",
    "        fig.update_layout(\n",
    "        yaxis = go.layout.YAxis(\n",
    "            title = '$\\mu g/m^3 or ppb$ ',\n",
    "            range = [0,yaxis]\n",
    "            ))\n",
    "        \n",
    "#     container = widgets.HBox(children=[stations, Pollutant, avg])\n",
    "#     widgets.VBox([container,\n",
    "#               fig])\n",
    "    py.offline.iplot(fig) # when using notebook\n",
    "#     py.plot(fig) # when using chart_studio\n",
    "\n",
    "#     app = dash.Dash()\n",
    "#     app.layout = html.Div([\n",
    "#         dcc.Graph(figure=fig)\n",
    "#     ])\n",
    "#     app.run_server(debug=True, use_reloader=False)  # Turn off reloader if inside Jupyter\n",
    "\n",
    "i = widgets.interact(update_plot,\n",
    "             stations = widgets.RadioButtons(options=monitoring_stations,description='Station'),      \n",
    "             Pollutant = widgets.SelectMultiple(options=list(data_df.columns),value=('Benzen [ppb]','No2 [ppb]')),\n",
    "             avg = widgets.RadioButtons(options=rolling_windows.keys(),value=('1 hour'),description='Average time'),\n",
    "             time = widgets.IntSlider(value=1,min=1,max=60,step=1,description='last days',continuous_update=False),\n",
    "             yaxis = widgets.IntSlider(value=25,min=0,max=2000,step=25,description='Y-axis range',continuous_update=False)\n",
    "             )\n",
    "\n",
    "# organize the boxes (how?)\n",
    "# fix calibration times\n",
    "# avoid threshold determination of y range?\n",
    "# maybe do checkbox for showing 5 minutes yes/no"
   ]
  },
  {
   "cell_type": "code",
   "execution_count": null,
   "metadata": {},
   "outputs": [],
   "source": []
  },
  {
   "cell_type": "code",
   "execution_count": null,
   "metadata": {},
   "outputs": [],
   "source": []
  },
  {
   "cell_type": "code",
   "execution_count": null,
   "metadata": {},
   "outputs": [],
   "source": []
  },
  {
   "cell_type": "code",
   "execution_count": null,
   "metadata": {},
   "outputs": [],
   "source": []
  },
  {
   "cell_type": "code",
   "execution_count": null,
   "metadata": {},
   "outputs": [],
   "source": []
  },
  {
   "cell_type": "code",
   "execution_count": null,
   "metadata": {},
   "outputs": [],
   "source": []
  },
  {
   "cell_type": "code",
   "execution_count": null,
   "metadata": {},
   "outputs": [],
   "source": []
  },
  {
   "cell_type": "code",
   "execution_count": null,
   "metadata": {},
   "outputs": [],
   "source": []
  },
  {
   "cell_type": "code",
   "execution_count": null,
   "metadata": {},
   "outputs": [],
   "source": []
  },
  {
   "cell_type": "markdown",
   "metadata": {},
   "source": [
    "# comments:\n",
    "\n",
    "* ערכים שליליים אופסו\n",
    "* ערכי שיא החוזרים על עצמם מידי יום באותה שעה בדיוק הוסרו\n",
    "* ערכי הסביבה המוצגים מתעדכנים לפי הזמן הממוצע וסוג המזהם שנבחרו \n",
    "* limit values are in ppb (converted from $\\mu g/m^3$ for each pollutant)"
   ]
  },
  {
   "cell_type": "code",
   "execution_count": 231,
   "metadata": {},
   "outputs": [],
   "source": [
    "import plotly.express as px\n",
    "import chart_studio\n",
    "import chart_studio.plotly as cpy"
   ]
  },
  {
   "cell_type": "code",
   "execution_count": 229,
   "metadata": {},
   "outputs": [],
   "source": [
    "username = 'iditbela' # your username\n",
    "api_key = 'znw1tfcxvG5gRUmiFjjq' # your api key - go to profile > settings > regenerate key\n",
    "chart_studio.tools.set_credentials_file(username=username, api_key=api_key)"
   ]
  },
  {
   "cell_type": "code",
   "execution_count": null,
   "metadata": {},
   "outputs": [],
   "source": []
  },
  {
   "cell_type": "code",
   "execution_count": 230,
   "metadata": {},
   "outputs": [],
   "source": [
    "# gapminder = px.data.gapminder()\n",
    "# fig = px.scatter(gapminder.query(\"year==2007\"), x=\"gdpPercap\", y=\"lifeExp\", size=\"pop\", color=\"continent\",\n",
    "#            hover_name=\"country\", log_x=True, size_max=60)\n",
    "# fig.show()"
   ]
  },
  {
   "cell_type": "code",
   "execution_count": 226,
   "metadata": {},
   "outputs": [
    {
     "data": {
      "text/plain": [
       "'https://plotly.com/~iditbela/1/'"
      ]
     },
     "execution_count": 226,
     "metadata": {},
     "output_type": "execute_result"
    }
   ],
   "source": [
    "cpy.plot(fig, filename = 'first_try_idit', auto_open=True)"
   ]
  },
  {
   "cell_type": "code",
   "execution_count": null,
   "metadata": {},
   "outputs": [],
   "source": []
  },
  {
   "cell_type": "code",
   "execution_count": null,
   "metadata": {},
   "outputs": [],
   "source": []
  },
  {
   "cell_type": "code",
   "execution_count": null,
   "metadata": {},
   "outputs": [],
   "source": []
  },
  {
   "cell_type": "code",
   "execution_count": null,
   "metadata": {},
   "outputs": [],
   "source": []
  },
  {
   "cell_type": "code",
   "execution_count": null,
   "metadata": {},
   "outputs": [],
   "source": [
    "# Dash"
   ]
  },
  {
   "cell_type": "code",
   "execution_count": null,
   "metadata": {},
   "outputs": [],
   "source": [
    "# https://www.youtube.com/watch?v=J_Cy_QjG6NE\n",
    "# https://dash.plot.ly\n",
    "# https://radumas.info/blog/tutorial/2017/08/10/codeday.html"
   ]
  },
  {
   "cell_type": "code",
   "execution_count": null,
   "metadata": {},
   "outputs": [],
   "source": []
  },
  {
   "cell_type": "code",
   "execution_count": null,
   "metadata": {},
   "outputs": [],
   "source": []
  },
  {
   "cell_type": "code",
   "execution_count": null,
   "metadata": {},
   "outputs": [],
   "source": []
  },
  {
   "cell_type": "code",
   "execution_count": null,
   "metadata": {},
   "outputs": [],
   "source": []
  },
  {
   "cell_type": "code",
   "execution_count": null,
   "metadata": {},
   "outputs": [],
   "source": []
  },
  {
   "cell_type": "code",
   "execution_count": null,
   "metadata": {},
   "outputs": [],
   "source": []
  },
  {
   "cell_type": "code",
   "execution_count": 170,
   "metadata": {},
   "outputs": [
    {
     "data": {
      "text/plain": [
       "(array([         nan,          nan,          nan,          nan,\n",
       "                 nan,          nan,          nan,          nan,\n",
       "                 nan,          nan,          nan,          nan,\n",
       "                 nan,          nan,          nan,          nan,\n",
       "                 nan,          nan,          nan,          nan,\n",
       "                 nan,          nan,          nan,          nan,\n",
       "                 nan,          nan,          nan,          nan,\n",
       "                 nan,          nan,          nan,          nan,\n",
       "                 nan,          nan,          nan,          nan,\n",
       "                 nan,          nan,          nan,          nan,\n",
       "                 nan,          nan,          nan,          nan,\n",
       "                 nan,          nan,          nan,          nan,\n",
       "                 nan,          nan,          nan,          nan,\n",
       "                 nan,          nan,          nan,          nan,\n",
       "                 nan,          nan,          nan,          nan,\n",
       "                 nan,          nan,          nan,          nan,\n",
       "                 nan,          nan,          nan,          nan,\n",
       "                 nan,          nan,          nan,          nan,\n",
       "                 nan,          nan,          nan,          nan,\n",
       "                 nan,          nan,          nan,          nan,\n",
       "                 nan,          nan,          nan,          nan,\n",
       "                 nan,          nan,          nan,          nan,\n",
       "                 nan,          nan,          nan,          nan,\n",
       "                 nan,          nan,          nan,          nan,\n",
       "                 nan,          nan,          nan,          nan,\n",
       "                 nan,          nan,          nan,          nan,\n",
       "                 nan,          nan,          nan,          nan,\n",
       "                 nan,          nan,          nan,          nan,\n",
       "                 nan,          nan,          nan,          nan,\n",
       "                 nan,          nan,          nan,          nan,\n",
       "         -3.08144648,  -4.38406204,  -3.00862969,   7.01546447,\n",
       "         -3.4184662 ,  -2.32440044,  -4.8099732 , -10.46949641,\n",
       "         -7.32313518,  -6.48387908,  -7.70355778,   4.3033714 ,\n",
       "          8.84684208,  -4.52825748,   2.01878855,   1.03246747,\n",
       "         -1.92946149,   6.37259688,  -4.21644662,  -7.92059178,\n",
       "         -4.5992994 ,  -3.18198052,  -5.45093711,  -0.50550331,\n",
       "         -4.3033714 ,  -2.27794746,  -1.95717516,  -2.72001087,\n",
       "         -5.0228143 ,  -3.20953399,  -5.33662649,  -4.55523312,\n",
       "         -5.98792582,  -8.06917705,  -8.80824662,  -6.79068084,\n",
       "         -8.21922497,   3.42380346,  -3.33539807,  -6.39902525,\n",
       "         -1.8755776 ,  -1.37779009,  -4.81830496,   4.88585361,\n",
       "         -2.78928053,  -2.0121527 ,   7.5470958 ,  10.71459126,\n",
       "          9.28819201,  11.14317491,  16.9247825 ,  16.43721252,\n",
       "          9.44466916]),\n",
       " array([        nan,         nan,         nan,         nan,         nan,\n",
       "                nan,         nan,         nan,         nan,         nan,\n",
       "                nan,         nan,         nan,         nan,         nan,\n",
       "                nan,         nan,         nan,         nan,         nan,\n",
       "                nan,         nan,         nan,         nan,         nan,\n",
       "                nan,         nan,         nan,         nan,         nan,\n",
       "                nan,         nan,         nan,         nan,         nan,\n",
       "                nan,         nan,         nan,         nan,         nan,\n",
       "                nan,         nan,         nan,         nan,         nan,\n",
       "                nan,         nan,         nan,         nan,         nan,\n",
       "                nan,         nan,         nan,         nan,         nan,\n",
       "                nan,         nan,         nan,         nan,         nan,\n",
       "                nan,         nan,         nan,         nan,         nan,\n",
       "                nan,         nan,         nan,         nan,         nan,\n",
       "                nan,         nan,         nan,         nan,         nan,\n",
       "                nan,         nan,         nan,         nan,         nan,\n",
       "                nan,         nan,         nan,         nan,         nan,\n",
       "                nan,         nan,         nan,         nan,         nan,\n",
       "                nan,         nan,         nan,         nan,         nan,\n",
       "                nan,         nan,         nan,         nan,         nan,\n",
       "                nan,         nan,         nan,         nan,         nan,\n",
       "                nan,         nan,         nan,         nan,         nan,\n",
       "                nan,         nan,         nan,         nan,         nan,\n",
       "                nan,         nan,         nan,         nan,         nan,\n",
       "        -1.43690209,  4.38406204,  7.08788737,  1.61964759,  3.07800079,\n",
       "         4.98469283,  0.93496408,  1.65820533,  2.37943086,  2.35993899,\n",
       "         2.50303765,  1.31567267,  6.19462551,  3.93635417,  7.53422145,\n",
       "         6.51874305,  6.72883187,  5.16042721,  5.20687794,  2.12231617,\n",
       "         0.08028107, -3.18198052,  1.66651872, -5.77792925, -1.31567267,\n",
       "         2.91563979, -2.9016315 ,  2.20262137,  1.34585903, -3.9634444 ,\n",
       "         1.33057043, -0.64019626, -1.16393487,  0.70596152,  3.55876264,\n",
       "        -0.3558845 ,  1.15513674, -1.11246118,  4.1188736 ,  0.1116954 ,\n",
       "        -1.94221746,  2.20492505,  3.90178642,  2.93571703,  5.98163139,\n",
       "         7.01721038,  6.56059029,  6.43797594,  8.66137917,  6.69549497,\n",
       "         5.82766996, -1.43806976,  4.8122993 ]))"
      ]
     },
     "execution_count": 170,
     "metadata": {},
     "output_type": "execute_result"
    }
   ],
   "source": [
    "(U[::100].magnitude,V[::100].magnitude)"
   ]
  },
  {
   "cell_type": "code",
   "execution_count": 171,
   "metadata": {},
   "outputs": [
    {
     "data": {
      "application/vnd.plotly.v1+json": {
       "config": {
        "plotlyServerURL": "https://plot.ly"
       },
       "data": [
        {
         "mode": "lines",
         "type": "scatter",
         "x": [
          1577364600,
          1577364601.2744157,
          null,
          1577364900,
          1577364901.1913533,
          null,
          1577365200,
          1577365201.2496402,
          null,
          1577365500,
          1577365501.305656,
          null,
          1577365800,
          1577365801.2666812,
          null,
          1577366100,
          1577366101.2653627,
          null,
          1577366400,
          1577366401.197748,
          null,
          1577366700,
          1577366701.1835587,
          null,
          1577367000,
          1577367001.2653627,
          null,
          1577367300,
          1577367301.198331,
          null,
          1577367600,
          1577367601.0842044,
          null,
          1577367900,
          1577367901.101625,
          null,
          1577368200,
          1577368201.1535327,
          null,
          1577368500,
          1577368501.1475656,
          null,
          1577368800,
          1577368801.2208023,
          null,
          1577369100,
          1577369101.23745,
          null,
          1577369400,
          1577369401.2892141,
          null,
          1577369700,
          1577369701.1779525,
          null,
          1577370000,
          1577370000.9845767,
          null,
          1577370300,
          1577370300.879464,
          null,
          1577370600,
          1577370600.859869,
          null,
          1577370900,
          1577370900.9576614,
          null,
          1577371200,
          1577371201.0994225,
          null,
          1577371500,
          1577371501.0710614,
          null,
          1577371800,
          1577371801.3939106,
          null,
          1577372100,
          1577372101.4772117,
          null,
          1577372400,
          1577372401.2363734,
          null,
          1577372700,
          1577372701.1775236,
          null,
          1577373000,
          1577373001.0323064,
          null,
          1577373300,
          1577373301.0060017,
          null,
          1577373600,
          1577373600.9444668,
          null,
          1577373900,
          1577373900.9527216,
          null,
          1577374200,
          1577374200.924434,
          null,
          1577374500,
          1577374500.8314524,
          null,
          1577374800,
          1577374800.8171072,
          null,
          1577375100,
          1577375100.7986355,
          null,
          1577375400,
          1577375400.7107856,
          null,
          1577375700,
          1577375700.6641445,
          null,
          1577376000,
          1577376000.728282,
          null,
          1577376300,
          1577376300.9056516,
          null,
          1577376600,
          1577376601.1489787,
          null,
          1577376900,
          1577376901.307117,
          null,
          1577377200,
          1577377201.2959123,
          null,
          1577377500,
          1577377501.1150637,
          null,
          1577377800,
          1577377800.96653,
          null,
          1577378100,
          1577378101.1128328,
          null,
          1577378400,
          1577378401.4331758,
          null,
          1577378700,
          1577378701.591285,
          null,
          1577379000,
          1577379001.409141,
          null,
          1577379300,
          1577379301.106211,
          null,
          1577379600,
          1577379600.973884,
          null,
          1577379900,
          1577379900.889806,
          null,
          1577380200,
          1577380200.9941452,
          null,
          1577380500,
          1577380501.024265,
          null,
          1577380800,
          1577380801.1507783,
          null,
          1577381100,
          1577381101.1724432,
          null,
          1577381400,
          1577381401.041442,
          null,
          1577381700,
          1577381700.952628,
          null,
          1577382000,
          1577382001.1404884,
          null,
          1577382300,
          1577382301.270242,
          null,
          1577382600,
          1577382601.1296322,
          null,
          1577382900,
          1577382901.214507,
          null,
          1577383200,
          1577383201.2839262,
          null,
          1577383500,
          1577383501.1602027,
          null,
          1577383800,
          1577383801.1966562,
          null,
          1577384100,
          1577384101.2516983,
          null,
          1577384400,
          1577384401.2424219,
          null,
          1577384700,
          1577384701.2603335,
          null,
          1577385000,
          1577385001.181898,
          null,
          1577385300,
          1577385301.1697996,
          null,
          1577385600,
          1577385601.1669755,
          null,
          1577385900,
          1577385901.194983,
          null,
          1577386200,
          1577386201.194983,
          null,
          1577386500,
          1577386501.137028,
          null,
          1577386800,
          1577386801.1475656,
          null,
          1577387100,
          1577387101.2173524,
          null,
          1577387400,
          1577387401.1669755,
          null,
          1577387700,
          1577387701.196067,
          null,
          1577388000,
          1577388001.2497911,
          null,
          1577388300,
          1577388301.3804572,
          null,
          1577388600,
          1577388601.597775,
          null,
          1577388900,
          1577388901.3292637,
          null,
          1577389200,
          1577389201.1669755,
          null,
          1577389500,
          1577389501.1874514,
          null,
          1577389800,
          1577389801.1311643,
          null,
          1577390100,
          1577390101.1690412,
          null,
          1577390400,
          1577390401.1775236,
          null,
          1577390700,
          1577390701.1296322,
          null,
          1577391000,
          1577391001.2173524,
          null,
          1577391300,
          1577391301.2304149,
          null,
          1577391600,
          1577391601.3136592,
          null,
          1577391900,
          1577391901.2859316,
          null,
          1577392200,
          1577392201.2211616,
          null,
          1577392500,
          1577392501.1259646,
          null,
          1577392800,
          1577392801.141428,
          null,
          1577393100,
          1577393101.2761154,
          null,
          1577393400,
          1577393401.304,
          null,
          1577393700,
          1577393701.2911549,
          null,
          1577394000,
          1577394001.2613845,
          null,
          1577394300,
          1577394301.2959123,
          null,
          1577364600.9576354,
          1577364601.2744157,
          1577364600.8726606,
          null,
          1577364900.897592,
          1577364901.1913533,
          1577364900.813411,
          null,
          1577365200.9341235,
          1577365201.2496402,
          1577365200.8605902,
          null,
          1577365500.9685104,
          1577365501.305656,
          1577365500.9066525,
          null,
          1577365800.9395998,
          1577365801.2666812,
          1577365800.8795881,
          null,
          1577366100.943436,
          1577366101.2653627,
          1577366100.8738582,
          null,
          1577366400.8930235,
          1577366401.197748,
          1577366400.8271635,
          null,
          1577366700.8757172,
          1577366701.1835587,
          1577366700.8240914,
          null,
          1577367000.943436,
          1577367001.2653627,
          1577367000.8738582,
          null,
          1577367300.900463,
          1577367301.198331,
          1577367300.8205614,
          null,
          1577367600.8147047,
          1577367601.0842044,
          1577367600.7424128,
          null,
          1577367900.8344579,
          1577367901.101625,
          1577367900.7476788,
          null,
          1577368200.8690972,
          1577368201.1535327,
          1577368200.7875884,
          null,
          1577368500.8600569,
          1577368501.1475656,
          1577368500.788059,
          null,
          1577368800.912567,
          1577368801.2208023,
          1577368800.8407304,
          null,
          1577369100.9179165,
          1577369101.23745,
          1577369100.85929,
          null,
          1577369400.9211552,
          1577369401.2892141,
          1577369400.930394,
          null,
          1577369700.8223848,
          1577369701.1779525,
          1577369700.8693724,
          null,
          1577370000.696399,
          1577370000.9845767,
          1577370000.717635,
          null,
          1577370300.628385,
          1577370300.879464,
          1577370300.6346874,
          null,
          1577370600.6159253,
          1577370600.859869,
          1577370600.6190052,
          null,
          1577370900.6945603,
          1577370900.9576614,
          1577370900.680818,
          null,
          1577371200.8114142,
          1577371201.0994225,
          1577371200.767559,
          null,
          1577371500.8027198,
          1577371501.0710614,
          1577371500.7355218,
          null,
          1577371801.0287573,
          1577371801.3939106,
          1577371800.9731555,
          null,
          1577372101.0875003,
          1577372101.4772117,
          1577372101.0340483,
          null,
          1577372400.9290493,
          1577372401.2363734,
          1577372400.846611,
          null,
          1577372700.8943853,
          1577372701.1775236,
          1577372700.7967558,
          null,
          1577373000.7884502,
          1577373001.0323064,
          1577373000.694132,
          null,
          1577373300.7705352,
          1577373301.0060017,
          1577373300.674269,
          null,
          1577373600.7275913,
          1577373600.9444668,
          1577373600.628837,
          null,
          1577373900.7318203,
          1577373900.9527216,
          1577373900.6364636,
          null,
          1577374200.7080593,
          1577374200.924434,
          1577374200.6195984,
          null,
          1577374500.6483202,
          1577374500.8314524,
          1577374500.5457988,
          null,
          1577374800.6476717,
          1577374800.8171072,
          1577374800.5258448,
          null,
          1577375100.635244,
          1577375100.7986355,
          1577375100.511744,
          null,
          1577375400.565367,
          1577375400.7107856,
          1577375400.4554522,
          null,
          1577375700.5361547,
          1577375700.6641445,
          1577375700.4176793,
          null,
          1577376000.5902574,
          1577376000.728282,
          1577376000.45569,
          null,
          1577376300.73112,
          1577376300.9056516,
          1577376300.5695627,
          null,
          1577376600.9016328,
          1577376601.1489787,
          1577376600.7485125,
          null,
          1577376900.9955602,
          1577376901.307117,
          1577376900.8817008,
          null,
          1577377200.9612827,
          1577377201.2959123,
          1577377200.8998864,
          null,
          1577377500.8335257,
          1577377501.1150637,
          1577377500.7679114,
          null,
          1577377800.7361536,
          1577377800.96653,
          1577377800.6519618,
          null,
          1577378100.81925,
          1577378101.1128328,
          1577378100.7789829,
          null,
          1577378401.0005684,
          1577378401.4331758,
          1577378401.0577364,
          null,
          1577378701.1019802,
          1577378701.591285,
          1577378701.1833985,
          null,
          1577379001.006844,
          1577379001.409141,
          1577379001.0169423,
          null,
          1577379300.8123388,
          1577379301.106211,
          1577379300.776384,
          null,
          1577379600.733746,
          1577379600.973884,
          1577379600.664931,
          null,
          1577379900.6834924,
          1577379900.889806,
          1577379900.594433,
          null,
          1577380200.7571867,
          1577380200.9941452,
          1577380200.6705892,
          null,
          1577380500.7737684,
          1577380501.024265,
          1577380500.697265,
          null,
          1577380800.8647304,
          1577380801.1507783,
          1577380800.7879994,
          null,
          1577381100.883345,
          1577381101.1724432,
          1577381100.8004997,
          null,
          1577381400.7954276,
          1577381401.041442,
          1577381400.700275,
          null,
          1577381700.740508,
          1577381700.952628,
          1577381700.6276414,
          null,
          1577382000.878601,
          1577382001.1404884,
          1577382000.7593505,
          null,
          1577382300.9648094,
          1577382301.270242,
          1577382300.8594923,
          null,
          1577382600.8556726,
          1577382601.1296322,
          1577382600.7666876,
          null,
          1577382900.910227,
          1577382901.214507,
          1577382900.8340292,
          null,
          1577383200.964782,
          1577383201.2839262,
          1577383200.879173,
          null,
          1577383500.8861344,
          1577383501.1602027,
          1577383500.7801309,
          null,
          1577383800.9114282,
          1577383801.1966562,
          1577383800.8071907,
          null,
          1577384100.9507246,
          1577384101.2516983,
          1577384100.846945,
          null,
          1577384400.9489312,
          1577384401.2424219,
          1577384400.8354156,
          null,
          1577384700.9546762,
          1577384701.2603335,
          1577384700.8553953,
          null,
          1577385000.8904684,
          1577385001.181898,
          1577385000.8069553,
          null,
          1577385300.8790236,
          1577385301.1697996,
          1577385300.8010244,
          null,
          1577385600.8839595,
          1577385601.1669755,
          1577385600.7920327,
          null,
          1577385900.9051745,
          1577385901.194983,
          1577385900.8110414,
          null,
          1577386200.9051745,
          1577386201.194983,
          1577386200.8110414,
          null,
          1577386500.858954,
          1577386501.137028,
          1577386500.774028,
          null,
          1577386800.8600569,
          1577386801.1475656,
          1577386800.788059,
          null,
          1577387100.9147563,
          1577387101.2173524,
          1577387100.8335862,
          null,
          1577387400.8839595,
          1577387401.1669755,
          1577387400.7920327,
          null,
          1577387700.9084702,
          1577387701.196067,
          1577387700.8093028,
          null,
          1577388000.9441395,
          1577388001.2497911,
          1577388000.8507912,
          null,
          1577388301.0400672,
          1577388301.3804572,
          1577388300.942524,
          null,
          1577388601.2006176,
          1577388601.597775,
          1577388601.0940819,
          null,
          1577388900.9962327,
          1577388901.3292637,
          1577388900.9128351,
          null,
          1577389200.8839595,
          1577389201.1669755,
          1577389200.7920327,
          null,
          1577389500.9044175,
          1577389501.1874514,
          1577389500.8009818,
          null,
          1577389800.8591733,
          1577389801.1311643,
          1577389800.7653873,
          null,
          1577390100.8903954,
          1577390101.1690412,
          1577390100.7885633,
          null,
          1577390400.8943853,
          1577390401.1775236,
          1577390400.7967558,
          null,
          1577390700.8556726,
          1577390701.1296322,
          1577390700.7666876,
          null,
          1577391000.9147563,
          1577391001.2173524,
          1577391000.8335862,
          null,
          1577391300.9197524,
          1577391301.2304149,
          1577391300.8473504,
          null,
          1577391600.9794452,
          1577391601.3136592,
          1577391600.9072118,
          null,
          1577391900.9490647,
          1577391901.2859316,
          1577391900.8977702,
          null,
          1577392200.8990002,
          1577392201.2211616,
          1577392200.854813,
          null,
          1577392500.8268447,
          1577392501.1259646,
          1577392500.7902482,
          null,
          1577392800.8340309,
          1577392801.141428,
          1577392800.8052704,
          null,
          1577393100.9418201,
          1577393101.2761154,
          1577393100.8909168,
          null,
          1577393400.9722433,
          1577393401.304,
          1577393400.900541,
          null,
          1577393700.9553277,
          1577393701.2911549,
          1577393700.8990088,
          null,
          1577394000.9380598,
          1577394001.2613845,
          1577394000.8735209,
          null,
          1577394300.9612827,
          1577394301.2959123,
          1577394300.8998864,
          null
         ],
         "y": [
          40,
          40.41408277246243,
          null,
          40,
          40.410215874616014,
          null,
          40,
          40.3583285625621,
          null,
          40,
          40.30143441282078,
          null,
          40,
          40.292436370647025,
          null,
          40,
          40.339052949084305,
          null,
          40,
          40.32093561592713,
          null,
          40,
          40.25157314588949,
          null,
          40,
          40.339052949084305,
          null,
          40,
          40.389361412912436,
          null,
          40,
          40.35227937358744,
          null,
          40,
          40.42287418046345,
          null,
          40,
          40.39719314843773,
          null,
          40,
          40.35084604566728,
          null,
          40,
          40.35005944188759,
          null,
          40,
          40.28568783901671,
          null,
          40,
          39.95497964925377,
          null,
          40,
          39.771029205548146,
          null,
          40,
          39.896516821365026,
          null,
          40,
          39.9692884429018,
          null,
          40,
          39.98499093046394,
          null,
          40,
          40.06696621479436,
          null,
          40,
          40.21370607482173,
          null,
          40,
          40.32745630928947,
          null,
          40,
          40.2709487734347,
          null,
          40,
          40.26047226650039,
          null,
          40,
          40.40172209268743,
          null,
          40,
          40.475750373638206,
          null,
          40,
          40.45961240667565,
          null,
          40,
          40.46910627053217,
          null,
          40,
          40.481229929723916,
          null,
          40,
          40.46467341559642,
          null,
          40,
          40.43107062697551,
          null,
          40,
          40.49958693266275,
          null,
          40,
          40.5936631048154,
          null,
          40,
          40.60181502315205,
          null,
          40,
          40.53561537060532,
          null,
          40,
          40.577331945511645,
          null,
          40,
          40.65574799423168,
          null,
          40,
          40.78727083478861,
          null,
          40,
          40.74615547797059,
          null,
          40,
          40.55483820245477,
          null,
          40,
          40.29918490227734,
          null,
          40,
          40.319739332747716,
          null,
          40,
          40.41026768491374,
          null,
          40,
          40.196222440763634,
          null,
          40,
          39.72141886675024,
          null,
          40,
          39.60324809121654,
          null,
          40,
          39.95079170964947,
          null,
          40,
          40.17520660084506,
          null,
          40,
          40.33533519909087,
          null,
          40,
          40.433987435321185,
          null,
          40,
          40.421989618768414,
          null,
          40,
          40.372801956224976,
          null,
          40,
          40.37391056319369,
          null,
          40,
          40.403704511526875,
          null,
          40,
          40.46367977310641,
          null,
          40,
          40.55,
          null,
          40,
          40.58110783966662,
          null,
          40,
          40.5132110329798,
          null,
          40,
          40.433625218949814,
          null,
          40,
          40.37131206499787,
          null,
          40,
          40.41717294240618,
          null,
          40,
          40.516555536706264,
          null,
          40,
          40.50795046703605,
          null,
          40,
          40.50571890111148,
          null,
          40,
          40.553161834583086,
          null,
          40,
          40.48379673188616,
          null,
          40,
          40.40696019307145,
          null,
          40,
          40.38009090308118,
          null,
          40,
          40.447959936931625,
          null,
          40,
          40.458710975417986,
          null,
          40,
          40.458710975417986,
          null,
          40,
          40.413844373424055,
          null,
          40,
          40.35084604566728,
          null,
          40,
          40.395541752799936,
          null,
          40,
          40.447959936931625,
          null,
          40,
          40.483242505506524,
          null,
          40,
          40.45488679062314,
          null,
          40,
          40.475329505507446,
          null,
          40,
          40.519148550549914,
          null,
          40,
          40.40639666956461,
          null,
          40,
          40.447959936931625,
          null,
          40,
          40.50404315575116,
          null,
          40,
          40.45702004396741,
          null,
          40,
          40.49622853318138,
          null,
          40,
          40.475750373638206,
          null,
          40,
          40.433625218949814,
          null,
          40,
          40.395541752799936,
          null,
          40,
          40.35281581544576,
          null,
          40,
          40.351993901339426,
          null,
          40,
          40.249959783943275,
          null,
          40,
          40.21532374030699,
          null,
          40,
          40.17833529014586,
          null,
          40,
          40.14014974491592,
          null,
          40,
          40.24805169398951,
          null,
          40,
          40.349405710888405,
          null,
          40,
          40.27444343187944,
          null,
          40,
          40.314498464279566,
          null,
          40,
          40.29918490227734,
          null,
          40.16658685942311,
          40.41408277246243,
          40.428112370095235,
          null,
          40.17233277543652,
          40.410215874616014,
          40.41681287561196,
          null,
          40.1290923119472,
          40.3583285625621,
          40.385533589543144,
          null,
          40.08248951361813,
          40.30143441282078,
          40.35042589599627,
          null,
          40.080027135695815,
          40.292436370647025,
          40.33996542587038,
          null,
          40.11363741912795,
          40.339052949084305,
          40.37330514645453,
          null,
          40.10756518969122,
          40.32093561592713,
          40.353357544142575,
          null,
          40.05921244213959,
          40.25157314588949,
          40.302092992371236,
          null,
          40.11363741912795,
          40.339052949084305,
          40.37330514645453,
          null,
          40.15664138477163,
          40.389361412912436,
          40.40255341313369,
          null,
          40.14172314833122,
          40.35227937358744,
          40.36421500215455,
          null,
          40.19062927779809,
          40.42287418046345,
          40.416696034987375,
          null,
          40.16686187697954,
          40.39719314843773,
          40.403580737527726,
          null,
          40.13419264799325,
          40.35084604566728,
          40.369686979254034,
          null,
          40.126113265557166,
          40.35005944188759,
          40.37663665359109,
          null,
          40.07818037671728,
          40.28568783901671,
          40.332120048812776,
          null,
          39.83539007577956,
          39.95497964925377,
          40.09995239755684,
          null,
          39.71471280758751,
          39.771029205548146,
          39.95644290306192,
          null,
          39.82466601573461,
          39.896516821365026,
          40.026713054598694,
          null,
          39.88770795810242,
          39.9692884429018,
          40.068184581847994,
          null,
          39.90099434810574,
          39.98499093046394,
          40.077449859954875,
          null,
          39.94982607163826,
          40.06696621479436,
          40.14634976321992,
          null,
          40.040653280690265,
          40.21370607482173,
          40.266268056036935,
          null,
          40.12524645678246,
          40.32745630928947,
          40.34504119531501,
          null,
          40.05154254880899,
          40.2709487734347,
          40.337589860255854,
          null,
          40.03547225785352,
          40.26047226650039,
          40.33861395509739,
          null,
          40.16161412209737,
          40.40172209268743,
          40.415332891614455,
          null,
          40.22081160054119,
          40.475750373638206,
          40.46245367746885,
          null,
          40.22412321236034,
          40.45961240667565,
          40.435964968806104,
          null,
          40.23363970549361,
          40.46910627053217,
          40.440083415100645,
          null,
          40.248659461468,
          40.481229929723916,
          40.4424754696621,
          null,
          40.23592336866321,
          40.46467341559642,
          40.43143335470283,
          null,
          40.214695951539234,
          40.43107062697551,
          40.40440097008793,
          null,
          40.273437448848526,
          40.49958693266275,
          40.444061524038425,
          null,
          40.34246471660622,
          40.5936631048154,
          40.51014498972784,
          null,
          40.35021385556538,
          40.60181502315205,
          40.51410350893827,
          null,
          40.31169032656055,
          40.53561537060532,
          40.45755212784769,
          null,
          40.34643233406479,
          40.577331945511645,
          40.482722815593746,
          null,
          40.39616139722927,
          40.65574799423168,
          40.545613660469286,
          null,
          40.47240773271801,
          40.78727083478861,
          40.658258380452715,
          null,
          40.417916280048594,
          40.74615547797059,
          40.653700597927816,
          null,
          40.26430689148283,
          40.55483820245477,
          40.532543094680584,
          null,
          40.08187391913754,
          40.29918490227734,
          40.34781077846479,
          null,
          40.11519005468842,
          40.319739332747716,
          40.34401459587219,
          null,
          40.19543820267557,
          40.41026768491374,
          40.3937818575157,
          null,
          40.02672243832685,
          40.196222440763634,
          40.255089175429504,
          null,
          39.65290055932477,
          39.72141886675024,
          39.947005555298695,
          null,
          39.551820087369094,
          39.60324809121654,
          39.87837099964391,
          null,
          39.82007752127581,
          39.95079170964947,
          40.10925029841746,
          null,
          40.012310567870756,
          40.17520660084506,
          40.23931842386311,
          null,
          40.14087520104581,
          40.33533519909087,
          40.34072798989065,
          null,
          40.2203435221781,
          40.433987435321185,
          40.4029424741732,
          null,
          40.20102215901187,
          40.421989618768414,
          40.405032760042,
          null,
          40.16261039818877,
          40.372801956224976,
          40.37280196589369,
          null,
          40.150425456998654,
          40.37391056319369,
          40.38657907114852,
          null,
          40.16959731397644,
          40.403704511526875,
          40.41019681880144,
          null,
          40.22610660058933,
          40.46367977310641,
          40.43982306890602,
          null,
          40.29720533858299,
          40.55,
          40.49269609655766,
          null,
          40.300268014633836,
          40.58110783966662,
          40.534310015410064,
          null,
          40.23819834401588,
          40.5132110329798,
          40.498867349585495,
          null,
          40.195475799787445,
          40.433625218949814,
          40.42728998705189,
          null,
          40.14202053472371,
          40.37131206499787,
          40.391252070779665,
          null,
          40.16783004987035,
          40.41717294240618,
          40.43130723359963,
          null,
          40.25189069649256,
          40.516555536706264,
          40.489978321278585,
          null,
          40.24197111506399,
          40.50795046703605,
          40.487539435649,
          null,
          40.234721000213575,
          40.50571890111148,
          40.49158461026953,
          null,
          40.269741215016644,
          40.553161834583086,
          40.524701197714656,
          null,
          40.21809282901487,
          40.48379673188616,
          40.47672850340919,
          null,
          40.17096505693808,
          40.40696019307145,
          40.41350483497511,
          null,
          40.15291181342993,
          40.38009090308118,
          40.39296882262049,
          null,
          40.2019378046434,
          40.447959936931625,
          40.44141528093443,
          null,
          40.20678430216957,
          40.458710975417986,
          40.45200925746214,
          null,
          40.20678430216957,
          40.458710975417986,
          40.45200925746214,
          null,
          40.18051248057365,
          40.413844373424055,
          40.413844363958255,
          null,
          40.13419264799325,
          40.35084604566728,
          40.369686979254034,
          null,
          40.15912774120291,
          40.395541752799936,
          40.40894316460567,
          null,
          40.2019378046434,
          40.447959936931625,
          40.44141528093443,
          null,
          40.224288968806675,
          40.483242505506524,
          40.46973639232163,
          null,
          40.19841453849534,
          40.45488679062314,
          40.45488678648601,
          null,
          40.1996871698687,
          40.475329505507446,
          40.48297366388589,
          null,
          40.208855163386716,
          40.519148550549914,
          40.53673790048704,
          null,
          40.155439797076724,
          40.40639666956461,
          40.42822077115139,
          null,
          40.2019378046434,
          40.447959936931625,
          40.44141528093443,
          null,
          40.240109779976436,
          40.50404315575116,
          40.48378915111569,
          null,
          40.212118241035434,
          40.45702004396741,
          40.44424682917893,
          null,
          40.236387158727695,
          40.49622853318138,
          40.47628853312269,
          null,
          40.22081160054119,
          40.475750373638206,
          40.46245367746885,
          null,
          40.195475799787445,
          40.433625218949814,
          40.42728998705189,
          null,
          40.15912774120291,
          40.395541752799936,
          40.40894316460567,
          null,
          40.127106289174904,
          40.35281581544576,
          40.37960229075404,
          null,
          40.11797470839476,
          40.351993901339426,
          40.38755345129391,
          null,
          40.047549822873535,
          40.249959783943275,
          40.31143852633417,
          null,
          40.029323741313306,
          40.21532374030699,
          40.27992086139278,
          null,
          40.0125304068662,
          40.17833529014586,
          40.24359195972006,
          null,
          39.983523030777164,
          40.14014974491592,
          40.217757850393156,
          null,
          40.047186836668864,
          40.24805169398951,
          40.30906114346092,
          null,
          40.1171072505414,
          40.349405710888405,
          40.384703790326036,
          null,
          40.06459540032071,
          40.27444343187944,
          40.32955598278201,
          null,
          40.0964132275146,
          40.314498464279566,
          40.355264569365325,
          null,
          40.08187391913754,
          40.29918490227734,
          40.34781077846479,
          null
         ]
        }
       ],
       "layout": {
        "hovermode": "closest",
        "template": {
         "data": {
          "bar": [
           {
            "error_x": {
             "color": "#2a3f5f"
            },
            "error_y": {
             "color": "#2a3f5f"
            },
            "marker": {
             "line": {
              "color": "#E5ECF6",
              "width": 0.5
             }
            },
            "type": "bar"
           }
          ],
          "barpolar": [
           {
            "marker": {
             "line": {
              "color": "#E5ECF6",
              "width": 0.5
             }
            },
            "type": "barpolar"
           }
          ],
          "carpet": [
           {
            "aaxis": {
             "endlinecolor": "#2a3f5f",
             "gridcolor": "white",
             "linecolor": "white",
             "minorgridcolor": "white",
             "startlinecolor": "#2a3f5f"
            },
            "baxis": {
             "endlinecolor": "#2a3f5f",
             "gridcolor": "white",
             "linecolor": "white",
             "minorgridcolor": "white",
             "startlinecolor": "#2a3f5f"
            },
            "type": "carpet"
           }
          ],
          "choropleth": [
           {
            "colorbar": {
             "outlinewidth": 0,
             "ticks": ""
            },
            "type": "choropleth"
           }
          ],
          "contour": [
           {
            "colorbar": {
             "outlinewidth": 0,
             "ticks": ""
            },
            "colorscale": [
             [
              0,
              "#0d0887"
             ],
             [
              0.1111111111111111,
              "#46039f"
             ],
             [
              0.2222222222222222,
              "#7201a8"
             ],
             [
              0.3333333333333333,
              "#9c179e"
             ],
             [
              0.4444444444444444,
              "#bd3786"
             ],
             [
              0.5555555555555556,
              "#d8576b"
             ],
             [
              0.6666666666666666,
              "#ed7953"
             ],
             [
              0.7777777777777778,
              "#fb9f3a"
             ],
             [
              0.8888888888888888,
              "#fdca26"
             ],
             [
              1,
              "#f0f921"
             ]
            ],
            "type": "contour"
           }
          ],
          "contourcarpet": [
           {
            "colorbar": {
             "outlinewidth": 0,
             "ticks": ""
            },
            "type": "contourcarpet"
           }
          ],
          "heatmap": [
           {
            "colorbar": {
             "outlinewidth": 0,
             "ticks": ""
            },
            "colorscale": [
             [
              0,
              "#0d0887"
             ],
             [
              0.1111111111111111,
              "#46039f"
             ],
             [
              0.2222222222222222,
              "#7201a8"
             ],
             [
              0.3333333333333333,
              "#9c179e"
             ],
             [
              0.4444444444444444,
              "#bd3786"
             ],
             [
              0.5555555555555556,
              "#d8576b"
             ],
             [
              0.6666666666666666,
              "#ed7953"
             ],
             [
              0.7777777777777778,
              "#fb9f3a"
             ],
             [
              0.8888888888888888,
              "#fdca26"
             ],
             [
              1,
              "#f0f921"
             ]
            ],
            "type": "heatmap"
           }
          ],
          "heatmapgl": [
           {
            "colorbar": {
             "outlinewidth": 0,
             "ticks": ""
            },
            "colorscale": [
             [
              0,
              "#0d0887"
             ],
             [
              0.1111111111111111,
              "#46039f"
             ],
             [
              0.2222222222222222,
              "#7201a8"
             ],
             [
              0.3333333333333333,
              "#9c179e"
             ],
             [
              0.4444444444444444,
              "#bd3786"
             ],
             [
              0.5555555555555556,
              "#d8576b"
             ],
             [
              0.6666666666666666,
              "#ed7953"
             ],
             [
              0.7777777777777778,
              "#fb9f3a"
             ],
             [
              0.8888888888888888,
              "#fdca26"
             ],
             [
              1,
              "#f0f921"
             ]
            ],
            "type": "heatmapgl"
           }
          ],
          "histogram": [
           {
            "marker": {
             "colorbar": {
              "outlinewidth": 0,
              "ticks": ""
             }
            },
            "type": "histogram"
           }
          ],
          "histogram2d": [
           {
            "colorbar": {
             "outlinewidth": 0,
             "ticks": ""
            },
            "colorscale": [
             [
              0,
              "#0d0887"
             ],
             [
              0.1111111111111111,
              "#46039f"
             ],
             [
              0.2222222222222222,
              "#7201a8"
             ],
             [
              0.3333333333333333,
              "#9c179e"
             ],
             [
              0.4444444444444444,
              "#bd3786"
             ],
             [
              0.5555555555555556,
              "#d8576b"
             ],
             [
              0.6666666666666666,
              "#ed7953"
             ],
             [
              0.7777777777777778,
              "#fb9f3a"
             ],
             [
              0.8888888888888888,
              "#fdca26"
             ],
             [
              1,
              "#f0f921"
             ]
            ],
            "type": "histogram2d"
           }
          ],
          "histogram2dcontour": [
           {
            "colorbar": {
             "outlinewidth": 0,
             "ticks": ""
            },
            "colorscale": [
             [
              0,
              "#0d0887"
             ],
             [
              0.1111111111111111,
              "#46039f"
             ],
             [
              0.2222222222222222,
              "#7201a8"
             ],
             [
              0.3333333333333333,
              "#9c179e"
             ],
             [
              0.4444444444444444,
              "#bd3786"
             ],
             [
              0.5555555555555556,
              "#d8576b"
             ],
             [
              0.6666666666666666,
              "#ed7953"
             ],
             [
              0.7777777777777778,
              "#fb9f3a"
             ],
             [
              0.8888888888888888,
              "#fdca26"
             ],
             [
              1,
              "#f0f921"
             ]
            ],
            "type": "histogram2dcontour"
           }
          ],
          "mesh3d": [
           {
            "colorbar": {
             "outlinewidth": 0,
             "ticks": ""
            },
            "type": "mesh3d"
           }
          ],
          "parcoords": [
           {
            "line": {
             "colorbar": {
              "outlinewidth": 0,
              "ticks": ""
             }
            },
            "type": "parcoords"
           }
          ],
          "pie": [
           {
            "automargin": true,
            "type": "pie"
           }
          ],
          "scatter": [
           {
            "marker": {
             "colorbar": {
              "outlinewidth": 0,
              "ticks": ""
             }
            },
            "type": "scatter"
           }
          ],
          "scatter3d": [
           {
            "line": {
             "colorbar": {
              "outlinewidth": 0,
              "ticks": ""
             }
            },
            "marker": {
             "colorbar": {
              "outlinewidth": 0,
              "ticks": ""
             }
            },
            "type": "scatter3d"
           }
          ],
          "scattercarpet": [
           {
            "marker": {
             "colorbar": {
              "outlinewidth": 0,
              "ticks": ""
             }
            },
            "type": "scattercarpet"
           }
          ],
          "scattergeo": [
           {
            "marker": {
             "colorbar": {
              "outlinewidth": 0,
              "ticks": ""
             }
            },
            "type": "scattergeo"
           }
          ],
          "scattergl": [
           {
            "marker": {
             "colorbar": {
              "outlinewidth": 0,
              "ticks": ""
             }
            },
            "type": "scattergl"
           }
          ],
          "scattermapbox": [
           {
            "marker": {
             "colorbar": {
              "outlinewidth": 0,
              "ticks": ""
             }
            },
            "type": "scattermapbox"
           }
          ],
          "scatterpolar": [
           {
            "marker": {
             "colorbar": {
              "outlinewidth": 0,
              "ticks": ""
             }
            },
            "type": "scatterpolar"
           }
          ],
          "scatterpolargl": [
           {
            "marker": {
             "colorbar": {
              "outlinewidth": 0,
              "ticks": ""
             }
            },
            "type": "scatterpolargl"
           }
          ],
          "scatterternary": [
           {
            "marker": {
             "colorbar": {
              "outlinewidth": 0,
              "ticks": ""
             }
            },
            "type": "scatterternary"
           }
          ],
          "surface": [
           {
            "colorbar": {
             "outlinewidth": 0,
             "ticks": ""
            },
            "colorscale": [
             [
              0,
              "#0d0887"
             ],
             [
              0.1111111111111111,
              "#46039f"
             ],
             [
              0.2222222222222222,
              "#7201a8"
             ],
             [
              0.3333333333333333,
              "#9c179e"
             ],
             [
              0.4444444444444444,
              "#bd3786"
             ],
             [
              0.5555555555555556,
              "#d8576b"
             ],
             [
              0.6666666666666666,
              "#ed7953"
             ],
             [
              0.7777777777777778,
              "#fb9f3a"
             ],
             [
              0.8888888888888888,
              "#fdca26"
             ],
             [
              1,
              "#f0f921"
             ]
            ],
            "type": "surface"
           }
          ],
          "table": [
           {
            "cells": {
             "fill": {
              "color": "#EBF0F8"
             },
             "line": {
              "color": "white"
             }
            },
            "header": {
             "fill": {
              "color": "#C8D4E3"
             },
             "line": {
              "color": "white"
             }
            },
            "type": "table"
           }
          ]
         },
         "layout": {
          "annotationdefaults": {
           "arrowcolor": "#2a3f5f",
           "arrowhead": 0,
           "arrowwidth": 1
          },
          "coloraxis": {
           "colorbar": {
            "outlinewidth": 0,
            "ticks": ""
           }
          },
          "colorscale": {
           "diverging": [
            [
             0,
             "#8e0152"
            ],
            [
             0.1,
             "#c51b7d"
            ],
            [
             0.2,
             "#de77ae"
            ],
            [
             0.3,
             "#f1b6da"
            ],
            [
             0.4,
             "#fde0ef"
            ],
            [
             0.5,
             "#f7f7f7"
            ],
            [
             0.6,
             "#e6f5d0"
            ],
            [
             0.7,
             "#b8e186"
            ],
            [
             0.8,
             "#7fbc41"
            ],
            [
             0.9,
             "#4d9221"
            ],
            [
             1,
             "#276419"
            ]
           ],
           "sequential": [
            [
             0,
             "#0d0887"
            ],
            [
             0.1111111111111111,
             "#46039f"
            ],
            [
             0.2222222222222222,
             "#7201a8"
            ],
            [
             0.3333333333333333,
             "#9c179e"
            ],
            [
             0.4444444444444444,
             "#bd3786"
            ],
            [
             0.5555555555555556,
             "#d8576b"
            ],
            [
             0.6666666666666666,
             "#ed7953"
            ],
            [
             0.7777777777777778,
             "#fb9f3a"
            ],
            [
             0.8888888888888888,
             "#fdca26"
            ],
            [
             1,
             "#f0f921"
            ]
           ],
           "sequentialminus": [
            [
             0,
             "#0d0887"
            ],
            [
             0.1111111111111111,
             "#46039f"
            ],
            [
             0.2222222222222222,
             "#7201a8"
            ],
            [
             0.3333333333333333,
             "#9c179e"
            ],
            [
             0.4444444444444444,
             "#bd3786"
            ],
            [
             0.5555555555555556,
             "#d8576b"
            ],
            [
             0.6666666666666666,
             "#ed7953"
            ],
            [
             0.7777777777777778,
             "#fb9f3a"
            ],
            [
             0.8888888888888888,
             "#fdca26"
            ],
            [
             1,
             "#f0f921"
            ]
           ]
          },
          "colorway": [
           "#636efa",
           "#EF553B",
           "#00cc96",
           "#ab63fa",
           "#FFA15A",
           "#19d3f3",
           "#FF6692",
           "#B6E880",
           "#FF97FF",
           "#FECB52"
          ],
          "font": {
           "color": "#2a3f5f"
          },
          "geo": {
           "bgcolor": "white",
           "lakecolor": "white",
           "landcolor": "#E5ECF6",
           "showlakes": true,
           "showland": true,
           "subunitcolor": "white"
          },
          "hoverlabel": {
           "align": "left"
          },
          "hovermode": "closest",
          "mapbox": {
           "style": "light"
          },
          "paper_bgcolor": "white",
          "plot_bgcolor": "#E5ECF6",
          "polar": {
           "angularaxis": {
            "gridcolor": "white",
            "linecolor": "white",
            "ticks": ""
           },
           "bgcolor": "#E5ECF6",
           "radialaxis": {
            "gridcolor": "white",
            "linecolor": "white",
            "ticks": ""
           }
          },
          "scene": {
           "xaxis": {
            "backgroundcolor": "#E5ECF6",
            "gridcolor": "white",
            "gridwidth": 2,
            "linecolor": "white",
            "showbackground": true,
            "ticks": "",
            "zerolinecolor": "white"
           },
           "yaxis": {
            "backgroundcolor": "#E5ECF6",
            "gridcolor": "white",
            "gridwidth": 2,
            "linecolor": "white",
            "showbackground": true,
            "ticks": "",
            "zerolinecolor": "white"
           },
           "zaxis": {
            "backgroundcolor": "#E5ECF6",
            "gridcolor": "white",
            "gridwidth": 2,
            "linecolor": "white",
            "showbackground": true,
            "ticks": "",
            "zerolinecolor": "white"
           }
          },
          "shapedefaults": {
           "line": {
            "color": "#2a3f5f"
           }
          },
          "ternary": {
           "aaxis": {
            "gridcolor": "white",
            "linecolor": "white",
            "ticks": ""
           },
           "baxis": {
            "gridcolor": "white",
            "linecolor": "white",
            "ticks": ""
           },
           "bgcolor": "#E5ECF6",
           "caxis": {
            "gridcolor": "white",
            "linecolor": "white",
            "ticks": ""
           }
          },
          "title": {
           "x": 0.05
          },
          "xaxis": {
           "automargin": true,
           "gridcolor": "white",
           "linecolor": "white",
           "ticks": "",
           "title": {
            "standoff": 15
           },
           "zerolinecolor": "white",
           "zerolinewidth": 2
          },
          "yaxis": {
           "automargin": true,
           "gridcolor": "white",
           "linecolor": "white",
           "ticks": "",
           "title": {
            "standoff": 15
           },
           "zerolinecolor": "white",
           "zerolinewidth": 2
          }
         }
        }
       }
      },
      "text/html": [
       "<div>\n",
       "        \n",
       "        \n",
       "            <div id=\"5e288661-83b0-43db-b6a4-f360c0933a05\" class=\"plotly-graph-div\" style=\"height:525px; width:100%;\"></div>\n",
       "            <script type=\"text/javascript\">\n",
       "                require([\"plotly\"], function(Plotly) {\n",
       "                    window.PLOTLYENV=window.PLOTLYENV || {};\n",
       "                    \n",
       "                if (document.getElementById(\"5e288661-83b0-43db-b6a4-f360c0933a05\")) {\n",
       "                    Plotly.newPlot(\n",
       "                        '5e288661-83b0-43db-b6a4-f360c0933a05',\n",
       "                        [{\"mode\": \"lines\", \"type\": \"scatter\", \"x\": [1577364600.0, 1577364601.2744157, null, 1577364900.0, 1577364901.1913533, null, 1577365200.0, 1577365201.2496402, null, 1577365500.0, 1577365501.305656, null, 1577365800.0, 1577365801.2666812, null, 1577366100.0, 1577366101.2653627, null, 1577366400.0, 1577366401.197748, null, 1577366700.0, 1577366701.1835587, null, 1577367000.0, 1577367001.2653627, null, 1577367300.0, 1577367301.198331, null, 1577367600.0, 1577367601.0842044, null, 1577367900.0, 1577367901.101625, null, 1577368200.0, 1577368201.1535327, null, 1577368500.0, 1577368501.1475656, null, 1577368800.0, 1577368801.2208023, null, 1577369100.0, 1577369101.23745, null, 1577369400.0, 1577369401.2892141, null, 1577369700.0, 1577369701.1779525, null, 1577370000.0, 1577370000.9845767, null, 1577370300.0, 1577370300.879464, null, 1577370600.0, 1577370600.859869, null, 1577370900.0, 1577370900.9576614, null, 1577371200.0, 1577371201.0994225, null, 1577371500.0, 1577371501.0710614, null, 1577371800.0, 1577371801.3939106, null, 1577372100.0, 1577372101.4772117, null, 1577372400.0, 1577372401.2363734, null, 1577372700.0, 1577372701.1775236, null, 1577373000.0, 1577373001.0323064, null, 1577373300.0, 1577373301.0060017, null, 1577373600.0, 1577373600.9444668, null, 1577373900.0, 1577373900.9527216, null, 1577374200.0, 1577374200.924434, null, 1577374500.0, 1577374500.8314524, null, 1577374800.0, 1577374800.8171072, null, 1577375100.0, 1577375100.7986355, null, 1577375400.0, 1577375400.7107856, null, 1577375700.0, 1577375700.6641445, null, 1577376000.0, 1577376000.728282, null, 1577376300.0, 1577376300.9056516, null, 1577376600.0, 1577376601.1489787, null, 1577376900.0, 1577376901.307117, null, 1577377200.0, 1577377201.2959123, null, 1577377500.0, 1577377501.1150637, null, 1577377800.0, 1577377800.96653, null, 1577378100.0, 1577378101.1128328, null, 1577378400.0, 1577378401.4331758, null, 1577378700.0, 1577378701.591285, null, 1577379000.0, 1577379001.409141, null, 1577379300.0, 1577379301.106211, null, 1577379600.0, 1577379600.973884, null, 1577379900.0, 1577379900.889806, null, 1577380200.0, 1577380200.9941452, null, 1577380500.0, 1577380501.024265, null, 1577380800.0, 1577380801.1507783, null, 1577381100.0, 1577381101.1724432, null, 1577381400.0, 1577381401.041442, null, 1577381700.0, 1577381700.952628, null, 1577382000.0, 1577382001.1404884, null, 1577382300.0, 1577382301.270242, null, 1577382600.0, 1577382601.1296322, null, 1577382900.0, 1577382901.214507, null, 1577383200.0, 1577383201.2839262, null, 1577383500.0, 1577383501.1602027, null, 1577383800.0, 1577383801.1966562, null, 1577384100.0, 1577384101.2516983, null, 1577384400.0, 1577384401.2424219, null, 1577384700.0, 1577384701.2603335, null, 1577385000.0, 1577385001.181898, null, 1577385300.0, 1577385301.1697996, null, 1577385600.0, 1577385601.1669755, null, 1577385900.0, 1577385901.194983, null, 1577386200.0, 1577386201.194983, null, 1577386500.0, 1577386501.137028, null, 1577386800.0, 1577386801.1475656, null, 1577387100.0, 1577387101.2173524, null, 1577387400.0, 1577387401.1669755, null, 1577387700.0, 1577387701.196067, null, 1577388000.0, 1577388001.2497911, null, 1577388300.0, 1577388301.3804572, null, 1577388600.0, 1577388601.597775, null, 1577388900.0, 1577388901.3292637, null, 1577389200.0, 1577389201.1669755, null, 1577389500.0, 1577389501.1874514, null, 1577389800.0, 1577389801.1311643, null, 1577390100.0, 1577390101.1690412, null, 1577390400.0, 1577390401.1775236, null, 1577390700.0, 1577390701.1296322, null, 1577391000.0, 1577391001.2173524, null, 1577391300.0, 1577391301.2304149, null, 1577391600.0, 1577391601.3136592, null, 1577391900.0, 1577391901.2859316, null, 1577392200.0, 1577392201.2211616, null, 1577392500.0, 1577392501.1259646, null, 1577392800.0, 1577392801.141428, null, 1577393100.0, 1577393101.2761154, null, 1577393400.0, 1577393401.304, null, 1577393700.0, 1577393701.2911549, null, 1577394000.0, 1577394001.2613845, null, 1577394300.0, 1577394301.2959123, null, 1577364600.9576354, 1577364601.2744157, 1577364600.8726606, null, 1577364900.897592, 1577364901.1913533, 1577364900.813411, null, 1577365200.9341235, 1577365201.2496402, 1577365200.8605902, null, 1577365500.9685104, 1577365501.305656, 1577365500.9066525, null, 1577365800.9395998, 1577365801.2666812, 1577365800.8795881, null, 1577366100.943436, 1577366101.2653627, 1577366100.8738582, null, 1577366400.8930235, 1577366401.197748, 1577366400.8271635, null, 1577366700.8757172, 1577366701.1835587, 1577366700.8240914, null, 1577367000.943436, 1577367001.2653627, 1577367000.8738582, null, 1577367300.900463, 1577367301.198331, 1577367300.8205614, null, 1577367600.8147047, 1577367601.0842044, 1577367600.7424128, null, 1577367900.8344579, 1577367901.101625, 1577367900.7476788, null, 1577368200.8690972, 1577368201.1535327, 1577368200.7875884, null, 1577368500.8600569, 1577368501.1475656, 1577368500.788059, null, 1577368800.912567, 1577368801.2208023, 1577368800.8407304, null, 1577369100.9179165, 1577369101.23745, 1577369100.85929, null, 1577369400.9211552, 1577369401.2892141, 1577369400.930394, null, 1577369700.8223848, 1577369701.1779525, 1577369700.8693724, null, 1577370000.696399, 1577370000.9845767, 1577370000.717635, null, 1577370300.628385, 1577370300.879464, 1577370300.6346874, null, 1577370600.6159253, 1577370600.859869, 1577370600.6190052, null, 1577370900.6945603, 1577370900.9576614, 1577370900.680818, null, 1577371200.8114142, 1577371201.0994225, 1577371200.767559, null, 1577371500.8027198, 1577371501.0710614, 1577371500.7355218, null, 1577371801.0287573, 1577371801.3939106, 1577371800.9731555, null, 1577372101.0875003, 1577372101.4772117, 1577372101.0340483, null, 1577372400.9290493, 1577372401.2363734, 1577372400.846611, null, 1577372700.8943853, 1577372701.1775236, 1577372700.7967558, null, 1577373000.7884502, 1577373001.0323064, 1577373000.694132, null, 1577373300.7705352, 1577373301.0060017, 1577373300.674269, null, 1577373600.7275913, 1577373600.9444668, 1577373600.628837, null, 1577373900.7318203, 1577373900.9527216, 1577373900.6364636, null, 1577374200.7080593, 1577374200.924434, 1577374200.6195984, null, 1577374500.6483202, 1577374500.8314524, 1577374500.5457988, null, 1577374800.6476717, 1577374800.8171072, 1577374800.5258448, null, 1577375100.635244, 1577375100.7986355, 1577375100.511744, null, 1577375400.565367, 1577375400.7107856, 1577375400.4554522, null, 1577375700.5361547, 1577375700.6641445, 1577375700.4176793, null, 1577376000.5902574, 1577376000.728282, 1577376000.45569, null, 1577376300.73112, 1577376300.9056516, 1577376300.5695627, null, 1577376600.9016328, 1577376601.1489787, 1577376600.7485125, null, 1577376900.9955602, 1577376901.307117, 1577376900.8817008, null, 1577377200.9612827, 1577377201.2959123, 1577377200.8998864, null, 1577377500.8335257, 1577377501.1150637, 1577377500.7679114, null, 1577377800.7361536, 1577377800.96653, 1577377800.6519618, null, 1577378100.81925, 1577378101.1128328, 1577378100.7789829, null, 1577378401.0005684, 1577378401.4331758, 1577378401.0577364, null, 1577378701.1019802, 1577378701.591285, 1577378701.1833985, null, 1577379001.006844, 1577379001.409141, 1577379001.0169423, null, 1577379300.8123388, 1577379301.106211, 1577379300.776384, null, 1577379600.733746, 1577379600.973884, 1577379600.664931, null, 1577379900.6834924, 1577379900.889806, 1577379900.594433, null, 1577380200.7571867, 1577380200.9941452, 1577380200.6705892, null, 1577380500.7737684, 1577380501.024265, 1577380500.697265, null, 1577380800.8647304, 1577380801.1507783, 1577380800.7879994, null, 1577381100.883345, 1577381101.1724432, 1577381100.8004997, null, 1577381400.7954276, 1577381401.041442, 1577381400.700275, null, 1577381700.740508, 1577381700.952628, 1577381700.6276414, null, 1577382000.878601, 1577382001.1404884, 1577382000.7593505, null, 1577382300.9648094, 1577382301.270242, 1577382300.8594923, null, 1577382600.8556726, 1577382601.1296322, 1577382600.7666876, null, 1577382900.910227, 1577382901.214507, 1577382900.8340292, null, 1577383200.964782, 1577383201.2839262, 1577383200.879173, null, 1577383500.8861344, 1577383501.1602027, 1577383500.7801309, null, 1577383800.9114282, 1577383801.1966562, 1577383800.8071907, null, 1577384100.9507246, 1577384101.2516983, 1577384100.846945, null, 1577384400.9489312, 1577384401.2424219, 1577384400.8354156, null, 1577384700.9546762, 1577384701.2603335, 1577384700.8553953, null, 1577385000.8904684, 1577385001.181898, 1577385000.8069553, null, 1577385300.8790236, 1577385301.1697996, 1577385300.8010244, null, 1577385600.8839595, 1577385601.1669755, 1577385600.7920327, null, 1577385900.9051745, 1577385901.194983, 1577385900.8110414, null, 1577386200.9051745, 1577386201.194983, 1577386200.8110414, null, 1577386500.858954, 1577386501.137028, 1577386500.774028, null, 1577386800.8600569, 1577386801.1475656, 1577386800.788059, null, 1577387100.9147563, 1577387101.2173524, 1577387100.8335862, null, 1577387400.8839595, 1577387401.1669755, 1577387400.7920327, null, 1577387700.9084702, 1577387701.196067, 1577387700.8093028, null, 1577388000.9441395, 1577388001.2497911, 1577388000.8507912, null, 1577388301.0400672, 1577388301.3804572, 1577388300.942524, null, 1577388601.2006176, 1577388601.597775, 1577388601.0940819, null, 1577388900.9962327, 1577388901.3292637, 1577388900.9128351, null, 1577389200.8839595, 1577389201.1669755, 1577389200.7920327, null, 1577389500.9044175, 1577389501.1874514, 1577389500.8009818, null, 1577389800.8591733, 1577389801.1311643, 1577389800.7653873, null, 1577390100.8903954, 1577390101.1690412, 1577390100.7885633, null, 1577390400.8943853, 1577390401.1775236, 1577390400.7967558, null, 1577390700.8556726, 1577390701.1296322, 1577390700.7666876, null, 1577391000.9147563, 1577391001.2173524, 1577391000.8335862, null, 1577391300.9197524, 1577391301.2304149, 1577391300.8473504, null, 1577391600.9794452, 1577391601.3136592, 1577391600.9072118, null, 1577391900.9490647, 1577391901.2859316, 1577391900.8977702, null, 1577392200.8990002, 1577392201.2211616, 1577392200.854813, null, 1577392500.8268447, 1577392501.1259646, 1577392500.7902482, null, 1577392800.8340309, 1577392801.141428, 1577392800.8052704, null, 1577393100.9418201, 1577393101.2761154, 1577393100.8909168, null, 1577393400.9722433, 1577393401.304, 1577393400.900541, null, 1577393700.9553277, 1577393701.2911549, 1577393700.8990088, null, 1577394000.9380598, 1577394001.2613845, 1577394000.8735209, null, 1577394300.9612827, 1577394301.2959123, 1577394300.8998864, null], \"y\": [40.0, 40.41408277246243, null, 40.0, 40.410215874616014, null, 40.0, 40.3583285625621, null, 40.0, 40.30143441282078, null, 40.0, 40.292436370647025, null, 40.0, 40.339052949084305, null, 40.0, 40.32093561592713, null, 40.0, 40.25157314588949, null, 40.0, 40.339052949084305, null, 40.0, 40.389361412912436, null, 40.0, 40.35227937358744, null, 40.0, 40.42287418046345, null, 40.0, 40.39719314843773, null, 40.0, 40.35084604566728, null, 40.0, 40.35005944188759, null, 40.0, 40.28568783901671, null, 40.0, 39.95497964925377, null, 40.0, 39.771029205548146, null, 40.0, 39.896516821365026, null, 40.0, 39.9692884429018, null, 40.0, 39.98499093046394, null, 40.0, 40.06696621479436, null, 40.0, 40.21370607482173, null, 40.0, 40.32745630928947, null, 40.0, 40.2709487734347, null, 40.0, 40.26047226650039, null, 40.0, 40.40172209268743, null, 40.0, 40.475750373638206, null, 40.0, 40.45961240667565, null, 40.0, 40.46910627053217, null, 40.0, 40.481229929723916, null, 40.0, 40.46467341559642, null, 40.0, 40.43107062697551, null, 40.0, 40.49958693266275, null, 40.0, 40.5936631048154, null, 40.0, 40.60181502315205, null, 40.0, 40.53561537060532, null, 40.0, 40.577331945511645, null, 40.0, 40.65574799423168, null, 40.0, 40.78727083478861, null, 40.0, 40.74615547797059, null, 40.0, 40.55483820245477, null, 40.0, 40.29918490227734, null, 40.0, 40.319739332747716, null, 40.0, 40.41026768491374, null, 40.0, 40.196222440763634, null, 40.0, 39.72141886675024, null, 40.0, 39.60324809121654, null, 40.0, 39.95079170964947, null, 40.0, 40.17520660084506, null, 40.0, 40.33533519909087, null, 40.0, 40.433987435321185, null, 40.0, 40.421989618768414, null, 40.0, 40.372801956224976, null, 40.0, 40.37391056319369, null, 40.0, 40.403704511526875, null, 40.0, 40.46367977310641, null, 40.0, 40.55, null, 40.0, 40.58110783966662, null, 40.0, 40.5132110329798, null, 40.0, 40.433625218949814, null, 40.0, 40.37131206499787, null, 40.0, 40.41717294240618, null, 40.0, 40.516555536706264, null, 40.0, 40.50795046703605, null, 40.0, 40.50571890111148, null, 40.0, 40.553161834583086, null, 40.0, 40.48379673188616, null, 40.0, 40.40696019307145, null, 40.0, 40.38009090308118, null, 40.0, 40.447959936931625, null, 40.0, 40.458710975417986, null, 40.0, 40.458710975417986, null, 40.0, 40.413844373424055, null, 40.0, 40.35084604566728, null, 40.0, 40.395541752799936, null, 40.0, 40.447959936931625, null, 40.0, 40.483242505506524, null, 40.0, 40.45488679062314, null, 40.0, 40.475329505507446, null, 40.0, 40.519148550549914, null, 40.0, 40.40639666956461, null, 40.0, 40.447959936931625, null, 40.0, 40.50404315575116, null, 40.0, 40.45702004396741, null, 40.0, 40.49622853318138, null, 40.0, 40.475750373638206, null, 40.0, 40.433625218949814, null, 40.0, 40.395541752799936, null, 40.0, 40.35281581544576, null, 40.0, 40.351993901339426, null, 40.0, 40.249959783943275, null, 40.0, 40.21532374030699, null, 40.0, 40.17833529014586, null, 40.0, 40.14014974491592, null, 40.0, 40.24805169398951, null, 40.0, 40.349405710888405, null, 40.0, 40.27444343187944, null, 40.0, 40.314498464279566, null, 40.0, 40.29918490227734, null, 40.16658685942311, 40.41408277246243, 40.428112370095235, null, 40.17233277543652, 40.410215874616014, 40.41681287561196, null, 40.1290923119472, 40.3583285625621, 40.385533589543144, null, 40.08248951361813, 40.30143441282078, 40.35042589599627, null, 40.080027135695815, 40.292436370647025, 40.33996542587038, null, 40.11363741912795, 40.339052949084305, 40.37330514645453, null, 40.10756518969122, 40.32093561592713, 40.353357544142575, null, 40.05921244213959, 40.25157314588949, 40.302092992371236, null, 40.11363741912795, 40.339052949084305, 40.37330514645453, null, 40.15664138477163, 40.389361412912436, 40.40255341313369, null, 40.14172314833122, 40.35227937358744, 40.36421500215455, null, 40.19062927779809, 40.42287418046345, 40.416696034987375, null, 40.16686187697954, 40.39719314843773, 40.403580737527726, null, 40.13419264799325, 40.35084604566728, 40.369686979254034, null, 40.126113265557166, 40.35005944188759, 40.37663665359109, null, 40.07818037671728, 40.28568783901671, 40.332120048812776, null, 39.83539007577956, 39.95497964925377, 40.09995239755684, null, 39.71471280758751, 39.771029205548146, 39.95644290306192, null, 39.82466601573461, 39.896516821365026, 40.026713054598694, null, 39.88770795810242, 39.9692884429018, 40.068184581847994, null, 39.90099434810574, 39.98499093046394, 40.077449859954875, null, 39.94982607163826, 40.06696621479436, 40.14634976321992, null, 40.040653280690265, 40.21370607482173, 40.266268056036935, null, 40.12524645678246, 40.32745630928947, 40.34504119531501, null, 40.05154254880899, 40.2709487734347, 40.337589860255854, null, 40.03547225785352, 40.26047226650039, 40.33861395509739, null, 40.16161412209737, 40.40172209268743, 40.415332891614455, null, 40.22081160054119, 40.475750373638206, 40.46245367746885, null, 40.22412321236034, 40.45961240667565, 40.435964968806104, null, 40.23363970549361, 40.46910627053217, 40.440083415100645, null, 40.248659461468, 40.481229929723916, 40.4424754696621, null, 40.23592336866321, 40.46467341559642, 40.43143335470283, null, 40.214695951539234, 40.43107062697551, 40.40440097008793, null, 40.273437448848526, 40.49958693266275, 40.444061524038425, null, 40.34246471660622, 40.5936631048154, 40.51014498972784, null, 40.35021385556538, 40.60181502315205, 40.51410350893827, null, 40.31169032656055, 40.53561537060532, 40.45755212784769, null, 40.34643233406479, 40.577331945511645, 40.482722815593746, null, 40.39616139722927, 40.65574799423168, 40.545613660469286, null, 40.47240773271801, 40.78727083478861, 40.658258380452715, null, 40.417916280048594, 40.74615547797059, 40.653700597927816, null, 40.26430689148283, 40.55483820245477, 40.532543094680584, null, 40.08187391913754, 40.29918490227734, 40.34781077846479, null, 40.11519005468842, 40.319739332747716, 40.34401459587219, null, 40.19543820267557, 40.41026768491374, 40.3937818575157, null, 40.02672243832685, 40.196222440763634, 40.255089175429504, null, 39.65290055932477, 39.72141886675024, 39.947005555298695, null, 39.551820087369094, 39.60324809121654, 39.87837099964391, null, 39.82007752127581, 39.95079170964947, 40.10925029841746, null, 40.012310567870756, 40.17520660084506, 40.23931842386311, null, 40.14087520104581, 40.33533519909087, 40.34072798989065, null, 40.2203435221781, 40.433987435321185, 40.4029424741732, null, 40.20102215901187, 40.421989618768414, 40.405032760042, null, 40.16261039818877, 40.372801956224976, 40.37280196589369, null, 40.150425456998654, 40.37391056319369, 40.38657907114852, null, 40.16959731397644, 40.403704511526875, 40.41019681880144, null, 40.22610660058933, 40.46367977310641, 40.43982306890602, null, 40.29720533858299, 40.55, 40.49269609655766, null, 40.300268014633836, 40.58110783966662, 40.534310015410064, null, 40.23819834401588, 40.5132110329798, 40.498867349585495, null, 40.195475799787445, 40.433625218949814, 40.42728998705189, null, 40.14202053472371, 40.37131206499787, 40.391252070779665, null, 40.16783004987035, 40.41717294240618, 40.43130723359963, null, 40.25189069649256, 40.516555536706264, 40.489978321278585, null, 40.24197111506399, 40.50795046703605, 40.487539435649, null, 40.234721000213575, 40.50571890111148, 40.49158461026953, null, 40.269741215016644, 40.553161834583086, 40.524701197714656, null, 40.21809282901487, 40.48379673188616, 40.47672850340919, null, 40.17096505693808, 40.40696019307145, 40.41350483497511, null, 40.15291181342993, 40.38009090308118, 40.39296882262049, null, 40.2019378046434, 40.447959936931625, 40.44141528093443, null, 40.20678430216957, 40.458710975417986, 40.45200925746214, null, 40.20678430216957, 40.458710975417986, 40.45200925746214, null, 40.18051248057365, 40.413844373424055, 40.413844363958255, null, 40.13419264799325, 40.35084604566728, 40.369686979254034, null, 40.15912774120291, 40.395541752799936, 40.40894316460567, null, 40.2019378046434, 40.447959936931625, 40.44141528093443, null, 40.224288968806675, 40.483242505506524, 40.46973639232163, null, 40.19841453849534, 40.45488679062314, 40.45488678648601, null, 40.1996871698687, 40.475329505507446, 40.48297366388589, null, 40.208855163386716, 40.519148550549914, 40.53673790048704, null, 40.155439797076724, 40.40639666956461, 40.42822077115139, null, 40.2019378046434, 40.447959936931625, 40.44141528093443, null, 40.240109779976436, 40.50404315575116, 40.48378915111569, null, 40.212118241035434, 40.45702004396741, 40.44424682917893, null, 40.236387158727695, 40.49622853318138, 40.47628853312269, null, 40.22081160054119, 40.475750373638206, 40.46245367746885, null, 40.195475799787445, 40.433625218949814, 40.42728998705189, null, 40.15912774120291, 40.395541752799936, 40.40894316460567, null, 40.127106289174904, 40.35281581544576, 40.37960229075404, null, 40.11797470839476, 40.351993901339426, 40.38755345129391, null, 40.047549822873535, 40.249959783943275, 40.31143852633417, null, 40.029323741313306, 40.21532374030699, 40.27992086139278, null, 40.0125304068662, 40.17833529014586, 40.24359195972006, null, 39.983523030777164, 40.14014974491592, 40.217757850393156, null, 40.047186836668864, 40.24805169398951, 40.30906114346092, null, 40.1171072505414, 40.349405710888405, 40.384703790326036, null, 40.06459540032071, 40.27444343187944, 40.32955598278201, null, 40.0964132275146, 40.314498464279566, 40.355264569365325, null, 40.08187391913754, 40.29918490227734, 40.34781077846479, null]}],\n",
       "                        {\"hovermode\": \"closest\", \"template\": {\"data\": {\"bar\": [{\"error_x\": {\"color\": \"#2a3f5f\"}, \"error_y\": {\"color\": \"#2a3f5f\"}, \"marker\": {\"line\": {\"color\": \"#E5ECF6\", \"width\": 0.5}}, \"type\": \"bar\"}], \"barpolar\": [{\"marker\": {\"line\": {\"color\": \"#E5ECF6\", \"width\": 0.5}}, \"type\": \"barpolar\"}], \"carpet\": [{\"aaxis\": {\"endlinecolor\": \"#2a3f5f\", \"gridcolor\": \"white\", \"linecolor\": \"white\", \"minorgridcolor\": \"white\", \"startlinecolor\": \"#2a3f5f\"}, \"baxis\": {\"endlinecolor\": \"#2a3f5f\", \"gridcolor\": \"white\", \"linecolor\": \"white\", \"minorgridcolor\": \"white\", \"startlinecolor\": \"#2a3f5f\"}, \"type\": \"carpet\"}], \"choropleth\": [{\"colorbar\": {\"outlinewidth\": 0, \"ticks\": \"\"}, \"type\": \"choropleth\"}], \"contour\": [{\"colorbar\": {\"outlinewidth\": 0, \"ticks\": \"\"}, \"colorscale\": [[0.0, \"#0d0887\"], [0.1111111111111111, \"#46039f\"], [0.2222222222222222, \"#7201a8\"], [0.3333333333333333, \"#9c179e\"], [0.4444444444444444, \"#bd3786\"], [0.5555555555555556, \"#d8576b\"], [0.6666666666666666, \"#ed7953\"], [0.7777777777777778, \"#fb9f3a\"], [0.8888888888888888, \"#fdca26\"], [1.0, \"#f0f921\"]], \"type\": \"contour\"}], \"contourcarpet\": [{\"colorbar\": {\"outlinewidth\": 0, \"ticks\": \"\"}, \"type\": \"contourcarpet\"}], \"heatmap\": [{\"colorbar\": {\"outlinewidth\": 0, \"ticks\": \"\"}, \"colorscale\": [[0.0, \"#0d0887\"], [0.1111111111111111, \"#46039f\"], [0.2222222222222222, \"#7201a8\"], [0.3333333333333333, \"#9c179e\"], [0.4444444444444444, \"#bd3786\"], [0.5555555555555556, \"#d8576b\"], [0.6666666666666666, \"#ed7953\"], [0.7777777777777778, \"#fb9f3a\"], [0.8888888888888888, \"#fdca26\"], [1.0, \"#f0f921\"]], \"type\": \"heatmap\"}], \"heatmapgl\": [{\"colorbar\": {\"outlinewidth\": 0, \"ticks\": \"\"}, \"colorscale\": [[0.0, \"#0d0887\"], [0.1111111111111111, \"#46039f\"], [0.2222222222222222, \"#7201a8\"], [0.3333333333333333, \"#9c179e\"], [0.4444444444444444, \"#bd3786\"], [0.5555555555555556, \"#d8576b\"], [0.6666666666666666, \"#ed7953\"], [0.7777777777777778, \"#fb9f3a\"], [0.8888888888888888, \"#fdca26\"], [1.0, \"#f0f921\"]], \"type\": \"heatmapgl\"}], \"histogram\": [{\"marker\": {\"colorbar\": {\"outlinewidth\": 0, \"ticks\": \"\"}}, \"type\": \"histogram\"}], \"histogram2d\": [{\"colorbar\": {\"outlinewidth\": 0, \"ticks\": \"\"}, \"colorscale\": [[0.0, \"#0d0887\"], [0.1111111111111111, \"#46039f\"], [0.2222222222222222, \"#7201a8\"], [0.3333333333333333, \"#9c179e\"], [0.4444444444444444, \"#bd3786\"], [0.5555555555555556, \"#d8576b\"], [0.6666666666666666, \"#ed7953\"], [0.7777777777777778, \"#fb9f3a\"], [0.8888888888888888, \"#fdca26\"], [1.0, \"#f0f921\"]], \"type\": \"histogram2d\"}], \"histogram2dcontour\": [{\"colorbar\": {\"outlinewidth\": 0, \"ticks\": \"\"}, \"colorscale\": [[0.0, \"#0d0887\"], [0.1111111111111111, \"#46039f\"], [0.2222222222222222, \"#7201a8\"], [0.3333333333333333, \"#9c179e\"], [0.4444444444444444, \"#bd3786\"], [0.5555555555555556, \"#d8576b\"], [0.6666666666666666, \"#ed7953\"], [0.7777777777777778, \"#fb9f3a\"], [0.8888888888888888, \"#fdca26\"], [1.0, \"#f0f921\"]], \"type\": \"histogram2dcontour\"}], \"mesh3d\": [{\"colorbar\": {\"outlinewidth\": 0, \"ticks\": \"\"}, \"type\": \"mesh3d\"}], \"parcoords\": [{\"line\": {\"colorbar\": {\"outlinewidth\": 0, \"ticks\": \"\"}}, \"type\": \"parcoords\"}], \"pie\": [{\"automargin\": true, \"type\": \"pie\"}], \"scatter\": [{\"marker\": {\"colorbar\": {\"outlinewidth\": 0, \"ticks\": \"\"}}, \"type\": \"scatter\"}], \"scatter3d\": [{\"line\": {\"colorbar\": {\"outlinewidth\": 0, \"ticks\": \"\"}}, \"marker\": {\"colorbar\": {\"outlinewidth\": 0, \"ticks\": \"\"}}, \"type\": \"scatter3d\"}], \"scattercarpet\": [{\"marker\": {\"colorbar\": {\"outlinewidth\": 0, \"ticks\": \"\"}}, \"type\": \"scattercarpet\"}], \"scattergeo\": [{\"marker\": {\"colorbar\": {\"outlinewidth\": 0, \"ticks\": \"\"}}, \"type\": \"scattergeo\"}], \"scattergl\": [{\"marker\": {\"colorbar\": {\"outlinewidth\": 0, \"ticks\": \"\"}}, \"type\": \"scattergl\"}], \"scattermapbox\": [{\"marker\": {\"colorbar\": {\"outlinewidth\": 0, \"ticks\": \"\"}}, \"type\": \"scattermapbox\"}], \"scatterpolar\": [{\"marker\": {\"colorbar\": {\"outlinewidth\": 0, \"ticks\": \"\"}}, \"type\": \"scatterpolar\"}], \"scatterpolargl\": [{\"marker\": {\"colorbar\": {\"outlinewidth\": 0, \"ticks\": \"\"}}, \"type\": \"scatterpolargl\"}], \"scatterternary\": [{\"marker\": {\"colorbar\": {\"outlinewidth\": 0, \"ticks\": \"\"}}, \"type\": \"scatterternary\"}], \"surface\": [{\"colorbar\": {\"outlinewidth\": 0, \"ticks\": \"\"}, \"colorscale\": [[0.0, \"#0d0887\"], [0.1111111111111111, \"#46039f\"], [0.2222222222222222, \"#7201a8\"], [0.3333333333333333, \"#9c179e\"], [0.4444444444444444, \"#bd3786\"], [0.5555555555555556, \"#d8576b\"], [0.6666666666666666, \"#ed7953\"], [0.7777777777777778, \"#fb9f3a\"], [0.8888888888888888, \"#fdca26\"], [1.0, \"#f0f921\"]], \"type\": \"surface\"}], \"table\": [{\"cells\": {\"fill\": {\"color\": \"#EBF0F8\"}, \"line\": {\"color\": \"white\"}}, \"header\": {\"fill\": {\"color\": \"#C8D4E3\"}, \"line\": {\"color\": \"white\"}}, \"type\": \"table\"}]}, \"layout\": {\"annotationdefaults\": {\"arrowcolor\": \"#2a3f5f\", \"arrowhead\": 0, \"arrowwidth\": 1}, \"coloraxis\": {\"colorbar\": {\"outlinewidth\": 0, \"ticks\": \"\"}}, \"colorscale\": {\"diverging\": [[0, \"#8e0152\"], [0.1, \"#c51b7d\"], [0.2, \"#de77ae\"], [0.3, \"#f1b6da\"], [0.4, \"#fde0ef\"], [0.5, \"#f7f7f7\"], [0.6, \"#e6f5d0\"], [0.7, \"#b8e186\"], [0.8, \"#7fbc41\"], [0.9, \"#4d9221\"], [1, \"#276419\"]], \"sequential\": [[0.0, \"#0d0887\"], [0.1111111111111111, \"#46039f\"], [0.2222222222222222, \"#7201a8\"], [0.3333333333333333, \"#9c179e\"], [0.4444444444444444, \"#bd3786\"], [0.5555555555555556, \"#d8576b\"], [0.6666666666666666, \"#ed7953\"], [0.7777777777777778, \"#fb9f3a\"], [0.8888888888888888, \"#fdca26\"], [1.0, \"#f0f921\"]], \"sequentialminus\": [[0.0, \"#0d0887\"], [0.1111111111111111, \"#46039f\"], [0.2222222222222222, \"#7201a8\"], [0.3333333333333333, \"#9c179e\"], [0.4444444444444444, \"#bd3786\"], [0.5555555555555556, \"#d8576b\"], [0.6666666666666666, \"#ed7953\"], [0.7777777777777778, \"#fb9f3a\"], [0.8888888888888888, \"#fdca26\"], [1.0, \"#f0f921\"]]}, \"colorway\": [\"#636efa\", \"#EF553B\", \"#00cc96\", \"#ab63fa\", \"#FFA15A\", \"#19d3f3\", \"#FF6692\", \"#B6E880\", \"#FF97FF\", \"#FECB52\"], \"font\": {\"color\": \"#2a3f5f\"}, \"geo\": {\"bgcolor\": \"white\", \"lakecolor\": \"white\", \"landcolor\": \"#E5ECF6\", \"showlakes\": true, \"showland\": true, \"subunitcolor\": \"white\"}, \"hoverlabel\": {\"align\": \"left\"}, \"hovermode\": \"closest\", \"mapbox\": {\"style\": \"light\"}, \"paper_bgcolor\": \"white\", \"plot_bgcolor\": \"#E5ECF6\", \"polar\": {\"angularaxis\": {\"gridcolor\": \"white\", \"linecolor\": \"white\", \"ticks\": \"\"}, \"bgcolor\": \"#E5ECF6\", \"radialaxis\": {\"gridcolor\": \"white\", \"linecolor\": \"white\", \"ticks\": \"\"}}, \"scene\": {\"xaxis\": {\"backgroundcolor\": \"#E5ECF6\", \"gridcolor\": \"white\", \"gridwidth\": 2, \"linecolor\": \"white\", \"showbackground\": true, \"ticks\": \"\", \"zerolinecolor\": \"white\"}, \"yaxis\": {\"backgroundcolor\": \"#E5ECF6\", \"gridcolor\": \"white\", \"gridwidth\": 2, \"linecolor\": \"white\", \"showbackground\": true, \"ticks\": \"\", \"zerolinecolor\": \"white\"}, \"zaxis\": {\"backgroundcolor\": \"#E5ECF6\", \"gridcolor\": \"white\", \"gridwidth\": 2, \"linecolor\": \"white\", \"showbackground\": true, \"ticks\": \"\", \"zerolinecolor\": \"white\"}}, \"shapedefaults\": {\"line\": {\"color\": \"#2a3f5f\"}}, \"ternary\": {\"aaxis\": {\"gridcolor\": \"white\", \"linecolor\": \"white\", \"ticks\": \"\"}, \"baxis\": {\"gridcolor\": \"white\", \"linecolor\": \"white\", \"ticks\": \"\"}, \"bgcolor\": \"#E5ECF6\", \"caxis\": {\"gridcolor\": \"white\", \"linecolor\": \"white\", \"ticks\": \"\"}}, \"title\": {\"x\": 0.05}, \"xaxis\": {\"automargin\": true, \"gridcolor\": \"white\", \"linecolor\": \"white\", \"ticks\": \"\", \"title\": {\"standoff\": 15}, \"zerolinecolor\": \"white\", \"zerolinewidth\": 2}, \"yaxis\": {\"automargin\": true, \"gridcolor\": \"white\", \"linecolor\": \"white\", \"ticks\": \"\", \"title\": {\"standoff\": 15}, \"zerolinecolor\": \"white\", \"zerolinewidth\": 2}}}},\n",
       "                        {\"responsive\": true}\n",
       "                    ).then(function(){\n",
       "                            \n",
       "var gd = document.getElementById('5e288661-83b0-43db-b6a4-f360c0933a05');\n",
       "var x = new MutationObserver(function (mutations, observer) {{\n",
       "        var display = window.getComputedStyle(gd).display;\n",
       "        if (!display || display === 'none') {{\n",
       "            console.log([gd, 'removed!']);\n",
       "            Plotly.purge(gd);\n",
       "            observer.disconnect();\n",
       "        }}\n",
       "}});\n",
       "\n",
       "// Listen for the removal of the full notebook cells\n",
       "var notebookContainer = gd.closest('#notebook-container');\n",
       "if (notebookContainer) {{\n",
       "    x.observe(notebookContainer, {childList: true});\n",
       "}}\n",
       "\n",
       "// Listen for the clearing of the current output cell\n",
       "var outputEl = gd.closest('.output');\n",
       "if (outputEl) {{\n",
       "    x.observe(outputEl, {childList: true});\n",
       "}}\n",
       "\n",
       "                        })\n",
       "                };\n",
       "                });\n",
       "            </script>\n",
       "        </div>"
      ]
     },
     "metadata": {},
     "output_type": "display_data"
    }
   ],
   "source": [
    "ff.create_quiver([xx.timestamp() for xx in X[-100:]],Y[-100:],U[-100:].magnitude,V[-100:].magnitude)"
   ]
  },
  {
   "cell_type": "code",
   "execution_count": null,
   "metadata": {},
   "outputs": [],
   "source": []
  },
  {
   "cell_type": "code",
   "execution_count": null,
   "metadata": {},
   "outputs": [],
   "source": []
  },
  {
   "cell_type": "code",
   "execution_count": null,
   "metadata": {},
   "outputs": [],
   "source": []
  },
  {
   "cell_type": "code",
   "execution_count": 176,
   "metadata": {},
   "outputs": [
    {
     "data": {
      "text/html": [
       "        <script type=\"text/javascript\">\n",
       "        window.PlotlyConfig = {MathJaxConfig: 'local'};\n",
       "        if (window.MathJax) {MathJax.Hub.Config({SVG: {font: \"STIX-Web\"}});}\n",
       "        if (typeof require !== 'undefined') {\n",
       "        require.undef(\"plotly\");\n",
       "        requirejs.config({\n",
       "            paths: {\n",
       "                'plotly': ['https://cdn.plot.ly/plotly-latest.min']\n",
       "            }\n",
       "        });\n",
       "        require(['plotly'], function(Plotly) {\n",
       "            window._Plotly = Plotly;\n",
       "        });\n",
       "        }\n",
       "        </script>\n",
       "        "
      ]
     },
     "metadata": {},
     "output_type": "display_data"
    }
   ],
   "source": [
    "# import plotly as py\n",
    "# import plotly.graph_objs as go\n",
    "# from scipy import special\n",
    "# import ipywidgets as widgets\n",
    "\n",
    "# # offline mode. for an online, I need to login\n",
    "# py.offline.init_notebook_mode(connected=True)"
   ]
  },
  {
   "cell_type": "code",
   "execution_count": 550,
   "metadata": {},
   "outputs": [
    {
     "data": {
      "application/vnd.jupyter.widget-view+json": {
       "model_id": "aa871b6287964d57bae3bb3385d897e5",
       "version_major": 2,
       "version_minor": 0
      },
      "text/html": [
       "<p>Failed to display Jupyter Widget of type <code>interactive</code>.</p>\n",
       "<p>\n",
       "  If you're reading this message in the Jupyter Notebook or JupyterLab Notebook, it may mean\n",
       "  that the widgets JavaScript is still loading. If this message persists, it\n",
       "  likely means that the widgets JavaScript library is either not installed or\n",
       "  not enabled. See the <a href=\"https://ipywidgets.readthedocs.io/en/stable/user_install.html\">Jupyter\n",
       "  Widgets Documentation</a> for setup instructions.\n",
       "</p>\n",
       "<p>\n",
       "  If you're reading this message in another frontend (for example, a static\n",
       "  rendering on GitHub or <a href=\"https://nbviewer.jupyter.org/\">NBViewer</a>),\n",
       "  it may mean that your frontend doesn't currently support widgets.\n",
       "</p>\n"
      ],
      "text/plain": [
       "interactive(children=(IntSlider(value=50, description='i', min=1), Checkbox(value=False, description='j'), Dropdown(description='k', options=('*', '%', '#'), value='*'), Output()), _dom_classes=('widget-interact',))"
      ]
     },
     "metadata": {},
     "output_type": "display_data"
    }
   ],
   "source": [
    "# @interact(i=(1,100), j=False, k=['*', '%', '#'])\n",
    "# def foo(i, j, k):\n",
    "#     return k+('a' if j else 'b')*i+k"
   ]
  },
  {
   "cell_type": "code",
   "execution_count": null,
   "metadata": {},
   "outputs": [],
   "source": []
  },
  {
   "cell_type": "code",
   "execution_count": null,
   "metadata": {},
   "outputs": [],
   "source": []
  },
  {
   "cell_type": "code",
   "execution_count": null,
   "metadata": {},
   "outputs": [],
   "source": [
    "# https://www.youtube.com/watch?v=XUNaGFa9xCM"
   ]
  },
  {
   "cell_type": "code",
   "execution_count": 149,
   "metadata": {},
   "outputs": [
    {
     "data": {
      "text/html": [
       "        <script type=\"text/javascript\">\n",
       "        window.PlotlyConfig = {MathJaxConfig: 'local'};\n",
       "        if (window.MathJax) {MathJax.Hub.Config({SVG: {font: \"STIX-Web\"}});}\n",
       "        if (typeof require !== 'undefined') {\n",
       "        require.undef(\"plotly\");\n",
       "        requirejs.config({\n",
       "            paths: {\n",
       "                'plotly': ['https://cdn.plot.ly/plotly-latest.min']\n",
       "            }\n",
       "        });\n",
       "        require(['plotly'], function(Plotly) {\n",
       "            window._Plotly = Plotly;\n",
       "        });\n",
       "        }\n",
       "        </script>\n",
       "        "
      ]
     },
     "metadata": {},
     "output_type": "display_data"
    }
   ],
   "source": [
    "# import plotly as py\n",
    "# import plotly.graph_objs as go\n",
    "# from scipy import special\n",
    "# import ipywidgets as widgets\n",
    "\n",
    "# # offline mode. for an online, I need to login\n",
    "# py.offline.init_notebook_mode(connected=True)"
   ]
  },
  {
   "cell_type": "code",
   "execution_count": 736,
   "metadata": {},
   "outputs": [
    {
     "data": {
      "application/vnd.jupyter.widget-view+json": {
       "model_id": "6aa57901bfca4e20a3b15ba29c3139d2",
       "version_major": 2,
       "version_minor": 0
      },
      "text/html": [
       "<p>Failed to display Jupyter Widget of type <code>interactive</code>.</p>\n",
       "<p>\n",
       "  If you're reading this message in the Jupyter Notebook or JupyterLab Notebook, it may mean\n",
       "  that the widgets JavaScript is still loading. If this message persists, it\n",
       "  likely means that the widgets JavaScript library is either not installed or\n",
       "  not enabled. See the <a href=\"https://ipywidgets.readthedocs.io/en/stable/user_install.html\">Jupyter\n",
       "  Widgets Documentation</a> for setup instructions.\n",
       "</p>\n",
       "<p>\n",
       "  If you're reading this message in another frontend (for example, a static\n",
       "  rendering on GitHub or <a href=\"https://nbviewer.jupyter.org/\">NBViewer</a>),\n",
       "  it may mean that your frontend doesn't currently support widgets.\n",
       "</p>\n"
      ],
      "text/plain": [
       "interactive(children=(SelectMultiple(description='Bessel Order', index=(0,), options=(0, 1, 2, 3, 4, 5), value=(0,)), FloatSlider(value=1.0, description='Freq', max=20.0, min=1.0), Output()), _dom_classes=('widget-interact',))"
      ]
     },
     "metadata": {},
     "output_type": "display_data"
    }
   ],
   "source": [
    "\n",
    "# x = np.linspace(0,np.pi,1000)\n",
    "\n",
    "# layout = go.Layout(\n",
    "#     title = 'Trying this cool thing',\n",
    "#     yaxis = dict(\n",
    "#         title = 'ppb'\n",
    "#     ),\n",
    "#     xaxis = dict(\n",
    "#         title = 'time'\n",
    "#     )\n",
    "# )\n",
    "\n",
    "\n",
    "# def update_plot(signals, freq):\n",
    "    \n",
    "#     data = [] #empty list where all my traces are in\n",
    "#     for s in signals: # signals are the items in the multiselect widget\n",
    "#         trace1 = go.Scatter(\n",
    "#             x=x,\n",
    "#             y=special.jv(s,freq*x),\n",
    "#             mode = 'lines',\n",
    "#             name = 'bessel {}'.format(s),\n",
    "#             line = dict(\n",
    "#                 shape = 'spline'\n",
    "#             )\n",
    "#         )\n",
    "#         data.append(trace1)\n",
    "        \n",
    "#     fig = go.Figure(data =data,layout=layout)\n",
    "#     py.offline.iplot(fig)\n",
    "    \n",
    "    \n",
    "# # do the widget\n",
    "# signals = widgets.SelectMultiple(options=list(range(6)),value = (0, ), description = 'Bessel Order')\n",
    "# freq = widgets.FloatSlider(min=1,max=20,value=1,description = 'Freq')\n",
    "# widgets.interactive(update_plot, signals = signals, freq = freq)"
   ]
  },
  {
   "cell_type": "code",
   "execution_count": null,
   "metadata": {},
   "outputs": [],
   "source": [
    "# frequency should be average time\n",
    "# signal should be pollutant type (same units)\n",
    "# should add another SelectMultiple for stations"
   ]
  },
  {
   "cell_type": "code",
   "execution_count": null,
   "metadata": {},
   "outputs": [],
   "source": [
    "\n",
    "# x = np.linspace(0,np.pi,1000)\n",
    "\n",
    "# layout = go.Layout(\n",
    "#     title = 'Trying this cool thing',\n",
    "#     yaxis = dict(\n",
    "#         title = 'ppb'\n",
    "#     ),\n",
    "#     xaxis = dict(\n",
    "#         title = 'time'\n",
    "#     )\n",
    "# )\n",
    "\n",
    "\n",
    "# def update_plot(signals, avgTime):\n",
    "    \n",
    "#     data = [] #empty list where all my traces are in\n",
    "#     for s in signals: # signals are the items in the multiselect widget\n",
    "#         trace1 = go.Scatter(\n",
    "#             x=x,\n",
    "#             y=special.jv(s,freq*x),\n",
    "#             mode = 'lines',\n",
    "#             name = 'bessel {}'.format(s),\n",
    "#             line = dict(\n",
    "#                 shape = 'spline'\n",
    "#             )\n",
    "#         )\n",
    "#         data.append(trace1)\n",
    "        \n",
    "#     fig = go.Figure(data =data,layout=layout)\n",
    "#     py.offline.iplot(fig)\n",
    "    \n",
    "    \n",
    "# # do the widget\n",
    "\n",
    "# averages = [\"5 minutes\", \"1 hour\", \"8 hours\", \"24 hours\"]\n",
    "# chkb = [widgets.Checkbox(description=a) for a in averages]\n",
    "\n",
    "# signals = widgets.SelectMultiple(options=list(range(6)),value = (0, ), description = 'Bessel Order')\n",
    "# avgTime = widgets.Checkbox(min=1,max=20,value=1,description = 'average period')\n",
    "# interact(updatePlot, **{c.description: c.value for c in chk})\n",
    "\n",
    "# widgets.interactive(update_plot, signals = signals, avgTime = freq)"
   ]
  },
  {
   "cell_type": "code",
   "execution_count": null,
   "metadata": {},
   "outputs": [],
   "source": []
  },
  {
   "cell_type": "code",
   "execution_count": null,
   "metadata": {},
   "outputs": [],
   "source": [
    "# https://www.youtube.com/watch?v=1ndo6C1KWjI"
   ]
  },
  {
   "cell_type": "code",
   "execution_count": 131,
   "metadata": {},
   "outputs": [
    {
     "name": "stdout",
     "output_type": "stream",
     "text": [
      "Populating the interactive namespace from numpy and matplotlib\n"
     ]
    },
    {
     "ename": "ModuleNotFoundError",
     "evalue": "No module named 'widgets'",
     "output_type": "error",
     "traceback": [
      "\u001b[0;31m---------------------------------------------------------------------------\u001b[0m",
      "\u001b[0;31mModuleNotFoundError\u001b[0m                       Traceback (most recent call last)",
      "\u001b[0;32m<ipython-input-131-8dac52aef735>\u001b[0m in \u001b[0;36m<module>\u001b[0;34m()\u001b[0m\n\u001b[1;32m      1\u001b[0m \u001b[0mget_ipython\u001b[0m\u001b[0;34m(\u001b[0m\u001b[0;34m)\u001b[0m\u001b[0;34m.\u001b[0m\u001b[0mrun_line_magic\u001b[0m\u001b[0;34m(\u001b[0m\u001b[0;34m'pylab'\u001b[0m\u001b[0;34m,\u001b[0m \u001b[0;34m'inline'\u001b[0m\u001b[0;34m)\u001b[0m\u001b[0;34m\u001b[0m\u001b[0m\n\u001b[0;32m----> 2\u001b[0;31m \u001b[0;32mfrom\u001b[0m \u001b[0mIPython\u001b[0m\u001b[0;34m.\u001b[0m\u001b[0mhtml\u001b[0m\u001b[0;34m.\u001b[0m\u001b[0mwidgets\u001b[0m \u001b[0;32mimport\u001b[0m \u001b[0minteract\u001b[0m\u001b[0;34m,\u001b[0m \u001b[0mSelectWidget\u001b[0m\u001b[0;34m,\u001b[0m \u001b[0mCheckboxWidget\u001b[0m\u001b[0;34m,\u001b[0m \u001b[0mRadioButtonsWidget\u001b[0m\u001b[0;34m\u001b[0m\u001b[0m\n\u001b[0m\u001b[1;32m      3\u001b[0m \u001b[0;32mfrom\u001b[0m \u001b[0mIPython\u001b[0m\u001b[0;34m.\u001b[0m\u001b[0mdisplay\u001b[0m \u001b[0;32mimport\u001b[0m \u001b[0mdisplay\u001b[0m\u001b[0;34m\u001b[0m\u001b[0m\n",
      "\u001b[0;31mModuleNotFoundError\u001b[0m: No module named 'widgets'"
     ]
    }
   ],
   "source": [
    "# %pylab inline\n",
    "# from IPython.html.widgets import interact, SelectWidget, CheckboxWidget, RadioButtonsWidget\n",
    "# from IPython.display import display\n",
    "\n",
    "# from ipywidgets import interact, interactive, fixed, interact_manual\n",
    "# import ipywidgets as widgets"
   ]
  },
  {
   "cell_type": "code",
   "execution_count": 180,
   "metadata": {},
   "outputs": [],
   "source": [
    "# d = { 'Class'   : Series( ['a',  'b', 'b','a','a',  'b', 'b','a','a',  'b', 'b','a','a','b','b','b']),\n",
    "#   'Area'   : Series( ['North','East', 'South', 'West','North','East', 'South', 'West','North','East', 'South', 'West','South', 'West','South', 'West']),\n",
    "#   'Type' : Series( ['square', 'round','square', 'round', 'round', 'square', 'round', 'square', 'round', 'square','round', 'square',]),\n",
    "#   'Web'  : Series( ['Y','N','N','Y','Y','N','N','Y','Y','N','N','Y','Y','N','N','Y']),\n",
    "#   'Agent'   : Series( ['Mike',  'John', 'Pete','Mike',  'John', 'Pete','Mike',  'John', 'Pete','Mike',  'John', 'Pete','John', 'Pete','John', 'Pete']),\n",
    "#   'Income'   : Series( [20., 40., 90., 20.]),\n",
    "#   'Profit' : Series( [1., 2., 3., 4.,1., 2., 3., 4.,1., 2., 3., 4.,1., 2., 3., 4.]),\n",
    "#   'Stock' : Series( [20., 23., 33., 43.,12., 21., 310., 41.,11., 21., 31., 41.,11., 22., 34., 54.] )\n",
    "#  }\n",
    "# df = DataFrame(d)"
   ]
  },
  {
   "cell_type": "code",
   "execution_count": 181,
   "metadata": {},
   "outputs": [
    {
     "data": {
      "text/html": [
       "<div>\n",
       "<style scoped>\n",
       "    .dataframe tbody tr th:only-of-type {\n",
       "        vertical-align: middle;\n",
       "    }\n",
       "\n",
       "    .dataframe tbody tr th {\n",
       "        vertical-align: top;\n",
       "    }\n",
       "\n",
       "    .dataframe thead th {\n",
       "        text-align: right;\n",
       "    }\n",
       "</style>\n",
       "<table border=\"1\" class=\"dataframe\">\n",
       "  <thead>\n",
       "    <tr style=\"text-align: right;\">\n",
       "      <th></th>\n",
       "      <th>Class</th>\n",
       "      <th>Area</th>\n",
       "      <th>Type</th>\n",
       "      <th>Web</th>\n",
       "      <th>Agent</th>\n",
       "      <th>Income</th>\n",
       "      <th>Profit</th>\n",
       "      <th>Stock</th>\n",
       "    </tr>\n",
       "  </thead>\n",
       "  <tbody>\n",
       "    <tr>\n",
       "      <th>0</th>\n",
       "      <td>a</td>\n",
       "      <td>North</td>\n",
       "      <td>square</td>\n",
       "      <td>Y</td>\n",
       "      <td>Mike</td>\n",
       "      <td>20.0</td>\n",
       "      <td>1.0</td>\n",
       "      <td>20.0</td>\n",
       "    </tr>\n",
       "    <tr>\n",
       "      <th>1</th>\n",
       "      <td>b</td>\n",
       "      <td>East</td>\n",
       "      <td>round</td>\n",
       "      <td>N</td>\n",
       "      <td>John</td>\n",
       "      <td>40.0</td>\n",
       "      <td>2.0</td>\n",
       "      <td>23.0</td>\n",
       "    </tr>\n",
       "    <tr>\n",
       "      <th>2</th>\n",
       "      <td>b</td>\n",
       "      <td>South</td>\n",
       "      <td>square</td>\n",
       "      <td>N</td>\n",
       "      <td>Pete</td>\n",
       "      <td>90.0</td>\n",
       "      <td>3.0</td>\n",
       "      <td>33.0</td>\n",
       "    </tr>\n",
       "    <tr>\n",
       "      <th>3</th>\n",
       "      <td>a</td>\n",
       "      <td>West</td>\n",
       "      <td>round</td>\n",
       "      <td>Y</td>\n",
       "      <td>Mike</td>\n",
       "      <td>20.0</td>\n",
       "      <td>4.0</td>\n",
       "      <td>43.0</td>\n",
       "    </tr>\n",
       "    <tr>\n",
       "      <th>4</th>\n",
       "      <td>a</td>\n",
       "      <td>North</td>\n",
       "      <td>round</td>\n",
       "      <td>Y</td>\n",
       "      <td>John</td>\n",
       "      <td>NaN</td>\n",
       "      <td>1.0</td>\n",
       "      <td>12.0</td>\n",
       "    </tr>\n",
       "  </tbody>\n",
       "</table>\n",
       "</div>"
      ],
      "text/plain": [
       "  Class   Area    Type Web Agent  Income  Profit  Stock\n",
       "0     a  North  square   Y  Mike    20.0     1.0   20.0\n",
       "1     b   East   round   N  John    40.0     2.0   23.0\n",
       "2     b  South  square   N  Pete    90.0     3.0   33.0\n",
       "3     a   West   round   Y  Mike    20.0     4.0   43.0\n",
       "4     a  North   round   Y  John     NaN     1.0   12.0"
      ]
     },
     "execution_count": 181,
     "metadata": {},
     "output_type": "execute_result"
    }
   ],
   "source": [
    "# df.head()"
   ]
  },
  {
   "cell_type": "code",
   "execution_count": null,
   "metadata": {},
   "outputs": [],
   "source": []
  },
  {
   "cell_type": "code",
   "execution_count": 183,
   "metadata": {},
   "outputs": [
    {
     "data": {
      "application/vnd.jupyter.widget-view+json": {
       "model_id": "727ba5b251da4c8d99758044c1760f8a",
       "version_major": 2,
       "version_minor": 0
      },
      "text/html": [
       "<p>Failed to display Jupyter Widget of type <code>interactive</code>.</p>\n",
       "<p>\n",
       "  If you're reading this message in the Jupyter Notebook or JupyterLab Notebook, it may mean\n",
       "  that the widgets JavaScript is still loading. If this message persists, it\n",
       "  likely means that the widgets JavaScript library is either not installed or\n",
       "  not enabled. See the <a href=\"https://ipywidgets.readthedocs.io/en/stable/user_install.html\">Jupyter\n",
       "  Widgets Documentation</a> for setup instructions.\n",
       "</p>\n",
       "<p>\n",
       "  If you're reading this message in another frontend (for example, a static\n",
       "  rendering on GitHub or <a href=\"https://nbviewer.jupyter.org/\">NBViewer</a>),\n",
       "  it may mean that your frontend doesn't currently support widgets.\n",
       "</p>\n"
      ],
      "text/plain": [
       "interactive(children=(SelectMultiple(description='cols', options=('Income', 'Profit', 'Stock'), value=()), Output()), _dom_classes=('widget-interact',))"
      ]
     },
     "metadata": {},
     "output_type": "display_data"
    }
   ],
   "source": [
    "\n",
    "    \n",
    "# def update_plot(cols):\n",
    "    \n",
    "#     data = [] #empty list where all my traces are in\n",
    "#     for c in cols: # signals are the items in the multiselect widget\n",
    "#         trace1 = go.Scatter(\n",
    "#             x=df.Stock,\n",
    "#             y=df[c],\n",
    "#             mode = 'markers',#lines/markers\n",
    "#             name = 'col name {}'.format(c),\n",
    "#         )\n",
    "#         data.append(trace1)\n",
    "        \n",
    "#     fig = go.Figure(data=data,layout=layout)\n",
    "#     py.offline.iplot(fig)\n",
    "\n",
    "# i = widgets.interact(update_plot,\n",
    "#              cols    = widgets.SelectMultiple(options=list(df.columns[5:8])))\n",
    "# #              avgTime = widgets.SelectMultiple(options={ '5 minutes' : np.sum, 'ave' : np.average }))"
   ]
  },
  {
   "cell_type": "code",
   "execution_count": null,
   "metadata": {},
   "outputs": [],
   "source": [
    "# Trash\n",
    "\n",
    "# # fill the dataframe\n",
    "# for j,c in enumerate(cols): #number of columns(j)\n",
    "#     for i,p in enumerate(pollutants): #number of values(i)\n",
    "#         data_df.iloc[i,j] = p[c]"
   ]
  },
  {
   "cell_type": "code",
   "execution_count": null,
   "metadata": {},
   "outputs": [],
   "source": []
  },
  {
   "cell_type": "code",
   "execution_count": 945,
   "metadata": {},
   "outputs": [],
   "source": [
    "# dates[0]\n",
    "# pd.to_datetime(dates[0]).tz_localize('UTC').tz_convert('Israel')"
   ]
  },
  {
   "cell_type": "code",
   "execution_count": 946,
   "metadata": {},
   "outputs": [],
   "source": [
    "# pollutants[0]"
   ]
  },
  {
   "cell_type": "code",
   "execution_count": 947,
   "metadata": {},
   "outputs": [],
   "source": [
    "# np.shape(pollutants)\n",
    "# np.shape(dates)"
   ]
  },
  {
   "cell_type": "code",
   "execution_count": null,
   "metadata": {},
   "outputs": [],
   "source": []
  },
  {
   "cell_type": "code",
   "execution_count": null,
   "metadata": {},
   "outputs": [],
   "source": []
  },
  {
   "cell_type": "code",
   "execution_count": null,
   "metadata": {},
   "outputs": [],
   "source": []
  },
  {
   "cell_type": "code",
   "execution_count": 758,
   "metadata": {},
   "outputs": [],
   "source": [
    "# # p_names = []\n",
    "# # vals = []\n",
    "# for j,c in enumerate(cols): #number of columns(j)\n",
    "#     for i,p in enumerate(pollutants): #number of values(i)\n",
    "#         data_df.iloc[i,j] = p[c]\n",
    "# #         p_names.append(c)\n",
    "# #         vals.append(p[c]) "
   ]
  },
  {
   "cell_type": "code",
   "execution_count": 759,
   "metadata": {},
   "outputs": [],
   "source": []
  },
  {
   "cell_type": "code",
   "execution_count": 948,
   "metadata": {},
   "outputs": [],
   "source": [
    "# np.shape(total_list)"
   ]
  },
  {
   "cell_type": "code",
   "execution_count": null,
   "metadata": {},
   "outputs": [],
   "source": [
    "# colors\n",
    "# https://www.rapidtables.com/web/color/RGB_Color.html\n",
    "# https://sashat.me/2017/01/11/list-of-20-simple-distinct-colors/"
   ]
  },
  {
   "cell_type": "code",
   "execution_count": 195,
   "metadata": {},
   "outputs": [
    {
     "data": {
      "text/plain": [
       "['.localized', 'Shared', 'iditbela', 'Guest']"
      ]
     },
     "execution_count": 195,
     "metadata": {},
     "output_type": "execute_result"
    }
   ],
   "source": [
    "import os\n",
    "os.listdir('/Users')"
   ]
  },
  {
   "cell_type": "code",
   "execution_count": null,
   "metadata": {},
   "outputs": [],
   "source": []
  },
  {
   "cell_type": "code",
   "execution_count": null,
   "metadata": {},
   "outputs": [],
   "source": []
  },
  {
   "cell_type": "code",
   "execution_count": null,
   "metadata": {},
   "outputs": [],
   "source": [
    "# backup\n",
    "\n",
    "layout = go.Layout(\n",
    "    title={\n",
    "        'text': \"Choose a station, pollutants and average time\",\n",
    "        'y':0.9,\n",
    "        'x':0.5,\n",
    "        'xanchor': 'right',\n",
    "        'yanchor': 'top'},\n",
    "    yaxis = dict(\n",
    "        title = '$\\mu g/m^3 or ppb$ '\n",
    "    ),\n",
    "    xaxis = dict(\n",
    "        title = 'Date'\n",
    "    ),\n",
    "    plot_bgcolor='rgb(255,255,250)'\n",
    "#     paper_bgcolor = 'rgba(0,0,0,0)',\n",
    "#     plot_bgcolor = 'rgba(0,0,0,0)'\n",
    ")\n",
    "\n",
    "def update_plot(stations,Pollutant,avg,time,yaxis):    \n",
    "    data = [] #empty list where all my traces are in\n",
    "    fig = go.Figure(layout=layout)\n",
    "    \n",
    "    for p in Pollutant: # signals are the items in the multiselect widget\n",
    "        chosen_data = data_df.loc[stations].iloc[-time*12*24:]\n",
    "        # updaing averages\n",
    "        fig.add_trace(go.Scatter(\n",
    "            x=chosen_data.index,\n",
    "            y=chosen_data[p].rolling(window=rolling_windows[avg],min_periods=1,center=True).mean(),\n",
    "            mode = 'lines',#lines/markers\n",
    "            name = '{}\\n{} average'.format(p,avg),\n",
    "            line = dict(width=2,color=color_lines[p]),\n",
    "            showlegend = True\n",
    "        ))   \n",
    "        # constant 5 minutes         \n",
    "        fig.add_trace(go.Scatter(\n",
    "            x=chosen_data.index,\n",
    "            y=chosen_data[p],\n",
    "            mode = 'lines',#lines/markers\n",
    "            name = '{}\\n{} average'.format(p,'5 minutes'),\n",
    "            opacity=.3,\n",
    "            line = dict(width=6,color=color_lines[p]),\n",
    "            showlegend = True\n",
    "        ))\n",
    "        # wind direction and magnitude\n",
    "        \n",
    "#         fig.add_trace(ff.create_quiver(X, Y, U, V,\n",
    "#             scale=1.5,\n",
    "# #             axis = 'equal'\n",
    "#             arrow_scale=.4,\n",
    "#             name='quiver',\n",
    "#             line=dict(width=1) \n",
    "#         ))\n",
    "        \n",
    "        # standards and limits\n",
    "        if not np.isnan(standards[(p, avg)][0]):\n",
    "            fig.add_trace(go.Scatter(\n",
    "                x=chosen_data.index,\n",
    "                y=np.ones((len(chosen_data.index),))*standards[(p, avg)][0],\n",
    "                mode = 'lines',#lines/markers\n",
    "                name = '{} [Limit value],*{} exceedences allowed per year'.format(standards[(p, avg)][0],standards[(p, avg)][1]),\n",
    "                line = dict(width=2,color=color_lines[p],dash='dash'),\n",
    "                showlegend = True\n",
    "            ))\n",
    "            \n",
    "        fig.update_layout(\n",
    "        yaxis = go.layout.YAxis(\n",
    "            title = '$\\mu g/m^3 or ppb$ ',\n",
    "            range = [0,yaxis]\n",
    "            ))\n",
    "        \n",
    "#     container = widgets.HBox(children=[stations, Pollutant, avg])\n",
    "#     widgets.VBox([container,\n",
    "#               fig])\n",
    "#     py.offline.iplot(fig) # when using notebook\n",
    "#     py.plot(fig) # when using chart_studio\n",
    "\n",
    "    app = dash.Dash()\n",
    "    app.layout = html.Div([\n",
    "        dcc.Graph(figure=fig)\n",
    "    ])\n",
    "    app.run_server(debug=True, use_reloader=False)  # Turn off reloader if inside Jupyter\n",
    "\n",
    "i = widgets.interact(update_plot,\n",
    "             stations = widgets.RadioButtons(options=monitoring_stations,description='Station'),      \n",
    "             Pollutant = widgets.SelectMultiple(options=list(data_df.columns),value=('Benzen [ppb]','No2 [ppb]')),\n",
    "             avg = widgets.RadioButtons(options=rolling_windows.keys(),value=('1 hour'),description='Average time'),\n",
    "             time = widgets.IntSlider(value=1,min=1,max=60,step=1,description='last days',continuous_update=False),\n",
    "             yaxis = widgets.IntSlider(value=25,min=0,max=2000,step=25,description='Y-axis range',continuous_update=False)\n",
    "             )\n",
    "\n",
    "# organize the boxes (how?)\n",
    "# fix calibration times\n",
    "# avoid threshold determination of y range?\n",
    "# maybe do checkbox for showing 5 minutes yes/no"
   ]
  },
  {
   "cell_type": "code",
   "execution_count": null,
   "metadata": {},
   "outputs": [],
   "source": []
  },
  {
   "cell_type": "code",
   "execution_count": null,
   "metadata": {},
   "outputs": [],
   "source": []
  }
 ],
 "metadata": {
  "kernelspec": {
   "display_name": "Python 3",
   "language": "python",
   "name": "python3"
  },
  "language_info": {
   "codemirror_mode": {
    "name": "ipython",
    "version": 3
   },
   "file_extension": ".py",
   "mimetype": "text/x-python",
   "name": "python",
   "nbconvert_exporter": "python",
   "pygments_lexer": "ipython3",
   "version": "3.6.4"
  }
 },
 "nbformat": 4,
 "nbformat_minor": 2
}
