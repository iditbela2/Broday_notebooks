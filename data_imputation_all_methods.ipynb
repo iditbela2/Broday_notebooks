{
 "cells": [
  {
   "cell_type": "code",
   "execution_count": null,
   "metadata": {},
   "outputs": [],
   "source": []
  },
  {
   "cell_type": "code",
   "execution_count": 554,
   "metadata": {},
   "outputs": [],
   "source": [
    "from scipy.io import loadmat\n",
    "import numpy as np\n",
    "import pandas as pd\n",
    "import matplotlib.pyplot as plt\n",
    "import plotly as py\n",
    "import plotly.graph_objs as go\n",
    "import ipywidgets as widgets\n",
    "from tqdm.auto import tqdm \n",
    "\n",
    "\n",
    "import seaborn as sns\n",
    "\n",
    "from sklearn.experimental import enable_iterative_imputer\n",
    "from sklearn.impute import SimpleImputer\n",
    "from sklearn.impute import IterativeImputer\n",
    "from sklearn.ensemble import ExtraTreesRegressor\n",
    "from sklearn.impute import MissingIndicator\n",
    "from sklearn.preprocessing import PowerTransformer\n",
    "from sklearn.linear_model import BayesianRidge\n",
    "from sklearn.tree import DecisionTreeRegressor\n",
    "from sklearn.ensemble import ExtraTreesRegressor\n",
    "from sklearn.ensemble import RandomForestRegressor \n",
    "from sklearn.neighbors import KNeighborsRegressor\n",
    "from sklearn.model_selection import cross_val_score\n",
    "from sklearn.model_selection import KFold\n",
    "\n",
    "from sklearn.metrics import mean_squared_error\n",
    "from sklearn.metrics import median_absolute_error\n",
    "from sklearn.metrics import mean_absolute_error\n",
    "from sklearn.metrics import r2_score\n",
    "\n",
    "from scipy.spatial import distance\n",
    "from sklearn.metrics.pairwise import nan_euclidean_distances\n",
    "\n",
    "from matplotlib.lines import Line2D\n",
    "from matplotlib import rcParams, cycler\n",
    "from sklearn.preprocessing import PowerTransformer\n",
    "\n",
    "from IPython.core.interactiveshell import InteractiveShell\n",
    "InteractiveShell.ast_node_interactivity = \"all\"\n",
    "%config InlineBackend.figure_format = 'retina'"
   ]
  },
  {
   "cell_type": "code",
   "execution_count": 555,
   "metadata": {},
   "outputs": [],
   "source": [
    "import warnings\n",
    "warnings.filterwarnings(\"ignore\")"
   ]
  },
  {
   "cell_type": "code",
   "execution_count": 556,
   "metadata": {},
   "outputs": [],
   "source": [
    "def initialize(threshold, start_time):\n",
    "    PM25 = pd.read_pickle(\"/Users/iditbela/Documents/Broday/saved_data_from_notebooks/PM25\")\n",
    "\n",
    "    times = pd.date_range(start=start_time, end='2018-12-31 23:00:00', freq='30Min') #one less because the last is always nan\n",
    "\n",
    "    start_idx = PM25.shape[0]-times.shape[0]\n",
    "\n",
    "    # remove the last index as it is always nan\n",
    "    PM25 = PM25[:-1]\n",
    "    times = times[:-1]\n",
    "\n",
    "    # reduced PM25 \n",
    "    r_PM25 = PM25[start_idx:] \n",
    "    idx = r_PM25.notnull().sum(axis = 0)/r_PM25.shape[0]>threshold\n",
    "    r_PM25 = r_PM25.loc[:, idx]\n",
    "\n",
    "    r_PM25.reset_index(inplace=True)\n",
    "    r_PM25.drop(labels = 'index',axis=1, inplace=True)\n",
    "    \n",
    "    return times, r_PM25\n"
   ]
  },
  {
   "cell_type": "code",
   "execution_count": 562,
   "metadata": {},
   "outputs": [],
   "source": [
    "threshold = 0.6 # how much non-missing values are in the time-series in order to include the station?\n",
    "start_time = '2013-01-01 00:00:00'\n",
    "times, r_PM25 = initialize(threshold, start_time)"
   ]
  },
  {
   "cell_type": "code",
   "execution_count": 566,
   "metadata": {
    "scrolled": true
   },
   "outputs": [],
   "source": [
    "# # for R - check for MCAR/MAR... \n",
    "# imp = IterativeImputer(max_iter=1,estimator=ExtraTreesRegressor(n_estimators=10,random_state=0),verbose=True) \n",
    "# imp.fit(r_PM25) # fit based on the data\n",
    "\n",
    "# imputed_df = imp.transform(r_PM25) # impute it\n",
    "# imputed_df = pd.DataFrame(imputed_df, columns=r_PM25.columns) #turn it from IterativeImputer object to a dataframe\n",
    "\n",
    "# # r_PM25.to_csv('/Users/iditbela/Documents/Broday/saved_data_from_notebooks/r_PM25_forR.csv', sep=' ', index=False, header=False, na_rep='NA')\n",
    "# # imputed_df.to_csv('/Users/iditbela/Documents/Broday/saved_data_from_notebooks/imputed_df_forR.csv', sep=' ', index=False, header=False, na_rep='NA')\n"
   ]
  },
  {
   "cell_type": "code",
   "execution_count": null,
   "metadata": {},
   "outputs": [],
   "source": []
  },
  {
   "cell_type": "code",
   "execution_count": 407,
   "metadata": {},
   "outputs": [],
   "source": [
    "# null percentages\n",
    "# r_PM25.shape[1]\n",
    "# 1-r_PM25.notnull().sum(axis = 0)/r_PM25.shape[0]\n",
    "# r_PM25.shape[0]\n",
    "# r_PM25.shape[1]\n",
    "# r_PM25.shape[1]*r_PM25.shape[0]"
   ]
  },
  {
   "cell_type": "code",
   "execution_count": null,
   "metadata": {},
   "outputs": [],
   "source": []
  },
  {
   "cell_type": "markdown",
   "metadata": {},
   "source": [
    "# Functions"
   ]
  },
  {
   "cell_type": "code",
   "execution_count": 534,
   "metadata": {},
   "outputs": [],
   "source": [
    "# keep the division of the CV identical to compare different algorithms. \n",
    "rnd_state_forCV = 0"
   ]
  },
  {
   "cell_type": "code",
   "execution_count": 535,
   "metadata": {},
   "outputs": [],
   "source": [
    "# out of all non-nan indexes, perform 10-fold cross validation.\n",
    "# the test is y_missing. copy r_PM25, put all null inside, and assign values from r_PM25 according to test indexes. \n",
    "# the train is X_missing. copy r_PM25, and assign nans according to test indexes. \n",
    "# the splitting currently doesn't try to preserve the original relative missing intervals\n",
    "# of each feature. maybe I will add it somehow later. \n",
    "\n",
    "def KFold_cross_validation(imp,PM25,k,withDays):\n",
    "    \n",
    "    if withDays:\n",
    "        wd = PM25['week day']\n",
    "        m = PM25['month']\n",
    "        h = PM25['hour']\n",
    "        PM25.drop(['week day','month','hour'],axis=1,inplace=True)\n",
    "        \n",
    "    kf = KFold(n_splits=k, random_state=rnd_state_forCV, shuffle=True)\n",
    "    not_nan_idx = np.argwhere(PM25.notnull().values)\n",
    "    results = []\n",
    "    \n",
    "    for i, (train_index, test_index) in enumerate(kf.split(not_nan_idx)):\n",
    "        if i==9:  \n",
    "            \n",
    "            np_PM25 = PM25.values\n",
    "            \n",
    "            \n",
    "#             if normalize:\n",
    "#             # change X_missing to normal_data\n",
    "#                 pt = PowerTransformer(method='box-cox')\n",
    "#                 t_data = PM25.values+1\n",
    "#                 pt.fit(t_data)\n",
    "\n",
    "#                 # by default applies seperately to each column\n",
    "#                 PM25 = pd.DataFrame(\n",
    "#                     pt.transform(t_data),\n",
    "#                     index=PM25.index,\n",
    "#                     columns=PM25.columns)\n",
    "\n",
    "                \n",
    "            \n",
    "            X_missing = PM25.copy()\n",
    "            y_missing = PM25.copy()                \n",
    "                \n",
    "\n",
    "            # y_missing \n",
    "            y_missing.iloc[:] = np.nan\n",
    "            np_y_missing = y_missing.values\n",
    "\n",
    "            # asssign values according to test indexes\n",
    "            rows, cols = zip(*not_nan_idx[test_index])\n",
    "            vals = np_PM25[rows, cols]\n",
    "            np_y_missing[rows, cols] = vals\n",
    "            # turn back to dataframe\n",
    "            y_missing = pd.DataFrame(np_y_missing,columns=PM25.columns)\n",
    "\n",
    "            # X_missing\n",
    "            # assign nans according to test indexes\n",
    "            np_X_missing = X_missing.values\n",
    "            np_X_missing[rows, cols] = np.nan\n",
    "\n",
    "            # turn back to dataframe\n",
    "            X_missing = pd.DataFrame(np_X_missing,columns=PM25.columns)\n",
    "\n",
    "            \n",
    "            \n",
    "            \n",
    "#             # ADDED - concat shifted dataframes +-1 time\n",
    "#             shiftM1 = X_missing.shift(periods=-1)\n",
    "#             shiftP1 = X_missing.shift(periods=1)\n",
    "#             X_missing = pd.concat([shiftM1, X_missing, shiftP1],axis = 1)\n",
    "     \n",
    "        \n",
    "            \n",
    "            if withDays:\n",
    "                X_missing['week day']=wd\n",
    "                X_missing['hour']=h\n",
    "                X_missing['month']=m\n",
    "\n",
    "            # perform fit \n",
    "            imp.fit(X_missing)\n",
    "            imputed_df = imp.transform(X_missing) # impute it\n",
    "            imputed_df = pd.DataFrame(imputed_df, columns=X_missing.columns) #turn it from IterativeImputer object to a dataframe\n",
    "            \n",
    "            if withDays:\n",
    "                imputed_df.drop(['week day','hour','month'],axis = 1, inplace=True)\n",
    "\n",
    "            \n",
    "            \n",
    "            \n",
    "#             # ADDED - \n",
    "#             imputed_df = pd.DataFrame(imputed_df.iloc[:,34:68].values, columns=PM25.columns)\n",
    "\n",
    "\n",
    "#             if normalize:\n",
    "#                 imputed_df = pd.DataFrame(\n",
    "#                 pt.inverse_transform(imputed_df.values)-1,\n",
    "#                 index=imputed_df.index,\n",
    "#                 columns=imputed_df.columns)\n",
    "            \n",
    "            \n",
    "            # evaluate\n",
    "            y_train = vals\n",
    "            np_imputed_df = imputed_df.values\n",
    "            y_pred = np_imputed_df[rows, cols]\n",
    "\n",
    "            # assign results\n",
    "            RMSE = np.sqrt(mean_squared_error(y_train, y_pred))\n",
    "            MedianAE = median_absolute_error(y_train, y_pred)\n",
    "            MeanAE = mean_absolute_error(y_train,y_pred)\n",
    "            R2 = r2_score(y_train,y_pred)\n",
    "            results.append([RMSE,MedianAE,MeanAE,R2])\n",
    "  \n",
    "# mark this if only run 1 cv:\n",
    "#     results = pd.DataFrame(results, columns=['RMSE','MedianAE','MeanAE','R2'])\n",
    "    print(results)\n",
    "    return imputed_df\n",
    "        \n",
    "        "
   ]
  },
  {
   "cell_type": "code",
   "execution_count": null,
   "metadata": {},
   "outputs": [],
   "source": []
  },
  {
   "cell_type": "markdown",
   "metadata": {},
   "source": [
    "# (1) IterativeImputer with BayesianRidge and ExtraTreesRegressor"
   ]
  },
  {
   "cell_type": "code",
   "execution_count": 515,
   "metadata": {},
   "outputs": [],
   "source": [
    "# not sure about the random_state! plus I've read that no need for CV in random forest.\n",
    "# I think I ran it with max_iter=5 before, but not sure. 10 trees. \n",
    "rnd_state_forRF = 0 # I believe I should play with this parameter as well. \n",
    "# imp_RF = IterativeImputer(max_iter=3,estimator=ExtraTreesRegressor(n_estimators=10,random_state=rnd_state_forRF, n_jobs=-1),verbose=True) \n",
    "# imp_BR = IterativeImputer(max_iter=10,estimator=BayesianRidge(),verbose=True) \n",
    "# try also to change the initial imputer - mean/median/constant...\n",
    "# and n_estimators (number of trees in the forest...)"
   ]
  },
  {
   "cell_type": "code",
   "execution_count": null,
   "metadata": {},
   "outputs": [],
   "source": []
  },
  {
   "cell_type": "markdown",
   "metadata": {},
   "source": [
    "## A - without days "
   ]
  },
  {
   "cell_type": "markdown",
   "metadata": {},
   "source": [
    "### dbda"
   ]
  },
  {
   "cell_type": "code",
   "execution_count": 371,
   "metadata": {},
   "outputs": [
    {
     "name": "stdout",
     "output_type": "stream",
     "text": [
      "[IterativeImputer] Completing matrix with shape (105166, 102)\n",
      "[IterativeImputer] Change: 15630.748167246573, scaled tolerance: 1.6975 \n",
      "[IterativeImputer] Change: 2739.7199999999993, scaled tolerance: 1.6975 \n",
      "[IterativeImputer] Change: 1502.92, scaled tolerance: 1.6975 \n",
      "[IterativeImputer] Completing matrix with shape (105166, 102)\n",
      "[IterativeImputer] Completing matrix with shape (105166, 102)\n",
      "[IterativeImputer] Change: 15488.195350804976, scaled tolerance: 1.6975 \n",
      "[IterativeImputer] Change: 2663.2199999999993, scaled tolerance: 1.6975 \n",
      "[IterativeImputer] Change: 1924.2300000000005, scaled tolerance: 1.6975 \n",
      "[IterativeImputer] Completing matrix with shape (105166, 102)\n",
      "[IterativeImputer] Completing matrix with shape (105166, 102)\n",
      "[IterativeImputer] Change: 13598.415126391215, scaled tolerance: 1.6975 \n",
      "[IterativeImputer] Change: 1990.3499999999995, scaled tolerance: 1.6975 \n",
      "[IterativeImputer] Change: 1413.06, scaled tolerance: 1.6975 \n",
      "[IterativeImputer] Completing matrix with shape (105166, 102)\n",
      "[IterativeImputer] Completing matrix with shape (105166, 102)\n",
      "[IterativeImputer] Change: 15628.560340539954, scaled tolerance: 1.6975 \n",
      "[IterativeImputer] Change: 2085.0599999999995, scaled tolerance: 1.6975 \n",
      "[IterativeImputer] Change: 1168.4799999999998, scaled tolerance: 1.6975 \n",
      "[IterativeImputer] Completing matrix with shape (105166, 102)\n",
      "[IterativeImputer] Completing matrix with shape (105166, 102)\n",
      "[IterativeImputer] Change: 14603.556403048648, scaled tolerance: 1.5118 \n",
      "[IterativeImputer] Change: 2009.23, scaled tolerance: 1.5118 \n",
      "[IterativeImputer] Change: 1416.5199999999993, scaled tolerance: 1.5118 \n",
      "[IterativeImputer] Completing matrix with shape (105166, 102)\n",
      "[IterativeImputer] Completing matrix with shape (105166, 102)\n",
      "[IterativeImputer] Change: 15071.211324477481, scaled tolerance: 1.6975 \n",
      "[IterativeImputer] Change: 2087.1499999999996, scaled tolerance: 1.6975 \n",
      "[IterativeImputer] Change: 1967.2599999999998, scaled tolerance: 1.6975 \n",
      "[IterativeImputer] Completing matrix with shape (105166, 102)\n",
      "[IterativeImputer] Completing matrix with shape (105166, 102)\n",
      "[IterativeImputer] Change: 12595.887632297758, scaled tolerance: 1.6975 \n",
      "[IterativeImputer] Change: 2120.88, scaled tolerance: 1.6975 \n",
      "[IterativeImputer] Change: 1586.2299999999996, scaled tolerance: 1.6975 \n",
      "[IterativeImputer] Completing matrix with shape (105166, 102)\n",
      "[IterativeImputer] Completing matrix with shape (105166, 102)\n",
      "[IterativeImputer] Change: 15009.38291713541, scaled tolerance: 1.6975 \n",
      "[IterativeImputer] Change: 2561.09, scaled tolerance: 1.6975 \n",
      "[IterativeImputer] Change: 1631.3899999999994, scaled tolerance: 1.6975 \n",
      "[IterativeImputer] Completing matrix with shape (105166, 102)\n",
      "[IterativeImputer] Completing matrix with shape (105166, 102)\n",
      "[IterativeImputer] Change: 13912.258171695854, scaled tolerance: 1.6975 \n",
      "[IterativeImputer] Change: 1814.4400000000003, scaled tolerance: 1.6975 \n",
      "[IterativeImputer] Change: 1412.4199999999992, scaled tolerance: 1.6975 \n",
      "[IterativeImputer] Completing matrix with shape (105166, 102)\n",
      "[IterativeImputer] Completing matrix with shape (105166, 102)\n",
      "[IterativeImputer] Change: 15047.528639680018, scaled tolerance: 1.6975 \n",
      "[IterativeImputer] Change: 2494.1800000000003, scaled tolerance: 1.6975 \n",
      "[IterativeImputer] Change: 1462.3999999999999, scaled tolerance: 1.6975 \n",
      "[IterativeImputer] Completing matrix with shape (105166, 102)\n"
     ]
    }
   ],
   "source": [
    "results_woD_RF_dbda = KFold_cross_validation(imp_RF,r_PM25,k=10,withDays=False)"
   ]
  },
  {
   "cell_type": "code",
   "execution_count": 372,
   "metadata": {},
   "outputs": [
    {
     "data": {
      "text/html": [
       "<div>\n",
       "<style scoped>\n",
       "    .dataframe tbody tr th:only-of-type {\n",
       "        vertical-align: middle;\n",
       "    }\n",
       "\n",
       "    .dataframe tbody tr th {\n",
       "        vertical-align: top;\n",
       "    }\n",
       "\n",
       "    .dataframe thead th {\n",
       "        text-align: right;\n",
       "    }\n",
       "</style>\n",
       "<table border=\"1\" class=\"dataframe\">\n",
       "  <thead>\n",
       "    <tr style=\"text-align: right;\">\n",
       "      <th></th>\n",
       "      <th>RMSE</th>\n",
       "      <th>MedianAE</th>\n",
       "      <th>MeanAE</th>\n",
       "      <th>R2</th>\n",
       "    </tr>\n",
       "  </thead>\n",
       "  <tbody>\n",
       "    <tr>\n",
       "      <th>0</th>\n",
       "      <td>6.435183</td>\n",
       "      <td>2.61</td>\n",
       "      <td>3.885057</td>\n",
       "      <td>0.923385</td>\n",
       "    </tr>\n",
       "    <tr>\n",
       "      <th>1</th>\n",
       "      <td>6.427738</td>\n",
       "      <td>2.61</td>\n",
       "      <td>3.877976</td>\n",
       "      <td>0.923910</td>\n",
       "    </tr>\n",
       "    <tr>\n",
       "      <th>2</th>\n",
       "      <td>6.447033</td>\n",
       "      <td>2.62</td>\n",
       "      <td>3.900998</td>\n",
       "      <td>0.925071</td>\n",
       "    </tr>\n",
       "    <tr>\n",
       "      <th>3</th>\n",
       "      <td>6.484012</td>\n",
       "      <td>2.62</td>\n",
       "      <td>3.887248</td>\n",
       "      <td>0.924545</td>\n",
       "    </tr>\n",
       "    <tr>\n",
       "      <th>4</th>\n",
       "      <td>6.511999</td>\n",
       "      <td>2.62</td>\n",
       "      <td>3.896328</td>\n",
       "      <td>0.924275</td>\n",
       "    </tr>\n",
       "    <tr>\n",
       "      <th>5</th>\n",
       "      <td>6.173801</td>\n",
       "      <td>2.60</td>\n",
       "      <td>3.858634</td>\n",
       "      <td>0.925917</td>\n",
       "    </tr>\n",
       "    <tr>\n",
       "      <th>6</th>\n",
       "      <td>6.520708</td>\n",
       "      <td>2.62</td>\n",
       "      <td>3.896496</td>\n",
       "      <td>0.915368</td>\n",
       "    </tr>\n",
       "    <tr>\n",
       "      <th>7</th>\n",
       "      <td>6.344937</td>\n",
       "      <td>2.61</td>\n",
       "      <td>3.880556</td>\n",
       "      <td>0.929574</td>\n",
       "    </tr>\n",
       "    <tr>\n",
       "      <th>8</th>\n",
       "      <td>6.611189</td>\n",
       "      <td>2.60</td>\n",
       "      <td>3.879706</td>\n",
       "      <td>0.922424</td>\n",
       "    </tr>\n",
       "    <tr>\n",
       "      <th>9</th>\n",
       "      <td>6.344548</td>\n",
       "      <td>2.61</td>\n",
       "      <td>3.875174</td>\n",
       "      <td>0.925233</td>\n",
       "    </tr>\n",
       "  </tbody>\n",
       "</table>\n",
       "</div>"
      ],
      "text/plain": [
       "       RMSE  MedianAE    MeanAE        R2\n",
       "0  6.435183      2.61  3.885057  0.923385\n",
       "1  6.427738      2.61  3.877976  0.923910\n",
       "2  6.447033      2.62  3.900998  0.925071\n",
       "3  6.484012      2.62  3.887248  0.924545\n",
       "4  6.511999      2.62  3.896328  0.924275\n",
       "5  6.173801      2.60  3.858634  0.925917\n",
       "6  6.520708      2.62  3.896496  0.915368\n",
       "7  6.344937      2.61  3.880556  0.929574\n",
       "8  6.611189      2.60  3.879706  0.922424\n",
       "9  6.344548      2.61  3.875174  0.925233"
      ]
     },
     "execution_count": 372,
     "metadata": {},
     "output_type": "execute_result"
    }
   ],
   "source": [
    "results_woD_RF_dbda"
   ]
  },
  {
   "cell_type": "code",
   "execution_count": 373,
   "metadata": {},
   "outputs": [],
   "source": [
    "results_woD_RF_dbda.to_pickle(\"/Users/iditbela/Documents/Broday/saved_data_from_notebooks/results_woD_RF_dbda\")"
   ]
  },
  {
   "cell_type": "code",
   "execution_count": null,
   "metadata": {},
   "outputs": [],
   "source": []
  },
  {
   "cell_type": "code",
   "execution_count": null,
   "metadata": {},
   "outputs": [],
   "source": []
  },
  {
   "cell_type": "markdown",
   "metadata": {},
   "source": [
    "### calculating all imputed matrixes that I didn't save:"
   ]
  },
  {
   "cell_type": "code",
   "execution_count": 694,
   "metadata": {},
   "outputs": [
    {
     "name": "stdout",
     "output_type": "stream",
     "text": [
      "[IterativeImputer] Completing matrix with shape (105166, 102)\n",
      "[IterativeImputer] Change: 14749.36863968002, scaled tolerance: 1.6975 \n",
      "[IterativeImputer] Change: 2379.7000000000003, scaled tolerance: 1.6975 \n",
      "[IterativeImputer] Change: 2357.9600000000005, scaled tolerance: 1.6975 \n",
      "[IterativeImputer] Completing matrix with shape (105166, 102)\n",
      "[[6.283846641263802, 2.6099999999999994, 3.8780942736388493, 0.9266564334237868]]\n"
     ]
    }
   ],
   "source": [
    "# RF, without days, with dbda (= Addition 1)\n",
    "imp_RF = IterativeImputer(max_iter=3,estimator=ExtraTreesRegressor(n_estimators=10,random_state=rnd_state_forRF, n_jobs=-1),verbose=True) \n",
    "RF_woD_dbda_cv10 = KFold_cross_validation(imp_RF,r_PM25,k=10,withDays=False)\n",
    "RF_woD_dbda_cv10.to_pickle(\"/Users/iditbela/Documents/Broday/saved_data_from_notebooks/RF_woD_dbda_cv10\")"
   ]
  },
  {
   "cell_type": "code",
   "execution_count": 695,
   "metadata": {},
   "outputs": [],
   "source": [
    "r_PM25_withDays = r_PM25.copy()\n",
    "r_PM25_withDays['week day'] = pd.to_datetime(times).dayofweek\n",
    "r_PM25_withDays['month'] = pd.to_datetime(times).month\n",
    "r_PM25_withDays['hour'] = pd.to_datetime(times).hour"
   ]
  },
  {
   "cell_type": "code",
   "execution_count": 696,
   "metadata": {},
   "outputs": [
    {
     "name": "stdout",
     "output_type": "stream",
     "text": [
      "[IterativeImputer] Completing matrix with shape (105166, 105)\n",
      "[IterativeImputer] Change: 14591.822684480943, scaled tolerance: 1.6975 \n",
      "[IterativeImputer] Change: 2510.91, scaled tolerance: 1.6975 \n",
      "[IterativeImputer] Change: 1555.0799999999995, scaled tolerance: 1.6975 \n",
      "[IterativeImputer] Completing matrix with shape (105166, 105)\n",
      "[[6.271037060397436, 2.6199999999999974, 3.8703385099859124, 0.9269551494230673]]\n"
     ]
    }
   ],
   "source": [
    "# RF, with days, with dbda (= Addition 1+2)\n",
    "imp_RF = IterativeImputer(max_iter=3,estimator=ExtraTreesRegressor(n_estimators=10,random_state=rnd_state_forRF, n_jobs=-1),verbose=True) \n",
    "RF_wD_dbda_cv10 = KFold_cross_validation(imp_RF,r_PM25_withDays,k=10,withDays=True)\n",
    "RF_wD_dbda_cv10.to_pickle(\"/Users/iditbela/Documents/Broday/saved_data_from_notebooks/RF_wD_dbda_cv10\")"
   ]
  },
  {
   "cell_type": "code",
   "execution_count": null,
   "metadata": {},
   "outputs": [],
   "source": [
    "# NOW REMOVE THE CONCAT LINES IN CV FUNC:"
   ]
  },
  {
   "cell_type": "code",
   "execution_count": 602,
   "metadata": {},
   "outputs": [
    {
     "name": "stdout",
     "output_type": "stream",
     "text": [
      "[IterativeImputer] Completing matrix with shape (105166, 34)\n",
      "[IterativeImputer] Change: 6325.825698057385, scaled tolerance: 1.6975 \n",
      "[IterativeImputer] Change: 1090.0699999999995, scaled tolerance: 1.6975 \n",
      "[IterativeImputer] Change: 861.8299999999999, scaled tolerance: 1.6975 \n",
      "[IterativeImputer] Change: 925.3199999999999, scaled tolerance: 1.6975 \n",
      "[IterativeImputer] Change: 763.7400000000002, scaled tolerance: 1.6975 \n",
      "[IterativeImputer] Completing matrix with shape (105166, 34)\n",
      "[[9.327683327736539, 4.0699999999999985, 5.744148404740201, 0.8383936366988755]]\n"
     ]
    }
   ],
   "source": [
    "# RF, without days\n",
    "imp_RF = IterativeImputer(max_iter=5,estimator=ExtraTreesRegressor(n_estimators=10,random_state=rnd_state_forRF, n_jobs=-1),verbose=True) \n",
    "RF_woD_cv10 = KFold_cross_validation(imp_RF,r_PM25,k=10,withDays=False)\n",
    "RF_woD_cv10.to_pickle(\"/Users/iditbela/Documents/Broday/saved_data_from_notebooks/RF_woD_cv10\")"
   ]
  },
  {
   "cell_type": "code",
   "execution_count": 349,
   "metadata": {},
   "outputs": [],
   "source": [
    "# perform transformation to data "
   ]
  },
  {
   "cell_type": "code",
   "execution_count": 371,
   "metadata": {},
   "outputs": [
    {
     "name": "stdout",
     "output_type": "stream",
     "text": [
      "[IterativeImputer] Completing matrix with shape (105166, 34)\n",
      "[IterativeImputer] Change: 6057.2178503293935, scaled tolerance: 1.6975 \n",
      "[IterativeImputer] Change: 906.5548447621236, scaled tolerance: 1.6975 \n",
      "[IterativeImputer] Change: 454.4946462317969, scaled tolerance: 1.6975 \n",
      "[IterativeImputer] Change: 323.50036848219906, scaled tolerance: 1.6975 \n",
      "[IterativeImputer] Change: 339.7106326368698, scaled tolerance: 1.6975 \n",
      "[IterativeImputer] Change: 501.5519075954876, scaled tolerance: 1.6975 \n",
      "[IterativeImputer] Change: 372.26295617987154, scaled tolerance: 1.6975 \n",
      "[IterativeImputer] Change: 38.195642642071604, scaled tolerance: 1.6975 \n",
      "[IterativeImputer] Change: 30.277524567145207, scaled tolerance: 1.6975 \n",
      "[IterativeImputer] Change: 23.933339833613402, scaled tolerance: 1.6975 \n",
      "[IterativeImputer] Completing matrix with shape (105166, 34)\n",
      "[[11.814213852323215, 4.763853963073485, 6.96800496167793, 0.740748948794016]]\n"
     ]
    }
   ],
   "source": [
    "# BR, without days\n",
    "imp_BR = IterativeImputer(max_iter=10,estimator=BayesianRidge(),verbose=True) \n",
    "BR_woD_cv10 = KFold_cross_validation(imp_BR,r_PM25,k=10,withDays=False)\n",
    "BR_woD_cv10.to_pickle(\"/Users/iditbela/Documents/Broday/saved_data_from_notebooks/BR_woD_cv10\")"
   ]
  },
  {
   "cell_type": "code",
   "execution_count": 691,
   "metadata": {},
   "outputs": [
    {
     "name": "stdout",
     "output_type": "stream",
     "text": [
      "[IterativeImputer] Completing matrix with shape (105166, 34)\n",
      "[IterativeImputer] Change: 6118.17583507105, scaled tolerance: 1.6975 \n",
      "[IterativeImputer] Completing matrix with shape (105166, 34)\n",
      "[[9.46251695404636, 3.916427232911026, 5.547055589522322, 0.8336877605356547]]\n"
     ]
    }
   ],
   "source": [
    "# KNN, without days\n",
    "imp_KNN = IterativeImputer(max_iter=1,estimator=KNeighborsRegressor(n_neighbors=10,weights='distance',n_jobs=-1),verbose=True) \n",
    "KNN_woD_cv10 = KFold_cross_validation(imp_KNN,r_PM25,k=10,withDays=False)\n",
    "KNN_woD_cv10.to_pickle(\"/Users/iditbela/Documents/Broday/saved_data_from_notebooks/KNN_woD_cv10\")"
   ]
  },
  {
   "cell_type": "code",
   "execution_count": 521,
   "metadata": {},
   "outputs": [],
   "source": [
    "r_PM25_withDays = r_PM25.copy()\n",
    "r_PM25_withDays['week day'] = pd.to_datetime(times).dayofweek\n",
    "r_PM25_withDays['month'] = pd.to_datetime(times).month\n",
    "r_PM25_withDays['hour'] = pd.to_datetime(times).hour"
   ]
  },
  {
   "cell_type": "code",
   "execution_count": 522,
   "metadata": {},
   "outputs": [
    {
     "name": "stdout",
     "output_type": "stream",
     "text": [
      "[IterativeImputer] Completing matrix with shape (105166, 37)\n",
      "[IterativeImputer] Change: 6634.705698057385, scaled tolerance: 1.6975 \n",
      "[IterativeImputer] Change: 1494.5, scaled tolerance: 1.6975 \n",
      "[IterativeImputer] Change: 675.47, scaled tolerance: 1.6975 \n",
      "[IterativeImputer] Change: 914.3999999999996, scaled tolerance: 1.6975 \n",
      "[IterativeImputer] Change: 635.0700000000002, scaled tolerance: 1.6975 \n",
      "[IterativeImputer] Completing matrix with shape (105166, 37)\n",
      "[[8.904311637290402, 3.9000000000000004, 5.521331896908925, 0.8527309203423187]]\n"
     ]
    }
   ],
   "source": [
    "# not sure it is necessary:\n",
    "# RF, with days\n",
    "imp_RF = IterativeImputer(max_iter=5,estimator=ExtraTreesRegressor(n_estimators=10,random_state=rnd_state_forRF, n_jobs=-1),verbose=True) \n",
    "RF_wD_cv10 = KFold_cross_validation(imp_RF,r_PM25_withDays,k=10,withDays=True)\n",
    "RF_wD_cv10.to_pickle(\"/Users/iditbela/Documents/Broday/saved_data_from_notebooks/RF_wD_cv10\")"
   ]
  },
  {
   "cell_type": "code",
   "execution_count": null,
   "metadata": {},
   "outputs": [],
   "source": []
  },
  {
   "cell_type": "code",
   "execution_count": null,
   "metadata": {},
   "outputs": [],
   "source": []
  },
  {
   "cell_type": "code",
   "execution_count": null,
   "metadata": {},
   "outputs": [],
   "source": []
  },
  {
   "cell_type": "code",
   "execution_count": 10,
   "metadata": {},
   "outputs": [],
   "source": [
    "results_woD_RF = KFold_cross_validation(imp_RF,r_PM25,k=10,withDays=False)\n",
    "results_woD_BR = KFold_cross_validation(imp_BR,r_PM25,k=10,withDays=False)"
   ]
  },
  {
   "cell_type": "code",
   "execution_count": 267,
   "metadata": {},
   "outputs": [],
   "source": [
    "results_woD_RF\n",
    "results_woD_RF.to_pickle(\"/Users/iditbela/Documents/Broday/saved_data_from_notebooks/results_woD_RF\")"
   ]
  },
  {
   "cell_type": "code",
   "execution_count": 435,
   "metadata": {},
   "outputs": [
    {
     "data": {
      "text/html": [
       "<div>\n",
       "<style scoped>\n",
       "    .dataframe tbody tr th:only-of-type {\n",
       "        vertical-align: middle;\n",
       "    }\n",
       "\n",
       "    .dataframe tbody tr th {\n",
       "        vertical-align: top;\n",
       "    }\n",
       "\n",
       "    .dataframe thead th {\n",
       "        text-align: right;\n",
       "    }\n",
       "</style>\n",
       "<table border=\"1\" class=\"dataframe\">\n",
       "  <thead>\n",
       "    <tr style=\"text-align: right;\">\n",
       "      <th></th>\n",
       "      <th>RMSE</th>\n",
       "      <th>MedianAE</th>\n",
       "      <th>MeanAE</th>\n",
       "      <th>R2</th>\n",
       "    </tr>\n",
       "  </thead>\n",
       "  <tbody>\n",
       "    <tr>\n",
       "      <th>0</th>\n",
       "      <td>12.146577</td>\n",
       "      <td>4.757204</td>\n",
       "      <td>6.994312</td>\n",
       "      <td>0.727041</td>\n",
       "    </tr>\n",
       "    <tr>\n",
       "      <th>1</th>\n",
       "      <td>12.194144</td>\n",
       "      <td>4.789904</td>\n",
       "      <td>7.030386</td>\n",
       "      <td>0.726149</td>\n",
       "    </tr>\n",
       "    <tr>\n",
       "      <th>2</th>\n",
       "      <td>12.152302</td>\n",
       "      <td>4.783614</td>\n",
       "      <td>6.997097</td>\n",
       "      <td>0.733775</td>\n",
       "    </tr>\n",
       "    <tr>\n",
       "      <th>3</th>\n",
       "      <td>11.985335</td>\n",
       "      <td>4.777705</td>\n",
       "      <td>6.971577</td>\n",
       "      <td>0.742191</td>\n",
       "    </tr>\n",
       "    <tr>\n",
       "      <th>4</th>\n",
       "      <td>12.287126</td>\n",
       "      <td>4.785513</td>\n",
       "      <td>6.987615</td>\n",
       "      <td>0.730406</td>\n",
       "    </tr>\n",
       "    <tr>\n",
       "      <th>5</th>\n",
       "      <td>11.964026</td>\n",
       "      <td>4.740049</td>\n",
       "      <td>6.946813</td>\n",
       "      <td>0.721794</td>\n",
       "    </tr>\n",
       "    <tr>\n",
       "      <th>6</th>\n",
       "      <td>11.894747</td>\n",
       "      <td>4.788714</td>\n",
       "      <td>6.950691</td>\n",
       "      <td>0.718386</td>\n",
       "    </tr>\n",
       "    <tr>\n",
       "      <th>7</th>\n",
       "      <td>12.287924</td>\n",
       "      <td>4.753388</td>\n",
       "      <td>6.965011</td>\n",
       "      <td>0.735859</td>\n",
       "    </tr>\n",
       "    <tr>\n",
       "      <th>8</th>\n",
       "      <td>12.436219</td>\n",
       "      <td>4.793671</td>\n",
       "      <td>7.043854</td>\n",
       "      <td>0.725499</td>\n",
       "    </tr>\n",
       "    <tr>\n",
       "      <th>9</th>\n",
       "      <td>11.814214</td>\n",
       "      <td>4.763854</td>\n",
       "      <td>6.968005</td>\n",
       "      <td>0.740749</td>\n",
       "    </tr>\n",
       "  </tbody>\n",
       "</table>\n",
       "</div>"
      ],
      "text/plain": [
       "        RMSE  MedianAE    MeanAE        R2\n",
       "0  12.146577  4.757204  6.994312  0.727041\n",
       "1  12.194144  4.789904  7.030386  0.726149\n",
       "2  12.152302  4.783614  6.997097  0.733775\n",
       "3  11.985335  4.777705  6.971577  0.742191\n",
       "4  12.287126  4.785513  6.987615  0.730406\n",
       "5  11.964026  4.740049  6.946813  0.721794\n",
       "6  11.894747  4.788714  6.950691  0.718386\n",
       "7  12.287924  4.753388  6.965011  0.735859\n",
       "8  12.436219  4.793671  7.043854  0.725499\n",
       "9  11.814214  4.763854  6.968005  0.740749"
      ]
     },
     "execution_count": 435,
     "metadata": {},
     "output_type": "execute_result"
    }
   ],
   "source": [
    "results_woD_BR\n",
    "results_woD_BR.to_pickle(\"/Users/iditbela/Documents/Broday/saved_data_from_notebooks/results_woD_BR\")"
   ]
  },
  {
   "cell_type": "markdown",
   "metadata": {},
   "source": [
    "## B - without days, with normal data"
   ]
  },
  {
   "cell_type": "code",
   "execution_count": null,
   "metadata": {},
   "outputs": [],
   "source": []
  },
  {
   "cell_type": "markdown",
   "metadata": {},
   "source": [
    "## C - with days"
   ]
  },
  {
   "cell_type": "code",
   "execution_count": 356,
   "metadata": {},
   "outputs": [],
   "source": [
    "r_PM25_withDays = r_PM25.copy()\n",
    "r_PM25_withDays['week day'] = pd.to_datetime(times).dayofweek\n",
    "r_PM25_withDays['month'] = pd.to_datetime(times).month\n",
    "r_PM25_withDays['hour'] = pd.to_datetime(times).hour"
   ]
  },
  {
   "cell_type": "code",
   "execution_count": 358,
   "metadata": {},
   "outputs": [],
   "source": [
    "# results_wD_RF = KFold_cross_validation(imp_RF,r_PM25_withDays,k=10,withDays=True)\n",
    "results_wD_RF_dbda = KFold_cross_validation(imp_RF,r_PM25_withDays,k=10,withDays=True)"
   ]
  },
  {
   "cell_type": "code",
   "execution_count": null,
   "metadata": {},
   "outputs": [],
   "source": [
    "results_wD_RF_dbda"
   ]
  },
  {
   "cell_type": "code",
   "execution_count": null,
   "metadata": {},
   "outputs": [],
   "source": [
    "results_wD_RF_dbda.to_pickle(\"/Users/iditbela/Documents/Broday/saved_data_from_notebooks/results_wD_RF_dbda\")"
   ]
  },
  {
   "cell_type": "code",
   "execution_count": null,
   "metadata": {},
   "outputs": [],
   "source": [
    "[7.224003002224444, 2.913905598791928, 4.2354491912656, 0.9030681044031428]"
   ]
  },
  {
   "cell_type": "code",
   "execution_count": null,
   "metadata": {},
   "outputs": [],
   "source": []
  },
  {
   "cell_type": "code",
   "execution_count": null,
   "metadata": {},
   "outputs": [],
   "source": []
  },
  {
   "cell_type": "code",
   "execution_count": null,
   "metadata": {},
   "outputs": [],
   "source": []
  },
  {
   "cell_type": "code",
   "execution_count": null,
   "metadata": {},
   "outputs": [],
   "source": []
  },
  {
   "cell_type": "code",
   "execution_count": null,
   "metadata": {},
   "outputs": [],
   "source": []
  },
  {
   "cell_type": "code",
   "execution_count": null,
   "metadata": {},
   "outputs": [],
   "source": []
  },
  {
   "cell_type": "code",
   "execution_count": 296,
   "metadata": {},
   "outputs": [],
   "source": [
    "r_PM25_withDays = r_PM25.copy()\n",
    "r_PM25_withDays['week day'] = pd.to_datetime(times).dayofweek\n",
    "r_PM25_withDays['month'] = pd.to_datetime(times).month\n",
    "r_PM25_withDays['hour'] = pd.to_datetime(times).hour"
   ]
  },
  {
   "cell_type": "code",
   "execution_count": 297,
   "metadata": {
    "scrolled": false
   },
   "outputs": [
    {
     "name": "stdout",
     "output_type": "stream",
     "text": [
      "[IterativeImputer] Completing matrix with shape (105166, 37)\n",
      "[IterativeImputer] Change: 6370.989565900771, scaled tolerance: 1.6975 \n",
      "[IterativeImputer] Change: 969.4149125965786, scaled tolerance: 1.6975 \n",
      "[IterativeImputer] Change: 576.5752099832307, scaled tolerance: 1.6975 \n",
      "[IterativeImputer] Change: 314.0645142393083, scaled tolerance: 1.6975 \n",
      "[IterativeImputer] Change: 322.1620220333494, scaled tolerance: 1.6975 \n",
      "[IterativeImputer] Change: 591.9714768692887, scaled tolerance: 1.6975 \n",
      "[IterativeImputer] Change: 402.6942882366628, scaled tolerance: 1.6975 \n",
      "[IterativeImputer] Change: 227.65040323712557, scaled tolerance: 1.6975 \n",
      "[IterativeImputer] Change: 255.33190960520187, scaled tolerance: 1.6975 \n",
      "[IterativeImputer] Change: 68.29994123160066, scaled tolerance: 1.6975 \n",
      "[IterativeImputer] Change: 24.690867515296304, scaled tolerance: 1.6975 \n",
      "[IterativeImputer] Change: 31.06321102042409, scaled tolerance: 1.6975 \n",
      "[IterativeImputer] Change: 26.95427791276279, scaled tolerance: 1.6975 \n",
      "[IterativeImputer] Change: 22.64216516846409, scaled tolerance: 1.6975 \n",
      "[IterativeImputer] Change: 19.185144737520204, scaled tolerance: 1.6975 \n",
      "[IterativeImputer] Change: 16.50235089626574, scaled tolerance: 1.6975 \n",
      "[IterativeImputer] Change: 14.405141124034174, scaled tolerance: 1.6975 \n",
      "[IterativeImputer] Change: 12.739126735933382, scaled tolerance: 1.6975 \n",
      "[IterativeImputer] Change: 11.392685803496363, scaled tolerance: 1.6975 \n",
      "[IterativeImputer] Change: 10.286770749578864, scaled tolerance: 1.6975 \n",
      "[IterativeImputer] Change: 9.36504973382307, scaled tolerance: 1.6975 \n",
      "[IterativeImputer] Change: 8.586788922144365, scaled tolerance: 1.6975 \n",
      "[IterativeImputer] Change: 7.922033725204869, scaled tolerance: 1.6975 \n",
      "[IterativeImputer] Change: 7.348382617363825, scaled tolerance: 1.6975 \n",
      "[IterativeImputer] Change: 6.848812813307688, scaled tolerance: 1.6975 \n",
      "[IterativeImputer] Change: 6.410195276412878, scaled tolerance: 1.6975 \n",
      "[IterativeImputer] Change: 6.022264763294743, scaled tolerance: 1.6975 \n",
      "[IterativeImputer] Change: 5.676893934069142, scaled tolerance: 1.6975 \n",
      "[IterativeImputer] Change: 5.367573828252375, scaled tolerance: 1.6975 \n",
      "[IterativeImputer] Change: 5.089036442468569, scaled tolerance: 1.6975 \n",
      "[IterativeImputer] Change: 4.8369767554867735, scaled tolerance: 1.6975 \n",
      "[IterativeImputer] Change: 4.607845284076802, scaled tolerance: 1.6975 \n",
      "[IterativeImputer] Change: 4.398691399223196, scaled tolerance: 1.6975 \n",
      "[IterativeImputer] Change: 4.207043649296168, scaled tolerance: 1.6975 \n",
      "[IterativeImputer] Change: 4.030817375720744, scaled tolerance: 1.6975 \n",
      "[IterativeImputer] Change: 3.8682426772056715, scaled tolerance: 1.6975 \n",
      "[IterativeImputer] Change: 3.717807769356625, scaled tolerance: 1.6975 \n",
      "[IterativeImputer] Change: 3.5782140214202514, scaled tolerance: 1.6975 \n",
      "[IterativeImputer] Change: 3.4483400044447308, scaled tolerance: 1.6975 \n",
      "[IterativeImputer] Change: 3.32721251403359, scaled tolerance: 1.6975 \n",
      "[IterativeImputer] Change: 3.223919697886913, scaled tolerance: 1.6975 \n",
      "[IterativeImputer] Change: 3.1884992753618633, scaled tolerance: 1.6975 \n",
      "[IterativeImputer] Change: 3.153088869443394, scaled tolerance: 1.6975 \n",
      "[IterativeImputer] Change: 3.117706811507759, scaled tolerance: 1.6975 \n",
      "[IterativeImputer] Change: 3.082370389354338, scaled tolerance: 1.6975 \n",
      "[IterativeImputer] Change: 3.0470959216594053, scaled tolerance: 1.6975 \n",
      "[IterativeImputer] Change: 3.011898824978374, scaled tolerance: 1.6975 \n",
      "[IterativeImputer] Change: 2.9767936736746776, scaled tolerance: 1.6975 \n",
      "[IterativeImputer] Change: 2.9417942544886273, scaled tolerance: 1.6975 \n",
      "[IterativeImputer] Change: 2.906913613821814, scaled tolerance: 1.6975 \n",
      "[IterativeImputer] Completing matrix with shape (105166, 37)\n"
     ]
    },
    {
     "ename": "KeyboardInterrupt",
     "evalue": "",
     "output_type": "error",
     "traceback": [
      "\u001b[0;31m---------------------------------------------------------------------------\u001b[0m",
      "\u001b[0;31mKeyboardInterrupt\u001b[0m                         Traceback (most recent call last)",
      "\u001b[0;32m<ipython-input-297-ab8798fdcf45>\u001b[0m in \u001b[0;36m<module>\u001b[0;34m()\u001b[0m\n\u001b[0;32m----> 1\u001b[0;31m \u001b[0mresults_wD_BR\u001b[0m \u001b[0;34m=\u001b[0m \u001b[0mKFold_cross_validation\u001b[0m\u001b[0;34m(\u001b[0m\u001b[0mimp_BR\u001b[0m\u001b[0;34m,\u001b[0m\u001b[0mr_PM25_withDays\u001b[0m\u001b[0;34m,\u001b[0m\u001b[0mk\u001b[0m\u001b[0;34m=\u001b[0m\u001b[0;36m10\u001b[0m\u001b[0;34m,\u001b[0m\u001b[0mwithDays\u001b[0m\u001b[0;34m=\u001b[0m\u001b[0;32mTrue\u001b[0m\u001b[0;34m)\u001b[0m\u001b[0;34m\u001b[0m\u001b[0m\n\u001b[0m",
      "\u001b[0;32m<ipython-input-291-ad103f977e42>\u001b[0m in \u001b[0;36mKFold_cross_validation\u001b[0;34m(imp, PM25, k, withDays)\u001b[0m\n\u001b[1;32m     49\u001b[0m         \u001b[0;31m# perform fit\u001b[0m\u001b[0;34m\u001b[0m\u001b[0;34m\u001b[0m\u001b[0m\n\u001b[1;32m     50\u001b[0m         \u001b[0mimp\u001b[0m\u001b[0;34m.\u001b[0m\u001b[0mfit\u001b[0m\u001b[0;34m(\u001b[0m\u001b[0mX_missing\u001b[0m\u001b[0;34m)\u001b[0m\u001b[0;34m\u001b[0m\u001b[0m\n\u001b[0;32m---> 51\u001b[0;31m         \u001b[0mimputed_df\u001b[0m \u001b[0;34m=\u001b[0m \u001b[0mimp\u001b[0m\u001b[0;34m.\u001b[0m\u001b[0mtransform\u001b[0m\u001b[0;34m(\u001b[0m\u001b[0mX_missing\u001b[0m\u001b[0;34m)\u001b[0m \u001b[0;31m# impute it\u001b[0m\u001b[0;34m\u001b[0m\u001b[0m\n\u001b[0m\u001b[1;32m     52\u001b[0m         \u001b[0mimputed_df\u001b[0m \u001b[0;34m=\u001b[0m \u001b[0mpd\u001b[0m\u001b[0;34m.\u001b[0m\u001b[0mDataFrame\u001b[0m\u001b[0;34m(\u001b[0m\u001b[0mimputed_df\u001b[0m\u001b[0;34m,\u001b[0m \u001b[0mcolumns\u001b[0m\u001b[0;34m=\u001b[0m\u001b[0mX_missing\u001b[0m\u001b[0;34m.\u001b[0m\u001b[0mcolumns\u001b[0m\u001b[0;34m)\u001b[0m \u001b[0;31m#turn it from IterativeImputer object to a dataframe\u001b[0m\u001b[0;34m\u001b[0m\u001b[0m\n\u001b[1;32m     53\u001b[0m \u001b[0;34m\u001b[0m\u001b[0m\n",
      "\u001b[0;32m/Library/Frameworks/Python.framework/Versions/3.6/lib/python3.6/site-packages/sklearn/impute/_iterative.py\u001b[0m in \u001b[0;36mtransform\u001b[0;34m(self, X)\u001b[0m\n\u001b[1;32m    709\u001b[0m                 \u001b[0mestimator_triplet\u001b[0m\u001b[0;34m.\u001b[0m\u001b[0mneighbor_feat_idx\u001b[0m\u001b[0;34m,\u001b[0m\u001b[0;34m\u001b[0m\u001b[0m\n\u001b[1;32m    710\u001b[0m                 \u001b[0mestimator\u001b[0m\u001b[0;34m=\u001b[0m\u001b[0mestimator_triplet\u001b[0m\u001b[0;34m.\u001b[0m\u001b[0mestimator\u001b[0m\u001b[0;34m,\u001b[0m\u001b[0;34m\u001b[0m\u001b[0m\n\u001b[0;32m--> 711\u001b[0;31m                 \u001b[0mfit_mode\u001b[0m\u001b[0;34m=\u001b[0m\u001b[0;32mFalse\u001b[0m\u001b[0;34m\u001b[0m\u001b[0m\n\u001b[0m\u001b[1;32m    712\u001b[0m             )\n\u001b[1;32m    713\u001b[0m             \u001b[0;32mif\u001b[0m \u001b[0;32mnot\u001b[0m \u001b[0;34m(\u001b[0m\u001b[0mit\u001b[0m \u001b[0;34m+\u001b[0m \u001b[0;36m1\u001b[0m\u001b[0;34m)\u001b[0m \u001b[0;34m%\u001b[0m \u001b[0mimputations_per_round\u001b[0m\u001b[0;34m:\u001b[0m\u001b[0;34m\u001b[0m\u001b[0m\n",
      "\u001b[0;32m/Library/Frameworks/Python.framework/Versions/3.6/lib/python3.6/site-packages/sklearn/impute/_iterative.py\u001b[0m in \u001b[0;36m_impute_one_feature\u001b[0;34m(self, X_filled, mask_missing_values, feat_idx, neighbor_feat_idx, estimator, fit_mode)\u001b[0m\n\u001b[1;32m    334\u001b[0m                 random_state=self.random_state_)\n\u001b[1;32m    335\u001b[0m         \u001b[0;32melse\u001b[0m\u001b[0;34m:\u001b[0m\u001b[0;34m\u001b[0m\u001b[0m\n\u001b[0;32m--> 336\u001b[0;31m             \u001b[0mimputed_values\u001b[0m \u001b[0;34m=\u001b[0m \u001b[0mestimator\u001b[0m\u001b[0;34m.\u001b[0m\u001b[0mpredict\u001b[0m\u001b[0;34m(\u001b[0m\u001b[0mX_test\u001b[0m\u001b[0;34m)\u001b[0m\u001b[0;34m\u001b[0m\u001b[0m\n\u001b[0m\u001b[1;32m    337\u001b[0m             imputed_values = np.clip(imputed_values,\n\u001b[1;32m    338\u001b[0m                                      \u001b[0mself\u001b[0m\u001b[0;34m.\u001b[0m\u001b[0m_min_value\u001b[0m\u001b[0;34m[\u001b[0m\u001b[0mfeat_idx\u001b[0m\u001b[0;34m]\u001b[0m\u001b[0;34m,\u001b[0m\u001b[0;34m\u001b[0m\u001b[0m\n",
      "\u001b[0;32m/Library/Frameworks/Python.framework/Versions/3.6/lib/python3.6/site-packages/sklearn/linear_model/_bayes.py\u001b[0m in \u001b[0;36mpredict\u001b[0;34m(self, X, return_std)\u001b[0m\n\u001b[1;32m    314\u001b[0m             \u001b[0mStandard\u001b[0m \u001b[0mdeviation\u001b[0m \u001b[0mof\u001b[0m \u001b[0mpredictive\u001b[0m \u001b[0mdistribution\u001b[0m \u001b[0mof\u001b[0m \u001b[0mquery\u001b[0m \u001b[0mpoints\u001b[0m\u001b[0;34m.\u001b[0m\u001b[0;34m\u001b[0m\u001b[0m\n\u001b[1;32m    315\u001b[0m         \"\"\"\n\u001b[0;32m--> 316\u001b[0;31m         \u001b[0my_mean\u001b[0m \u001b[0;34m=\u001b[0m \u001b[0mself\u001b[0m\u001b[0;34m.\u001b[0m\u001b[0m_decision_function\u001b[0m\u001b[0;34m(\u001b[0m\u001b[0mX\u001b[0m\u001b[0;34m)\u001b[0m\u001b[0;34m\u001b[0m\u001b[0m\n\u001b[0m\u001b[1;32m    317\u001b[0m         \u001b[0;32mif\u001b[0m \u001b[0mreturn_std\u001b[0m \u001b[0;32mis\u001b[0m \u001b[0;32mFalse\u001b[0m\u001b[0;34m:\u001b[0m\u001b[0;34m\u001b[0m\u001b[0m\n\u001b[1;32m    318\u001b[0m             \u001b[0;32mreturn\u001b[0m \u001b[0my_mean\u001b[0m\u001b[0;34m\u001b[0m\u001b[0m\n",
      "\u001b[0;32m/Library/Frameworks/Python.framework/Versions/3.6/lib/python3.6/site-packages/sklearn/linear_model/_base.py\u001b[0m in \u001b[0;36m_decision_function\u001b[0;34m(self, X)\u001b[0m\n\u001b[1;32m    218\u001b[0m         \u001b[0mX\u001b[0m \u001b[0;34m=\u001b[0m \u001b[0mcheck_array\u001b[0m\u001b[0;34m(\u001b[0m\u001b[0mX\u001b[0m\u001b[0;34m,\u001b[0m \u001b[0maccept_sparse\u001b[0m\u001b[0;34m=\u001b[0m\u001b[0;34m[\u001b[0m\u001b[0;34m'csr'\u001b[0m\u001b[0;34m,\u001b[0m \u001b[0;34m'csc'\u001b[0m\u001b[0;34m,\u001b[0m \u001b[0;34m'coo'\u001b[0m\u001b[0;34m]\u001b[0m\u001b[0;34m)\u001b[0m\u001b[0;34m\u001b[0m\u001b[0m\n\u001b[1;32m    219\u001b[0m         return safe_sparse_dot(X, self.coef_.T,\n\u001b[0;32m--> 220\u001b[0;31m                                dense_output=True) + self.intercept_\n\u001b[0m\u001b[1;32m    221\u001b[0m \u001b[0;34m\u001b[0m\u001b[0m\n\u001b[1;32m    222\u001b[0m     \u001b[0;32mdef\u001b[0m \u001b[0mpredict\u001b[0m\u001b[0;34m(\u001b[0m\u001b[0mself\u001b[0m\u001b[0;34m,\u001b[0m \u001b[0mX\u001b[0m\u001b[0;34m)\u001b[0m\u001b[0;34m:\u001b[0m\u001b[0;34m\u001b[0m\u001b[0m\n",
      "\u001b[0;32m/Library/Frameworks/Python.framework/Versions/3.6/lib/python3.6/site-packages/sklearn/utils/validation.py\u001b[0m in \u001b[0;36minner_f\u001b[0;34m(*args, **kwargs)\u001b[0m\n\u001b[1;32m     71\u001b[0m                           FutureWarning)\n\u001b[1;32m     72\u001b[0m         \u001b[0mkwargs\u001b[0m\u001b[0;34m.\u001b[0m\u001b[0mupdate\u001b[0m\u001b[0;34m(\u001b[0m\u001b[0;34m{\u001b[0m\u001b[0mk\u001b[0m\u001b[0;34m:\u001b[0m \u001b[0marg\u001b[0m \u001b[0;32mfor\u001b[0m \u001b[0mk\u001b[0m\u001b[0;34m,\u001b[0m \u001b[0marg\u001b[0m \u001b[0;32min\u001b[0m \u001b[0mzip\u001b[0m\u001b[0;34m(\u001b[0m\u001b[0msig\u001b[0m\u001b[0;34m.\u001b[0m\u001b[0mparameters\u001b[0m\u001b[0;34m,\u001b[0m \u001b[0margs\u001b[0m\u001b[0;34m)\u001b[0m\u001b[0;34m}\u001b[0m\u001b[0;34m)\u001b[0m\u001b[0;34m\u001b[0m\u001b[0m\n\u001b[0;32m---> 73\u001b[0;31m         \u001b[0;32mreturn\u001b[0m \u001b[0mf\u001b[0m\u001b[0;34m(\u001b[0m\u001b[0;34m**\u001b[0m\u001b[0mkwargs\u001b[0m\u001b[0;34m)\u001b[0m\u001b[0;34m\u001b[0m\u001b[0m\n\u001b[0m\u001b[1;32m     74\u001b[0m     \u001b[0;32mreturn\u001b[0m \u001b[0minner_f\u001b[0m\u001b[0;34m\u001b[0m\u001b[0m\n\u001b[1;32m     75\u001b[0m \u001b[0;34m\u001b[0m\u001b[0m\n",
      "\u001b[0;32m/Library/Frameworks/Python.framework/Versions/3.6/lib/python3.6/site-packages/sklearn/utils/extmath.py\u001b[0m in \u001b[0;36msafe_sparse_dot\u001b[0;34m(a, b, dense_output)\u001b[0m\n\u001b[1;32m    151\u001b[0m             \u001b[0mret\u001b[0m \u001b[0;34m=\u001b[0m \u001b[0mnp\u001b[0m\u001b[0;34m.\u001b[0m\u001b[0mdot\u001b[0m\u001b[0;34m(\u001b[0m\u001b[0ma\u001b[0m\u001b[0;34m,\u001b[0m \u001b[0mb\u001b[0m\u001b[0;34m)\u001b[0m\u001b[0;34m\u001b[0m\u001b[0m\n\u001b[1;32m    152\u001b[0m     \u001b[0;32melse\u001b[0m\u001b[0;34m:\u001b[0m\u001b[0;34m\u001b[0m\u001b[0m\n\u001b[0;32m--> 153\u001b[0;31m         \u001b[0mret\u001b[0m \u001b[0;34m=\u001b[0m \u001b[0ma\u001b[0m \u001b[0;34m@\u001b[0m \u001b[0mb\u001b[0m\u001b[0;34m\u001b[0m\u001b[0m\n\u001b[0m\u001b[1;32m    154\u001b[0m \u001b[0;34m\u001b[0m\u001b[0m\n\u001b[1;32m    155\u001b[0m     if (sparse.issparse(a) and sparse.issparse(b)\n",
      "\u001b[0;31mKeyboardInterrupt\u001b[0m: "
     ]
    }
   ],
   "source": [
    "results_wD_BR = KFold_cross_validation(imp_BR,r_PM25_withDays,k=10,withDays=True)"
   ]
  },
  {
   "cell_type": "code",
   "execution_count": null,
   "metadata": {},
   "outputs": [],
   "source": []
  },
  {
   "cell_type": "code",
   "execution_count": 289,
   "metadata": {},
   "outputs": [
    {
     "data": {
      "text/html": [
       "<div>\n",
       "<style scoped>\n",
       "    .dataframe tbody tr th:only-of-type {\n",
       "        vertical-align: middle;\n",
       "    }\n",
       "\n",
       "    .dataframe tbody tr th {\n",
       "        vertical-align: top;\n",
       "    }\n",
       "\n",
       "    .dataframe thead th {\n",
       "        text-align: right;\n",
       "    }\n",
       "</style>\n",
       "<table border=\"1\" class=\"dataframe\">\n",
       "  <thead>\n",
       "    <tr style=\"text-align: right;\">\n",
       "      <th></th>\n",
       "      <th>RMSE</th>\n",
       "      <th>MedianAE</th>\n",
       "      <th>MeanAE</th>\n",
       "      <th>R2</th>\n",
       "    </tr>\n",
       "  </thead>\n",
       "  <tbody>\n",
       "    <tr>\n",
       "      <th>0</th>\n",
       "      <td>8.891562</td>\n",
       "      <td>3.92</td>\n",
       "      <td>5.534868</td>\n",
       "      <td>0.853733</td>\n",
       "    </tr>\n",
       "    <tr>\n",
       "      <th>1</th>\n",
       "      <td>9.149023</td>\n",
       "      <td>3.91</td>\n",
       "      <td>5.548026</td>\n",
       "      <td>0.845844</td>\n",
       "    </tr>\n",
       "    <tr>\n",
       "      <th>2</th>\n",
       "      <td>9.096198</td>\n",
       "      <td>3.92</td>\n",
       "      <td>5.541519</td>\n",
       "      <td>0.850840</td>\n",
       "    </tr>\n",
       "    <tr>\n",
       "      <th>3</th>\n",
       "      <td>9.082441</td>\n",
       "      <td>3.92</td>\n",
       "      <td>5.530160</td>\n",
       "      <td>0.851952</td>\n",
       "    </tr>\n",
       "    <tr>\n",
       "      <th>4</th>\n",
       "      <td>9.146131</td>\n",
       "      <td>3.92</td>\n",
       "      <td>5.526155</td>\n",
       "      <td>0.850623</td>\n",
       "    </tr>\n",
       "    <tr>\n",
       "      <th>5</th>\n",
       "      <td>8.726580</td>\n",
       "      <td>3.90</td>\n",
       "      <td>5.507559</td>\n",
       "      <td>0.851987</td>\n",
       "    </tr>\n",
       "    <tr>\n",
       "      <th>6</th>\n",
       "      <td>9.026643</td>\n",
       "      <td>3.92</td>\n",
       "      <td>5.541228</td>\n",
       "      <td>0.837821</td>\n",
       "    </tr>\n",
       "    <tr>\n",
       "      <th>7</th>\n",
       "      <td>8.909576</td>\n",
       "      <td>3.92</td>\n",
       "      <td>5.532779</td>\n",
       "      <td>0.861135</td>\n",
       "    </tr>\n",
       "    <tr>\n",
       "      <th>8</th>\n",
       "      <td>9.330047</td>\n",
       "      <td>3.92</td>\n",
       "      <td>5.543148</td>\n",
       "      <td>0.845498</td>\n",
       "    </tr>\n",
       "    <tr>\n",
       "      <th>9</th>\n",
       "      <td>8.908671</td>\n",
       "      <td>3.91</td>\n",
       "      <td>5.527290</td>\n",
       "      <td>0.852587</td>\n",
       "    </tr>\n",
       "  </tbody>\n",
       "</table>\n",
       "</div>"
      ],
      "text/plain": [
       "       RMSE  MedianAE    MeanAE        R2\n",
       "0  8.891562      3.92  5.534868  0.853733\n",
       "1  9.149023      3.91  5.548026  0.845844\n",
       "2  9.096198      3.92  5.541519  0.850840\n",
       "3  9.082441      3.92  5.530160  0.851952\n",
       "4  9.146131      3.92  5.526155  0.850623\n",
       "5  8.726580      3.90  5.507559  0.851987\n",
       "6  9.026643      3.92  5.541228  0.837821\n",
       "7  8.909576      3.92  5.532779  0.861135\n",
       "8  9.330047      3.92  5.543148  0.845498\n",
       "9  8.908671      3.91  5.527290  0.852587"
      ]
     },
     "execution_count": 289,
     "metadata": {},
     "output_type": "execute_result"
    }
   ],
   "source": [
    "results_wD_RF\n",
    "results_wD_RF.to_pickle(\"/Users/iditbela/Documents/Broday/saved_data_from_notebooks/results_wD_RF\")"
   ]
  },
  {
   "cell_type": "code",
   "execution_count": null,
   "metadata": {},
   "outputs": [],
   "source": [
    "[8.759439063027683, 3.6988475677218595, 5.2692293925882545, 0.8574840534237276]"
   ]
  },
  {
   "cell_type": "code",
   "execution_count": 290,
   "metadata": {},
   "outputs": [
    {
     "data": {
      "text/html": [
       "<div>\n",
       "<style scoped>\n",
       "    .dataframe tbody tr th:only-of-type {\n",
       "        vertical-align: middle;\n",
       "    }\n",
       "\n",
       "    .dataframe tbody tr th {\n",
       "        vertical-align: top;\n",
       "    }\n",
       "\n",
       "    .dataframe thead th {\n",
       "        text-align: right;\n",
       "    }\n",
       "</style>\n",
       "<table border=\"1\" class=\"dataframe\">\n",
       "  <thead>\n",
       "    <tr style=\"text-align: right;\">\n",
       "      <th></th>\n",
       "      <th>RMSE</th>\n",
       "      <th>MedianAE</th>\n",
       "      <th>MeanAE</th>\n",
       "      <th>R2</th>\n",
       "    </tr>\n",
       "  </thead>\n",
       "  <tbody>\n",
       "    <tr>\n",
       "      <th>0</th>\n",
       "      <td>12.158469</td>\n",
       "      <td>4.748910</td>\n",
       "      <td>6.987025</td>\n",
       "      <td>0.726506</td>\n",
       "    </tr>\n",
       "    <tr>\n",
       "      <th>1</th>\n",
       "      <td>12.090359</td>\n",
       "      <td>4.771156</td>\n",
       "      <td>6.990287</td>\n",
       "      <td>0.730790</td>\n",
       "    </tr>\n",
       "    <tr>\n",
       "      <th>2</th>\n",
       "      <td>12.276467</td>\n",
       "      <td>4.774440</td>\n",
       "      <td>7.002976</td>\n",
       "      <td>0.728307</td>\n",
       "    </tr>\n",
       "    <tr>\n",
       "      <th>3</th>\n",
       "      <td>12.019256</td>\n",
       "      <td>4.780598</td>\n",
       "      <td>6.978572</td>\n",
       "      <td>0.740730</td>\n",
       "    </tr>\n",
       "    <tr>\n",
       "      <th>4</th>\n",
       "      <td>12.290798</td>\n",
       "      <td>4.755746</td>\n",
       "      <td>6.963742</td>\n",
       "      <td>0.730245</td>\n",
       "    </tr>\n",
       "    <tr>\n",
       "      <th>5</th>\n",
       "      <td>11.957039</td>\n",
       "      <td>4.712760</td>\n",
       "      <td>6.909068</td>\n",
       "      <td>0.722118</td>\n",
       "    </tr>\n",
       "    <tr>\n",
       "      <th>6</th>\n",
       "      <td>11.910672</td>\n",
       "      <td>4.785016</td>\n",
       "      <td>6.948598</td>\n",
       "      <td>0.717632</td>\n",
       "    </tr>\n",
       "    <tr>\n",
       "      <th>7</th>\n",
       "      <td>12.271235</td>\n",
       "      <td>4.737253</td>\n",
       "      <td>6.951292</td>\n",
       "      <td>0.736576</td>\n",
       "    </tr>\n",
       "    <tr>\n",
       "      <th>8</th>\n",
       "      <td>12.365174</td>\n",
       "      <td>4.775569</td>\n",
       "      <td>7.010698</td>\n",
       "      <td>0.728627</td>\n",
       "    </tr>\n",
       "    <tr>\n",
       "      <th>9</th>\n",
       "      <td>11.850018</td>\n",
       "      <td>4.763862</td>\n",
       "      <td>6.965597</td>\n",
       "      <td>0.739175</td>\n",
       "    </tr>\n",
       "  </tbody>\n",
       "</table>\n",
       "</div>"
      ],
      "text/plain": [
       "        RMSE  MedianAE    MeanAE        R2\n",
       "0  12.158469  4.748910  6.987025  0.726506\n",
       "1  12.090359  4.771156  6.990287  0.730790\n",
       "2  12.276467  4.774440  7.002976  0.728307\n",
       "3  12.019256  4.780598  6.978572  0.740730\n",
       "4  12.290798  4.755746  6.963742  0.730245\n",
       "5  11.957039  4.712760  6.909068  0.722118\n",
       "6  11.910672  4.785016  6.948598  0.717632\n",
       "7  12.271235  4.737253  6.951292  0.736576\n",
       "8  12.365174  4.775569  7.010698  0.728627\n",
       "9  11.850018  4.763862  6.965597  0.739175"
      ]
     },
     "execution_count": 290,
     "metadata": {},
     "output_type": "execute_result"
    }
   ],
   "source": [
    "results_wD_BR\n",
    "results_wD_BR.to_pickle(\"/Users/iditbela/Documents/Broday/saved_data_from_notebooks/results_wD_BR\")"
   ]
  },
  {
   "cell_type": "markdown",
   "metadata": {},
   "source": [
    "## D - with days, with normal data"
   ]
  },
  {
   "cell_type": "code",
   "execution_count": null,
   "metadata": {},
   "outputs": [],
   "source": []
  },
  {
   "cell_type": "code",
   "execution_count": null,
   "metadata": {},
   "outputs": [],
   "source": []
  },
  {
   "cell_type": "code",
   "execution_count": null,
   "metadata": {},
   "outputs": [],
   "source": [
    "# wind/other met./other pollutants"
   ]
  },
  {
   "cell_type": "code",
   "execution_count": null,
   "metadata": {},
   "outputs": [],
   "source": []
  },
  {
   "cell_type": "code",
   "execution_count": null,
   "metadata": {},
   "outputs": [],
   "source": []
  },
  {
   "cell_type": "markdown",
   "metadata": {},
   "source": [
    "# (2) KNN"
   ]
  },
  {
   "cell_type": "markdown",
   "metadata": {},
   "source": [
    "## A - iterative imputer - VERY SLOW!"
   ]
  },
  {
   "cell_type": "code",
   "execution_count": 20,
   "metadata": {},
   "outputs": [],
   "source": [
    "# take 10 neighbors.  \n",
    "imp_KNN = IterativeImputer(max_iter=1,estimator=KNeighborsRegressor(n_neighbors=10,weights='distance',n_jobs=-1),verbose=True) "
   ]
  },
  {
   "cell_type": "code",
   "execution_count": 21,
   "metadata": {},
   "outputs": [
    {
     "name": "stdout",
     "output_type": "stream",
     "text": [
      "[IterativeImputer] Completing matrix with shape (105166, 34)\n",
      "[IterativeImputer] Change: 6535.141122235329, scaled tolerance: 1.6975 \n",
      "[IterativeImputer] Completing matrix with shape (105166, 34)\n",
      "[IterativeImputer] Completing matrix with shape (105166, 34)\n",
      "[IterativeImputer] Change: 6002.413284248385, scaled tolerance: 1.6975 \n",
      "[IterativeImputer] Completing matrix with shape (105166, 34)\n",
      "[IterativeImputer] Completing matrix with shape (105166, 34)\n",
      "[IterativeImputer] Change: 5271.845720152767, scaled tolerance: 1.6975 \n",
      "[IterativeImputer] Completing matrix with shape (105166, 34)\n",
      "[IterativeImputer] Completing matrix with shape (105166, 34)\n",
      "[IterativeImputer] Change: 5553.4065955871465, scaled tolerance: 1.6975 \n",
      "[IterativeImputer] Completing matrix with shape (105166, 34)\n",
      "[IterativeImputer] Completing matrix with shape (105166, 34)\n",
      "[IterativeImputer] Change: 5037.528838168532, scaled tolerance: 1.5118 \n",
      "[IterativeImputer] Completing matrix with shape (105166, 34)\n",
      "[IterativeImputer] Completing matrix with shape (105166, 34)\n",
      "[IterativeImputer] Change: 6076.144396428998, scaled tolerance: 1.6975 \n",
      "[IterativeImputer] Completing matrix with shape (105166, 34)\n",
      "[IterativeImputer] Completing matrix with shape (105166, 34)\n",
      "[IterativeImputer] Change: 5107.400111407598, scaled tolerance: 1.6975 \n",
      "[IterativeImputer] Completing matrix with shape (105166, 34)\n",
      "[IterativeImputer] Completing matrix with shape (105166, 34)\n",
      "[IterativeImputer] Change: 5420.6802204208325, scaled tolerance: 1.6975 \n",
      "[IterativeImputer] Completing matrix with shape (105166, 34)\n",
      "[IterativeImputer] Completing matrix with shape (105166, 34)\n",
      "[IterativeImputer] Change: 5234.567421948406, scaled tolerance: 1.6975 \n",
      "[IterativeImputer] Completing matrix with shape (105166, 34)\n",
      "[IterativeImputer] Completing matrix with shape (105166, 34)\n",
      "[IterativeImputer] Change: 6118.17583507105, scaled tolerance: 1.6975 \n",
      "[IterativeImputer] Completing matrix with shape (105166, 34)\n"
     ]
    }
   ],
   "source": [
    "results_woD_KNN = KFold_cross_validation(imp_KNN,r_PM25,k=10,withDays=False)"
   ]
  },
  {
   "cell_type": "code",
   "execution_count": 22,
   "metadata": {},
   "outputs": [
    {
     "data": {
      "text/html": [
       "<div>\n",
       "<style scoped>\n",
       "    .dataframe tbody tr th:only-of-type {\n",
       "        vertical-align: middle;\n",
       "    }\n",
       "\n",
       "    .dataframe tbody tr th {\n",
       "        vertical-align: top;\n",
       "    }\n",
       "\n",
       "    .dataframe thead th {\n",
       "        text-align: right;\n",
       "    }\n",
       "</style>\n",
       "<table border=\"1\" class=\"dataframe\">\n",
       "  <thead>\n",
       "    <tr style=\"text-align: right;\">\n",
       "      <th></th>\n",
       "      <th>RMSE</th>\n",
       "      <th>MedianAE</th>\n",
       "      <th>MeanAE</th>\n",
       "      <th>R2</th>\n",
       "    </tr>\n",
       "  </thead>\n",
       "  <tbody>\n",
       "    <tr>\n",
       "      <th>0</th>\n",
       "      <td>9.510036</td>\n",
       "      <td>3.917365</td>\n",
       "      <td>5.554462</td>\n",
       "      <td>0.832678</td>\n",
       "    </tr>\n",
       "    <tr>\n",
       "      <th>1</th>\n",
       "      <td>9.613944</td>\n",
       "      <td>3.911642</td>\n",
       "      <td>5.548207</td>\n",
       "      <td>0.829778</td>\n",
       "    </tr>\n",
       "    <tr>\n",
       "      <th>2</th>\n",
       "      <td>9.765258</td>\n",
       "      <td>3.925400</td>\n",
       "      <td>5.568478</td>\n",
       "      <td>0.828091</td>\n",
       "    </tr>\n",
       "    <tr>\n",
       "      <th>3</th>\n",
       "      <td>9.753575</td>\n",
       "      <td>3.911715</td>\n",
       "      <td>5.546650</td>\n",
       "      <td>0.829264</td>\n",
       "    </tr>\n",
       "    <tr>\n",
       "      <th>4</th>\n",
       "      <td>10.007616</td>\n",
       "      <td>3.922956</td>\n",
       "      <td>5.578250</td>\n",
       "      <td>0.821158</td>\n",
       "    </tr>\n",
       "    <tr>\n",
       "      <th>5</th>\n",
       "      <td>9.248886</td>\n",
       "      <td>3.893837</td>\n",
       "      <td>5.512880</td>\n",
       "      <td>0.833739</td>\n",
       "    </tr>\n",
       "    <tr>\n",
       "      <th>6</th>\n",
       "      <td>9.498568</td>\n",
       "      <td>3.923674</td>\n",
       "      <td>5.549481</td>\n",
       "      <td>0.820419</td>\n",
       "    </tr>\n",
       "    <tr>\n",
       "      <th>7</th>\n",
       "      <td>9.944436</td>\n",
       "      <td>3.911382</td>\n",
       "      <td>5.557848</td>\n",
       "      <td>0.827003</td>\n",
       "    </tr>\n",
       "    <tr>\n",
       "      <th>8</th>\n",
       "      <td>9.962109</td>\n",
       "      <td>3.908708</td>\n",
       "      <td>5.549101</td>\n",
       "      <td>0.823855</td>\n",
       "    </tr>\n",
       "    <tr>\n",
       "      <th>9</th>\n",
       "      <td>9.462517</td>\n",
       "      <td>3.916427</td>\n",
       "      <td>5.547056</td>\n",
       "      <td>0.833688</td>\n",
       "    </tr>\n",
       "  </tbody>\n",
       "</table>\n",
       "</div>"
      ],
      "text/plain": [
       "        RMSE  MedianAE    MeanAE        R2\n",
       "0   9.510036  3.917365  5.554462  0.832678\n",
       "1   9.613944  3.911642  5.548207  0.829778\n",
       "2   9.765258  3.925400  5.568478  0.828091\n",
       "3   9.753575  3.911715  5.546650  0.829264\n",
       "4  10.007616  3.922956  5.578250  0.821158\n",
       "5   9.248886  3.893837  5.512880  0.833739\n",
       "6   9.498568  3.923674  5.549481  0.820419\n",
       "7   9.944436  3.911382  5.557848  0.827003\n",
       "8   9.962109  3.908708  5.549101  0.823855\n",
       "9   9.462517  3.916427  5.547056  0.833688"
      ]
     },
     "execution_count": 22,
     "metadata": {},
     "output_type": "execute_result"
    }
   ],
   "source": [
    "results_woD_KNN\n",
    "results_woD_KNN.to_pickle(\"/Users/iditbela/Documents/Broday/saved_data_from_notebooks/results_woD_KNN\")"
   ]
  },
  {
   "cell_type": "markdown",
   "metadata": {},
   "source": [
    "## B - my KNN implemintation (on rows! not columns!)"
   ]
  },
  {
   "cell_type": "code",
   "execution_count": 536,
   "metadata": {},
   "outputs": [],
   "source": [
    "def return_X_y_KFold_cross_validation(PM25,k):\n",
    "   \n",
    "    kf = KFold(n_splits=k, random_state=rnd_state_forCV, shuffle=True)\n",
    "    not_nan_idx = np.argwhere(PM25.notnull().values)\n",
    "    results = []\n",
    "    \n",
    "    for train_index, test_index in kf.split(not_nan_idx):\n",
    "        np_PM25 = PM25.values\n",
    "        X_missing = PM25.copy()\n",
    "        y_missing = PM25.copy()\n",
    "        \n",
    "        # y_missing \n",
    "        y_missing.iloc[:] = np.nan\n",
    "        np_y_missing = y_missing.values\n",
    "        \n",
    "        # asssign values according to test indexes\n",
    "        rows, cols = zip(*not_nan_idx[test_index])\n",
    "        vals = np_PM25[rows, cols]\n",
    "        np_y_missing[rows, cols] = vals\n",
    "        # turn back to dataframe\n",
    "        y_missing = pd.DataFrame(np_y_missing,columns=PM25.columns)\n",
    "\n",
    "        # X_missing\n",
    "        # assign nans according to test indexes\n",
    "        np_X_missing = X_missing.values\n",
    "        np_X_missing[rows, cols] = np.nan\n",
    "        \n",
    "    return np_X_missing, np_y_missing"
   ]
  },
  {
   "cell_type": "code",
   "execution_count": 537,
   "metadata": {},
   "outputs": [],
   "source": [
    "r_PM25_copy = r_PM25.copy()\n",
    "# np_r_PM25 = r_PM25_copy.values\n",
    "# np_r_PM25.shape\n",
    "np_r_PM25, np_r_PM25_y = return_X_y_KFold_cross_validation(r_PM25_copy,10)"
   ]
  },
  {
   "cell_type": "code",
   "execution_count": 545,
   "metadata": {},
   "outputs": [
    {
     "data": {
      "text/plain": [
       "(105166, 34)"
      ]
     },
     "execution_count": 545,
     "metadata": {},
     "output_type": "execute_result"
    }
   ],
   "source": [
    "np_r_PM25.shape"
   ]
  },
  {
   "cell_type": "code",
   "execution_count": 546,
   "metadata": {},
   "outputs": [
    {
     "data": {
      "text/plain": [
       "array([ 9667,  9497,  9993,  9483,  8005,  9043,  6600,  8512, 10176,\n",
       "        9401,  7668,  7276, 10146, 10118, 10123,  8952,  8145,  9104,\n",
       "        9652,  7738,  9463,  9437,  9088,  9730,  7970,  7297,  9562,\n",
       "        9929,  7791,  9101,  7561,  8249,  7819,  9379])"
      ]
     },
     "execution_count": 546,
     "metadata": {},
     "output_type": "execute_result"
    }
   ],
   "source": [
    "np_r_PM25.shape[0] - np.isnan(np_r_PM25_y).sum(axis=0)"
   ]
  },
  {
   "cell_type": "code",
   "execution_count": 412,
   "metadata": {},
   "outputs": [],
   "source": [
    "# # start with filling rows where ALL columns are nan, with the \n",
    "# # mean values suited for the days of week, hour and month. \n",
    "# # if starting in 2013, I have 5 rows like that (all 34 stations are missing).\n",
    "# # later, the largest missing row is 24 (so 10 stations exist). \n",
    "# # but, should keep track if changing year !!\n",
    "\n",
    "# order = np.sort(np.isnan(np_r_PM25).sum(axis=1))\n",
    "# num_idx = np.sum(order==34)\n",
    "# # num_idx\n",
    "\n",
    "# order = np.argsort(np.isnan(np_r_PM25).sum(axis=1))\n",
    "# # np_r_PM25[order[-num_idx:],:]\n",
    "# idx = order[-num_idx:]"
   ]
  },
  {
   "cell_type": "code",
   "execution_count": 413,
   "metadata": {},
   "outputs": [],
   "source": [
    "# times_dt = pd.to_datetime(times)\n",
    "# r_PM25_copy['datetime'] = pd.to_datetime(times)\n",
    "# means_to_impute_by = r_PM25_copy.groupby([r_PM25_copy.datetime.dt.month, r_PM25_copy.datetime.dt.dayofweek, r_PM25_copy.datetime.dt.hour]).mean()"
   ]
  },
  {
   "cell_type": "code",
   "execution_count": 414,
   "metadata": {},
   "outputs": [],
   "source": [
    "# for i in range(len(idx)):\n",
    "#     np_r_PM25[idx[i],:] = means_to_impute_by.loc[(times_dt[i].month,times_dt[i].dayofweek,times_dt[i].hour),:].values"
   ]
  },
  {
   "cell_type": "code",
   "execution_count": null,
   "metadata": {},
   "outputs": [],
   "source": []
  },
  {
   "cell_type": "code",
   "execution_count": null,
   "metadata": {},
   "outputs": [],
   "source": []
  },
  {
   "cell_type": "code",
   "execution_count": null,
   "metadata": {},
   "outputs": [],
   "source": []
  },
  {
   "cell_type": "code",
   "execution_count": 526,
   "metadata": {
    "scrolled": false
   },
   "outputs": [],
   "source": [
    "def impute_knn(np_r_PM25,k):\n",
    "\n",
    "    imputed = np_r_PM25.copy()  #  np_r_PM25 is with CV missing\n",
    "    all_data_mask_nans = imputed.copy()\n",
    "    mask_nans = np.isnan(imputed)\n",
    "    all_data_mask_nans[mask_nans]=0\n",
    "\n",
    "    batch_size = 300\n",
    "    not_nan_mask = 1-np.isnan(np_r_PM25).astype(int)\n",
    "    # all_data_norm = all_data_mask_nans / np.linalg.norm(all_data_mask_nans,axis=1)[:,np.newaxis] # normalize BY norm\n",
    "    all_data_norm = np_r_PM25 / np.nanstd(np_r_PM25, axis=0) # normalize BY norm \n",
    "\n",
    "\n",
    "    np_corrMatrix = pd.DataFrame(imputed).corr().values\n",
    "    \n",
    "    for cind in tqdm(range(np_r_PM25.shape[1])): #tqdm(range(np_r_PM25.shape[1]-33)) #range(34,int(np_r_PM25.shape[1]/3)+1) #+1=AFULA, +34=all \n",
    "        nan_column_mask = np.isnan(np_r_PM25[:,cind])\n",
    "        not_nan_column_mask = np.logical_not(nan_column_mask)\n",
    "\n",
    "        # lets remove correlations from here:\n",
    "    #     not_nan_data_corr = all_data_mask_nans[not_nan_column_mask, :] * np_corrMatrix[:, cind]\n",
    "\n",
    "        not_nan_in_colom_all_data_norm = all_data_norm[not_nan_column_mask, :]*np_corrMatrix[:,cind]\n",
    "\n",
    "    #     var_not_nan_data_corr = not_nan_data_corr.var(axis=0)\n",
    "\n",
    "        not_nan_not_nan_mask = not_nan_mask[not_nan_column_mask, :] #relevant rows for this column (not nan)\n",
    "\n",
    "        not_nan_column = np_r_PM25[not_nan_column_mask,cind]    \n",
    "        nan_ind = np.argwhere(nan_column_mask)\n",
    "        \n",
    "        for i in tqdm(range(0, len(nan_ind), batch_size), leave=False):\n",
    "            rinds = np.ravel(nan_ind[i:i+batch_size])\n",
    "            batch = all_data_norm[rinds, :]*np_corrMatrix[:,cind]\n",
    "\n",
    "            batch_non_nan_mask = not_nan_mask[rinds, :]\n",
    "            counts = np.dot(not_nan_not_nan_mask, batch_non_nan_mask.T)\n",
    "\n",
    "    #         dists = distance.cdist(not_nan_data_corr, batch, 'seuclidean', V=var_not_nan_data_corr)\n",
    "\n",
    "            dists = nan_euclidean_distances(not_nan_in_colom_all_data_norm, batch)\n",
    "\n",
    "            weights = counts/dists\n",
    "            min_thr = np.partition(weights,-(k+1),axis=0)[-(k+1),:]\n",
    "            weights = weights-min_thr\n",
    "            # !If all the coordinates are missing or if there are no common present coordinates then NaN is returned in dists for that pair!\n",
    "            weights[(weights<0) | (np.isnan(weights))] = 0\n",
    "            weights = weights / weights.sum(axis=0)\n",
    "\n",
    "            values = np.dot(weights.T, not_nan_column)\n",
    "            imputed[rinds, cind] = values\n",
    "            \n",
    "    return imputed\n"
   ]
  },
  {
   "cell_type": "markdown",
   "metadata": {},
   "source": [
    "##### \"regular\":"
   ]
  },
  {
   "cell_type": "code",
   "execution_count": 436,
   "metadata": {
    "scrolled": true
   },
   "outputs": [
    {
     "data": {
      "application/vnd.jupyter.widget-view+json": {
       "model_id": "43e09fb78af6463ea1b0fa180dd08990",
       "version_major": 2,
       "version_minor": 0
      },
      "text/html": [
       "<p>Failed to display Jupyter Widget of type <code>HBox</code>.</p>\n",
       "<p>\n",
       "  If you're reading this message in the Jupyter Notebook or JupyterLab Notebook, it may mean\n",
       "  that the widgets JavaScript is still loading. If this message persists, it\n",
       "  likely means that the widgets JavaScript library is either not installed or\n",
       "  not enabled. See the <a href=\"https://ipywidgets.readthedocs.io/en/stable/user_install.html\">Jupyter\n",
       "  Widgets Documentation</a> for setup instructions.\n",
       "</p>\n",
       "<p>\n",
       "  If you're reading this message in another frontend (for example, a static\n",
       "  rendering on GitHub or <a href=\"https://nbviewer.jupyter.org/\">NBViewer</a>),\n",
       "  it may mean that your frontend doesn't currently support widgets.\n",
       "</p>\n"
      ],
      "text/plain": [
       "HBox(children=(IntProgress(value=0, max=1), HTML(value='')))"
      ]
     },
     "metadata": {},
     "output_type": "display_data"
    },
    {
     "data": {
      "application/vnd.jupyter.widget-view+json": {
       "model_id": "071d12780ad5416daefa27dfc0ff6635",
       "version_major": 2,
       "version_minor": 0
      },
      "text/html": [
       "<p>Failed to display Jupyter Widget of type <code>HBox</code>.</p>\n",
       "<p>\n",
       "  If you're reading this message in the Jupyter Notebook or JupyterLab Notebook, it may mean\n",
       "  that the widgets JavaScript is still loading. If this message persists, it\n",
       "  likely means that the widgets JavaScript library is either not installed or\n",
       "  not enabled. See the <a href=\"https://ipywidgets.readthedocs.io/en/stable/user_install.html\">Jupyter\n",
       "  Widgets Documentation</a> for setup instructions.\n",
       "</p>\n",
       "<p>\n",
       "  If you're reading this message in another frontend (for example, a static\n",
       "  rendering on GitHub or <a href=\"https://nbviewer.jupyter.org/\">NBViewer</a>),\n",
       "  it may mean that your frontend doesn't currently support widgets.\n",
       "</p>\n"
      ],
      "text/plain": [
       "HBox(children=(IntProgress(value=0, max=62), HTML(value='')))"
      ]
     },
     "metadata": {},
     "output_type": "display_data"
    },
    {
     "name": "stdout",
     "output_type": "stream",
     "text": [
      "\n"
     ]
    }
   ],
   "source": [
    "k_neigh = 9 # optimal k when checked between 7-12\n",
    "imputed = impute_knn(np_r_PM25,k_neigh)"
   ]
  },
  {
   "cell_type": "markdown",
   "metadata": {},
   "source": [
    "#### CV my KNN"
   ]
  },
  {
   "cell_type": "code",
   "execution_count": 527,
   "metadata": {},
   "outputs": [],
   "source": [
    "def KFold_cross_validation_my_KNN(PM25,k):\n",
    "   \n",
    "    kf = KFold(n_splits=k, random_state=rnd_state_forCV, shuffle=True)\n",
    "    not_nan_idx = np.argwhere(PM25.notnull().values)\n",
    "    results = []\n",
    "    i = 5\n",
    "    \n",
    "    for j, (train_index, test_index) in enumerate(kf.split(not_nan_idx)):\n",
    "        if j in (4,5,6,7,8):\n",
    "            np_PM25 = PM25.values\n",
    "            X_missing = PM25.copy()\n",
    "            y_missing = PM25.copy()\n",
    "\n",
    "            # y_missing \n",
    "            y_missing.iloc[:] = np.nan\n",
    "            np_y_missing = y_missing.values\n",
    "\n",
    "            # asssign values according to test indexes\n",
    "            rows, cols = zip(*not_nan_idx[test_index])\n",
    "            vals = np_PM25[rows, cols]\n",
    "            np_y_missing[rows, cols] = vals\n",
    "            # turn back to dataframe\n",
    "            y_missing = pd.DataFrame(np_y_missing,columns=PM25.columns)\n",
    "\n",
    "            # X_missing\n",
    "            # assign nans according to test indexes\n",
    "            np_X_missing = X_missing.values\n",
    "            np_X_missing[rows, cols] = np.nan\n",
    "\n",
    "\n",
    "            # NOTE THAT I USED TO REMOVE ROWS WHERE ALL IS NAN BUT MAYBE REDUNDENT?\n",
    "\n",
    "            # impute\n",
    "            k_neigh = 9 # optimal k when checked between 7-12\n",
    "            imputed = impute_knn(np_X_missing,k_neigh)\n",
    "\n",
    "            # save imputation\n",
    "            imputed_df = pd.DataFrame(imputed, columns=PM25.columns) #turn it from IterativeImputer object to a dataframe\n",
    "            imputed_df.to_pickle(\"/Users/iditbela/Documents/Broday/saved_data_from_notebooks/my_KNN_cv\"+str(i))\n",
    "            i = i +1\n",
    "\n",
    "            # validate\n",
    "            y_train = vals\n",
    "            np_imputed_df = imputed_df.values\n",
    "            y_pred = np_imputed_df[rows, cols]\n",
    "\n",
    "            # assign results\n",
    "            RMSE = np.sqrt(mean_squared_error(y_train, y_pred))\n",
    "            MedianAE = median_absolute_error(y_train, y_pred)\n",
    "            MeanAE = mean_absolute_error(y_train,y_pred)\n",
    "            R2 = r2_score(y_train,y_pred)\n",
    "            results.append([RMSE,MedianAE,MeanAE,R2])  \n",
    "\n",
    "            # print\n",
    "            print([RMSE,MedianAE,MeanAE,R2])        \n",
    "        \n",
    "    return results\n"
   ]
  },
  {
   "cell_type": "code",
   "execution_count": 528,
   "metadata": {},
   "outputs": [
    {
     "data": {
      "application/vnd.jupyter.widget-view+json": {
       "model_id": "dd64d53b46924671acd946b29c5946b2",
       "version_major": 2,
       "version_minor": 0
      },
      "text/html": [
       "<p>Failed to display Jupyter Widget of type <code>HBox</code>.</p>\n",
       "<p>\n",
       "  If you're reading this message in the Jupyter Notebook or JupyterLab Notebook, it may mean\n",
       "  that the widgets JavaScript is still loading. If this message persists, it\n",
       "  likely means that the widgets JavaScript library is either not installed or\n",
       "  not enabled. See the <a href=\"https://ipywidgets.readthedocs.io/en/stable/user_install.html\">Jupyter\n",
       "  Widgets Documentation</a> for setup instructions.\n",
       "</p>\n",
       "<p>\n",
       "  If you're reading this message in another frontend (for example, a static\n",
       "  rendering on GitHub or <a href=\"https://nbviewer.jupyter.org/\">NBViewer</a>),\n",
       "  it may mean that your frontend doesn't currently support widgets.\n",
       "</p>\n"
      ],
      "text/plain": [
       "HBox(children=(IntProgress(value=0, max=34), HTML(value='')))"
      ]
     },
     "metadata": {},
     "output_type": "display_data"
    },
    {
     "data": {
      "application/vnd.jupyter.widget-view+json": {
       "model_id": "1fd128c9dcf044589ca3818dd339a9b7",
       "version_major": 2,
       "version_minor": 0
      },
      "text/html": [
       "<p>Failed to display Jupyter Widget of type <code>HBox</code>.</p>\n",
       "<p>\n",
       "  If you're reading this message in the Jupyter Notebook or JupyterLab Notebook, it may mean\n",
       "  that the widgets JavaScript is still loading. If this message persists, it\n",
       "  likely means that the widgets JavaScript library is either not installed or\n",
       "  not enabled. See the <a href=\"https://ipywidgets.readthedocs.io/en/stable/user_install.html\">Jupyter\n",
       "  Widgets Documentation</a> for setup instructions.\n",
       "</p>\n",
       "<p>\n",
       "  If you're reading this message in another frontend (for example, a static\n",
       "  rendering on GitHub or <a href=\"https://nbviewer.jupyter.org/\">NBViewer</a>),\n",
       "  it may mean that your frontend doesn't currently support widgets.\n",
       "</p>\n"
      ],
      "text/plain": [
       "HBox(children=(IntProgress(value=0, max=62), HTML(value='')))"
      ]
     },
     "metadata": {},
     "output_type": "display_data"
    },
    {
     "data": {
      "application/vnd.jupyter.widget-view+json": {
       "model_id": "9f95181777894dc794410d4566f43a02",
       "version_major": 2,
       "version_minor": 0
      },
      "text/html": [
       "<p>Failed to display Jupyter Widget of type <code>HBox</code>.</p>\n",
       "<p>\n",
       "  If you're reading this message in the Jupyter Notebook or JupyterLab Notebook, it may mean\n",
       "  that the widgets JavaScript is still loading. If this message persists, it\n",
       "  likely means that the widgets JavaScript library is either not installed or\n",
       "  not enabled. See the <a href=\"https://ipywidgets.readthedocs.io/en/stable/user_install.html\">Jupyter\n",
       "  Widgets Documentation</a> for setup instructions.\n",
       "</p>\n",
       "<p>\n",
       "  If you're reading this message in another frontend (for example, a static\n",
       "  rendering on GitHub or <a href=\"https://nbviewer.jupyter.org/\">NBViewer</a>),\n",
       "  it may mean that your frontend doesn't currently support widgets.\n",
       "</p>\n"
      ],
      "text/plain": [
       "HBox(children=(IntProgress(value=0, max=66), HTML(value='')))"
      ]
     },
     "metadata": {},
     "output_type": "display_data"
    },
    {
     "data": {
      "application/vnd.jupyter.widget-view+json": {
       "model_id": "afa18476e8934c30b314d550dfb91630",
       "version_major": 2,
       "version_minor": 0
      },
      "text/html": [
       "<p>Failed to display Jupyter Widget of type <code>HBox</code>.</p>\n",
       "<p>\n",
       "  If you're reading this message in the Jupyter Notebook or JupyterLab Notebook, it may mean\n",
       "  that the widgets JavaScript is still loading. If this message persists, it\n",
       "  likely means that the widgets JavaScript library is either not installed or\n",
       "  not enabled. See the <a href=\"https://ipywidgets.readthedocs.io/en/stable/user_install.html\">Jupyter\n",
       "  Widgets Documentation</a> for setup instructions.\n",
       "</p>\n",
       "<p>\n",
       "  If you're reading this message in another frontend (for example, a static\n",
       "  rendering on GitHub or <a href=\"https://nbviewer.jupyter.org/\">NBViewer</a>),\n",
       "  it may mean that your frontend doesn't currently support widgets.\n",
       "</p>\n"
      ],
      "text/plain": [
       "HBox(children=(IntProgress(value=0, max=54), HTML(value='')))"
      ]
     },
     "metadata": {},
     "output_type": "display_data"
    },
    {
     "data": {
      "application/vnd.jupyter.widget-view+json": {
       "model_id": "36b0d68e88b94dea84c2db4baf5d5d34",
       "version_major": 2,
       "version_minor": 0
      },
      "text/html": [
       "<p>Failed to display Jupyter Widget of type <code>HBox</code>.</p>\n",
       "<p>\n",
       "  If you're reading this message in the Jupyter Notebook or JupyterLab Notebook, it may mean\n",
       "  that the widgets JavaScript is still loading. If this message persists, it\n",
       "  likely means that the widgets JavaScript library is either not installed or\n",
       "  not enabled. See the <a href=\"https://ipywidgets.readthedocs.io/en/stable/user_install.html\">Jupyter\n",
       "  Widgets Documentation</a> for setup instructions.\n",
       "</p>\n",
       "<p>\n",
       "  If you're reading this message in another frontend (for example, a static\n",
       "  rendering on GitHub or <a href=\"https://nbviewer.jupyter.org/\">NBViewer</a>),\n",
       "  it may mean that your frontend doesn't currently support widgets.\n",
       "</p>\n"
      ],
      "text/plain": [
       "HBox(children=(IntProgress(value=0, max=64), HTML(value='')))"
      ]
     },
     "metadata": {},
     "output_type": "display_data"
    },
    {
     "data": {
      "application/vnd.jupyter.widget-view+json": {
       "model_id": "99f9af56c48b487cb43f0007594f11b2",
       "version_major": 2,
       "version_minor": 0
      },
      "text/html": [
       "<p>Failed to display Jupyter Widget of type <code>HBox</code>.</p>\n",
       "<p>\n",
       "  If you're reading this message in the Jupyter Notebook or JupyterLab Notebook, it may mean\n",
       "  that the widgets JavaScript is still loading. If this message persists, it\n",
       "  likely means that the widgets JavaScript library is either not installed or\n",
       "  not enabled. See the <a href=\"https://ipywidgets.readthedocs.io/en/stable/user_install.html\">Jupyter\n",
       "  Widgets Documentation</a> for setup instructions.\n",
       "</p>\n",
       "<p>\n",
       "  If you're reading this message in another frontend (for example, a static\n",
       "  rendering on GitHub or <a href=\"https://nbviewer.jupyter.org/\">NBViewer</a>),\n",
       "  it may mean that your frontend doesn't currently support widgets.\n",
       "</p>\n"
      ],
      "text/plain": [
       "HBox(children=(IntProgress(value=0, max=110), HTML(value='')))"
      ]
     },
     "metadata": {},
     "output_type": "display_data"
    },
    {
     "data": {
      "application/vnd.jupyter.widget-view+json": {
       "model_id": "75b5e83e05d145c78f8cd60953076884",
       "version_major": 2,
       "version_minor": 0
      },
      "text/html": [
       "<p>Failed to display Jupyter Widget of type <code>HBox</code>.</p>\n",
       "<p>\n",
       "  If you're reading this message in the Jupyter Notebook or JupyterLab Notebook, it may mean\n",
       "  that the widgets JavaScript is still loading. If this message persists, it\n",
       "  likely means that the widgets JavaScript library is either not installed or\n",
       "  not enabled. See the <a href=\"https://ipywidgets.readthedocs.io/en/stable/user_install.html\">Jupyter\n",
       "  Widgets Documentation</a> for setup instructions.\n",
       "</p>\n",
       "<p>\n",
       "  If you're reading this message in another frontend (for example, a static\n",
       "  rendering on GitHub or <a href=\"https://nbviewer.jupyter.org/\">NBViewer</a>),\n",
       "  it may mean that your frontend doesn't currently support widgets.\n",
       "</p>\n"
      ],
      "text/plain": [
       "HBox(children=(IntProgress(value=0, max=79), HTML(value='')))"
      ]
     },
     "metadata": {},
     "output_type": "display_data"
    },
    {
     "data": {
      "application/vnd.jupyter.widget-view+json": {
       "model_id": "512a4353e77b43babf8f54e08e241271",
       "version_major": 2,
       "version_minor": 0
      },
      "text/html": [
       "<p>Failed to display Jupyter Widget of type <code>HBox</code>.</p>\n",
       "<p>\n",
       "  If you're reading this message in the Jupyter Notebook or JupyterLab Notebook, it may mean\n",
       "  that the widgets JavaScript is still loading. If this message persists, it\n",
       "  likely means that the widgets JavaScript library is either not installed or\n",
       "  not enabled. See the <a href=\"https://ipywidgets.readthedocs.io/en/stable/user_install.html\">Jupyter\n",
       "  Widgets Documentation</a> for setup instructions.\n",
       "</p>\n",
       "<p>\n",
       "  If you're reading this message in another frontend (for example, a static\n",
       "  rendering on GitHub or <a href=\"https://nbviewer.jupyter.org/\">NBViewer</a>),\n",
       "  it may mean that your frontend doesn't currently support widgets.\n",
       "</p>\n"
      ],
      "text/plain": [
       "HBox(children=(IntProgress(value=0, max=153), HTML(value='')))"
      ]
     },
     "metadata": {},
     "output_type": "display_data"
    },
    {
     "data": {
      "application/vnd.jupyter.widget-view+json": {
       "model_id": "66c614245f004f218c33f0b32c807b06",
       "version_major": 2,
       "version_minor": 0
      },
      "text/html": [
       "<p>Failed to display Jupyter Widget of type <code>HBox</code>.</p>\n",
       "<p>\n",
       "  If you're reading this message in the Jupyter Notebook or JupyterLab Notebook, it may mean\n",
       "  that the widgets JavaScript is still loading. If this message persists, it\n",
       "  likely means that the widgets JavaScript library is either not installed or\n",
       "  not enabled. See the <a href=\"https://ipywidgets.readthedocs.io/en/stable/user_install.html\">Jupyter\n",
       "  Widgets Documentation</a> for setup instructions.\n",
       "</p>\n",
       "<p>\n",
       "  If you're reading this message in another frontend (for example, a static\n",
       "  rendering on GitHub or <a href=\"https://nbviewer.jupyter.org/\">NBViewer</a>),\n",
       "  it may mean that your frontend doesn't currently support widgets.\n",
       "</p>\n"
      ],
      "text/plain": [
       "HBox(children=(IntProgress(value=0, max=93), HTML(value='')))"
      ]
     },
     "metadata": {},
     "output_type": "display_data"
    },
    {
     "data": {
      "application/vnd.jupyter.widget-view+json": {
       "model_id": "0e30c7f7f4aa4322850aa6ff46e22088",
       "version_major": 2,
       "version_minor": 0
      },
      "text/html": [
       "<p>Failed to display Jupyter Widget of type <code>HBox</code>.</p>\n",
       "<p>\n",
       "  If you're reading this message in the Jupyter Notebook or JupyterLab Notebook, it may mean\n",
       "  that the widgets JavaScript is still loading. If this message persists, it\n",
       "  likely means that the widgets JavaScript library is either not installed or\n",
       "  not enabled. See the <a href=\"https://ipywidgets.readthedocs.io/en/stable/user_install.html\">Jupyter\n",
       "  Widgets Documentation</a> for setup instructions.\n",
       "</p>\n",
       "<p>\n",
       "  If you're reading this message in another frontend (for example, a static\n",
       "  rendering on GitHub or <a href=\"https://nbviewer.jupyter.org/\">NBViewer</a>),\n",
       "  it may mean that your frontend doesn't currently support widgets.\n",
       "</p>\n"
      ],
      "text/plain": [
       "HBox(children=(IntProgress(value=0, max=46), HTML(value='')))"
      ]
     },
     "metadata": {},
     "output_type": "display_data"
    },
    {
     "data": {
      "application/vnd.jupyter.widget-view+json": {
       "model_id": "48a7213fef554c798066d8d658525318",
       "version_major": 2,
       "version_minor": 0
      },
      "text/html": [
       "<p>Failed to display Jupyter Widget of type <code>HBox</code>.</p>\n",
       "<p>\n",
       "  If you're reading this message in the Jupyter Notebook or JupyterLab Notebook, it may mean\n",
       "  that the widgets JavaScript is still loading. If this message persists, it\n",
       "  likely means that the widgets JavaScript library is either not installed or\n",
       "  not enabled. See the <a href=\"https://ipywidgets.readthedocs.io/en/stable/user_install.html\">Jupyter\n",
       "  Widgets Documentation</a> for setup instructions.\n",
       "</p>\n",
       "<p>\n",
       "  If you're reading this message in another frontend (for example, a static\n",
       "  rendering on GitHub or <a href=\"https://nbviewer.jupyter.org/\">NBViewer</a>),\n",
       "  it may mean that your frontend doesn't currently support widgets.\n",
       "</p>\n"
      ],
      "text/plain": [
       "HBox(children=(IntProgress(value=0, max=69), HTML(value='')))"
      ]
     },
     "metadata": {},
     "output_type": "display_data"
    },
    {
     "data": {
      "application/vnd.jupyter.widget-view+json": {
       "model_id": "1c9bc4c4734e4ca89da45c2351d0b203",
       "version_major": 2,
       "version_minor": 0
      },
      "text/html": [
       "<p>Failed to display Jupyter Widget of type <code>HBox</code>.</p>\n",
       "<p>\n",
       "  If you're reading this message in the Jupyter Notebook or JupyterLab Notebook, it may mean\n",
       "  that the widgets JavaScript is still loading. If this message persists, it\n",
       "  likely means that the widgets JavaScript library is either not installed or\n",
       "  not enabled. See the <a href=\"https://ipywidgets.readthedocs.io/en/stable/user_install.html\">Jupyter\n",
       "  Widgets Documentation</a> for setup instructions.\n",
       "</p>\n",
       "<p>\n",
       "  If you're reading this message in another frontend (for example, a static\n",
       "  rendering on GitHub or <a href=\"https://nbviewer.jupyter.org/\">NBViewer</a>),\n",
       "  it may mean that your frontend doesn't currently support widgets.\n",
       "</p>\n"
      ],
      "text/plain": [
       "HBox(children=(IntProgress(value=0, max=122), HTML(value='')))"
      ]
     },
     "metadata": {},
     "output_type": "display_data"
    },
    {
     "data": {
      "application/vnd.jupyter.widget-view+json": {
       "model_id": "602d5ecd22b04e4fa4361b1506e48493",
       "version_major": 2,
       "version_minor": 0
      },
      "text/html": [
       "<p>Failed to display Jupyter Widget of type <code>HBox</code>.</p>\n",
       "<p>\n",
       "  If you're reading this message in the Jupyter Notebook or JupyterLab Notebook, it may mean\n",
       "  that the widgets JavaScript is still loading. If this message persists, it\n",
       "  likely means that the widgets JavaScript library is either not installed or\n",
       "  not enabled. See the <a href=\"https://ipywidgets.readthedocs.io/en/stable/user_install.html\">Jupyter\n",
       "  Widgets Documentation</a> for setup instructions.\n",
       "</p>\n",
       "<p>\n",
       "  If you're reading this message in another frontend (for example, a static\n",
       "  rendering on GitHub or <a href=\"https://nbviewer.jupyter.org/\">NBViewer</a>),\n",
       "  it may mean that your frontend doesn't currently support widgets.\n",
       "</p>\n"
      ],
      "text/plain": [
       "HBox(children=(IntProgress(value=0, max=133), HTML(value='')))"
      ]
     },
     "metadata": {},
     "output_type": "display_data"
    },
    {
     "data": {
      "application/vnd.jupyter.widget-view+json": {
       "model_id": "9e49f830743748e99f2e0a0e074f673c",
       "version_major": 2,
       "version_minor": 0
      },
      "text/html": [
       "<p>Failed to display Jupyter Widget of type <code>HBox</code>.</p>\n",
       "<p>\n",
       "  If you're reading this message in the Jupyter Notebook or JupyterLab Notebook, it may mean\n",
       "  that the widgets JavaScript is still loading. If this message persists, it\n",
       "  likely means that the widgets JavaScript library is either not installed or\n",
       "  not enabled. See the <a href=\"https://ipywidgets.readthedocs.io/en/stable/user_install.html\">Jupyter\n",
       "  Widgets Documentation</a> for setup instructions.\n",
       "</p>\n",
       "<p>\n",
       "  If you're reading this message in another frontend (for example, a static\n",
       "  rendering on GitHub or <a href=\"https://nbviewer.jupyter.org/\">NBViewer</a>),\n",
       "  it may mean that your frontend doesn't currently support widgets.\n",
       "</p>\n"
      ],
      "text/plain": [
       "HBox(children=(IntProgress(value=0, max=46), HTML(value='')))"
      ]
     },
     "metadata": {},
     "output_type": "display_data"
    },
    {
     "data": {
      "application/vnd.jupyter.widget-view+json": {
       "model_id": "bf8da449a00b48e2970f4d36d3246b62",
       "version_major": 2,
       "version_minor": 0
      },
      "text/html": [
       "<p>Failed to display Jupyter Widget of type <code>HBox</code>.</p>\n",
       "<p>\n",
       "  If you're reading this message in the Jupyter Notebook or JupyterLab Notebook, it may mean\n",
       "  that the widgets JavaScript is still loading. If this message persists, it\n",
       "  likely means that the widgets JavaScript library is either not installed or\n",
       "  not enabled. See the <a href=\"https://ipywidgets.readthedocs.io/en/stable/user_install.html\">Jupyter\n",
       "  Widgets Documentation</a> for setup instructions.\n",
       "</p>\n",
       "<p>\n",
       "  If you're reading this message in another frontend (for example, a static\n",
       "  rendering on GitHub or <a href=\"https://nbviewer.jupyter.org/\">NBViewer</a>),\n",
       "  it may mean that your frontend doesn't currently support widgets.\n",
       "</p>\n"
      ],
      "text/plain": [
       "HBox(children=(IntProgress(value=0, max=48), HTML(value='')))"
      ]
     },
     "metadata": {},
     "output_type": "display_data"
    },
    {
     "data": {
      "application/vnd.jupyter.widget-view+json": {
       "model_id": "471fab51b2854a8cbe889a8ca2273bea",
       "version_major": 2,
       "version_minor": 0
      },
      "text/html": [
       "<p>Failed to display Jupyter Widget of type <code>HBox</code>.</p>\n",
       "<p>\n",
       "  If you're reading this message in the Jupyter Notebook or JupyterLab Notebook, it may mean\n",
       "  that the widgets JavaScript is still loading. If this message persists, it\n",
       "  likely means that the widgets JavaScript library is either not installed or\n",
       "  not enabled. See the <a href=\"https://ipywidgets.readthedocs.io/en/stable/user_install.html\">Jupyter\n",
       "  Widgets Documentation</a> for setup instructions.\n",
       "</p>\n",
       "<p>\n",
       "  If you're reading this message in another frontend (for example, a static\n",
       "  rendering on GitHub or <a href=\"https://nbviewer.jupyter.org/\">NBViewer</a>),\n",
       "  it may mean that your frontend doesn't currently support widgets.\n",
       "</p>\n"
      ],
      "text/plain": [
       "HBox(children=(IntProgress(value=0, max=49), HTML(value='')))"
      ]
     },
     "metadata": {},
     "output_type": "display_data"
    },
    {
     "data": {
      "application/vnd.jupyter.widget-view+json": {
       "model_id": "6b11c93e87fe4b9e8ffb68e37d61108b",
       "version_major": 2,
       "version_minor": 0
      },
      "text/html": [
       "<p>Failed to display Jupyter Widget of type <code>HBox</code>.</p>\n",
       "<p>\n",
       "  If you're reading this message in the Jupyter Notebook or JupyterLab Notebook, it may mean\n",
       "  that the widgets JavaScript is still loading. If this message persists, it\n",
       "  likely means that the widgets JavaScript library is either not installed or\n",
       "  not enabled. See the <a href=\"https://ipywidgets.readthedocs.io/en/stable/user_install.html\">Jupyter\n",
       "  Widgets Documentation</a> for setup instructions.\n",
       "</p>\n",
       "<p>\n",
       "  If you're reading this message in another frontend (for example, a static\n",
       "  rendering on GitHub or <a href=\"https://nbviewer.jupyter.org/\">NBViewer</a>),\n",
       "  it may mean that your frontend doesn't currently support widgets.\n",
       "</p>\n"
      ],
      "text/plain": [
       "HBox(children=(IntProgress(value=0, max=84), HTML(value='')))"
      ]
     },
     "metadata": {},
     "output_type": "display_data"
    },
    {
     "data": {
      "application/vnd.jupyter.widget-view+json": {
       "model_id": "b1462d7b53d347f3a3ea70d0067dd044",
       "version_major": 2,
       "version_minor": 0
      },
      "text/html": [
       "<p>Failed to display Jupyter Widget of type <code>HBox</code>.</p>\n",
       "<p>\n",
       "  If you're reading this message in the Jupyter Notebook or JupyterLab Notebook, it may mean\n",
       "  that the widgets JavaScript is still loading. If this message persists, it\n",
       "  likely means that the widgets JavaScript library is either not installed or\n",
       "  not enabled. See the <a href=\"https://ipywidgets.readthedocs.io/en/stable/user_install.html\">Jupyter\n",
       "  Widgets Documentation</a> for setup instructions.\n",
       "</p>\n",
       "<p>\n",
       "  If you're reading this message in another frontend (for example, a static\n",
       "  rendering on GitHub or <a href=\"https://nbviewer.jupyter.org/\">NBViewer</a>),\n",
       "  it may mean that your frontend doesn't currently support widgets.\n",
       "</p>\n"
      ],
      "text/plain": [
       "HBox(children=(IntProgress(value=0, max=108), HTML(value='')))"
      ]
     },
     "metadata": {},
     "output_type": "display_data"
    },
    {
     "data": {
      "application/vnd.jupyter.widget-view+json": {
       "model_id": "ec3ad3f7fe9146fba791dcd0297616d2",
       "version_major": 2,
       "version_minor": 0
      },
      "text/html": [
       "<p>Failed to display Jupyter Widget of type <code>HBox</code>.</p>\n",
       "<p>\n",
       "  If you're reading this message in the Jupyter Notebook or JupyterLab Notebook, it may mean\n",
       "  that the widgets JavaScript is still loading. If this message persists, it\n",
       "  likely means that the widgets JavaScript library is either not installed or\n",
       "  not enabled. See the <a href=\"https://ipywidgets.readthedocs.io/en/stable/user_install.html\">Jupyter\n",
       "  Widgets Documentation</a> for setup instructions.\n",
       "</p>\n",
       "<p>\n",
       "  If you're reading this message in another frontend (for example, a static\n",
       "  rendering on GitHub or <a href=\"https://nbviewer.jupyter.org/\">NBViewer</a>),\n",
       "  it may mean that your frontend doesn't currently support widgets.\n",
       "</p>\n"
      ],
      "text/plain": [
       "HBox(children=(IntProgress(value=0, max=79), HTML(value='')))"
      ]
     },
     "metadata": {},
     "output_type": "display_data"
    },
    {
     "data": {
      "application/vnd.jupyter.widget-view+json": {
       "model_id": "86c662c8217249dfa5bc593021b8accd",
       "version_major": 2,
       "version_minor": 0
      },
      "text/html": [
       "<p>Failed to display Jupyter Widget of type <code>HBox</code>.</p>\n",
       "<p>\n",
       "  If you're reading this message in the Jupyter Notebook or JupyterLab Notebook, it may mean\n",
       "  that the widgets JavaScript is still loading. If this message persists, it\n",
       "  likely means that the widgets JavaScript library is either not installed or\n",
       "  not enabled. See the <a href=\"https://ipywidgets.readthedocs.io/en/stable/user_install.html\">Jupyter\n",
       "  Widgets Documentation</a> for setup instructions.\n",
       "</p>\n",
       "<p>\n",
       "  If you're reading this message in another frontend (for example, a static\n",
       "  rendering on GitHub or <a href=\"https://nbviewer.jupyter.org/\">NBViewer</a>),\n",
       "  it may mean that your frontend doesn't currently support widgets.\n",
       "</p>\n"
      ],
      "text/plain": [
       "HBox(children=(IntProgress(value=0, max=61), HTML(value='')))"
      ]
     },
     "metadata": {},
     "output_type": "display_data"
    },
    {
     "data": {
      "application/vnd.jupyter.widget-view+json": {
       "model_id": "0ae85fe1853a47a5a77d5015b8dcc307",
       "version_major": 2,
       "version_minor": 0
      },
      "text/html": [
       "<p>Failed to display Jupyter Widget of type <code>HBox</code>.</p>\n",
       "<p>\n",
       "  If you're reading this message in the Jupyter Notebook or JupyterLab Notebook, it may mean\n",
       "  that the widgets JavaScript is still loading. If this message persists, it\n",
       "  likely means that the widgets JavaScript library is either not installed or\n",
       "  not enabled. See the <a href=\"https://ipywidgets.readthedocs.io/en/stable/user_install.html\">Jupyter\n",
       "  Widgets Documentation</a> for setup instructions.\n",
       "</p>\n",
       "<p>\n",
       "  If you're reading this message in another frontend (for example, a static\n",
       "  rendering on GitHub or <a href=\"https://nbviewer.jupyter.org/\">NBViewer</a>),\n",
       "  it may mean that your frontend doesn't currently support widgets.\n",
       "</p>\n"
      ],
      "text/plain": [
       "HBox(children=(IntProgress(value=0, max=115), HTML(value='')))"
      ]
     },
     "metadata": {},
     "output_type": "display_data"
    },
    {
     "data": {
      "application/vnd.jupyter.widget-view+json": {
       "model_id": "7bff8519575d4f4197bb5855ef6683b3",
       "version_major": 2,
       "version_minor": 0
      },
      "text/html": [
       "<p>Failed to display Jupyter Widget of type <code>HBox</code>.</p>\n",
       "<p>\n",
       "  If you're reading this message in the Jupyter Notebook or JupyterLab Notebook, it may mean\n",
       "  that the widgets JavaScript is still loading. If this message persists, it\n",
       "  likely means that the widgets JavaScript library is either not installed or\n",
       "  not enabled. See the <a href=\"https://ipywidgets.readthedocs.io/en/stable/user_install.html\">Jupyter\n",
       "  Widgets Documentation</a> for setup instructions.\n",
       "</p>\n",
       "<p>\n",
       "  If you're reading this message in another frontend (for example, a static\n",
       "  rendering on GitHub or <a href=\"https://nbviewer.jupyter.org/\">NBViewer</a>),\n",
       "  it may mean that your frontend doesn't currently support widgets.\n",
       "</p>\n"
      ],
      "text/plain": [
       "HBox(children=(IntProgress(value=0, max=67), HTML(value='')))"
      ]
     },
     "metadata": {},
     "output_type": "display_data"
    },
    {
     "data": {
      "application/vnd.jupyter.widget-view+json": {
       "model_id": "8a0cf12cce76470dba70b1b134e1a4a6",
       "version_major": 2,
       "version_minor": 0
      },
      "text/html": [
       "<p>Failed to display Jupyter Widget of type <code>HBox</code>.</p>\n",
       "<p>\n",
       "  If you're reading this message in the Jupyter Notebook or JupyterLab Notebook, it may mean\n",
       "  that the widgets JavaScript is still loading. If this message persists, it\n",
       "  likely means that the widgets JavaScript library is either not installed or\n",
       "  not enabled. See the <a href=\"https://ipywidgets.readthedocs.io/en/stable/user_install.html\">Jupyter\n",
       "  Widgets Documentation</a> for setup instructions.\n",
       "</p>\n",
       "<p>\n",
       "  If you're reading this message in another frontend (for example, a static\n",
       "  rendering on GitHub or <a href=\"https://nbviewer.jupyter.org/\">NBViewer</a>),\n",
       "  it may mean that your frontend doesn't currently support widgets.\n",
       "</p>\n"
      ],
      "text/plain": [
       "HBox(children=(IntProgress(value=0, max=69), HTML(value='')))"
      ]
     },
     "metadata": {},
     "output_type": "display_data"
    },
    {
     "data": {
      "application/vnd.jupyter.widget-view+json": {
       "model_id": "e1e28a2d64af4180855482981d0210c5",
       "version_major": 2,
       "version_minor": 0
      },
      "text/html": [
       "<p>Failed to display Jupyter Widget of type <code>HBox</code>.</p>\n",
       "<p>\n",
       "  If you're reading this message in the Jupyter Notebook or JupyterLab Notebook, it may mean\n",
       "  that the widgets JavaScript is still loading. If this message persists, it\n",
       "  likely means that the widgets JavaScript library is either not installed or\n",
       "  not enabled. See the <a href=\"https://ipywidgets.readthedocs.io/en/stable/user_install.html\">Jupyter\n",
       "  Widgets Documentation</a> for setup instructions.\n",
       "</p>\n",
       "<p>\n",
       "  If you're reading this message in another frontend (for example, a static\n",
       "  rendering on GitHub or <a href=\"https://nbviewer.jupyter.org/\">NBViewer</a>),\n",
       "  it may mean that your frontend doesn't currently support widgets.\n",
       "</p>\n"
      ],
      "text/plain": [
       "HBox(children=(IntProgress(value=0, max=80), HTML(value='')))"
      ]
     },
     "metadata": {},
     "output_type": "display_data"
    },
    {
     "data": {
      "application/vnd.jupyter.widget-view+json": {
       "model_id": "823628b1921143f792ac53ffdad1e1ae",
       "version_major": 2,
       "version_minor": 0
      },
      "text/html": [
       "<p>Failed to display Jupyter Widget of type <code>HBox</code>.</p>\n",
       "<p>\n",
       "  If you're reading this message in the Jupyter Notebook or JupyterLab Notebook, it may mean\n",
       "  that the widgets JavaScript is still loading. If this message persists, it\n",
       "  likely means that the widgets JavaScript library is either not installed or\n",
       "  not enabled. See the <a href=\"https://ipywidgets.readthedocs.io/en/stable/user_install.html\">Jupyter\n",
       "  Widgets Documentation</a> for setup instructions.\n",
       "</p>\n",
       "<p>\n",
       "  If you're reading this message in another frontend (for example, a static\n",
       "  rendering on GitHub or <a href=\"https://nbviewer.jupyter.org/\">NBViewer</a>),\n",
       "  it may mean that your frontend doesn't currently support widgets.\n",
       "</p>\n"
      ],
      "text/plain": [
       "HBox(children=(IntProgress(value=0, max=63), HTML(value='')))"
      ]
     },
     "metadata": {},
     "output_type": "display_data"
    },
    {
     "data": {
      "application/vnd.jupyter.widget-view+json": {
       "model_id": "f11dba3cae33480988b18fb612e2da1f",
       "version_major": 2,
       "version_minor": 0
      },
      "text/html": [
       "<p>Failed to display Jupyter Widget of type <code>HBox</code>.</p>\n",
       "<p>\n",
       "  If you're reading this message in the Jupyter Notebook or JupyterLab Notebook, it may mean\n",
       "  that the widgets JavaScript is still loading. If this message persists, it\n",
       "  likely means that the widgets JavaScript library is either not installed or\n",
       "  not enabled. See the <a href=\"https://ipywidgets.readthedocs.io/en/stable/user_install.html\">Jupyter\n",
       "  Widgets Documentation</a> for setup instructions.\n",
       "</p>\n",
       "<p>\n",
       "  If you're reading this message in another frontend (for example, a static\n",
       "  rendering on GitHub or <a href=\"https://nbviewer.jupyter.org/\">NBViewer</a>),\n",
       "  it may mean that your frontend doesn't currently support widgets.\n",
       "</p>\n"
      ],
      "text/plain": [
       "HBox(children=(IntProgress(value=0, max=109), HTML(value='')))"
      ]
     },
     "metadata": {},
     "output_type": "display_data"
    },
    {
     "data": {
      "application/vnd.jupyter.widget-view+json": {
       "model_id": "beba2ade668c4c8cb4fef4862a444523",
       "version_major": 2,
       "version_minor": 0
      },
      "text/html": [
       "<p>Failed to display Jupyter Widget of type <code>HBox</code>.</p>\n",
       "<p>\n",
       "  If you're reading this message in the Jupyter Notebook or JupyterLab Notebook, it may mean\n",
       "  that the widgets JavaScript is still loading. If this message persists, it\n",
       "  likely means that the widgets JavaScript library is either not installed or\n",
       "  not enabled. See the <a href=\"https://ipywidgets.readthedocs.io/en/stable/user_install.html\">Jupyter\n",
       "  Widgets Documentation</a> for setup instructions.\n",
       "</p>\n",
       "<p>\n",
       "  If you're reading this message in another frontend (for example, a static\n",
       "  rendering on GitHub or <a href=\"https://nbviewer.jupyter.org/\">NBViewer</a>),\n",
       "  it may mean that your frontend doesn't currently support widgets.\n",
       "</p>\n"
      ],
      "text/plain": [
       "HBox(children=(IntProgress(value=0, max=136), HTML(value='')))"
      ]
     },
     "metadata": {},
     "output_type": "display_data"
    },
    {
     "data": {
      "application/vnd.jupyter.widget-view+json": {
       "model_id": "7a4b94430e3c4812b0b951209d04152f",
       "version_major": 2,
       "version_minor": 0
      },
      "text/html": [
       "<p>Failed to display Jupyter Widget of type <code>HBox</code>.</p>\n",
       "<p>\n",
       "  If you're reading this message in the Jupyter Notebook or JupyterLab Notebook, it may mean\n",
       "  that the widgets JavaScript is still loading. If this message persists, it\n",
       "  likely means that the widgets JavaScript library is either not installed or\n",
       "  not enabled. See the <a href=\"https://ipywidgets.readthedocs.io/en/stable/user_install.html\">Jupyter\n",
       "  Widgets Documentation</a> for setup instructions.\n",
       "</p>\n",
       "<p>\n",
       "  If you're reading this message in another frontend (for example, a static\n",
       "  rendering on GitHub or <a href=\"https://nbviewer.jupyter.org/\">NBViewer</a>),\n",
       "  it may mean that your frontend doesn't currently support widgets.\n",
       "</p>\n"
      ],
      "text/plain": [
       "HBox(children=(IntProgress(value=0, max=58), HTML(value='')))"
      ]
     },
     "metadata": {},
     "output_type": "display_data"
    },
    {
     "data": {
      "application/vnd.jupyter.widget-view+json": {
       "model_id": "82a13f24d21c409f9ee1b6bfc67b1894",
       "version_major": 2,
       "version_minor": 0
      },
      "text/html": [
       "<p>Failed to display Jupyter Widget of type <code>HBox</code>.</p>\n",
       "<p>\n",
       "  If you're reading this message in the Jupyter Notebook or JupyterLab Notebook, it may mean\n",
       "  that the widgets JavaScript is still loading. If this message persists, it\n",
       "  likely means that the widgets JavaScript library is either not installed or\n",
       "  not enabled. See the <a href=\"https://ipywidgets.readthedocs.io/en/stable/user_install.html\">Jupyter\n",
       "  Widgets Documentation</a> for setup instructions.\n",
       "</p>\n",
       "<p>\n",
       "  If you're reading this message in another frontend (for example, a static\n",
       "  rendering on GitHub or <a href=\"https://nbviewer.jupyter.org/\">NBViewer</a>),\n",
       "  it may mean that your frontend doesn't currently support widgets.\n",
       "</p>\n"
      ],
      "text/plain": [
       "HBox(children=(IntProgress(value=0, max=48), HTML(value='')))"
      ]
     },
     "metadata": {},
     "output_type": "display_data"
    },
    {
     "data": {
      "application/vnd.jupyter.widget-view+json": {
       "model_id": "cdcc8f0ff2ea45469da23971317ad238",
       "version_major": 2,
       "version_minor": 0
      },
      "text/html": [
       "<p>Failed to display Jupyter Widget of type <code>HBox</code>.</p>\n",
       "<p>\n",
       "  If you're reading this message in the Jupyter Notebook or JupyterLab Notebook, it may mean\n",
       "  that the widgets JavaScript is still loading. If this message persists, it\n",
       "  likely means that the widgets JavaScript library is either not installed or\n",
       "  not enabled. See the <a href=\"https://ipywidgets.readthedocs.io/en/stable/user_install.html\">Jupyter\n",
       "  Widgets Documentation</a> for setup instructions.\n",
       "</p>\n",
       "<p>\n",
       "  If you're reading this message in another frontend (for example, a static\n",
       "  rendering on GitHub or <a href=\"https://nbviewer.jupyter.org/\">NBViewer</a>),\n",
       "  it may mean that your frontend doesn't currently support widgets.\n",
       "</p>\n"
      ],
      "text/plain": [
       "HBox(children=(IntProgress(value=0, max=117), HTML(value='')))"
      ]
     },
     "metadata": {},
     "output_type": "display_data"
    },
    {
     "data": {
      "application/vnd.jupyter.widget-view+json": {
       "model_id": "0391e1461fb344adab0039697efb6204",
       "version_major": 2,
       "version_minor": 0
      },
      "text/html": [
       "<p>Failed to display Jupyter Widget of type <code>HBox</code>.</p>\n",
       "<p>\n",
       "  If you're reading this message in the Jupyter Notebook or JupyterLab Notebook, it may mean\n",
       "  that the widgets JavaScript is still loading. If this message persists, it\n",
       "  likely means that the widgets JavaScript library is either not installed or\n",
       "  not enabled. See the <a href=\"https://ipywidgets.readthedocs.io/en/stable/user_install.html\">Jupyter\n",
       "  Widgets Documentation</a> for setup instructions.\n",
       "</p>\n",
       "<p>\n",
       "  If you're reading this message in another frontend (for example, a static\n",
       "  rendering on GitHub or <a href=\"https://nbviewer.jupyter.org/\">NBViewer</a>),\n",
       "  it may mean that your frontend doesn't currently support widgets.\n",
       "</p>\n"
      ],
      "text/plain": [
       "HBox(children=(IntProgress(value=0, max=81), HTML(value='')))"
      ]
     },
     "metadata": {},
     "output_type": "display_data"
    },
    {
     "data": {
      "application/vnd.jupyter.widget-view+json": {
       "model_id": "f9c178caa49248d794e965e5d99dddb4",
       "version_major": 2,
       "version_minor": 0
      },
      "text/html": [
       "<p>Failed to display Jupyter Widget of type <code>HBox</code>.</p>\n",
       "<p>\n",
       "  If you're reading this message in the Jupyter Notebook or JupyterLab Notebook, it may mean\n",
       "  that the widgets JavaScript is still loading. If this message persists, it\n",
       "  likely means that the widgets JavaScript library is either not installed or\n",
       "  not enabled. See the <a href=\"https://ipywidgets.readthedocs.io/en/stable/user_install.html\">Jupyter\n",
       "  Widgets Documentation</a> for setup instructions.\n",
       "</p>\n",
       "<p>\n",
       "  If you're reading this message in another frontend (for example, a static\n",
       "  rendering on GitHub or <a href=\"https://nbviewer.jupyter.org/\">NBViewer</a>),\n",
       "  it may mean that your frontend doesn't currently support widgets.\n",
       "</p>\n"
      ],
      "text/plain": [
       "HBox(children=(IntProgress(value=0, max=122), HTML(value='')))"
      ]
     },
     "metadata": {},
     "output_type": "display_data"
    },
    {
     "data": {
      "application/vnd.jupyter.widget-view+json": {
       "model_id": "272886739e52497393d3351a35b35554",
       "version_major": 2,
       "version_minor": 0
      },
      "text/html": [
       "<p>Failed to display Jupyter Widget of type <code>HBox</code>.</p>\n",
       "<p>\n",
       "  If you're reading this message in the Jupyter Notebook or JupyterLab Notebook, it may mean\n",
       "  that the widgets JavaScript is still loading. If this message persists, it\n",
       "  likely means that the widgets JavaScript library is either not installed or\n",
       "  not enabled. See the <a href=\"https://ipywidgets.readthedocs.io/en/stable/user_install.html\">Jupyter\n",
       "  Widgets Documentation</a> for setup instructions.\n",
       "</p>\n",
       "<p>\n",
       "  If you're reading this message in another frontend (for example, a static\n",
       "  rendering on GitHub or <a href=\"https://nbviewer.jupyter.org/\">NBViewer</a>),\n",
       "  it may mean that your frontend doesn't currently support widgets.\n",
       "</p>\n"
      ],
      "text/plain": [
       "HBox(children=(IntProgress(value=0, max=109), HTML(value='')))"
      ]
     },
     "metadata": {},
     "output_type": "display_data"
    },
    {
     "data": {
      "application/vnd.jupyter.widget-view+json": {
       "model_id": "6496f375e607444b800545c4fcb31b5f",
       "version_major": 2,
       "version_minor": 0
      },
      "text/html": [
       "<p>Failed to display Jupyter Widget of type <code>HBox</code>.</p>\n",
       "<p>\n",
       "  If you're reading this message in the Jupyter Notebook or JupyterLab Notebook, it may mean\n",
       "  that the widgets JavaScript is still loading. If this message persists, it\n",
       "  likely means that the widgets JavaScript library is either not installed or\n",
       "  not enabled. See the <a href=\"https://ipywidgets.readthedocs.io/en/stable/user_install.html\">Jupyter\n",
       "  Widgets Documentation</a> for setup instructions.\n",
       "</p>\n",
       "<p>\n",
       "  If you're reading this message in another frontend (for example, a static\n",
       "  rendering on GitHub or <a href=\"https://nbviewer.jupyter.org/\">NBViewer</a>),\n",
       "  it may mean that your frontend doesn't currently support widgets.\n",
       "</p>\n"
      ],
      "text/plain": [
       "HBox(children=(IntProgress(value=0, max=119), HTML(value='')))"
      ]
     },
     "metadata": {},
     "output_type": "display_data"
    },
    {
     "data": {
      "application/vnd.jupyter.widget-view+json": {
       "model_id": "2b51d5d507ac4c4887ada13c499549a8",
       "version_major": 2,
       "version_minor": 0
      },
      "text/html": [
       "<p>Failed to display Jupyter Widget of type <code>HBox</code>.</p>\n",
       "<p>\n",
       "  If you're reading this message in the Jupyter Notebook or JupyterLab Notebook, it may mean\n",
       "  that the widgets JavaScript is still loading. If this message persists, it\n",
       "  likely means that the widgets JavaScript library is either not installed or\n",
       "  not enabled. See the <a href=\"https://ipywidgets.readthedocs.io/en/stable/user_install.html\">Jupyter\n",
       "  Widgets Documentation</a> for setup instructions.\n",
       "</p>\n",
       "<p>\n",
       "  If you're reading this message in another frontend (for example, a static\n",
       "  rendering on GitHub or <a href=\"https://nbviewer.jupyter.org/\">NBViewer</a>),\n",
       "  it may mean that your frontend doesn't currently support widgets.\n",
       "</p>\n"
      ],
      "text/plain": [
       "HBox(children=(IntProgress(value=0, max=67), HTML(value='')))"
      ]
     },
     "metadata": {},
     "output_type": "display_data"
    },
    {
     "name": "stdout",
     "output_type": "stream",
     "text": [
      "[8.92999645789168, 3.7155433667633178, 5.296725662015766, 0.8575995351827257]\n"
     ]
    },
    {
     "data": {
      "application/vnd.jupyter.widget-view+json": {
       "model_id": "7c3506050931489180cd5e1e0a8c0cfe",
       "version_major": 2,
       "version_minor": 0
      },
      "text/html": [
       "<p>Failed to display Jupyter Widget of type <code>HBox</code>.</p>\n",
       "<p>\n",
       "  If you're reading this message in the Jupyter Notebook or JupyterLab Notebook, it may mean\n",
       "  that the widgets JavaScript is still loading. If this message persists, it\n",
       "  likely means that the widgets JavaScript library is either not installed or\n",
       "  not enabled. See the <a href=\"https://ipywidgets.readthedocs.io/en/stable/user_install.html\">Jupyter\n",
       "  Widgets Documentation</a> for setup instructions.\n",
       "</p>\n",
       "<p>\n",
       "  If you're reading this message in another frontend (for example, a static\n",
       "  rendering on GitHub or <a href=\"https://nbviewer.jupyter.org/\">NBViewer</a>),\n",
       "  it may mean that your frontend doesn't currently support widgets.\n",
       "</p>\n"
      ],
      "text/plain": [
       "HBox(children=(IntProgress(value=0, max=34), HTML(value='')))"
      ]
     },
     "metadata": {},
     "output_type": "display_data"
    },
    {
     "data": {
      "application/vnd.jupyter.widget-view+json": {
       "model_id": "0b83bbfd55774de7a51f4ef2b57c9846",
       "version_major": 2,
       "version_minor": 0
      },
      "text/html": [
       "<p>Failed to display Jupyter Widget of type <code>HBox</code>.</p>\n",
       "<p>\n",
       "  If you're reading this message in the Jupyter Notebook or JupyterLab Notebook, it may mean\n",
       "  that the widgets JavaScript is still loading. If this message persists, it\n",
       "  likely means that the widgets JavaScript library is either not installed or\n",
       "  not enabled. See the <a href=\"https://ipywidgets.readthedocs.io/en/stable/user_install.html\">Jupyter\n",
       "  Widgets Documentation</a> for setup instructions.\n",
       "</p>\n",
       "<p>\n",
       "  If you're reading this message in another frontend (for example, a static\n",
       "  rendering on GitHub or <a href=\"https://nbviewer.jupyter.org/\">NBViewer</a>),\n",
       "  it may mean that your frontend doesn't currently support widgets.\n",
       "</p>\n"
      ],
      "text/plain": [
       "HBox(children=(IntProgress(value=0, max=62), HTML(value='')))"
      ]
     },
     "metadata": {},
     "output_type": "display_data"
    },
    {
     "data": {
      "application/vnd.jupyter.widget-view+json": {
       "model_id": "dbe7b3c0cafb45608295ed58ffc82d10",
       "version_major": 2,
       "version_minor": 0
      },
      "text/html": [
       "<p>Failed to display Jupyter Widget of type <code>HBox</code>.</p>\n",
       "<p>\n",
       "  If you're reading this message in the Jupyter Notebook or JupyterLab Notebook, it may mean\n",
       "  that the widgets JavaScript is still loading. If this message persists, it\n",
       "  likely means that the widgets JavaScript library is either not installed or\n",
       "  not enabled. See the <a href=\"https://ipywidgets.readthedocs.io/en/stable/user_install.html\">Jupyter\n",
       "  Widgets Documentation</a> for setup instructions.\n",
       "</p>\n",
       "<p>\n",
       "  If you're reading this message in another frontend (for example, a static\n",
       "  rendering on GitHub or <a href=\"https://nbviewer.jupyter.org/\">NBViewer</a>),\n",
       "  it may mean that your frontend doesn't currently support widgets.\n",
       "</p>\n"
      ],
      "text/plain": [
       "HBox(children=(IntProgress(value=0, max=66), HTML(value='')))"
      ]
     },
     "metadata": {},
     "output_type": "display_data"
    },
    {
     "data": {
      "application/vnd.jupyter.widget-view+json": {
       "model_id": "85b54ebe30f5447abd4176afcc49573c",
       "version_major": 2,
       "version_minor": 0
      },
      "text/html": [
       "<p>Failed to display Jupyter Widget of type <code>HBox</code>.</p>\n",
       "<p>\n",
       "  If you're reading this message in the Jupyter Notebook or JupyterLab Notebook, it may mean\n",
       "  that the widgets JavaScript is still loading. If this message persists, it\n",
       "  likely means that the widgets JavaScript library is either not installed or\n",
       "  not enabled. See the <a href=\"https://ipywidgets.readthedocs.io/en/stable/user_install.html\">Jupyter\n",
       "  Widgets Documentation</a> for setup instructions.\n",
       "</p>\n",
       "<p>\n",
       "  If you're reading this message in another frontend (for example, a static\n",
       "  rendering on GitHub or <a href=\"https://nbviewer.jupyter.org/\">NBViewer</a>),\n",
       "  it may mean that your frontend doesn't currently support widgets.\n",
       "</p>\n"
      ],
      "text/plain": [
       "HBox(children=(IntProgress(value=0, max=55), HTML(value='')))"
      ]
     },
     "metadata": {},
     "output_type": "display_data"
    },
    {
     "data": {
      "application/vnd.jupyter.widget-view+json": {
       "model_id": "a23e2d083e294c7cae4d64b21d8541b7",
       "version_major": 2,
       "version_minor": 0
      },
      "text/html": [
       "<p>Failed to display Jupyter Widget of type <code>HBox</code>.</p>\n",
       "<p>\n",
       "  If you're reading this message in the Jupyter Notebook or JupyterLab Notebook, it may mean\n",
       "  that the widgets JavaScript is still loading. If this message persists, it\n",
       "  likely means that the widgets JavaScript library is either not installed or\n",
       "  not enabled. See the <a href=\"https://ipywidgets.readthedocs.io/en/stable/user_install.html\">Jupyter\n",
       "  Widgets Documentation</a> for setup instructions.\n",
       "</p>\n",
       "<p>\n",
       "  If you're reading this message in another frontend (for example, a static\n",
       "  rendering on GitHub or <a href=\"https://nbviewer.jupyter.org/\">NBViewer</a>),\n",
       "  it may mean that your frontend doesn't currently support widgets.\n",
       "</p>\n"
      ],
      "text/plain": [
       "HBox(children=(IntProgress(value=0, max=64), HTML(value='')))"
      ]
     },
     "metadata": {},
     "output_type": "display_data"
    },
    {
     "data": {
      "application/vnd.jupyter.widget-view+json": {
       "model_id": "b21e17f71fa44687ae35cb6a40f5092c",
       "version_major": 2,
       "version_minor": 0
      },
      "text/html": [
       "<p>Failed to display Jupyter Widget of type <code>HBox</code>.</p>\n",
       "<p>\n",
       "  If you're reading this message in the Jupyter Notebook or JupyterLab Notebook, it may mean\n",
       "  that the widgets JavaScript is still loading. If this message persists, it\n",
       "  likely means that the widgets JavaScript library is either not installed or\n",
       "  not enabled. See the <a href=\"https://ipywidgets.readthedocs.io/en/stable/user_install.html\">Jupyter\n",
       "  Widgets Documentation</a> for setup instructions.\n",
       "</p>\n",
       "<p>\n",
       "  If you're reading this message in another frontend (for example, a static\n",
       "  rendering on GitHub or <a href=\"https://nbviewer.jupyter.org/\">NBViewer</a>),\n",
       "  it may mean that your frontend doesn't currently support widgets.\n",
       "</p>\n"
      ],
      "text/plain": [
       "HBox(children=(IntProgress(value=0, max=111), HTML(value='')))"
      ]
     },
     "metadata": {},
     "output_type": "display_data"
    },
    {
     "data": {
      "application/vnd.jupyter.widget-view+json": {
       "model_id": "7639614f261642fa81d980b4326c090f",
       "version_major": 2,
       "version_minor": 0
      },
      "text/html": [
       "<p>Failed to display Jupyter Widget of type <code>HBox</code>.</p>\n",
       "<p>\n",
       "  If you're reading this message in the Jupyter Notebook or JupyterLab Notebook, it may mean\n",
       "  that the widgets JavaScript is still loading. If this message persists, it\n",
       "  likely means that the widgets JavaScript library is either not installed or\n",
       "  not enabled. See the <a href=\"https://ipywidgets.readthedocs.io/en/stable/user_install.html\">Jupyter\n",
       "  Widgets Documentation</a> for setup instructions.\n",
       "</p>\n",
       "<p>\n",
       "  If you're reading this message in another frontend (for example, a static\n",
       "  rendering on GitHub or <a href=\"https://nbviewer.jupyter.org/\">NBViewer</a>),\n",
       "  it may mean that your frontend doesn't currently support widgets.\n",
       "</p>\n"
      ],
      "text/plain": [
       "HBox(children=(IntProgress(value=0, max=78), HTML(value='')))"
      ]
     },
     "metadata": {},
     "output_type": "display_data"
    },
    {
     "data": {
      "application/vnd.jupyter.widget-view+json": {
       "model_id": "30d828337a7444689c455d508b62e489",
       "version_major": 2,
       "version_minor": 0
      },
      "text/html": [
       "<p>Failed to display Jupyter Widget of type <code>HBox</code>.</p>\n",
       "<p>\n",
       "  If you're reading this message in the Jupyter Notebook or JupyterLab Notebook, it may mean\n",
       "  that the widgets JavaScript is still loading. If this message persists, it\n",
       "  likely means that the widgets JavaScript library is either not installed or\n",
       "  not enabled. See the <a href=\"https://ipywidgets.readthedocs.io/en/stable/user_install.html\">Jupyter\n",
       "  Widgets Documentation</a> for setup instructions.\n",
       "</p>\n",
       "<p>\n",
       "  If you're reading this message in another frontend (for example, a static\n",
       "  rendering on GitHub or <a href=\"https://nbviewer.jupyter.org/\">NBViewer</a>),\n",
       "  it may mean that your frontend doesn't currently support widgets.\n",
       "</p>\n"
      ],
      "text/plain": [
       "HBox(children=(IntProgress(value=0, max=153), HTML(value='')))"
      ]
     },
     "metadata": {},
     "output_type": "display_data"
    },
    {
     "data": {
      "application/vnd.jupyter.widget-view+json": {
       "model_id": "818a89dc11914500a281bc61c873128b",
       "version_major": 2,
       "version_minor": 0
      },
      "text/html": [
       "<p>Failed to display Jupyter Widget of type <code>HBox</code>.</p>\n",
       "<p>\n",
       "  If you're reading this message in the Jupyter Notebook or JupyterLab Notebook, it may mean\n",
       "  that the widgets JavaScript is still loading. If this message persists, it\n",
       "  likely means that the widgets JavaScript library is either not installed or\n",
       "  not enabled. See the <a href=\"https://ipywidgets.readthedocs.io/en/stable/user_install.html\">Jupyter\n",
       "  Widgets Documentation</a> for setup instructions.\n",
       "</p>\n",
       "<p>\n",
       "  If you're reading this message in another frontend (for example, a static\n",
       "  rendering on GitHub or <a href=\"https://nbviewer.jupyter.org/\">NBViewer</a>),\n",
       "  it may mean that your frontend doesn't currently support widgets.\n",
       "</p>\n"
      ],
      "text/plain": [
       "HBox(children=(IntProgress(value=0, max=94), HTML(value='')))"
      ]
     },
     "metadata": {},
     "output_type": "display_data"
    },
    {
     "data": {
      "application/vnd.jupyter.widget-view+json": {
       "model_id": "28258aca3bd1480fab95f968c5998163",
       "version_major": 2,
       "version_minor": 0
      },
      "text/html": [
       "<p>Failed to display Jupyter Widget of type <code>HBox</code>.</p>\n",
       "<p>\n",
       "  If you're reading this message in the Jupyter Notebook or JupyterLab Notebook, it may mean\n",
       "  that the widgets JavaScript is still loading. If this message persists, it\n",
       "  likely means that the widgets JavaScript library is either not installed or\n",
       "  not enabled. See the <a href=\"https://ipywidgets.readthedocs.io/en/stable/user_install.html\">Jupyter\n",
       "  Widgets Documentation</a> for setup instructions.\n",
       "</p>\n",
       "<p>\n",
       "  If you're reading this message in another frontend (for example, a static\n",
       "  rendering on GitHub or <a href=\"https://nbviewer.jupyter.org/\">NBViewer</a>),\n",
       "  it may mean that your frontend doesn't currently support widgets.\n",
       "</p>\n"
      ],
      "text/plain": [
       "HBox(children=(IntProgress(value=0, max=45), HTML(value='')))"
      ]
     },
     "metadata": {},
     "output_type": "display_data"
    },
    {
     "data": {
      "application/vnd.jupyter.widget-view+json": {
       "model_id": "8662012063b34db0af66791321ab5369",
       "version_major": 2,
       "version_minor": 0
      },
      "text/html": [
       "<p>Failed to display Jupyter Widget of type <code>HBox</code>.</p>\n",
       "<p>\n",
       "  If you're reading this message in the Jupyter Notebook or JupyterLab Notebook, it may mean\n",
       "  that the widgets JavaScript is still loading. If this message persists, it\n",
       "  likely means that the widgets JavaScript library is either not installed or\n",
       "  not enabled. See the <a href=\"https://ipywidgets.readthedocs.io/en/stable/user_install.html\">Jupyter\n",
       "  Widgets Documentation</a> for setup instructions.\n",
       "</p>\n",
       "<p>\n",
       "  If you're reading this message in another frontend (for example, a static\n",
       "  rendering on GitHub or <a href=\"https://nbviewer.jupyter.org/\">NBViewer</a>),\n",
       "  it may mean that your frontend doesn't currently support widgets.\n",
       "</p>\n"
      ],
      "text/plain": [
       "HBox(children=(IntProgress(value=0, max=69), HTML(value='')))"
      ]
     },
     "metadata": {},
     "output_type": "display_data"
    },
    {
     "data": {
      "application/vnd.jupyter.widget-view+json": {
       "model_id": "77d7becc3c8c4b6da8752ac1fb13c05c",
       "version_major": 2,
       "version_minor": 0
      },
      "text/html": [
       "<p>Failed to display Jupyter Widget of type <code>HBox</code>.</p>\n",
       "<p>\n",
       "  If you're reading this message in the Jupyter Notebook or JupyterLab Notebook, it may mean\n",
       "  that the widgets JavaScript is still loading. If this message persists, it\n",
       "  likely means that the widgets JavaScript library is either not installed or\n",
       "  not enabled. See the <a href=\"https://ipywidgets.readthedocs.io/en/stable/user_install.html\">Jupyter\n",
       "  Widgets Documentation</a> for setup instructions.\n",
       "</p>\n",
       "<p>\n",
       "  If you're reading this message in another frontend (for example, a static\n",
       "  rendering on GitHub or <a href=\"https://nbviewer.jupyter.org/\">NBViewer</a>),\n",
       "  it may mean that your frontend doesn't currently support widgets.\n",
       "</p>\n"
      ],
      "text/plain": [
       "HBox(children=(IntProgress(value=0, max=123), HTML(value='')))"
      ]
     },
     "metadata": {},
     "output_type": "display_data"
    },
    {
     "data": {
      "application/vnd.jupyter.widget-view+json": {
       "model_id": "7608afb393474c9882ff077c1e697e54",
       "version_major": 2,
       "version_minor": 0
      },
      "text/html": [
       "<p>Failed to display Jupyter Widget of type <code>HBox</code>.</p>\n",
       "<p>\n",
       "  If you're reading this message in the Jupyter Notebook or JupyterLab Notebook, it may mean\n",
       "  that the widgets JavaScript is still loading. If this message persists, it\n",
       "  likely means that the widgets JavaScript library is either not installed or\n",
       "  not enabled. See the <a href=\"https://ipywidgets.readthedocs.io/en/stable/user_install.html\">Jupyter\n",
       "  Widgets Documentation</a> for setup instructions.\n",
       "</p>\n",
       "<p>\n",
       "  If you're reading this message in another frontend (for example, a static\n",
       "  rendering on GitHub or <a href=\"https://nbviewer.jupyter.org/\">NBViewer</a>),\n",
       "  it may mean that your frontend doesn't currently support widgets.\n",
       "</p>\n"
      ],
      "text/plain": [
       "HBox(children=(IntProgress(value=0, max=133), HTML(value='')))"
      ]
     },
     "metadata": {},
     "output_type": "display_data"
    },
    {
     "data": {
      "application/vnd.jupyter.widget-view+json": {
       "model_id": "05f99a67d7bf455a9690556715968471",
       "version_major": 2,
       "version_minor": 0
      },
      "text/html": [
       "<p>Failed to display Jupyter Widget of type <code>HBox</code>.</p>\n",
       "<p>\n",
       "  If you're reading this message in the Jupyter Notebook or JupyterLab Notebook, it may mean\n",
       "  that the widgets JavaScript is still loading. If this message persists, it\n",
       "  likely means that the widgets JavaScript library is either not installed or\n",
       "  not enabled. See the <a href=\"https://ipywidgets.readthedocs.io/en/stable/user_install.html\">Jupyter\n",
       "  Widgets Documentation</a> for setup instructions.\n",
       "</p>\n",
       "<p>\n",
       "  If you're reading this message in another frontend (for example, a static\n",
       "  rendering on GitHub or <a href=\"https://nbviewer.jupyter.org/\">NBViewer</a>),\n",
       "  it may mean that your frontend doesn't currently support widgets.\n",
       "</p>\n"
      ],
      "text/plain": [
       "HBox(children=(IntProgress(value=0, max=46), HTML(value='')))"
      ]
     },
     "metadata": {},
     "output_type": "display_data"
    },
    {
     "data": {
      "application/vnd.jupyter.widget-view+json": {
       "model_id": "dcc981805c7142bd8a2b49da7e910c32",
       "version_major": 2,
       "version_minor": 0
      },
      "text/html": [
       "<p>Failed to display Jupyter Widget of type <code>HBox</code>.</p>\n",
       "<p>\n",
       "  If you're reading this message in the Jupyter Notebook or JupyterLab Notebook, it may mean\n",
       "  that the widgets JavaScript is still loading. If this message persists, it\n",
       "  likely means that the widgets JavaScript library is either not installed or\n",
       "  not enabled. See the <a href=\"https://ipywidgets.readthedocs.io/en/stable/user_install.html\">Jupyter\n",
       "  Widgets Documentation</a> for setup instructions.\n",
       "</p>\n",
       "<p>\n",
       "  If you're reading this message in another frontend (for example, a static\n",
       "  rendering on GitHub or <a href=\"https://nbviewer.jupyter.org/\">NBViewer</a>),\n",
       "  it may mean that your frontend doesn't currently support widgets.\n",
       "</p>\n"
      ],
      "text/plain": [
       "HBox(children=(IntProgress(value=0, max=48), HTML(value='')))"
      ]
     },
     "metadata": {},
     "output_type": "display_data"
    },
    {
     "data": {
      "application/vnd.jupyter.widget-view+json": {
       "model_id": "8b106ae5132c4c5a99fa264c4e385a98",
       "version_major": 2,
       "version_minor": 0
      },
      "text/html": [
       "<p>Failed to display Jupyter Widget of type <code>HBox</code>.</p>\n",
       "<p>\n",
       "  If you're reading this message in the Jupyter Notebook or JupyterLab Notebook, it may mean\n",
       "  that the widgets JavaScript is still loading. If this message persists, it\n",
       "  likely means that the widgets JavaScript library is either not installed or\n",
       "  not enabled. See the <a href=\"https://ipywidgets.readthedocs.io/en/stable/user_install.html\">Jupyter\n",
       "  Widgets Documentation</a> for setup instructions.\n",
       "</p>\n",
       "<p>\n",
       "  If you're reading this message in another frontend (for example, a static\n",
       "  rendering on GitHub or <a href=\"https://nbviewer.jupyter.org/\">NBViewer</a>),\n",
       "  it may mean that your frontend doesn't currently support widgets.\n",
       "</p>\n"
      ],
      "text/plain": [
       "HBox(children=(IntProgress(value=0, max=49), HTML(value='')))"
      ]
     },
     "metadata": {},
     "output_type": "display_data"
    },
    {
     "data": {
      "application/vnd.jupyter.widget-view+json": {
       "model_id": "2e09808a856644ddb728912311d46f7d",
       "version_major": 2,
       "version_minor": 0
      },
      "text/html": [
       "<p>Failed to display Jupyter Widget of type <code>HBox</code>.</p>\n",
       "<p>\n",
       "  If you're reading this message in the Jupyter Notebook or JupyterLab Notebook, it may mean\n",
       "  that the widgets JavaScript is still loading. If this message persists, it\n",
       "  likely means that the widgets JavaScript library is either not installed or\n",
       "  not enabled. See the <a href=\"https://ipywidgets.readthedocs.io/en/stable/user_install.html\">Jupyter\n",
       "  Widgets Documentation</a> for setup instructions.\n",
       "</p>\n",
       "<p>\n",
       "  If you're reading this message in another frontend (for example, a static\n",
       "  rendering on GitHub or <a href=\"https://nbviewer.jupyter.org/\">NBViewer</a>),\n",
       "  it may mean that your frontend doesn't currently support widgets.\n",
       "</p>\n"
      ],
      "text/plain": [
       "HBox(children=(IntProgress(value=0, max=83), HTML(value='')))"
      ]
     },
     "metadata": {},
     "output_type": "display_data"
    },
    {
     "data": {
      "application/vnd.jupyter.widget-view+json": {
       "model_id": "540f998fae8242e8b1d6a1452ae2133f",
       "version_major": 2,
       "version_minor": 0
      },
      "text/html": [
       "<p>Failed to display Jupyter Widget of type <code>HBox</code>.</p>\n",
       "<p>\n",
       "  If you're reading this message in the Jupyter Notebook or JupyterLab Notebook, it may mean\n",
       "  that the widgets JavaScript is still loading. If this message persists, it\n",
       "  likely means that the widgets JavaScript library is either not installed or\n",
       "  not enabled. See the <a href=\"https://ipywidgets.readthedocs.io/en/stable/user_install.html\">Jupyter\n",
       "  Widgets Documentation</a> for setup instructions.\n",
       "</p>\n",
       "<p>\n",
       "  If you're reading this message in another frontend (for example, a static\n",
       "  rendering on GitHub or <a href=\"https://nbviewer.jupyter.org/\">NBViewer</a>),\n",
       "  it may mean that your frontend doesn't currently support widgets.\n",
       "</p>\n"
      ],
      "text/plain": [
       "HBox(children=(IntProgress(value=0, max=108), HTML(value='')))"
      ]
     },
     "metadata": {},
     "output_type": "display_data"
    },
    {
     "data": {
      "application/vnd.jupyter.widget-view+json": {
       "model_id": "59e7cdb182c34ccb99084e0dc1e59ee4",
       "version_major": 2,
       "version_minor": 0
      },
      "text/html": [
       "<p>Failed to display Jupyter Widget of type <code>HBox</code>.</p>\n",
       "<p>\n",
       "  If you're reading this message in the Jupyter Notebook or JupyterLab Notebook, it may mean\n",
       "  that the widgets JavaScript is still loading. If this message persists, it\n",
       "  likely means that the widgets JavaScript library is either not installed or\n",
       "  not enabled. See the <a href=\"https://ipywidgets.readthedocs.io/en/stable/user_install.html\">Jupyter\n",
       "  Widgets Documentation</a> for setup instructions.\n",
       "</p>\n",
       "<p>\n",
       "  If you're reading this message in another frontend (for example, a static\n",
       "  rendering on GitHub or <a href=\"https://nbviewer.jupyter.org/\">NBViewer</a>),\n",
       "  it may mean that your frontend doesn't currently support widgets.\n",
       "</p>\n"
      ],
      "text/plain": [
       "HBox(children=(IntProgress(value=0, max=78), HTML(value='')))"
      ]
     },
     "metadata": {},
     "output_type": "display_data"
    },
    {
     "data": {
      "application/vnd.jupyter.widget-view+json": {
       "model_id": "130b699a8abb4773b7a72c72b0233749",
       "version_major": 2,
       "version_minor": 0
      },
      "text/html": [
       "<p>Failed to display Jupyter Widget of type <code>HBox</code>.</p>\n",
       "<p>\n",
       "  If you're reading this message in the Jupyter Notebook or JupyterLab Notebook, it may mean\n",
       "  that the widgets JavaScript is still loading. If this message persists, it\n",
       "  likely means that the widgets JavaScript library is either not installed or\n",
       "  not enabled. See the <a href=\"https://ipywidgets.readthedocs.io/en/stable/user_install.html\">Jupyter\n",
       "  Widgets Documentation</a> for setup instructions.\n",
       "</p>\n",
       "<p>\n",
       "  If you're reading this message in another frontend (for example, a static\n",
       "  rendering on GitHub or <a href=\"https://nbviewer.jupyter.org/\">NBViewer</a>),\n",
       "  it may mean that your frontend doesn't currently support widgets.\n",
       "</p>\n"
      ],
      "text/plain": [
       "HBox(children=(IntProgress(value=0, max=60), HTML(value='')))"
      ]
     },
     "metadata": {},
     "output_type": "display_data"
    },
    {
     "data": {
      "application/vnd.jupyter.widget-view+json": {
       "model_id": "9ffadcd2099c40ca95cb91a0baed98d7",
       "version_major": 2,
       "version_minor": 0
      },
      "text/html": [
       "<p>Failed to display Jupyter Widget of type <code>HBox</code>.</p>\n",
       "<p>\n",
       "  If you're reading this message in the Jupyter Notebook or JupyterLab Notebook, it may mean\n",
       "  that the widgets JavaScript is still loading. If this message persists, it\n",
       "  likely means that the widgets JavaScript library is either not installed or\n",
       "  not enabled. See the <a href=\"https://ipywidgets.readthedocs.io/en/stable/user_install.html\">Jupyter\n",
       "  Widgets Documentation</a> for setup instructions.\n",
       "</p>\n",
       "<p>\n",
       "  If you're reading this message in another frontend (for example, a static\n",
       "  rendering on GitHub or <a href=\"https://nbviewer.jupyter.org/\">NBViewer</a>),\n",
       "  it may mean that your frontend doesn't currently support widgets.\n",
       "</p>\n"
      ],
      "text/plain": [
       "HBox(children=(IntProgress(value=0, max=116), HTML(value='')))"
      ]
     },
     "metadata": {},
     "output_type": "display_data"
    },
    {
     "data": {
      "application/vnd.jupyter.widget-view+json": {
       "model_id": "b3f0df57cddc4b7593889dbb932eafe5",
       "version_major": 2,
       "version_minor": 0
      },
      "text/html": [
       "<p>Failed to display Jupyter Widget of type <code>HBox</code>.</p>\n",
       "<p>\n",
       "  If you're reading this message in the Jupyter Notebook or JupyterLab Notebook, it may mean\n",
       "  that the widgets JavaScript is still loading. If this message persists, it\n",
       "  likely means that the widgets JavaScript library is either not installed or\n",
       "  not enabled. See the <a href=\"https://ipywidgets.readthedocs.io/en/stable/user_install.html\">Jupyter\n",
       "  Widgets Documentation</a> for setup instructions.\n",
       "</p>\n",
       "<p>\n",
       "  If you're reading this message in another frontend (for example, a static\n",
       "  rendering on GitHub or <a href=\"https://nbviewer.jupyter.org/\">NBViewer</a>),\n",
       "  it may mean that your frontend doesn't currently support widgets.\n",
       "</p>\n"
      ],
      "text/plain": [
       "HBox(children=(IntProgress(value=0, max=67), HTML(value='')))"
      ]
     },
     "metadata": {},
     "output_type": "display_data"
    },
    {
     "data": {
      "application/vnd.jupyter.widget-view+json": {
       "model_id": "fbb5329ed7fe4a79b187a2b5cde9002e",
       "version_major": 2,
       "version_minor": 0
      },
      "text/html": [
       "<p>Failed to display Jupyter Widget of type <code>HBox</code>.</p>\n",
       "<p>\n",
       "  If you're reading this message in the Jupyter Notebook or JupyterLab Notebook, it may mean\n",
       "  that the widgets JavaScript is still loading. If this message persists, it\n",
       "  likely means that the widgets JavaScript library is either not installed or\n",
       "  not enabled. See the <a href=\"https://ipywidgets.readthedocs.io/en/stable/user_install.html\">Jupyter\n",
       "  Widgets Documentation</a> for setup instructions.\n",
       "</p>\n",
       "<p>\n",
       "  If you're reading this message in another frontend (for example, a static\n",
       "  rendering on GitHub or <a href=\"https://nbviewer.jupyter.org/\">NBViewer</a>),\n",
       "  it may mean that your frontend doesn't currently support widgets.\n",
       "</p>\n"
      ],
      "text/plain": [
       "HBox(children=(IntProgress(value=0, max=68), HTML(value='')))"
      ]
     },
     "metadata": {},
     "output_type": "display_data"
    },
    {
     "data": {
      "application/vnd.jupyter.widget-view+json": {
       "model_id": "a1516a2ca53d4336b8ae4cbec8f4d9f4",
       "version_major": 2,
       "version_minor": 0
      },
      "text/html": [
       "<p>Failed to display Jupyter Widget of type <code>HBox</code>.</p>\n",
       "<p>\n",
       "  If you're reading this message in the Jupyter Notebook or JupyterLab Notebook, it may mean\n",
       "  that the widgets JavaScript is still loading. If this message persists, it\n",
       "  likely means that the widgets JavaScript library is either not installed or\n",
       "  not enabled. See the <a href=\"https://ipywidgets.readthedocs.io/en/stable/user_install.html\">Jupyter\n",
       "  Widgets Documentation</a> for setup instructions.\n",
       "</p>\n",
       "<p>\n",
       "  If you're reading this message in another frontend (for example, a static\n",
       "  rendering on GitHub or <a href=\"https://nbviewer.jupyter.org/\">NBViewer</a>),\n",
       "  it may mean that your frontend doesn't currently support widgets.\n",
       "</p>\n"
      ],
      "text/plain": [
       "HBox(children=(IntProgress(value=0, max=81), HTML(value='')))"
      ]
     },
     "metadata": {},
     "output_type": "display_data"
    },
    {
     "data": {
      "application/vnd.jupyter.widget-view+json": {
       "model_id": "e623e10c3745495cae2b69d685041acc",
       "version_major": 2,
       "version_minor": 0
      },
      "text/html": [
       "<p>Failed to display Jupyter Widget of type <code>HBox</code>.</p>\n",
       "<p>\n",
       "  If you're reading this message in the Jupyter Notebook or JupyterLab Notebook, it may mean\n",
       "  that the widgets JavaScript is still loading. If this message persists, it\n",
       "  likely means that the widgets JavaScript library is either not installed or\n",
       "  not enabled. See the <a href=\"https://ipywidgets.readthedocs.io/en/stable/user_install.html\">Jupyter\n",
       "  Widgets Documentation</a> for setup instructions.\n",
       "</p>\n",
       "<p>\n",
       "  If you're reading this message in another frontend (for example, a static\n",
       "  rendering on GitHub or <a href=\"https://nbviewer.jupyter.org/\">NBViewer</a>),\n",
       "  it may mean that your frontend doesn't currently support widgets.\n",
       "</p>\n"
      ],
      "text/plain": [
       "HBox(children=(IntProgress(value=0, max=62), HTML(value='')))"
      ]
     },
     "metadata": {},
     "output_type": "display_data"
    },
    {
     "data": {
      "application/vnd.jupyter.widget-view+json": {
       "model_id": "57d2a8988ee3403d9d321f965d1ce31f",
       "version_major": 2,
       "version_minor": 0
      },
      "text/html": [
       "<p>Failed to display Jupyter Widget of type <code>HBox</code>.</p>\n",
       "<p>\n",
       "  If you're reading this message in the Jupyter Notebook or JupyterLab Notebook, it may mean\n",
       "  that the widgets JavaScript is still loading. If this message persists, it\n",
       "  likely means that the widgets JavaScript library is either not installed or\n",
       "  not enabled. See the <a href=\"https://ipywidgets.readthedocs.io/en/stable/user_install.html\">Jupyter\n",
       "  Widgets Documentation</a> for setup instructions.\n",
       "</p>\n",
       "<p>\n",
       "  If you're reading this message in another frontend (for example, a static\n",
       "  rendering on GitHub or <a href=\"https://nbviewer.jupyter.org/\">NBViewer</a>),\n",
       "  it may mean that your frontend doesn't currently support widgets.\n",
       "</p>\n"
      ],
      "text/plain": [
       "HBox(children=(IntProgress(value=0, max=109), HTML(value='')))"
      ]
     },
     "metadata": {},
     "output_type": "display_data"
    },
    {
     "data": {
      "application/vnd.jupyter.widget-view+json": {
       "model_id": "77c9792519df41fc8160b666c13f8b77",
       "version_major": 2,
       "version_minor": 0
      },
      "text/html": [
       "<p>Failed to display Jupyter Widget of type <code>HBox</code>.</p>\n",
       "<p>\n",
       "  If you're reading this message in the Jupyter Notebook or JupyterLab Notebook, it may mean\n",
       "  that the widgets JavaScript is still loading. If this message persists, it\n",
       "  likely means that the widgets JavaScript library is either not installed or\n",
       "  not enabled. See the <a href=\"https://ipywidgets.readthedocs.io/en/stable/user_install.html\">Jupyter\n",
       "  Widgets Documentation</a> for setup instructions.\n",
       "</p>\n",
       "<p>\n",
       "  If you're reading this message in another frontend (for example, a static\n",
       "  rendering on GitHub or <a href=\"https://nbviewer.jupyter.org/\">NBViewer</a>),\n",
       "  it may mean that your frontend doesn't currently support widgets.\n",
       "</p>\n"
      ],
      "text/plain": [
       "HBox(children=(IntProgress(value=0, max=137), HTML(value='')))"
      ]
     },
     "metadata": {},
     "output_type": "display_data"
    },
    {
     "data": {
      "application/vnd.jupyter.widget-view+json": {
       "model_id": "fd3a5c0941b24816b3bbff216e29d5e4",
       "version_major": 2,
       "version_minor": 0
      },
      "text/html": [
       "<p>Failed to display Jupyter Widget of type <code>HBox</code>.</p>\n",
       "<p>\n",
       "  If you're reading this message in the Jupyter Notebook or JupyterLab Notebook, it may mean\n",
       "  that the widgets JavaScript is still loading. If this message persists, it\n",
       "  likely means that the widgets JavaScript library is either not installed or\n",
       "  not enabled. See the <a href=\"https://ipywidgets.readthedocs.io/en/stable/user_install.html\">Jupyter\n",
       "  Widgets Documentation</a> for setup instructions.\n",
       "</p>\n",
       "<p>\n",
       "  If you're reading this message in another frontend (for example, a static\n",
       "  rendering on GitHub or <a href=\"https://nbviewer.jupyter.org/\">NBViewer</a>),\n",
       "  it may mean that your frontend doesn't currently support widgets.\n",
       "</p>\n"
      ],
      "text/plain": [
       "HBox(children=(IntProgress(value=0, max=58), HTML(value='')))"
      ]
     },
     "metadata": {},
     "output_type": "display_data"
    },
    {
     "data": {
      "application/vnd.jupyter.widget-view+json": {
       "model_id": "d3714ecaa70640e18a9a32764de876b4",
       "version_major": 2,
       "version_minor": 0
      },
      "text/html": [
       "<p>Failed to display Jupyter Widget of type <code>HBox</code>.</p>\n",
       "<p>\n",
       "  If you're reading this message in the Jupyter Notebook or JupyterLab Notebook, it may mean\n",
       "  that the widgets JavaScript is still loading. If this message persists, it\n",
       "  likely means that the widgets JavaScript library is either not installed or\n",
       "  not enabled. See the <a href=\"https://ipywidgets.readthedocs.io/en/stable/user_install.html\">Jupyter\n",
       "  Widgets Documentation</a> for setup instructions.\n",
       "</p>\n",
       "<p>\n",
       "  If you're reading this message in another frontend (for example, a static\n",
       "  rendering on GitHub or <a href=\"https://nbviewer.jupyter.org/\">NBViewer</a>),\n",
       "  it may mean that your frontend doesn't currently support widgets.\n",
       "</p>\n"
      ],
      "text/plain": [
       "HBox(children=(IntProgress(value=0, max=48), HTML(value='')))"
      ]
     },
     "metadata": {},
     "output_type": "display_data"
    },
    {
     "data": {
      "application/vnd.jupyter.widget-view+json": {
       "model_id": "6cfe6ff2d80b4d19869d94132399b1c6",
       "version_major": 2,
       "version_minor": 0
      },
      "text/html": [
       "<p>Failed to display Jupyter Widget of type <code>HBox</code>.</p>\n",
       "<p>\n",
       "  If you're reading this message in the Jupyter Notebook or JupyterLab Notebook, it may mean\n",
       "  that the widgets JavaScript is still loading. If this message persists, it\n",
       "  likely means that the widgets JavaScript library is either not installed or\n",
       "  not enabled. See the <a href=\"https://ipywidgets.readthedocs.io/en/stable/user_install.html\">Jupyter\n",
       "  Widgets Documentation</a> for setup instructions.\n",
       "</p>\n",
       "<p>\n",
       "  If you're reading this message in another frontend (for example, a static\n",
       "  rendering on GitHub or <a href=\"https://nbviewer.jupyter.org/\">NBViewer</a>),\n",
       "  it may mean that your frontend doesn't currently support widgets.\n",
       "</p>\n"
      ],
      "text/plain": [
       "HBox(children=(IntProgress(value=0, max=117), HTML(value='')))"
      ]
     },
     "metadata": {},
     "output_type": "display_data"
    },
    {
     "data": {
      "application/vnd.jupyter.widget-view+json": {
       "model_id": "607821da511543c8b52cd787394d6fb3",
       "version_major": 2,
       "version_minor": 0
      },
      "text/html": [
       "<p>Failed to display Jupyter Widget of type <code>HBox</code>.</p>\n",
       "<p>\n",
       "  If you're reading this message in the Jupyter Notebook or JupyterLab Notebook, it may mean\n",
       "  that the widgets JavaScript is still loading. If this message persists, it\n",
       "  likely means that the widgets JavaScript library is either not installed or\n",
       "  not enabled. See the <a href=\"https://ipywidgets.readthedocs.io/en/stable/user_install.html\">Jupyter\n",
       "  Widgets Documentation</a> for setup instructions.\n",
       "</p>\n",
       "<p>\n",
       "  If you're reading this message in another frontend (for example, a static\n",
       "  rendering on GitHub or <a href=\"https://nbviewer.jupyter.org/\">NBViewer</a>),\n",
       "  it may mean that your frontend doesn't currently support widgets.\n",
       "</p>\n"
      ],
      "text/plain": [
       "HBox(children=(IntProgress(value=0, max=81), HTML(value='')))"
      ]
     },
     "metadata": {},
     "output_type": "display_data"
    },
    {
     "data": {
      "application/vnd.jupyter.widget-view+json": {
       "model_id": "aba96106694749d1ad9f0bad719149b9",
       "version_major": 2,
       "version_minor": 0
      },
      "text/html": [
       "<p>Failed to display Jupyter Widget of type <code>HBox</code>.</p>\n",
       "<p>\n",
       "  If you're reading this message in the Jupyter Notebook or JupyterLab Notebook, it may mean\n",
       "  that the widgets JavaScript is still loading. If this message persists, it\n",
       "  likely means that the widgets JavaScript library is either not installed or\n",
       "  not enabled. See the <a href=\"https://ipywidgets.readthedocs.io/en/stable/user_install.html\">Jupyter\n",
       "  Widgets Documentation</a> for setup instructions.\n",
       "</p>\n",
       "<p>\n",
       "  If you're reading this message in another frontend (for example, a static\n",
       "  rendering on GitHub or <a href=\"https://nbviewer.jupyter.org/\">NBViewer</a>),\n",
       "  it may mean that your frontend doesn't currently support widgets.\n",
       "</p>\n"
      ],
      "text/plain": [
       "HBox(children=(IntProgress(value=0, max=122), HTML(value='')))"
      ]
     },
     "metadata": {},
     "output_type": "display_data"
    },
    {
     "data": {
      "application/vnd.jupyter.widget-view+json": {
       "model_id": "7a7354e3b889493ea660c47187a98b66",
       "version_major": 2,
       "version_minor": 0
      },
      "text/html": [
       "<p>Failed to display Jupyter Widget of type <code>HBox</code>.</p>\n",
       "<p>\n",
       "  If you're reading this message in the Jupyter Notebook or JupyterLab Notebook, it may mean\n",
       "  that the widgets JavaScript is still loading. If this message persists, it\n",
       "  likely means that the widgets JavaScript library is either not installed or\n",
       "  not enabled. See the <a href=\"https://ipywidgets.readthedocs.io/en/stable/user_install.html\">Jupyter\n",
       "  Widgets Documentation</a> for setup instructions.\n",
       "</p>\n",
       "<p>\n",
       "  If you're reading this message in another frontend (for example, a static\n",
       "  rendering on GitHub or <a href=\"https://nbviewer.jupyter.org/\">NBViewer</a>),\n",
       "  it may mean that your frontend doesn't currently support widgets.\n",
       "</p>\n"
      ],
      "text/plain": [
       "HBox(children=(IntProgress(value=0, max=109), HTML(value='')))"
      ]
     },
     "metadata": {},
     "output_type": "display_data"
    },
    {
     "data": {
      "application/vnd.jupyter.widget-view+json": {
       "model_id": "09781f08d13c4b55ab4a6273397c2fdc",
       "version_major": 2,
       "version_minor": 0
      },
      "text/html": [
       "<p>Failed to display Jupyter Widget of type <code>HBox</code>.</p>\n",
       "<p>\n",
       "  If you're reading this message in the Jupyter Notebook or JupyterLab Notebook, it may mean\n",
       "  that the widgets JavaScript is still loading. If this message persists, it\n",
       "  likely means that the widgets JavaScript library is either not installed or\n",
       "  not enabled. See the <a href=\"https://ipywidgets.readthedocs.io/en/stable/user_install.html\">Jupyter\n",
       "  Widgets Documentation</a> for setup instructions.\n",
       "</p>\n",
       "<p>\n",
       "  If you're reading this message in another frontend (for example, a static\n",
       "  rendering on GitHub or <a href=\"https://nbviewer.jupyter.org/\">NBViewer</a>),\n",
       "  it may mean that your frontend doesn't currently support widgets.\n",
       "</p>\n"
      ],
      "text/plain": [
       "HBox(children=(IntProgress(value=0, max=119), HTML(value='')))"
      ]
     },
     "metadata": {},
     "output_type": "display_data"
    },
    {
     "data": {
      "application/vnd.jupyter.widget-view+json": {
       "model_id": "97bf3149e31d4a149c4bc2d5b2e608f4",
       "version_major": 2,
       "version_minor": 0
      },
      "text/html": [
       "<p>Failed to display Jupyter Widget of type <code>HBox</code>.</p>\n",
       "<p>\n",
       "  If you're reading this message in the Jupyter Notebook or JupyterLab Notebook, it may mean\n",
       "  that the widgets JavaScript is still loading. If this message persists, it\n",
       "  likely means that the widgets JavaScript library is either not installed or\n",
       "  not enabled. See the <a href=\"https://ipywidgets.readthedocs.io/en/stable/user_install.html\">Jupyter\n",
       "  Widgets Documentation</a> for setup instructions.\n",
       "</p>\n",
       "<p>\n",
       "  If you're reading this message in another frontend (for example, a static\n",
       "  rendering on GitHub or <a href=\"https://nbviewer.jupyter.org/\">NBViewer</a>),\n",
       "  it may mean that your frontend doesn't currently support widgets.\n",
       "</p>\n"
      ],
      "text/plain": [
       "HBox(children=(IntProgress(value=0, max=66), HTML(value='')))"
      ]
     },
     "metadata": {},
     "output_type": "display_data"
    },
    {
     "name": "stdout",
     "output_type": "stream",
     "text": [
      "[8.587550528557248, 3.70542314427208, 5.266534585736749, 0.8566653688903094]\n"
     ]
    },
    {
     "data": {
      "application/vnd.jupyter.widget-view+json": {
       "model_id": "e05e0e6327674ca4ab7535a266d88ab9",
       "version_major": 2,
       "version_minor": 0
      },
      "text/html": [
       "<p>Failed to display Jupyter Widget of type <code>HBox</code>.</p>\n",
       "<p>\n",
       "  If you're reading this message in the Jupyter Notebook or JupyterLab Notebook, it may mean\n",
       "  that the widgets JavaScript is still loading. If this message persists, it\n",
       "  likely means that the widgets JavaScript library is either not installed or\n",
       "  not enabled. See the <a href=\"https://ipywidgets.readthedocs.io/en/stable/user_install.html\">Jupyter\n",
       "  Widgets Documentation</a> for setup instructions.\n",
       "</p>\n",
       "<p>\n",
       "  If you're reading this message in another frontend (for example, a static\n",
       "  rendering on GitHub or <a href=\"https://nbviewer.jupyter.org/\">NBViewer</a>),\n",
       "  it may mean that your frontend doesn't currently support widgets.\n",
       "</p>\n"
      ],
      "text/plain": [
       "HBox(children=(IntProgress(value=0, max=34), HTML(value='')))"
      ]
     },
     "metadata": {},
     "output_type": "display_data"
    },
    {
     "data": {
      "application/vnd.jupyter.widget-view+json": {
       "model_id": "bf587409c8df42b299a49ffe1cca1a9d",
       "version_major": 2,
       "version_minor": 0
      },
      "text/html": [
       "<p>Failed to display Jupyter Widget of type <code>HBox</code>.</p>\n",
       "<p>\n",
       "  If you're reading this message in the Jupyter Notebook or JupyterLab Notebook, it may mean\n",
       "  that the widgets JavaScript is still loading. If this message persists, it\n",
       "  likely means that the widgets JavaScript library is either not installed or\n",
       "  not enabled. See the <a href=\"https://ipywidgets.readthedocs.io/en/stable/user_install.html\">Jupyter\n",
       "  Widgets Documentation</a> for setup instructions.\n",
       "</p>\n",
       "<p>\n",
       "  If you're reading this message in another frontend (for example, a static\n",
       "  rendering on GitHub or <a href=\"https://nbviewer.jupyter.org/\">NBViewer</a>),\n",
       "  it may mean that your frontend doesn't currently support widgets.\n",
       "</p>\n"
      ],
      "text/plain": [
       "HBox(children=(IntProgress(value=0, max=62), HTML(value='')))"
      ]
     },
     "metadata": {},
     "output_type": "display_data"
    },
    {
     "data": {
      "application/vnd.jupyter.widget-view+json": {
       "model_id": "7e045079af734dd8826827ca1980792c",
       "version_major": 2,
       "version_minor": 0
      },
      "text/html": [
       "<p>Failed to display Jupyter Widget of type <code>HBox</code>.</p>\n",
       "<p>\n",
       "  If you're reading this message in the Jupyter Notebook or JupyterLab Notebook, it may mean\n",
       "  that the widgets JavaScript is still loading. If this message persists, it\n",
       "  likely means that the widgets JavaScript library is either not installed or\n",
       "  not enabled. See the <a href=\"https://ipywidgets.readthedocs.io/en/stable/user_install.html\">Jupyter\n",
       "  Widgets Documentation</a> for setup instructions.\n",
       "</p>\n",
       "<p>\n",
       "  If you're reading this message in another frontend (for example, a static\n",
       "  rendering on GitHub or <a href=\"https://nbviewer.jupyter.org/\">NBViewer</a>),\n",
       "  it may mean that your frontend doesn't currently support widgets.\n",
       "</p>\n"
      ],
      "text/plain": [
       "HBox(children=(IntProgress(value=0, max=66), HTML(value='')))"
      ]
     },
     "metadata": {},
     "output_type": "display_data"
    },
    {
     "data": {
      "application/vnd.jupyter.widget-view+json": {
       "model_id": "daeb24588c5649068ecddf64311587bc",
       "version_major": 2,
       "version_minor": 0
      },
      "text/html": [
       "<p>Failed to display Jupyter Widget of type <code>HBox</code>.</p>\n",
       "<p>\n",
       "  If you're reading this message in the Jupyter Notebook or JupyterLab Notebook, it may mean\n",
       "  that the widgets JavaScript is still loading. If this message persists, it\n",
       "  likely means that the widgets JavaScript library is either not installed or\n",
       "  not enabled. See the <a href=\"https://ipywidgets.readthedocs.io/en/stable/user_install.html\">Jupyter\n",
       "  Widgets Documentation</a> for setup instructions.\n",
       "</p>\n",
       "<p>\n",
       "  If you're reading this message in another frontend (for example, a static\n",
       "  rendering on GitHub or <a href=\"https://nbviewer.jupyter.org/\">NBViewer</a>),\n",
       "  it may mean that your frontend doesn't currently support widgets.\n",
       "</p>\n"
      ],
      "text/plain": [
       "HBox(children=(IntProgress(value=0, max=54), HTML(value='')))"
      ]
     },
     "metadata": {},
     "output_type": "display_data"
    },
    {
     "data": {
      "application/vnd.jupyter.widget-view+json": {
       "model_id": "6460f29bbb7f49338d6416920709f6e5",
       "version_major": 2,
       "version_minor": 0
      },
      "text/html": [
       "<p>Failed to display Jupyter Widget of type <code>HBox</code>.</p>\n",
       "<p>\n",
       "  If you're reading this message in the Jupyter Notebook or JupyterLab Notebook, it may mean\n",
       "  that the widgets JavaScript is still loading. If this message persists, it\n",
       "  likely means that the widgets JavaScript library is either not installed or\n",
       "  not enabled. See the <a href=\"https://ipywidgets.readthedocs.io/en/stable/user_install.html\">Jupyter\n",
       "  Widgets Documentation</a> for setup instructions.\n",
       "</p>\n",
       "<p>\n",
       "  If you're reading this message in another frontend (for example, a static\n",
       "  rendering on GitHub or <a href=\"https://nbviewer.jupyter.org/\">NBViewer</a>),\n",
       "  it may mean that your frontend doesn't currently support widgets.\n",
       "</p>\n"
      ],
      "text/plain": [
       "HBox(children=(IntProgress(value=0, max=64), HTML(value='')))"
      ]
     },
     "metadata": {},
     "output_type": "display_data"
    },
    {
     "data": {
      "application/vnd.jupyter.widget-view+json": {
       "model_id": "9a25b7538ca940e687a0051d7c033cb7",
       "version_major": 2,
       "version_minor": 0
      },
      "text/html": [
       "<p>Failed to display Jupyter Widget of type <code>HBox</code>.</p>\n",
       "<p>\n",
       "  If you're reading this message in the Jupyter Notebook or JupyterLab Notebook, it may mean\n",
       "  that the widgets JavaScript is still loading. If this message persists, it\n",
       "  likely means that the widgets JavaScript library is either not installed or\n",
       "  not enabled. See the <a href=\"https://ipywidgets.readthedocs.io/en/stable/user_install.html\">Jupyter\n",
       "  Widgets Documentation</a> for setup instructions.\n",
       "</p>\n",
       "<p>\n",
       "  If you're reading this message in another frontend (for example, a static\n",
       "  rendering on GitHub or <a href=\"https://nbviewer.jupyter.org/\">NBViewer</a>),\n",
       "  it may mean that your frontend doesn't currently support widgets.\n",
       "</p>\n"
      ],
      "text/plain": [
       "HBox(children=(IntProgress(value=0, max=111), HTML(value='')))"
      ]
     },
     "metadata": {},
     "output_type": "display_data"
    },
    {
     "data": {
      "application/vnd.jupyter.widget-view+json": {
       "model_id": "57fe77cf61ba43a9b80036879d547f70",
       "version_major": 2,
       "version_minor": 0
      },
      "text/html": [
       "<p>Failed to display Jupyter Widget of type <code>HBox</code>.</p>\n",
       "<p>\n",
       "  If you're reading this message in the Jupyter Notebook or JupyterLab Notebook, it may mean\n",
       "  that the widgets JavaScript is still loading. If this message persists, it\n",
       "  likely means that the widgets JavaScript library is either not installed or\n",
       "  not enabled. See the <a href=\"https://ipywidgets.readthedocs.io/en/stable/user_install.html\">Jupyter\n",
       "  Widgets Documentation</a> for setup instructions.\n",
       "</p>\n",
       "<p>\n",
       "  If you're reading this message in another frontend (for example, a static\n",
       "  rendering on GitHub or <a href=\"https://nbviewer.jupyter.org/\">NBViewer</a>),\n",
       "  it may mean that your frontend doesn't currently support widgets.\n",
       "</p>\n"
      ],
      "text/plain": [
       "HBox(children=(IntProgress(value=0, max=78), HTML(value='')))"
      ]
     },
     "metadata": {},
     "output_type": "display_data"
    },
    {
     "data": {
      "application/vnd.jupyter.widget-view+json": {
       "model_id": "e1a1277ba32c4e25a222bc742a399c09",
       "version_major": 2,
       "version_minor": 0
      },
      "text/html": [
       "<p>Failed to display Jupyter Widget of type <code>HBox</code>.</p>\n",
       "<p>\n",
       "  If you're reading this message in the Jupyter Notebook or JupyterLab Notebook, it may mean\n",
       "  that the widgets JavaScript is still loading. If this message persists, it\n",
       "  likely means that the widgets JavaScript library is either not installed or\n",
       "  not enabled. See the <a href=\"https://ipywidgets.readthedocs.io/en/stable/user_install.html\">Jupyter\n",
       "  Widgets Documentation</a> for setup instructions.\n",
       "</p>\n",
       "<p>\n",
       "  If you're reading this message in another frontend (for example, a static\n",
       "  rendering on GitHub or <a href=\"https://nbviewer.jupyter.org/\">NBViewer</a>),\n",
       "  it may mean that your frontend doesn't currently support widgets.\n",
       "</p>\n"
      ],
      "text/plain": [
       "HBox(children=(IntProgress(value=0, max=153), HTML(value='')))"
      ]
     },
     "metadata": {},
     "output_type": "display_data"
    },
    {
     "data": {
      "application/vnd.jupyter.widget-view+json": {
       "model_id": "e7fd21d31ef3421bb4607f363acf026a",
       "version_major": 2,
       "version_minor": 0
      },
      "text/html": [
       "<p>Failed to display Jupyter Widget of type <code>HBox</code>.</p>\n",
       "<p>\n",
       "  If you're reading this message in the Jupyter Notebook or JupyterLab Notebook, it may mean\n",
       "  that the widgets JavaScript is still loading. If this message persists, it\n",
       "  likely means that the widgets JavaScript library is either not installed or\n",
       "  not enabled. See the <a href=\"https://ipywidgets.readthedocs.io/en/stable/user_install.html\">Jupyter\n",
       "  Widgets Documentation</a> for setup instructions.\n",
       "</p>\n",
       "<p>\n",
       "  If you're reading this message in another frontend (for example, a static\n",
       "  rendering on GitHub or <a href=\"https://nbviewer.jupyter.org/\">NBViewer</a>),\n",
       "  it may mean that your frontend doesn't currently support widgets.\n",
       "</p>\n"
      ],
      "text/plain": [
       "HBox(children=(IntProgress(value=0, max=94), HTML(value='')))"
      ]
     },
     "metadata": {},
     "output_type": "display_data"
    },
    {
     "data": {
      "application/vnd.jupyter.widget-view+json": {
       "model_id": "5e609282c8b5494c85c37c6d6b36366f",
       "version_major": 2,
       "version_minor": 0
      },
      "text/html": [
       "<p>Failed to display Jupyter Widget of type <code>HBox</code>.</p>\n",
       "<p>\n",
       "  If you're reading this message in the Jupyter Notebook or JupyterLab Notebook, it may mean\n",
       "  that the widgets JavaScript is still loading. If this message persists, it\n",
       "  likely means that the widgets JavaScript library is either not installed or\n",
       "  not enabled. See the <a href=\"https://ipywidgets.readthedocs.io/en/stable/user_install.html\">Jupyter\n",
       "  Widgets Documentation</a> for setup instructions.\n",
       "</p>\n",
       "<p>\n",
       "  If you're reading this message in another frontend (for example, a static\n",
       "  rendering on GitHub or <a href=\"https://nbviewer.jupyter.org/\">NBViewer</a>),\n",
       "  it may mean that your frontend doesn't currently support widgets.\n",
       "</p>\n"
      ],
      "text/plain": [
       "HBox(children=(IntProgress(value=0, max=45), HTML(value='')))"
      ]
     },
     "metadata": {},
     "output_type": "display_data"
    },
    {
     "data": {
      "application/vnd.jupyter.widget-view+json": {
       "model_id": "d08c4fcf4f9949309cd673afeff53004",
       "version_major": 2,
       "version_minor": 0
      },
      "text/html": [
       "<p>Failed to display Jupyter Widget of type <code>HBox</code>.</p>\n",
       "<p>\n",
       "  If you're reading this message in the Jupyter Notebook or JupyterLab Notebook, it may mean\n",
       "  that the widgets JavaScript is still loading. If this message persists, it\n",
       "  likely means that the widgets JavaScript library is either not installed or\n",
       "  not enabled. See the <a href=\"https://ipywidgets.readthedocs.io/en/stable/user_install.html\">Jupyter\n",
       "  Widgets Documentation</a> for setup instructions.\n",
       "</p>\n",
       "<p>\n",
       "  If you're reading this message in another frontend (for example, a static\n",
       "  rendering on GitHub or <a href=\"https://nbviewer.jupyter.org/\">NBViewer</a>),\n",
       "  it may mean that your frontend doesn't currently support widgets.\n",
       "</p>\n"
      ],
      "text/plain": [
       "HBox(children=(IntProgress(value=0, max=70), HTML(value='')))"
      ]
     },
     "metadata": {},
     "output_type": "display_data"
    },
    {
     "data": {
      "application/vnd.jupyter.widget-view+json": {
       "model_id": "dd4d55a427f1488a93edbe0a1c6f873f",
       "version_major": 2,
       "version_minor": 0
      },
      "text/html": [
       "<p>Failed to display Jupyter Widget of type <code>HBox</code>.</p>\n",
       "<p>\n",
       "  If you're reading this message in the Jupyter Notebook or JupyterLab Notebook, it may mean\n",
       "  that the widgets JavaScript is still loading. If this message persists, it\n",
       "  likely means that the widgets JavaScript library is either not installed or\n",
       "  not enabled. See the <a href=\"https://ipywidgets.readthedocs.io/en/stable/user_install.html\">Jupyter\n",
       "  Widgets Documentation</a> for setup instructions.\n",
       "</p>\n",
       "<p>\n",
       "  If you're reading this message in another frontend (for example, a static\n",
       "  rendering on GitHub or <a href=\"https://nbviewer.jupyter.org/\">NBViewer</a>),\n",
       "  it may mean that your frontend doesn't currently support widgets.\n",
       "</p>\n"
      ],
      "text/plain": [
       "HBox(children=(IntProgress(value=0, max=122), HTML(value='')))"
      ]
     },
     "metadata": {},
     "output_type": "display_data"
    },
    {
     "data": {
      "application/vnd.jupyter.widget-view+json": {
       "model_id": "0702e56379d741e99b015479e08d61df",
       "version_major": 2,
       "version_minor": 0
      },
      "text/html": [
       "<p>Failed to display Jupyter Widget of type <code>HBox</code>.</p>\n",
       "<p>\n",
       "  If you're reading this message in the Jupyter Notebook or JupyterLab Notebook, it may mean\n",
       "  that the widgets JavaScript is still loading. If this message persists, it\n",
       "  likely means that the widgets JavaScript library is either not installed or\n",
       "  not enabled. See the <a href=\"https://ipywidgets.readthedocs.io/en/stable/user_install.html\">Jupyter\n",
       "  Widgets Documentation</a> for setup instructions.\n",
       "</p>\n",
       "<p>\n",
       "  If you're reading this message in another frontend (for example, a static\n",
       "  rendering on GitHub or <a href=\"https://nbviewer.jupyter.org/\">NBViewer</a>),\n",
       "  it may mean that your frontend doesn't currently support widgets.\n",
       "</p>\n"
      ],
      "text/plain": [
       "HBox(children=(IntProgress(value=0, max=133), HTML(value='')))"
      ]
     },
     "metadata": {},
     "output_type": "display_data"
    },
    {
     "data": {
      "application/vnd.jupyter.widget-view+json": {
       "model_id": "39bd786232ba4fa99d39ac43c8ce3486",
       "version_major": 2,
       "version_minor": 0
      },
      "text/html": [
       "<p>Failed to display Jupyter Widget of type <code>HBox</code>.</p>\n",
       "<p>\n",
       "  If you're reading this message in the Jupyter Notebook or JupyterLab Notebook, it may mean\n",
       "  that the widgets JavaScript is still loading. If this message persists, it\n",
       "  likely means that the widgets JavaScript library is either not installed or\n",
       "  not enabled. See the <a href=\"https://ipywidgets.readthedocs.io/en/stable/user_install.html\">Jupyter\n",
       "  Widgets Documentation</a> for setup instructions.\n",
       "</p>\n",
       "<p>\n",
       "  If you're reading this message in another frontend (for example, a static\n",
       "  rendering on GitHub or <a href=\"https://nbviewer.jupyter.org/\">NBViewer</a>),\n",
       "  it may mean that your frontend doesn't currently support widgets.\n",
       "</p>\n"
      ],
      "text/plain": [
       "HBox(children=(IntProgress(value=0, max=46), HTML(value='')))"
      ]
     },
     "metadata": {},
     "output_type": "display_data"
    },
    {
     "data": {
      "application/vnd.jupyter.widget-view+json": {
       "model_id": "8d01de7f9eec4e32b6d988f57ebec3e7",
       "version_major": 2,
       "version_minor": 0
      },
      "text/html": [
       "<p>Failed to display Jupyter Widget of type <code>HBox</code>.</p>\n",
       "<p>\n",
       "  If you're reading this message in the Jupyter Notebook or JupyterLab Notebook, it may mean\n",
       "  that the widgets JavaScript is still loading. If this message persists, it\n",
       "  likely means that the widgets JavaScript library is either not installed or\n",
       "  not enabled. See the <a href=\"https://ipywidgets.readthedocs.io/en/stable/user_install.html\">Jupyter\n",
       "  Widgets Documentation</a> for setup instructions.\n",
       "</p>\n",
       "<p>\n",
       "  If you're reading this message in another frontend (for example, a static\n",
       "  rendering on GitHub or <a href=\"https://nbviewer.jupyter.org/\">NBViewer</a>),\n",
       "  it may mean that your frontend doesn't currently support widgets.\n",
       "</p>\n"
      ],
      "text/plain": [
       "HBox(children=(IntProgress(value=0, max=48), HTML(value='')))"
      ]
     },
     "metadata": {},
     "output_type": "display_data"
    },
    {
     "data": {
      "application/vnd.jupyter.widget-view+json": {
       "model_id": "3de1cde7ea7f4e6faa32b03bebe93449",
       "version_major": 2,
       "version_minor": 0
      },
      "text/html": [
       "<p>Failed to display Jupyter Widget of type <code>HBox</code>.</p>\n",
       "<p>\n",
       "  If you're reading this message in the Jupyter Notebook or JupyterLab Notebook, it may mean\n",
       "  that the widgets JavaScript is still loading. If this message persists, it\n",
       "  likely means that the widgets JavaScript library is either not installed or\n",
       "  not enabled. See the <a href=\"https://ipywidgets.readthedocs.io/en/stable/user_install.html\">Jupyter\n",
       "  Widgets Documentation</a> for setup instructions.\n",
       "</p>\n",
       "<p>\n",
       "  If you're reading this message in another frontend (for example, a static\n",
       "  rendering on GitHub or <a href=\"https://nbviewer.jupyter.org/\">NBViewer</a>),\n",
       "  it may mean that your frontend doesn't currently support widgets.\n",
       "</p>\n"
      ],
      "text/plain": [
       "HBox(children=(IntProgress(value=0, max=49), HTML(value='')))"
      ]
     },
     "metadata": {},
     "output_type": "display_data"
    },
    {
     "data": {
      "application/vnd.jupyter.widget-view+json": {
       "model_id": "ae8e36f62efb4f5b87a0bb267d57c99e",
       "version_major": 2,
       "version_minor": 0
      },
      "text/html": [
       "<p>Failed to display Jupyter Widget of type <code>HBox</code>.</p>\n",
       "<p>\n",
       "  If you're reading this message in the Jupyter Notebook or JupyterLab Notebook, it may mean\n",
       "  that the widgets JavaScript is still loading. If this message persists, it\n",
       "  likely means that the widgets JavaScript library is either not installed or\n",
       "  not enabled. See the <a href=\"https://ipywidgets.readthedocs.io/en/stable/user_install.html\">Jupyter\n",
       "  Widgets Documentation</a> for setup instructions.\n",
       "</p>\n",
       "<p>\n",
       "  If you're reading this message in another frontend (for example, a static\n",
       "  rendering on GitHub or <a href=\"https://nbviewer.jupyter.org/\">NBViewer</a>),\n",
       "  it may mean that your frontend doesn't currently support widgets.\n",
       "</p>\n"
      ],
      "text/plain": [
       "HBox(children=(IntProgress(value=0, max=84), HTML(value='')))"
      ]
     },
     "metadata": {},
     "output_type": "display_data"
    },
    {
     "data": {
      "application/vnd.jupyter.widget-view+json": {
       "model_id": "561730fb56e8436f86db7094e883baec",
       "version_major": 2,
       "version_minor": 0
      },
      "text/html": [
       "<p>Failed to display Jupyter Widget of type <code>HBox</code>.</p>\n",
       "<p>\n",
       "  If you're reading this message in the Jupyter Notebook or JupyterLab Notebook, it may mean\n",
       "  that the widgets JavaScript is still loading. If this message persists, it\n",
       "  likely means that the widgets JavaScript library is either not installed or\n",
       "  not enabled. See the <a href=\"https://ipywidgets.readthedocs.io/en/stable/user_install.html\">Jupyter\n",
       "  Widgets Documentation</a> for setup instructions.\n",
       "</p>\n",
       "<p>\n",
       "  If you're reading this message in another frontend (for example, a static\n",
       "  rendering on GitHub or <a href=\"https://nbviewer.jupyter.org/\">NBViewer</a>),\n",
       "  it may mean that your frontend doesn't currently support widgets.\n",
       "</p>\n"
      ],
      "text/plain": [
       "HBox(children=(IntProgress(value=0, max=108), HTML(value='')))"
      ]
     },
     "metadata": {},
     "output_type": "display_data"
    },
    {
     "data": {
      "application/vnd.jupyter.widget-view+json": {
       "model_id": "0a934d4f6161484e83977d56815090ff",
       "version_major": 2,
       "version_minor": 0
      },
      "text/html": [
       "<p>Failed to display Jupyter Widget of type <code>HBox</code>.</p>\n",
       "<p>\n",
       "  If you're reading this message in the Jupyter Notebook or JupyterLab Notebook, it may mean\n",
       "  that the widgets JavaScript is still loading. If this message persists, it\n",
       "  likely means that the widgets JavaScript library is either not installed or\n",
       "  not enabled. See the <a href=\"https://ipywidgets.readthedocs.io/en/stable/user_install.html\">Jupyter\n",
       "  Widgets Documentation</a> for setup instructions.\n",
       "</p>\n",
       "<p>\n",
       "  If you're reading this message in another frontend (for example, a static\n",
       "  rendering on GitHub or <a href=\"https://nbviewer.jupyter.org/\">NBViewer</a>),\n",
       "  it may mean that your frontend doesn't currently support widgets.\n",
       "</p>\n"
      ],
      "text/plain": [
       "HBox(children=(IntProgress(value=0, max=79), HTML(value='')))"
      ]
     },
     "metadata": {},
     "output_type": "display_data"
    },
    {
     "data": {
      "application/vnd.jupyter.widget-view+json": {
       "model_id": "0221063b86fc4624a28c3cd3b72f9a7f",
       "version_major": 2,
       "version_minor": 0
      },
      "text/html": [
       "<p>Failed to display Jupyter Widget of type <code>HBox</code>.</p>\n",
       "<p>\n",
       "  If you're reading this message in the Jupyter Notebook or JupyterLab Notebook, it may mean\n",
       "  that the widgets JavaScript is still loading. If this message persists, it\n",
       "  likely means that the widgets JavaScript library is either not installed or\n",
       "  not enabled. See the <a href=\"https://ipywidgets.readthedocs.io/en/stable/user_install.html\">Jupyter\n",
       "  Widgets Documentation</a> for setup instructions.\n",
       "</p>\n",
       "<p>\n",
       "  If you're reading this message in another frontend (for example, a static\n",
       "  rendering on GitHub or <a href=\"https://nbviewer.jupyter.org/\">NBViewer</a>),\n",
       "  it may mean that your frontend doesn't currently support widgets.\n",
       "</p>\n"
      ],
      "text/plain": [
       "HBox(children=(IntProgress(value=0, max=60), HTML(value='')))"
      ]
     },
     "metadata": {},
     "output_type": "display_data"
    },
    {
     "data": {
      "application/vnd.jupyter.widget-view+json": {
       "model_id": "e563630ac5a5447a8d868b9b7fd58229",
       "version_major": 2,
       "version_minor": 0
      },
      "text/html": [
       "<p>Failed to display Jupyter Widget of type <code>HBox</code>.</p>\n",
       "<p>\n",
       "  If you're reading this message in the Jupyter Notebook or JupyterLab Notebook, it may mean\n",
       "  that the widgets JavaScript is still loading. If this message persists, it\n",
       "  likely means that the widgets JavaScript library is either not installed or\n",
       "  not enabled. See the <a href=\"https://ipywidgets.readthedocs.io/en/stable/user_install.html\">Jupyter\n",
       "  Widgets Documentation</a> for setup instructions.\n",
       "</p>\n",
       "<p>\n",
       "  If you're reading this message in another frontend (for example, a static\n",
       "  rendering on GitHub or <a href=\"https://nbviewer.jupyter.org/\">NBViewer</a>),\n",
       "  it may mean that your frontend doesn't currently support widgets.\n",
       "</p>\n"
      ],
      "text/plain": [
       "HBox(children=(IntProgress(value=0, max=115), HTML(value='')))"
      ]
     },
     "metadata": {},
     "output_type": "display_data"
    },
    {
     "data": {
      "application/vnd.jupyter.widget-view+json": {
       "model_id": "e72bff53a2fc4bcca0b80183c991c5d0",
       "version_major": 2,
       "version_minor": 0
      },
      "text/html": [
       "<p>Failed to display Jupyter Widget of type <code>HBox</code>.</p>\n",
       "<p>\n",
       "  If you're reading this message in the Jupyter Notebook or JupyterLab Notebook, it may mean\n",
       "  that the widgets JavaScript is still loading. If this message persists, it\n",
       "  likely means that the widgets JavaScript library is either not installed or\n",
       "  not enabled. See the <a href=\"https://ipywidgets.readthedocs.io/en/stable/user_install.html\">Jupyter\n",
       "  Widgets Documentation</a> for setup instructions.\n",
       "</p>\n",
       "<p>\n",
       "  If you're reading this message in another frontend (for example, a static\n",
       "  rendering on GitHub or <a href=\"https://nbviewer.jupyter.org/\">NBViewer</a>),\n",
       "  it may mean that your frontend doesn't currently support widgets.\n",
       "</p>\n"
      ],
      "text/plain": [
       "HBox(children=(IntProgress(value=0, max=66), HTML(value='')))"
      ]
     },
     "metadata": {},
     "output_type": "display_data"
    },
    {
     "data": {
      "application/vnd.jupyter.widget-view+json": {
       "model_id": "cc8ee1bbb05049a990530543e3f1f7f9",
       "version_major": 2,
       "version_minor": 0
      },
      "text/html": [
       "<p>Failed to display Jupyter Widget of type <code>HBox</code>.</p>\n",
       "<p>\n",
       "  If you're reading this message in the Jupyter Notebook or JupyterLab Notebook, it may mean\n",
       "  that the widgets JavaScript is still loading. If this message persists, it\n",
       "  likely means that the widgets JavaScript library is either not installed or\n",
       "  not enabled. See the <a href=\"https://ipywidgets.readthedocs.io/en/stable/user_install.html\">Jupyter\n",
       "  Widgets Documentation</a> for setup instructions.\n",
       "</p>\n",
       "<p>\n",
       "  If you're reading this message in another frontend (for example, a static\n",
       "  rendering on GitHub or <a href=\"https://nbviewer.jupyter.org/\">NBViewer</a>),\n",
       "  it may mean that your frontend doesn't currently support widgets.\n",
       "</p>\n"
      ],
      "text/plain": [
       "HBox(children=(IntProgress(value=0, max=69), HTML(value='')))"
      ]
     },
     "metadata": {},
     "output_type": "display_data"
    },
    {
     "data": {
      "application/vnd.jupyter.widget-view+json": {
       "model_id": "d5c83e5c2b18417a9cd83251dffc3d5a",
       "version_major": 2,
       "version_minor": 0
      },
      "text/html": [
       "<p>Failed to display Jupyter Widget of type <code>HBox</code>.</p>\n",
       "<p>\n",
       "  If you're reading this message in the Jupyter Notebook or JupyterLab Notebook, it may mean\n",
       "  that the widgets JavaScript is still loading. If this message persists, it\n",
       "  likely means that the widgets JavaScript library is either not installed or\n",
       "  not enabled. See the <a href=\"https://ipywidgets.readthedocs.io/en/stable/user_install.html\">Jupyter\n",
       "  Widgets Documentation</a> for setup instructions.\n",
       "</p>\n",
       "<p>\n",
       "  If you're reading this message in another frontend (for example, a static\n",
       "  rendering on GitHub or <a href=\"https://nbviewer.jupyter.org/\">NBViewer</a>),\n",
       "  it may mean that your frontend doesn't currently support widgets.\n",
       "</p>\n"
      ],
      "text/plain": [
       "HBox(children=(IntProgress(value=0, max=81), HTML(value='')))"
      ]
     },
     "metadata": {},
     "output_type": "display_data"
    },
    {
     "data": {
      "application/vnd.jupyter.widget-view+json": {
       "model_id": "e1bdec0363e94f7cb69a479eb7c73194",
       "version_major": 2,
       "version_minor": 0
      },
      "text/html": [
       "<p>Failed to display Jupyter Widget of type <code>HBox</code>.</p>\n",
       "<p>\n",
       "  If you're reading this message in the Jupyter Notebook or JupyterLab Notebook, it may mean\n",
       "  that the widgets JavaScript is still loading. If this message persists, it\n",
       "  likely means that the widgets JavaScript library is either not installed or\n",
       "  not enabled. See the <a href=\"https://ipywidgets.readthedocs.io/en/stable/user_install.html\">Jupyter\n",
       "  Widgets Documentation</a> for setup instructions.\n",
       "</p>\n",
       "<p>\n",
       "  If you're reading this message in another frontend (for example, a static\n",
       "  rendering on GitHub or <a href=\"https://nbviewer.jupyter.org/\">NBViewer</a>),\n",
       "  it may mean that your frontend doesn't currently support widgets.\n",
       "</p>\n"
      ],
      "text/plain": [
       "HBox(children=(IntProgress(value=0, max=62), HTML(value='')))"
      ]
     },
     "metadata": {},
     "output_type": "display_data"
    },
    {
     "data": {
      "application/vnd.jupyter.widget-view+json": {
       "model_id": "7ca04adda0604ee09a323a45a4e03361",
       "version_major": 2,
       "version_minor": 0
      },
      "text/html": [
       "<p>Failed to display Jupyter Widget of type <code>HBox</code>.</p>\n",
       "<p>\n",
       "  If you're reading this message in the Jupyter Notebook or JupyterLab Notebook, it may mean\n",
       "  that the widgets JavaScript is still loading. If this message persists, it\n",
       "  likely means that the widgets JavaScript library is either not installed or\n",
       "  not enabled. See the <a href=\"https://ipywidgets.readthedocs.io/en/stable/user_install.html\">Jupyter\n",
       "  Widgets Documentation</a> for setup instructions.\n",
       "</p>\n",
       "<p>\n",
       "  If you're reading this message in another frontend (for example, a static\n",
       "  rendering on GitHub or <a href=\"https://nbviewer.jupyter.org/\">NBViewer</a>),\n",
       "  it may mean that your frontend doesn't currently support widgets.\n",
       "</p>\n"
      ],
      "text/plain": [
       "HBox(children=(IntProgress(value=0, max=109), HTML(value='')))"
      ]
     },
     "metadata": {},
     "output_type": "display_data"
    },
    {
     "data": {
      "application/vnd.jupyter.widget-view+json": {
       "model_id": "9505ee25ce584a5d9c85b1dda0baa684",
       "version_major": 2,
       "version_minor": 0
      },
      "text/html": [
       "<p>Failed to display Jupyter Widget of type <code>HBox</code>.</p>\n",
       "<p>\n",
       "  If you're reading this message in the Jupyter Notebook or JupyterLab Notebook, it may mean\n",
       "  that the widgets JavaScript is still loading. If this message persists, it\n",
       "  likely means that the widgets JavaScript library is either not installed or\n",
       "  not enabled. See the <a href=\"https://ipywidgets.readthedocs.io/en/stable/user_install.html\">Jupyter\n",
       "  Widgets Documentation</a> for setup instructions.\n",
       "</p>\n",
       "<p>\n",
       "  If you're reading this message in another frontend (for example, a static\n",
       "  rendering on GitHub or <a href=\"https://nbviewer.jupyter.org/\">NBViewer</a>),\n",
       "  it may mean that your frontend doesn't currently support widgets.\n",
       "</p>\n"
      ],
      "text/plain": [
       "HBox(children=(IntProgress(value=0, max=137), HTML(value='')))"
      ]
     },
     "metadata": {},
     "output_type": "display_data"
    },
    {
     "data": {
      "application/vnd.jupyter.widget-view+json": {
       "model_id": "56f1a90036784a00a7ace43c54354c32",
       "version_major": 2,
       "version_minor": 0
      },
      "text/html": [
       "<p>Failed to display Jupyter Widget of type <code>HBox</code>.</p>\n",
       "<p>\n",
       "  If you're reading this message in the Jupyter Notebook or JupyterLab Notebook, it may mean\n",
       "  that the widgets JavaScript is still loading. If this message persists, it\n",
       "  likely means that the widgets JavaScript library is either not installed or\n",
       "  not enabled. See the <a href=\"https://ipywidgets.readthedocs.io/en/stable/user_install.html\">Jupyter\n",
       "  Widgets Documentation</a> for setup instructions.\n",
       "</p>\n",
       "<p>\n",
       "  If you're reading this message in another frontend (for example, a static\n",
       "  rendering on GitHub or <a href=\"https://nbviewer.jupyter.org/\">NBViewer</a>),\n",
       "  it may mean that your frontend doesn't currently support widgets.\n",
       "</p>\n"
      ],
      "text/plain": [
       "HBox(children=(IntProgress(value=0, max=59), HTML(value='')))"
      ]
     },
     "metadata": {},
     "output_type": "display_data"
    },
    {
     "data": {
      "application/vnd.jupyter.widget-view+json": {
       "model_id": "2cf914c9e54e4af7a0f90366dfea9e81",
       "version_major": 2,
       "version_minor": 0
      },
      "text/html": [
       "<p>Failed to display Jupyter Widget of type <code>HBox</code>.</p>\n",
       "<p>\n",
       "  If you're reading this message in the Jupyter Notebook or JupyterLab Notebook, it may mean\n",
       "  that the widgets JavaScript is still loading. If this message persists, it\n",
       "  likely means that the widgets JavaScript library is either not installed or\n",
       "  not enabled. See the <a href=\"https://ipywidgets.readthedocs.io/en/stable/user_install.html\">Jupyter\n",
       "  Widgets Documentation</a> for setup instructions.\n",
       "</p>\n",
       "<p>\n",
       "  If you're reading this message in another frontend (for example, a static\n",
       "  rendering on GitHub or <a href=\"https://nbviewer.jupyter.org/\">NBViewer</a>),\n",
       "  it may mean that your frontend doesn't currently support widgets.\n",
       "</p>\n"
      ],
      "text/plain": [
       "HBox(children=(IntProgress(value=0, max=48), HTML(value='')))"
      ]
     },
     "metadata": {},
     "output_type": "display_data"
    },
    {
     "data": {
      "application/vnd.jupyter.widget-view+json": {
       "model_id": "b43d3c84c4e348a09c7d7590c7c503fe",
       "version_major": 2,
       "version_minor": 0
      },
      "text/html": [
       "<p>Failed to display Jupyter Widget of type <code>HBox</code>.</p>\n",
       "<p>\n",
       "  If you're reading this message in the Jupyter Notebook or JupyterLab Notebook, it may mean\n",
       "  that the widgets JavaScript is still loading. If this message persists, it\n",
       "  likely means that the widgets JavaScript library is either not installed or\n",
       "  not enabled. See the <a href=\"https://ipywidgets.readthedocs.io/en/stable/user_install.html\">Jupyter\n",
       "  Widgets Documentation</a> for setup instructions.\n",
       "</p>\n",
       "<p>\n",
       "  If you're reading this message in another frontend (for example, a static\n",
       "  rendering on GitHub or <a href=\"https://nbviewer.jupyter.org/\">NBViewer</a>),\n",
       "  it may mean that your frontend doesn't currently support widgets.\n",
       "</p>\n"
      ],
      "text/plain": [
       "HBox(children=(IntProgress(value=0, max=117), HTML(value='')))"
      ]
     },
     "metadata": {},
     "output_type": "display_data"
    },
    {
     "data": {
      "application/vnd.jupyter.widget-view+json": {
       "model_id": "f4eb188b8749409b8f24be96f9037e1f",
       "version_major": 2,
       "version_minor": 0
      },
      "text/html": [
       "<p>Failed to display Jupyter Widget of type <code>HBox</code>.</p>\n",
       "<p>\n",
       "  If you're reading this message in the Jupyter Notebook or JupyterLab Notebook, it may mean\n",
       "  that the widgets JavaScript is still loading. If this message persists, it\n",
       "  likely means that the widgets JavaScript library is either not installed or\n",
       "  not enabled. See the <a href=\"https://ipywidgets.readthedocs.io/en/stable/user_install.html\">Jupyter\n",
       "  Widgets Documentation</a> for setup instructions.\n",
       "</p>\n",
       "<p>\n",
       "  If you're reading this message in another frontend (for example, a static\n",
       "  rendering on GitHub or <a href=\"https://nbviewer.jupyter.org/\">NBViewer</a>),\n",
       "  it may mean that your frontend doesn't currently support widgets.\n",
       "</p>\n"
      ],
      "text/plain": [
       "HBox(children=(IntProgress(value=0, max=81), HTML(value='')))"
      ]
     },
     "metadata": {},
     "output_type": "display_data"
    },
    {
     "data": {
      "application/vnd.jupyter.widget-view+json": {
       "model_id": "76ebc204e9c0484ab064fcec80623c7c",
       "version_major": 2,
       "version_minor": 0
      },
      "text/html": [
       "<p>Failed to display Jupyter Widget of type <code>HBox</code>.</p>\n",
       "<p>\n",
       "  If you're reading this message in the Jupyter Notebook or JupyterLab Notebook, it may mean\n",
       "  that the widgets JavaScript is still loading. If this message persists, it\n",
       "  likely means that the widgets JavaScript library is either not installed or\n",
       "  not enabled. See the <a href=\"https://ipywidgets.readthedocs.io/en/stable/user_install.html\">Jupyter\n",
       "  Widgets Documentation</a> for setup instructions.\n",
       "</p>\n",
       "<p>\n",
       "  If you're reading this message in another frontend (for example, a static\n",
       "  rendering on GitHub or <a href=\"https://nbviewer.jupyter.org/\">NBViewer</a>),\n",
       "  it may mean that your frontend doesn't currently support widgets.\n",
       "</p>\n"
      ],
      "text/plain": [
       "HBox(children=(IntProgress(value=0, max=122), HTML(value='')))"
      ]
     },
     "metadata": {},
     "output_type": "display_data"
    },
    {
     "data": {
      "application/vnd.jupyter.widget-view+json": {
       "model_id": "c434e1c5286e427b9c20237fb96ca89b",
       "version_major": 2,
       "version_minor": 0
      },
      "text/html": [
       "<p>Failed to display Jupyter Widget of type <code>HBox</code>.</p>\n",
       "<p>\n",
       "  If you're reading this message in the Jupyter Notebook or JupyterLab Notebook, it may mean\n",
       "  that the widgets JavaScript is still loading. If this message persists, it\n",
       "  likely means that the widgets JavaScript library is either not installed or\n",
       "  not enabled. See the <a href=\"https://ipywidgets.readthedocs.io/en/stable/user_install.html\">Jupyter\n",
       "  Widgets Documentation</a> for setup instructions.\n",
       "</p>\n",
       "<p>\n",
       "  If you're reading this message in another frontend (for example, a static\n",
       "  rendering on GitHub or <a href=\"https://nbviewer.jupyter.org/\">NBViewer</a>),\n",
       "  it may mean that your frontend doesn't currently support widgets.\n",
       "</p>\n"
      ],
      "text/plain": [
       "HBox(children=(IntProgress(value=0, max=109), HTML(value='')))"
      ]
     },
     "metadata": {},
     "output_type": "display_data"
    },
    {
     "data": {
      "application/vnd.jupyter.widget-view+json": {
       "model_id": "cd90dc0e709347ac8ab363c80c27a4bb",
       "version_major": 2,
       "version_minor": 0
      },
      "text/html": [
       "<p>Failed to display Jupyter Widget of type <code>HBox</code>.</p>\n",
       "<p>\n",
       "  If you're reading this message in the Jupyter Notebook or JupyterLab Notebook, it may mean\n",
       "  that the widgets JavaScript is still loading. If this message persists, it\n",
       "  likely means that the widgets JavaScript library is either not installed or\n",
       "  not enabled. See the <a href=\"https://ipywidgets.readthedocs.io/en/stable/user_install.html\">Jupyter\n",
       "  Widgets Documentation</a> for setup instructions.\n",
       "</p>\n",
       "<p>\n",
       "  If you're reading this message in another frontend (for example, a static\n",
       "  rendering on GitHub or <a href=\"https://nbviewer.jupyter.org/\">NBViewer</a>),\n",
       "  it may mean that your frontend doesn't currently support widgets.\n",
       "</p>\n"
      ],
      "text/plain": [
       "HBox(children=(IntProgress(value=0, max=119), HTML(value='')))"
      ]
     },
     "metadata": {},
     "output_type": "display_data"
    },
    {
     "data": {
      "application/vnd.jupyter.widget-view+json": {
       "model_id": "e5721a82bd224f16be1c517a1dfdd51c",
       "version_major": 2,
       "version_minor": 0
      },
      "text/html": [
       "<p>Failed to display Jupyter Widget of type <code>HBox</code>.</p>\n",
       "<p>\n",
       "  If you're reading this message in the Jupyter Notebook or JupyterLab Notebook, it may mean\n",
       "  that the widgets JavaScript is still loading. If this message persists, it\n",
       "  likely means that the widgets JavaScript library is either not installed or\n",
       "  not enabled. See the <a href=\"https://ipywidgets.readthedocs.io/en/stable/user_install.html\">Jupyter\n",
       "  Widgets Documentation</a> for setup instructions.\n",
       "</p>\n",
       "<p>\n",
       "  If you're reading this message in another frontend (for example, a static\n",
       "  rendering on GitHub or <a href=\"https://nbviewer.jupyter.org/\">NBViewer</a>),\n",
       "  it may mean that your frontend doesn't currently support widgets.\n",
       "</p>\n"
      ],
      "text/plain": [
       "HBox(children=(IntProgress(value=0, max=67), HTML(value='')))"
      ]
     },
     "metadata": {},
     "output_type": "display_data"
    },
    {
     "name": "stdout",
     "output_type": "stream",
     "text": [
      "[8.829144282356149, 3.721148338498903, 5.300121361542136, 0.8448397048956487]\n"
     ]
    },
    {
     "data": {
      "application/vnd.jupyter.widget-view+json": {
       "model_id": "9fb9f3953a92491ab1da470a527d4364",
       "version_major": 2,
       "version_minor": 0
      },
      "text/html": [
       "<p>Failed to display Jupyter Widget of type <code>HBox</code>.</p>\n",
       "<p>\n",
       "  If you're reading this message in the Jupyter Notebook or JupyterLab Notebook, it may mean\n",
       "  that the widgets JavaScript is still loading. If this message persists, it\n",
       "  likely means that the widgets JavaScript library is either not installed or\n",
       "  not enabled. See the <a href=\"https://ipywidgets.readthedocs.io/en/stable/user_install.html\">Jupyter\n",
       "  Widgets Documentation</a> for setup instructions.\n",
       "</p>\n",
       "<p>\n",
       "  If you're reading this message in another frontend (for example, a static\n",
       "  rendering on GitHub or <a href=\"https://nbviewer.jupyter.org/\">NBViewer</a>),\n",
       "  it may mean that your frontend doesn't currently support widgets.\n",
       "</p>\n"
      ],
      "text/plain": [
       "HBox(children=(IntProgress(value=0, max=34), HTML(value='')))"
      ]
     },
     "metadata": {},
     "output_type": "display_data"
    },
    {
     "data": {
      "application/vnd.jupyter.widget-view+json": {
       "model_id": "e5ff3526392a4aa7984daa69681d9b94",
       "version_major": 2,
       "version_minor": 0
      },
      "text/html": [
       "<p>Failed to display Jupyter Widget of type <code>HBox</code>.</p>\n",
       "<p>\n",
       "  If you're reading this message in the Jupyter Notebook or JupyterLab Notebook, it may mean\n",
       "  that the widgets JavaScript is still loading. If this message persists, it\n",
       "  likely means that the widgets JavaScript library is either not installed or\n",
       "  not enabled. See the <a href=\"https://ipywidgets.readthedocs.io/en/stable/user_install.html\">Jupyter\n",
       "  Widgets Documentation</a> for setup instructions.\n",
       "</p>\n",
       "<p>\n",
       "  If you're reading this message in another frontend (for example, a static\n",
       "  rendering on GitHub or <a href=\"https://nbviewer.jupyter.org/\">NBViewer</a>),\n",
       "  it may mean that your frontend doesn't currently support widgets.\n",
       "</p>\n"
      ],
      "text/plain": [
       "HBox(children=(IntProgress(value=0, max=62), HTML(value='')))"
      ]
     },
     "metadata": {},
     "output_type": "display_data"
    },
    {
     "data": {
      "application/vnd.jupyter.widget-view+json": {
       "model_id": "b3f90176839b4e758748f671c2b04800",
       "version_major": 2,
       "version_minor": 0
      },
      "text/html": [
       "<p>Failed to display Jupyter Widget of type <code>HBox</code>.</p>\n",
       "<p>\n",
       "  If you're reading this message in the Jupyter Notebook or JupyterLab Notebook, it may mean\n",
       "  that the widgets JavaScript is still loading. If this message persists, it\n",
       "  likely means that the widgets JavaScript library is either not installed or\n",
       "  not enabled. See the <a href=\"https://ipywidgets.readthedocs.io/en/stable/user_install.html\">Jupyter\n",
       "  Widgets Documentation</a> for setup instructions.\n",
       "</p>\n",
       "<p>\n",
       "  If you're reading this message in another frontend (for example, a static\n",
       "  rendering on GitHub or <a href=\"https://nbviewer.jupyter.org/\">NBViewer</a>),\n",
       "  it may mean that your frontend doesn't currently support widgets.\n",
       "</p>\n"
      ],
      "text/plain": [
       "HBox(children=(IntProgress(value=0, max=65), HTML(value='')))"
      ]
     },
     "metadata": {},
     "output_type": "display_data"
    },
    {
     "data": {
      "application/vnd.jupyter.widget-view+json": {
       "model_id": "00fedda3a5ad4fe7b1baccaf1e3f4513",
       "version_major": 2,
       "version_minor": 0
      },
      "text/html": [
       "<p>Failed to display Jupyter Widget of type <code>HBox</code>.</p>\n",
       "<p>\n",
       "  If you're reading this message in the Jupyter Notebook or JupyterLab Notebook, it may mean\n",
       "  that the widgets JavaScript is still loading. If this message persists, it\n",
       "  likely means that the widgets JavaScript library is either not installed or\n",
       "  not enabled. See the <a href=\"https://ipywidgets.readthedocs.io/en/stable/user_install.html\">Jupyter\n",
       "  Widgets Documentation</a> for setup instructions.\n",
       "</p>\n",
       "<p>\n",
       "  If you're reading this message in another frontend (for example, a static\n",
       "  rendering on GitHub or <a href=\"https://nbviewer.jupyter.org/\">NBViewer</a>),\n",
       "  it may mean that your frontend doesn't currently support widgets.\n",
       "</p>\n"
      ],
      "text/plain": [
       "HBox(children=(IntProgress(value=0, max=54), HTML(value='')))"
      ]
     },
     "metadata": {},
     "output_type": "display_data"
    },
    {
     "data": {
      "application/vnd.jupyter.widget-view+json": {
       "model_id": "bc31659c0a0d4c84a290e7f13130331c",
       "version_major": 2,
       "version_minor": 0
      },
      "text/html": [
       "<p>Failed to display Jupyter Widget of type <code>HBox</code>.</p>\n",
       "<p>\n",
       "  If you're reading this message in the Jupyter Notebook or JupyterLab Notebook, it may mean\n",
       "  that the widgets JavaScript is still loading. If this message persists, it\n",
       "  likely means that the widgets JavaScript library is either not installed or\n",
       "  not enabled. See the <a href=\"https://ipywidgets.readthedocs.io/en/stable/user_install.html\">Jupyter\n",
       "  Widgets Documentation</a> for setup instructions.\n",
       "</p>\n",
       "<p>\n",
       "  If you're reading this message in another frontend (for example, a static\n",
       "  rendering on GitHub or <a href=\"https://nbviewer.jupyter.org/\">NBViewer</a>),\n",
       "  it may mean that your frontend doesn't currently support widgets.\n",
       "</p>\n"
      ],
      "text/plain": [
       "HBox(children=(IntProgress(value=0, max=64), HTML(value='')))"
      ]
     },
     "metadata": {},
     "output_type": "display_data"
    },
    {
     "data": {
      "application/vnd.jupyter.widget-view+json": {
       "model_id": "69566f2a0da543e3a779d8077c2418f9",
       "version_major": 2,
       "version_minor": 0
      },
      "text/html": [
       "<p>Failed to display Jupyter Widget of type <code>HBox</code>.</p>\n",
       "<p>\n",
       "  If you're reading this message in the Jupyter Notebook or JupyterLab Notebook, it may mean\n",
       "  that the widgets JavaScript is still loading. If this message persists, it\n",
       "  likely means that the widgets JavaScript library is either not installed or\n",
       "  not enabled. See the <a href=\"https://ipywidgets.readthedocs.io/en/stable/user_install.html\">Jupyter\n",
       "  Widgets Documentation</a> for setup instructions.\n",
       "</p>\n",
       "<p>\n",
       "  If you're reading this message in another frontend (for example, a static\n",
       "  rendering on GitHub or <a href=\"https://nbviewer.jupyter.org/\">NBViewer</a>),\n",
       "  it may mean that your frontend doesn't currently support widgets.\n",
       "</p>\n"
      ],
      "text/plain": [
       "HBox(children=(IntProgress(value=0, max=111), HTML(value='')))"
      ]
     },
     "metadata": {},
     "output_type": "display_data"
    },
    {
     "data": {
      "application/vnd.jupyter.widget-view+json": {
       "model_id": "b044d89bf47d438fa4fc3d3ad5aca2ee",
       "version_major": 2,
       "version_minor": 0
      },
      "text/html": [
       "<p>Failed to display Jupyter Widget of type <code>HBox</code>.</p>\n",
       "<p>\n",
       "  If you're reading this message in the Jupyter Notebook or JupyterLab Notebook, it may mean\n",
       "  that the widgets JavaScript is still loading. If this message persists, it\n",
       "  likely means that the widgets JavaScript library is either not installed or\n",
       "  not enabled. See the <a href=\"https://ipywidgets.readthedocs.io/en/stable/user_install.html\">Jupyter\n",
       "  Widgets Documentation</a> for setup instructions.\n",
       "</p>\n",
       "<p>\n",
       "  If you're reading this message in another frontend (for example, a static\n",
       "  rendering on GitHub or <a href=\"https://nbviewer.jupyter.org/\">NBViewer</a>),\n",
       "  it may mean that your frontend doesn't currently support widgets.\n",
       "</p>\n"
      ],
      "text/plain": [
       "HBox(children=(IntProgress(value=0, max=78), HTML(value='')))"
      ]
     },
     "metadata": {},
     "output_type": "display_data"
    },
    {
     "data": {
      "application/vnd.jupyter.widget-view+json": {
       "model_id": "f8d1907f2ea84e87a902ec21bcff594d",
       "version_major": 2,
       "version_minor": 0
      },
      "text/html": [
       "<p>Failed to display Jupyter Widget of type <code>HBox</code>.</p>\n",
       "<p>\n",
       "  If you're reading this message in the Jupyter Notebook or JupyterLab Notebook, it may mean\n",
       "  that the widgets JavaScript is still loading. If this message persists, it\n",
       "  likely means that the widgets JavaScript library is either not installed or\n",
       "  not enabled. See the <a href=\"https://ipywidgets.readthedocs.io/en/stable/user_install.html\">Jupyter\n",
       "  Widgets Documentation</a> for setup instructions.\n",
       "</p>\n",
       "<p>\n",
       "  If you're reading this message in another frontend (for example, a static\n",
       "  rendering on GitHub or <a href=\"https://nbviewer.jupyter.org/\">NBViewer</a>),\n",
       "  it may mean that your frontend doesn't currently support widgets.\n",
       "</p>\n"
      ],
      "text/plain": [
       "HBox(children=(IntProgress(value=0, max=153), HTML(value='')))"
      ]
     },
     "metadata": {},
     "output_type": "display_data"
    },
    {
     "data": {
      "application/vnd.jupyter.widget-view+json": {
       "model_id": "beb0176a43d646908dc93e8fc7d477fd",
       "version_major": 2,
       "version_minor": 0
      },
      "text/html": [
       "<p>Failed to display Jupyter Widget of type <code>HBox</code>.</p>\n",
       "<p>\n",
       "  If you're reading this message in the Jupyter Notebook or JupyterLab Notebook, it may mean\n",
       "  that the widgets JavaScript is still loading. If this message persists, it\n",
       "  likely means that the widgets JavaScript library is either not installed or\n",
       "  not enabled. See the <a href=\"https://ipywidgets.readthedocs.io/en/stable/user_install.html\">Jupyter\n",
       "  Widgets Documentation</a> for setup instructions.\n",
       "</p>\n",
       "<p>\n",
       "  If you're reading this message in another frontend (for example, a static\n",
       "  rendering on GitHub or <a href=\"https://nbviewer.jupyter.org/\">NBViewer</a>),\n",
       "  it may mean that your frontend doesn't currently support widgets.\n",
       "</p>\n"
      ],
      "text/plain": [
       "HBox(children=(IntProgress(value=0, max=93), HTML(value='')))"
      ]
     },
     "metadata": {},
     "output_type": "display_data"
    },
    {
     "data": {
      "application/vnd.jupyter.widget-view+json": {
       "model_id": "55993cf3172d480e9ad02caeb3ded425",
       "version_major": 2,
       "version_minor": 0
      },
      "text/html": [
       "<p>Failed to display Jupyter Widget of type <code>HBox</code>.</p>\n",
       "<p>\n",
       "  If you're reading this message in the Jupyter Notebook or JupyterLab Notebook, it may mean\n",
       "  that the widgets JavaScript is still loading. If this message persists, it\n",
       "  likely means that the widgets JavaScript library is either not installed or\n",
       "  not enabled. See the <a href=\"https://ipywidgets.readthedocs.io/en/stable/user_install.html\">Jupyter\n",
       "  Widgets Documentation</a> for setup instructions.\n",
       "</p>\n",
       "<p>\n",
       "  If you're reading this message in another frontend (for example, a static\n",
       "  rendering on GitHub or <a href=\"https://nbviewer.jupyter.org/\">NBViewer</a>),\n",
       "  it may mean that your frontend doesn't currently support widgets.\n",
       "</p>\n"
      ],
      "text/plain": [
       "HBox(children=(IntProgress(value=0, max=45), HTML(value='')))"
      ]
     },
     "metadata": {},
     "output_type": "display_data"
    },
    {
     "data": {
      "application/vnd.jupyter.widget-view+json": {
       "model_id": "3f4330fcffc44ec5a61d568bf38f0d88",
       "version_major": 2,
       "version_minor": 0
      },
      "text/html": [
       "<p>Failed to display Jupyter Widget of type <code>HBox</code>.</p>\n",
       "<p>\n",
       "  If you're reading this message in the Jupyter Notebook or JupyterLab Notebook, it may mean\n",
       "  that the widgets JavaScript is still loading. If this message persists, it\n",
       "  likely means that the widgets JavaScript library is either not installed or\n",
       "  not enabled. See the <a href=\"https://ipywidgets.readthedocs.io/en/stable/user_install.html\">Jupyter\n",
       "  Widgets Documentation</a> for setup instructions.\n",
       "</p>\n",
       "<p>\n",
       "  If you're reading this message in another frontend (for example, a static\n",
       "  rendering on GitHub or <a href=\"https://nbviewer.jupyter.org/\">NBViewer</a>),\n",
       "  it may mean that your frontend doesn't currently support widgets.\n",
       "</p>\n"
      ],
      "text/plain": [
       "HBox(children=(IntProgress(value=0, max=70), HTML(value='')))"
      ]
     },
     "metadata": {},
     "output_type": "display_data"
    },
    {
     "data": {
      "application/vnd.jupyter.widget-view+json": {
       "model_id": "4b904f69b7f2458098d1ce48411db2d1",
       "version_major": 2,
       "version_minor": 0
      },
      "text/html": [
       "<p>Failed to display Jupyter Widget of type <code>HBox</code>.</p>\n",
       "<p>\n",
       "  If you're reading this message in the Jupyter Notebook or JupyterLab Notebook, it may mean\n",
       "  that the widgets JavaScript is still loading. If this message persists, it\n",
       "  likely means that the widgets JavaScript library is either not installed or\n",
       "  not enabled. See the <a href=\"https://ipywidgets.readthedocs.io/en/stable/user_install.html\">Jupyter\n",
       "  Widgets Documentation</a> for setup instructions.\n",
       "</p>\n",
       "<p>\n",
       "  If you're reading this message in another frontend (for example, a static\n",
       "  rendering on GitHub or <a href=\"https://nbviewer.jupyter.org/\">NBViewer</a>),\n",
       "  it may mean that your frontend doesn't currently support widgets.\n",
       "</p>\n"
      ],
      "text/plain": [
       "HBox(children=(IntProgress(value=0, max=123), HTML(value='')))"
      ]
     },
     "metadata": {},
     "output_type": "display_data"
    },
    {
     "data": {
      "application/vnd.jupyter.widget-view+json": {
       "model_id": "5984969f8f7f42aa9f3c9cb6e0d8fb47",
       "version_major": 2,
       "version_minor": 0
      },
      "text/html": [
       "<p>Failed to display Jupyter Widget of type <code>HBox</code>.</p>\n",
       "<p>\n",
       "  If you're reading this message in the Jupyter Notebook or JupyterLab Notebook, it may mean\n",
       "  that the widgets JavaScript is still loading. If this message persists, it\n",
       "  likely means that the widgets JavaScript library is either not installed or\n",
       "  not enabled. See the <a href=\"https://ipywidgets.readthedocs.io/en/stable/user_install.html\">Jupyter\n",
       "  Widgets Documentation</a> for setup instructions.\n",
       "</p>\n",
       "<p>\n",
       "  If you're reading this message in another frontend (for example, a static\n",
       "  rendering on GitHub or <a href=\"https://nbviewer.jupyter.org/\">NBViewer</a>),\n",
       "  it may mean that your frontend doesn't currently support widgets.\n",
       "</p>\n"
      ],
      "text/plain": [
       "HBox(children=(IntProgress(value=0, max=133), HTML(value='')))"
      ]
     },
     "metadata": {},
     "output_type": "display_data"
    },
    {
     "data": {
      "application/vnd.jupyter.widget-view+json": {
       "model_id": "c9893d9d70cc4345a7c509cec94b1a83",
       "version_major": 2,
       "version_minor": 0
      },
      "text/html": [
       "<p>Failed to display Jupyter Widget of type <code>HBox</code>.</p>\n",
       "<p>\n",
       "  If you're reading this message in the Jupyter Notebook or JupyterLab Notebook, it may mean\n",
       "  that the widgets JavaScript is still loading. If this message persists, it\n",
       "  likely means that the widgets JavaScript library is either not installed or\n",
       "  not enabled. See the <a href=\"https://ipywidgets.readthedocs.io/en/stable/user_install.html\">Jupyter\n",
       "  Widgets Documentation</a> for setup instructions.\n",
       "</p>\n",
       "<p>\n",
       "  If you're reading this message in another frontend (for example, a static\n",
       "  rendering on GitHub or <a href=\"https://nbviewer.jupyter.org/\">NBViewer</a>),\n",
       "  it may mean that your frontend doesn't currently support widgets.\n",
       "</p>\n"
      ],
      "text/plain": [
       "HBox(children=(IntProgress(value=0, max=46), HTML(value='')))"
      ]
     },
     "metadata": {},
     "output_type": "display_data"
    },
    {
     "data": {
      "application/vnd.jupyter.widget-view+json": {
       "model_id": "79f8b88e54ec4f219b3b4195a1951244",
       "version_major": 2,
       "version_minor": 0
      },
      "text/html": [
       "<p>Failed to display Jupyter Widget of type <code>HBox</code>.</p>\n",
       "<p>\n",
       "  If you're reading this message in the Jupyter Notebook or JupyterLab Notebook, it may mean\n",
       "  that the widgets JavaScript is still loading. If this message persists, it\n",
       "  likely means that the widgets JavaScript library is either not installed or\n",
       "  not enabled. See the <a href=\"https://ipywidgets.readthedocs.io/en/stable/user_install.html\">Jupyter\n",
       "  Widgets Documentation</a> for setup instructions.\n",
       "</p>\n",
       "<p>\n",
       "  If you're reading this message in another frontend (for example, a static\n",
       "  rendering on GitHub or <a href=\"https://nbviewer.jupyter.org/\">NBViewer</a>),\n",
       "  it may mean that your frontend doesn't currently support widgets.\n",
       "</p>\n"
      ],
      "text/plain": [
       "HBox(children=(IntProgress(value=0, max=48), HTML(value='')))"
      ]
     },
     "metadata": {},
     "output_type": "display_data"
    },
    {
     "data": {
      "application/vnd.jupyter.widget-view+json": {
       "model_id": "8346eadf4f1b475bab77b2f9885a568a",
       "version_major": 2,
       "version_minor": 0
      },
      "text/html": [
       "<p>Failed to display Jupyter Widget of type <code>HBox</code>.</p>\n",
       "<p>\n",
       "  If you're reading this message in the Jupyter Notebook or JupyterLab Notebook, it may mean\n",
       "  that the widgets JavaScript is still loading. If this message persists, it\n",
       "  likely means that the widgets JavaScript library is either not installed or\n",
       "  not enabled. See the <a href=\"https://ipywidgets.readthedocs.io/en/stable/user_install.html\">Jupyter\n",
       "  Widgets Documentation</a> for setup instructions.\n",
       "</p>\n",
       "<p>\n",
       "  If you're reading this message in another frontend (for example, a static\n",
       "  rendering on GitHub or <a href=\"https://nbviewer.jupyter.org/\">NBViewer</a>),\n",
       "  it may mean that your frontend doesn't currently support widgets.\n",
       "</p>\n"
      ],
      "text/plain": [
       "HBox(children=(IntProgress(value=0, max=49), HTML(value='')))"
      ]
     },
     "metadata": {},
     "output_type": "display_data"
    },
    {
     "data": {
      "application/vnd.jupyter.widget-view+json": {
       "model_id": "0e00028b9a084e2ca5053c1925cd7e21",
       "version_major": 2,
       "version_minor": 0
      },
      "text/html": [
       "<p>Failed to display Jupyter Widget of type <code>HBox</code>.</p>\n",
       "<p>\n",
       "  If you're reading this message in the Jupyter Notebook or JupyterLab Notebook, it may mean\n",
       "  that the widgets JavaScript is still loading. If this message persists, it\n",
       "  likely means that the widgets JavaScript library is either not installed or\n",
       "  not enabled. See the <a href=\"https://ipywidgets.readthedocs.io/en/stable/user_install.html\">Jupyter\n",
       "  Widgets Documentation</a> for setup instructions.\n",
       "</p>\n",
       "<p>\n",
       "  If you're reading this message in another frontend (for example, a static\n",
       "  rendering on GitHub or <a href=\"https://nbviewer.jupyter.org/\">NBViewer</a>),\n",
       "  it may mean that your frontend doesn't currently support widgets.\n",
       "</p>\n"
      ],
      "text/plain": [
       "HBox(children=(IntProgress(value=0, max=83), HTML(value='')))"
      ]
     },
     "metadata": {},
     "output_type": "display_data"
    },
    {
     "data": {
      "application/vnd.jupyter.widget-view+json": {
       "model_id": "1dcd64c86915458ebc3d4e242f45de98",
       "version_major": 2,
       "version_minor": 0
      },
      "text/html": [
       "<p>Failed to display Jupyter Widget of type <code>HBox</code>.</p>\n",
       "<p>\n",
       "  If you're reading this message in the Jupyter Notebook or JupyterLab Notebook, it may mean\n",
       "  that the widgets JavaScript is still loading. If this message persists, it\n",
       "  likely means that the widgets JavaScript library is either not installed or\n",
       "  not enabled. See the <a href=\"https://ipywidgets.readthedocs.io/en/stable/user_install.html\">Jupyter\n",
       "  Widgets Documentation</a> for setup instructions.\n",
       "</p>\n",
       "<p>\n",
       "  If you're reading this message in another frontend (for example, a static\n",
       "  rendering on GitHub or <a href=\"https://nbviewer.jupyter.org/\">NBViewer</a>),\n",
       "  it may mean that your frontend doesn't currently support widgets.\n",
       "</p>\n"
      ],
      "text/plain": [
       "HBox(children=(IntProgress(value=0, max=108), HTML(value='')))"
      ]
     },
     "metadata": {},
     "output_type": "display_data"
    },
    {
     "data": {
      "application/vnd.jupyter.widget-view+json": {
       "model_id": "3d88656431054879b0be2d3222b93421",
       "version_major": 2,
       "version_minor": 0
      },
      "text/html": [
       "<p>Failed to display Jupyter Widget of type <code>HBox</code>.</p>\n",
       "<p>\n",
       "  If you're reading this message in the Jupyter Notebook or JupyterLab Notebook, it may mean\n",
       "  that the widgets JavaScript is still loading. If this message persists, it\n",
       "  likely means that the widgets JavaScript library is either not installed or\n",
       "  not enabled. See the <a href=\"https://ipywidgets.readthedocs.io/en/stable/user_install.html\">Jupyter\n",
       "  Widgets Documentation</a> for setup instructions.\n",
       "</p>\n",
       "<p>\n",
       "  If you're reading this message in another frontend (for example, a static\n",
       "  rendering on GitHub or <a href=\"https://nbviewer.jupyter.org/\">NBViewer</a>),\n",
       "  it may mean that your frontend doesn't currently support widgets.\n",
       "</p>\n"
      ],
      "text/plain": [
       "HBox(children=(IntProgress(value=0, max=79), HTML(value='')))"
      ]
     },
     "metadata": {},
     "output_type": "display_data"
    },
    {
     "data": {
      "application/vnd.jupyter.widget-view+json": {
       "model_id": "f6f21e8ff5b84aea96a1a703d0ca90fe",
       "version_major": 2,
       "version_minor": 0
      },
      "text/html": [
       "<p>Failed to display Jupyter Widget of type <code>HBox</code>.</p>\n",
       "<p>\n",
       "  If you're reading this message in the Jupyter Notebook or JupyterLab Notebook, it may mean\n",
       "  that the widgets JavaScript is still loading. If this message persists, it\n",
       "  likely means that the widgets JavaScript library is either not installed or\n",
       "  not enabled. See the <a href=\"https://ipywidgets.readthedocs.io/en/stable/user_install.html\">Jupyter\n",
       "  Widgets Documentation</a> for setup instructions.\n",
       "</p>\n",
       "<p>\n",
       "  If you're reading this message in another frontend (for example, a static\n",
       "  rendering on GitHub or <a href=\"https://nbviewer.jupyter.org/\">NBViewer</a>),\n",
       "  it may mean that your frontend doesn't currently support widgets.\n",
       "</p>\n"
      ],
      "text/plain": [
       "HBox(children=(IntProgress(value=0, max=60), HTML(value='')))"
      ]
     },
     "metadata": {},
     "output_type": "display_data"
    },
    {
     "data": {
      "application/vnd.jupyter.widget-view+json": {
       "model_id": "34bd1697afdd455fa977befdfe709bac",
       "version_major": 2,
       "version_minor": 0
      },
      "text/html": [
       "<p>Failed to display Jupyter Widget of type <code>HBox</code>.</p>\n",
       "<p>\n",
       "  If you're reading this message in the Jupyter Notebook or JupyterLab Notebook, it may mean\n",
       "  that the widgets JavaScript is still loading. If this message persists, it\n",
       "  likely means that the widgets JavaScript library is either not installed or\n",
       "  not enabled. See the <a href=\"https://ipywidgets.readthedocs.io/en/stable/user_install.html\">Jupyter\n",
       "  Widgets Documentation</a> for setup instructions.\n",
       "</p>\n",
       "<p>\n",
       "  If you're reading this message in another frontend (for example, a static\n",
       "  rendering on GitHub or <a href=\"https://nbviewer.jupyter.org/\">NBViewer</a>),\n",
       "  it may mean that your frontend doesn't currently support widgets.\n",
       "</p>\n"
      ],
      "text/plain": [
       "HBox(children=(IntProgress(value=0, max=115), HTML(value='')))"
      ]
     },
     "metadata": {},
     "output_type": "display_data"
    },
    {
     "data": {
      "application/vnd.jupyter.widget-view+json": {
       "model_id": "75548f6a7c8e4c6e82713bc7a7f509ae",
       "version_major": 2,
       "version_minor": 0
      },
      "text/html": [
       "<p>Failed to display Jupyter Widget of type <code>HBox</code>.</p>\n",
       "<p>\n",
       "  If you're reading this message in the Jupyter Notebook or JupyterLab Notebook, it may mean\n",
       "  that the widgets JavaScript is still loading. If this message persists, it\n",
       "  likely means that the widgets JavaScript library is either not installed or\n",
       "  not enabled. See the <a href=\"https://ipywidgets.readthedocs.io/en/stable/user_install.html\">Jupyter\n",
       "  Widgets Documentation</a> for setup instructions.\n",
       "</p>\n",
       "<p>\n",
       "  If you're reading this message in another frontend (for example, a static\n",
       "  rendering on GitHub or <a href=\"https://nbviewer.jupyter.org/\">NBViewer</a>),\n",
       "  it may mean that your frontend doesn't currently support widgets.\n",
       "</p>\n"
      ],
      "text/plain": [
       "HBox(children=(IntProgress(value=0, max=66), HTML(value='')))"
      ]
     },
     "metadata": {},
     "output_type": "display_data"
    },
    {
     "data": {
      "application/vnd.jupyter.widget-view+json": {
       "model_id": "e279e5c038234ca88da46cc7e9566392",
       "version_major": 2,
       "version_minor": 0
      },
      "text/html": [
       "<p>Failed to display Jupyter Widget of type <code>HBox</code>.</p>\n",
       "<p>\n",
       "  If you're reading this message in the Jupyter Notebook or JupyterLab Notebook, it may mean\n",
       "  that the widgets JavaScript is still loading. If this message persists, it\n",
       "  likely means that the widgets JavaScript library is either not installed or\n",
       "  not enabled. See the <a href=\"https://ipywidgets.readthedocs.io/en/stable/user_install.html\">Jupyter\n",
       "  Widgets Documentation</a> for setup instructions.\n",
       "</p>\n",
       "<p>\n",
       "  If you're reading this message in another frontend (for example, a static\n",
       "  rendering on GitHub or <a href=\"https://nbviewer.jupyter.org/\">NBViewer</a>),\n",
       "  it may mean that your frontend doesn't currently support widgets.\n",
       "</p>\n"
      ],
      "text/plain": [
       "HBox(children=(IntProgress(value=0, max=68), HTML(value='')))"
      ]
     },
     "metadata": {},
     "output_type": "display_data"
    },
    {
     "data": {
      "application/vnd.jupyter.widget-view+json": {
       "model_id": "3cd1ecd8eaf4450682bebe7577e70d91",
       "version_major": 2,
       "version_minor": 0
      },
      "text/html": [
       "<p>Failed to display Jupyter Widget of type <code>HBox</code>.</p>\n",
       "<p>\n",
       "  If you're reading this message in the Jupyter Notebook or JupyterLab Notebook, it may mean\n",
       "  that the widgets JavaScript is still loading. If this message persists, it\n",
       "  likely means that the widgets JavaScript library is either not installed or\n",
       "  not enabled. See the <a href=\"https://ipywidgets.readthedocs.io/en/stable/user_install.html\">Jupyter\n",
       "  Widgets Documentation</a> for setup instructions.\n",
       "</p>\n",
       "<p>\n",
       "  If you're reading this message in another frontend (for example, a static\n",
       "  rendering on GitHub or <a href=\"https://nbviewer.jupyter.org/\">NBViewer</a>),\n",
       "  it may mean that your frontend doesn't currently support widgets.\n",
       "</p>\n"
      ],
      "text/plain": [
       "HBox(children=(IntProgress(value=0, max=81), HTML(value='')))"
      ]
     },
     "metadata": {},
     "output_type": "display_data"
    },
    {
     "data": {
      "application/vnd.jupyter.widget-view+json": {
       "model_id": "6ecdbb8722ff43b3b4809899f7a410bf",
       "version_major": 2,
       "version_minor": 0
      },
      "text/html": [
       "<p>Failed to display Jupyter Widget of type <code>HBox</code>.</p>\n",
       "<p>\n",
       "  If you're reading this message in the Jupyter Notebook or JupyterLab Notebook, it may mean\n",
       "  that the widgets JavaScript is still loading. If this message persists, it\n",
       "  likely means that the widgets JavaScript library is either not installed or\n",
       "  not enabled. See the <a href=\"https://ipywidgets.readthedocs.io/en/stable/user_install.html\">Jupyter\n",
       "  Widgets Documentation</a> for setup instructions.\n",
       "</p>\n",
       "<p>\n",
       "  If you're reading this message in another frontend (for example, a static\n",
       "  rendering on GitHub or <a href=\"https://nbviewer.jupyter.org/\">NBViewer</a>),\n",
       "  it may mean that your frontend doesn't currently support widgets.\n",
       "</p>\n"
      ],
      "text/plain": [
       "HBox(children=(IntProgress(value=0, max=62), HTML(value='')))"
      ]
     },
     "metadata": {},
     "output_type": "display_data"
    },
    {
     "data": {
      "application/vnd.jupyter.widget-view+json": {
       "model_id": "5941039f435e4842ac65090a2ebf5106",
       "version_major": 2,
       "version_minor": 0
      },
      "text/html": [
       "<p>Failed to display Jupyter Widget of type <code>HBox</code>.</p>\n",
       "<p>\n",
       "  If you're reading this message in the Jupyter Notebook or JupyterLab Notebook, it may mean\n",
       "  that the widgets JavaScript is still loading. If this message persists, it\n",
       "  likely means that the widgets JavaScript library is either not installed or\n",
       "  not enabled. See the <a href=\"https://ipywidgets.readthedocs.io/en/stable/user_install.html\">Jupyter\n",
       "  Widgets Documentation</a> for setup instructions.\n",
       "</p>\n",
       "<p>\n",
       "  If you're reading this message in another frontend (for example, a static\n",
       "  rendering on GitHub or <a href=\"https://nbviewer.jupyter.org/\">NBViewer</a>),\n",
       "  it may mean that your frontend doesn't currently support widgets.\n",
       "</p>\n"
      ],
      "text/plain": [
       "HBox(children=(IntProgress(value=0, max=109), HTML(value='')))"
      ]
     },
     "metadata": {},
     "output_type": "display_data"
    },
    {
     "data": {
      "application/vnd.jupyter.widget-view+json": {
       "model_id": "fa8bcea0c1864a06932b4e47dc4e87ff",
       "version_major": 2,
       "version_minor": 0
      },
      "text/html": [
       "<p>Failed to display Jupyter Widget of type <code>HBox</code>.</p>\n",
       "<p>\n",
       "  If you're reading this message in the Jupyter Notebook or JupyterLab Notebook, it may mean\n",
       "  that the widgets JavaScript is still loading. If this message persists, it\n",
       "  likely means that the widgets JavaScript library is either not installed or\n",
       "  not enabled. See the <a href=\"https://ipywidgets.readthedocs.io/en/stable/user_install.html\">Jupyter\n",
       "  Widgets Documentation</a> for setup instructions.\n",
       "</p>\n",
       "<p>\n",
       "  If you're reading this message in another frontend (for example, a static\n",
       "  rendering on GitHub or <a href=\"https://nbviewer.jupyter.org/\">NBViewer</a>),\n",
       "  it may mean that your frontend doesn't currently support widgets.\n",
       "</p>\n"
      ],
      "text/plain": [
       "HBox(children=(IntProgress(value=0, max=136), HTML(value='')))"
      ]
     },
     "metadata": {},
     "output_type": "display_data"
    },
    {
     "data": {
      "application/vnd.jupyter.widget-view+json": {
       "model_id": "426a5c3d10774998837577bd07775055",
       "version_major": 2,
       "version_minor": 0
      },
      "text/html": [
       "<p>Failed to display Jupyter Widget of type <code>HBox</code>.</p>\n",
       "<p>\n",
       "  If you're reading this message in the Jupyter Notebook or JupyterLab Notebook, it may mean\n",
       "  that the widgets JavaScript is still loading. If this message persists, it\n",
       "  likely means that the widgets JavaScript library is either not installed or\n",
       "  not enabled. See the <a href=\"https://ipywidgets.readthedocs.io/en/stable/user_install.html\">Jupyter\n",
       "  Widgets Documentation</a> for setup instructions.\n",
       "</p>\n",
       "<p>\n",
       "  If you're reading this message in another frontend (for example, a static\n",
       "  rendering on GitHub or <a href=\"https://nbviewer.jupyter.org/\">NBViewer</a>),\n",
       "  it may mean that your frontend doesn't currently support widgets.\n",
       "</p>\n"
      ],
      "text/plain": [
       "HBox(children=(IntProgress(value=0, max=58), HTML(value='')))"
      ]
     },
     "metadata": {},
     "output_type": "display_data"
    },
    {
     "data": {
      "application/vnd.jupyter.widget-view+json": {
       "model_id": "0acd74f9dae04b16afade5dda7e5a3d2",
       "version_major": 2,
       "version_minor": 0
      },
      "text/html": [
       "<p>Failed to display Jupyter Widget of type <code>HBox</code>.</p>\n",
       "<p>\n",
       "  If you're reading this message in the Jupyter Notebook or JupyterLab Notebook, it may mean\n",
       "  that the widgets JavaScript is still loading. If this message persists, it\n",
       "  likely means that the widgets JavaScript library is either not installed or\n",
       "  not enabled. See the <a href=\"https://ipywidgets.readthedocs.io/en/stable/user_install.html\">Jupyter\n",
       "  Widgets Documentation</a> for setup instructions.\n",
       "</p>\n",
       "<p>\n",
       "  If you're reading this message in another frontend (for example, a static\n",
       "  rendering on GitHub or <a href=\"https://nbviewer.jupyter.org/\">NBViewer</a>),\n",
       "  it may mean that your frontend doesn't currently support widgets.\n",
       "</p>\n"
      ],
      "text/plain": [
       "HBox(children=(IntProgress(value=0, max=48), HTML(value='')))"
      ]
     },
     "metadata": {},
     "output_type": "display_data"
    },
    {
     "data": {
      "application/vnd.jupyter.widget-view+json": {
       "model_id": "708496e27e774febacb79eb793a008c7",
       "version_major": 2,
       "version_minor": 0
      },
      "text/html": [
       "<p>Failed to display Jupyter Widget of type <code>HBox</code>.</p>\n",
       "<p>\n",
       "  If you're reading this message in the Jupyter Notebook or JupyterLab Notebook, it may mean\n",
       "  that the widgets JavaScript is still loading. If this message persists, it\n",
       "  likely means that the widgets JavaScript library is either not installed or\n",
       "  not enabled. See the <a href=\"https://ipywidgets.readthedocs.io/en/stable/user_install.html\">Jupyter\n",
       "  Widgets Documentation</a> for setup instructions.\n",
       "</p>\n",
       "<p>\n",
       "  If you're reading this message in another frontend (for example, a static\n",
       "  rendering on GitHub or <a href=\"https://nbviewer.jupyter.org/\">NBViewer</a>),\n",
       "  it may mean that your frontend doesn't currently support widgets.\n",
       "</p>\n"
      ],
      "text/plain": [
       "HBox(children=(IntProgress(value=0, max=117), HTML(value='')))"
      ]
     },
     "metadata": {},
     "output_type": "display_data"
    },
    {
     "data": {
      "application/vnd.jupyter.widget-view+json": {
       "model_id": "3b69ed63d32d42fd9caef1965901f9fc",
       "version_major": 2,
       "version_minor": 0
      },
      "text/html": [
       "<p>Failed to display Jupyter Widget of type <code>HBox</code>.</p>\n",
       "<p>\n",
       "  If you're reading this message in the Jupyter Notebook or JupyterLab Notebook, it may mean\n",
       "  that the widgets JavaScript is still loading. If this message persists, it\n",
       "  likely means that the widgets JavaScript library is either not installed or\n",
       "  not enabled. See the <a href=\"https://ipywidgets.readthedocs.io/en/stable/user_install.html\">Jupyter\n",
       "  Widgets Documentation</a> for setup instructions.\n",
       "</p>\n",
       "<p>\n",
       "  If you're reading this message in another frontend (for example, a static\n",
       "  rendering on GitHub or <a href=\"https://nbviewer.jupyter.org/\">NBViewer</a>),\n",
       "  it may mean that your frontend doesn't currently support widgets.\n",
       "</p>\n"
      ],
      "text/plain": [
       "HBox(children=(IntProgress(value=0, max=81), HTML(value='')))"
      ]
     },
     "metadata": {},
     "output_type": "display_data"
    },
    {
     "data": {
      "application/vnd.jupyter.widget-view+json": {
       "model_id": "c83645d5a3d745e29f20d6cd1b2d7891",
       "version_major": 2,
       "version_minor": 0
      },
      "text/html": [
       "<p>Failed to display Jupyter Widget of type <code>HBox</code>.</p>\n",
       "<p>\n",
       "  If you're reading this message in the Jupyter Notebook or JupyterLab Notebook, it may mean\n",
       "  that the widgets JavaScript is still loading. If this message persists, it\n",
       "  likely means that the widgets JavaScript library is either not installed or\n",
       "  not enabled. See the <a href=\"https://ipywidgets.readthedocs.io/en/stable/user_install.html\">Jupyter\n",
       "  Widgets Documentation</a> for setup instructions.\n",
       "</p>\n",
       "<p>\n",
       "  If you're reading this message in another frontend (for example, a static\n",
       "  rendering on GitHub or <a href=\"https://nbviewer.jupyter.org/\">NBViewer</a>),\n",
       "  it may mean that your frontend doesn't currently support widgets.\n",
       "</p>\n"
      ],
      "text/plain": [
       "HBox(children=(IntProgress(value=0, max=122), HTML(value='')))"
      ]
     },
     "metadata": {},
     "output_type": "display_data"
    },
    {
     "data": {
      "application/vnd.jupyter.widget-view+json": {
       "model_id": "ff93f8c61a3e445b8fb9420d47a7ae51",
       "version_major": 2,
       "version_minor": 0
      },
      "text/html": [
       "<p>Failed to display Jupyter Widget of type <code>HBox</code>.</p>\n",
       "<p>\n",
       "  If you're reading this message in the Jupyter Notebook or JupyterLab Notebook, it may mean\n",
       "  that the widgets JavaScript is still loading. If this message persists, it\n",
       "  likely means that the widgets JavaScript library is either not installed or\n",
       "  not enabled. See the <a href=\"https://ipywidgets.readthedocs.io/en/stable/user_install.html\">Jupyter\n",
       "  Widgets Documentation</a> for setup instructions.\n",
       "</p>\n",
       "<p>\n",
       "  If you're reading this message in another frontend (for example, a static\n",
       "  rendering on GitHub or <a href=\"https://nbviewer.jupyter.org/\">NBViewer</a>),\n",
       "  it may mean that your frontend doesn't currently support widgets.\n",
       "</p>\n"
      ],
      "text/plain": [
       "HBox(children=(IntProgress(value=0, max=110), HTML(value='')))"
      ]
     },
     "metadata": {},
     "output_type": "display_data"
    },
    {
     "data": {
      "application/vnd.jupyter.widget-view+json": {
       "model_id": "7b094508f96c45ca8751514c818ca1f0",
       "version_major": 2,
       "version_minor": 0
      },
      "text/html": [
       "<p>Failed to display Jupyter Widget of type <code>HBox</code>.</p>\n",
       "<p>\n",
       "  If you're reading this message in the Jupyter Notebook or JupyterLab Notebook, it may mean\n",
       "  that the widgets JavaScript is still loading. If this message persists, it\n",
       "  likely means that the widgets JavaScript library is either not installed or\n",
       "  not enabled. See the <a href=\"https://ipywidgets.readthedocs.io/en/stable/user_install.html\">Jupyter\n",
       "  Widgets Documentation</a> for setup instructions.\n",
       "</p>\n",
       "<p>\n",
       "  If you're reading this message in another frontend (for example, a static\n",
       "  rendering on GitHub or <a href=\"https://nbviewer.jupyter.org/\">NBViewer</a>),\n",
       "  it may mean that your frontend doesn't currently support widgets.\n",
       "</p>\n"
      ],
      "text/plain": [
       "HBox(children=(IntProgress(value=0, max=119), HTML(value='')))"
      ]
     },
     "metadata": {},
     "output_type": "display_data"
    },
    {
     "data": {
      "application/vnd.jupyter.widget-view+json": {
       "model_id": "31af092e0a454527b95b3a53d2604749",
       "version_major": 2,
       "version_minor": 0
      },
      "text/html": [
       "<p>Failed to display Jupyter Widget of type <code>HBox</code>.</p>\n",
       "<p>\n",
       "  If you're reading this message in the Jupyter Notebook or JupyterLab Notebook, it may mean\n",
       "  that the widgets JavaScript is still loading. If this message persists, it\n",
       "  likely means that the widgets JavaScript library is either not installed or\n",
       "  not enabled. See the <a href=\"https://ipywidgets.readthedocs.io/en/stable/user_install.html\">Jupyter\n",
       "  Widgets Documentation</a> for setup instructions.\n",
       "</p>\n",
       "<p>\n",
       "  If you're reading this message in another frontend (for example, a static\n",
       "  rendering on GitHub or <a href=\"https://nbviewer.jupyter.org/\">NBViewer</a>),\n",
       "  it may mean that your frontend doesn't currently support widgets.\n",
       "</p>\n"
      ],
      "text/plain": [
       "HBox(children=(IntProgress(value=0, max=66), HTML(value='')))"
      ]
     },
     "metadata": {},
     "output_type": "display_data"
    },
    {
     "name": "stdout",
     "output_type": "stream",
     "text": [
      "[8.802232458542035, 3.7183364697559274, 5.293493802069501, 0.8644607567837828]\n"
     ]
    },
    {
     "data": {
      "application/vnd.jupyter.widget-view+json": {
       "model_id": "cf61194a9a774db48cdbe2c796f67bec",
       "version_major": 2,
       "version_minor": 0
      },
      "text/html": [
       "<p>Failed to display Jupyter Widget of type <code>HBox</code>.</p>\n",
       "<p>\n",
       "  If you're reading this message in the Jupyter Notebook or JupyterLab Notebook, it may mean\n",
       "  that the widgets JavaScript is still loading. If this message persists, it\n",
       "  likely means that the widgets JavaScript library is either not installed or\n",
       "  not enabled. See the <a href=\"https://ipywidgets.readthedocs.io/en/stable/user_install.html\">Jupyter\n",
       "  Widgets Documentation</a> for setup instructions.\n",
       "</p>\n",
       "<p>\n",
       "  If you're reading this message in another frontend (for example, a static\n",
       "  rendering on GitHub or <a href=\"https://nbviewer.jupyter.org/\">NBViewer</a>),\n",
       "  it may mean that your frontend doesn't currently support widgets.\n",
       "</p>\n"
      ],
      "text/plain": [
       "HBox(children=(IntProgress(value=0, max=34), HTML(value='')))"
      ]
     },
     "metadata": {},
     "output_type": "display_data"
    },
    {
     "data": {
      "application/vnd.jupyter.widget-view+json": {
       "model_id": "5b91502d64c14a7183b73725f84f7303",
       "version_major": 2,
       "version_minor": 0
      },
      "text/html": [
       "<p>Failed to display Jupyter Widget of type <code>HBox</code>.</p>\n",
       "<p>\n",
       "  If you're reading this message in the Jupyter Notebook or JupyterLab Notebook, it may mean\n",
       "  that the widgets JavaScript is still loading. If this message persists, it\n",
       "  likely means that the widgets JavaScript library is either not installed or\n",
       "  not enabled. See the <a href=\"https://ipywidgets.readthedocs.io/en/stable/user_install.html\">Jupyter\n",
       "  Widgets Documentation</a> for setup instructions.\n",
       "</p>\n",
       "<p>\n",
       "  If you're reading this message in another frontend (for example, a static\n",
       "  rendering on GitHub or <a href=\"https://nbviewer.jupyter.org/\">NBViewer</a>),\n",
       "  it may mean that your frontend doesn't currently support widgets.\n",
       "</p>\n"
      ],
      "text/plain": [
       "HBox(children=(IntProgress(value=0, max=61), HTML(value='')))"
      ]
     },
     "metadata": {},
     "output_type": "display_data"
    },
    {
     "ename": "KeyboardInterrupt",
     "evalue": "",
     "output_type": "error",
     "traceback": [
      "\u001b[0;31m---------------------------------------------------------------------------\u001b[0m",
      "\u001b[0;31mKeyboardInterrupt\u001b[0m                         Traceback (most recent call last)",
      "\u001b[0;32m<ipython-input-528-0deb9c473d94>\u001b[0m in \u001b[0;36m<module>\u001b[0;34m()\u001b[0m\n\u001b[1;32m      1\u001b[0m \u001b[0mr_PM25_copy\u001b[0m \u001b[0;34m=\u001b[0m \u001b[0mr_PM25\u001b[0m\u001b[0;34m.\u001b[0m\u001b[0mcopy\u001b[0m\u001b[0;34m(\u001b[0m\u001b[0;34m)\u001b[0m\u001b[0;34m\u001b[0m\u001b[0m\n\u001b[0;32m----> 2\u001b[0;31m \u001b[0mresults\u001b[0m \u001b[0;34m=\u001b[0m \u001b[0mKFold_cross_validation_my_KNN\u001b[0m\u001b[0;34m(\u001b[0m\u001b[0mr_PM25_copy\u001b[0m\u001b[0;34m,\u001b[0m\u001b[0;36m10\u001b[0m\u001b[0;34m)\u001b[0m\u001b[0;34m\u001b[0m\u001b[0m\n\u001b[0m",
      "\u001b[0;32m<ipython-input-527-e6a35cb76671>\u001b[0m in \u001b[0;36mKFold_cross_validation_my_KNN\u001b[0;34m(PM25, k)\u001b[0m\n\u001b[1;32m     33\u001b[0m             \u001b[0;31m# impute\u001b[0m\u001b[0;34m\u001b[0m\u001b[0;34m\u001b[0m\u001b[0m\n\u001b[1;32m     34\u001b[0m             \u001b[0mk_neigh\u001b[0m \u001b[0;34m=\u001b[0m \u001b[0;36m9\u001b[0m \u001b[0;31m# optimal k when checked between 7-12\u001b[0m\u001b[0;34m\u001b[0m\u001b[0m\n\u001b[0;32m---> 35\u001b[0;31m             \u001b[0mimputed\u001b[0m \u001b[0;34m=\u001b[0m \u001b[0mimpute_knn\u001b[0m\u001b[0;34m(\u001b[0m\u001b[0mnp_X_missing\u001b[0m\u001b[0;34m,\u001b[0m\u001b[0mk_neigh\u001b[0m\u001b[0;34m)\u001b[0m\u001b[0;34m\u001b[0m\u001b[0m\n\u001b[0m\u001b[1;32m     36\u001b[0m \u001b[0;34m\u001b[0m\u001b[0m\n\u001b[1;32m     37\u001b[0m             \u001b[0;31m# save imputation\u001b[0m\u001b[0;34m\u001b[0m\u001b[0;34m\u001b[0m\u001b[0m\n",
      "\u001b[0;32m<ipython-input-526-becee9b57002>\u001b[0m in \u001b[0;36mimpute_knn\u001b[0;34m(np_r_PM25, k)\u001b[0m\n\u001b[1;32m     39\u001b[0m     \u001b[0;31m#         dists = distance.cdist(not_nan_data_corr, batch, 'seuclidean', V=var_not_nan_data_corr)\u001b[0m\u001b[0;34m\u001b[0m\u001b[0;34m\u001b[0m\u001b[0m\n\u001b[1;32m     40\u001b[0m \u001b[0;34m\u001b[0m\u001b[0m\n\u001b[0;32m---> 41\u001b[0;31m             \u001b[0mdists\u001b[0m \u001b[0;34m=\u001b[0m \u001b[0mnan_euclidean_distances\u001b[0m\u001b[0;34m(\u001b[0m\u001b[0mnot_nan_in_colom_all_data_norm\u001b[0m\u001b[0;34m,\u001b[0m \u001b[0mbatch\u001b[0m\u001b[0;34m)\u001b[0m\u001b[0;34m\u001b[0m\u001b[0m\n\u001b[0m\u001b[1;32m     42\u001b[0m \u001b[0;34m\u001b[0m\u001b[0m\n\u001b[1;32m     43\u001b[0m             \u001b[0mweights\u001b[0m \u001b[0;34m=\u001b[0m \u001b[0mcounts\u001b[0m\u001b[0;34m/\u001b[0m\u001b[0mdists\u001b[0m\u001b[0;34m\u001b[0m\u001b[0m\n",
      "\u001b[0;32m/Library/Frameworks/Python.framework/Versions/3.6/lib/python3.6/site-packages/sklearn/utils/validation.py\u001b[0m in \u001b[0;36minner_f\u001b[0;34m(*args, **kwargs)\u001b[0m\n\u001b[1;32m     71\u001b[0m                           FutureWarning)\n\u001b[1;32m     72\u001b[0m         \u001b[0mkwargs\u001b[0m\u001b[0;34m.\u001b[0m\u001b[0mupdate\u001b[0m\u001b[0;34m(\u001b[0m\u001b[0;34m{\u001b[0m\u001b[0mk\u001b[0m\u001b[0;34m:\u001b[0m \u001b[0marg\u001b[0m \u001b[0;32mfor\u001b[0m \u001b[0mk\u001b[0m\u001b[0;34m,\u001b[0m \u001b[0marg\u001b[0m \u001b[0;32min\u001b[0m \u001b[0mzip\u001b[0m\u001b[0;34m(\u001b[0m\u001b[0msig\u001b[0m\u001b[0;34m.\u001b[0m\u001b[0mparameters\u001b[0m\u001b[0;34m,\u001b[0m \u001b[0margs\u001b[0m\u001b[0;34m)\u001b[0m\u001b[0;34m}\u001b[0m\u001b[0;34m)\u001b[0m\u001b[0;34m\u001b[0m\u001b[0m\n\u001b[0;32m---> 73\u001b[0;31m         \u001b[0;32mreturn\u001b[0m \u001b[0mf\u001b[0m\u001b[0;34m(\u001b[0m\u001b[0;34m**\u001b[0m\u001b[0mkwargs\u001b[0m\u001b[0;34m)\u001b[0m\u001b[0;34m\u001b[0m\u001b[0m\n\u001b[0m\u001b[1;32m     74\u001b[0m     \u001b[0;32mreturn\u001b[0m \u001b[0minner_f\u001b[0m\u001b[0;34m\u001b[0m\u001b[0m\n\u001b[1;32m     75\u001b[0m \u001b[0;34m\u001b[0m\u001b[0m\n",
      "\u001b[0;32m/Library/Frameworks/Python.framework/Versions/3.6/lib/python3.6/site-packages/sklearn/metrics/pairwise.py\u001b[0m in \u001b[0;36mnan_euclidean_distances\u001b[0;34m(X, Y, squared, missing_values, copy)\u001b[0m\n\u001b[1;32m    411\u001b[0m     \u001b[0mXX\u001b[0m \u001b[0;34m=\u001b[0m \u001b[0mX\u001b[0m \u001b[0;34m*\u001b[0m \u001b[0mX\u001b[0m\u001b[0;34m\u001b[0m\u001b[0m\n\u001b[1;32m    412\u001b[0m     \u001b[0mYY\u001b[0m \u001b[0;34m=\u001b[0m \u001b[0mY\u001b[0m \u001b[0;34m*\u001b[0m \u001b[0mY\u001b[0m\u001b[0;34m\u001b[0m\u001b[0m\n\u001b[0;32m--> 413\u001b[0;31m     \u001b[0mdistances\u001b[0m \u001b[0;34m-=\u001b[0m \u001b[0mnp\u001b[0m\u001b[0;34m.\u001b[0m\u001b[0mdot\u001b[0m\u001b[0;34m(\u001b[0m\u001b[0mXX\u001b[0m\u001b[0;34m,\u001b[0m \u001b[0mmissing_Y\u001b[0m\u001b[0;34m.\u001b[0m\u001b[0mT\u001b[0m\u001b[0;34m)\u001b[0m\u001b[0;34m\u001b[0m\u001b[0m\n\u001b[0m\u001b[1;32m    414\u001b[0m     \u001b[0mdistances\u001b[0m \u001b[0;34m-=\u001b[0m \u001b[0mnp\u001b[0m\u001b[0;34m.\u001b[0m\u001b[0mdot\u001b[0m\u001b[0;34m(\u001b[0m\u001b[0mmissing_X\u001b[0m\u001b[0;34m,\u001b[0m \u001b[0mYY\u001b[0m\u001b[0;34m.\u001b[0m\u001b[0mT\u001b[0m\u001b[0;34m)\u001b[0m\u001b[0;34m\u001b[0m\u001b[0m\n\u001b[1;32m    415\u001b[0m \u001b[0;34m\u001b[0m\u001b[0m\n",
      "\u001b[0;31mKeyboardInterrupt\u001b[0m: "
     ]
    }
   ],
   "source": [
    "r_PM25_copy = r_PM25.copy()\n",
    "results = KFold_cross_validation_my_KNN(r_PM25_copy,10)"
   ]
  },
  {
   "cell_type": "code",
   "execution_count": null,
   "metadata": {},
   "outputs": [],
   "source": []
  },
  {
   "cell_type": "markdown",
   "metadata": {},
   "source": [
    "##### take one row before and one after:"
   ]
  },
  {
   "cell_type": "code",
   "execution_count": 235,
   "metadata": {},
   "outputs": [
    {
     "data": {
      "text/plain": [
       "(105166, 102)"
      ]
     },
     "execution_count": 235,
     "metadata": {},
     "output_type": "execute_result"
    }
   ],
   "source": [
    "r_PM25_df = pd.DataFrame(np_r_PM25, columns=r_PM25.columns)\n",
    "\n",
    "# concat shifted dataframes +-1 time\n",
    "shiftM1 = r_PM25_df.shift(periods=-1)\n",
    "shiftP1 = r_PM25_df.shift(periods=1)\n",
    "\n",
    "df_to_impute = pd.concat([shiftM1, r_PM25_df, shiftP1],axis = 1)\n",
    "df_to_impute.shape"
   ]
  },
  {
   "cell_type": "code",
   "execution_count": 418,
   "metadata": {},
   "outputs": [],
   "source": [
    "k = 9 \n",
    "imputed = impute_knn(df_to_impute.values,k)\n",
    "imputed = imputed[:,34:68] # full"
   ]
  },
  {
   "cell_type": "markdown",
   "metadata": {},
   "source": [
    "##### take one row before and one after AND day (it didn't change anything!)"
   ]
  },
  {
   "cell_type": "code",
   "execution_count": 317,
   "metadata": {},
   "outputs": [],
   "source": [
    "r_PM25_df = pd.DataFrame(np_r_PM25, columns=r_PM25.columns)\n",
    "\n",
    "# concat shifted dataframes +-1 time\n",
    "shiftM1 = r_PM25_df.shift(periods=-1)\n",
    "shiftP1 = r_PM25_df.shift(periods=1)\n",
    "\n",
    "df_to_impute = pd.concat([shiftM1, r_PM25_df, shiftP1],axis = 1)\n",
    "\n",
    "df_to_impute['week day'] = pd.to_datetime(times).dayofweek\n",
    "df_to_impute['month'] = pd.to_datetime(times).month\n",
    "df_to_impute['hour'] = pd.to_datetime(times).hour\n",
    "\n",
    "df_to_impute.shape\n",
    "\n",
    "k = 9 \n",
    "imputed = impute_knn(df_to_impute.values,k)\n",
    "\n",
    "imputed = imputed[:,34:68] # full"
   ]
  },
  {
   "cell_type": "code",
   "execution_count": null,
   "metadata": {},
   "outputs": [],
   "source": []
  },
  {
   "cell_type": "code",
   "execution_count": 437,
   "metadata": {},
   "outputs": [],
   "source": [
    "imputed_df = pd.DataFrame(imputed, columns=r_PM25.columns) #turn it from IterativeImputer object to a dataframe"
   ]
  },
  {
   "cell_type": "code",
   "execution_count": null,
   "metadata": {},
   "outputs": [],
   "source": []
  },
  {
   "cell_type": "code",
   "execution_count": 438,
   "metadata": {},
   "outputs": [
    {
     "data": {
      "text/plain": [
       "<matplotlib.axes._subplots.AxesSubplot at 0x168429c18>"
      ]
     },
     "execution_count": 438,
     "metadata": {},
     "output_type": "execute_result"
    }
   ],
   "source": [
    "imputed_df.loc[:8000,'AFULA'].plot()"
   ]
  },
  {
   "cell_type": "code",
   "execution_count": 327,
   "metadata": {},
   "outputs": [],
   "source": [
    "# pairwise_distances([[1, np.nan, 2, np.nan]], [[2, 3, np.nan, np.nan]],'nan_euclidean') "
   ]
  },
  {
   "cell_type": "code",
   "execution_count": 328,
   "metadata": {
    "scrolled": true
   },
   "outputs": [
    {
     "data": {
      "image/png": "[encoded data removed]",
      "text/plain": [
       "<Figure size 432x288 with 1 Axes>"
      ]
     },
     "metadata": {
      "image/png": {
       "height": 248,
       "width": 397
      }
     },
     "output_type": "display_data"
    }
   ],
   "source": [
    "plt.hist([imputed[mask_nans], imputed_df['AFULA']],bins=100)\n",
    "\n",
    "plt.xlim([0,100])\n",
    "plt.show();"
   ]
  },
  {
   "cell_type": "code",
   "execution_count": null,
   "metadata": {},
   "outputs": [],
   "source": []
  },
  {
   "cell_type": "code",
   "execution_count": null,
   "metadata": {},
   "outputs": [],
   "source": []
  },
  {
   "cell_type": "code",
   "execution_count": 241,
   "metadata": {},
   "outputs": [
    {
     "data": {
      "text/plain": [
       "array([28.63174545, 45.89626142, 40.80142235, ..., 18.13581055,\n",
       "       22.477299  , 23.59725756])"
      ]
     },
     "execution_count": 241,
     "metadata": {},
     "output_type": "execute_result"
    }
   ],
   "source": [
    "imputed[mask_nans]"
   ]
  },
  {
   "cell_type": "code",
   "execution_count": 242,
   "metadata": {},
   "outputs": [],
   "source": [
    "# corrMatrix.sort_values()"
   ]
  },
  {
   "cell_type": "code",
   "execution_count": 243,
   "metadata": {},
   "outputs": [
    {
     "data": {
      "text/html": [
       "<div>\n",
       "<style scoped>\n",
       "    .dataframe tbody tr th:only-of-type {\n",
       "        vertical-align: middle;\n",
       "    }\n",
       "\n",
       "    .dataframe tbody tr th {\n",
       "        vertical-align: top;\n",
       "    }\n",
       "\n",
       "    .dataframe thead th {\n",
       "        text-align: right;\n",
       "    }\n",
       "</style>\n",
       "<table border=\"1\" class=\"dataframe\">\n",
       "  <thead>\n",
       "    <tr style=\"text-align: right;\">\n",
       "      <th></th>\n",
       "      <th>AFULA</th>\n",
       "      <th>ANTOKOLSKY</th>\n",
       "      <th>HOLON</th>\n",
       "      <th>IRONID</th>\n",
       "      <th>KVISH4</th>\n",
       "      <th>REMEZ</th>\n",
       "      <th>YAD_LEBANIM</th>\n",
       "      <th>YEFET_YAFO</th>\n",
       "      <th>AHUZA_G</th>\n",
       "      <th>ATZMAUT_B</th>\n",
       "      <th>...</th>\n",
       "      <th>ORT</th>\n",
       "      <th>ROVA_TV</th>\n",
       "      <th>SDEROT</th>\n",
       "      <th>SDE_YOAV</th>\n",
       "      <th>YAHALOM</th>\n",
       "      <th>BEER_SHEVA</th>\n",
       "      <th>EAST_NEGEV</th>\n",
       "      <th>KFAR_MASARIK</th>\n",
       "      <th>PARDES_HANA</th>\n",
       "      <th>RAANANA</th>\n",
       "    </tr>\n",
       "  </thead>\n",
       "  <tbody>\n",
       "    <tr>\n",
       "      <th>0</th>\n",
       "      <td>28.631745</td>\n",
       "      <td>28.100000</td>\n",
       "      <td>55.0</td>\n",
       "      <td>43.800000</td>\n",
       "      <td>45.896261</td>\n",
       "      <td>40.801422</td>\n",
       "      <td>19.677012</td>\n",
       "      <td>35.115001</td>\n",
       "      <td>17.8</td>\n",
       "      <td>31.2</td>\n",
       "      <td>...</td>\n",
       "      <td>39.2</td>\n",
       "      <td>39.2</td>\n",
       "      <td>45.7</td>\n",
       "      <td>35.1</td>\n",
       "      <td>52.400000</td>\n",
       "      <td>35.3</td>\n",
       "      <td>34.455832</td>\n",
       "      <td>9.30000</td>\n",
       "      <td>16.9</td>\n",
       "      <td>24.500696</td>\n",
       "    </tr>\n",
       "    <tr>\n",
       "      <th>1</th>\n",
       "      <td>41.195774</td>\n",
       "      <td>27.287042</td>\n",
       "      <td>55.0</td>\n",
       "      <td>39.596153</td>\n",
       "      <td>45.878480</td>\n",
       "      <td>37.849669</td>\n",
       "      <td>18.500000</td>\n",
       "      <td>34.284685</td>\n",
       "      <td>17.8</td>\n",
       "      <td>38.8</td>\n",
       "      <td>...</td>\n",
       "      <td>49.0</td>\n",
       "      <td>49.0</td>\n",
       "      <td>54.0</td>\n",
       "      <td>34.4</td>\n",
       "      <td>42.400000</td>\n",
       "      <td>33.1</td>\n",
       "      <td>30.674326</td>\n",
       "      <td>17.57453</td>\n",
       "      <td>16.9</td>\n",
       "      <td>27.020258</td>\n",
       "    </tr>\n",
       "    <tr>\n",
       "      <th>2</th>\n",
       "      <td>39.970434</td>\n",
       "      <td>27.700000</td>\n",
       "      <td>55.0</td>\n",
       "      <td>45.722279</td>\n",
       "      <td>47.146121</td>\n",
       "      <td>36.982329</td>\n",
       "      <td>21.700000</td>\n",
       "      <td>38.420524</td>\n",
       "      <td>16.2</td>\n",
       "      <td>43.3</td>\n",
       "      <td>...</td>\n",
       "      <td>43.8</td>\n",
       "      <td>43.8</td>\n",
       "      <td>48.0</td>\n",
       "      <td>44.9</td>\n",
       "      <td>43.174365</td>\n",
       "      <td>25.9</td>\n",
       "      <td>19.643383</td>\n",
       "      <td>20.20000</td>\n",
       "      <td>11.9</td>\n",
       "      <td>38.226212</td>\n",
       "    </tr>\n",
       "    <tr>\n",
       "      <th>3</th>\n",
       "      <td>25.151861</td>\n",
       "      <td>26.300000</td>\n",
       "      <td>64.6</td>\n",
       "      <td>48.700000</td>\n",
       "      <td>43.464360</td>\n",
       "      <td>44.238983</td>\n",
       "      <td>23.600000</td>\n",
       "      <td>36.708953</td>\n",
       "      <td>17.1</td>\n",
       "      <td>39.3</td>\n",
       "      <td>...</td>\n",
       "      <td>39.4</td>\n",
       "      <td>39.4</td>\n",
       "      <td>25.6</td>\n",
       "      <td>34.6</td>\n",
       "      <td>45.400000</td>\n",
       "      <td>26.4</td>\n",
       "      <td>24.175581</td>\n",
       "      <td>16.60000</td>\n",
       "      <td>15.1</td>\n",
       "      <td>39.900979</td>\n",
       "    </tr>\n",
       "    <tr>\n",
       "      <th>4</th>\n",
       "      <td>32.206326</td>\n",
       "      <td>28.000000</td>\n",
       "      <td>71.0</td>\n",
       "      <td>44.700000</td>\n",
       "      <td>33.990600</td>\n",
       "      <td>41.688247</td>\n",
       "      <td>25.000000</td>\n",
       "      <td>37.172076</td>\n",
       "      <td>18.3</td>\n",
       "      <td>37.1</td>\n",
       "      <td>...</td>\n",
       "      <td>42.5</td>\n",
       "      <td>42.5</td>\n",
       "      <td>20.3</td>\n",
       "      <td>26.0</td>\n",
       "      <td>35.100000</td>\n",
       "      <td>34.6</td>\n",
       "      <td>26.295005</td>\n",
       "      <td>14.40000</td>\n",
       "      <td>17.0</td>\n",
       "      <td>31.789568</td>\n",
       "    </tr>\n",
       "  </tbody>\n",
       "</table>\n",
       "<p>5 rows × 34 columns</p>\n",
       "</div>"
      ],
      "text/plain": [
       "       AFULA  ANTOKOLSKY  HOLON     IRONID     KVISH4      REMEZ  YAD_LEBANIM  \\\n",
       "0  28.631745   28.100000   55.0  43.800000  45.896261  40.801422    19.677012   \n",
       "1  41.195774   27.287042   55.0  39.596153  45.878480  37.849669    18.500000   \n",
       "2  39.970434   27.700000   55.0  45.722279  47.146121  36.982329    21.700000   \n",
       "3  25.151861   26.300000   64.6  48.700000  43.464360  44.238983    23.600000   \n",
       "4  32.206326   28.000000   71.0  44.700000  33.990600  41.688247    25.000000   \n",
       "\n",
       "   YEFET_YAFO  AHUZA_G  ATZMAUT_B    ...       ORT  ROVA_TV  SDEROT  SDE_YOAV  \\\n",
       "0   35.115001     17.8       31.2    ...      39.2     39.2    45.7      35.1   \n",
       "1   34.284685     17.8       38.8    ...      49.0     49.0    54.0      34.4   \n",
       "2   38.420524     16.2       43.3    ...      43.8     43.8    48.0      44.9   \n",
       "3   36.708953     17.1       39.3    ...      39.4     39.4    25.6      34.6   \n",
       "4   37.172076     18.3       37.1    ...      42.5     42.5    20.3      26.0   \n",
       "\n",
       "     YAHALOM  BEER_SHEVA  EAST_NEGEV  KFAR_MASARIK  PARDES_HANA    RAANANA  \n",
       "0  52.400000        35.3   34.455832       9.30000         16.9  24.500696  \n",
       "1  42.400000        33.1   30.674326      17.57453         16.9  27.020258  \n",
       "2  43.174365        25.9   19.643383      20.20000         11.9  38.226212  \n",
       "3  45.400000        26.4   24.175581      16.60000         15.1  39.900979  \n",
       "4  35.100000        34.6   26.295005      14.40000         17.0  31.789568  \n",
       "\n",
       "[5 rows x 34 columns]"
      ]
     },
     "execution_count": 243,
     "metadata": {},
     "output_type": "execute_result"
    }
   ],
   "source": [
    "imputed_df.head()"
   ]
  },
  {
   "cell_type": "code",
   "execution_count": null,
   "metadata": {},
   "outputs": [],
   "source": []
  },
  {
   "cell_type": "code",
   "execution_count": 421,
   "metadata": {},
   "outputs": [],
   "source": [
    "np_imputed_df = imputed_df.values"
   ]
  },
  {
   "cell_type": "code",
   "execution_count": null,
   "metadata": {},
   "outputs": [],
   "source": []
  },
  {
   "cell_type": "code",
   "execution_count": 439,
   "metadata": {},
   "outputs": [],
   "source": [
    "# y_train = np_r_PM25_y[~np.isnan(np_r_PM25_y)]\n",
    "# y_pred = np_imputed_df[~np.isnan(np_r_PM25_y)]\n",
    "\n",
    "y_train = np_r_PM25_y[~np.isnan(np_r_PM25_y[:,0]),0]\n",
    "y_pred = np_imputed_df[~np.isnan(np_r_PM25_y[:,0]),0]"
   ]
  },
  {
   "cell_type": "code",
   "execution_count": 440,
   "metadata": {},
   "outputs": [
    {
     "data": {
      "text/plain": [
       "array([19.4, 16.2, 20.7, ...,  5.1, 10.6, 18.9])"
      ]
     },
     "execution_count": 440,
     "metadata": {},
     "output_type": "execute_result"
    }
   ],
   "source": [
    "y_train"
   ]
  },
  {
   "cell_type": "code",
   "execution_count": 441,
   "metadata": {},
   "outputs": [
    {
     "data": {
      "text/plain": [
       "array([18.64671762, 16.92619115, 16.54627719, ...,  9.05039156,\n",
       "       19.60627627, 27.73720712])"
      ]
     },
     "execution_count": 441,
     "metadata": {},
     "output_type": "execute_result"
    }
   ],
   "source": [
    "y_pred"
   ]
  },
  {
   "cell_type": "code",
   "execution_count": 442,
   "metadata": {},
   "outputs": [
    {
     "data": {
      "text/plain": [
       "array([[     0,      4],\n",
       "       [     0,      5],\n",
       "       [     0,      6],\n",
       "       ...,\n",
       "       [105165,     27],\n",
       "       [105165,     28],\n",
       "       [105165,     31]])"
      ]
     },
     "execution_count": 442,
     "metadata": {},
     "output_type": "execute_result"
    }
   ],
   "source": [
    "# some indexes are not imputed for some reason:\n",
    "not_imp_idx = np.argwhere(np.isnan(np_imputed_df))\n",
    "not_imp_idx"
   ]
  },
  {
   "cell_type": "code",
   "execution_count": null,
   "metadata": {},
   "outputs": [],
   "source": []
  },
  {
   "cell_type": "code",
   "execution_count": 443,
   "metadata": {},
   "outputs": [],
   "source": [
    "# y_train = y_train[~np.isnan(y_pred)]\n",
    "# y_pred = y_pred[~np.isnan(y_pred)]"
   ]
  },
  {
   "cell_type": "code",
   "execution_count": null,
   "metadata": {},
   "outputs": [],
   "source": []
  },
  {
   "cell_type": "code",
   "execution_count": 444,
   "metadata": {},
   "outputs": [
    {
     "data": {
      "text/plain": [
       "[8.019208720623169, 3.9024184145976566, 5.080287282892301, 0.8648066082293426]"
      ]
     },
     "execution_count": 444,
     "metadata": {},
     "output_type": "execute_result"
    }
   ],
   "source": [
    "\n",
    "# assign results\n",
    "RMSE = np.sqrt(mean_squared_error(y_train, y_pred))\n",
    "MedianAE = median_absolute_error(y_train, y_pred)\n",
    "MeanAE = mean_absolute_error(y_train,y_pred)\n",
    "R2 = r2_score(y_train,y_pred)\n",
    "\n",
    "[RMSE,MedianAE,MeanAE,R2]\n",
    "\n"
   ]
  },
  {
   "cell_type": "code",
   "execution_count": 251,
   "metadata": {},
   "outputs": [],
   "source": [
    "imputed_df.to_pickle(\"/Users/iditbela/Documents/Broday/saved_data_from_notebooks/results_my_KNN_090_cv10\")"
   ]
  },
  {
   "cell_type": "code",
   "execution_count": 1142,
   "metadata": {},
   "outputs": [],
   "source": [
    "# finding_k = []"
   ]
  },
  {
   "cell_type": "code",
   "execution_count": 1143,
   "metadata": {},
   "outputs": [],
   "source": [
    "finding_k.append([k,RMSE,MedianAE,MeanAE,R2])"
   ]
  },
  {
   "cell_type": "code",
   "execution_count": 1146,
   "metadata": {},
   "outputs": [
    {
     "data": {
      "text/plain": [
       "[[11,\n",
       "  8.062258700593182,\n",
       "  3.875107350960702,\n",
       "  5.063837703643672,\n",
       "  0.8633511791147962],\n",
       " [10,\n",
       "  8.054800672215015,\n",
       "  3.8852194604571118,\n",
       "  5.0713033251569,\n",
       "  0.8636038773836302],\n",
       " [9,\n",
       "  8.019208720623169,\n",
       "  3.9024184145976566,\n",
       "  5.080287282892301,\n",
       "  0.8648066082293426],\n",
       " [8,\n",
       "  8.037534919423054,\n",
       "  3.899835778165407,\n",
       "  5.099594999712205,\n",
       "  0.864187990594347],\n",
       " [7,\n",
       "  8.074772243973879,\n",
       "  3.905597616704661,\n",
       "  5.120784577258408,\n",
       "  0.8629266608653443],\n",
       " [12,\n",
       "  8.066544663903374,\n",
       "  3.8663236288542606,\n",
       "  5.062049438093607,\n",
       "  0.863205853213348]]"
      ]
     },
     "execution_count": 1146,
     "metadata": {},
     "output_type": "execute_result"
    }
   ],
   "source": [
    "finding_k"
   ]
  },
  {
   "cell_type": "code",
   "execution_count": null,
   "metadata": {},
   "outputs": [],
   "source": []
  },
  {
   "cell_type": "code",
   "execution_count": 990,
   "metadata": {},
   "outputs": [],
   "source": [
    "# imputed_df.to_pickle(\"/Users/iditbela/Documents/Broday/saved_data_from_notebooks/results_my_KNN_0857_cv10\")"
   ]
  },
  {
   "cell_type": "code",
   "execution_count": null,
   "metadata": {},
   "outputs": [],
   "source": [
    "# TRY WITH SHIFT 1 BACK AND SHIFT 1 FORWARD"
   ]
  },
  {
   "cell_type": "code",
   "execution_count": null,
   "metadata": {},
   "outputs": [],
   "source": []
  },
  {
   "cell_type": "code",
   "execution_count": null,
   "metadata": {},
   "outputs": [],
   "source": []
  },
  {
   "cell_type": "code",
   "execution_count": null,
   "metadata": {},
   "outputs": [],
   "source": []
  },
  {
   "cell_type": "markdown",
   "metadata": {},
   "source": [
    "# (3) ARIMA/LSTM/Prophet/the simplest ever for 1-? missing time-steps (short intervals)"
   ]
  },
  {
   "cell_type": "code",
   "execution_count": null,
   "metadata": {},
   "outputs": [],
   "source": [
    "# https://www.analyticsvidhya.com/blog/2016/02/time-series-forecasting-codes-python/\n",
    "# https://medium.com/@josemarcialportilla/using-python-and-auto-arima-to-forecast-seasonal-time-series-90877adff03c\n",
    "# https://medium.com/analytics-vidhya/time-series-forecasting-arima-vs-lstm-vs-prophet-62241c203a3b"
   ]
  },
  {
   "cell_type": "code",
   "execution_count": 21,
   "metadata": {},
   "outputs": [],
   "source": [
    "# ARIMA - use auto.arima...\n",
    "\n",
    "import pmdarima\n",
    "import statsmodels.tsa.api as smt"
   ]
  },
  {
   "cell_type": "code",
   "execution_count": 35,
   "metadata": {},
   "outputs": [],
   "source": [
    "series = r_PM25_copy.iloc[:,0].values"
   ]
  },
  {
   "cell_type": "code",
   "execution_count": 51,
   "metadata": {},
   "outputs": [
    {
     "data": {
      "text/plain": [
       "5.4"
      ]
     },
     "execution_count": 51,
     "metadata": {},
     "output_type": "execute_result"
    }
   ],
   "source": [
    "start_index = 4676\n",
    "\n",
    "series[4766]"
   ]
  },
  {
   "cell_type": "code",
   "execution_count": 36,
   "metadata": {},
   "outputs": [
    {
     "data": {
      "text/plain": [
       "[array([], dtype=float64),\n",
       " array([nan]),\n",
       " array([nan]),\n",
       " array([nan]),\n",
       " array([nan]),\n",
       " array([nan]),\n",
       " array([nan]),\n",
       " array([nan]),\n",
       " array([nan]),\n",
       " array([nan]),\n",
       " array([nan]),\n",
       " array([nan]),\n",
       " array([nan]),\n",
       " array([nan]),\n",
       " array([nan]),\n",
       " array([nan]),\n",
       " array([nan]),\n",
       " array([nan]),\n",
       " array([nan]),\n",
       " array([nan]),\n",
       " array([nan]),\n",
       " array([nan]),\n",
       " array([nan]),\n",
       " array([nan]),\n",
       " array([nan]),\n",
       " array([nan]),\n",
       " array([nan]),\n",
       " array([nan]),\n",
       " array([nan]),\n",
       " array([nan]),\n",
       " array([nan]),\n",
       " array([nan]),\n",
       " array([nan]),\n",
       " array([nan]),\n",
       " array([nan]),\n",
       " array([nan]),\n",
       " array([nan]),\n",
       " array([nan]),\n",
       " array([nan]),\n",
       " array([nan]),\n",
       " array([nan]),\n",
       " array([nan]),\n",
       " array([nan]),\n",
       " array([nan]),\n",
       " array([nan]),\n",
       " array([nan]),\n",
       " array([nan]),\n",
       " array([nan]),\n",
       " array([nan]),\n",
       " array([nan]),\n",
       " array([nan]),\n",
       " array([nan]),\n",
       " array([nan]),\n",
       " array([nan]),\n",
       " array([nan]),\n",
       " array([nan]),\n",
       " array([nan]),\n",
       " array([nan]),\n",
       " array([nan]),\n",
       " array([nan]),\n",
       " array([nan]),\n",
       " array([nan]),\n",
       " array([nan]),\n",
       " array([nan]),\n",
       " array([nan]),\n",
       " array([nan]),\n",
       " array([nan]),\n",
       " array([nan]),\n",
       " array([nan]),\n",
       " array([nan]),\n",
       " array([nan]),\n",
       " array([nan]),\n",
       " array([nan]),\n",
       " array([nan]),\n",
       " array([nan]),\n",
       " array([nan]),\n",
       " array([nan]),\n",
       " array([nan]),\n",
       " array([nan]),\n",
       " array([nan]),\n",
       " array([nan]),\n",
       " array([nan]),\n",
       " array([nan]),\n",
       " array([nan]),\n",
       " array([nan]),\n",
       " array([nan]),\n",
       " array([nan]),\n",
       " array([nan]),\n",
       " array([nan]),\n",
       " array([nan]),\n",
       " array([nan]),\n",
       " array([nan]),\n",
       " array([nan]),\n",
       " array([nan]),\n",
       " array([nan]),\n",
       " array([nan]),\n",
       " array([nan]),\n",
       " array([nan]),\n",
       " array([nan]),\n",
       " array([nan]),\n",
       " array([nan]),\n",
       " array([nan]),\n",
       " array([nan]),\n",
       " array([nan]),\n",
       " array([nan]),\n",
       " array([nan]),\n",
       " array([nan]),\n",
       " array([nan]),\n",
       " array([nan]),\n",
       " array([nan]),\n",
       " array([nan]),\n",
       " array([nan]),\n",
       " array([nan]),\n",
       " array([nan]),\n",
       " array([nan]),\n",
       " array([nan]),\n",
       " array([nan]),\n",
       " array([nan]),\n",
       " array([nan]),\n",
       " array([nan]),\n",
       " array([nan]),\n",
       " array([nan]),\n",
       " array([nan]),\n",
       " array([nan]),\n",
       " array([nan]),\n",
       " array([nan]),\n",
       " array([nan]),\n",
       " array([nan]),\n",
       " array([nan]),\n",
       " array([nan]),\n",
       " array([nan]),\n",
       " array([nan]),\n",
       " array([nan]),\n",
       " array([nan]),\n",
       " array([nan]),\n",
       " array([nan]),\n",
       " array([nan]),\n",
       " array([nan]),\n",
       " array([nan]),\n",
       " array([nan]),\n",
       " array([nan]),\n",
       " array([nan]),\n",
       " array([nan]),\n",
       " array([nan]),\n",
       " array([nan]),\n",
       " array([nan]),\n",
       " array([nan]),\n",
       " array([nan]),\n",
       " array([nan]),\n",
       " array([nan]),\n",
       " array([nan]),\n",
       " array([nan]),\n",
       " array([nan]),\n",
       " array([nan]),\n",
       " array([nan]),\n",
       " array([nan]),\n",
       " array([nan]),\n",
       " array([nan]),\n",
       " array([nan]),\n",
       " array([nan]),\n",
       " array([nan]),\n",
       " array([nan]),\n",
       " array([nan]),\n",
       " array([nan]),\n",
       " array([nan]),\n",
       " array([nan]),\n",
       " array([nan]),\n",
       " array([nan]),\n",
       " array([nan]),\n",
       " array([nan]),\n",
       " array([nan]),\n",
       " array([nan]),\n",
       " array([nan]),\n",
       " array([nan]),\n",
       " array([nan]),\n",
       " array([nan]),\n",
       " array([nan]),\n",
       " array([nan]),\n",
       " array([nan]),\n",
       " array([nan]),\n",
       " array([nan]),\n",
       " array([nan]),\n",
       " array([nan]),\n",
       " array([nan]),\n",
       " array([nan]),\n",
       " array([nan]),\n",
       " array([nan]),\n",
       " array([nan]),\n",
       " array([nan]),\n",
       " array([nan]),\n",
       " array([nan]),\n",
       " array([nan]),\n",
       " array([nan]),\n",
       " array([nan]),\n",
       " array([nan]),\n",
       " array([nan]),\n",
       " array([nan]),\n",
       " array([nan]),\n",
       " array([nan]),\n",
       " array([nan]),\n",
       " array([nan]),\n",
       " array([nan]),\n",
       " array([nan]),\n",
       " array([nan]),\n",
       " array([nan]),\n",
       " array([nan]),\n",
       " array([nan]),\n",
       " array([nan]),\n",
       " array([nan]),\n",
       " array([nan]),\n",
       " array([nan]),\n",
       " array([nan]),\n",
       " array([nan]),\n",
       " array([nan]),\n",
       " array([nan]),\n",
       " array([nan]),\n",
       " array([nan]),\n",
       " array([nan]),\n",
       " array([nan]),\n",
       " array([nan]),\n",
       " array([nan]),\n",
       " array([nan]),\n",
       " array([nan]),\n",
       " array([nan]),\n",
       " array([nan]),\n",
       " array([nan]),\n",
       " array([nan]),\n",
       " array([nan]),\n",
       " array([nan]),\n",
       " array([nan]),\n",
       " array([nan]),\n",
       " array([nan]),\n",
       " array([nan]),\n",
       " array([nan]),\n",
       " array([nan]),\n",
       " array([nan]),\n",
       " array([nan]),\n",
       " array([nan]),\n",
       " array([nan]),\n",
       " array([nan]),\n",
       " array([nan]),\n",
       " array([nan]),\n",
       " array([nan]),\n",
       " array([nan]),\n",
       " array([nan]),\n",
       " array([nan]),\n",
       " array([nan]),\n",
       " array([nan]),\n",
       " array([nan]),\n",
       " array([nan]),\n",
       " array([nan]),\n",
       " array([nan]),\n",
       " array([nan]),\n",
       " array([nan]),\n",
       " array([nan]),\n",
       " array([nan]),\n",
       " array([nan]),\n",
       " array([nan]),\n",
       " array([nan]),\n",
       " array([nan]),\n",
       " array([nan]),\n",
       " array([nan]),\n",
       " array([nan]),\n",
       " array([nan]),\n",
       " array([nan]),\n",
       " array([nan]),\n",
       " array([nan]),\n",
       " array([nan]),\n",
       " array([nan]),\n",
       " array([nan]),\n",
       " array([nan]),\n",
       " array([nan]),\n",
       " array([nan]),\n",
       " array([nan]),\n",
       " array([nan]),\n",
       " array([nan]),\n",
       " array([nan]),\n",
       " array([nan]),\n",
       " array([nan]),\n",
       " array([nan]),\n",
       " array([nan]),\n",
       " array([nan]),\n",
       " array([nan]),\n",
       " array([nan]),\n",
       " array([nan]),\n",
       " array([nan]),\n",
       " array([nan]),\n",
       " array([nan]),\n",
       " array([nan]),\n",
       " array([nan]),\n",
       " array([nan]),\n",
       " array([nan]),\n",
       " array([nan]),\n",
       " array([nan]),\n",
       " array([nan]),\n",
       " array([nan]),\n",
       " array([nan]),\n",
       " array([nan]),\n",
       " array([nan]),\n",
       " array([nan]),\n",
       " array([nan]),\n",
       " array([nan]),\n",
       " array([nan]),\n",
       " array([nan]),\n",
       " array([nan]),\n",
       " array([nan]),\n",
       " array([nan]),\n",
       " array([nan]),\n",
       " array([nan]),\n",
       " array([nan]),\n",
       " array([nan]),\n",
       " array([nan]),\n",
       " array([nan]),\n",
       " array([nan]),\n",
       " array([nan]),\n",
       " array([nan]),\n",
       " array([nan]),\n",
       " array([nan]),\n",
       " array([nan]),\n",
       " array([nan]),\n",
       " array([nan]),\n",
       " array([nan]),\n",
       " array([nan]),\n",
       " array([nan]),\n",
       " array([nan]),\n",
       " array([nan]),\n",
       " array([nan]),\n",
       " array([nan]),\n",
       " array([nan]),\n",
       " array([nan]),\n",
       " array([nan]),\n",
       " array([nan]),\n",
       " array([nan]),\n",
       " array([nan]),\n",
       " array([nan]),\n",
       " array([nan]),\n",
       " array([nan]),\n",
       " array([nan]),\n",
       " array([nan]),\n",
       " array([nan]),\n",
       " array([nan]),\n",
       " array([nan]),\n",
       " array([nan]),\n",
       " array([nan]),\n",
       " array([nan]),\n",
       " array([nan]),\n",
       " array([nan]),\n",
       " array([nan]),\n",
       " array([nan]),\n",
       " array([nan]),\n",
       " array([nan]),\n",
       " array([nan]),\n",
       " array([nan]),\n",
       " array([nan]),\n",
       " array([nan]),\n",
       " array([nan]),\n",
       " array([nan]),\n",
       " array([nan]),\n",
       " array([nan]),\n",
       " array([nan]),\n",
       " array([nan]),\n",
       " array([nan]),\n",
       " array([nan]),\n",
       " array([nan]),\n",
       " array([nan]),\n",
       " array([nan]),\n",
       " array([nan]),\n",
       " array([nan]),\n",
       " array([nan]),\n",
       " array([nan]),\n",
       " array([nan]),\n",
       " array([nan]),\n",
       " array([nan]),\n",
       " array([nan]),\n",
       " array([nan]),\n",
       " array([nan]),\n",
       " array([nan]),\n",
       " array([nan]),\n",
       " array([nan]),\n",
       " array([nan]),\n",
       " array([nan]),\n",
       " array([nan]),\n",
       " array([nan]),\n",
       " array([nan]),\n",
       " array([nan]),\n",
       " array([nan]),\n",
       " array([nan]),\n",
       " array([nan]),\n",
       " array([nan]),\n",
       " array([nan]),\n",
       " array([nan]),\n",
       " array([nan]),\n",
       " array([nan]),\n",
       " array([nan]),\n",
       " array([nan]),\n",
       " array([nan]),\n",
       " array([nan]),\n",
       " array([nan]),\n",
       " array([nan]),\n",
       " array([nan]),\n",
       " array([nan]),\n",
       " array([nan]),\n",
       " array([nan]),\n",
       " array([nan]),\n",
       " array([nan]),\n",
       " array([nan]),\n",
       " array([nan]),\n",
       " array([nan]),\n",
       " array([nan]),\n",
       " array([nan]),\n",
       " array([nan]),\n",
       " array([nan]),\n",
       " array([nan]),\n",
       " array([nan]),\n",
       " array([nan]),\n",
       " array([nan]),\n",
       " array([nan]),\n",
       " array([nan]),\n",
       " array([nan]),\n",
       " array([nan]),\n",
       " array([nan]),\n",
       " array([nan]),\n",
       " array([nan]),\n",
       " array([nan]),\n",
       " array([nan]),\n",
       " array([nan]),\n",
       " array([nan]),\n",
       " array([nan]),\n",
       " array([nan]),\n",
       " array([nan]),\n",
       " array([nan]),\n",
       " array([nan]),\n",
       " array([nan]),\n",
       " array([nan]),\n",
       " array([nan]),\n",
       " array([nan]),\n",
       " array([nan]),\n",
       " array([nan]),\n",
       " array([nan]),\n",
       " array([nan]),\n",
       " array([nan]),\n",
       " array([nan]),\n",
       " array([nan]),\n",
       " array([nan]),\n",
       " array([nan]),\n",
       " array([nan]),\n",
       " array([nan]),\n",
       " array([nan]),\n",
       " array([nan]),\n",
       " array([nan]),\n",
       " array([nan]),\n",
       " array([nan]),\n",
       " array([nan]),\n",
       " array([nan]),\n",
       " array([nan]),\n",
       " array([nan]),\n",
       " array([nan]),\n",
       " array([nan]),\n",
       " array([nan]),\n",
       " array([nan]),\n",
       " array([nan]),\n",
       " array([nan]),\n",
       " array([nan]),\n",
       " array([nan]),\n",
       " array([nan]),\n",
       " array([nan]),\n",
       " array([nan]),\n",
       " array([nan]),\n",
       " array([nan]),\n",
       " array([nan]),\n",
       " array([nan]),\n",
       " array([nan]),\n",
       " array([nan]),\n",
       " array([nan]),\n",
       " array([nan]),\n",
       " array([nan]),\n",
       " array([nan]),\n",
       " array([nan]),\n",
       " array([nan]),\n",
       " array([nan]),\n",
       " array([nan]),\n",
       " array([nan]),\n",
       " array([nan]),\n",
       " array([nan]),\n",
       " array([nan]),\n",
       " array([nan]),\n",
       " array([nan]),\n",
       " array([nan]),\n",
       " array([nan]),\n",
       " array([nan]),\n",
       " array([nan]),\n",
       " array([nan]),\n",
       " array([nan]),\n",
       " array([nan]),\n",
       " array([nan]),\n",
       " array([nan]),\n",
       " array([nan]),\n",
       " array([nan]),\n",
       " array([nan]),\n",
       " array([nan]),\n",
       " array([nan]),\n",
       " array([nan]),\n",
       " array([nan]),\n",
       " array([nan]),\n",
       " array([nan]),\n",
       " array([nan]),\n",
       " array([nan]),\n",
       " array([nan]),\n",
       " array([nan]),\n",
       " array([nan]),\n",
       " array([nan]),\n",
       " array([nan]),\n",
       " array([nan]),\n",
       " array([nan]),\n",
       " array([nan]),\n",
       " array([nan]),\n",
       " array([nan]),\n",
       " array([nan]),\n",
       " array([nan]),\n",
       " array([nan]),\n",
       " array([nan]),\n",
       " array([nan]),\n",
       " array([nan]),\n",
       " array([nan]),\n",
       " array([nan]),\n",
       " array([nan]),\n",
       " array([nan]),\n",
       " array([nan]),\n",
       " array([nan]),\n",
       " array([nan]),\n",
       " array([nan]),\n",
       " array([nan]),\n",
       " array([nan]),\n",
       " array([nan]),\n",
       " array([nan]),\n",
       " array([nan]),\n",
       " array([nan]),\n",
       " array([nan]),\n",
       " array([nan]),\n",
       " array([nan]),\n",
       " array([nan]),\n",
       " array([nan]),\n",
       " array([nan]),\n",
       " array([nan]),\n",
       " array([nan]),\n",
       " array([nan]),\n",
       " array([nan]),\n",
       " array([nan]),\n",
       " array([nan]),\n",
       " array([nan]),\n",
       " array([nan]),\n",
       " array([nan]),\n",
       " array([nan]),\n",
       " array([nan]),\n",
       " array([nan]),\n",
       " array([nan]),\n",
       " array([nan]),\n",
       " array([nan]),\n",
       " array([nan]),\n",
       " array([nan]),\n",
       " array([nan]),\n",
       " array([nan]),\n",
       " array([nan]),\n",
       " array([nan]),\n",
       " array([nan]),\n",
       " array([nan]),\n",
       " array([nan]),\n",
       " array([nan]),\n",
       " array([nan]),\n",
       " array([nan]),\n",
       " array([nan]),\n",
       " array([nan]),\n",
       " array([nan]),\n",
       " array([nan]),\n",
       " array([nan]),\n",
       " array([nan]),\n",
       " array([nan]),\n",
       " array([nan]),\n",
       " array([nan]),\n",
       " array([nan]),\n",
       " array([nan]),\n",
       " array([nan]),\n",
       " array([nan]),\n",
       " array([nan]),\n",
       " array([nan]),\n",
       " array([nan]),\n",
       " array([nan]),\n",
       " array([nan]),\n",
       " array([nan]),\n",
       " array([nan]),\n",
       " array([nan]),\n",
       " array([nan]),\n",
       " array([nan]),\n",
       " array([nan]),\n",
       " array([nan]),\n",
       " array([nan]),\n",
       " array([nan]),\n",
       " array([nan]),\n",
       " array([nan]),\n",
       " array([nan]),\n",
       " array([nan]),\n",
       " array([nan]),\n",
       " array([nan]),\n",
       " array([nan]),\n",
       " array([nan]),\n",
       " array([nan]),\n",
       " array([nan]),\n",
       " array([nan]),\n",
       " array([nan]),\n",
       " array([nan]),\n",
       " array([nan]),\n",
       " array([nan]),\n",
       " array([nan]),\n",
       " array([nan]),\n",
       " array([nan]),\n",
       " array([nan]),\n",
       " array([nan]),\n",
       " array([nan]),\n",
       " array([nan]),\n",
       " array([nan]),\n",
       " array([nan]),\n",
       " array([nan]),\n",
       " array([nan]),\n",
       " array([nan]),\n",
       " array([nan]),\n",
       " array([nan]),\n",
       " array([nan]),\n",
       " array([nan]),\n",
       " array([nan]),\n",
       " array([nan]),\n",
       " array([nan]),\n",
       " array([nan]),\n",
       " array([nan]),\n",
       " array([nan]),\n",
       " array([nan]),\n",
       " array([nan]),\n",
       " array([nan]),\n",
       " array([nan]),\n",
       " array([nan]),\n",
       " array([nan]),\n",
       " array([nan]),\n",
       " array([nan]),\n",
       " array([nan]),\n",
       " array([nan]),\n",
       " array([nan]),\n",
       " array([nan]),\n",
       " array([nan]),\n",
       " array([nan]),\n",
       " array([nan]),\n",
       " array([nan]),\n",
       " array([nan]),\n",
       " array([nan]),\n",
       " array([nan]),\n",
       " array([nan]),\n",
       " array([nan]),\n",
       " array([nan]),\n",
       " array([nan]),\n",
       " array([nan]),\n",
       " array([nan]),\n",
       " array([nan]),\n",
       " array([nan]),\n",
       " array([nan]),\n",
       " array([nan]),\n",
       " array([nan]),\n",
       " array([nan]),\n",
       " array([nan]),\n",
       " array([nan]),\n",
       " array([nan]),\n",
       " array([nan]),\n",
       " array([nan]),\n",
       " array([nan]),\n",
       " array([nan]),\n",
       " array([nan]),\n",
       " array([nan]),\n",
       " array([nan]),\n",
       " array([nan]),\n",
       " array([nan]),\n",
       " array([nan]),\n",
       " array([nan]),\n",
       " array([nan]),\n",
       " array([nan]),\n",
       " array([nan]),\n",
       " array([nan]),\n",
       " array([nan]),\n",
       " array([nan]),\n",
       " array([nan]),\n",
       " array([nan]),\n",
       " array([nan]),\n",
       " array([nan]),\n",
       " array([nan]),\n",
       " array([nan]),\n",
       " array([nan]),\n",
       " array([nan]),\n",
       " array([nan]),\n",
       " array([nan]),\n",
       " array([nan]),\n",
       " array([nan]),\n",
       " array([nan]),\n",
       " array([nan]),\n",
       " array([nan]),\n",
       " array([nan]),\n",
       " array([nan]),\n",
       " array([nan]),\n",
       " array([nan]),\n",
       " array([nan]),\n",
       " array([nan]),\n",
       " array([nan]),\n",
       " array([nan]),\n",
       " array([nan]),\n",
       " array([nan]),\n",
       " array([nan]),\n",
       " array([nan]),\n",
       " array([nan]),\n",
       " array([nan]),\n",
       " array([nan]),\n",
       " array([nan]),\n",
       " array([nan]),\n",
       " array([nan]),\n",
       " array([nan]),\n",
       " array([nan]),\n",
       " array([nan]),\n",
       " array([nan]),\n",
       " array([nan]),\n",
       " array([nan]),\n",
       " array([nan]),\n",
       " array([nan]),\n",
       " array([nan]),\n",
       " array([nan]),\n",
       " array([nan]),\n",
       " array([nan]),\n",
       " array([nan]),\n",
       " array([nan]),\n",
       " array([nan]),\n",
       " array([nan]),\n",
       " array([nan]),\n",
       " array([nan]),\n",
       " array([nan]),\n",
       " array([nan]),\n",
       " array([nan]),\n",
       " array([nan]),\n",
       " array([nan]),\n",
       " array([nan]),\n",
       " array([nan]),\n",
       " array([nan]),\n",
       " array([nan]),\n",
       " array([nan]),\n",
       " array([nan]),\n",
       " array([nan]),\n",
       " array([nan]),\n",
       " array([nan]),\n",
       " array([nan]),\n",
       " array([nan]),\n",
       " array([nan]),\n",
       " array([nan]),\n",
       " array([nan]),\n",
       " array([nan]),\n",
       " array([nan]),\n",
       " array([nan]),\n",
       " array([nan]),\n",
       " array([nan]),\n",
       " array([nan]),\n",
       " array([nan]),\n",
       " array([nan]),\n",
       " array([nan]),\n",
       " array([nan]),\n",
       " array([nan]),\n",
       " array([nan]),\n",
       " array([nan]),\n",
       " array([nan]),\n",
       " array([nan]),\n",
       " array([nan]),\n",
       " array([nan]),\n",
       " array([nan]),\n",
       " array([nan]),\n",
       " array([nan]),\n",
       " array([nan]),\n",
       " array([nan]),\n",
       " array([nan]),\n",
       " array([nan]),\n",
       " array([nan]),\n",
       " array([nan]),\n",
       " array([nan]),\n",
       " array([nan]),\n",
       " array([nan]),\n",
       " array([nan]),\n",
       " array([nan]),\n",
       " array([nan]),\n",
       " array([nan]),\n",
       " array([nan]),\n",
       " array([nan]),\n",
       " array([nan]),\n",
       " array([nan]),\n",
       " array([nan]),\n",
       " array([nan]),\n",
       " array([nan]),\n",
       " array([nan]),\n",
       " array([nan]),\n",
       " array([nan]),\n",
       " array([nan]),\n",
       " array([nan]),\n",
       " array([nan]),\n",
       " array([nan]),\n",
       " array([nan]),\n",
       " array([nan]),\n",
       " array([nan]),\n",
       " array([nan]),\n",
       " array([nan]),\n",
       " array([nan]),\n",
       " array([nan]),\n",
       " array([nan]),\n",
       " array([nan]),\n",
       " array([nan]),\n",
       " array([nan]),\n",
       " array([nan]),\n",
       " array([nan]),\n",
       " array([nan]),\n",
       " array([nan]),\n",
       " array([nan]),\n",
       " array([nan]),\n",
       " array([nan]),\n",
       " array([nan]),\n",
       " array([nan]),\n",
       " array([nan]),\n",
       " array([nan]),\n",
       " array([nan]),\n",
       " array([nan]),\n",
       " array([nan]),\n",
       " array([nan]),\n",
       " array([nan]),\n",
       " array([nan]),\n",
       " array([nan]),\n",
       " array([nan]),\n",
       " array([nan]),\n",
       " array([nan]),\n",
       " array([nan]),\n",
       " array([nan]),\n",
       " array([nan]),\n",
       " array([nan]),\n",
       " array([nan]),\n",
       " array([nan]),\n",
       " array([nan]),\n",
       " array([nan]),\n",
       " array([nan]),\n",
       " array([nan]),\n",
       " array([nan]),\n",
       " array([nan]),\n",
       " array([nan]),\n",
       " array([nan]),\n",
       " array([nan]),\n",
       " array([nan]),\n",
       " array([nan]),\n",
       " array([nan]),\n",
       " array([nan]),\n",
       " array([nan]),\n",
       " array([nan]),\n",
       " array([nan]),\n",
       " array([nan]),\n",
       " array([nan]),\n",
       " array([nan]),\n",
       " array([nan]),\n",
       " array([nan]),\n",
       " array([nan]),\n",
       " array([nan]),\n",
       " array([nan]),\n",
       " array([nan]),\n",
       " array([nan]),\n",
       " array([nan]),\n",
       " array([nan]),\n",
       " array([nan]),\n",
       " array([nan]),\n",
       " array([nan]),\n",
       " array([nan]),\n",
       " array([nan]),\n",
       " array([nan]),\n",
       " array([nan]),\n",
       " array([nan]),\n",
       " array([nan]),\n",
       " array([nan]),\n",
       " array([nan]),\n",
       " array([nan]),\n",
       " array([nan]),\n",
       " array([nan]),\n",
       " array([nan]),\n",
       " array([nan]),\n",
       " array([nan]),\n",
       " array([nan]),\n",
       " array([nan]),\n",
       " array([nan]),\n",
       " array([nan]),\n",
       " array([nan]),\n",
       " array([nan]),\n",
       " array([nan]),\n",
       " array([nan]),\n",
       " array([nan]),\n",
       " array([nan]),\n",
       " array([nan]),\n",
       " array([nan]),\n",
       " array([nan]),\n",
       " array([nan]),\n",
       " array([nan]),\n",
       " array([nan]),\n",
       " array([nan]),\n",
       " array([nan]),\n",
       " array([nan]),\n",
       " array([nan]),\n",
       " array([nan]),\n",
       " array([nan]),\n",
       " array([nan]),\n",
       " array([nan]),\n",
       " array([nan]),\n",
       " array([nan]),\n",
       " array([nan]),\n",
       " array([nan]),\n",
       " array([nan]),\n",
       " array([nan]),\n",
       " array([nan]),\n",
       " array([nan]),\n",
       " array([nan]),\n",
       " array([nan]),\n",
       " array([nan]),\n",
       " array([nan]),\n",
       " array([nan]),\n",
       " array([nan]),\n",
       " array([nan]),\n",
       " array([nan]),\n",
       " array([nan]),\n",
       " array([nan]),\n",
       " array([nan]),\n",
       " array([nan]),\n",
       " array([nan]),\n",
       " array([nan]),\n",
       " array([nan]),\n",
       " array([nan]),\n",
       " array([nan]),\n",
       " array([nan]),\n",
       " array([nan]),\n",
       " array([nan]),\n",
       " array([nan]),\n",
       " array([nan]),\n",
       " array([nan]),\n",
       " array([nan]),\n",
       " array([nan]),\n",
       " array([nan]),\n",
       " array([nan]),\n",
       " array([nan]),\n",
       " array([nan]),\n",
       " array([nan]),\n",
       " array([nan]),\n",
       " array([nan]),\n",
       " array([nan]),\n",
       " array([nan]),\n",
       " array([nan]),\n",
       " array([nan]),\n",
       " array([nan]),\n",
       " array([nan]),\n",
       " array([nan]),\n",
       " array([nan]),\n",
       " array([nan]),\n",
       " array([nan]),\n",
       " array([nan]),\n",
       " array([nan]),\n",
       " array([nan]),\n",
       " array([nan]),\n",
       " array([nan]),\n",
       " array([nan]),\n",
       " array([nan]),\n",
       " array([nan]),\n",
       " array([nan]),\n",
       " array([nan]),\n",
       " array([nan]),\n",
       " array([nan]),\n",
       " array([nan]),\n",
       " array([nan]),\n",
       " array([nan]),\n",
       " array([nan]),\n",
       " array([nan]),\n",
       " array([nan]),\n",
       " array([nan]),\n",
       " array([nan]),\n",
       " array([nan]),\n",
       " array([nan]),\n",
       " array([nan]),\n",
       " array([nan]),\n",
       " array([nan]),\n",
       " array([nan]),\n",
       " array([nan]),\n",
       " array([nan]),\n",
       " array([nan]),\n",
       " array([nan]),\n",
       " array([nan]),\n",
       " array([nan]),\n",
       " array([nan]),\n",
       " array([nan]),\n",
       " array([nan]),\n",
       " array([nan]),\n",
       " array([nan]),\n",
       " array([nan]),\n",
       " array([nan]),\n",
       " array([nan]),\n",
       " array([nan]),\n",
       " ...]"
      ]
     },
     "execution_count": 36,
     "metadata": {},
     "output_type": "execute_result"
    }
   ],
   "source": [
    "np.split(imputed[:,0],np.where(np.isnan(series))[0])"
   ]
  },
  {
   "cell_type": "code",
   "execution_count": null,
   "metadata": {},
   "outputs": [],
   "source": []
  },
  {
   "cell_type": "code",
   "execution_count": null,
   "metadata": {},
   "outputs": [],
   "source": []
  },
  {
   "cell_type": "code",
   "execution_count": null,
   "metadata": {},
   "outputs": [],
   "source": []
  },
  {
   "cell_type": "code",
   "execution_count": null,
   "metadata": {},
   "outputs": [],
   "source": []
  },
  {
   "cell_type": "code",
   "execution_count": null,
   "metadata": {},
   "outputs": [],
   "source": []
  },
  {
   "cell_type": "markdown",
   "metadata": {},
   "source": [
    "# (4) Run models 1-2 again with the short-interval imputed values"
   ]
  },
  {
   "cell_type": "code",
   "execution_count": null,
   "metadata": {},
   "outputs": [],
   "source": []
  },
  {
   "cell_type": "code",
   "execution_count": null,
   "metadata": {},
   "outputs": [],
   "source": []
  },
  {
   "cell_type": "code",
   "execution_count": null,
   "metadata": {},
   "outputs": [],
   "source": []
  },
  {
   "cell_type": "code",
   "execution_count": null,
   "metadata": {},
   "outputs": [],
   "source": []
  },
  {
   "cell_type": "code",
   "execution_count": null,
   "metadata": {},
   "outputs": [],
   "source": []
  },
  {
   "cell_type": "code",
   "execution_count": null,
   "metadata": {},
   "outputs": [],
   "source": []
  },
  {
   "cell_type": "code",
   "execution_count": null,
   "metadata": {},
   "outputs": [],
   "source": [
    "# others\n",
    "# https://impyute.readthedocs.io/en/latest/index.html\n",
    "# https://towardsdatascience.com/6-different-ways-to-compensate-for-missing-values-data-imputation-with-examples-6022d9ca0779\n",
    "# statsmodels MICE - looks unclear... I need to give a formula..\n",
    "# datawig \n"
   ]
  },
  {
   "cell_type": "markdown",
   "metadata": {},
   "source": [
    "# (5) Statistical imputation, just for comparison?"
   ]
  },
  {
   "cell_type": "code",
   "execution_count": null,
   "metadata": {},
   "outputs": [],
   "source": []
  },
  {
   "cell_type": "code",
   "execution_count": null,
   "metadata": {},
   "outputs": [],
   "source": []
  },
  {
   "cell_type": "markdown",
   "metadata": {},
   "source": [
    "# (6) visualize results (box-plots + interactive time series+distribution of imputed values)"
   ]
  },
  {
   "cell_type": "markdown",
   "metadata": {},
   "source": [
    "#### compare CV"
   ]
  },
  {
   "cell_type": "code",
   "execution_count": 379,
   "metadata": {},
   "outputs": [],
   "source": [
    "# without days \n",
    "results_woD_BR = pd.read_pickle(\"/Users/iditbela/Documents/Broday/saved_data_from_notebooks/results_woD_BR\")\n",
    "results_woD_RF = pd.read_pickle(\"/Users/iditbela/Documents/Broday/saved_data_from_notebooks/results_woD_RF\")\n",
    "results_woD_KNN = pd.read_pickle(\"/Users/iditbela/Documents/Broday/saved_data_from_notebooks/results_woD_KNN\")\n",
    "my_KNN_cv10 = pd.read_pickle(\"/Users/iditbela/Documents/Broday/saved_data_from_notebooks/my_KNN_cv10\")"
   ]
  },
  {
   "cell_type": "code",
   "execution_count": 390,
   "metadata": {},
   "outputs": [],
   "source": [
    "# addition-1 dbda\n",
    "RF_woD_dbda_cv10 = pd.read_pickle(\"/Users/iditbela/Documents/Broday/saved_data_from_notebooks/RF_woD_dbda_cv10\")\n",
    "my_KNN_dbda_cv10 = pd.read_pickle(\"/Users/iditbela/Documents/Broday/saved_data_from_notebooks/my_KNN_dbda_cv10\")"
   ]
  },
  {
   "cell_type": "code",
   "execution_count": 391,
   "metadata": {},
   "outputs": [],
   "source": [
    "# addition-2\n",
    "RF_wD_dbda_cv10 = pd.read_pickle(\"/Users/iditbela/Documents/Broday/saved_data_from_notebooks/RF_wD_dbda_cv10\")"
   ]
  },
  {
   "cell_type": "code",
   "execution_count": null,
   "metadata": {},
   "outputs": [],
   "source": []
  },
  {
   "cell_type": "code",
   "execution_count": 392,
   "metadata": {},
   "outputs": [],
   "source": [
    "# my_KNN_cv10\n",
    "np_values = my_KNN_cv10.values\n",
    "y_train = np_r_PM25_y[~np.isnan(np_r_PM25_y)]\n",
    "y_pred = np_values[~np.isnan(np_r_PM25_y)]\n",
    "\n",
    "RMSE = np.sqrt(mean_squared_error(y_train, y_pred))\n",
    "MedianAE = median_absolute_error(y_train, y_pred)\n",
    "MeanAE = mean_absolute_error(y_train,y_pred)\n",
    "R2 = r2_score(y_train,y_pred)\n",
    "\n",
    "results_woD_My_KNN_CV10 = results_woD_KNN.copy() \n",
    "\n",
    "results_woD_My_KNN_CV10.iloc[9,:] = [RMSE,MedianAE,MeanAE,R2]\n",
    "for i in range(9):\n",
    "    results_woD_My_KNN_CV10.iloc[i,:] = [np.nan,np.nan,np.nan,np.nan]"
   ]
  },
  {
   "cell_type": "code",
   "execution_count": 397,
   "metadata": {},
   "outputs": [],
   "source": [
    "# RF_woD_dbda_cv10 \n",
    "\n",
    "np_values = RF_woD_dbda_cv10.values\n",
    "y_train = np_r_PM25_y[~np.isnan(np_r_PM25_y)]\n",
    "y_pred = np_values[~np.isnan(np_r_PM25_y)]\n",
    "\n",
    "RMSE = np.sqrt(mean_squared_error(y_train, y_pred))\n",
    "MedianAE = median_absolute_error(y_train, y_pred)\n",
    "MeanAE = mean_absolute_error(y_train,y_pred)\n",
    "R2 = r2_score(y_train,y_pred)\n",
    "\n",
    "results_RF_woD_dbda_cv10 = results_woD_KNN.copy() \n",
    "\n",
    "results_RF_woD_dbda_cv10.iloc[9,:] = [RMSE,MedianAE,MeanAE,R2]\n",
    "for i in range(9):\n",
    "    results_RF_woD_dbda_cv10.iloc[i,:] = [np.nan,np.nan,np.nan,np.nan]"
   ]
  },
  {
   "cell_type": "code",
   "execution_count": 399,
   "metadata": {},
   "outputs": [],
   "source": [
    "# my_KNN_dbda_cv10\n",
    "\n",
    "np_values = my_KNN_dbda_cv10.values\n",
    "y_train = np_r_PM25_y[~np.isnan(np_r_PM25_y)]\n",
    "y_pred = np_values[~np.isnan(np_r_PM25_y)]\n",
    "\n",
    "RMSE = np.sqrt(mean_squared_error(y_train, y_pred))\n",
    "MedianAE = median_absolute_error(y_train, y_pred)\n",
    "MeanAE = mean_absolute_error(y_train,y_pred)\n",
    "R2 = r2_score(y_train,y_pred)\n",
    "\n",
    "results_my_KNN_dbda_cv10 = results_woD_KNN.copy() \n",
    "\n",
    "results_my_KNN_dbda_cv10.iloc[9,:] = [RMSE,MedianAE,MeanAE,R2]\n",
    "for i in range(9):\n",
    "    results_my_KNN_dbda_cv10.iloc[i,:] = [np.nan,np.nan,np.nan,np.nan]"
   ]
  },
  {
   "cell_type": "code",
   "execution_count": 401,
   "metadata": {},
   "outputs": [],
   "source": [
    "# RF_wD_dbda_cv10\n",
    "\n",
    "np_values = RF_wD_dbda_cv10.values\n",
    "y_train = np_r_PM25_y[~np.isnan(np_r_PM25_y)]\n",
    "y_pred = np_values[~np.isnan(np_r_PM25_y)]\n",
    "\n",
    "RMSE = np.sqrt(mean_squared_error(y_train, y_pred))\n",
    "MedianAE = median_absolute_error(y_train, y_pred)\n",
    "MeanAE = mean_absolute_error(y_train,y_pred)\n",
    "R2 = r2_score(y_train,y_pred)\n",
    "\n",
    "results_RF_wD_dbda_cv10 = results_woD_KNN.copy() \n",
    "\n",
    "results_RF_wD_dbda_cv10.iloc[9,:] = [RMSE,MedianAE,MeanAE,R2]\n",
    "for i in range(9):\n",
    "    results_RF_wD_dbda_cv10.iloc[i,:] = [np.nan,np.nan,np.nan,np.nan]"
   ]
  },
  {
   "cell_type": "code",
   "execution_count": null,
   "metadata": {},
   "outputs": [],
   "source": []
  },
  {
   "cell_type": "code",
   "execution_count": null,
   "metadata": {},
   "outputs": [],
   "source": []
  },
  {
   "cell_type": "code",
   "execution_count": null,
   "metadata": {},
   "outputs": [],
   "source": []
  },
  {
   "cell_type": "code",
   "execution_count": 385,
   "metadata": {},
   "outputs": [],
   "source": [
    "plt.rcParams.update(plt.rcParamsDefault)"
   ]
  },
  {
   "cell_type": "code",
   "execution_count": 388,
   "metadata": {
    "scrolled": false
   },
   "outputs": [
    {
     "data": {
      "image/png": "[encoded data removed]",
      "text/plain": [
       "<Figure size 1600x1200 with 4 Axes>"
      ]
     },
     "metadata": {
      "image/png": {
       "height": 1165,
       "width": 1555
      }
     },
     "output_type": "display_data"
    }
   ],
   "source": [
    "titles = ['RMSE','Median Absolute Error','Mean Absolute Error','R2']\n",
    "\n",
    "fig, ((ax1, ax2), (ax3, ax4)) = plt.subplots(2, 2,figsize=(16,12))\n",
    "# fig.suptitle('Cross-validation results')\n",
    "\n",
    "N=10\n",
    "cmap = plt.cm.tab10\n",
    "col = cmap(np.linspace(0, 1, N))\n",
    "rcParams['axes.prop_cycle'] = cycler(color=col)\n",
    "\n",
    "ax1.plot(np.arange(0,4), [results_woD_BR.iloc[:,0],results_woD_RF.iloc[:,0],results_woD_KNN.iloc[:,0],results_woD_My_KNN_CV10.iloc[:,0]],'*') #RMSE\n",
    "ax2.plot(np.arange(0,4), [results_woD_BR.iloc[:,1],results_woD_RF.iloc[:,1],results_woD_KNN.iloc[:,1],results_woD_My_KNN_CV10.iloc[:,1]],'*') # Median Absolute Error\n",
    "ax3.plot(np.arange(0,4), [results_woD_BR.iloc[:,2],results_woD_RF.iloc[:,2],results_woD_KNN.iloc[:,2],results_woD_My_KNN_CV10.iloc[:,2]],'*') # Mean Absolute Error\n",
    "ax4.plot(np.arange(0,4), [results_woD_BR.iloc[:,3],results_woD_RF.iloc[:,3],results_woD_KNN.iloc[:,3],results_woD_My_KNN_CV10.iloc[:,3]],'*') #r2\n",
    "\n",
    "legend_elements = [Line2D([0], [0], marker='*', color='w', label='cv1',\n",
    "                          markerfacecolor=col[0], markersize=14),\n",
    "                   Line2D([0], [0], marker='*', color='w', label='cv2',\n",
    "                          markerfacecolor=col[1], markersize=14),\n",
    "                   Line2D([0], [0], marker='*', color='w', label='cv3',\n",
    "                          markerfacecolor=col[2], markersize=14),\n",
    "                   Line2D([0], [0], marker='*', color='w', label='cv4',\n",
    "                          markerfacecolor=col[3], markersize=14),\n",
    "                   Line2D([0], [0], marker='*', color='w', label='cv5',\n",
    "                          markerfacecolor=col[4], markersize=14),\n",
    "                   Line2D([0], [0], marker='*', color='w', label='cv6',\n",
    "                          markerfacecolor=col[5], markersize=14),\n",
    "                   Line2D([0], [0], marker='*', color='w', label='cv7',\n",
    "                          markerfacecolor=col[6], markersize=14),\n",
    "                   Line2D([0], [0], marker='*', color='w', label='cv8',\n",
    "                          markerfacecolor=col[7], markersize=14),\n",
    "                   Line2D([0], [0], marker='*', color='w', label='cv9',\n",
    "                          markerfacecolor=col[8], markersize=14),\n",
    "                   Line2D([0], [0], marker='*', color='w', label='cv10',\n",
    "                          markerfacecolor=col[9], markersize=14)]\n",
    "\n",
    "for i,ax in enumerate(fig.get_axes()):\n",
    "    ax.set_title(titles[i])   \n",
    "    ax.set_xticks(np.arange(0,4))\n",
    "    ax.set_xticklabels(['ii_BR','ii_RF','ii_KNN','my_KNN'])\n",
    "    if i!=3:\n",
    "        ax.set_ylabel('$\\mu g/m^3$\\n')\n",
    "    if i==1:\n",
    "        ax.legend(handles=legend_elements,bbox_to_anchor=(1.32,1))\n",
    "    \n",
    "plt.rcParams.update({'font.size': 18})\n",
    "plt.rcParams.update({'lines.markersize': 18})\n",
    "\n",
    "plt.tight_layout()\n",
    "# plt.savefig(\"/Users/iditbela/Documents/Broday/saved_data_from_notebooks/CV_results_basic.png\", dpi=500)\n",
    "plt.show();"
   ]
  },
  {
   "cell_type": "code",
   "execution_count": 394,
   "metadata": {},
   "outputs": [
    {
     "data": {
      "text/html": [
       "<div>\n",
       "<style scoped>\n",
       "    .dataframe tbody tr th:only-of-type {\n",
       "        vertical-align: middle;\n",
       "    }\n",
       "\n",
       "    .dataframe tbody tr th {\n",
       "        vertical-align: top;\n",
       "    }\n",
       "\n",
       "    .dataframe thead th {\n",
       "        text-align: right;\n",
       "    }\n",
       "</style>\n",
       "<table border=\"1\" class=\"dataframe\">\n",
       "  <thead>\n",
       "    <tr style=\"text-align: right;\">\n",
       "      <th></th>\n",
       "      <th>RMSE</th>\n",
       "      <th>MedianAE</th>\n",
       "      <th>MeanAE</th>\n",
       "      <th>R2</th>\n",
       "    </tr>\n",
       "  </thead>\n",
       "  <tbody>\n",
       "    <tr>\n",
       "      <th>0</th>\n",
       "      <td>12.146577</td>\n",
       "      <td>4.757204</td>\n",
       "      <td>6.994312</td>\n",
       "      <td>0.727041</td>\n",
       "    </tr>\n",
       "    <tr>\n",
       "      <th>1</th>\n",
       "      <td>12.194144</td>\n",
       "      <td>4.789904</td>\n",
       "      <td>7.030386</td>\n",
       "      <td>0.726149</td>\n",
       "    </tr>\n",
       "    <tr>\n",
       "      <th>2</th>\n",
       "      <td>12.152302</td>\n",
       "      <td>4.783614</td>\n",
       "      <td>6.997097</td>\n",
       "      <td>0.733775</td>\n",
       "    </tr>\n",
       "    <tr>\n",
       "      <th>3</th>\n",
       "      <td>11.985335</td>\n",
       "      <td>4.777705</td>\n",
       "      <td>6.971577</td>\n",
       "      <td>0.742191</td>\n",
       "    </tr>\n",
       "    <tr>\n",
       "      <th>4</th>\n",
       "      <td>12.287126</td>\n",
       "      <td>4.785513</td>\n",
       "      <td>6.987615</td>\n",
       "      <td>0.730406</td>\n",
       "    </tr>\n",
       "    <tr>\n",
       "      <th>5</th>\n",
       "      <td>11.964026</td>\n",
       "      <td>4.740049</td>\n",
       "      <td>6.946813</td>\n",
       "      <td>0.721794</td>\n",
       "    </tr>\n",
       "    <tr>\n",
       "      <th>6</th>\n",
       "      <td>11.894747</td>\n",
       "      <td>4.788714</td>\n",
       "      <td>6.950691</td>\n",
       "      <td>0.718386</td>\n",
       "    </tr>\n",
       "    <tr>\n",
       "      <th>7</th>\n",
       "      <td>12.287924</td>\n",
       "      <td>4.753388</td>\n",
       "      <td>6.965011</td>\n",
       "      <td>0.735859</td>\n",
       "    </tr>\n",
       "    <tr>\n",
       "      <th>8</th>\n",
       "      <td>12.436219</td>\n",
       "      <td>4.793671</td>\n",
       "      <td>7.043854</td>\n",
       "      <td>0.725499</td>\n",
       "    </tr>\n",
       "    <tr>\n",
       "      <th>9</th>\n",
       "      <td>11.814214</td>\n",
       "      <td>4.763854</td>\n",
       "      <td>6.968005</td>\n",
       "      <td>0.740749</td>\n",
       "    </tr>\n",
       "  </tbody>\n",
       "</table>\n",
       "</div>"
      ],
      "text/plain": [
       "        RMSE  MedianAE    MeanAE        R2\n",
       "0  12.146577  4.757204  6.994312  0.727041\n",
       "1  12.194144  4.789904  7.030386  0.726149\n",
       "2  12.152302  4.783614  6.997097  0.733775\n",
       "3  11.985335  4.777705  6.971577  0.742191\n",
       "4  12.287126  4.785513  6.987615  0.730406\n",
       "5  11.964026  4.740049  6.946813  0.721794\n",
       "6  11.894747  4.788714  6.950691  0.718386\n",
       "7  12.287924  4.753388  6.965011  0.735859\n",
       "8  12.436219  4.793671  7.043854  0.725499\n",
       "9  11.814214  4.763854  6.968005  0.740749"
      ]
     },
     "execution_count": 394,
     "metadata": {},
     "output_type": "execute_result"
    },
    {
     "data": {
      "text/html": [
       "<div>\n",
       "<style scoped>\n",
       "    .dataframe tbody tr th:only-of-type {\n",
       "        vertical-align: middle;\n",
       "    }\n",
       "\n",
       "    .dataframe tbody tr th {\n",
       "        vertical-align: top;\n",
       "    }\n",
       "\n",
       "    .dataframe thead th {\n",
       "        text-align: right;\n",
       "    }\n",
       "</style>\n",
       "<table border=\"1\" class=\"dataframe\">\n",
       "  <thead>\n",
       "    <tr style=\"text-align: right;\">\n",
       "      <th></th>\n",
       "      <th>RMSE</th>\n",
       "      <th>MedianAE</th>\n",
       "      <th>MeanAE</th>\n",
       "      <th>R2</th>\n",
       "    </tr>\n",
       "  </thead>\n",
       "  <tbody>\n",
       "    <tr>\n",
       "      <th>0</th>\n",
       "      <td>9.276128</td>\n",
       "      <td>4.08</td>\n",
       "      <td>5.739155</td>\n",
       "      <td>0.840807</td>\n",
       "    </tr>\n",
       "    <tr>\n",
       "      <th>1</th>\n",
       "      <td>9.432850</td>\n",
       "      <td>4.06</td>\n",
       "      <td>5.744132</td>\n",
       "      <td>0.836131</td>\n",
       "    </tr>\n",
       "    <tr>\n",
       "      <th>2</th>\n",
       "      <td>9.288789</td>\n",
       "      <td>4.07</td>\n",
       "      <td>5.748222</td>\n",
       "      <td>0.844457</td>\n",
       "    </tr>\n",
       "    <tr>\n",
       "      <th>3</th>\n",
       "      <td>9.384672</td>\n",
       "      <td>4.07</td>\n",
       "      <td>5.732657</td>\n",
       "      <td>0.841935</td>\n",
       "    </tr>\n",
       "    <tr>\n",
       "      <th>4</th>\n",
       "      <td>9.580541</td>\n",
       "      <td>4.06</td>\n",
       "      <td>5.754636</td>\n",
       "      <td>0.836096</td>\n",
       "    </tr>\n",
       "    <tr>\n",
       "      <th>5</th>\n",
       "      <td>8.978527</td>\n",
       "      <td>4.06</td>\n",
       "      <td>5.708310</td>\n",
       "      <td>0.843317</td>\n",
       "    </tr>\n",
       "    <tr>\n",
       "      <th>6</th>\n",
       "      <td>9.436479</td>\n",
       "      <td>4.08</td>\n",
       "      <td>5.752286</td>\n",
       "      <td>0.822759</td>\n",
       "    </tr>\n",
       "    <tr>\n",
       "      <th>7</th>\n",
       "      <td>9.458052</td>\n",
       "      <td>4.06</td>\n",
       "      <td>5.748231</td>\n",
       "      <td>0.843511</td>\n",
       "    </tr>\n",
       "    <tr>\n",
       "      <th>8</th>\n",
       "      <td>9.773849</td>\n",
       "      <td>4.07</td>\n",
       "      <td>5.746742</td>\n",
       "      <td>0.830450</td>\n",
       "    </tr>\n",
       "    <tr>\n",
       "      <th>9</th>\n",
       "      <td>9.289947</td>\n",
       "      <td>4.06</td>\n",
       "      <td>5.728445</td>\n",
       "      <td>0.839699</td>\n",
       "    </tr>\n",
       "  </tbody>\n",
       "</table>\n",
       "</div>"
      ],
      "text/plain": [
       "       RMSE  MedianAE    MeanAE        R2\n",
       "0  9.276128      4.08  5.739155  0.840807\n",
       "1  9.432850      4.06  5.744132  0.836131\n",
       "2  9.288789      4.07  5.748222  0.844457\n",
       "3  9.384672      4.07  5.732657  0.841935\n",
       "4  9.580541      4.06  5.754636  0.836096\n",
       "5  8.978527      4.06  5.708310  0.843317\n",
       "6  9.436479      4.08  5.752286  0.822759\n",
       "7  9.458052      4.06  5.748231  0.843511\n",
       "8  9.773849      4.07  5.746742  0.830450\n",
       "9  9.289947      4.06  5.728445  0.839699"
      ]
     },
     "execution_count": 394,
     "metadata": {},
     "output_type": "execute_result"
    },
    {
     "data": {
      "text/html": [
       "<div>\n",
       "<style scoped>\n",
       "    .dataframe tbody tr th:only-of-type {\n",
       "        vertical-align: middle;\n",
       "    }\n",
       "\n",
       "    .dataframe tbody tr th {\n",
       "        vertical-align: top;\n",
       "    }\n",
       "\n",
       "    .dataframe thead th {\n",
       "        text-align: right;\n",
       "    }\n",
       "</style>\n",
       "<table border=\"1\" class=\"dataframe\">\n",
       "  <thead>\n",
       "    <tr style=\"text-align: right;\">\n",
       "      <th></th>\n",
       "      <th>RMSE</th>\n",
       "      <th>MedianAE</th>\n",
       "      <th>MeanAE</th>\n",
       "      <th>R2</th>\n",
       "    </tr>\n",
       "  </thead>\n",
       "  <tbody>\n",
       "    <tr>\n",
       "      <th>0</th>\n",
       "      <td>9.510036</td>\n",
       "      <td>3.917365</td>\n",
       "      <td>5.554462</td>\n",
       "      <td>0.832678</td>\n",
       "    </tr>\n",
       "    <tr>\n",
       "      <th>1</th>\n",
       "      <td>9.613944</td>\n",
       "      <td>3.911642</td>\n",
       "      <td>5.548207</td>\n",
       "      <td>0.829778</td>\n",
       "    </tr>\n",
       "    <tr>\n",
       "      <th>2</th>\n",
       "      <td>9.765258</td>\n",
       "      <td>3.925400</td>\n",
       "      <td>5.568478</td>\n",
       "      <td>0.828091</td>\n",
       "    </tr>\n",
       "    <tr>\n",
       "      <th>3</th>\n",
       "      <td>9.753575</td>\n",
       "      <td>3.911715</td>\n",
       "      <td>5.546650</td>\n",
       "      <td>0.829264</td>\n",
       "    </tr>\n",
       "    <tr>\n",
       "      <th>4</th>\n",
       "      <td>10.007616</td>\n",
       "      <td>3.922956</td>\n",
       "      <td>5.578250</td>\n",
       "      <td>0.821158</td>\n",
       "    </tr>\n",
       "    <tr>\n",
       "      <th>5</th>\n",
       "      <td>9.248886</td>\n",
       "      <td>3.893837</td>\n",
       "      <td>5.512880</td>\n",
       "      <td>0.833739</td>\n",
       "    </tr>\n",
       "    <tr>\n",
       "      <th>6</th>\n",
       "      <td>9.498568</td>\n",
       "      <td>3.923674</td>\n",
       "      <td>5.549481</td>\n",
       "      <td>0.820419</td>\n",
       "    </tr>\n",
       "    <tr>\n",
       "      <th>7</th>\n",
       "      <td>9.944436</td>\n",
       "      <td>3.911382</td>\n",
       "      <td>5.557848</td>\n",
       "      <td>0.827003</td>\n",
       "    </tr>\n",
       "    <tr>\n",
       "      <th>8</th>\n",
       "      <td>9.962109</td>\n",
       "      <td>3.908708</td>\n",
       "      <td>5.549101</td>\n",
       "      <td>0.823855</td>\n",
       "    </tr>\n",
       "    <tr>\n",
       "      <th>9</th>\n",
       "      <td>9.462517</td>\n",
       "      <td>3.916427</td>\n",
       "      <td>5.547056</td>\n",
       "      <td>0.833688</td>\n",
       "    </tr>\n",
       "  </tbody>\n",
       "</table>\n",
       "</div>"
      ],
      "text/plain": [
       "        RMSE  MedianAE    MeanAE        R2\n",
       "0   9.510036  3.917365  5.554462  0.832678\n",
       "1   9.613944  3.911642  5.548207  0.829778\n",
       "2   9.765258  3.925400  5.568478  0.828091\n",
       "3   9.753575  3.911715  5.546650  0.829264\n",
       "4  10.007616  3.922956  5.578250  0.821158\n",
       "5   9.248886  3.893837  5.512880  0.833739\n",
       "6   9.498568  3.923674  5.549481  0.820419\n",
       "7   9.944436  3.911382  5.557848  0.827003\n",
       "8   9.962109  3.908708  5.549101  0.823855\n",
       "9   9.462517  3.916427  5.547056  0.833688"
      ]
     },
     "execution_count": 394,
     "metadata": {},
     "output_type": "execute_result"
    },
    {
     "data": {
      "text/html": [
       "<div>\n",
       "<style scoped>\n",
       "    .dataframe tbody tr th:only-of-type {\n",
       "        vertical-align: middle;\n",
       "    }\n",
       "\n",
       "    .dataframe tbody tr th {\n",
       "        vertical-align: top;\n",
       "    }\n",
       "\n",
       "    .dataframe thead th {\n",
       "        text-align: right;\n",
       "    }\n",
       "</style>\n",
       "<table border=\"1\" class=\"dataframe\">\n",
       "  <thead>\n",
       "    <tr style=\"text-align: right;\">\n",
       "      <th></th>\n",
       "      <th>RMSE</th>\n",
       "      <th>MedianAE</th>\n",
       "      <th>MeanAE</th>\n",
       "      <th>R2</th>\n",
       "    </tr>\n",
       "  </thead>\n",
       "  <tbody>\n",
       "    <tr>\n",
       "      <th>0</th>\n",
       "      <td>NaN</td>\n",
       "      <td>NaN</td>\n",
       "      <td>NaN</td>\n",
       "      <td>NaN</td>\n",
       "    </tr>\n",
       "    <tr>\n",
       "      <th>1</th>\n",
       "      <td>NaN</td>\n",
       "      <td>NaN</td>\n",
       "      <td>NaN</td>\n",
       "      <td>NaN</td>\n",
       "    </tr>\n",
       "    <tr>\n",
       "      <th>2</th>\n",
       "      <td>NaN</td>\n",
       "      <td>NaN</td>\n",
       "      <td>NaN</td>\n",
       "      <td>NaN</td>\n",
       "    </tr>\n",
       "    <tr>\n",
       "      <th>3</th>\n",
       "      <td>NaN</td>\n",
       "      <td>NaN</td>\n",
       "      <td>NaN</td>\n",
       "      <td>NaN</td>\n",
       "    </tr>\n",
       "    <tr>\n",
       "      <th>4</th>\n",
       "      <td>NaN</td>\n",
       "      <td>NaN</td>\n",
       "      <td>NaN</td>\n",
       "      <td>NaN</td>\n",
       "    </tr>\n",
       "    <tr>\n",
       "      <th>5</th>\n",
       "      <td>NaN</td>\n",
       "      <td>NaN</td>\n",
       "      <td>NaN</td>\n",
       "      <td>NaN</td>\n",
       "    </tr>\n",
       "    <tr>\n",
       "      <th>6</th>\n",
       "      <td>NaN</td>\n",
       "      <td>NaN</td>\n",
       "      <td>NaN</td>\n",
       "      <td>NaN</td>\n",
       "    </tr>\n",
       "    <tr>\n",
       "      <th>7</th>\n",
       "      <td>NaN</td>\n",
       "      <td>NaN</td>\n",
       "      <td>NaN</td>\n",
       "      <td>NaN</td>\n",
       "    </tr>\n",
       "    <tr>\n",
       "      <th>8</th>\n",
       "      <td>NaN</td>\n",
       "      <td>NaN</td>\n",
       "      <td>NaN</td>\n",
       "      <td>NaN</td>\n",
       "    </tr>\n",
       "    <tr>\n",
       "      <th>9</th>\n",
       "      <td>8.759439</td>\n",
       "      <td>3.698848</td>\n",
       "      <td>5.269229</td>\n",
       "      <td>0.857484</td>\n",
       "    </tr>\n",
       "  </tbody>\n",
       "</table>\n",
       "</div>"
      ],
      "text/plain": [
       "       RMSE  MedianAE    MeanAE        R2\n",
       "0       NaN       NaN       NaN       NaN\n",
       "1       NaN       NaN       NaN       NaN\n",
       "2       NaN       NaN       NaN       NaN\n",
       "3       NaN       NaN       NaN       NaN\n",
       "4       NaN       NaN       NaN       NaN\n",
       "5       NaN       NaN       NaN       NaN\n",
       "6       NaN       NaN       NaN       NaN\n",
       "7       NaN       NaN       NaN       NaN\n",
       "8       NaN       NaN       NaN       NaN\n",
       "9  8.759439  3.698848  5.269229  0.857484"
      ]
     },
     "execution_count": 394,
     "metadata": {},
     "output_type": "execute_result"
    }
   ],
   "source": [
    "results_woD_BR\n",
    "results_woD_RF\n",
    "results_woD_KNN \n",
    "results_woD_My_KNN_CV10"
   ]
  },
  {
   "cell_type": "code",
   "execution_count": 402,
   "metadata": {},
   "outputs": [
    {
     "data": {
      "text/html": [
       "<div>\n",
       "<style scoped>\n",
       "    .dataframe tbody tr th:only-of-type {\n",
       "        vertical-align: middle;\n",
       "    }\n",
       "\n",
       "    .dataframe tbody tr th {\n",
       "        vertical-align: top;\n",
       "    }\n",
       "\n",
       "    .dataframe thead th {\n",
       "        text-align: right;\n",
       "    }\n",
       "</style>\n",
       "<table border=\"1\" class=\"dataframe\">\n",
       "  <thead>\n",
       "    <tr style=\"text-align: right;\">\n",
       "      <th></th>\n",
       "      <th>RMSE</th>\n",
       "      <th>MedianAE</th>\n",
       "      <th>MeanAE</th>\n",
       "      <th>R2</th>\n",
       "    </tr>\n",
       "  </thead>\n",
       "  <tbody>\n",
       "    <tr>\n",
       "      <th>0</th>\n",
       "      <td>NaN</td>\n",
       "      <td>NaN</td>\n",
       "      <td>NaN</td>\n",
       "      <td>NaN</td>\n",
       "    </tr>\n",
       "    <tr>\n",
       "      <th>1</th>\n",
       "      <td>NaN</td>\n",
       "      <td>NaN</td>\n",
       "      <td>NaN</td>\n",
       "      <td>NaN</td>\n",
       "    </tr>\n",
       "    <tr>\n",
       "      <th>2</th>\n",
       "      <td>NaN</td>\n",
       "      <td>NaN</td>\n",
       "      <td>NaN</td>\n",
       "      <td>NaN</td>\n",
       "    </tr>\n",
       "    <tr>\n",
       "      <th>3</th>\n",
       "      <td>NaN</td>\n",
       "      <td>NaN</td>\n",
       "      <td>NaN</td>\n",
       "      <td>NaN</td>\n",
       "    </tr>\n",
       "    <tr>\n",
       "      <th>4</th>\n",
       "      <td>NaN</td>\n",
       "      <td>NaN</td>\n",
       "      <td>NaN</td>\n",
       "      <td>NaN</td>\n",
       "    </tr>\n",
       "    <tr>\n",
       "      <th>5</th>\n",
       "      <td>NaN</td>\n",
       "      <td>NaN</td>\n",
       "      <td>NaN</td>\n",
       "      <td>NaN</td>\n",
       "    </tr>\n",
       "    <tr>\n",
       "      <th>6</th>\n",
       "      <td>NaN</td>\n",
       "      <td>NaN</td>\n",
       "      <td>NaN</td>\n",
       "      <td>NaN</td>\n",
       "    </tr>\n",
       "    <tr>\n",
       "      <th>7</th>\n",
       "      <td>NaN</td>\n",
       "      <td>NaN</td>\n",
       "      <td>NaN</td>\n",
       "      <td>NaN</td>\n",
       "    </tr>\n",
       "    <tr>\n",
       "      <th>8</th>\n",
       "      <td>NaN</td>\n",
       "      <td>NaN</td>\n",
       "      <td>NaN</td>\n",
       "      <td>NaN</td>\n",
       "    </tr>\n",
       "    <tr>\n",
       "      <th>9</th>\n",
       "      <td>6.283847</td>\n",
       "      <td>2.61</td>\n",
       "      <td>3.878094</td>\n",
       "      <td>0.926656</td>\n",
       "    </tr>\n",
       "  </tbody>\n",
       "</table>\n",
       "</div>"
      ],
      "text/plain": [
       "       RMSE  MedianAE    MeanAE        R2\n",
       "0       NaN       NaN       NaN       NaN\n",
       "1       NaN       NaN       NaN       NaN\n",
       "2       NaN       NaN       NaN       NaN\n",
       "3       NaN       NaN       NaN       NaN\n",
       "4       NaN       NaN       NaN       NaN\n",
       "5       NaN       NaN       NaN       NaN\n",
       "6       NaN       NaN       NaN       NaN\n",
       "7       NaN       NaN       NaN       NaN\n",
       "8       NaN       NaN       NaN       NaN\n",
       "9  6.283847      2.61  3.878094  0.926656"
      ]
     },
     "execution_count": 402,
     "metadata": {},
     "output_type": "execute_result"
    },
    {
     "data": {
      "text/html": [
       "<div>\n",
       "<style scoped>\n",
       "    .dataframe tbody tr th:only-of-type {\n",
       "        vertical-align: middle;\n",
       "    }\n",
       "\n",
       "    .dataframe tbody tr th {\n",
       "        vertical-align: top;\n",
       "    }\n",
       "\n",
       "    .dataframe thead th {\n",
       "        text-align: right;\n",
       "    }\n",
       "</style>\n",
       "<table border=\"1\" class=\"dataframe\">\n",
       "  <thead>\n",
       "    <tr style=\"text-align: right;\">\n",
       "      <th></th>\n",
       "      <th>RMSE</th>\n",
       "      <th>MedianAE</th>\n",
       "      <th>MeanAE</th>\n",
       "      <th>R2</th>\n",
       "    </tr>\n",
       "  </thead>\n",
       "  <tbody>\n",
       "    <tr>\n",
       "      <th>0</th>\n",
       "      <td>NaN</td>\n",
       "      <td>NaN</td>\n",
       "      <td>NaN</td>\n",
       "      <td>NaN</td>\n",
       "    </tr>\n",
       "    <tr>\n",
       "      <th>1</th>\n",
       "      <td>NaN</td>\n",
       "      <td>NaN</td>\n",
       "      <td>NaN</td>\n",
       "      <td>NaN</td>\n",
       "    </tr>\n",
       "    <tr>\n",
       "      <th>2</th>\n",
       "      <td>NaN</td>\n",
       "      <td>NaN</td>\n",
       "      <td>NaN</td>\n",
       "      <td>NaN</td>\n",
       "    </tr>\n",
       "    <tr>\n",
       "      <th>3</th>\n",
       "      <td>NaN</td>\n",
       "      <td>NaN</td>\n",
       "      <td>NaN</td>\n",
       "      <td>NaN</td>\n",
       "    </tr>\n",
       "    <tr>\n",
       "      <th>4</th>\n",
       "      <td>NaN</td>\n",
       "      <td>NaN</td>\n",
       "      <td>NaN</td>\n",
       "      <td>NaN</td>\n",
       "    </tr>\n",
       "    <tr>\n",
       "      <th>5</th>\n",
       "      <td>NaN</td>\n",
       "      <td>NaN</td>\n",
       "      <td>NaN</td>\n",
       "      <td>NaN</td>\n",
       "    </tr>\n",
       "    <tr>\n",
       "      <th>6</th>\n",
       "      <td>NaN</td>\n",
       "      <td>NaN</td>\n",
       "      <td>NaN</td>\n",
       "      <td>NaN</td>\n",
       "    </tr>\n",
       "    <tr>\n",
       "      <th>7</th>\n",
       "      <td>NaN</td>\n",
       "      <td>NaN</td>\n",
       "      <td>NaN</td>\n",
       "      <td>NaN</td>\n",
       "    </tr>\n",
       "    <tr>\n",
       "      <th>8</th>\n",
       "      <td>NaN</td>\n",
       "      <td>NaN</td>\n",
       "      <td>NaN</td>\n",
       "      <td>NaN</td>\n",
       "    </tr>\n",
       "    <tr>\n",
       "      <th>9</th>\n",
       "      <td>7.224003</td>\n",
       "      <td>2.913906</td>\n",
       "      <td>4.235449</td>\n",
       "      <td>0.903068</td>\n",
       "    </tr>\n",
       "  </tbody>\n",
       "</table>\n",
       "</div>"
      ],
      "text/plain": [
       "       RMSE  MedianAE    MeanAE        R2\n",
       "0       NaN       NaN       NaN       NaN\n",
       "1       NaN       NaN       NaN       NaN\n",
       "2       NaN       NaN       NaN       NaN\n",
       "3       NaN       NaN       NaN       NaN\n",
       "4       NaN       NaN       NaN       NaN\n",
       "5       NaN       NaN       NaN       NaN\n",
       "6       NaN       NaN       NaN       NaN\n",
       "7       NaN       NaN       NaN       NaN\n",
       "8       NaN       NaN       NaN       NaN\n",
       "9  7.224003  2.913906  4.235449  0.903068"
      ]
     },
     "execution_count": 402,
     "metadata": {},
     "output_type": "execute_result"
    },
    {
     "data": {
      "text/html": [
       "<div>\n",
       "<style scoped>\n",
       "    .dataframe tbody tr th:only-of-type {\n",
       "        vertical-align: middle;\n",
       "    }\n",
       "\n",
       "    .dataframe tbody tr th {\n",
       "        vertical-align: top;\n",
       "    }\n",
       "\n",
       "    .dataframe thead th {\n",
       "        text-align: right;\n",
       "    }\n",
       "</style>\n",
       "<table border=\"1\" class=\"dataframe\">\n",
       "  <thead>\n",
       "    <tr style=\"text-align: right;\">\n",
       "      <th></th>\n",
       "      <th>RMSE</th>\n",
       "      <th>MedianAE</th>\n",
       "      <th>MeanAE</th>\n",
       "      <th>R2</th>\n",
       "    </tr>\n",
       "  </thead>\n",
       "  <tbody>\n",
       "    <tr>\n",
       "      <th>0</th>\n",
       "      <td>NaN</td>\n",
       "      <td>NaN</td>\n",
       "      <td>NaN</td>\n",
       "      <td>NaN</td>\n",
       "    </tr>\n",
       "    <tr>\n",
       "      <th>1</th>\n",
       "      <td>NaN</td>\n",
       "      <td>NaN</td>\n",
       "      <td>NaN</td>\n",
       "      <td>NaN</td>\n",
       "    </tr>\n",
       "    <tr>\n",
       "      <th>2</th>\n",
       "      <td>NaN</td>\n",
       "      <td>NaN</td>\n",
       "      <td>NaN</td>\n",
       "      <td>NaN</td>\n",
       "    </tr>\n",
       "    <tr>\n",
       "      <th>3</th>\n",
       "      <td>NaN</td>\n",
       "      <td>NaN</td>\n",
       "      <td>NaN</td>\n",
       "      <td>NaN</td>\n",
       "    </tr>\n",
       "    <tr>\n",
       "      <th>4</th>\n",
       "      <td>NaN</td>\n",
       "      <td>NaN</td>\n",
       "      <td>NaN</td>\n",
       "      <td>NaN</td>\n",
       "    </tr>\n",
       "    <tr>\n",
       "      <th>5</th>\n",
       "      <td>NaN</td>\n",
       "      <td>NaN</td>\n",
       "      <td>NaN</td>\n",
       "      <td>NaN</td>\n",
       "    </tr>\n",
       "    <tr>\n",
       "      <th>6</th>\n",
       "      <td>NaN</td>\n",
       "      <td>NaN</td>\n",
       "      <td>NaN</td>\n",
       "      <td>NaN</td>\n",
       "    </tr>\n",
       "    <tr>\n",
       "      <th>7</th>\n",
       "      <td>NaN</td>\n",
       "      <td>NaN</td>\n",
       "      <td>NaN</td>\n",
       "      <td>NaN</td>\n",
       "    </tr>\n",
       "    <tr>\n",
       "      <th>8</th>\n",
       "      <td>NaN</td>\n",
       "      <td>NaN</td>\n",
       "      <td>NaN</td>\n",
       "      <td>NaN</td>\n",
       "    </tr>\n",
       "    <tr>\n",
       "      <th>9</th>\n",
       "      <td>6.271037</td>\n",
       "      <td>2.62</td>\n",
       "      <td>3.870339</td>\n",
       "      <td>0.926955</td>\n",
       "    </tr>\n",
       "  </tbody>\n",
       "</table>\n",
       "</div>"
      ],
      "text/plain": [
       "       RMSE  MedianAE    MeanAE        R2\n",
       "0       NaN       NaN       NaN       NaN\n",
       "1       NaN       NaN       NaN       NaN\n",
       "2       NaN       NaN       NaN       NaN\n",
       "3       NaN       NaN       NaN       NaN\n",
       "4       NaN       NaN       NaN       NaN\n",
       "5       NaN       NaN       NaN       NaN\n",
       "6       NaN       NaN       NaN       NaN\n",
       "7       NaN       NaN       NaN       NaN\n",
       "8       NaN       NaN       NaN       NaN\n",
       "9  6.271037      2.62  3.870339  0.926955"
      ]
     },
     "execution_count": 402,
     "metadata": {},
     "output_type": "execute_result"
    }
   ],
   "source": [
    "results_RF_woD_dbda_cv10\n",
    "results_my_KNN_dbda_cv10\n",
    "results_RF_wD_dbda_cv10"
   ]
  },
  {
   "cell_type": "code",
   "execution_count": null,
   "metadata": {},
   "outputs": [],
   "source": []
  },
  {
   "cell_type": "code",
   "execution_count": null,
   "metadata": {},
   "outputs": [],
   "source": []
  },
  {
   "cell_type": "markdown",
   "metadata": {},
   "source": [
    "#### compare the time series (CV-10)"
   ]
  },
  {
   "cell_type": "code",
   "execution_count": 316,
   "metadata": {},
   "outputs": [],
   "source": [
    "BR_woD_cv10 = pd.read_pickle(\"/Users/iditbela/Documents/Broday/saved_data_from_notebooks/BR_woD_cv10\")\n",
    "RF_woD_cv10 = pd.read_pickle(\"/Users/iditbela/Documents/Broday/saved_data_from_notebooks/RF_woD_cv10\")\n",
    "KNN_woD_cv10 = pd.read_pickle(\"/Users/iditbela/Documents/Broday/saved_data_from_notebooks/KNN_woD_cv10\")\n",
    "my_KNN_cv10 = pd.read_pickle(\"/Users/iditbela/Documents/Broday/saved_data_from_notebooks/my_KNN_cv10\")\n",
    "\n",
    "# addition-1\n",
    "RF_woD_dbda_cv10 = pd.read_pickle(\"/Users/iditbela/Documents/Broday/saved_data_from_notebooks/RF_woD_dbda_cv10\")\n",
    "my_KNN_dbda_cv10 = pd.read_pickle(\"/Users/iditbela/Documents/Broday/saved_data_from_notebooks/my_KNN_dbda_cv10\")\n",
    "\n",
    "# addition-2\n",
    "RF_wD_dbda_cv10 = pd.read_pickle(\"/Users/iditbela/Documents/Broday/saved_data_from_notebooks/RF_wD_dbda_cv10\")"
   ]
  },
  {
   "cell_type": "code",
   "execution_count": 317,
   "metadata": {},
   "outputs": [],
   "source": [
    "data_df = pd.concat([BR_woD_cv10, RF_woD_cv10, KNN_woD_cv10, my_KNN_cv10,RF_woD_dbda_cv10,my_KNN_dbda_cv10,RF_wD_dbda_cv10], keys=['BR', 'RF','KNN','my_KNN','RF_add1','my_KNN_add1','RF_add1+2'])"
   ]
  },
  {
   "cell_type": "code",
   "execution_count": 319,
   "metadata": {},
   "outputs": [
    {
     "data": {
      "text/plain": [
       "7"
      ]
     },
     "execution_count": 319,
     "metadata": {},
     "output_type": "execute_result"
    }
   ],
   "source": [
    "imputation_methods = ['BR', 'RF','KNN','my_KNN','RF_add1','my_KNN_add1','RF_add1+2']\n",
    "len(imputation_methods)"
   ]
  },
  {
   "cell_type": "code",
   "execution_count": 320,
   "metadata": {},
   "outputs": [],
   "source": [
    "# data_df.head()\n",
    "# data_df.loc['BR']['AFULA']"
   ]
  },
  {
   "cell_type": "code",
   "execution_count": 321,
   "metadata": {},
   "outputs": [],
   "source": [
    "# set extra colors in case more pollutants are measured in a station:\n",
    "colors = ['#BC8F8F','blue','fuchsia','#BC8F8F','#8B4513','#2ca02c','#8B008B','#ff7f0e','#FFD700','LightSkyBlue']\n",
    "\n",
    "color_lines = dict()\n",
    "for im, c in zip(imputation_methods, colors[0:len(imputation_methods)+1]):\n",
    "    color_lines[im] = c"
   ]
  },
  {
   "cell_type": "code",
   "execution_count": 312,
   "metadata": {},
   "outputs": [],
   "source": [
    "# mark in background! the imputed without validation and in red background the validation."
   ]
  },
  {
   "cell_type": "code",
   "execution_count": null,
   "metadata": {},
   "outputs": [],
   "source": []
  },
  {
   "cell_type": "code",
   "execution_count": null,
   "metadata": {},
   "outputs": [],
   "source": []
  },
  {
   "cell_type": "code",
   "execution_count": null,
   "metadata": {},
   "outputs": [],
   "source": []
  },
  {
   "cell_type": "code",
   "execution_count": 325,
   "metadata": {},
   "outputs": [],
   "source": [
    "def get_opposite_np_r_PM25_y():\n",
    "    # generate np_r_PM25_y and modify it \n",
    "    r_PM25_copy = r_PM25.copy()\n",
    "    np_r_PM25, np_r_PM25_y = return_X_y_KFold_cross_validation(r_PM25_copy,10)\n",
    "    original_np_r_PM25_y = np_r_PM25_y.copy()\n",
    "    np_r_PM25_y[np.isnan(np_r_PM25_y)] = -1\n",
    "    np_r_PM25_y[np_r_PM25_y != -1 ] = np.nan\n",
    "    return np_r_PM25_y, original_np_r_PM25_y\n",
    "       \n",
    "\n",
    "def get_missing_values_idx(missing_PM, Stations):\n",
    "        \n",
    "    missing_PM[missing_PM.notnull()] = 1\n",
    "    missing_PM[missing_PM.isnull()] = 0\n",
    "    diffs = missing_PM.diff(axis = 0)    \n",
    "    #begining\n",
    "    if missing_PM[Stations].iloc[0]==0:\n",
    "        diffs[Stations].iloc[0]=-1\n",
    "\n",
    "    #end\n",
    "    if missing_PM[Stations].iloc[-1]==0:\n",
    "        diffs[Stations].iloc[-1]=1\n",
    "\n",
    "    row_start = np.where(diffs.loc[:,Stations] == -1)[0]\n",
    "    row_end = np.where(diffs.loc[:,Stations] == 1)[0]\n",
    "\n",
    "#     xranges = list(list(zip(row_start,row_end-row_start)))\n",
    "\n",
    "    return row_start,row_end\n",
    "\n",
    "\n",
    "def get_index(row_start, row_end):\n",
    "    idx_x = np.array([])\n",
    "    idx_y = np.array([])\n",
    "    for rs,re in zip(row_start, row_end):  \n",
    "\n",
    "        to_append_x = np.append(rs,np.append(np.arange(rs,re+1),re))\n",
    "        idx_x=np.append(idx_x,to_append_x)\n",
    "\n",
    "        to_append_y = np.append(0,np.append(np.ones((len(to_append_x)-2,))*1000,0))\n",
    "        idx_y = np.append(idx_y,to_append_y)\n",
    "    \n",
    "    return idx_x.astype(int),idx_y    \n",
    "    "
   ]
  },
  {
   "cell_type": "code",
   "execution_count": null,
   "metadata": {},
   "outputs": [],
   "source": []
  },
  {
   "cell_type": "code",
   "execution_count": null,
   "metadata": {},
   "outputs": [],
   "source": []
  },
  {
   "cell_type": "code",
   "execution_count": 323,
   "metadata": {},
   "outputs": [],
   "source": [
    "# fig = go.Figure(go.Scatter(x=idx_x, y=idx_y, fill=\"tozeroy\",mode = 'none'))\n",
    "# fig.show()"
   ]
  },
  {
   "cell_type": "code",
   "execution_count": null,
   "metadata": {},
   "outputs": [],
   "source": []
  },
  {
   "cell_type": "code",
   "execution_count": 328,
   "metadata": {},
   "outputs": [
    {
     "data": {
      "application/vnd.jupyter.widget-view+json": {
       "model_id": "f6982cf175144d73a10646160451c90d",
       "version_major": 2,
       "version_minor": 0
      },
      "text/html": [
       "<p>Failed to display Jupyter Widget of type <code>interactive</code>.</p>\n",
       "<p>\n",
       "  If you're reading this message in the Jupyter Notebook or JupyterLab Notebook, it may mean\n",
       "  that the widgets JavaScript is still loading. If this message persists, it\n",
       "  likely means that the widgets JavaScript library is either not installed or\n",
       "  not enabled. See the <a href=\"https://ipywidgets.readthedocs.io/en/stable/user_install.html\">Jupyter\n",
       "  Widgets Documentation</a> for setup instructions.\n",
       "</p>\n",
       "<p>\n",
       "  If you're reading this message in another frontend (for example, a static\n",
       "  rendering on GitHub or <a href=\"https://nbviewer.jupyter.org/\">NBViewer</a>),\n",
       "  it may mean that your frontend doesn't currently support widgets.\n",
       "</p>\n"
      ],
      "text/plain": [
       "interactive(children=(SelectMultiple(description='Method', index=(6,), options=('BR', 'RF', 'KNN', 'my_KNN', 'RF_add1', 'my_KNN_add1', 'RF_add1+2'), value=('RF_add1+2',)), Dropdown(description='Station', options=('AFULA', 'ANTOKOLSKY', 'HOLON', 'IRONID', 'KVISH4', 'REMEZ', 'YAD_LEBANIM', 'YEFET_YAFO', 'AHUZA_G', 'ATZMAUT_B', 'KIRYAT_ATA', 'KIRYAT_BIALIK', 'KIRYAT_BINYAMIN', 'KIRYAT_TIVON', 'NAVE_SHANAAN', 'NESHER', 'BAR_ILAN', 'EFRATA', 'ASHDOD_IGUD', 'ASHKELON_SOUTH', 'GEDERA', 'GVARAAM', 'KIRYAT_MALAHI', 'NIR_ISRAEL', 'ORT', 'ROVA_TV', 'SDEROT', 'SDE_YOAV', 'YAHALOM', 'BEER_SHEVA', 'EAST_NEGEV', 'KFAR_MASARIK', 'PARDES_HANA', 'RAANANA'), value='AFULA'), Output()), _dom_classes=('widget-interact',))"
      ]
     },
     "metadata": {},
     "output_type": "display_data"
    }
   ],
   "source": [
    "layout = go.Layout(\n",
    "    width = 700,\n",
    "    height = 400,\n",
    "    title={\n",
    "        'text': \"CV-10 results\",\n",
    "        'y':0.9,\n",
    "        'x':0.5,\n",
    "        'xanchor': 'right',\n",
    "        'yanchor': 'top'},\n",
    "    yaxis = dict(\n",
    "        title = '$\\mu g/m^3$ '\n",
    "    ),\n",
    "    xaxis = dict(\n",
    "        title = 'Date'\n",
    "    ),\n",
    "    plot_bgcolor='rgb(255,255,250)'\n",
    "#     paper_bgcolor = 'rgba(0,0,0,0)',\n",
    "#     plot_bgcolor = 'rgba(0,0,0,0)'\n",
    ")\n",
    "\n",
    "def update_plot(Method,Stations):   \n",
    "\n",
    "#     data = [] #empty list where all my traces are in\n",
    "    fig = go.Figure(layout=layout)\n",
    "        \n",
    "    # imputed\n",
    "    missing_PM = r_PM25.copy()\n",
    "    row_start,row_end = get_missing_values_idx(missing_PM, Stations)\n",
    "    idx_x, idx_y = get_index(row_start,row_end)\n",
    "    \n",
    "    fig.add_trace(go.Scattergl(\n",
    "    x=times[idx_x],\n",
    "    y=idx_y,\n",
    "    mode = 'none',\n",
    "    name = 'imputed',\n",
    "    fillcolor='rgba(250,128,114, 0.5)',# the last value is opacity\n",
    "    fill='tozeroy')) # fill down to xaxis\n",
    "    \n",
    "#     # validated\n",
    "    np_r_PM25_y, original_np_r_PM25_y = get_opposite_np_r_PM25_y()\n",
    "    r_PM25_y = pd.DataFrame(np_r_PM25_y,columns=r_PM25.columns)\n",
    "\n",
    "    row_start,row_end = get_missing_values_idx(r_PM25_y, Stations)\n",
    "    idx_x, idx_y = get_index(row_start,row_end)\n",
    "    \n",
    "    fig.add_trace(go.Scattergl(\n",
    "    x=times[idx_x],\n",
    "    y=idx_y,\n",
    "    mode = 'none',\n",
    "    name = 'validated',\n",
    "    fillcolor='rgba(0,255,127, 0.5)',# the last value is opacity\n",
    "    fill='tozeroy')) # fill down to xaxis\n",
    "    \n",
    "    # validated values \n",
    "    original_r_PM25_y = pd.DataFrame(original_np_r_PM25_y,columns=r_PM25.columns)\n",
    "    d = original_r_PM25_y.loc[:,Stations]\n",
    "     \n",
    "    fig.add_trace(go.Scattergl(\n",
    "    x=times,\n",
    "    y=d,\n",
    "    mode = 'markers',\n",
    "    name = 'validation point',\n",
    "    marker = dict(size=5,color='#FF0000')\n",
    "    )) # fill down to xaxis\n",
    "\n",
    "\n",
    "    \n",
    "    for m in Method: # signals are the items in the multiselect widget    \n",
    "\n",
    "        chosen_data = data_df.loc[m][Stations]\n",
    "        \n",
    "        # updaing imputation method\n",
    "        fig.add_trace(go.Scattergl(\n",
    "            x=times,\n",
    "            y=chosen_data,\n",
    "            mode = 'lines+markers',#lines/markers\n",
    "            name = '{}\\n{}'.format(m,Stations),\n",
    "            opacity=.8,\n",
    "            line = dict(width=0.5,color=color_lines[m]),\n",
    "            marker = dict(size=4,color=color_lines[m]),\n",
    "            showlegend = True\n",
    "        ))\n",
    "\n",
    "#     # if large data:\n",
    "#     pio.write_html(fig, file='index.html', auto_open=True)\n",
    "    # when using notebook\n",
    "    py.offline.iplot(fig)\n",
    "#     # if small data:\n",
    "#     cpy.plot(fig, filename = 'cv_compare', auto_open=True)\n",
    "\n",
    "i = widgets.interact(update_plot, \n",
    "             Stations = widgets.Dropdown(options=list(RF_woD_cv10.columns),description='Station'),\n",
    "             Method = widgets.SelectMultiple(options=imputation_methods,value=('RF_add1+2',))\n",
    "             )"
   ]
  },
  {
   "cell_type": "code",
   "execution_count": null,
   "metadata": {},
   "outputs": [],
   "source": []
  },
  {
   "cell_type": "code",
   "execution_count": null,
   "metadata": {},
   "outputs": [],
   "source": []
  },
  {
   "cell_type": "code",
   "execution_count": null,
   "metadata": {},
   "outputs": [],
   "source": [
    "# trying with pyplot express and plotly chart:"
   ]
  },
  {
   "cell_type": "code",
   "execution_count": 282,
   "metadata": {},
   "outputs": [],
   "source": [
    "# import plotly.express as px\n",
    "# import chart_studio\n",
    "# import chart_studio.plotly as cpy\n",
    "# import plotly.io as pio"
   ]
  },
  {
   "cell_type": "code",
   "execution_count": 278,
   "metadata": {},
   "outputs": [],
   "source": [
    "# username = 'iditbela' # your username\n",
    "# api_key = 'znw1tfcxvG5gRUmiFjjq' # your api key - go to profile > settings > regenerate key\n",
    "# chart_studio.tools.set_credentials_file(username=username, api_key=api_key)"
   ]
  },
  {
   "cell_type": "code",
   "execution_count": null,
   "metadata": {},
   "outputs": [],
   "source": [
    "# fig... "
   ]
  },
  {
   "cell_type": "code",
   "execution_count": 286,
   "metadata": {},
   "outputs": [],
   "source": [
    "        # cpy.plot(fig, filename = 'cv_compare', auto_open=True)"
   ]
  },
  {
   "cell_type": "code",
   "execution_count": null,
   "metadata": {},
   "outputs": [],
   "source": []
  },
  {
   "cell_type": "markdown",
   "metadata": {},
   "source": [
    "#### compare grouped by missing interval length"
   ]
  },
  {
   "cell_type": "code",
   "execution_count": null,
   "metadata": {},
   "outputs": [],
   "source": []
  },
  {
   "cell_type": "code",
   "execution_count": null,
   "metadata": {},
   "outputs": [],
   "source": []
  },
  {
   "cell_type": "code",
   "execution_count": null,
   "metadata": {},
   "outputs": [],
   "source": [
    "# trash\n",
    "s = pd.Series(tuple(map(tuple, not_nan_idx[test_index])))\n",
    "vals = s.apply(lambda xy: r_PM25.iloc[xy[0],xy[1]])"
   ]
  },
  {
   "cell_type": "code",
   "execution_count": null,
   "metadata": {},
   "outputs": [],
   "source": []
  },
  {
   "cell_type": "code",
   "execution_count": 178,
   "metadata": {},
   "outputs": [],
   "source": [
    "PM25=r_PM25\n",
    "k=2\n",
    "withDays=False\n",
    "\n",
    "kf = KFold(n_splits=k, random_state=0, shuffle=True)\n",
    "not_nan_idx = np.argwhere(PM25.notnull().values)\n",
    "results = []"
   ]
  },
  {
   "cell_type": "code",
   "execution_count": 179,
   "metadata": {},
   "outputs": [
    {
     "data": {
      "text/plain": [
       "array([      1,       3,       4, ..., 1754019, 1754021, 1754024])"
      ]
     },
     "execution_count": 179,
     "metadata": {},
     "output_type": "execute_result"
    },
    {
     "data": {
      "text/plain": [
       "array([      0,       2,       6, ..., 1754023, 1754025, 1754026])"
      ]
     },
     "execution_count": 179,
     "metadata": {},
     "output_type": "execute_result"
    },
    {
     "data": {
      "text/plain": [
       "array([      0,       2,       6, ..., 1754023, 1754025, 1754026])"
      ]
     },
     "execution_count": 179,
     "metadata": {},
     "output_type": "execute_result"
    },
    {
     "data": {
      "text/plain": [
       "array([      1,       3,       4, ..., 1754019, 1754021, 1754024])"
      ]
     },
     "execution_count": 179,
     "metadata": {},
     "output_type": "execute_result"
    }
   ],
   "source": [
    "for train_index, test_index in kf.split(not_nan_idx):\n",
    "        train_index\n",
    "        test_index"
   ]
  },
  {
   "cell_type": "code",
   "execution_count": 139,
   "metadata": {},
   "outputs": [
    {
     "name": "stdout",
     "output_type": "stream",
     "text": [
      "[IterativeImputer] Completing matrix with shape (52606, 39)\n",
      "[IterativeImputer] Change: 6112.810739330168, scaled tolerance: 1.133 \n"
     ]
    },
    {
     "name": "stderr",
     "output_type": "stream",
     "text": [
      "/Library/Frameworks/Python.framework/Versions/3.6/lib/python3.6/site-packages/sklearn/impute/_iterative.py:670: ConvergenceWarning:\n",
      "\n",
      "[IterativeImputer] Early stopping criterion not reached.\n",
      "\n"
     ]
    },
    {
     "data": {
      "text/plain": [
       "IterativeImputer(estimator=ExtraTreesRegressor(n_estimators=10, random_state=0),\n",
       "                 max_iter=1, verbose=True)"
      ]
     },
     "execution_count": 139,
     "metadata": {},
     "output_type": "execute_result"
    },
    {
     "name": "stdout",
     "output_type": "stream",
     "text": [
      "[IterativeImputer] Completing matrix with shape (52606, 39)\n"
     ]
    }
   ],
   "source": [
    "np_PM25 = PM25.values\n",
    "X_missing = PM25.copy()\n",
    "y_missing = PM25.copy()\n",
    "\n",
    "# y_missing \n",
    "y_missing.iloc[:] = np.nan\n",
    "np_y_missing = y_missing.values\n",
    "\n",
    "# asssign values according to test indexes\n",
    "rows, cols = zip(*not_nan_idx[test_index])\n",
    "vals = np_PM25[rows, cols]\n",
    "np_y_missing[rows, cols] = vals\n",
    "# turn back to dataframe\n",
    "y_missing = pd.DataFrame(np_y_missing,columns=PM25.columns)\n",
    "\n",
    "# X_missing\n",
    "# assign nans according to test indexes\n",
    "np_X_missing = X_missing.values\n",
    "np_X_missing[rows, cols] = np.nan\n",
    "\n",
    "# turn back to dataframe\n",
    "X_missing = pd.DataFrame(np_X_missing,columns=PM25.columns)\n",
    "\n",
    "# mask all missing values\n",
    "indicator = MissingIndicator(missing_values=np.nan)\n",
    "mask_missing_values_original = indicator.fit_transform(PM25)\n",
    "mask_missing_values_all = indicator.fit_transform(X_missing)\n",
    "\n",
    "# perform fit \n",
    "imp.fit(X_missing)\n",
    "imputed_df = imp.transform(X_missing) # impute it\n",
    "imputed_df = pd.DataFrame(imputed_df, columns=X_missing.columns) #turn it from IterativeImputer object to a dataframe"
   ]
  },
  {
   "cell_type": "code",
   "execution_count": 180,
   "metadata": {},
   "outputs": [],
   "source": [
    "# evaluate\n",
    "# y_train = inverse_y_missing.values\n",
    "y_train = vals\n",
    "\n",
    "# y_pred = inverse_imputed_df.mask(~mask).values\n",
    "np_imputed_df = imputed_df.values\n",
    "y_pred = np_imputed_df[rows, cols]"
   ]
  },
  {
   "cell_type": "code",
   "execution_count": 181,
   "metadata": {},
   "outputs": [
    {
     "data": {
      "text/plain": [
       "(877013,)"
      ]
     },
     "execution_count": 181,
     "metadata": {},
     "output_type": "execute_result"
    },
    {
     "data": {
      "text/plain": [
       "(877013,)"
      ]
     },
     "execution_count": 181,
     "metadata": {},
     "output_type": "execute_result"
    }
   ],
   "source": [
    "y_train.shape\n",
    "y_pred.shape"
   ]
  },
  {
   "cell_type": "code",
   "execution_count": 182,
   "metadata": {},
   "outputs": [],
   "source": [
    "# assign results\n",
    "RMSE = np.sqrt(mean_squared_error(y_train, y_pred))\n",
    "MedianAE = median_absolute_error(y_train, y_pred)\n",
    "MeanAE = mean_absolute_error(y_train,y_pred)\n",
    "R2 = r2_score(y_train,y_pred)\n",
    "# results.append([RMSE,MedianAE,MeanAE,R2])"
   ]
  },
  {
   "cell_type": "code",
   "execution_count": 183,
   "metadata": {},
   "outputs": [],
   "source": [
    "# assign results\n",
    "RMSE = np.sqrt(mean_squared_error(y_train, y_pred))\n",
    "MedianAE = median_absolute_error(y_train, y_pred)\n",
    "MeanAE = mean_absolute_error(y_train,y_pred)\n",
    "R2 = r2_score(y_train,y_pred)\n",
    "results.append([RMSE,MedianAE,MeanAE,R2])"
   ]
  },
  {
   "cell_type": "code",
   "execution_count": 184,
   "metadata": {},
   "outputs": [
    {
     "data": {
      "text/plain": [
       "[[12.065151202546158,\n",
       "  4.540000000000001,\n",
       "  6.837151125467923,\n",
       "  0.5649296791889007]]"
      ]
     },
     "execution_count": 184,
     "metadata": {},
     "output_type": "execute_result"
    }
   ],
   "source": [
    "results"
   ]
  },
  {
   "cell_type": "code",
   "execution_count": null,
   "metadata": {},
   "outputs": [],
   "source": [
    "# # do I need to sort all rows so I start with imputing the row with the smallest number \n",
    "# # of missing values? I think so. \n",
    "\n",
    "# # for i,row in enumerate(np_r_PM25):  \n",
    "# #     # euclidean\n",
    "# #     distance.cdist(np_r_PM25, row.reshape(-1, 1).T, lambda u, v: np.sqrt(np.nansum((u-v)**2)))\n",
    "# #     print(i)\n",
    "# # each chunk I get, is an array of all distances of row i with all other rows.\n",
    "# # this is why in the first chunk 0 is first, in the second chunk 0 is second...\n",
    "# # Once distances are calculated, we must sort all of the records in the training \n",
    "# # dataset by their distance to the new data (the desired row). \n",
    "# # We can then select the top k to return as the most similar neighbors. \n",
    "\n",
    "\n",
    "# def get_distance(all_data, imputed_row):\n",
    "\n",
    "#     # when I want to compute it to all elements in the row, including nans:\n",
    "#     dist = distance.cdist(all_data, imputed_row.reshape(-1, 1).T, lambda u, v: np.sqrt(np.nansum((u-v)**2)))\n",
    "#     return dist\n",
    "    \n",
    "# # Locate the most similar neighbors of a row. \n",
    "# # all_data = np_r_PM25\n",
    "# # imputed_row = the current row you want to impute. \n",
    "\n",
    "# def get_neighbors(all_data, imputed_row, num_neighbors):\n",
    "#     dist = get_distance(all_data, imputed_row)\n",
    "#     distances = list(zip(np_r_PM25, dist))    \n",
    "#     distances.sort(key=lambda tup: tup[1])\n",
    "#     neighbors = list()\n",
    "#     for i in range(num_neighbors):\n",
    "#         neighbors.append(distances[i][0])\n",
    "#     return neighbors\n",
    "\n",
    "\n",
    "# # # get_all_neighbors weigh all the neighbors. \n",
    "# # # so no need to sort\n",
    "# # def get_all_neighbors(all_data, imputed_row):\n",
    "# #     dist,no_elements = get_distance(all_data, imputed_row)\n",
    "    \n",
    "# #     distances = list(zip(np_r_PM25, dist, no_elements))\n",
    "\n",
    "# #     return neighbors\n",
    "    \n",
    " \n",
    "\n",
    "\n",
    "\n",
    "# #     distance.cdist(np.delete(np_r_PM25, i,axis=0), row.reshape(-1, 1).T, lambda u, v: np.dot(u, v)/(np.linalg.norm(u)*np.linalg.norm(v)))\n",
    "# #     distance.cdist(np.delete(np_r_PM25, i,axis=0), row.reshape(-1, 1).T, 'cosine') #euclidean\n",
    "\n",
    "# # dot(a, b)/(norm(a)*norm(b))"
   ]
  },
  {
   "cell_type": "code",
   "execution_count": null,
   "metadata": {},
   "outputs": [],
   "source": [
    "# # from the begining!\n",
    "# def get_distance(row1, row2):   \n",
    "#     cond = np.array((np.isnan(row1)) | (np.isnan(row2)))    \n",
    "#     # divide the dist by the number of elements compared\n",
    "#     dist = distance.cosine(row1[~cond],row2[~cond])/np.sum(~cond) #euclidean/cosine...\n",
    "#     return dist\n",
    "\n",
    "# def get_neighbors(all_data, imputed_row, num_neighbors):\n",
    "#     distances = list()\n",
    "#     weights = list()\n",
    "#     for row in all_data:\n",
    "#         dist = get_distance(imputed_row, row)\n",
    "#         distances.append((row, dist))\n",
    "#     distances.sort(key=lambda tup: tup[1])\n",
    "#     neighbors = list() \n",
    "#     for i in range(num_neighbors):\n",
    "#         neighbors.append(distances[i][0])\n",
    "#         weights.append(distances[i][1])\n",
    "#     return weights[1:], neighbors[1:] # don't return the imputed row itself"
   ]
  },
  {
   "cell_type": "code",
   "execution_count": null,
   "metadata": {},
   "outputs": [],
   "source": [
    "# fig, ax = plt.subplots(figsize=(20,12))\n",
    "# corrMatrix = r_PM25.corr()\n",
    "# corrMatrix\n",
    "# sns.heatmap(corrMatrix, annot=True)\n",
    "# plt.show();"
   ]
  },
  {
   "cell_type": "code",
   "execution_count": null,
   "metadata": {},
   "outputs": [],
   "source": []
  }
 ],
 "metadata": {
  "kernelspec": {
   "display_name": "Python 3",
   "language": "python",
   "name": "python3"
  },
  "language_info": {
   "codemirror_mode": {
    "name": "ipython",
    "version": 3
   },
   "file_extension": ".py",
   "mimetype": "text/x-python",
   "name": "python",
   "nbconvert_exporter": "python",
   "pygments_lexer": "ipython3",
   "version": "3.6.4"
  }
 },
 "nbformat": 4,
 "nbformat_minor": 2
}
