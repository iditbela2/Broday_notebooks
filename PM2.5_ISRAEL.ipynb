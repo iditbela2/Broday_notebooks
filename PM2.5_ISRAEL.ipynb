{
 "cells": [
  {
   "cell_type": "markdown",
   "metadata": {},
   "source": [
    "# Part (1)- data imputation "
   ]
  },
  {
   "cell_type": "markdown",
   "metadata": {},
   "source": [
    "## upload matlab's data"
   ]
  },
  {
   "cell_type": "code",
   "execution_count": 1153,
   "metadata": {},
   "outputs": [],
   "source": [
    "from scipy.io import loadmat\n",
    "import numpy as np\n",
    "import pandas as pd\n",
    "import matplotlib.pyplot as plt\n",
    "import plotly as py\n",
    "import plotly.graph_objs as go\n",
    "import ipywidgets as widgets\n",
    "from tqdm.auto import tqdm \n",
    "\n",
    "# import requests\n",
    "# import pandas as pd\n",
    "# import numpy as np\n",
    "# import json\n",
    "# from pandas.io.json import json_normalize\n",
    "# from datetime import datetime, timedelta\n",
    "# from dateutil.relativedelta import relativedelta\n",
    "# from matplotlib import pyplot as plt\n",
    "# import matplotlib.cm as cm\n",
    "# import itertools\n",
    "# import metpy as mp\n",
    "# import metpy.calc as mpcalc\n",
    "# import plotly as py\n",
    "# import plotly.graph_objs as go\n",
    "# import plotly.figure_factory as ff\n",
    "# from scipy import special\n",
    "# import ipywidgets as widgets\n",
    "# from metpy.units import units\n",
    "\n",
    "\n",
    "from IPython.core.interactiveshell import InteractiveShell\n",
    "InteractiveShell.ast_node_interactivity = \"all\"\n",
    "%config InlineBackend.figure_format = 'retina'"
   ]
  },
  {
   "cell_type": "code",
   "execution_count": 639,
   "metadata": {},
   "outputs": [],
   "source": [
    "PM25_dict = loadmat('/Users/iditbela/Documents/Broday/AQMdataQC/LoadDataVar_PM25_2000#2018.mat')"
   ]
  },
  {
   "cell_type": "code",
   "execution_count": 640,
   "metadata": {},
   "outputs": [
    {
     "data": {
      "text/plain": [
       "dict_keys(['__header__', '__version__', '__globals__', 'StNames_Titles', 'SelYears', 'TA', 'README_TA', 'DATA', 'StNames', 'StTypes', 'fffSt', 'README_DATA', 'VarName', 'VarCode', 'VarUnits'])"
      ]
     },
     "execution_count": 640,
     "metadata": {},
     "output_type": "execute_result"
    }
   ],
   "source": [
    "PM25_dict.keys()"
   ]
  },
  {
   "cell_type": "code",
   "execution_count": 641,
   "metadata": {},
   "outputs": [
    {
     "data": {
      "text/plain": [
       "array([[2000, 2001, 2002, 2003, 2004, 2005, 2006, 2007, 2008, 2009, 2010,\n",
       "        2011, 2012, 2013, 2014, 2015, 2016, 2017, 2018]], dtype=uint16)"
      ]
     },
     "execution_count": 641,
     "metadata": {},
     "output_type": "execute_result"
    }
   ],
   "source": [
    "PM25_dict['SelYears']"
   ]
  },
  {
   "cell_type": "code",
   "execution_count": 642,
   "metadata": {},
   "outputs": [
    {
     "data": {
      "text/plain": [
       "(numpy.ndarray, (69, 333122))"
      ]
     },
     "execution_count": 642,
     "metadata": {},
     "output_type": "execute_result"
    }
   ],
   "source": [
    "type(PM25_dict['DATA']),PM25_dict['DATA'].shape"
   ]
  },
  {
   "cell_type": "code",
   "execution_count": 643,
   "metadata": {},
   "outputs": [],
   "source": [
    "data = PM25_dict['DATA']\n",
    "columns = PM25_dict['StNames']"
   ]
  },
  {
   "cell_type": "code",
   "execution_count": 644,
   "metadata": {},
   "outputs": [],
   "source": [
    "col_list = []\n",
    "for c in columns:\n",
    "    col_list.append(c[0][0])"
   ]
  },
  {
   "cell_type": "code",
   "execution_count": 645,
   "metadata": {},
   "outputs": [],
   "source": [
    "# col_list"
   ]
  },
  {
   "cell_type": "code",
   "execution_count": 646,
   "metadata": {},
   "outputs": [
    {
     "data": {
      "text/plain": [
       "(69,)"
      ]
     },
     "execution_count": 646,
     "metadata": {},
     "output_type": "execute_result"
    }
   ],
   "source": [
    "np.shape(col_list)"
   ]
  },
  {
   "cell_type": "code",
   "execution_count": 647,
   "metadata": {},
   "outputs": [],
   "source": [
    "PM25 = pd.DataFrame(data.T, columns = col_list)"
   ]
  },
  {
   "cell_type": "code",
   "execution_count": 648,
   "metadata": {},
   "outputs": [
    {
     "data": {
      "text/html": [
       "<div>\n",
       "<style scoped>\n",
       "    .dataframe tbody tr th:only-of-type {\n",
       "        vertical-align: middle;\n",
       "    }\n",
       "\n",
       "    .dataframe tbody tr th {\n",
       "        vertical-align: top;\n",
       "    }\n",
       "\n",
       "    .dataframe thead th {\n",
       "        text-align: right;\n",
       "    }\n",
       "</style>\n",
       "<table border=\"1\" class=\"dataframe\">\n",
       "  <thead>\n",
       "    <tr style=\"text-align: right;\">\n",
       "      <th></th>\n",
       "      <th>AFULA</th>\n",
       "      <th>ANTOKOLSKY</th>\n",
       "      <th>AZUR</th>\n",
       "      <th>EHAD_HAAM</th>\n",
       "      <th>HATIKVA</th>\n",
       "      <th>HOLON</th>\n",
       "      <th>IRONID</th>\n",
       "      <th>KVISH4</th>\n",
       "      <th>PETAH_TIKVA_ROAD</th>\n",
       "      <th>RAKEVET_HASHALOM</th>\n",
       "      <th>...</th>\n",
       "      <th>RAANANA</th>\n",
       "      <th>SHFEYA</th>\n",
       "      <th>UM_EL_FAHEM_C</th>\n",
       "      <th>BEIT_RIVKA</th>\n",
       "      <th>BEN_GURION_AIRPORT</th>\n",
       "      <th>BNEI_ATAROT</th>\n",
       "      <th>MODEIN</th>\n",
       "      <th>ASHALIM</th>\n",
       "      <th>GUSH_EZION</th>\n",
       "      <th>NEOT_HAKIKAR</th>\n",
       "    </tr>\n",
       "  </thead>\n",
       "  <tbody>\n",
       "    <tr>\n",
       "      <th>333117</th>\n",
       "      <td>18.9</td>\n",
       "      <td>26.9</td>\n",
       "      <td>NaN</td>\n",
       "      <td>45.0</td>\n",
       "      <td>NaN</td>\n",
       "      <td>28.9</td>\n",
       "      <td>23.1</td>\n",
       "      <td>NaN</td>\n",
       "      <td>NaN</td>\n",
       "      <td>76.3</td>\n",
       "      <td>...</td>\n",
       "      <td>33.4</td>\n",
       "      <td>16.0</td>\n",
       "      <td>NaN</td>\n",
       "      <td>NaN</td>\n",
       "      <td>NaN</td>\n",
       "      <td>NaN</td>\n",
       "      <td>NaN</td>\n",
       "      <td>NaN</td>\n",
       "      <td>NaN</td>\n",
       "      <td>NaN</td>\n",
       "    </tr>\n",
       "    <tr>\n",
       "      <th>333118</th>\n",
       "      <td>26.3</td>\n",
       "      <td>28.5</td>\n",
       "      <td>NaN</td>\n",
       "      <td>39.8</td>\n",
       "      <td>NaN</td>\n",
       "      <td>21.8</td>\n",
       "      <td>28.8</td>\n",
       "      <td>NaN</td>\n",
       "      <td>NaN</td>\n",
       "      <td>74.0</td>\n",
       "      <td>...</td>\n",
       "      <td>18.6</td>\n",
       "      <td>15.0</td>\n",
       "      <td>NaN</td>\n",
       "      <td>NaN</td>\n",
       "      <td>NaN</td>\n",
       "      <td>NaN</td>\n",
       "      <td>NaN</td>\n",
       "      <td>NaN</td>\n",
       "      <td>NaN</td>\n",
       "      <td>NaN</td>\n",
       "    </tr>\n",
       "    <tr>\n",
       "      <th>333119</th>\n",
       "      <td>22.7</td>\n",
       "      <td>29.3</td>\n",
       "      <td>NaN</td>\n",
       "      <td>39.6</td>\n",
       "      <td>NaN</td>\n",
       "      <td>24.1</td>\n",
       "      <td>23.1</td>\n",
       "      <td>NaN</td>\n",
       "      <td>NaN</td>\n",
       "      <td>55.3</td>\n",
       "      <td>...</td>\n",
       "      <td>32.3</td>\n",
       "      <td>15.0</td>\n",
       "      <td>NaN</td>\n",
       "      <td>NaN</td>\n",
       "      <td>NaN</td>\n",
       "      <td>NaN</td>\n",
       "      <td>NaN</td>\n",
       "      <td>NaN</td>\n",
       "      <td>NaN</td>\n",
       "      <td>NaN</td>\n",
       "    </tr>\n",
       "    <tr>\n",
       "      <th>333120</th>\n",
       "      <td>13.3</td>\n",
       "      <td>27.2</td>\n",
       "      <td>NaN</td>\n",
       "      <td>40.4</td>\n",
       "      <td>NaN</td>\n",
       "      <td>45.0</td>\n",
       "      <td>29.5</td>\n",
       "      <td>NaN</td>\n",
       "      <td>NaN</td>\n",
       "      <td>46.0</td>\n",
       "      <td>...</td>\n",
       "      <td>49.8</td>\n",
       "      <td>15.0</td>\n",
       "      <td>NaN</td>\n",
       "      <td>NaN</td>\n",
       "      <td>NaN</td>\n",
       "      <td>NaN</td>\n",
       "      <td>NaN</td>\n",
       "      <td>NaN</td>\n",
       "      <td>NaN</td>\n",
       "      <td>NaN</td>\n",
       "    </tr>\n",
       "    <tr>\n",
       "      <th>333121</th>\n",
       "      <td>NaN</td>\n",
       "      <td>NaN</td>\n",
       "      <td>NaN</td>\n",
       "      <td>NaN</td>\n",
       "      <td>NaN</td>\n",
       "      <td>NaN</td>\n",
       "      <td>NaN</td>\n",
       "      <td>NaN</td>\n",
       "      <td>NaN</td>\n",
       "      <td>NaN</td>\n",
       "      <td>...</td>\n",
       "      <td>NaN</td>\n",
       "      <td>NaN</td>\n",
       "      <td>NaN</td>\n",
       "      <td>NaN</td>\n",
       "      <td>NaN</td>\n",
       "      <td>NaN</td>\n",
       "      <td>NaN</td>\n",
       "      <td>NaN</td>\n",
       "      <td>NaN</td>\n",
       "      <td>NaN</td>\n",
       "    </tr>\n",
       "  </tbody>\n",
       "</table>\n",
       "<p>5 rows × 69 columns</p>\n",
       "</div>"
      ],
      "text/plain": [
       "        AFULA  ANTOKOLSKY  AZUR  EHAD_HAAM  HATIKVA  HOLON  IRONID  KVISH4  \\\n",
       "333117   18.9        26.9   NaN       45.0      NaN   28.9    23.1     NaN   \n",
       "333118   26.3        28.5   NaN       39.8      NaN   21.8    28.8     NaN   \n",
       "333119   22.7        29.3   NaN       39.6      NaN   24.1    23.1     NaN   \n",
       "333120   13.3        27.2   NaN       40.4      NaN   45.0    29.5     NaN   \n",
       "333121    NaN         NaN   NaN        NaN      NaN    NaN     NaN     NaN   \n",
       "\n",
       "        PETAH_TIKVA_ROAD  RAKEVET_HASHALOM  ...  RAANANA  SHFEYA  \\\n",
       "333117               NaN              76.3  ...     33.4    16.0   \n",
       "333118               NaN              74.0  ...     18.6    15.0   \n",
       "333119               NaN              55.3  ...     32.3    15.0   \n",
       "333120               NaN              46.0  ...     49.8    15.0   \n",
       "333121               NaN               NaN  ...      NaN     NaN   \n",
       "\n",
       "        UM_EL_FAHEM_C  BEIT_RIVKA  BEN_GURION_AIRPORT  BNEI_ATAROT  MODEIN  \\\n",
       "333117            NaN         NaN                 NaN          NaN     NaN   \n",
       "333118            NaN         NaN                 NaN          NaN     NaN   \n",
       "333119            NaN         NaN                 NaN          NaN     NaN   \n",
       "333120            NaN         NaN                 NaN          NaN     NaN   \n",
       "333121            NaN         NaN                 NaN          NaN     NaN   \n",
       "\n",
       "        ASHALIM  GUSH_EZION  NEOT_HAKIKAR  \n",
       "333117      NaN         NaN           NaN  \n",
       "333118      NaN         NaN           NaN  \n",
       "333119      NaN         NaN           NaN  \n",
       "333120      NaN         NaN           NaN  \n",
       "333121      NaN         NaN           NaN  \n",
       "\n",
       "[5 rows x 69 columns]"
      ]
     },
     "execution_count": 648,
     "metadata": {},
     "output_type": "execute_result"
    }
   ],
   "source": [
    "PM25.tail()"
   ]
  },
  {
   "cell_type": "code",
   "execution_count": null,
   "metadata": {},
   "outputs": [],
   "source": []
  },
  {
   "cell_type": "markdown",
   "metadata": {},
   "source": [
    "## save dataframe"
   ]
  },
  {
   "cell_type": "code",
   "execution_count": 649,
   "metadata": {},
   "outputs": [],
   "source": [
    "PM25.to_pickle(\"/Users/iditbela/Documents/Broday/saved_data_from_notebooks/PM25\")"
   ]
  },
  {
   "cell_type": "code",
   "execution_count": 650,
   "metadata": {},
   "outputs": [],
   "source": [
    "PM25 = pd.read_pickle(\"/Users/iditbela/Documents/Broday/saved_data_from_notebooks/PM25\")"
   ]
  },
  {
   "cell_type": "markdown",
   "metadata": {},
   "source": []
  },
  {
   "cell_type": "markdown",
   "metadata": {},
   "source": [
    "## plot map of missing data"
   ]
  },
  {
   "cell_type": "code",
   "execution_count": 651,
   "metadata": {},
   "outputs": [
    {
     "data": {
      "text/plain": [
       "(333122, 69)"
      ]
     },
     "execution_count": 651,
     "metadata": {},
     "output_type": "execute_result"
    }
   ],
   "source": [
    "PM25.shape"
   ]
  },
  {
   "cell_type": "code",
   "execution_count": 684,
   "metadata": {},
   "outputs": [
    {
     "name": "stdout",
     "output_type": "stream",
     "text": [
      "year:2000, no_stations:19, avg_percentage:0.15789473684210525\n",
      "year:2001, no_stations:21, avg_percentage:0.19047619047619047\n",
      "year:2002, no_stations:23, avg_percentage:0.21739130434782608\n",
      "year:2003, no_stations:23, avg_percentage:0.17391304347826086\n",
      "year:2004, no_stations:23, avg_percentage:0.17391304347826086\n",
      "year:2005, no_stations:23, avg_percentage:0.17391304347826086\n",
      "year:2006, no_stations:23, avg_percentage:0.17391304347826086\n",
      "year:2007, no_stations:25, avg_percentage:0.2\n",
      "year:2008, no_stations:27, avg_percentage:0.18518518518518517\n",
      "year:2009, no_stations:31, avg_percentage:0.1935483870967742\n",
      "year:2010, no_stations:33, avg_percentage:0.21212121212121213\n",
      "year:2011, no_stations:35, avg_percentage:0.2\n",
      "year:2012, no_stations:35, avg_percentage:0.17142857142857143\n",
      "year:2013, no_stations:35, avg_percentage:0.17142857142857143\n",
      "year:2014, no_stations:40, avg_percentage:0.2\n",
      "year:2015, no_stations:41, avg_percentage:0.1951219512195122\n"
     ]
    }
   ],
   "source": [
    "# see what year I get the highest number of stations \n",
    "# and the lowest missing station data rate in each timestep\n",
    "for year in range(2000,2016):\n",
    "    times = pd.date_range(start=np.str(year)+'-01-01 00:00:00', end='2018-12-31 23:00:00', freq='30Min') #one less because the last is always nan\n",
    "    start_year = PM25.shape[0]-times.shape[0]-1\n",
    "    # reduced PM25 \n",
    "    r_PM25 = PM25[start_year:-1]\n",
    "    idx = r_PM25.notnull().sum(axis = 0)/r_PM25.shape[0]>0.5\n",
    "    r_PM25 = r_PM25.loc[:, idx]\n",
    "    r_PM25.reset_index(inplace=True)\n",
    "    r_PM25.drop(labels = 'index',axis=1, inplace=True)\n",
    "    no_s = np.sum(PM25[start_year:].notnull().sum(axis = 0)/PM25[start_year:].shape[0] > 0.5) \n",
    "    per = np.median(r_PM25.isnull().sum(axis = 1)/r_PM25.shape[1])\n",
    "    print('year:{}, no_stations:{}, avg_percentage:{}'.format(year,no_s,per))"
   ]
  },
  {
   "cell_type": "code",
   "execution_count": 744,
   "metadata": {},
   "outputs": [
    {
     "data": {
      "text/plain": [
       "245474"
      ]
     },
     "execution_count": 744,
     "metadata": {},
     "output_type": "execute_result"
    },
    {
     "data": {
      "text/plain": [
       "14.000894567155576"
      ]
     },
     "execution_count": 744,
     "metadata": {},
     "output_type": "execute_result"
    }
   ],
   "source": [
    "times = pd.date_range(start='2014-01-01 00:00:00', end='2018-12-31 23:00:00', freq='30Min') #one less because the last is always nan\n",
    "start_year = PM25.shape[0]-times.shape[0]-1\n",
    "start_year\n",
    "start_year/PM25.shape[0]*19"
   ]
  },
  {
   "cell_type": "code",
   "execution_count": 745,
   "metadata": {},
   "outputs": [
    {
     "data": {
      "text/plain": [
       "40"
      ]
     },
     "execution_count": 745,
     "metadata": {},
     "output_type": "execute_result"
    }
   ],
   "source": [
    "# percentage of not-null should be more than 50%\n",
    "# how many stations?\n",
    "np.sum(PM25[start_year:].notnull().sum(axis = 0)/PM25[start_year:].shape[0] > 0.5)"
   ]
  },
  {
   "cell_type": "code",
   "execution_count": null,
   "metadata": {},
   "outputs": [],
   "source": []
  },
  {
   "cell_type": "code",
   "execution_count": 746,
   "metadata": {},
   "outputs": [],
   "source": [
    "# according to what I see, if I take starting 2010 (meaning I will have 10-years data if I include 2019), \n",
    "# only stations with not-null values>54% then I will have 33 stations\n",
    "# if I start 2013, I have 35 stations. "
   ]
  },
  {
   "cell_type": "code",
   "execution_count": 747,
   "metadata": {},
   "outputs": [],
   "source": [
    "# percentage of these 33 stations:\n",
    "x = PM25[start_year:].notnull().sum(axis = 0)/PM25[start_year:].shape[0]"
   ]
  },
  {
   "cell_type": "code",
   "execution_count": 748,
   "metadata": {},
   "outputs": [
    {
     "data": {
      "text/plain": [
       "AFULA           0.963353\n",
       "ANTOKOLSKY      0.893905\n",
       "AZUR            0.197677\n",
       "EHAD_HAAM       0.409981\n",
       "HATIKVA         0.185001\n",
       "                  ...   \n",
       "BNEI_ATAROT     0.246349\n",
       "MODEIN          0.462988\n",
       "ASHALIM         0.434659\n",
       "GUSH_EZION      0.365793\n",
       "NEOT_HAKIKAR    0.538347\n",
       "Length: 69, dtype: float64"
      ]
     },
     "execution_count": 748,
     "metadata": {},
     "output_type": "execute_result"
    }
   ],
   "source": [
    "x"
   ]
  },
  {
   "cell_type": "code",
   "execution_count": 749,
   "metadata": {},
   "outputs": [],
   "source": [
    "xs = x.sort_values(ascending=True)"
   ]
  },
  {
   "cell_type": "code",
   "execution_count": 750,
   "metadata": {},
   "outputs": [
    {
     "data": {
      "text/plain": [
       "AGRIPAS               0.000000\n",
       "ASHKELON              0.000000\n",
       "BEN_GURION_AIRPORT    0.000000\n",
       "BEIT_RIVKA            0.000000\n",
       "BARKAI                0.000000\n",
       "                        ...   \n",
       "KIRYAT_TIVON          0.960798\n",
       "KIRYAT_BINYAMIN       0.962600\n",
       "AFULA                 0.963353\n",
       "NAVE_SHANAAN          0.970370\n",
       "AHUZA_G               0.973337\n",
       "Length: 69, dtype: float64"
      ]
     },
     "execution_count": 750,
     "metadata": {},
     "output_type": "execute_result"
    }
   ],
   "source": [
    "xs"
   ]
  },
  {
   "cell_type": "code",
   "execution_count": 751,
   "metadata": {},
   "outputs": [
    {
     "data": {
      "image/png": "[encoded data removed]",
      "text/plain": [
       "<Figure size 1440x1080 with 1 Axes>"
      ]
     },
     "metadata": {
      "image/png": {
       "height": 849,
       "width": 1286
      }
     },
     "output_type": "display_data"
    }
   ],
   "source": [
    "xs.plot(kind='barh',figsize=(20,15),fontsize=13)\n",
    "plt.plot(np.ones((100,))*0.5,np.arange(0,100,1),'r')\n",
    "plt.show();"
   ]
  },
  {
   "cell_type": "code",
   "execution_count": 752,
   "metadata": {},
   "outputs": [],
   "source": [
    "# reduced PM25 \n",
    "r_PM25 = PM25[start_year:-1] # this is probably on purpose until -1, since the last is always nan\n",
    "idx = r_PM25.notnull().sum(axis = 0)/r_PM25.shape[0]>0.5\n",
    "r_PM25 = r_PM25.loc[:, idx]"
   ]
  },
  {
   "cell_type": "code",
   "execution_count": 753,
   "metadata": {},
   "outputs": [],
   "source": [
    "r_PM25.reset_index(inplace=True)\n",
    "r_PM25.drop(labels = 'index',axis=1, inplace=True)"
   ]
  },
  {
   "cell_type": "code",
   "execution_count": null,
   "metadata": {},
   "outputs": [],
   "source": []
  },
  {
   "cell_type": "code",
   "execution_count": 754,
   "metadata": {},
   "outputs": [
    {
     "data": {
      "text/html": [
       "<div>\n",
       "<style scoped>\n",
       "    .dataframe tbody tr th:only-of-type {\n",
       "        vertical-align: middle;\n",
       "    }\n",
       "\n",
       "    .dataframe tbody tr th {\n",
       "        vertical-align: top;\n",
       "    }\n",
       "\n",
       "    .dataframe thead th {\n",
       "        text-align: right;\n",
       "    }\n",
       "</style>\n",
       "<table border=\"1\" class=\"dataframe\">\n",
       "  <thead>\n",
       "    <tr style=\"text-align: right;\">\n",
       "      <th></th>\n",
       "      <th>AFULA</th>\n",
       "      <th>ANTOKOLSKY</th>\n",
       "      <th>HOLON</th>\n",
       "      <th>IRONID</th>\n",
       "      <th>KVISH4</th>\n",
       "      <th>RAKEVET_HASHALOM</th>\n",
       "      <th>REMEZ</th>\n",
       "      <th>RISHON_LEZION</th>\n",
       "      <th>YAD_LEBANIM</th>\n",
       "      <th>YEFET_YAFO</th>\n",
       "      <th>...</th>\n",
       "      <th>SDE_YOAV</th>\n",
       "      <th>YAHALOM</th>\n",
       "      <th>BEER_SHEVA</th>\n",
       "      <th>EAST_NEGEV</th>\n",
       "      <th>KFAR_MASARIK</th>\n",
       "      <th>HEFZIBA</th>\n",
       "      <th>PARDES_HANA</th>\n",
       "      <th>RAANANA</th>\n",
       "      <th>SHFEYA</th>\n",
       "      <th>NEOT_HAKIKAR</th>\n",
       "    </tr>\n",
       "  </thead>\n",
       "  <tbody>\n",
       "    <tr>\n",
       "      <th>87642</th>\n",
       "      <td>19.4</td>\n",
       "      <td>27.3</td>\n",
       "      <td>27.0</td>\n",
       "      <td>29.8</td>\n",
       "      <td>NaN</td>\n",
       "      <td>81.0</td>\n",
       "      <td>26.0</td>\n",
       "      <td>27.0</td>\n",
       "      <td>14.9</td>\n",
       "      <td>28.4</td>\n",
       "      <td>...</td>\n",
       "      <td>5.1</td>\n",
       "      <td>NaN</td>\n",
       "      <td>18.3</td>\n",
       "      <td>8.3</td>\n",
       "      <td>25.9</td>\n",
       "      <td>NaN</td>\n",
       "      <td>32.5</td>\n",
       "      <td>15.8</td>\n",
       "      <td>16.0</td>\n",
       "      <td>NaN</td>\n",
       "    </tr>\n",
       "    <tr>\n",
       "      <th>87643</th>\n",
       "      <td>18.9</td>\n",
       "      <td>26.9</td>\n",
       "      <td>28.9</td>\n",
       "      <td>23.1</td>\n",
       "      <td>NaN</td>\n",
       "      <td>76.3</td>\n",
       "      <td>31.8</td>\n",
       "      <td>21.4</td>\n",
       "      <td>14.8</td>\n",
       "      <td>38.4</td>\n",
       "      <td>...</td>\n",
       "      <td>4.7</td>\n",
       "      <td>NaN</td>\n",
       "      <td>17.3</td>\n",
       "      <td>24.2</td>\n",
       "      <td>21.6</td>\n",
       "      <td>NaN</td>\n",
       "      <td>38.0</td>\n",
       "      <td>33.4</td>\n",
       "      <td>16.0</td>\n",
       "      <td>NaN</td>\n",
       "    </tr>\n",
       "    <tr>\n",
       "      <th>87644</th>\n",
       "      <td>26.3</td>\n",
       "      <td>28.5</td>\n",
       "      <td>21.8</td>\n",
       "      <td>28.8</td>\n",
       "      <td>NaN</td>\n",
       "      <td>74.0</td>\n",
       "      <td>30.5</td>\n",
       "      <td>22.5</td>\n",
       "      <td>16.9</td>\n",
       "      <td>40.8</td>\n",
       "      <td>...</td>\n",
       "      <td>7.0</td>\n",
       "      <td>NaN</td>\n",
       "      <td>19.3</td>\n",
       "      <td>14.9</td>\n",
       "      <td>19.4</td>\n",
       "      <td>NaN</td>\n",
       "      <td>37.6</td>\n",
       "      <td>18.6</td>\n",
       "      <td>15.0</td>\n",
       "      <td>NaN</td>\n",
       "    </tr>\n",
       "    <tr>\n",
       "      <th>87645</th>\n",
       "      <td>22.7</td>\n",
       "      <td>29.3</td>\n",
       "      <td>24.1</td>\n",
       "      <td>23.1</td>\n",
       "      <td>NaN</td>\n",
       "      <td>55.3</td>\n",
       "      <td>31.1</td>\n",
       "      <td>20.4</td>\n",
       "      <td>18.9</td>\n",
       "      <td>43.6</td>\n",
       "      <td>...</td>\n",
       "      <td>14.3</td>\n",
       "      <td>NaN</td>\n",
       "      <td>23.7</td>\n",
       "      <td>13.3</td>\n",
       "      <td>26.8</td>\n",
       "      <td>NaN</td>\n",
       "      <td>33.0</td>\n",
       "      <td>32.3</td>\n",
       "      <td>15.0</td>\n",
       "      <td>NaN</td>\n",
       "    </tr>\n",
       "    <tr>\n",
       "      <th>87646</th>\n",
       "      <td>13.3</td>\n",
       "      <td>27.2</td>\n",
       "      <td>45.0</td>\n",
       "      <td>29.5</td>\n",
       "      <td>NaN</td>\n",
       "      <td>46.0</td>\n",
       "      <td>30.7</td>\n",
       "      <td>28.1</td>\n",
       "      <td>18.2</td>\n",
       "      <td>44.0</td>\n",
       "      <td>...</td>\n",
       "      <td>22.6</td>\n",
       "      <td>NaN</td>\n",
       "      <td>25.4</td>\n",
       "      <td>17.5</td>\n",
       "      <td>21.0</td>\n",
       "      <td>NaN</td>\n",
       "      <td>33.4</td>\n",
       "      <td>49.8</td>\n",
       "      <td>15.0</td>\n",
       "      <td>NaN</td>\n",
       "    </tr>\n",
       "  </tbody>\n",
       "</table>\n",
       "<p>5 rows × 40 columns</p>\n",
       "</div>"
      ],
      "text/plain": [
       "       AFULA  ANTOKOLSKY  HOLON  IRONID  KVISH4  RAKEVET_HASHALOM  REMEZ  \\\n",
       "87642   19.4        27.3   27.0    29.8     NaN              81.0   26.0   \n",
       "87643   18.9        26.9   28.9    23.1     NaN              76.3   31.8   \n",
       "87644   26.3        28.5   21.8    28.8     NaN              74.0   30.5   \n",
       "87645   22.7        29.3   24.1    23.1     NaN              55.3   31.1   \n",
       "87646   13.3        27.2   45.0    29.5     NaN              46.0   30.7   \n",
       "\n",
       "       RISHON_LEZION  YAD_LEBANIM  YEFET_YAFO  ...  SDE_YOAV  YAHALOM  \\\n",
       "87642           27.0         14.9        28.4  ...       5.1      NaN   \n",
       "87643           21.4         14.8        38.4  ...       4.7      NaN   \n",
       "87644           22.5         16.9        40.8  ...       7.0      NaN   \n",
       "87645           20.4         18.9        43.6  ...      14.3      NaN   \n",
       "87646           28.1         18.2        44.0  ...      22.6      NaN   \n",
       "\n",
       "       BEER_SHEVA  EAST_NEGEV  KFAR_MASARIK  HEFZIBA  PARDES_HANA  RAANANA  \\\n",
       "87642        18.3         8.3          25.9      NaN         32.5     15.8   \n",
       "87643        17.3        24.2          21.6      NaN         38.0     33.4   \n",
       "87644        19.3        14.9          19.4      NaN         37.6     18.6   \n",
       "87645        23.7        13.3          26.8      NaN         33.0     32.3   \n",
       "87646        25.4        17.5          21.0      NaN         33.4     49.8   \n",
       "\n",
       "       SHFEYA  NEOT_HAKIKAR  \n",
       "87642    16.0           NaN  \n",
       "87643    16.0           NaN  \n",
       "87644    15.0           NaN  \n",
       "87645    15.0           NaN  \n",
       "87646    15.0           NaN  \n",
       "\n",
       "[5 rows x 40 columns]"
      ]
     },
     "execution_count": 754,
     "metadata": {},
     "output_type": "execute_result"
    }
   ],
   "source": [
    "r_PM25.tail(5)\n",
    "# r_PM25.shape"
   ]
  },
  {
   "cell_type": "code",
   "execution_count": 755,
   "metadata": {},
   "outputs": [
    {
     "name": "stdout",
     "output_type": "stream",
     "text": [
      "<class 'pandas.core.frame.DataFrame'>\n",
      "RangeIndex: 87647 entries, 0 to 87646\n",
      "Data columns (total 40 columns):\n",
      "AFULA               84436 non-null float64\n",
      "ANTOKOLSKY          78349 non-null float64\n",
      "HOLON               82233 non-null float64\n",
      "IRONID              82825 non-null float64\n",
      "KVISH4              65299 non-null float64\n",
      "RAKEVET_HASHALOM    46500 non-null float64\n",
      "REMEZ               76984 non-null float64\n",
      "RISHON_LEZION       50147 non-null float64\n",
      "YAD_LEBANIM         49484 non-null float64\n",
      "YEFET_YAFO          72878 non-null float64\n",
      "AHUZA_G             85311 non-null float64\n",
      "ATZMAUT_B           81711 non-null float64\n",
      "KIRYAT_ATA          66124 non-null float64\n",
      "KIRYAT_BIALIK       56874 non-null float64\n",
      "KIRYAT_BINYAMIN     84370 non-null float64\n",
      "KIRYAT_TIVON        84212 non-null float64\n",
      "NAVE_SHANAAN        85051 non-null float64\n",
      "NESHER              72405 non-null float64\n",
      "BAR_ILAN            64398 non-null float64\n",
      "EFRATA              83098 non-null float64\n",
      "ASHDOD_IGUD         81304 non-null float64\n",
      "ASHKELON_SOUTH      78630 non-null float64\n",
      "DALYA               55907 non-null float64\n",
      "GEDERA              78667 non-null float64\n",
      "GVARAAM             77810 non-null float64\n",
      "KIRYAT_MALAHI       75405 non-null float64\n",
      "NIR_ISRAEL          79852 non-null float64\n",
      "ORT                 64436 non-null float64\n",
      "ROVA_TV             55345 non-null float64\n",
      "SDEROT              81790 non-null float64\n",
      "SDE_YOAV            83873 non-null float64\n",
      "YAHALOM             61908 non-null float64\n",
      "BEER_SHEVA          74327 non-null float64\n",
      "EAST_NEGEV          76441 non-null float64\n",
      "KFAR_MASARIK        64498 non-null float64\n",
      "HEFZIBA             49763 non-null float64\n",
      "PARDES_HANA         62874 non-null float64\n",
      "RAANANA             77802 non-null float64\n",
      "SHFEYA              50030 non-null float64\n",
      "NEOT_HAKIKAR        47185 non-null float64\n",
      "dtypes: float64(40)\n",
      "memory usage: 26.7 MB\n"
     ]
    }
   ],
   "source": [
    "r_PM25.info()"
   ]
  },
  {
   "cell_type": "code",
   "execution_count": 756,
   "metadata": {},
   "outputs": [],
   "source": [
    "# change r_PM25 to binary data"
   ]
  },
  {
   "cell_type": "code",
   "execution_count": 757,
   "metadata": {},
   "outputs": [],
   "source": [
    "r_PM25[r_PM25.notnull()] = 1\n",
    "r_PM25[r_PM25.isnull()] = 0"
   ]
  },
  {
   "cell_type": "code",
   "execution_count": 758,
   "metadata": {},
   "outputs": [
    {
     "data": {
      "text/html": [
       "<div>\n",
       "<style scoped>\n",
       "    .dataframe tbody tr th:only-of-type {\n",
       "        vertical-align: middle;\n",
       "    }\n",
       "\n",
       "    .dataframe tbody tr th {\n",
       "        vertical-align: top;\n",
       "    }\n",
       "\n",
       "    .dataframe thead th {\n",
       "        text-align: right;\n",
       "    }\n",
       "</style>\n",
       "<table border=\"1\" class=\"dataframe\">\n",
       "  <thead>\n",
       "    <tr style=\"text-align: right;\">\n",
       "      <th></th>\n",
       "      <th>AFULA</th>\n",
       "      <th>ANTOKOLSKY</th>\n",
       "      <th>HOLON</th>\n",
       "      <th>IRONID</th>\n",
       "      <th>KVISH4</th>\n",
       "      <th>RAKEVET_HASHALOM</th>\n",
       "      <th>REMEZ</th>\n",
       "      <th>RISHON_LEZION</th>\n",
       "      <th>YAD_LEBANIM</th>\n",
       "      <th>YEFET_YAFO</th>\n",
       "      <th>...</th>\n",
       "      <th>SDE_YOAV</th>\n",
       "      <th>YAHALOM</th>\n",
       "      <th>BEER_SHEVA</th>\n",
       "      <th>EAST_NEGEV</th>\n",
       "      <th>KFAR_MASARIK</th>\n",
       "      <th>HEFZIBA</th>\n",
       "      <th>PARDES_HANA</th>\n",
       "      <th>RAANANA</th>\n",
       "      <th>SHFEYA</th>\n",
       "      <th>NEOT_HAKIKAR</th>\n",
       "    </tr>\n",
       "  </thead>\n",
       "  <tbody>\n",
       "    <tr>\n",
       "      <th>87642</th>\n",
       "      <td>1.0</td>\n",
       "      <td>1.0</td>\n",
       "      <td>1.0</td>\n",
       "      <td>1.0</td>\n",
       "      <td>0.0</td>\n",
       "      <td>1.0</td>\n",
       "      <td>1.0</td>\n",
       "      <td>1.0</td>\n",
       "      <td>1.0</td>\n",
       "      <td>1.0</td>\n",
       "      <td>...</td>\n",
       "      <td>1.0</td>\n",
       "      <td>0.0</td>\n",
       "      <td>1.0</td>\n",
       "      <td>1.0</td>\n",
       "      <td>1.0</td>\n",
       "      <td>0.0</td>\n",
       "      <td>1.0</td>\n",
       "      <td>1.0</td>\n",
       "      <td>1.0</td>\n",
       "      <td>0.0</td>\n",
       "    </tr>\n",
       "    <tr>\n",
       "      <th>87643</th>\n",
       "      <td>1.0</td>\n",
       "      <td>1.0</td>\n",
       "      <td>1.0</td>\n",
       "      <td>1.0</td>\n",
       "      <td>0.0</td>\n",
       "      <td>1.0</td>\n",
       "      <td>1.0</td>\n",
       "      <td>1.0</td>\n",
       "      <td>1.0</td>\n",
       "      <td>1.0</td>\n",
       "      <td>...</td>\n",
       "      <td>1.0</td>\n",
       "      <td>0.0</td>\n",
       "      <td>1.0</td>\n",
       "      <td>1.0</td>\n",
       "      <td>1.0</td>\n",
       "      <td>0.0</td>\n",
       "      <td>1.0</td>\n",
       "      <td>1.0</td>\n",
       "      <td>1.0</td>\n",
       "      <td>0.0</td>\n",
       "    </tr>\n",
       "    <tr>\n",
       "      <th>87644</th>\n",
       "      <td>1.0</td>\n",
       "      <td>1.0</td>\n",
       "      <td>1.0</td>\n",
       "      <td>1.0</td>\n",
       "      <td>0.0</td>\n",
       "      <td>1.0</td>\n",
       "      <td>1.0</td>\n",
       "      <td>1.0</td>\n",
       "      <td>1.0</td>\n",
       "      <td>1.0</td>\n",
       "      <td>...</td>\n",
       "      <td>1.0</td>\n",
       "      <td>0.0</td>\n",
       "      <td>1.0</td>\n",
       "      <td>1.0</td>\n",
       "      <td>1.0</td>\n",
       "      <td>0.0</td>\n",
       "      <td>1.0</td>\n",
       "      <td>1.0</td>\n",
       "      <td>1.0</td>\n",
       "      <td>0.0</td>\n",
       "    </tr>\n",
       "    <tr>\n",
       "      <th>87645</th>\n",
       "      <td>1.0</td>\n",
       "      <td>1.0</td>\n",
       "      <td>1.0</td>\n",
       "      <td>1.0</td>\n",
       "      <td>0.0</td>\n",
       "      <td>1.0</td>\n",
       "      <td>1.0</td>\n",
       "      <td>1.0</td>\n",
       "      <td>1.0</td>\n",
       "      <td>1.0</td>\n",
       "      <td>...</td>\n",
       "      <td>1.0</td>\n",
       "      <td>0.0</td>\n",
       "      <td>1.0</td>\n",
       "      <td>1.0</td>\n",
       "      <td>1.0</td>\n",
       "      <td>0.0</td>\n",
       "      <td>1.0</td>\n",
       "      <td>1.0</td>\n",
       "      <td>1.0</td>\n",
       "      <td>0.0</td>\n",
       "    </tr>\n",
       "    <tr>\n",
       "      <th>87646</th>\n",
       "      <td>1.0</td>\n",
       "      <td>1.0</td>\n",
       "      <td>1.0</td>\n",
       "      <td>1.0</td>\n",
       "      <td>0.0</td>\n",
       "      <td>1.0</td>\n",
       "      <td>1.0</td>\n",
       "      <td>1.0</td>\n",
       "      <td>1.0</td>\n",
       "      <td>1.0</td>\n",
       "      <td>...</td>\n",
       "      <td>1.0</td>\n",
       "      <td>0.0</td>\n",
       "      <td>1.0</td>\n",
       "      <td>1.0</td>\n",
       "      <td>1.0</td>\n",
       "      <td>0.0</td>\n",
       "      <td>1.0</td>\n",
       "      <td>1.0</td>\n",
       "      <td>1.0</td>\n",
       "      <td>0.0</td>\n",
       "    </tr>\n",
       "  </tbody>\n",
       "</table>\n",
       "<p>5 rows × 40 columns</p>\n",
       "</div>"
      ],
      "text/plain": [
       "       AFULA  ANTOKOLSKY  HOLON  IRONID  KVISH4  RAKEVET_HASHALOM  REMEZ  \\\n",
       "87642    1.0         1.0    1.0     1.0     0.0               1.0    1.0   \n",
       "87643    1.0         1.0    1.0     1.0     0.0               1.0    1.0   \n",
       "87644    1.0         1.0    1.0     1.0     0.0               1.0    1.0   \n",
       "87645    1.0         1.0    1.0     1.0     0.0               1.0    1.0   \n",
       "87646    1.0         1.0    1.0     1.0     0.0               1.0    1.0   \n",
       "\n",
       "       RISHON_LEZION  YAD_LEBANIM  YEFET_YAFO  ...  SDE_YOAV  YAHALOM  \\\n",
       "87642            1.0          1.0         1.0  ...       1.0      0.0   \n",
       "87643            1.0          1.0         1.0  ...       1.0      0.0   \n",
       "87644            1.0          1.0         1.0  ...       1.0      0.0   \n",
       "87645            1.0          1.0         1.0  ...       1.0      0.0   \n",
       "87646            1.0          1.0         1.0  ...       1.0      0.0   \n",
       "\n",
       "       BEER_SHEVA  EAST_NEGEV  KFAR_MASARIK  HEFZIBA  PARDES_HANA  RAANANA  \\\n",
       "87642         1.0         1.0           1.0      0.0          1.0      1.0   \n",
       "87643         1.0         1.0           1.0      0.0          1.0      1.0   \n",
       "87644         1.0         1.0           1.0      0.0          1.0      1.0   \n",
       "87645         1.0         1.0           1.0      0.0          1.0      1.0   \n",
       "87646         1.0         1.0           1.0      0.0          1.0      1.0   \n",
       "\n",
       "       SHFEYA  NEOT_HAKIKAR  \n",
       "87642     1.0           0.0  \n",
       "87643     1.0           0.0  \n",
       "87644     1.0           0.0  \n",
       "87645     1.0           0.0  \n",
       "87646     1.0           0.0  \n",
       "\n",
       "[5 rows x 40 columns]"
      ]
     },
     "execution_count": 758,
     "metadata": {},
     "output_type": "execute_result"
    }
   ],
   "source": [
    "r_PM25.tail()"
   ]
  },
  {
   "cell_type": "code",
   "execution_count": 759,
   "metadata": {},
   "outputs": [],
   "source": [
    "diffs = r_PM25.diff(axis = 0)"
   ]
  },
  {
   "cell_type": "code",
   "execution_count": 760,
   "metadata": {},
   "outputs": [],
   "source": [
    "# diffs.iloc[0:50,0]"
   ]
  },
  {
   "cell_type": "code",
   "execution_count": 761,
   "metadata": {},
   "outputs": [
    {
     "data": {
      "text/html": [
       "<div>\n",
       "<style scoped>\n",
       "    .dataframe tbody tr th:only-of-type {\n",
       "        vertical-align: middle;\n",
       "    }\n",
       "\n",
       "    .dataframe tbody tr th {\n",
       "        vertical-align: top;\n",
       "    }\n",
       "\n",
       "    .dataframe thead th {\n",
       "        text-align: right;\n",
       "    }\n",
       "</style>\n",
       "<table border=\"1\" class=\"dataframe\">\n",
       "  <thead>\n",
       "    <tr style=\"text-align: right;\">\n",
       "      <th></th>\n",
       "      <th>AFULA</th>\n",
       "      <th>ANTOKOLSKY</th>\n",
       "      <th>HOLON</th>\n",
       "      <th>IRONID</th>\n",
       "      <th>KVISH4</th>\n",
       "      <th>RAKEVET_HASHALOM</th>\n",
       "      <th>REMEZ</th>\n",
       "      <th>RISHON_LEZION</th>\n",
       "      <th>YAD_LEBANIM</th>\n",
       "      <th>YEFET_YAFO</th>\n",
       "      <th>...</th>\n",
       "      <th>SDE_YOAV</th>\n",
       "      <th>YAHALOM</th>\n",
       "      <th>BEER_SHEVA</th>\n",
       "      <th>EAST_NEGEV</th>\n",
       "      <th>KFAR_MASARIK</th>\n",
       "      <th>HEFZIBA</th>\n",
       "      <th>PARDES_HANA</th>\n",
       "      <th>RAANANA</th>\n",
       "      <th>SHFEYA</th>\n",
       "      <th>NEOT_HAKIKAR</th>\n",
       "    </tr>\n",
       "  </thead>\n",
       "  <tbody>\n",
       "    <tr>\n",
       "      <th>87642</th>\n",
       "      <td>0.0</td>\n",
       "      <td>0.0</td>\n",
       "      <td>0.0</td>\n",
       "      <td>0.0</td>\n",
       "      <td>0.0</td>\n",
       "      <td>0.0</td>\n",
       "      <td>0.0</td>\n",
       "      <td>0.0</td>\n",
       "      <td>0.0</td>\n",
       "      <td>0.0</td>\n",
       "      <td>...</td>\n",
       "      <td>0.0</td>\n",
       "      <td>0.0</td>\n",
       "      <td>0.0</td>\n",
       "      <td>0.0</td>\n",
       "      <td>0.0</td>\n",
       "      <td>0.0</td>\n",
       "      <td>0.0</td>\n",
       "      <td>0.0</td>\n",
       "      <td>0.0</td>\n",
       "      <td>0.0</td>\n",
       "    </tr>\n",
       "    <tr>\n",
       "      <th>87643</th>\n",
       "      <td>0.0</td>\n",
       "      <td>0.0</td>\n",
       "      <td>0.0</td>\n",
       "      <td>0.0</td>\n",
       "      <td>0.0</td>\n",
       "      <td>0.0</td>\n",
       "      <td>0.0</td>\n",
       "      <td>0.0</td>\n",
       "      <td>0.0</td>\n",
       "      <td>0.0</td>\n",
       "      <td>...</td>\n",
       "      <td>0.0</td>\n",
       "      <td>0.0</td>\n",
       "      <td>0.0</td>\n",
       "      <td>0.0</td>\n",
       "      <td>0.0</td>\n",
       "      <td>0.0</td>\n",
       "      <td>0.0</td>\n",
       "      <td>0.0</td>\n",
       "      <td>0.0</td>\n",
       "      <td>0.0</td>\n",
       "    </tr>\n",
       "    <tr>\n",
       "      <th>87644</th>\n",
       "      <td>0.0</td>\n",
       "      <td>0.0</td>\n",
       "      <td>0.0</td>\n",
       "      <td>0.0</td>\n",
       "      <td>0.0</td>\n",
       "      <td>0.0</td>\n",
       "      <td>0.0</td>\n",
       "      <td>0.0</td>\n",
       "      <td>0.0</td>\n",
       "      <td>0.0</td>\n",
       "      <td>...</td>\n",
       "      <td>0.0</td>\n",
       "      <td>0.0</td>\n",
       "      <td>0.0</td>\n",
       "      <td>0.0</td>\n",
       "      <td>0.0</td>\n",
       "      <td>0.0</td>\n",
       "      <td>0.0</td>\n",
       "      <td>0.0</td>\n",
       "      <td>0.0</td>\n",
       "      <td>0.0</td>\n",
       "    </tr>\n",
       "    <tr>\n",
       "      <th>87645</th>\n",
       "      <td>0.0</td>\n",
       "      <td>0.0</td>\n",
       "      <td>0.0</td>\n",
       "      <td>0.0</td>\n",
       "      <td>0.0</td>\n",
       "      <td>0.0</td>\n",
       "      <td>0.0</td>\n",
       "      <td>0.0</td>\n",
       "      <td>0.0</td>\n",
       "      <td>0.0</td>\n",
       "      <td>...</td>\n",
       "      <td>0.0</td>\n",
       "      <td>0.0</td>\n",
       "      <td>0.0</td>\n",
       "      <td>0.0</td>\n",
       "      <td>0.0</td>\n",
       "      <td>0.0</td>\n",
       "      <td>0.0</td>\n",
       "      <td>0.0</td>\n",
       "      <td>0.0</td>\n",
       "      <td>0.0</td>\n",
       "    </tr>\n",
       "    <tr>\n",
       "      <th>87646</th>\n",
       "      <td>0.0</td>\n",
       "      <td>0.0</td>\n",
       "      <td>0.0</td>\n",
       "      <td>0.0</td>\n",
       "      <td>0.0</td>\n",
       "      <td>0.0</td>\n",
       "      <td>0.0</td>\n",
       "      <td>0.0</td>\n",
       "      <td>0.0</td>\n",
       "      <td>0.0</td>\n",
       "      <td>...</td>\n",
       "      <td>0.0</td>\n",
       "      <td>0.0</td>\n",
       "      <td>0.0</td>\n",
       "      <td>0.0</td>\n",
       "      <td>0.0</td>\n",
       "      <td>0.0</td>\n",
       "      <td>0.0</td>\n",
       "      <td>0.0</td>\n",
       "      <td>0.0</td>\n",
       "      <td>0.0</td>\n",
       "    </tr>\n",
       "  </tbody>\n",
       "</table>\n",
       "<p>5 rows × 40 columns</p>\n",
       "</div>"
      ],
      "text/plain": [
       "       AFULA  ANTOKOLSKY  HOLON  IRONID  KVISH4  RAKEVET_HASHALOM  REMEZ  \\\n",
       "87642    0.0         0.0    0.0     0.0     0.0               0.0    0.0   \n",
       "87643    0.0         0.0    0.0     0.0     0.0               0.0    0.0   \n",
       "87644    0.0         0.0    0.0     0.0     0.0               0.0    0.0   \n",
       "87645    0.0         0.0    0.0     0.0     0.0               0.0    0.0   \n",
       "87646    0.0         0.0    0.0     0.0     0.0               0.0    0.0   \n",
       "\n",
       "       RISHON_LEZION  YAD_LEBANIM  YEFET_YAFO  ...  SDE_YOAV  YAHALOM  \\\n",
       "87642            0.0          0.0         0.0  ...       0.0      0.0   \n",
       "87643            0.0          0.0         0.0  ...       0.0      0.0   \n",
       "87644            0.0          0.0         0.0  ...       0.0      0.0   \n",
       "87645            0.0          0.0         0.0  ...       0.0      0.0   \n",
       "87646            0.0          0.0         0.0  ...       0.0      0.0   \n",
       "\n",
       "       BEER_SHEVA  EAST_NEGEV  KFAR_MASARIK  HEFZIBA  PARDES_HANA  RAANANA  \\\n",
       "87642         0.0         0.0           0.0      0.0          0.0      0.0   \n",
       "87643         0.0         0.0           0.0      0.0          0.0      0.0   \n",
       "87644         0.0         0.0           0.0      0.0          0.0      0.0   \n",
       "87645         0.0         0.0           0.0      0.0          0.0      0.0   \n",
       "87646         0.0         0.0           0.0      0.0          0.0      0.0   \n",
       "\n",
       "       SHFEYA  NEOT_HAKIKAR  \n",
       "87642     0.0           0.0  \n",
       "87643     0.0           0.0  \n",
       "87644     0.0           0.0  \n",
       "87645     0.0           0.0  \n",
       "87646     0.0           0.0  \n",
       "\n",
       "[5 rows x 40 columns]"
      ]
     },
     "execution_count": 761,
     "metadata": {},
     "output_type": "execute_result"
    }
   ],
   "source": [
    "diffs.tail()"
   ]
  },
  {
   "cell_type": "code",
   "execution_count": 762,
   "metadata": {},
   "outputs": [],
   "source": [
    "# Only label every 20th value\n",
    "ticks_to_use = np.arange(0,r_PM25.shape[0]-365*24,366*48)\n",
    "\n",
    "# Set format of labels (note year not excluded as requested)\n",
    "labels = [times[i].strftime(\"%Y\") for i in ticks_to_use]"
   ]
  },
  {
   "cell_type": "code",
   "execution_count": 763,
   "metadata": {},
   "outputs": [
    {
     "data": {
      "text/plain": [
       "array([    0, 17568, 35136, 52704, 70272])"
      ]
     },
     "execution_count": 763,
     "metadata": {},
     "output_type": "execute_result"
    },
    {
     "data": {
      "text/plain": [
       "['2014', '2015', '2016', '2017', '2018']"
      ]
     },
     "execution_count": 763,
     "metadata": {},
     "output_type": "execute_result"
    },
    {
     "data": {
      "text/plain": [
       "(87647, 40)"
      ]
     },
     "execution_count": 763,
     "metadata": {},
     "output_type": "execute_result"
    }
   ],
   "source": [
    "ticks_to_use\n",
    "labels\n",
    "r_PM25.shape"
   ]
  },
  {
   "cell_type": "code",
   "execution_count": null,
   "metadata": {},
   "outputs": [],
   "source": []
  },
  {
   "cell_type": "code",
   "execution_count": 764,
   "metadata": {},
   "outputs": [
    {
     "data": {
      "image/png": "[encoded data removed]",
      "text/plain": [
       "<Figure size 1008x720 with 1 Axes>"
      ]
     },
     "metadata": {
      "image/png": {
       "height": 574,
       "width": 910
      }
     },
     "output_type": "display_data"
    }
   ],
   "source": [
    "# first row should be manually filled (or ignored)\n",
    "# -1 is the start of the interval\n",
    "# 1 is the first where there is no nan (so I need the 1 index before)\n",
    "\n",
    "missing_interval_lengths = []\n",
    "fig, ax = plt.subplots(figsize=(14,10))\n",
    "for monitor in range(r_PM25.shape[1]):\n",
    "    \n",
    "    #begining\n",
    "    if r_PM25.iloc[0,monitor]==0:\n",
    "        diffs.iloc[0,monitor]=-1\n",
    "    \n",
    "    #end\n",
    "    if r_PM25.iloc[-1,monitor]==0:\n",
    "        diffs.iloc[-1,monitor]=1\n",
    "\n",
    "    row_start = np.where(diffs.iloc[:,monitor] == -1)[0]\n",
    "    # col_start = np.where(diffs == 1)[1]-1\n",
    "\n",
    "    row_end = np.where(diffs.iloc[:,monitor] == 1)[0]-1\n",
    "    # col_end = np.where(diffs == -1)[1]\n",
    "\n",
    "    xranges = list(list(zip(row_start,row_end-row_start)))\n",
    "    missing_interval_lengths.extend(row_end-row_start)\n",
    "    yrange = (monitor,1)\n",
    "    plt.broken_barh(xranges, yrange, facecolors='r');\n",
    "\n",
    "\n",
    "for t in ticks_to_use:\n",
    "    plt.plot(np.ones((100,))*t,np.arange(0,r_PM25.shape[1]+0.5,(r_PM25.shape[1]+0.5)/100),'k')\n",
    "    \n",
    "plt.xlim((0, r_PM25.shape[0])) \n",
    "plt.ylim((0, r_PM25.shape[1]))\n",
    "plt.yticks(ticks=np.arange(0,r_PM25.shape[1])+0.5,labels=r_PM25.columns)\n",
    "\n",
    "# Now set the ticks and labels\n",
    "ax.set_xticks(ticks_to_use)\n",
    "ax.set_xticklabels(labels)\n",
    "plt.show();"
   ]
  },
  {
   "cell_type": "markdown",
   "metadata": {},
   "source": [
    "# What is the distribution of missing station data in each time step?"
   ]
  },
  {
   "cell_type": "code",
   "execution_count": null,
   "metadata": {},
   "outputs": [],
   "source": []
  },
  {
   "cell_type": "code",
   "execution_count": 765,
   "metadata": {},
   "outputs": [],
   "source": [
    "# reduced PM25 \n",
    "r_PM25 = PM25[start_year:-1]\n",
    "idx = r_PM25.notnull().sum(axis = 0)/r_PM25.shape[0]>0.5\n",
    "r_PM25 = r_PM25.loc[:, idx]"
   ]
  },
  {
   "cell_type": "code",
   "execution_count": 766,
   "metadata": {},
   "outputs": [],
   "source": [
    "r_PM25.reset_index(inplace=True)\n",
    "r_PM25.drop(labels = 'index',axis=1, inplace=True)"
   ]
  },
  {
   "cell_type": "code",
   "execution_count": 767,
   "metadata": {},
   "outputs": [
    {
     "data": {
      "text/plain": [
       "0        0.250\n",
       "1        0.275\n",
       "2        0.250\n",
       "3        0.250\n",
       "4        0.250\n",
       "         ...  \n",
       "87642    0.200\n",
       "87643    0.200\n",
       "87644    0.200\n",
       "87645    0.200\n",
       "87646    0.200\n",
       "Length: 87647, dtype: float64"
      ]
     },
     "execution_count": 767,
     "metadata": {},
     "output_type": "execute_result"
    }
   ],
   "source": [
    "r_PM25.isnull().sum(axis = 1)/r_PM25.shape[1]"
   ]
  },
  {
   "cell_type": "code",
   "execution_count": 768,
   "metadata": {},
   "outputs": [
    {
     "data": {
      "image/png": "[encoded data removed]",
      "text/plain": [
       "<Figure size 432x288 with 1 Axes>"
      ]
     },
     "metadata": {
      "image/png": {
       "height": 248,
       "width": 388
      }
     },
     "output_type": "display_data"
    }
   ],
   "source": [
    "plt.hist(r_PM25.isnull().sum(axis = 1)/r_PM25.shape[1],\n",
    "         color = 'blue', edgecolor = 'black',bins=60);"
   ]
  },
  {
   "cell_type": "code",
   "execution_count": 769,
   "metadata": {},
   "outputs": [
    {
     "data": {
      "text/plain": [
       "0.19263180713544106"
      ]
     },
     "execution_count": 769,
     "metadata": {},
     "output_type": "execute_result"
    }
   ],
   "source": [
    "np.mean(r_PM25.isnull().sum(axis = 1)/r_PM25.shape[1])"
   ]
  },
  {
   "cell_type": "code",
   "execution_count": 770,
   "metadata": {},
   "outputs": [
    {
     "data": {
      "text/plain": [
       "0.2"
      ]
     },
     "execution_count": 770,
     "metadata": {},
     "output_type": "execute_result"
    }
   ],
   "source": [
    "np.median(r_PM25.isnull().sum(axis = 1)/r_PM25.shape[1])"
   ]
  },
  {
   "cell_type": "markdown",
   "metadata": {},
   "source": [
    "--> on average, 0.17 of the stations are missing in each time point. "
   ]
  },
  {
   "cell_type": "code",
   "execution_count": null,
   "metadata": {},
   "outputs": [],
   "source": []
  },
  {
   "cell_type": "markdown",
   "metadata": {},
   "source": [
    "## plot distribution of missing data interval lengths"
   ]
  },
  {
   "cell_type": "code",
   "execution_count": 771,
   "metadata": {},
   "outputs": [],
   "source": [
    "# how long are the intervals of missing data?"
   ]
  },
  {
   "cell_type": "code",
   "execution_count": 772,
   "metadata": {},
   "outputs": [
    {
     "data": {
      "text/plain": [
       "824.5833333333334"
      ]
     },
     "execution_count": 772,
     "metadata": {},
     "output_type": "execute_result"
    },
    {
     "data": {
      "text/plain": [
       "0.5"
      ]
     },
     "execution_count": 772,
     "metadata": {},
     "output_type": "execute_result"
    }
   ],
   "source": [
    "data = [i*30/60 for i in missing_interval_lengths if i>0]#in hours\n",
    "_, bins = np.histogram(np.log10(data), bins='auto')\n",
    "np.max(data)/24 #in days\n",
    "np.min(data) #in hours\n"
   ]
  },
  {
   "cell_type": "code",
   "execution_count": 773,
   "metadata": {},
   "outputs": [
    {
     "data": {
      "image/png": "[encoded data removed]",
      "text/plain": [
       "<Figure size 432x288 with 1 Axes>"
      ]
     },
     "metadata": {
      "image/png": {
       "height": 278,
       "width": 391
      }
     },
     "output_type": "display_data"
    }
   ],
   "source": [
    "# bins are unequal in width in a way that would make them look equal on a logarithmic scale.\n",
    "# matplotlib histogram\n",
    "plt.hist(data, color = 'blue', edgecolor = 'black',bins=10**bins)\n",
    "plt.gca().set_xscale(\"log\")\n",
    "\n",
    "plt.title('Length of missing data intervals')\n",
    "plt.xlabel('Interval length [hours]')\n",
    "plt.ylabel('Percentage [%]')\n",
    "plt.yticks(ticks=np.arange(0,9000,1000),labels=np.round(100*np.arange(0,9000,1000)/len(data),1))\n",
    "\n",
    "# plt.ylim(0,2000)\n",
    "plt.show();"
   ]
  },
  {
   "cell_type": "markdown",
   "metadata": {},
   "source": [
    "we can see that the majority of missing intervals are between half an hour to 2-3 hours."
   ]
  },
  {
   "cell_type": "markdown",
   "metadata": {},
   "source": [
    "# Look at the data!"
   ]
  },
  {
   "cell_type": "markdown",
   "metadata": {},
   "source": [
    "### hourly, weekly and monthly averages\n",
    "12 * 7 * 24"
   ]
  },
  {
   "cell_type": "code",
   "execution_count": 774,
   "metadata": {},
   "outputs": [
    {
     "data": {
      "text/plain": [
       "2016"
      ]
     },
     "execution_count": 774,
     "metadata": {},
     "output_type": "execute_result"
    }
   ],
   "source": [
    "12 * 7 * 24"
   ]
  },
  {
   "cell_type": "code",
   "execution_count": 775,
   "metadata": {},
   "outputs": [
    {
     "data": {
      "text/plain": [
       "(87647,)"
      ]
     },
     "execution_count": 775,
     "metadata": {},
     "output_type": "execute_result"
    },
    {
     "data": {
      "text/plain": [
       "(87647, 40)"
      ]
     },
     "execution_count": 775,
     "metadata": {},
     "output_type": "execute_result"
    }
   ],
   "source": [
    "times.shape\n",
    "r_PM25.shape"
   ]
  },
  {
   "cell_type": "code",
   "execution_count": 776,
   "metadata": {},
   "outputs": [
    {
     "data": {
      "text/plain": [
       "DatetimeIndex(['2014-01-01 00:00:00', '2014-01-01 00:30:00',\n",
       "               '2014-01-01 01:00:00', '2014-01-01 01:30:00',\n",
       "               '2014-01-01 02:00:00', '2014-01-01 02:30:00',\n",
       "               '2014-01-01 03:00:00', '2014-01-01 03:30:00',\n",
       "               '2014-01-01 04:00:00', '2014-01-01 04:30:00',\n",
       "               ...\n",
       "               '2018-12-31 18:30:00', '2018-12-31 19:00:00',\n",
       "               '2018-12-31 19:30:00', '2018-12-31 20:00:00',\n",
       "               '2018-12-31 20:30:00', '2018-12-31 21:00:00',\n",
       "               '2018-12-31 21:30:00', '2018-12-31 22:00:00',\n",
       "               '2018-12-31 22:30:00', '2018-12-31 23:00:00'],\n",
       "              dtype='datetime64[ns]', length=87647, freq='30T')"
      ]
     },
     "execution_count": 776,
     "metadata": {},
     "output_type": "execute_result"
    }
   ],
   "source": [
    "times"
   ]
  },
  {
   "cell_type": "code",
   "execution_count": 841,
   "metadata": {},
   "outputs": [],
   "source": [
    "r_PM25['datetime'] = pd.to_datetime(times)\n",
    "# r_PM25['week day'] = pd.to_datetime(times).weekday_name\n",
    "# r_PM25['month'] = pd.to_datetime(times).month\n",
    "# r_PM25['hour'] = pd.to_datetime(times).hour\n",
    "# r_PM25.drop(['week day','month','hour'],axis=1,inplace=True)"
   ]
  },
  {
   "cell_type": "code",
   "execution_count": 842,
   "metadata": {},
   "outputs": [
    {
     "data": {
      "text/html": [
       "<div>\n",
       "<style scoped>\n",
       "    .dataframe tbody tr th:only-of-type {\n",
       "        vertical-align: middle;\n",
       "    }\n",
       "\n",
       "    .dataframe tbody tr th {\n",
       "        vertical-align: top;\n",
       "    }\n",
       "\n",
       "    .dataframe thead th {\n",
       "        text-align: right;\n",
       "    }\n",
       "</style>\n",
       "<table border=\"1\" class=\"dataframe\">\n",
       "  <thead>\n",
       "    <tr style=\"text-align: right;\">\n",
       "      <th></th>\n",
       "      <th>AFULA</th>\n",
       "      <th>ANTOKOLSKY</th>\n",
       "      <th>HOLON</th>\n",
       "      <th>IRONID</th>\n",
       "      <th>KVISH4</th>\n",
       "      <th>RAKEVET_HASHALOM</th>\n",
       "      <th>REMEZ</th>\n",
       "      <th>RISHON_LEZION</th>\n",
       "      <th>YAD_LEBANIM</th>\n",
       "      <th>YEFET_YAFO</th>\n",
       "      <th>...</th>\n",
       "      <th>YAHALOM</th>\n",
       "      <th>BEER_SHEVA</th>\n",
       "      <th>EAST_NEGEV</th>\n",
       "      <th>KFAR_MASARIK</th>\n",
       "      <th>HEFZIBA</th>\n",
       "      <th>PARDES_HANA</th>\n",
       "      <th>RAANANA</th>\n",
       "      <th>SHFEYA</th>\n",
       "      <th>NEOT_HAKIKAR</th>\n",
       "      <th>datetime</th>\n",
       "    </tr>\n",
       "  </thead>\n",
       "  <tbody>\n",
       "    <tr>\n",
       "      <th>0</th>\n",
       "      <td>27.0</td>\n",
       "      <td>19.7</td>\n",
       "      <td>28.7</td>\n",
       "      <td>33.5</td>\n",
       "      <td>30.1</td>\n",
       "      <td>NaN</td>\n",
       "      <td>47.3</td>\n",
       "      <td>NaN</td>\n",
       "      <td>21.2</td>\n",
       "      <td>31.9</td>\n",
       "      <td>...</td>\n",
       "      <td>9.0</td>\n",
       "      <td>19.6</td>\n",
       "      <td>NaN</td>\n",
       "      <td>29.6</td>\n",
       "      <td>18.2</td>\n",
       "      <td>6.4</td>\n",
       "      <td>30.0</td>\n",
       "      <td>NaN</td>\n",
       "      <td>NaN</td>\n",
       "      <td>2014-01-01 00:00:00</td>\n",
       "    </tr>\n",
       "    <tr>\n",
       "      <th>1</th>\n",
       "      <td>26.3</td>\n",
       "      <td>20.9</td>\n",
       "      <td>21.4</td>\n",
       "      <td>38.0</td>\n",
       "      <td>32.9</td>\n",
       "      <td>NaN</td>\n",
       "      <td>41.4</td>\n",
       "      <td>NaN</td>\n",
       "      <td>20.6</td>\n",
       "      <td>28.7</td>\n",
       "      <td>...</td>\n",
       "      <td>18.0</td>\n",
       "      <td>19.8</td>\n",
       "      <td>NaN</td>\n",
       "      <td>36.1</td>\n",
       "      <td>21.3</td>\n",
       "      <td>7.6</td>\n",
       "      <td>35.3</td>\n",
       "      <td>NaN</td>\n",
       "      <td>NaN</td>\n",
       "      <td>2014-01-01 00:30:00</td>\n",
       "    </tr>\n",
       "  </tbody>\n",
       "</table>\n",
       "<p>2 rows × 41 columns</p>\n",
       "</div>"
      ],
      "text/plain": [
       "   AFULA  ANTOKOLSKY  HOLON  IRONID  KVISH4  RAKEVET_HASHALOM  REMEZ  \\\n",
       "0   27.0        19.7   28.7    33.5    30.1               NaN   47.3   \n",
       "1   26.3        20.9   21.4    38.0    32.9               NaN   41.4   \n",
       "\n",
       "   RISHON_LEZION  YAD_LEBANIM  YEFET_YAFO  ...  YAHALOM  BEER_SHEVA  \\\n",
       "0            NaN         21.2        31.9  ...      9.0        19.6   \n",
       "1            NaN         20.6        28.7  ...     18.0        19.8   \n",
       "\n",
       "   EAST_NEGEV  KFAR_MASARIK  HEFZIBA  PARDES_HANA  RAANANA  SHFEYA  \\\n",
       "0         NaN          29.6     18.2          6.4     30.0     NaN   \n",
       "1         NaN          36.1     21.3          7.6     35.3     NaN   \n",
       "\n",
       "   NEOT_HAKIKAR            datetime  \n",
       "0           NaN 2014-01-01 00:00:00  \n",
       "1           NaN 2014-01-01 00:30:00  \n",
       "\n",
       "[2 rows x 41 columns]"
      ]
     },
     "execution_count": 842,
     "metadata": {},
     "output_type": "execute_result"
    }
   ],
   "source": [
    "r_PM25.head(2)"
   ]
  },
  {
   "cell_type": "code",
   "execution_count": 843,
   "metadata": {},
   "outputs": [
    {
     "data": {
      "text/html": [
       "<div>\n",
       "<style scoped>\n",
       "    .dataframe tbody tr th:only-of-type {\n",
       "        vertical-align: middle;\n",
       "    }\n",
       "\n",
       "    .dataframe tbody tr th {\n",
       "        vertical-align: top;\n",
       "    }\n",
       "\n",
       "    .dataframe thead th {\n",
       "        text-align: right;\n",
       "    }\n",
       "</style>\n",
       "<table border=\"1\" class=\"dataframe\">\n",
       "  <thead>\n",
       "    <tr style=\"text-align: right;\">\n",
       "      <th></th>\n",
       "      <th></th>\n",
       "      <th></th>\n",
       "      <th>AFULA</th>\n",
       "      <th>ANTOKOLSKY</th>\n",
       "      <th>HOLON</th>\n",
       "      <th>IRONID</th>\n",
       "      <th>KVISH4</th>\n",
       "      <th>RAKEVET_HASHALOM</th>\n",
       "      <th>REMEZ</th>\n",
       "      <th>RISHON_LEZION</th>\n",
       "      <th>YAD_LEBANIM</th>\n",
       "      <th>YEFET_YAFO</th>\n",
       "      <th>...</th>\n",
       "      <th>SDE_YOAV</th>\n",
       "      <th>YAHALOM</th>\n",
       "      <th>BEER_SHEVA</th>\n",
       "      <th>EAST_NEGEV</th>\n",
       "      <th>KFAR_MASARIK</th>\n",
       "      <th>HEFZIBA</th>\n",
       "      <th>PARDES_HANA</th>\n",
       "      <th>RAANANA</th>\n",
       "      <th>SHFEYA</th>\n",
       "      <th>NEOT_HAKIKAR</th>\n",
       "    </tr>\n",
       "    <tr>\n",
       "      <th>datetime</th>\n",
       "      <th>datetime</th>\n",
       "      <th>datetime</th>\n",
       "      <th></th>\n",
       "      <th></th>\n",
       "      <th></th>\n",
       "      <th></th>\n",
       "      <th></th>\n",
       "      <th></th>\n",
       "      <th></th>\n",
       "      <th></th>\n",
       "      <th></th>\n",
       "      <th></th>\n",
       "      <th></th>\n",
       "      <th></th>\n",
       "      <th></th>\n",
       "      <th></th>\n",
       "      <th></th>\n",
       "      <th></th>\n",
       "      <th></th>\n",
       "      <th></th>\n",
       "      <th></th>\n",
       "      <th></th>\n",
       "      <th></th>\n",
       "    </tr>\n",
       "  </thead>\n",
       "  <tbody>\n",
       "    <tr>\n",
       "      <th rowspan=\"5\" valign=\"top\">1</th>\n",
       "      <th rowspan=\"5\" valign=\"top\">Friday</th>\n",
       "      <th>0</th>\n",
       "      <td>30.952273</td>\n",
       "      <td>28.960870</td>\n",
       "      <td>31.934146</td>\n",
       "      <td>28.145455</td>\n",
       "      <td>34.665625</td>\n",
       "      <td>52.768750</td>\n",
       "      <td>39.577500</td>\n",
       "      <td>27.225000</td>\n",
       "      <td>25.736364</td>\n",
       "      <td>29.186111</td>\n",
       "      <td>...</td>\n",
       "      <td>29.591304</td>\n",
       "      <td>47.668421</td>\n",
       "      <td>36.628571</td>\n",
       "      <td>25.735294</td>\n",
       "      <td>22.996970</td>\n",
       "      <td>24.750000</td>\n",
       "      <td>25.634483</td>\n",
       "      <td>29.538095</td>\n",
       "      <td>21.442105</td>\n",
       "      <td>27.928571</td>\n",
       "    </tr>\n",
       "    <tr>\n",
       "      <th>1</th>\n",
       "      <td>26.615556</td>\n",
       "      <td>31.382609</td>\n",
       "      <td>33.195238</td>\n",
       "      <td>31.388636</td>\n",
       "      <td>37.309677</td>\n",
       "      <td>39.356250</td>\n",
       "      <td>37.405000</td>\n",
       "      <td>32.850000</td>\n",
       "      <td>26.814706</td>\n",
       "      <td>30.461111</td>\n",
       "      <td>...</td>\n",
       "      <td>32.350000</td>\n",
       "      <td>57.178378</td>\n",
       "      <td>37.856818</td>\n",
       "      <td>30.482353</td>\n",
       "      <td>23.956250</td>\n",
       "      <td>23.967647</td>\n",
       "      <td>24.217857</td>\n",
       "      <td>30.141860</td>\n",
       "      <td>21.090909</td>\n",
       "      <td>28.021429</td>\n",
       "    </tr>\n",
       "    <tr>\n",
       "      <th>2</th>\n",
       "      <td>29.714286</td>\n",
       "      <td>28.006667</td>\n",
       "      <td>32.664286</td>\n",
       "      <td>28.502273</td>\n",
       "      <td>34.367742</td>\n",
       "      <td>29.500000</td>\n",
       "      <td>32.379487</td>\n",
       "      <td>26.392308</td>\n",
       "      <td>25.496774</td>\n",
       "      <td>31.380556</td>\n",
       "      <td>...</td>\n",
       "      <td>38.702174</td>\n",
       "      <td>42.481081</td>\n",
       "      <td>42.258537</td>\n",
       "      <td>30.735294</td>\n",
       "      <td>21.218182</td>\n",
       "      <td>23.888235</td>\n",
       "      <td>23.375862</td>\n",
       "      <td>26.220930</td>\n",
       "      <td>20.940909</td>\n",
       "      <td>29.807692</td>\n",
       "    </tr>\n",
       "    <tr>\n",
       "      <th>3</th>\n",
       "      <td>27.843478</td>\n",
       "      <td>25.723913</td>\n",
       "      <td>28.816279</td>\n",
       "      <td>29.193333</td>\n",
       "      <td>33.433333</td>\n",
       "      <td>28.368750</td>\n",
       "      <td>34.082927</td>\n",
       "      <td>22.365385</td>\n",
       "      <td>24.466667</td>\n",
       "      <td>31.891667</td>\n",
       "      <td>...</td>\n",
       "      <td>40.306522</td>\n",
       "      <td>34.937838</td>\n",
       "      <td>41.902564</td>\n",
       "      <td>32.276471</td>\n",
       "      <td>18.909375</td>\n",
       "      <td>25.517647</td>\n",
       "      <td>23.816667</td>\n",
       "      <td>27.531707</td>\n",
       "      <td>22.100000</td>\n",
       "      <td>33.278571</td>\n",
       "    </tr>\n",
       "    <tr>\n",
       "      <th>4</th>\n",
       "      <td>28.752273</td>\n",
       "      <td>26.628261</td>\n",
       "      <td>30.227500</td>\n",
       "      <td>30.243182</td>\n",
       "      <td>33.877419</td>\n",
       "      <td>25.450000</td>\n",
       "      <td>36.546341</td>\n",
       "      <td>27.128000</td>\n",
       "      <td>23.016667</td>\n",
       "      <td>30.113889</td>\n",
       "      <td>...</td>\n",
       "      <td>36.447727</td>\n",
       "      <td>49.359459</td>\n",
       "      <td>37.225000</td>\n",
       "      <td>33.236364</td>\n",
       "      <td>21.647059</td>\n",
       "      <td>27.988235</td>\n",
       "      <td>23.340000</td>\n",
       "      <td>28.281395</td>\n",
       "      <td>22.980952</td>\n",
       "      <td>28.764286</td>\n",
       "    </tr>\n",
       "    <tr>\n",
       "      <th>...</th>\n",
       "      <th>...</th>\n",
       "      <th>...</th>\n",
       "      <td>...</td>\n",
       "      <td>...</td>\n",
       "      <td>...</td>\n",
       "      <td>...</td>\n",
       "      <td>...</td>\n",
       "      <td>...</td>\n",
       "      <td>...</td>\n",
       "      <td>...</td>\n",
       "      <td>...</td>\n",
       "      <td>...</td>\n",
       "      <td>...</td>\n",
       "      <td>...</td>\n",
       "      <td>...</td>\n",
       "      <td>...</td>\n",
       "      <td>...</td>\n",
       "      <td>...</td>\n",
       "      <td>...</td>\n",
       "      <td>...</td>\n",
       "      <td>...</td>\n",
       "      <td>...</td>\n",
       "      <td>...</td>\n",
       "    </tr>\n",
       "    <tr>\n",
       "      <th rowspan=\"5\" valign=\"top\">12</th>\n",
       "      <th rowspan=\"5\" valign=\"top\">Wednesday</th>\n",
       "      <th>19</th>\n",
       "      <td>24.033333</td>\n",
       "      <td>19.718182</td>\n",
       "      <td>17.659524</td>\n",
       "      <td>20.265854</td>\n",
       "      <td>28.830303</td>\n",
       "      <td>84.478261</td>\n",
       "      <td>28.643590</td>\n",
       "      <td>22.643478</td>\n",
       "      <td>19.434375</td>\n",
       "      <td>22.400000</td>\n",
       "      <td>...</td>\n",
       "      <td>14.209091</td>\n",
       "      <td>18.836364</td>\n",
       "      <td>18.026316</td>\n",
       "      <td>14.287179</td>\n",
       "      <td>18.300000</td>\n",
       "      <td>18.660714</td>\n",
       "      <td>23.175000</td>\n",
       "      <td>22.392105</td>\n",
       "      <td>19.509524</td>\n",
       "      <td>32.593333</td>\n",
       "    </tr>\n",
       "    <tr>\n",
       "      <th>20</th>\n",
       "      <td>23.078571</td>\n",
       "      <td>20.690909</td>\n",
       "      <td>20.969767</td>\n",
       "      <td>22.311628</td>\n",
       "      <td>28.652941</td>\n",
       "      <td>80.108333</td>\n",
       "      <td>29.756410</td>\n",
       "      <td>21.390909</td>\n",
       "      <td>21.306250</td>\n",
       "      <td>23.072222</td>\n",
       "      <td>...</td>\n",
       "      <td>13.829545</td>\n",
       "      <td>19.140909</td>\n",
       "      <td>18.782500</td>\n",
       "      <td>14.467500</td>\n",
       "      <td>16.514286</td>\n",
       "      <td>21.592857</td>\n",
       "      <td>23.816667</td>\n",
       "      <td>22.702381</td>\n",
       "      <td>19.139130</td>\n",
       "      <td>29.400000</td>\n",
       "    </tr>\n",
       "    <tr>\n",
       "      <th>21</th>\n",
       "      <td>25.809524</td>\n",
       "      <td>21.563636</td>\n",
       "      <td>22.492857</td>\n",
       "      <td>23.340909</td>\n",
       "      <td>31.232353</td>\n",
       "      <td>76.008333</td>\n",
       "      <td>30.127500</td>\n",
       "      <td>19.962500</td>\n",
       "      <td>20.178125</td>\n",
       "      <td>22.900000</td>\n",
       "      <td>...</td>\n",
       "      <td>15.938636</td>\n",
       "      <td>18.480952</td>\n",
       "      <td>20.746154</td>\n",
       "      <td>15.277500</td>\n",
       "      <td>19.480000</td>\n",
       "      <td>21.982143</td>\n",
       "      <td>26.202778</td>\n",
       "      <td>27.054762</td>\n",
       "      <td>16.829167</td>\n",
       "      <td>26.937500</td>\n",
       "    </tr>\n",
       "    <tr>\n",
       "      <th>22</th>\n",
       "      <td>27.525000</td>\n",
       "      <td>21.844186</td>\n",
       "      <td>22.547619</td>\n",
       "      <td>25.051163</td>\n",
       "      <td>36.212500</td>\n",
       "      <td>63.945833</td>\n",
       "      <td>31.112821</td>\n",
       "      <td>21.030435</td>\n",
       "      <td>19.441935</td>\n",
       "      <td>22.613889</td>\n",
       "      <td>...</td>\n",
       "      <td>15.295455</td>\n",
       "      <td>23.409091</td>\n",
       "      <td>22.251351</td>\n",
       "      <td>16.978049</td>\n",
       "      <td>21.136667</td>\n",
       "      <td>25.671429</td>\n",
       "      <td>25.125000</td>\n",
       "      <td>25.161364</td>\n",
       "      <td>15.479167</td>\n",
       "      <td>26.668750</td>\n",
       "    </tr>\n",
       "    <tr>\n",
       "      <th>23</th>\n",
       "      <td>24.507317</td>\n",
       "      <td>20.821951</td>\n",
       "      <td>22.320513</td>\n",
       "      <td>25.064286</td>\n",
       "      <td>34.045455</td>\n",
       "      <td>53.212500</td>\n",
       "      <td>29.333333</td>\n",
       "      <td>22.310000</td>\n",
       "      <td>18.013333</td>\n",
       "      <td>22.297222</td>\n",
       "      <td>...</td>\n",
       "      <td>15.588372</td>\n",
       "      <td>22.357895</td>\n",
       "      <td>21.745000</td>\n",
       "      <td>16.163158</td>\n",
       "      <td>18.451613</td>\n",
       "      <td>23.570370</td>\n",
       "      <td>24.142857</td>\n",
       "      <td>22.330233</td>\n",
       "      <td>15.720833</td>\n",
       "      <td>26.775000</td>\n",
       "    </tr>\n",
       "  </tbody>\n",
       "</table>\n",
       "<p>2016 rows × 40 columns</p>\n",
       "</div>"
      ],
      "text/plain": [
       "                                 AFULA  ANTOKOLSKY      HOLON     IRONID  \\\n",
       "datetime datetime  datetime                                                \n",
       "1        Friday    0         30.952273   28.960870  31.934146  28.145455   \n",
       "                   1         26.615556   31.382609  33.195238  31.388636   \n",
       "                   2         29.714286   28.006667  32.664286  28.502273   \n",
       "                   3         27.843478   25.723913  28.816279  29.193333   \n",
       "                   4         28.752273   26.628261  30.227500  30.243182   \n",
       "...                                ...         ...        ...        ...   \n",
       "12       Wednesday 19        24.033333   19.718182  17.659524  20.265854   \n",
       "                   20        23.078571   20.690909  20.969767  22.311628   \n",
       "                   21        25.809524   21.563636  22.492857  23.340909   \n",
       "                   22        27.525000   21.844186  22.547619  25.051163   \n",
       "                   23        24.507317   20.821951  22.320513  25.064286   \n",
       "\n",
       "                                KVISH4  RAKEVET_HASHALOM      REMEZ  \\\n",
       "datetime datetime  datetime                                           \n",
       "1        Friday    0         34.665625         52.768750  39.577500   \n",
       "                   1         37.309677         39.356250  37.405000   \n",
       "                   2         34.367742         29.500000  32.379487   \n",
       "                   3         33.433333         28.368750  34.082927   \n",
       "                   4         33.877419         25.450000  36.546341   \n",
       "...                                ...               ...        ...   \n",
       "12       Wednesday 19        28.830303         84.478261  28.643590   \n",
       "                   20        28.652941         80.108333  29.756410   \n",
       "                   21        31.232353         76.008333  30.127500   \n",
       "                   22        36.212500         63.945833  31.112821   \n",
       "                   23        34.045455         53.212500  29.333333   \n",
       "\n",
       "                             RISHON_LEZION  YAD_LEBANIM  YEFET_YAFO  ...  \\\n",
       "datetime datetime  datetime                                          ...   \n",
       "1        Friday    0             27.225000    25.736364   29.186111  ...   \n",
       "                   1             32.850000    26.814706   30.461111  ...   \n",
       "                   2             26.392308    25.496774   31.380556  ...   \n",
       "                   3             22.365385    24.466667   31.891667  ...   \n",
       "                   4             27.128000    23.016667   30.113889  ...   \n",
       "...                                    ...          ...         ...  ...   \n",
       "12       Wednesday 19            22.643478    19.434375   22.400000  ...   \n",
       "                   20            21.390909    21.306250   23.072222  ...   \n",
       "                   21            19.962500    20.178125   22.900000  ...   \n",
       "                   22            21.030435    19.441935   22.613889  ...   \n",
       "                   23            22.310000    18.013333   22.297222  ...   \n",
       "\n",
       "                              SDE_YOAV    YAHALOM  BEER_SHEVA  EAST_NEGEV  \\\n",
       "datetime datetime  datetime                                                 \n",
       "1        Friday    0         29.591304  47.668421   36.628571   25.735294   \n",
       "                   1         32.350000  57.178378   37.856818   30.482353   \n",
       "                   2         38.702174  42.481081   42.258537   30.735294   \n",
       "                   3         40.306522  34.937838   41.902564   32.276471   \n",
       "                   4         36.447727  49.359459   37.225000   33.236364   \n",
       "...                                ...        ...         ...         ...   \n",
       "12       Wednesday 19        14.209091  18.836364   18.026316   14.287179   \n",
       "                   20        13.829545  19.140909   18.782500   14.467500   \n",
       "                   21        15.938636  18.480952   20.746154   15.277500   \n",
       "                   22        15.295455  23.409091   22.251351   16.978049   \n",
       "                   23        15.588372  22.357895   21.745000   16.163158   \n",
       "\n",
       "                             KFAR_MASARIK    HEFZIBA  PARDES_HANA    RAANANA  \\\n",
       "datetime datetime  datetime                                                    \n",
       "1        Friday    0            22.996970  24.750000    25.634483  29.538095   \n",
       "                   1            23.956250  23.967647    24.217857  30.141860   \n",
       "                   2            21.218182  23.888235    23.375862  26.220930   \n",
       "                   3            18.909375  25.517647    23.816667  27.531707   \n",
       "                   4            21.647059  27.988235    23.340000  28.281395   \n",
       "...                                   ...        ...          ...        ...   \n",
       "12       Wednesday 19           18.300000  18.660714    23.175000  22.392105   \n",
       "                   20           16.514286  21.592857    23.816667  22.702381   \n",
       "                   21           19.480000  21.982143    26.202778  27.054762   \n",
       "                   22           21.136667  25.671429    25.125000  25.161364   \n",
       "                   23           18.451613  23.570370    24.142857  22.330233   \n",
       "\n",
       "                                SHFEYA  NEOT_HAKIKAR  \n",
       "datetime datetime  datetime                           \n",
       "1        Friday    0         21.442105     27.928571  \n",
       "                   1         21.090909     28.021429  \n",
       "                   2         20.940909     29.807692  \n",
       "                   3         22.100000     33.278571  \n",
       "                   4         22.980952     28.764286  \n",
       "...                                ...           ...  \n",
       "12       Wednesday 19        19.509524     32.593333  \n",
       "                   20        19.139130     29.400000  \n",
       "                   21        16.829167     26.937500  \n",
       "                   22        15.479167     26.668750  \n",
       "                   23        15.720833     26.775000  \n",
       "\n",
       "[2016 rows x 40 columns]"
      ]
     },
     "execution_count": 843,
     "metadata": {},
     "output_type": "execute_result"
    }
   ],
   "source": [
    "# this can be used for simple imputation:\n",
    "r_PM25.groupby([r_PM25.datetime.dt.month, r_PM25.datetime.dt.weekday_name, r_PM25.datetime.dt.hour]).mean()"
   ]
  },
  {
   "cell_type": "markdown",
   "metadata": {},
   "source": [
    "### plot interactive boxplots of values per hour (hourly averages dist.,n=no.years*52*24), per day of week (dayly averages dist., n=no.years*52), per month (monthly averages dist., n=no.years)"
   ]
  },
  {
   "cell_type": "code",
   "execution_count": null,
   "metadata": {},
   "outputs": [],
   "source": []
  },
  {
   "cell_type": "code",
   "execution_count": 844,
   "metadata": {},
   "outputs": [
    {
     "data": {
      "image/png": "[encoded data removed]",
      "text/plain": [
       "<Figure size 1440x864 with 1 Axes>"
      ]
     },
     "metadata": {
      "image/png": {
       "height": 700,
       "width": 1217
      }
     },
     "output_type": "display_data"
    }
   ],
   "source": [
    "fig, ax = plt.subplots(figsize=(20,12))\n",
    "\n",
    "bp = r_PM25.boxplot(column=['KVISH4'], by=r_PM25.datetime.dt.month, ax=ax, fontsize=16,\n",
    "                    showfliers=False, showmeans=True,return_type='dict')\n",
    "\n",
    "[[item.set_linewidth(3) for item in bp[key]['boxes']] for key in bp.keys()]\n",
    "[[item.set_linewidth(3) for item in bp[key]['fliers']] for key in bp.keys()]\n",
    "[[item.set_linewidth(3) for item in bp[key]['medians']] for key in bp.keys()]\n",
    "[[item.set_linewidth(3) for item in bp[key]['means']] for key in bp.keys()]\n",
    "[[item.set_linewidth(3) for item in bp[key]['whiskers']] for key in bp.keys()]\n",
    "[[item.set_linewidth(3) for item in bp[key]['caps']] for key in bp.keys()]\n",
    "\n",
    "# title_boxplot = 'awesome title'\n",
    "# plt.title( title_boxplot )\n",
    "plt.suptitle('') # that's what you're after\n",
    "# plt.ylim([0,40])\n",
    "ax.set_xlabel('')\n",
    "ax.set_ylabel('$\\mu g/m^3$',fontsize=16)\n",
    "plt.show();"
   ]
  },
  {
   "cell_type": "code",
   "execution_count": 958,
   "metadata": {},
   "outputs": [
    {
     "data": {
      "text/html": [
       "<div>\n",
       "<style scoped>\n",
       "    .dataframe tbody tr th:only-of-type {\n",
       "        vertical-align: middle;\n",
       "    }\n",
       "\n",
       "    .dataframe tbody tr th {\n",
       "        vertical-align: top;\n",
       "    }\n",
       "\n",
       "    .dataframe thead th {\n",
       "        text-align: right;\n",
       "    }\n",
       "</style>\n",
       "<table border=\"1\" class=\"dataframe\">\n",
       "  <thead>\n",
       "    <tr style=\"text-align: right;\">\n",
       "      <th></th>\n",
       "      <th>datetime</th>\n",
       "      <th>AFULA</th>\n",
       "      <th>ANTOKOLSKY</th>\n",
       "      <th>HOLON</th>\n",
       "      <th>IRONID</th>\n",
       "      <th>KVISH4</th>\n",
       "      <th>RAKEVET_HASHALOM</th>\n",
       "      <th>REMEZ</th>\n",
       "      <th>RISHON_LEZION</th>\n",
       "      <th>YAD_LEBANIM</th>\n",
       "      <th>...</th>\n",
       "      <th>SDE_YOAV</th>\n",
       "      <th>YAHALOM</th>\n",
       "      <th>BEER_SHEVA</th>\n",
       "      <th>EAST_NEGEV</th>\n",
       "      <th>KFAR_MASARIK</th>\n",
       "      <th>HEFZIBA</th>\n",
       "      <th>PARDES_HANA</th>\n",
       "      <th>RAANANA</th>\n",
       "      <th>SHFEYA</th>\n",
       "      <th>NEOT_HAKIKAR</th>\n",
       "    </tr>\n",
       "  </thead>\n",
       "  <tbody>\n",
       "    <tr>\n",
       "      <th>0</th>\n",
       "      <td>Sunday</td>\n",
       "      <td>19.763594</td>\n",
       "      <td>19.036852</td>\n",
       "      <td>19.559877</td>\n",
       "      <td>20.148671</td>\n",
       "      <td>23.369090</td>\n",
       "      <td>66.829714</td>\n",
       "      <td>23.628380</td>\n",
       "      <td>19.935213</td>\n",
       "      <td>20.771995</td>\n",
       "      <td>...</td>\n",
       "      <td>19.199790</td>\n",
       "      <td>19.709594</td>\n",
       "      <td>19.363876</td>\n",
       "      <td>19.000085</td>\n",
       "      <td>19.774450</td>\n",
       "      <td>17.061745</td>\n",
       "      <td>21.520516</td>\n",
       "      <td>20.671816</td>\n",
       "      <td>16.429586</td>\n",
       "      <td>26.505659</td>\n",
       "    </tr>\n",
       "    <tr>\n",
       "      <th>1</th>\n",
       "      <td>Monday</td>\n",
       "      <td>20.144501</td>\n",
       "      <td>20.223288</td>\n",
       "      <td>20.257377</td>\n",
       "      <td>20.772958</td>\n",
       "      <td>23.405492</td>\n",
       "      <td>66.323418</td>\n",
       "      <td>24.198553</td>\n",
       "      <td>21.154248</td>\n",
       "      <td>21.028193</td>\n",
       "      <td>...</td>\n",
       "      <td>19.546410</td>\n",
       "      <td>21.200358</td>\n",
       "      <td>20.198565</td>\n",
       "      <td>19.609674</td>\n",
       "      <td>20.453711</td>\n",
       "      <td>17.874548</td>\n",
       "      <td>21.768060</td>\n",
       "      <td>21.227486</td>\n",
       "      <td>17.526722</td>\n",
       "      <td>25.628746</td>\n",
       "    </tr>\n",
       "    <tr>\n",
       "      <th>2</th>\n",
       "      <td>Tuesday</td>\n",
       "      <td>20.779935</td>\n",
       "      <td>19.751919</td>\n",
       "      <td>19.738011</td>\n",
       "      <td>20.360066</td>\n",
       "      <td>23.402937</td>\n",
       "      <td>66.027346</td>\n",
       "      <td>23.568314</td>\n",
       "      <td>20.078868</td>\n",
       "      <td>20.773365</td>\n",
       "      <td>...</td>\n",
       "      <td>19.635027</td>\n",
       "      <td>21.610454</td>\n",
       "      <td>20.543945</td>\n",
       "      <td>22.681656</td>\n",
       "      <td>19.974927</td>\n",
       "      <td>17.704581</td>\n",
       "      <td>21.394258</td>\n",
       "      <td>20.671329</td>\n",
       "      <td>16.485825</td>\n",
       "      <td>25.493671</td>\n",
       "    </tr>\n",
       "    <tr>\n",
       "      <th>3</th>\n",
       "      <td>Wednesday</td>\n",
       "      <td>22.293158</td>\n",
       "      <td>21.998737</td>\n",
       "      <td>21.621739</td>\n",
       "      <td>22.327809</td>\n",
       "      <td>27.220285</td>\n",
       "      <td>66.185467</td>\n",
       "      <td>26.570761</td>\n",
       "      <td>20.162733</td>\n",
       "      <td>22.650461</td>\n",
       "      <td>...</td>\n",
       "      <td>21.018502</td>\n",
       "      <td>23.248916</td>\n",
       "      <td>22.161889</td>\n",
       "      <td>21.989116</td>\n",
       "      <td>19.357226</td>\n",
       "      <td>18.752544</td>\n",
       "      <td>22.957504</td>\n",
       "      <td>21.872391</td>\n",
       "      <td>16.864972</td>\n",
       "      <td>26.314483</td>\n",
       "    </tr>\n",
       "    <tr>\n",
       "      <th>4</th>\n",
       "      <td>Thursday</td>\n",
       "      <td>20.884091</td>\n",
       "      <td>20.011228</td>\n",
       "      <td>20.826377</td>\n",
       "      <td>20.620862</td>\n",
       "      <td>23.785966</td>\n",
       "      <td>68.805004</td>\n",
       "      <td>24.125251</td>\n",
       "      <td>20.764611</td>\n",
       "      <td>20.104260</td>\n",
       "      <td>...</td>\n",
       "      <td>19.609953</td>\n",
       "      <td>21.088380</td>\n",
       "      <td>20.807495</td>\n",
       "      <td>20.757013</td>\n",
       "      <td>19.686594</td>\n",
       "      <td>18.427631</td>\n",
       "      <td>22.868503</td>\n",
       "      <td>20.761959</td>\n",
       "      <td>17.633683</td>\n",
       "      <td>29.136100</td>\n",
       "    </tr>\n",
       "    <tr>\n",
       "      <th>5</th>\n",
       "      <td>Friday</td>\n",
       "      <td>19.399528</td>\n",
       "      <td>19.727173</td>\n",
       "      <td>19.795281</td>\n",
       "      <td>19.595103</td>\n",
       "      <td>22.063545</td>\n",
       "      <td>41.428055</td>\n",
       "      <td>22.756087</td>\n",
       "      <td>19.953950</td>\n",
       "      <td>19.335706</td>\n",
       "      <td>...</td>\n",
       "      <td>18.594439</td>\n",
       "      <td>21.323275</td>\n",
       "      <td>19.827253</td>\n",
       "      <td>20.109161</td>\n",
       "      <td>19.513545</td>\n",
       "      <td>17.524356</td>\n",
       "      <td>20.581041</td>\n",
       "      <td>19.894009</td>\n",
       "      <td>17.344646</td>\n",
       "      <td>27.611167</td>\n",
       "    </tr>\n",
       "    <tr>\n",
       "      <th>6</th>\n",
       "      <td>Saturday</td>\n",
       "      <td>18.236337</td>\n",
       "      <td>17.535608</td>\n",
       "      <td>18.056079</td>\n",
       "      <td>17.850316</td>\n",
       "      <td>19.440239</td>\n",
       "      <td>27.860815</td>\n",
       "      <td>19.211971</td>\n",
       "      <td>17.996335</td>\n",
       "      <td>18.526890</td>\n",
       "      <td>...</td>\n",
       "      <td>17.258414</td>\n",
       "      <td>18.414650</td>\n",
       "      <td>18.259992</td>\n",
       "      <td>18.336288</td>\n",
       "      <td>19.199088</td>\n",
       "      <td>16.477507</td>\n",
       "      <td>20.206983</td>\n",
       "      <td>18.519044</td>\n",
       "      <td>16.768272</td>\n",
       "      <td>27.915222</td>\n",
       "    </tr>\n",
       "  </tbody>\n",
       "</table>\n",
       "<p>7 rows × 41 columns</p>\n",
       "</div>"
      ],
      "text/plain": [
       "    datetime      AFULA  ANTOKOLSKY      HOLON     IRONID     KVISH4  \\\n",
       "0     Sunday  19.763594   19.036852  19.559877  20.148671  23.369090   \n",
       "1     Monday  20.144501   20.223288  20.257377  20.772958  23.405492   \n",
       "2    Tuesday  20.779935   19.751919  19.738011  20.360066  23.402937   \n",
       "3  Wednesday  22.293158   21.998737  21.621739  22.327809  27.220285   \n",
       "4   Thursday  20.884091   20.011228  20.826377  20.620862  23.785966   \n",
       "5     Friday  19.399528   19.727173  19.795281  19.595103  22.063545   \n",
       "6   Saturday  18.236337   17.535608  18.056079  17.850316  19.440239   \n",
       "\n",
       "   RAKEVET_HASHALOM      REMEZ  RISHON_LEZION  YAD_LEBANIM  ...   SDE_YOAV  \\\n",
       "0         66.829714  23.628380      19.935213    20.771995  ...  19.199790   \n",
       "1         66.323418  24.198553      21.154248    21.028193  ...  19.546410   \n",
       "2         66.027346  23.568314      20.078868    20.773365  ...  19.635027   \n",
       "3         66.185467  26.570761      20.162733    22.650461  ...  21.018502   \n",
       "4         68.805004  24.125251      20.764611    20.104260  ...  19.609953   \n",
       "5         41.428055  22.756087      19.953950    19.335706  ...  18.594439   \n",
       "6         27.860815  19.211971      17.996335    18.526890  ...  17.258414   \n",
       "\n",
       "     YAHALOM  BEER_SHEVA  EAST_NEGEV  KFAR_MASARIK    HEFZIBA  PARDES_HANA  \\\n",
       "0  19.709594   19.363876   19.000085     19.774450  17.061745    21.520516   \n",
       "1  21.200358   20.198565   19.609674     20.453711  17.874548    21.768060   \n",
       "2  21.610454   20.543945   22.681656     19.974927  17.704581    21.394258   \n",
       "3  23.248916   22.161889   21.989116     19.357226  18.752544    22.957504   \n",
       "4  21.088380   20.807495   20.757013     19.686594  18.427631    22.868503   \n",
       "5  21.323275   19.827253   20.109161     19.513545  17.524356    20.581041   \n",
       "6  18.414650   18.259992   18.336288     19.199088  16.477507    20.206983   \n",
       "\n",
       "     RAANANA     SHFEYA  NEOT_HAKIKAR  \n",
       "0  20.671816  16.429586     26.505659  \n",
       "1  21.227486  17.526722     25.628746  \n",
       "2  20.671329  16.485825     25.493671  \n",
       "3  21.872391  16.864972     26.314483  \n",
       "4  20.761959  17.633683     29.136100  \n",
       "5  19.894009  17.344646     27.611167  \n",
       "6  18.519044  16.768272     27.915222  \n",
       "\n",
       "[7 rows x 41 columns]"
      ]
     },
     "execution_count": 958,
     "metadata": {},
     "output_type": "execute_result"
    }
   ],
   "source": [
    "# chosen_data = r_PM25.groupby([r_PM25.datetime.dt.weekday_name]).mean()\n",
    "\n",
    "# cats = ['Sunday','Monday', 'Tuesday', 'Wednesday', 'Thursday', 'Friday', 'Saturday']\n",
    "# chosen_data = chosen_data.set_index(chosen_data.index).reindex(cats).reset_index()\n",
    "\n",
    "# chosen_data"
   ]
  },
  {
   "cell_type": "code",
   "execution_count": 845,
   "metadata": {},
   "outputs": [
    {
     "data": {
      "image/png": "[encoded data removed]",
      "text/plain": [
       "<Figure size 1440x864 with 1 Axes>"
      ]
     },
     "metadata": {
      "image/png": {
       "height": 700,
       "width": 1217
      }
     },
     "output_type": "display_data"
    }
   ],
   "source": [
    "fig, ax = plt.subplots(figsize=(20,12))\n",
    "\n",
    "  \n",
    "bp = r_PM25.boxplot(column=['KVISH4'], by=r_PM25.datetime.dt.weekday_name, ax=ax, fontsize=16,\n",
    "                    showfliers=False, showmeans=True,return_type='dict')\n",
    "\n",
    "[[item.set_linewidth(3) for item in bp[key]['boxes']] for key in bp.keys()]\n",
    "[[item.set_linewidth(3) for item in bp[key]['fliers']] for key in bp.keys()]\n",
    "[[item.set_linewidth(3) for item in bp[key]['medians']] for key in bp.keys()]\n",
    "[[item.set_linewidth(3) for item in bp[key]['means']] for key in bp.keys()]\n",
    "[[item.set_linewidth(3) for item in bp[key]['whiskers']] for key in bp.keys()]\n",
    "[[item.set_linewidth(3) for item in bp[key]['caps']] for key in bp.keys()]\n",
    "\n",
    "# title_boxplot = 'awesome title'\n",
    "# plt.title( title_boxplot )\n",
    "plt.suptitle('') # that's what you're after\n",
    "# plt.ylim([0,40])\n",
    "ax.set_xlabel('')\n",
    "ax.set_ylabel('$\\mu g/m^3$',fontsize=16)\n",
    "plt.show();"
   ]
  },
  {
   "cell_type": "code",
   "execution_count": 846,
   "metadata": {},
   "outputs": [
    {
     "data": {
      "image/png": "[encoded data removed]",
      "text/plain": [
       "<Figure size 1440x864 with 1 Axes>"
      ]
     },
     "metadata": {
      "image/png": {
       "height": 700,
       "width": 1217
      }
     },
     "output_type": "display_data"
    }
   ],
   "source": [
    "fig, ax = plt.subplots(figsize=(20,12))\n",
    "\n",
    "bp = r_PM25.boxplot(column=['KVISH4'], by=r_PM25.datetime.dt.hour, ax=ax, fontsize=16,\n",
    "                    showfliers=False, showmeans=True,return_type='dict')\n",
    "\n",
    "[[item.set_linewidth(3) for item in bp[key]['boxes']] for key in bp.keys()]\n",
    "[[item.set_linewidth(3) for item in bp[key]['fliers']] for key in bp.keys()]\n",
    "[[item.set_linewidth(3) for item in bp[key]['medians']] for key in bp.keys()]\n",
    "[[item.set_linewidth(3) for item in bp[key]['means']] for key in bp.keys()]\n",
    "[[item.set_linewidth(3) for item in bp[key]['whiskers']] for key in bp.keys()]\n",
    "[[item.set_linewidth(3) for item in bp[key]['caps']] for key in bp.keys()]\n",
    "\n",
    "# title_boxplot = 'awesome title'\n",
    "# plt.title( title_boxplot )\n",
    "plt.suptitle('') # that's what you're after\n",
    "# plt.ylim([0,40])\n",
    "ax.set_xlabel('')\n",
    "ax.set_ylabel('$\\mu g/m^3$',fontsize=16)\n",
    "plt.show();"
   ]
  },
  {
   "cell_type": "code",
   "execution_count": null,
   "metadata": {},
   "outputs": [],
   "source": []
  },
  {
   "cell_type": "code",
   "execution_count": null,
   "metadata": {},
   "outputs": [],
   "source": []
  },
  {
   "cell_type": "code",
   "execution_count": 894,
   "metadata": {},
   "outputs": [
    {
     "name": "stdout",
     "output_type": "stream",
     "text": [
      "['#3B7F04', '#34D8D0', '#DBE137', '#677F70', '#783E33', '#514052', '#A4F825', '#1C94B2', '#188DE2', '#95CC08', '#F45FAD', '#3834CD', '#A1D7BF', '#82E625', '#02DAE6', '#2AD77F', '#D076DE', '#D2A739', '#6A4304', '#161680', '#232F15', '#092373', '#7C6E9B', '#DA69F6', '#83194F', '#F5E279', '#6491D1', '#1E8B81', '#64929B', '#F1598E', '#0BBE7B', '#7FD916', '#E9939C', '#430466', '#BEFCFE', '#5916D3', '#F7EEB7', '#65D5CE', '#80BB7B', '#C99219', '#C5FF64']\n"
     ]
    }
   ],
   "source": [
    "import random\n",
    "\n",
    "number_of_colors = r_PM25.shape[1]\n",
    "\n",
    "colors = [\"#\"+''.join([random.choice('0123456789ABCDEF') for j in range(6)])\n",
    "             for i in range(number_of_colors)]\n",
    "print(color)"
   ]
  },
  {
   "cell_type": "code",
   "execution_count": 939,
   "metadata": {},
   "outputs": [],
   "source": [
    "cats = ['Sunday','Monday', 'Tuesday', 'Wednesday', 'Thursday', 'Friday', 'Saturday']"
   ]
  },
  {
   "cell_type": "code",
   "execution_count": 895,
   "metadata": {},
   "outputs": [],
   "source": [
    "# set extra colors in case more pollutants are measured in a station:\n",
    "# colors = ['#FFD700','firebrick','LightSkyBlue','#8B008B','blue','turquoise','DarkSlateGrey','fuchsia','#8B4513','#2ca02c','#ff7f0e','#BC8F8F']\n",
    "\n",
    "color_lines = dict()\n",
    "for col, c in zip(r_PM25.columns, colors[0:len(r_PM25.columns)+1]):\n",
    "    color_lines[col] = c"
   ]
  },
  {
   "cell_type": "code",
   "execution_count": 950,
   "metadata": {},
   "outputs": [],
   "source": [
    "import warnings\n",
    "warnings.filterwarnings(\"ignore\")"
   ]
  },
  {
   "cell_type": "code",
   "execution_count": 976,
   "metadata": {},
   "outputs": [
    {
     "data": {
      "application/vnd.jupyter.widget-view+json": {
       "model_id": "e62ad16d490a4f628ecc7ee961cc7e00",
       "version_major": 2,
       "version_minor": 0
      },
      "text/html": [
       "<p>Failed to display Jupyter Widget of type <code>interactive</code>.</p>\n",
       "<p>\n",
       "  If you're reading this message in the Jupyter Notebook or JupyterLab Notebook, it may mean\n",
       "  that the widgets JavaScript is still loading. If this message persists, it\n",
       "  likely means that the widgets JavaScript library is either not installed or\n",
       "  not enabled. See the <a href=\"https://ipywidgets.readthedocs.io/en/stable/user_install.html\">Jupyter\n",
       "  Widgets Documentation</a> for setup instructions.\n",
       "</p>\n",
       "<p>\n",
       "  If you're reading this message in another frontend (for example, a static\n",
       "  rendering on GitHub or <a href=\"https://nbviewer.jupyter.org/\">NBViewer</a>),\n",
       "  it may mean that your frontend doesn't currently support widgets.\n",
       "</p>\n"
      ],
      "text/plain": [
       "interactive(children=(RadioButtons(description='Averaging', index=1, options=('month', 'weekday_name', 'hour'), value='weekday_name'), SelectMultiple(description='Stations', index=(4, 0), options=('AFULA', 'ANTOKOLSKY', 'HOLON', 'IRONID', 'KVISH4', 'RAKEVET_HASHALOM', 'REMEZ', 'RISHON_LEZION', 'YAD_LEBANIM', 'YEFET_YAFO', 'AHUZA_G', 'ATZMAUT_B', 'KIRYAT_ATA', 'KIRYAT_BIALIK', 'KIRYAT_BINYAMIN', 'KIRYAT_TIVON', 'NAVE_SHANAAN', 'NESHER', 'BAR_ILAN', 'EFRATA', 'ASHDOD_IGUD', 'ASHKELON_SOUTH', 'DALYA', 'GEDERA', 'GVARAAM', 'KIRYAT_MALAHI', 'NIR_ISRAEL', 'ORT', 'ROVA_TV', 'SDEROT', 'SDE_YOAV', 'YAHALOM', 'BEER_SHEVA', 'EAST_NEGEV', 'KFAR_MASARIK', 'HEFZIBA', 'PARDES_HANA', 'RAANANA', 'SHFEYA', 'NEOT_HAKIKAR'), value=('KVISH4', 'AFULA')), Output()), _dom_classes=('widget-interact',))"
      ]
     },
     "metadata": {},
     "output_type": "display_data"
    }
   ],
   "source": [
    "layout = go.Layout(\n",
    "    width = 800,\n",
    "    height = 400,\n",
    "    title={\n",
    "        'text': \"Choose a station and averaging time\",\n",
    "        'y':0.9,\n",
    "        'x':0.5,\n",
    "        'xanchor': 'right',\n",
    "        'yanchor': 'top'},\n",
    "    yaxis = dict(\n",
    "        title = '$\\mu g/m^3 or ppb$ '\n",
    "    ),\n",
    "    xaxis = dict(\n",
    "        title = 'Averging period'\n",
    "    ),\n",
    "    plot_bgcolor='rgb(255,255,250)'\n",
    "#     paper_bgcolor = 'rgba(0,0,0,0)',\n",
    "#     plot_bgcolor = 'rgba(0,0,0,0)'\n",
    ")\n",
    "\n",
    "def update_plot(avg,Stations):   \n",
    "#     avg = month, weekday_name,hour\n",
    "#     data = [] #empty list where all my traces are in\n",
    "    fig = go.Figure(layout=layout)\n",
    "    \n",
    "    for s in Stations: # signals are the items in the multiselect widget       \n",
    "        chosen_data = r_PM25.groupby([r_PM25.datetime.apply(lambda x : getattr(x, avg))]).mean()  \n",
    "\n",
    "        if avg == 'weekday_name':\n",
    "            chosen_data = chosen_data.set_index(chosen_data.index).reindex(cats).reset_index()\n",
    "            x=chosen_data.datetime\n",
    "        else:            \n",
    "            x = chosen_data.index\n",
    "        \n",
    "        # updaing averages\n",
    "        fig.add_trace(go.Scatter(\n",
    "            x=x,\n",
    "            y=chosen_data[s],\n",
    "            mode = 'lines',#lines/markers\n",
    "            name = '{}\\n{}'.format(s,avg),\n",
    "            line = dict(width=2,color=color_lines[s]),\n",
    "            showlegend = True\n",
    "        ))   \n",
    "        \n",
    "    py.offline.iplot(fig) # when using notebook\n",
    "\n",
    "i = widgets.interact(update_plot,\n",
    "             avg = widgets.RadioButtons(options=list(['month', 'weekday_name', 'hour']),value=('weekday_name'),description='Averaging'), \n",
    "             Stations = widgets.SelectMultiple(options=list(r_PM25.columns[:-1]),value=('KVISH4','AFULA'))\n",
    "             )\n"
   ]
  },
  {
   "cell_type": "code",
   "execution_count": null,
   "metadata": {},
   "outputs": [],
   "source": []
  },
  {
   "cell_type": "code",
   "execution_count": null,
   "metadata": {},
   "outputs": [],
   "source": []
  },
  {
   "cell_type": "markdown",
   "metadata": {},
   "source": [
    "### interactively original time-series (to spot outliers and see missing values) - moving average on a weekly and monthly window, per station... would be cool to add later the imputed data marked in other color to see if the imputation looks reasonable. "
   ]
  },
  {
   "cell_type": "code",
   "execution_count": 973,
   "metadata": {},
   "outputs": [
    {
     "data": {
      "text/plain": [
       "[<matplotlib.lines.Line2D at 0x10f1cd55c0>]"
      ]
     },
     "execution_count": 973,
     "metadata": {},
     "output_type": "execute_result"
    },
    {
     "data": {
      "text/plain": [
       "[<matplotlib.lines.Line2D at 0x186db6cc0>]"
      ]
     },
     "execution_count": 973,
     "metadata": {},
     "output_type": "execute_result"
    },
    {
     "data": {
      "image/png": "[encoded data removed]",
      "text/plain": [
       "<Figure size 432x288 with 1 Axes>"
      ]
     },
     "metadata": {
      "image/png": {
       "height": 248,
       "width": 375
      }
     },
     "output_type": "display_data"
    }
   ],
   "source": [
    "plt.plot(r_PM25.iloc[:,1].rolling(window=(2*24*7),min_periods=24*7).mean()) #weekly\n",
    "plt.plot(r_PM25.iloc[:,1].rolling(window=(2*24*7*30),min_periods=24*7).mean()) #weekly"
   ]
  },
  {
   "cell_type": "code",
   "execution_count": null,
   "metadata": {},
   "outputs": [],
   "source": []
  },
  {
   "cell_type": "code",
   "execution_count": null,
   "metadata": {},
   "outputs": [],
   "source": []
  },
  {
   "cell_type": "markdown",
   "metadata": {},
   "source": [
    "## Check verious methods for data imputation"
   ]
  },
  {
   "cell_type": "code",
   "execution_count": 308,
   "metadata": {},
   "outputs": [],
   "source": [
    "# https://towardsdatascience.com/facing-the-arima-model-against-neural-networks-745ba5a933ca\n",
    "# https://towardsdatascience.com/playing-with-time-series-data-in-python-959e2485bff8\n",
    "# https://towardsdatascience.com/forecasting-with-prophet-d50bbfe95f91\n",
    "# https://medium.com/@drnesr/filling-gaps-of-a-time-series-using-python-d4bfddd8c460\n",
    "# https://github.com/KlickInc/datasci-strata-talk-missing-data/blob/master/Strata%20Data%20Conference%20New%20York%202019_FINAL.pdf\n",
    "# https://stackoverflow.com/questions/57419021/filling-huge-large-chunks-of-time-series-data\n",
    "# looks good - \n",
    "# https://medium.com/analytics-vidhya/using-scikit-learns-iterative-imputer-694c3cca34de\n",
    "\n",
    "# libraries\n",
    "# https://pypi.org/project/fancyimpute/\n",
    "# looks the most interesting - \n",
    "# https://scikit-learn.org/stable/modules/generated/sklearn.impute.IterativeImputer.html\n",
    "\n",
    "# examples\n",
    "# https://scikit-learn.org/stable/auto_examples/impute/plot_missing_values.html#sphx-glr-auto-examples-impute-plot-missing-values-py\n",
    "# https://scikit-learn.org/stable/auto_examples/impute/plot_iterative_imputer_variants_comparison.html#sphx-glr-auto-examples-impute-plot-iterative-imputer-variants-comparison-py"
   ]
  },
  {
   "cell_type": "code",
   "execution_count": 1006,
   "metadata": {},
   "outputs": [],
   "source": [
    "# Data-driven methods (using TIME-SERIES FORCASTING). \n",
    "# sometimes called univariate imputation: \"One type of imputation algorithm is\n",
    "# univariate, which imputes values in the i-th feature dimension using only non-missing\n",
    "# values in that feature dimension (e.g. impute.SimpleImputer).\"\n",
    "\n",
    "# By contrast, multivariate imputation algorithms use the entire set of available \n",
    "# feature dimensions to estimate the missing values (e.g. impute.IterativeImputer).\n",
    "\n",
    "# ARIMA - takes into consideration...? \n",
    "# Prophet - takes into cosideration seasonality and trend\n",
    "# LSTM (ANN?)\n",
    "\n",
    "# interpolation-like (data-driven)\n",
    "# EM-?\n",
    "# KNN-?\n",
    "# moving average (rolling)\n",
    "# mean (simple imputer or fillna pandas)\n",
    "\n",
    "# Regression (maybe called multivariate imputation?)\n",
    "# forcast by the values in other stations.\n",
    "# Random forest for example\n",
    "\n",
    "# Clustering - take the hour of the day, and the day of the year and cluster to groups. \n",
    "# then maybe give the average value where is it missing according to the group. ?\n",
    "\n",
    "# Evaluation matrics - MAE, RMSE, R^2, rank product = geometric mean of the all evaluation values\n",
    "# compare to random\n",
    "# ensamble - take mean value(?) of top performing methods. "
   ]
  },
  {
   "cell_type": "code",
   "execution_count": 1007,
   "metadata": {},
   "outputs": [],
   "source": [
    "# SUMMARY\n",
    "\n",
    "# long periods (over several hours) - univariate-ARIMA, Prophet, LSTM,  multivariate-regression like (sklearn)\n",
    "# problem might arrise with the long missing period *at the begining* of time (before station started to operate). \n",
    "# for this maybe only the multivariate is appropriate. Not sure. \n",
    "# short periods - everything is good... \n",
    "# Evaluation matrics - MAE, RMSE, R^2, rank product = geometric mean of the all evaluation values\n",
    "# compare to random\n",
    "# ensamble - take mean value(?) of top performing methods. \n",
    "# uncertainty - \"IterativeImputer can also be used for multiple imputations by \n",
    "# applying it repeatedly to the same dataset with different random seeds when \n",
    "# sample_posterior=True.\"\n",
    "\n",
    "# understanding - \n",
    "# I need to take from each time-series of each station, the non-missing data I have. \n",
    "# I NEED TO MAKE SURE MY DATA IS NORMALLY DISTRIBUTED. MIGHT BE JUST DUE TO THE SIZE OF THE DATASET...\n",
    "# then, I need to randomly take chunks of data and report it as missing \n",
    "# (based on the distribution of missing interval sizes?)- \n",
    "# technically I can randomly choose X time points (from a poisson dist. or - the distance between start of missing intervals is exp. dist.)\n",
    "# and then randomly choose interval length. however, I might have a problem with overlapping. \n",
    "# one solution - interate until I don't have an overlap. \n",
    "# other solution - both missing intervals and data intervals are geometric dist.\n",
    "# write a function that randomly builds simultanously the missing and non-missing. \n",
    "# (based on the probability of that station to be missing?)\n",
    "# I should probably assign for each station the size of missing chunks based on \n",
    "# the real size of missing chunks of that station - NOT SURE IT MATTERS.\n",
    "# I then train all kinds of models (regression (multivariate) or univariate) \n",
    "# and evaluate their performance based on predicting the dummy missing values.\n",
    "# I can do 10 fold cross-validation. \n",
    "# I think it must also predict the real missing values simultanously, but the \n",
    "# evaluation would be based only on the dummy ones of course. \n",
    "# I should try and add the day in the year, the day in the week and time of day as features.\n"
   ]
  },
  {
   "cell_type": "code",
   "execution_count": null,
   "metadata": {},
   "outputs": [],
   "source": []
  },
  {
   "cell_type": "markdown",
   "metadata": {},
   "source": [
    "# Multivariate-regression like (sklearn)"
   ]
  },
  {
   "cell_type": "code",
   "execution_count": 1008,
   "metadata": {},
   "outputs": [],
   "source": [
    "# start with trying to impute missing values in one station based on other stations\n",
    "# later possibly add meteorological data \n",
    "# 105167 entries, each with 35 features. "
   ]
  },
  {
   "cell_type": "code",
   "execution_count": 1165,
   "metadata": {},
   "outputs": [
    {
     "data": {
      "text/plain": [
       "'This uses round-robin linear regression, modeling each feature with missing \\nvalues as a function of other features, in turn. The version implemented assumes \\nGaussian (output) variables. If your features are obviously non-normal, consider \\ntransforming them to look more normal to potentially improve performance.'"
      ]
     },
     "execution_count": 1165,
     "metadata": {},
     "output_type": "execute_result"
    }
   ],
   "source": [
    "# IterativeImputer - Iterative imputation of the missing values.\n",
    "# https://scikit-learn.org/stable/modules/generated/sklearn.impute.IterativeImputer.html#sklearn.impute.IterativeImputer\n",
    "\n",
    "'''This uses round-robin linear regression, modeling each feature with missing \n",
    "values as a function of other features, in turn. The version implemented assumes \n",
    "Gaussian (output) variables. If your features are obviously non-normal, consider \n",
    "transforming them to look more normal to potentially improve performance.'''\n",
    "\n",
    "from sklearn.experimental import enable_iterative_imputer\n",
    "from sklearn.impute import IterativeImputer\n",
    "from sklearn.ensemble import ExtraTreesRegressor\n",
    "from sklearn.impute import MissingIndicator"
   ]
  },
  {
   "cell_type": "code",
   "execution_count": 1166,
   "metadata": {},
   "outputs": [],
   "source": [
    "# reduced PM25 - starting later than 2000 at the moment...\n",
    "r_PM25 = PM25[start_year:-1]\n",
    "idx = r_PM25.notnull().sum(axis = 0)/r_PM25.shape[0]>0.5\n",
    "r_PM25 = r_PM25.loc[:, idx]"
   ]
  },
  {
   "cell_type": "code",
   "execution_count": 1167,
   "metadata": {},
   "outputs": [],
   "source": [
    "r_PM25.reset_index(inplace=True)\n",
    "r_PM25.drop(labels = 'index',axis=1, inplace=True)\n",
    "# r_PM25.drop(labels = 'datetime',axis=1, inplace=True)"
   ]
  },
  {
   "cell_type": "code",
   "execution_count": 1168,
   "metadata": {},
   "outputs": [],
   "source": [
    "r_PM25_withDays = r_PM25.copy()"
   ]
  },
  {
   "cell_type": "code",
   "execution_count": 1169,
   "metadata": {},
   "outputs": [],
   "source": [
    "# r_PM25['datetime'] = pd.to_datetime(times)\n",
    "r_PM25_withDays['week day'] = pd.to_datetime(times).dayofweek\n",
    "r_PM25_withDays['month'] = pd.to_datetime(times).month\n",
    "r_PM25_withDays['hour'] = pd.to_datetime(times).hour\n",
    "# r_PM25.drop(['week day','month','hour'],axis=1,inplace=True)"
   ]
  },
  {
   "cell_type": "code",
   "execution_count": 1170,
   "metadata": {},
   "outputs": [
    {
     "data": {
      "text/html": [
       "<div>\n",
       "<style scoped>\n",
       "    .dataframe tbody tr th:only-of-type {\n",
       "        vertical-align: middle;\n",
       "    }\n",
       "\n",
       "    .dataframe tbody tr th {\n",
       "        vertical-align: top;\n",
       "    }\n",
       "\n",
       "    .dataframe thead th {\n",
       "        text-align: right;\n",
       "    }\n",
       "</style>\n",
       "<table border=\"1\" class=\"dataframe\">\n",
       "  <thead>\n",
       "    <tr style=\"text-align: right;\">\n",
       "      <th></th>\n",
       "      <th>AFULA</th>\n",
       "      <th>ANTOKOLSKY</th>\n",
       "      <th>HOLON</th>\n",
       "      <th>IRONID</th>\n",
       "      <th>KVISH4</th>\n",
       "      <th>RAKEVET_HASHALOM</th>\n",
       "      <th>REMEZ</th>\n",
       "      <th>RISHON_LEZION</th>\n",
       "      <th>YAD_LEBANIM</th>\n",
       "      <th>YEFET_YAFO</th>\n",
       "      <th>...</th>\n",
       "      <th>SDE_YOAV</th>\n",
       "      <th>YAHALOM</th>\n",
       "      <th>BEER_SHEVA</th>\n",
       "      <th>EAST_NEGEV</th>\n",
       "      <th>KFAR_MASARIK</th>\n",
       "      <th>HEFZIBA</th>\n",
       "      <th>PARDES_HANA</th>\n",
       "      <th>RAANANA</th>\n",
       "      <th>SHFEYA</th>\n",
       "      <th>NEOT_HAKIKAR</th>\n",
       "    </tr>\n",
       "  </thead>\n",
       "  <tbody>\n",
       "    <tr>\n",
       "      <th>0</th>\n",
       "      <td>27.0</td>\n",
       "      <td>19.7</td>\n",
       "      <td>28.7</td>\n",
       "      <td>33.5</td>\n",
       "      <td>30.1</td>\n",
       "      <td>NaN</td>\n",
       "      <td>47.3</td>\n",
       "      <td>NaN</td>\n",
       "      <td>21.2</td>\n",
       "      <td>31.9</td>\n",
       "      <td>...</td>\n",
       "      <td>2.9</td>\n",
       "      <td>9.0</td>\n",
       "      <td>19.6</td>\n",
       "      <td>NaN</td>\n",
       "      <td>29.6</td>\n",
       "      <td>18.2</td>\n",
       "      <td>6.4</td>\n",
       "      <td>30.0</td>\n",
       "      <td>NaN</td>\n",
       "      <td>NaN</td>\n",
       "    </tr>\n",
       "    <tr>\n",
       "      <th>1</th>\n",
       "      <td>26.3</td>\n",
       "      <td>20.9</td>\n",
       "      <td>21.4</td>\n",
       "      <td>38.0</td>\n",
       "      <td>32.9</td>\n",
       "      <td>NaN</td>\n",
       "      <td>41.4</td>\n",
       "      <td>NaN</td>\n",
       "      <td>20.6</td>\n",
       "      <td>28.7</td>\n",
       "      <td>...</td>\n",
       "      <td>4.2</td>\n",
       "      <td>18.0</td>\n",
       "      <td>19.8</td>\n",
       "      <td>NaN</td>\n",
       "      <td>36.1</td>\n",
       "      <td>21.3</td>\n",
       "      <td>7.6</td>\n",
       "      <td>35.3</td>\n",
       "      <td>NaN</td>\n",
       "      <td>NaN</td>\n",
       "    </tr>\n",
       "    <tr>\n",
       "      <th>2</th>\n",
       "      <td>22.1</td>\n",
       "      <td>21.5</td>\n",
       "      <td>25.1</td>\n",
       "      <td>38.1</td>\n",
       "      <td>35.0</td>\n",
       "      <td>NaN</td>\n",
       "      <td>41.4</td>\n",
       "      <td>NaN</td>\n",
       "      <td>21.6</td>\n",
       "      <td>29.4</td>\n",
       "      <td>...</td>\n",
       "      <td>3.6</td>\n",
       "      <td>23.3</td>\n",
       "      <td>21.9</td>\n",
       "      <td>NaN</td>\n",
       "      <td>36.1</td>\n",
       "      <td>23.6</td>\n",
       "      <td>6.5</td>\n",
       "      <td>29.7</td>\n",
       "      <td>NaN</td>\n",
       "      <td>NaN</td>\n",
       "    </tr>\n",
       "    <tr>\n",
       "      <th>3</th>\n",
       "      <td>30.1</td>\n",
       "      <td>21.5</td>\n",
       "      <td>34.5</td>\n",
       "      <td>37.6</td>\n",
       "      <td>33.6</td>\n",
       "      <td>NaN</td>\n",
       "      <td>35.7</td>\n",
       "      <td>NaN</td>\n",
       "      <td>19.5</td>\n",
       "      <td>33.7</td>\n",
       "      <td>...</td>\n",
       "      <td>17.2</td>\n",
       "      <td>20.4</td>\n",
       "      <td>19.6</td>\n",
       "      <td>NaN</td>\n",
       "      <td>43.9</td>\n",
       "      <td>17.6</td>\n",
       "      <td>7.7</td>\n",
       "      <td>22.4</td>\n",
       "      <td>NaN</td>\n",
       "      <td>NaN</td>\n",
       "    </tr>\n",
       "    <tr>\n",
       "      <th>4</th>\n",
       "      <td>21.7</td>\n",
       "      <td>21.6</td>\n",
       "      <td>30.4</td>\n",
       "      <td>26.5</td>\n",
       "      <td>25.7</td>\n",
       "      <td>NaN</td>\n",
       "      <td>36.7</td>\n",
       "      <td>NaN</td>\n",
       "      <td>21.4</td>\n",
       "      <td>31.0</td>\n",
       "      <td>...</td>\n",
       "      <td>35.5</td>\n",
       "      <td>23.9</td>\n",
       "      <td>15.4</td>\n",
       "      <td>NaN</td>\n",
       "      <td>37.0</td>\n",
       "      <td>15.8</td>\n",
       "      <td>6.7</td>\n",
       "      <td>30.1</td>\n",
       "      <td>NaN</td>\n",
       "      <td>NaN</td>\n",
       "    </tr>\n",
       "  </tbody>\n",
       "</table>\n",
       "<p>5 rows × 40 columns</p>\n",
       "</div>"
      ],
      "text/plain": [
       "   AFULA  ANTOKOLSKY  HOLON  IRONID  KVISH4  RAKEVET_HASHALOM  REMEZ  \\\n",
       "0   27.0        19.7   28.7    33.5    30.1               NaN   47.3   \n",
       "1   26.3        20.9   21.4    38.0    32.9               NaN   41.4   \n",
       "2   22.1        21.5   25.1    38.1    35.0               NaN   41.4   \n",
       "3   30.1        21.5   34.5    37.6    33.6               NaN   35.7   \n",
       "4   21.7        21.6   30.4    26.5    25.7               NaN   36.7   \n",
       "\n",
       "   RISHON_LEZION  YAD_LEBANIM  YEFET_YAFO  ...  SDE_YOAV  YAHALOM  BEER_SHEVA  \\\n",
       "0            NaN         21.2        31.9  ...       2.9      9.0        19.6   \n",
       "1            NaN         20.6        28.7  ...       4.2     18.0        19.8   \n",
       "2            NaN         21.6        29.4  ...       3.6     23.3        21.9   \n",
       "3            NaN         19.5        33.7  ...      17.2     20.4        19.6   \n",
       "4            NaN         21.4        31.0  ...      35.5     23.9        15.4   \n",
       "\n",
       "   EAST_NEGEV  KFAR_MASARIK  HEFZIBA  PARDES_HANA  RAANANA  SHFEYA  \\\n",
       "0         NaN          29.6     18.2          6.4     30.0     NaN   \n",
       "1         NaN          36.1     21.3          7.6     35.3     NaN   \n",
       "2         NaN          36.1     23.6          6.5     29.7     NaN   \n",
       "3         NaN          43.9     17.6          7.7     22.4     NaN   \n",
       "4         NaN          37.0     15.8          6.7     30.1     NaN   \n",
       "\n",
       "   NEOT_HAKIKAR  \n",
       "0           NaN  \n",
       "1           NaN  \n",
       "2           NaN  \n",
       "3           NaN  \n",
       "4           NaN  \n",
       "\n",
       "[5 rows x 40 columns]"
      ]
     },
     "execution_count": 1170,
     "metadata": {},
     "output_type": "execute_result"
    },
    {
     "data": {
      "text/plain": [
       "(87647, 40)"
      ]
     },
     "execution_count": 1170,
     "metadata": {},
     "output_type": "execute_result"
    },
    {
     "data": {
      "text/plain": [
       "(87647, 43)"
      ]
     },
     "execution_count": 1170,
     "metadata": {},
     "output_type": "execute_result"
    }
   ],
   "source": [
    "r_PM25.head(5)\n",
    "r_PM25.shape\n",
    "r_PM25_withDays.shape"
   ]
  },
  {
   "cell_type": "code",
   "execution_count": null,
   "metadata": {},
   "outputs": [],
   "source": []
  },
  {
   "cell_type": "code",
   "execution_count": 1171,
   "metadata": {},
   "outputs": [
    {
     "data": {
      "image/png": "[encoded data removed]",
      "text/plain": [
       "<Figure size 432x288 with 1 Axes>"
      ]
     },
     "metadata": {
      "image/png": {
       "height": 248,
       "width": 401
      }
     },
     "output_type": "display_data"
    }
   ],
   "source": [
    "# check for Normality\n",
    "# https://towardsdatascience.com/6-ways-to-test-for-a-normal-distribution-which-one-to-use-9dcf47d8fa93\n",
    "check = r_PM25.values\n",
    "check = check[(~np.isnan(check))]+0.0000000000001 # because of the zeros\n",
    "\n",
    "plt.hist(np.log(check),color = 'blue', edgecolor = 'black',bins=500)\n",
    "plt.xlim([0,25])\n",
    "plt.show();"
   ]
  },
  {
   "cell_type": "markdown",
   "metadata": {},
   "source": [
    "looks like the data is log-normally distributed"
   ]
  },
  {
   "cell_type": "code",
   "execution_count": 1172,
   "metadata": {},
   "outputs": [],
   "source": [
    "# perform a box-cox transformation for the data to obtain normally-distributed features. "
   ]
  },
  {
   "cell_type": "code",
   "execution_count": 1173,
   "metadata": {},
   "outputs": [],
   "source": [
    "from sklearn.preprocessing import PowerTransformer"
   ]
  },
  {
   "cell_type": "code",
   "execution_count": 1174,
   "metadata": {},
   "outputs": [
    {
     "data": {
      "text/plain": [
       "PowerTransformer(method='box-cox')"
      ]
     },
     "execution_count": 1174,
     "metadata": {},
     "output_type": "execute_result"
    }
   ],
   "source": [
    "# change X_missing to normal_data\n",
    "pt = PowerTransformer(method='box-cox')\n",
    "t_data = r_PM25.values+1\n",
    "pt.fit(t_data)\n",
    "\n",
    "# by default applies seperately to each column\n",
    "normal_data = pd.DataFrame(\n",
    "    pt.transform(t_data),\n",
    "    index=r_PM25.index,\n",
    "    columns=r_PM25.columns)"
   ]
  },
  {
   "cell_type": "code",
   "execution_count": 1175,
   "metadata": {},
   "outputs": [
    {
     "data": {
      "text/html": [
       "<div>\n",
       "<style scoped>\n",
       "    .dataframe tbody tr th:only-of-type {\n",
       "        vertical-align: middle;\n",
       "    }\n",
       "\n",
       "    .dataframe tbody tr th {\n",
       "        vertical-align: top;\n",
       "    }\n",
       "\n",
       "    .dataframe thead th {\n",
       "        text-align: right;\n",
       "    }\n",
       "</style>\n",
       "<table border=\"1\" class=\"dataframe\">\n",
       "  <thead>\n",
       "    <tr style=\"text-align: right;\">\n",
       "      <th></th>\n",
       "      <th>AFULA</th>\n",
       "      <th>ANTOKOLSKY</th>\n",
       "      <th>HOLON</th>\n",
       "      <th>IRONID</th>\n",
       "      <th>KVISH4</th>\n",
       "      <th>RAKEVET_HASHALOM</th>\n",
       "      <th>REMEZ</th>\n",
       "      <th>RISHON_LEZION</th>\n",
       "      <th>YAD_LEBANIM</th>\n",
       "      <th>YEFET_YAFO</th>\n",
       "      <th>...</th>\n",
       "      <th>SDE_YOAV</th>\n",
       "      <th>YAHALOM</th>\n",
       "      <th>BEER_SHEVA</th>\n",
       "      <th>EAST_NEGEV</th>\n",
       "      <th>KFAR_MASARIK</th>\n",
       "      <th>HEFZIBA</th>\n",
       "      <th>PARDES_HANA</th>\n",
       "      <th>RAANANA</th>\n",
       "      <th>SHFEYA</th>\n",
       "      <th>NEOT_HAKIKAR</th>\n",
       "    </tr>\n",
       "  </thead>\n",
       "  <tbody>\n",
       "    <tr>\n",
       "      <th>0</th>\n",
       "      <td>0.773157</td>\n",
       "      <td>0.364171</td>\n",
       "      <td>0.842425</td>\n",
       "      <td>1.088505</td>\n",
       "      <td>0.720070</td>\n",
       "      <td>NaN</td>\n",
       "      <td>1.419970</td>\n",
       "      <td>NaN</td>\n",
       "      <td>0.370593</td>\n",
       "      <td>0.911001</td>\n",
       "      <td>...</td>\n",
       "      <td>-1.526267</td>\n",
       "      <td>-0.813027</td>\n",
       "      <td>0.291344</td>\n",
       "      <td>NaN</td>\n",
       "      <td>0.920244</td>\n",
       "      <td>0.347986</td>\n",
       "      <td>-1.646407</td>\n",
       "      <td>0.857300</td>\n",
       "      <td>NaN</td>\n",
       "      <td>NaN</td>\n",
       "    </tr>\n",
       "    <tr>\n",
       "      <th>1</th>\n",
       "      <td>0.730831</td>\n",
       "      <td>0.467751</td>\n",
       "      <td>0.404078</td>\n",
       "      <td>1.287253</td>\n",
       "      <td>0.866388</td>\n",
       "      <td>NaN</td>\n",
       "      <td>1.211345</td>\n",
       "      <td>NaN</td>\n",
       "      <td>0.326946</td>\n",
       "      <td>0.716887</td>\n",
       "      <td>...</td>\n",
       "      <td>-1.237000</td>\n",
       "      <td>0.103117</td>\n",
       "      <td>0.306621</td>\n",
       "      <td>NaN</td>\n",
       "      <td>1.275206</td>\n",
       "      <td>0.627509</td>\n",
       "      <td>-1.393601</td>\n",
       "      <td>1.125780</td>\n",
       "      <td>NaN</td>\n",
       "      <td>NaN</td>\n",
       "    </tr>\n",
       "    <tr>\n",
       "      <th>2</th>\n",
       "      <td>0.453332</td>\n",
       "      <td>0.517161</td>\n",
       "      <td>0.639802</td>\n",
       "      <td>1.291424</td>\n",
       "      <td>0.968963</td>\n",
       "      <td>NaN</td>\n",
       "      <td>1.211345</td>\n",
       "      <td>NaN</td>\n",
       "      <td>0.399100</td>\n",
       "      <td>0.760907</td>\n",
       "      <td>...</td>\n",
       "      <td>-1.361990</td>\n",
       "      <td>0.472783</td>\n",
       "      <td>0.459061</td>\n",
       "      <td>NaN</td>\n",
       "      <td>1.275206</td>\n",
       "      <td>0.809932</td>\n",
       "      <td>-1.623909</td>\n",
       "      <td>0.841020</td>\n",
       "      <td>NaN</td>\n",
       "      <td>NaN</td>\n",
       "    </tr>\n",
       "    <tr>\n",
       "      <th>3</th>\n",
       "      <td>0.949461</td>\n",
       "      <td>0.517161</td>\n",
       "      <td>1.127351</td>\n",
       "      <td>1.270469</td>\n",
       "      <td>0.901217</td>\n",
       "      <td>NaN</td>\n",
       "      <td>0.981390</td>\n",
       "      <td>NaN</td>\n",
       "      <td>0.243992</td>\n",
       "      <td>1.012825</td>\n",
       "      <td>...</td>\n",
       "      <td>0.199313</td>\n",
       "      <td>0.280523</td>\n",
       "      <td>0.291344</td>\n",
       "      <td>NaN</td>\n",
       "      <td>1.641341</td>\n",
       "      <td>0.288483</td>\n",
       "      <td>-1.374069</td>\n",
       "      <td>0.398377</td>\n",
       "      <td>NaN</td>\n",
       "      <td>NaN</td>\n",
       "    </tr>\n",
       "    <tr>\n",
       "      <th>4</th>\n",
       "      <td>0.424493</td>\n",
       "      <td>0.525251</td>\n",
       "      <td>0.930679</td>\n",
       "      <td>0.725716</td>\n",
       "      <td>0.463470</td>\n",
       "      <td>NaN</td>\n",
       "      <td>1.024112</td>\n",
       "      <td>NaN</td>\n",
       "      <td>0.384904</td>\n",
       "      <td>0.858190</td>\n",
       "      <td>...</td>\n",
       "      <td>1.137962</td>\n",
       "      <td>0.510009</td>\n",
       "      <td>-0.067301</td>\n",
       "      <td>NaN</td>\n",
       "      <td>1.320392</td>\n",
       "      <td>0.097221</td>\n",
       "      <td>-1.579753</td>\n",
       "      <td>0.862698</td>\n",
       "      <td>NaN</td>\n",
       "      <td>NaN</td>\n",
       "    </tr>\n",
       "  </tbody>\n",
       "</table>\n",
       "<p>5 rows × 40 columns</p>\n",
       "</div>"
      ],
      "text/plain": [
       "      AFULA  ANTOKOLSKY     HOLON    IRONID    KVISH4  RAKEVET_HASHALOM  \\\n",
       "0  0.773157    0.364171  0.842425  1.088505  0.720070               NaN   \n",
       "1  0.730831    0.467751  0.404078  1.287253  0.866388               NaN   \n",
       "2  0.453332    0.517161  0.639802  1.291424  0.968963               NaN   \n",
       "3  0.949461    0.517161  1.127351  1.270469  0.901217               NaN   \n",
       "4  0.424493    0.525251  0.930679  0.725716  0.463470               NaN   \n",
       "\n",
       "      REMEZ  RISHON_LEZION  YAD_LEBANIM  YEFET_YAFO  ...  SDE_YOAV   YAHALOM  \\\n",
       "0  1.419970            NaN     0.370593    0.911001  ... -1.526267 -0.813027   \n",
       "1  1.211345            NaN     0.326946    0.716887  ... -1.237000  0.103117   \n",
       "2  1.211345            NaN     0.399100    0.760907  ... -1.361990  0.472783   \n",
       "3  0.981390            NaN     0.243992    1.012825  ...  0.199313  0.280523   \n",
       "4  1.024112            NaN     0.384904    0.858190  ...  1.137962  0.510009   \n",
       "\n",
       "   BEER_SHEVA  EAST_NEGEV  KFAR_MASARIK   HEFZIBA  PARDES_HANA   RAANANA  \\\n",
       "0    0.291344         NaN      0.920244  0.347986    -1.646407  0.857300   \n",
       "1    0.306621         NaN      1.275206  0.627509    -1.393601  1.125780   \n",
       "2    0.459061         NaN      1.275206  0.809932    -1.623909  0.841020   \n",
       "3    0.291344         NaN      1.641341  0.288483    -1.374069  0.398377   \n",
       "4   -0.067301         NaN      1.320392  0.097221    -1.579753  0.862698   \n",
       "\n",
       "   SHFEYA  NEOT_HAKIKAR  \n",
       "0     NaN           NaN  \n",
       "1     NaN           NaN  \n",
       "2     NaN           NaN  \n",
       "3     NaN           NaN  \n",
       "4     NaN           NaN  \n",
       "\n",
       "[5 rows x 40 columns]"
      ]
     },
     "execution_count": 1175,
     "metadata": {},
     "output_type": "execute_result"
    }
   ],
   "source": [
    "normal_data.head()"
   ]
  },
  {
   "cell_type": "code",
   "execution_count": 1176,
   "metadata": {},
   "outputs": [],
   "source": [
    "# inverse_normal_data = pd.DataFrame(\n",
    "#     pt.inverse_transform(normal_data.values)-0.0000000000001,\n",
    "#     index=normal_data.index,\n",
    "#     columns=normal_data.columns)\n",
    "\n",
    "\n",
    "# inverse_normal_data.head(1)"
   ]
  },
  {
   "cell_type": "code",
   "execution_count": null,
   "metadata": {},
   "outputs": [],
   "source": []
  },
  {
   "cell_type": "code",
   "execution_count": 1177,
   "metadata": {},
   "outputs": [
    {
     "data": {
      "text/plain": [
       "array([[False, False, False, ..., False,  True,  True],\n",
       "       [False, False, False, ..., False,  True,  True],\n",
       "       [False, False, False, ..., False,  True,  True],\n",
       "       ...,\n",
       "       [False, False, False, ..., False, False,  True],\n",
       "       [False, False, False, ..., False, False,  True],\n",
       "       [False, False, False, ..., False, False,  True]])"
      ]
     },
     "execution_count": 1177,
     "metadata": {},
     "output_type": "execute_result"
    },
    {
     "data": {
      "text/plain": [
       "(87647, 40)"
      ]
     },
     "execution_count": 1177,
     "metadata": {},
     "output_type": "execute_result"
    }
   ],
   "source": [
    "# mask all missing values\n",
    "indicator = MissingIndicator(missing_values=np.nan)\n",
    "# mask_missing_values_original = indicator.fit_transform(normal_data)\n",
    "mask_missing_values_original = indicator.fit_transform(r_PM25)\n",
    "mask_missing_values_original\n",
    "mask_missing_values_original.shape"
   ]
  },
  {
   "cell_type": "code",
   "execution_count": null,
   "metadata": {},
   "outputs": [],
   "source": []
  },
  {
   "cell_type": "code",
   "execution_count": 1178,
   "metadata": {},
   "outputs": [],
   "source": [
    "# To use this experimental feature, we need to explicitly ask for it:\n",
    "from sklearn.experimental import enable_iterative_imputer  # noqa\n",
    "from sklearn.impute import SimpleImputer\n",
    "from sklearn.impute import IterativeImputer\n",
    "from sklearn.linear_model import BayesianRidge\n",
    "from sklearn.tree import DecisionTreeRegressor\n",
    "from sklearn.ensemble import ExtraTreesRegressor\n",
    "from sklearn.ensemble import RandomForestRegressor \n",
    "from sklearn.neighbors import KNeighborsRegressor\n",
    "from sklearn.pipeline import make_pipeline\n",
    "from sklearn.model_selection import cross_val_score"
   ]
  },
  {
   "cell_type": "code",
   "execution_count": 1179,
   "metadata": {},
   "outputs": [],
   "source": [
    "rng = np.random.RandomState(0)"
   ]
  },
  {
   "cell_type": "code",
   "execution_count": 1180,
   "metadata": {},
   "outputs": [],
   "source": [
    "def generate_missing_values_for_all_stations(PM25,per):\n",
    "    # per is the percentage of missing values per 1 station, later would be a vector\n",
    "    # of percentages. \n",
    "    # n_features is the number of stations\n",
    "    n_samples, n_features = PM25.shape\n",
    "    X_missing = PM25.copy()\n",
    "    \n",
    "    # Add missing values in per% of the lines (a line is 1 station, all timesteps)\n",
    "    # this is just the average, maybe later I should do it seperately for each station\n",
    "    missing_rate = per\n",
    "    \n",
    "    for f in range(n_features): # for each station       \n",
    "        n_missing_samples = int(n_samples * missing_rate)\n",
    "        missing_samples = np.zeros(n_samples, dtype=np.bool)\n",
    "        missing_samples[: n_missing_samples] = True\n",
    "        rng.shuffle(missing_samples)\n",
    "        X_missing.iloc[missing_samples,f] = np.nan\n",
    "    \n",
    "    return X_missing"
   ]
  },
  {
   "cell_type": "code",
   "execution_count": 1181,
   "metadata": {},
   "outputs": [],
   "source": [
    "# normal data\n",
    "# X_missing = generate_missing_values_for_all_stations(normal_data,0.2)\n",
    "# original data\n",
    "X_missing = generate_missing_values_for_all_stations(r_PM25,0.2)"
   ]
  },
  {
   "cell_type": "code",
   "execution_count": null,
   "metadata": {},
   "outputs": [],
   "source": []
  },
  {
   "cell_type": "code",
   "execution_count": null,
   "metadata": {},
   "outputs": [],
   "source": []
  },
  {
   "cell_type": "code",
   "execution_count": 1182,
   "metadata": {},
   "outputs": [
    {
     "data": {
      "text/plain": [
       "array([[False,  True,  True, ..., False,  True,  True],\n",
       "       [ True, False, False, ..., False,  True,  True],\n",
       "       [ True, False,  True, ..., False,  True,  True],\n",
       "       ...,\n",
       "       [False, False,  True, ..., False, False,  True],\n",
       "       [False,  True, False, ..., False, False,  True],\n",
       "       [False, False,  True, ...,  True, False,  True]])"
      ]
     },
     "execution_count": 1182,
     "metadata": {},
     "output_type": "execute_result"
    },
    {
     "data": {
      "text/plain": [
       "(87647, 40)"
      ]
     },
     "execution_count": 1182,
     "metadata": {},
     "output_type": "execute_result"
    }
   ],
   "source": [
    "mask_missing_values_all = indicator.fit_transform(X_missing)\n",
    "mask_missing_values_all\n",
    "mask_missing_values_all.shape"
   ]
  },
  {
   "cell_type": "code",
   "execution_count": 1183,
   "metadata": {},
   "outputs": [],
   "source": [
    "X_missing['week day']=r_PM25_withDays['week day']\n",
    "X_missing['hour']=r_PM25_withDays['hour']\n",
    "X_missing['month']=r_PM25_withDays['month']"
   ]
  },
  {
   "cell_type": "code",
   "execution_count": 1184,
   "metadata": {},
   "outputs": [],
   "source": [
    "# true = nan\n",
    "a = mask_missing_values_original # here I want false = not nan\n",
    "b = mask_missing_values_all # here I want true = nan"
   ]
  },
  {
   "cell_type": "code",
   "execution_count": 1185,
   "metadata": {},
   "outputs": [
    {
     "data": {
      "text/plain": [
       "array([[False,  True,  True, ..., False, False, False],\n",
       "       [ True, False, False, ..., False, False, False],\n",
       "       [ True, False,  True, ..., False, False, False],\n",
       "       ...,\n",
       "       [False, False,  True, ..., False, False, False],\n",
       "       [False,  True, False, ..., False, False, False],\n",
       "       [False, False,  True, ...,  True, False, False]])"
      ]
     },
     "execution_count": 1185,
     "metadata": {},
     "output_type": "execute_result"
    },
    {
     "data": {
      "text/plain": [
       "array([[ True,  True,  True, ...,  True, False, False],\n",
       "       [ True,  True,  True, ...,  True, False, False],\n",
       "       [ True,  True,  True, ...,  True, False, False],\n",
       "       ...,\n",
       "       [ True,  True,  True, ...,  True,  True, False],\n",
       "       [ True,  True,  True, ...,  True,  True, False],\n",
       "       [ True,  True,  True, ...,  True,  True, False]])"
      ]
     },
     "execution_count": 1185,
     "metadata": {},
     "output_type": "execute_result"
    },
    {
     "data": {
      "text/plain": [
       "array([[False,  True,  True, ..., False,  True,  True],\n",
       "       [ True, False, False, ..., False,  True,  True],\n",
       "       [ True, False,  True, ..., False,  True,  True],\n",
       "       ...,\n",
       "       [False, False,  True, ..., False, False,  True],\n",
       "       [False,  True, False, ..., False, False,  True],\n",
       "       [False, False,  True, ...,  True, False,  True]])"
      ]
     },
     "execution_count": 1185,
     "metadata": {},
     "output_type": "execute_result"
    }
   ],
   "source": [
    "(~a) & (b)\n",
    "~a\n",
    "b"
   ]
  },
  {
   "cell_type": "code",
   "execution_count": 1186,
   "metadata": {},
   "outputs": [],
   "source": [
    "# y missing should be the diff between the original missing and the new generated missing\n",
    "mask = ((~a) & (b))\n",
    "# y_missing = normal_data.mask(~mask)# for validation \n",
    "y_missing = r_PM25.mask(~mask)# for validation "
   ]
  },
  {
   "cell_type": "code",
   "execution_count": 1187,
   "metadata": {},
   "outputs": [
    {
     "data": {
      "text/plain": [
       "(87647, 40)"
      ]
     },
     "execution_count": 1187,
     "metadata": {},
     "output_type": "execute_result"
    },
    {
     "data": {
      "text/plain": [
       "(87647, 43)"
      ]
     },
     "execution_count": 1187,
     "metadata": {},
     "output_type": "execute_result"
    }
   ],
   "source": [
    "y_missing.shape\n",
    "X_missing.shape"
   ]
  },
  {
   "cell_type": "code",
   "execution_count": 1188,
   "metadata": {},
   "outputs": [
    {
     "data": {
      "text/plain": [
       "0.1538845020640641"
      ]
     },
     "execution_count": 1188,
     "metadata": {},
     "output_type": "execute_result"
    },
    {
     "data": {
      "text/plain": [
       "0.20011227555487723"
      ]
     },
     "execution_count": 1188,
     "metadata": {},
     "output_type": "execute_result"
    }
   ],
   "source": [
    "# percentage for validation from a complete dataset\n",
    "(np.sum(np.sum(~y_missing.isnull())))/(105167*35)\n",
    "\n",
    "# percentage for validation from the non-missing data\n",
    "(np.sum(np.sum(~y_missing.isnull())))/(np.sum(np.sum(~mask_missing_values_original)))"
   ]
  },
  {
   "cell_type": "code",
   "execution_count": 1189,
   "metadata": {},
   "outputs": [
    {
     "data": {
      "text/html": [
       "<div>\n",
       "<style scoped>\n",
       "    .dataframe tbody tr th:only-of-type {\n",
       "        vertical-align: middle;\n",
       "    }\n",
       "\n",
       "    .dataframe tbody tr th {\n",
       "        vertical-align: top;\n",
       "    }\n",
       "\n",
       "    .dataframe thead th {\n",
       "        text-align: right;\n",
       "    }\n",
       "</style>\n",
       "<table border=\"1\" class=\"dataframe\">\n",
       "  <thead>\n",
       "    <tr style=\"text-align: right;\">\n",
       "      <th></th>\n",
       "      <th>AFULA</th>\n",
       "      <th>ANTOKOLSKY</th>\n",
       "      <th>HOLON</th>\n",
       "      <th>IRONID</th>\n",
       "      <th>KVISH4</th>\n",
       "      <th>RAKEVET_HASHALOM</th>\n",
       "      <th>REMEZ</th>\n",
       "      <th>RISHON_LEZION</th>\n",
       "      <th>YAD_LEBANIM</th>\n",
       "      <th>YEFET_YAFO</th>\n",
       "      <th>...</th>\n",
       "      <th>SDE_YOAV</th>\n",
       "      <th>YAHALOM</th>\n",
       "      <th>BEER_SHEVA</th>\n",
       "      <th>EAST_NEGEV</th>\n",
       "      <th>KFAR_MASARIK</th>\n",
       "      <th>HEFZIBA</th>\n",
       "      <th>PARDES_HANA</th>\n",
       "      <th>RAANANA</th>\n",
       "      <th>SHFEYA</th>\n",
       "      <th>NEOT_HAKIKAR</th>\n",
       "    </tr>\n",
       "  </thead>\n",
       "  <tbody>\n",
       "    <tr>\n",
       "      <th>0</th>\n",
       "      <td>NaN</td>\n",
       "      <td>19.7</td>\n",
       "      <td>28.7</td>\n",
       "      <td>33.5</td>\n",
       "      <td>NaN</td>\n",
       "      <td>NaN</td>\n",
       "      <td>47.3</td>\n",
       "      <td>NaN</td>\n",
       "      <td>21.2</td>\n",
       "      <td>NaN</td>\n",
       "      <td>...</td>\n",
       "      <td>NaN</td>\n",
       "      <td>9.0</td>\n",
       "      <td>19.6</td>\n",
       "      <td>NaN</td>\n",
       "      <td>29.6</td>\n",
       "      <td>NaN</td>\n",
       "      <td>NaN</td>\n",
       "      <td>NaN</td>\n",
       "      <td>NaN</td>\n",
       "      <td>NaN</td>\n",
       "    </tr>\n",
       "  </tbody>\n",
       "</table>\n",
       "<p>1 rows × 40 columns</p>\n",
       "</div>"
      ],
      "text/plain": [
       "   AFULA  ANTOKOLSKY  HOLON  IRONID  KVISH4  RAKEVET_HASHALOM  REMEZ  \\\n",
       "0    NaN        19.7   28.7    33.5     NaN               NaN   47.3   \n",
       "\n",
       "   RISHON_LEZION  YAD_LEBANIM  YEFET_YAFO  ...  SDE_YOAV  YAHALOM  BEER_SHEVA  \\\n",
       "0            NaN         21.2         NaN  ...       NaN      9.0        19.6   \n",
       "\n",
       "   EAST_NEGEV  KFAR_MASARIK  HEFZIBA  PARDES_HANA  RAANANA  SHFEYA  \\\n",
       "0         NaN          29.6      NaN          NaN      NaN     NaN   \n",
       "\n",
       "   NEOT_HAKIKAR  \n",
       "0           NaN  \n",
       "\n",
       "[1 rows x 40 columns]"
      ]
     },
     "execution_count": 1189,
     "metadata": {},
     "output_type": "execute_result"
    }
   ],
   "source": [
    "y_missing.head(1)"
   ]
  },
  {
   "cell_type": "code",
   "execution_count": 1190,
   "metadata": {},
   "outputs": [
    {
     "data": {
      "text/html": [
       "<div>\n",
       "<style scoped>\n",
       "    .dataframe tbody tr th:only-of-type {\n",
       "        vertical-align: middle;\n",
       "    }\n",
       "\n",
       "    .dataframe tbody tr th {\n",
       "        vertical-align: top;\n",
       "    }\n",
       "\n",
       "    .dataframe thead th {\n",
       "        text-align: right;\n",
       "    }\n",
       "</style>\n",
       "<table border=\"1\" class=\"dataframe\">\n",
       "  <thead>\n",
       "    <tr style=\"text-align: right;\">\n",
       "      <th></th>\n",
       "      <th>AFULA</th>\n",
       "      <th>ANTOKOLSKY</th>\n",
       "      <th>HOLON</th>\n",
       "      <th>IRONID</th>\n",
       "      <th>KVISH4</th>\n",
       "      <th>RAKEVET_HASHALOM</th>\n",
       "      <th>REMEZ</th>\n",
       "      <th>RISHON_LEZION</th>\n",
       "      <th>YAD_LEBANIM</th>\n",
       "      <th>YEFET_YAFO</th>\n",
       "      <th>...</th>\n",
       "      <th>EAST_NEGEV</th>\n",
       "      <th>KFAR_MASARIK</th>\n",
       "      <th>HEFZIBA</th>\n",
       "      <th>PARDES_HANA</th>\n",
       "      <th>RAANANA</th>\n",
       "      <th>SHFEYA</th>\n",
       "      <th>NEOT_HAKIKAR</th>\n",
       "      <th>week day</th>\n",
       "      <th>hour</th>\n",
       "      <th>month</th>\n",
       "    </tr>\n",
       "  </thead>\n",
       "  <tbody>\n",
       "    <tr>\n",
       "      <th>0</th>\n",
       "      <td>27.0</td>\n",
       "      <td>NaN</td>\n",
       "      <td>NaN</td>\n",
       "      <td>NaN</td>\n",
       "      <td>30.1</td>\n",
       "      <td>NaN</td>\n",
       "      <td>NaN</td>\n",
       "      <td>NaN</td>\n",
       "      <td>NaN</td>\n",
       "      <td>31.9</td>\n",
       "      <td>...</td>\n",
       "      <td>NaN</td>\n",
       "      <td>NaN</td>\n",
       "      <td>18.2</td>\n",
       "      <td>6.4</td>\n",
       "      <td>30.0</td>\n",
       "      <td>NaN</td>\n",
       "      <td>NaN</td>\n",
       "      <td>2</td>\n",
       "      <td>0</td>\n",
       "      <td>1</td>\n",
       "    </tr>\n",
       "  </tbody>\n",
       "</table>\n",
       "<p>1 rows × 43 columns</p>\n",
       "</div>"
      ],
      "text/plain": [
       "   AFULA  ANTOKOLSKY  HOLON  IRONID  KVISH4  RAKEVET_HASHALOM  REMEZ  \\\n",
       "0   27.0         NaN    NaN     NaN    30.1               NaN    NaN   \n",
       "\n",
       "   RISHON_LEZION  YAD_LEBANIM  YEFET_YAFO  ...  EAST_NEGEV  KFAR_MASARIK  \\\n",
       "0            NaN          NaN        31.9  ...         NaN           NaN   \n",
       "\n",
       "   HEFZIBA  PARDES_HANA  RAANANA  SHFEYA  NEOT_HAKIKAR  week day  hour  month  \n",
       "0     18.2          6.4     30.0     NaN           NaN         2     0      1  \n",
       "\n",
       "[1 rows x 43 columns]"
      ]
     },
     "execution_count": 1190,
     "metadata": {},
     "output_type": "execute_result"
    }
   ],
   "source": [
    "X_missing.head(1)"
   ]
  },
  {
   "cell_type": "code",
   "execution_count": 1103,
   "metadata": {},
   "outputs": [],
   "source": [
    "# example of fitting and calculating scores\n",
    "imp = IterativeImputer(estimator=ExtraTreesRegressor(n_estimators=10,random_state=0),max_iter=20,verbose=True) \n",
    "# imp = IterativeImputer(estimator=KNeighborsRegressor(),max_iter=20,verbose=True) \n",
    "imp.fit(X_missing) # fit based on the data"
   ]
  },
  {
   "cell_type": "code",
   "execution_count": 385,
   "metadata": {},
   "outputs": [
    {
     "name": "stdout",
     "output_type": "stream",
     "text": [
      "[IterativeImputer] Completing matrix with shape (70127, 41)\n"
     ]
    }
   ],
   "source": [
    "imputed_df = imp.transform(X_missing) # impute it\n",
    "imputed_df = pd.DataFrame(imputed_df, columns=X_missing.columns) #turn it from IterativeImputer object to a dataframe"
   ]
  },
  {
   "cell_type": "code",
   "execution_count": null,
   "metadata": {},
   "outputs": [],
   "source": [
    "# remove after...somehow like that:\n",
    "imputed_df.drop(columns = ['week day','hour','month'])"
   ]
  },
  {
   "cell_type": "code",
   "execution_count": 386,
   "metadata": {},
   "outputs": [],
   "source": [
    "# inverse_imputed_df = pd.DataFrame(\n",
    "#     pt.inverse_transform(imputed_df.values)-1,\n",
    "#     index=imputed_df.index,\n",
    "#     columns=imputed_df.columns)"
   ]
  },
  {
   "cell_type": "code",
   "execution_count": 387,
   "metadata": {},
   "outputs": [
    {
     "data": {
      "text/html": [
       "<div>\n",
       "<style scoped>\n",
       "    .dataframe tbody tr th:only-of-type {\n",
       "        vertical-align: middle;\n",
       "    }\n",
       "\n",
       "    .dataframe tbody tr th {\n",
       "        vertical-align: top;\n",
       "    }\n",
       "\n",
       "    .dataframe thead th {\n",
       "        text-align: right;\n",
       "    }\n",
       "</style>\n",
       "<table border=\"1\" class=\"dataframe\">\n",
       "  <thead>\n",
       "    <tr style=\"text-align: right;\">\n",
       "      <th></th>\n",
       "      <th>AFULA</th>\n",
       "      <th>ANTOKOLSKY</th>\n",
       "      <th>EHAD_HAAM</th>\n",
       "      <th>HOLON</th>\n",
       "      <th>IRONID</th>\n",
       "      <th>KVISH4</th>\n",
       "      <th>RAKEVET_HASHALOM</th>\n",
       "      <th>REMEZ</th>\n",
       "      <th>RISHON_LEZION</th>\n",
       "      <th>YEFET_YAFO</th>\n",
       "      <th>...</th>\n",
       "      <th>SDE_YOAV</th>\n",
       "      <th>YAHALOM</th>\n",
       "      <th>BEER_SHEVA</th>\n",
       "      <th>EAST_NEGEV</th>\n",
       "      <th>KFAR_MASARIK</th>\n",
       "      <th>PARDES_HANA</th>\n",
       "      <th>RAANANA</th>\n",
       "      <th>SHFEYA</th>\n",
       "      <th>ASHALIM</th>\n",
       "      <th>NEOT_HAKIKAR</th>\n",
       "    </tr>\n",
       "  </thead>\n",
       "  <tbody>\n",
       "    <tr>\n",
       "      <th>0</th>\n",
       "      <td>NaN</td>\n",
       "      <td>NaN</td>\n",
       "      <td>NaN</td>\n",
       "      <td>NaN</td>\n",
       "      <td>NaN</td>\n",
       "      <td>47.141210</td>\n",
       "      <td>NaN</td>\n",
       "      <td>NaN</td>\n",
       "      <td>NaN</td>\n",
       "      <td>NaN</td>\n",
       "      <td>...</td>\n",
       "      <td>NaN</td>\n",
       "      <td>NaN</td>\n",
       "      <td>NaN</td>\n",
       "      <td>NaN</td>\n",
       "      <td>NaN</td>\n",
       "      <td>NaN</td>\n",
       "      <td>NaN</td>\n",
       "      <td>NaN</td>\n",
       "      <td>NaN</td>\n",
       "      <td>NaN</td>\n",
       "    </tr>\n",
       "    <tr>\n",
       "      <th>1</th>\n",
       "      <td>NaN</td>\n",
       "      <td>NaN</td>\n",
       "      <td>NaN</td>\n",
       "      <td>NaN</td>\n",
       "      <td>38.536714</td>\n",
       "      <td>NaN</td>\n",
       "      <td>NaN</td>\n",
       "      <td>NaN</td>\n",
       "      <td>NaN</td>\n",
       "      <td>NaN</td>\n",
       "      <td>...</td>\n",
       "      <td>NaN</td>\n",
       "      <td>NaN</td>\n",
       "      <td>NaN</td>\n",
       "      <td>NaN</td>\n",
       "      <td>NaN</td>\n",
       "      <td>31.147228</td>\n",
       "      <td>39.739675</td>\n",
       "      <td>NaN</td>\n",
       "      <td>NaN</td>\n",
       "      <td>NaN</td>\n",
       "    </tr>\n",
       "    <tr>\n",
       "      <th>2</th>\n",
       "      <td>NaN</td>\n",
       "      <td>NaN</td>\n",
       "      <td>NaN</td>\n",
       "      <td>NaN</td>\n",
       "      <td>NaN</td>\n",
       "      <td>45.181653</td>\n",
       "      <td>NaN</td>\n",
       "      <td>NaN</td>\n",
       "      <td>NaN</td>\n",
       "      <td>32.258439</td>\n",
       "      <td>...</td>\n",
       "      <td>NaN</td>\n",
       "      <td>NaN</td>\n",
       "      <td>NaN</td>\n",
       "      <td>NaN</td>\n",
       "      <td>NaN</td>\n",
       "      <td>NaN</td>\n",
       "      <td>NaN</td>\n",
       "      <td>NaN</td>\n",
       "      <td>NaN</td>\n",
       "      <td>NaN</td>\n",
       "    </tr>\n",
       "    <tr>\n",
       "      <th>3</th>\n",
       "      <td>NaN</td>\n",
       "      <td>NaN</td>\n",
       "      <td>NaN</td>\n",
       "      <td>NaN</td>\n",
       "      <td>NaN</td>\n",
       "      <td>NaN</td>\n",
       "      <td>NaN</td>\n",
       "      <td>NaN</td>\n",
       "      <td>NaN</td>\n",
       "      <td>NaN</td>\n",
       "      <td>...</td>\n",
       "      <td>NaN</td>\n",
       "      <td>NaN</td>\n",
       "      <td>NaN</td>\n",
       "      <td>NaN</td>\n",
       "      <td>NaN</td>\n",
       "      <td>NaN</td>\n",
       "      <td>NaN</td>\n",
       "      <td>NaN</td>\n",
       "      <td>NaN</td>\n",
       "      <td>NaN</td>\n",
       "    </tr>\n",
       "    <tr>\n",
       "      <th>4</th>\n",
       "      <td>NaN</td>\n",
       "      <td>NaN</td>\n",
       "      <td>NaN</td>\n",
       "      <td>35.785286</td>\n",
       "      <td>NaN</td>\n",
       "      <td>43.900322</td>\n",
       "      <td>NaN</td>\n",
       "      <td>NaN</td>\n",
       "      <td>NaN</td>\n",
       "      <td>NaN</td>\n",
       "      <td>...</td>\n",
       "      <td>NaN</td>\n",
       "      <td>NaN</td>\n",
       "      <td>NaN</td>\n",
       "      <td>NaN</td>\n",
       "      <td>NaN</td>\n",
       "      <td>NaN</td>\n",
       "      <td>36.140942</td>\n",
       "      <td>NaN</td>\n",
       "      <td>NaN</td>\n",
       "      <td>NaN</td>\n",
       "    </tr>\n",
       "  </tbody>\n",
       "</table>\n",
       "<p>5 rows × 41 columns</p>\n",
       "</div>"
      ],
      "text/plain": [
       "   AFULA  ANTOKOLSKY  EHAD_HAAM      HOLON     IRONID     KVISH4  \\\n",
       "0    NaN         NaN        NaN        NaN        NaN  47.141210   \n",
       "1    NaN         NaN        NaN        NaN  38.536714        NaN   \n",
       "2    NaN         NaN        NaN        NaN        NaN  45.181653   \n",
       "3    NaN         NaN        NaN        NaN        NaN        NaN   \n",
       "4    NaN         NaN        NaN  35.785286        NaN  43.900322   \n",
       "\n",
       "   RAKEVET_HASHALOM  REMEZ  RISHON_LEZION  YEFET_YAFO  ...  SDE_YOAV  YAHALOM  \\\n",
       "0               NaN    NaN            NaN         NaN  ...       NaN      NaN   \n",
       "1               NaN    NaN            NaN         NaN  ...       NaN      NaN   \n",
       "2               NaN    NaN            NaN   32.258439  ...       NaN      NaN   \n",
       "3               NaN    NaN            NaN         NaN  ...       NaN      NaN   \n",
       "4               NaN    NaN            NaN         NaN  ...       NaN      NaN   \n",
       "\n",
       "   BEER_SHEVA  EAST_NEGEV  KFAR_MASARIK  PARDES_HANA    RAANANA  SHFEYA  \\\n",
       "0         NaN         NaN           NaN          NaN        NaN     NaN   \n",
       "1         NaN         NaN           NaN    31.147228  39.739675     NaN   \n",
       "2         NaN         NaN           NaN          NaN        NaN     NaN   \n",
       "3         NaN         NaN           NaN          NaN        NaN     NaN   \n",
       "4         NaN         NaN           NaN          NaN  36.140942     NaN   \n",
       "\n",
       "   ASHALIM  NEOT_HAKIKAR  \n",
       "0      NaN           NaN  \n",
       "1      NaN           NaN  \n",
       "2      NaN           NaN  \n",
       "3      NaN           NaN  \n",
       "4      NaN           NaN  \n",
       "\n",
       "[5 rows x 41 columns]"
      ]
     },
     "execution_count": 387,
     "metadata": {},
     "output_type": "execute_result"
    }
   ],
   "source": [
    "# inverse_imputed_df.mask(~mask).head()"
   ]
  },
  {
   "cell_type": "code",
   "execution_count": 388,
   "metadata": {},
   "outputs": [],
   "source": [
    "# inverse_y_missing = pd.DataFrame(\n",
    "#     pt.inverse_transform(y_missing.values)-1,\n",
    "#     index=y_missing.index,\n",
    "#     columns=y_missing.columns)"
   ]
  },
  {
   "cell_type": "code",
   "execution_count": 389,
   "metadata": {},
   "outputs": [
    {
     "data": {
      "text/html": [
       "<div>\n",
       "<style scoped>\n",
       "    .dataframe tbody tr th:only-of-type {\n",
       "        vertical-align: middle;\n",
       "    }\n",
       "\n",
       "    .dataframe tbody tr th {\n",
       "        vertical-align: top;\n",
       "    }\n",
       "\n",
       "    .dataframe thead th {\n",
       "        text-align: right;\n",
       "    }\n",
       "</style>\n",
       "<table border=\"1\" class=\"dataframe\">\n",
       "  <thead>\n",
       "    <tr style=\"text-align: right;\">\n",
       "      <th></th>\n",
       "      <th>AFULA</th>\n",
       "      <th>ANTOKOLSKY</th>\n",
       "      <th>EHAD_HAAM</th>\n",
       "      <th>HOLON</th>\n",
       "      <th>IRONID</th>\n",
       "      <th>KVISH4</th>\n",
       "      <th>RAKEVET_HASHALOM</th>\n",
       "      <th>REMEZ</th>\n",
       "      <th>RISHON_LEZION</th>\n",
       "      <th>YEFET_YAFO</th>\n",
       "      <th>...</th>\n",
       "      <th>SDE_YOAV</th>\n",
       "      <th>YAHALOM</th>\n",
       "      <th>BEER_SHEVA</th>\n",
       "      <th>EAST_NEGEV</th>\n",
       "      <th>KFAR_MASARIK</th>\n",
       "      <th>PARDES_HANA</th>\n",
       "      <th>RAANANA</th>\n",
       "      <th>SHFEYA</th>\n",
       "      <th>ASHALIM</th>\n",
       "      <th>NEOT_HAKIKAR</th>\n",
       "    </tr>\n",
       "  </thead>\n",
       "  <tbody>\n",
       "    <tr>\n",
       "      <th>0</th>\n",
       "      <td>NaN</td>\n",
       "      <td>NaN</td>\n",
       "      <td>NaN</td>\n",
       "      <td>NaN</td>\n",
       "      <td>NaN</td>\n",
       "      <td>49.4</td>\n",
       "      <td>NaN</td>\n",
       "      <td>NaN</td>\n",
       "      <td>NaN</td>\n",
       "      <td>NaN</td>\n",
       "      <td>...</td>\n",
       "      <td>NaN</td>\n",
       "      <td>NaN</td>\n",
       "      <td>NaN</td>\n",
       "      <td>NaN</td>\n",
       "      <td>NaN</td>\n",
       "      <td>NaN</td>\n",
       "      <td>NaN</td>\n",
       "      <td>NaN</td>\n",
       "      <td>NaN</td>\n",
       "      <td>NaN</td>\n",
       "    </tr>\n",
       "    <tr>\n",
       "      <th>1</th>\n",
       "      <td>NaN</td>\n",
       "      <td>NaN</td>\n",
       "      <td>NaN</td>\n",
       "      <td>NaN</td>\n",
       "      <td>39.5</td>\n",
       "      <td>NaN</td>\n",
       "      <td>NaN</td>\n",
       "      <td>NaN</td>\n",
       "      <td>NaN</td>\n",
       "      <td>NaN</td>\n",
       "      <td>...</td>\n",
       "      <td>NaN</td>\n",
       "      <td>NaN</td>\n",
       "      <td>NaN</td>\n",
       "      <td>NaN</td>\n",
       "      <td>NaN</td>\n",
       "      <td>22.2</td>\n",
       "      <td>44.5</td>\n",
       "      <td>NaN</td>\n",
       "      <td>NaN</td>\n",
       "      <td>NaN</td>\n",
       "    </tr>\n",
       "    <tr>\n",
       "      <th>2</th>\n",
       "      <td>NaN</td>\n",
       "      <td>NaN</td>\n",
       "      <td>NaN</td>\n",
       "      <td>NaN</td>\n",
       "      <td>NaN</td>\n",
       "      <td>37.7</td>\n",
       "      <td>NaN</td>\n",
       "      <td>NaN</td>\n",
       "      <td>NaN</td>\n",
       "      <td>38.3</td>\n",
       "      <td>...</td>\n",
       "      <td>NaN</td>\n",
       "      <td>NaN</td>\n",
       "      <td>NaN</td>\n",
       "      <td>NaN</td>\n",
       "      <td>NaN</td>\n",
       "      <td>NaN</td>\n",
       "      <td>NaN</td>\n",
       "      <td>NaN</td>\n",
       "      <td>NaN</td>\n",
       "      <td>NaN</td>\n",
       "    </tr>\n",
       "    <tr>\n",
       "      <th>3</th>\n",
       "      <td>NaN</td>\n",
       "      <td>NaN</td>\n",
       "      <td>NaN</td>\n",
       "      <td>NaN</td>\n",
       "      <td>NaN</td>\n",
       "      <td>NaN</td>\n",
       "      <td>NaN</td>\n",
       "      <td>NaN</td>\n",
       "      <td>NaN</td>\n",
       "      <td>NaN</td>\n",
       "      <td>...</td>\n",
       "      <td>NaN</td>\n",
       "      <td>NaN</td>\n",
       "      <td>NaN</td>\n",
       "      <td>NaN</td>\n",
       "      <td>NaN</td>\n",
       "      <td>NaN</td>\n",
       "      <td>NaN</td>\n",
       "      <td>NaN</td>\n",
       "      <td>NaN</td>\n",
       "      <td>NaN</td>\n",
       "    </tr>\n",
       "    <tr>\n",
       "      <th>4</th>\n",
       "      <td>NaN</td>\n",
       "      <td>NaN</td>\n",
       "      <td>NaN</td>\n",
       "      <td>43.5</td>\n",
       "      <td>NaN</td>\n",
       "      <td>51.7</td>\n",
       "      <td>NaN</td>\n",
       "      <td>NaN</td>\n",
       "      <td>NaN</td>\n",
       "      <td>NaN</td>\n",
       "      <td>...</td>\n",
       "      <td>NaN</td>\n",
       "      <td>NaN</td>\n",
       "      <td>NaN</td>\n",
       "      <td>NaN</td>\n",
       "      <td>NaN</td>\n",
       "      <td>NaN</td>\n",
       "      <td>47.4</td>\n",
       "      <td>NaN</td>\n",
       "      <td>NaN</td>\n",
       "      <td>NaN</td>\n",
       "    </tr>\n",
       "  </tbody>\n",
       "</table>\n",
       "<p>5 rows × 41 columns</p>\n",
       "</div>"
      ],
      "text/plain": [
       "   AFULA  ANTOKOLSKY  EHAD_HAAM  HOLON  IRONID  KVISH4  RAKEVET_HASHALOM  \\\n",
       "0    NaN         NaN        NaN    NaN     NaN    49.4               NaN   \n",
       "1    NaN         NaN        NaN    NaN    39.5     NaN               NaN   \n",
       "2    NaN         NaN        NaN    NaN     NaN    37.7               NaN   \n",
       "3    NaN         NaN        NaN    NaN     NaN     NaN               NaN   \n",
       "4    NaN         NaN        NaN   43.5     NaN    51.7               NaN   \n",
       "\n",
       "   REMEZ  RISHON_LEZION  YEFET_YAFO  ...  SDE_YOAV  YAHALOM  BEER_SHEVA  \\\n",
       "0    NaN            NaN         NaN  ...       NaN      NaN         NaN   \n",
       "1    NaN            NaN         NaN  ...       NaN      NaN         NaN   \n",
       "2    NaN            NaN        38.3  ...       NaN      NaN         NaN   \n",
       "3    NaN            NaN         NaN  ...       NaN      NaN         NaN   \n",
       "4    NaN            NaN         NaN  ...       NaN      NaN         NaN   \n",
       "\n",
       "   EAST_NEGEV  KFAR_MASARIK  PARDES_HANA  RAANANA  SHFEYA  ASHALIM  \\\n",
       "0         NaN           NaN          NaN      NaN     NaN      NaN   \n",
       "1         NaN           NaN         22.2     44.5     NaN      NaN   \n",
       "2         NaN           NaN          NaN      NaN     NaN      NaN   \n",
       "3         NaN           NaN          NaN      NaN     NaN      NaN   \n",
       "4         NaN           NaN          NaN     47.4     NaN      NaN   \n",
       "\n",
       "   NEOT_HAKIKAR  \n",
       "0           NaN  \n",
       "1           NaN  \n",
       "2           NaN  \n",
       "3           NaN  \n",
       "4           NaN  \n",
       "\n",
       "[5 rows x 41 columns]"
      ]
     },
     "execution_count": 389,
     "metadata": {},
     "output_type": "execute_result"
    }
   ],
   "source": [
    "# inverse_y_missing.head()"
   ]
  },
  {
   "cell_type": "code",
   "execution_count": null,
   "metadata": {},
   "outputs": [],
   "source": []
  },
  {
   "cell_type": "code",
   "execution_count": null,
   "metadata": {},
   "outputs": [],
   "source": []
  },
  {
   "cell_type": "code",
   "execution_count": 340,
   "metadata": {},
   "outputs": [],
   "source": [
    "# Evaluation matrics - MAE, RMSE, R^2, rank product = geometric mean of the all evaluation values"
   ]
  },
  {
   "cell_type": "code",
   "execution_count": 396,
   "metadata": {},
   "outputs": [],
   "source": [
    "from sklearn.metrics import mean_squared_error\n",
    "from sklearn.metrics import median_absolute_error\n",
    "from sklearn.metrics import mean_absolute_error\n",
    "from sklearn.metrics import r2_score\n",
    "\n",
    "# y_train = inverse_y_missing.values\n",
    "y_train = y_missing.values\n",
    "\n",
    "# y_pred = inverse_imputed_df.mask(~mask).values\n",
    "y_pred = imputed_df.mask(~mask).values\n",
    "\n",
    "# take only the not nan in the y_pred if I get not the same size of train and pred\n",
    "y_train = y_train[~np.isnan(y_train)] \n",
    "y_pred = y_pred[~np.isnan(y_pred)]"
   ]
  },
  {
   "cell_type": "code",
   "execution_count": 397,
   "metadata": {},
   "outputs": [
    {
     "data": {
      "text/plain": [
       "(463294,)"
      ]
     },
     "execution_count": 397,
     "metadata": {},
     "output_type": "execute_result"
    },
    {
     "data": {
      "text/plain": [
       "(463294,)"
      ]
     },
     "execution_count": 397,
     "metadata": {},
     "output_type": "execute_result"
    }
   ],
   "source": [
    "y_train.shape\n",
    "y_pred.shape"
   ]
  },
  {
   "cell_type": "code",
   "execution_count": 398,
   "metadata": {},
   "outputs": [
    {
     "data": {
      "text/plain": [
       "11.762999087307026"
      ]
     },
     "execution_count": 398,
     "metadata": {},
     "output_type": "execute_result"
    },
    {
     "data": {
      "text/plain": [
       "4.132968002937209"
      ]
     },
     "execution_count": 398,
     "metadata": {},
     "output_type": "execute_result"
    },
    {
     "data": {
      "text/plain": [
       "6.316781635454806"
      ]
     },
     "execution_count": 398,
     "metadata": {},
     "output_type": "execute_result"
    },
    {
     "data": {
      "text/plain": [
       "0.7552523505505975"
      ]
     },
     "execution_count": 398,
     "metadata": {},
     "output_type": "execute_result"
    }
   ],
   "source": [
    "# RMSE\n",
    "np.sqrt(mean_squared_error(y_train, y_pred))\n",
    "# MAE - median absolute error\n",
    "median_absolute_error(y_train, y_pred)\n",
    "# MAE - mean absolute error\n",
    "mean_absolute_error(y_train,y_pred)\n",
    "# r2\n",
    "r2_score(y_train,y_pred)"
   ]
  },
  {
   "cell_type": "code",
   "execution_count": null,
   "metadata": {},
   "outputs": [],
   "source": []
  },
  {
   "cell_type": "code",
   "execution_count": null,
   "metadata": {},
   "outputs": [],
   "source": []
  },
  {
   "cell_type": "code",
   "execution_count": 98,
   "metadata": {},
   "outputs": [],
   "source": [
    "# compare estimators\n",
    "estimators = [\n",
    "    ExtraTreesRegressor(n_estimators=10,random_state=0), #n_estimators=number of trees in the forest. by default=100, oob_score=True\n",
    "    BayesianRidge(),\n",
    "    DecisionTreeRegressor(random_state=0)\n",
    "\n",
    "#     KNeighborsRegressor(n_neighbors=5)\n",
    "]\n",
    "score_iterative_imputer = pd.DataFrame()"
   ]
  },
  {
   "cell_type": "code",
   "execution_count": null,
   "metadata": {},
   "outputs": [],
   "source": []
  },
  {
   "cell_type": "code",
   "execution_count": 399,
   "metadata": {},
   "outputs": [],
   "source": [
    "for impute_estimator in estimators:\n",
    "    imp = IterativeImputer(estimator=impute_estimator,max_iter=5,verbose=True,tol=0.1) \n",
    "    imp.fit(normal_data) # fit based on the data\n",
    "    imputed_df = imp.transform(normal_data) # impute it\n",
    "    imputed_df = pd.DataFrame(imputed_df, columns=normal_data.columns) #turn it from IterativeImputer object to a dataframe\n",
    "    print(imp.n_iter_)\n",
    "    y_train = y_missing.values\n",
    "    y_train = y_train[~np.isnan(y_train)]\n",
    "\n",
    "    y_pred = imputed_df.mask(~mask).values\n",
    "    y_pred = y_pred[~np.isnan(y_pred)]\n",
    "\n",
    "    # RMSE\n",
    "    rmse = np.sqrt(mean_squared_error(y_train, y_pred))\n",
    "    # MAE - median absolute error\n",
    "    mae1 = median_absolute_error(y_train, y_pred)\n",
    "    # MAE - mean absolute error\n",
    "    mae2 = mean_absolute_error(y_train,y_pred)\n",
    "    # r2\n",
    "    r2 = r2_score(y_train,y_pred)\n",
    "    \n",
    "    score_iterative_imputer[impute_estimator.__class__.__name__] = [rmse, mae1, mae2, r2]\n",
    "    print(score_iterative_imputer)"
   ]
  },
  {
   "cell_type": "code",
   "execution_count": null,
   "metadata": {},
   "outputs": [],
   "source": []
  },
  {
   "cell_type": "code",
   "execution_count": null,
   "metadata": {},
   "outputs": [],
   "source": [
    "score_iterative_imputer"
   ]
  },
  {
   "cell_type": "code",
   "execution_count": 574,
   "metadata": {},
   "outputs": [
    {
     "data": {
      "text/html": [
       "<div>\n",
       "<style scoped>\n",
       "    .dataframe tbody tr th:only-of-type {\n",
       "        vertical-align: middle;\n",
       "    }\n",
       "\n",
       "    .dataframe tbody tr th {\n",
       "        vertical-align: top;\n",
       "    }\n",
       "\n",
       "    .dataframe thead th {\n",
       "        text-align: right;\n",
       "    }\n",
       "</style>\n",
       "<table border=\"1\" class=\"dataframe\">\n",
       "  <thead>\n",
       "    <tr style=\"text-align: right;\">\n",
       "      <th></th>\n",
       "      <th>BayesianRidge</th>\n",
       "      <th>DecisionTreeRegressor</th>\n",
       "      <th>ExtraTreesRegressor</th>\n",
       "    </tr>\n",
       "  </thead>\n",
       "  <tbody>\n",
       "    <tr>\n",
       "      <th>0</th>\n",
       "      <td>11.702753</td>\n",
       "      <td>14.705225</td>\n",
       "      <td>9.949682</td>\n",
       "    </tr>\n",
       "    <tr>\n",
       "      <th>1</th>\n",
       "      <td>4.643725</td>\n",
       "      <td>5.900000</td>\n",
       "      <td>4.150000</td>\n",
       "    </tr>\n",
       "    <tr>\n",
       "      <th>2</th>\n",
       "      <td>6.689493</td>\n",
       "      <td>8.438193</td>\n",
       "      <td>5.868296</td>\n",
       "    </tr>\n",
       "    <tr>\n",
       "      <th>3</th>\n",
       "      <td>0.743382</td>\n",
       "      <td>0.594815</td>\n",
       "      <td>0.814506</td>\n",
       "    </tr>\n",
       "  </tbody>\n",
       "</table>\n",
       "</div>"
      ],
      "text/plain": [
       "   BayesianRidge  DecisionTreeRegressor  ExtraTreesRegressor\n",
       "0      11.702753              14.705225             9.949682\n",
       "1       4.643725               5.900000             4.150000\n",
       "2       6.689493               8.438193             5.868296\n",
       "3       0.743382               0.594815             0.814506"
      ]
     },
     "execution_count": 574,
     "metadata": {},
     "output_type": "execute_result"
    }
   ],
   "source": [
    "score_iterative_imputer"
   ]
  },
  {
   "cell_type": "code",
   "execution_count": null,
   "metadata": {},
   "outputs": [],
   "source": [
    "# still doesn't converge... \n",
    "DecisionTreeRegressor\n",
    "0              14.230203\n",
    "1               5.800000\n",
    "2               8.268127\n",
    "3               0.620569"
   ]
  },
  {
   "cell_type": "code",
   "execution_count": null,
   "metadata": {},
   "outputs": [],
   "source": [
    "# DecisionTreeRegressor doesn't converge.\n",
    "# ExtraTreesRegressor doesn't converge.\n",
    "\n",
    "# tried updating the sklearn version, changing tol to only 0.1, transform data (box-cox)\n",
    "\n",
    "# conclusion - it doesn't matter and doesn't need to converge. as long as it is stable\n",
    "# with each iteration and going down, this is the best that can be achieved. \n",
    "# in addition, it doesn't seem to matter much if I transform the data or not. "
   ]
  },
  {
   "cell_type": "code",
   "execution_count": null,
   "metadata": {},
   "outputs": [],
   "source": [
    "# oob_score_"
   ]
  },
  {
   "cell_type": "code",
   "execution_count": null,
   "metadata": {},
   "outputs": [],
   "source": [
    "# add time of day, day of week and day of year as features.\n",
    "# add other pollutants that were measured at the same time in the station?\n",
    "# add wind/other met data?\n",
    "# will have to scale the features then! (for KNN,)"
   ]
  },
  {
   "cell_type": "code",
   "execution_count": null,
   "metadata": {},
   "outputs": [],
   "source": [
    "# add cross-validation. "
   ]
  },
  {
   "cell_type": "markdown",
   "metadata": {},
   "source": [
    "# SimpleImputer (univariate) - too stupid..."
   ]
  },
  {
   "cell_type": "code",
   "execution_count": null,
   "metadata": {},
   "outputs": [],
   "source": [
    "# compare to imputing with mean, median, most_frequent and constant (SimpleImputer)"
   ]
  },
  {
   "cell_type": "code",
   "execution_count": 419,
   "metadata": {},
   "outputs": [],
   "source": [
    "from sklearn.impute import SimpleImputer"
   ]
  },
  {
   "cell_type": "code",
   "execution_count": 434,
   "metadata": {},
   "outputs": [
    {
     "data": {
      "text/plain": [
       "SimpleImputer(strategy='median')"
      ]
     },
     "execution_count": 434,
     "metadata": {},
     "output_type": "execute_result"
    }
   ],
   "source": [
    "imp_mean = SimpleImputer(missing_values=np.nan, strategy='median')#mean, median,most_frequent,constant\n",
    "imp_mean.fit(X_missing)\n",
    "imputed_by_mean = imp_mean.transform(X_missing) # impute it\n",
    "imputed_by_mean = pd.DataFrame(imputed_by_mean, columns=X_missing.columns) #turn it from IterativeImputer object to a dataframe"
   ]
  },
  {
   "cell_type": "code",
   "execution_count": 435,
   "metadata": {},
   "outputs": [
    {
     "data": {
      "text/html": [
       "<div>\n",
       "<style scoped>\n",
       "    .dataframe tbody tr th:only-of-type {\n",
       "        vertical-align: middle;\n",
       "    }\n",
       "\n",
       "    .dataframe tbody tr th {\n",
       "        vertical-align: top;\n",
       "    }\n",
       "\n",
       "    .dataframe thead th {\n",
       "        text-align: right;\n",
       "    }\n",
       "</style>\n",
       "<table border=\"1\" class=\"dataframe\">\n",
       "  <thead>\n",
       "    <tr style=\"text-align: right;\">\n",
       "      <th></th>\n",
       "      <th>AFULA</th>\n",
       "      <th>ANTOKOLSKY</th>\n",
       "      <th>EHAD_HAAM</th>\n",
       "      <th>HOLON</th>\n",
       "      <th>IRONID</th>\n",
       "      <th>KVISH4</th>\n",
       "      <th>RAKEVET_HASHALOM</th>\n",
       "      <th>REMEZ</th>\n",
       "      <th>RISHON_LEZION</th>\n",
       "      <th>YEFET_YAFO</th>\n",
       "      <th>...</th>\n",
       "      <th>SDE_YOAV</th>\n",
       "      <th>YAHALOM</th>\n",
       "      <th>BEER_SHEVA</th>\n",
       "      <th>EAST_NEGEV</th>\n",
       "      <th>KFAR_MASARIK</th>\n",
       "      <th>PARDES_HANA</th>\n",
       "      <th>RAANANA</th>\n",
       "      <th>SHFEYA</th>\n",
       "      <th>ASHALIM</th>\n",
       "      <th>NEOT_HAKIKAR</th>\n",
       "    </tr>\n",
       "  </thead>\n",
       "  <tbody>\n",
       "    <tr>\n",
       "      <th>0</th>\n",
       "      <td>1.685925</td>\n",
       "      <td>1.610978</td>\n",
       "      <td>0.012316</td>\n",
       "      <td>1.315126</td>\n",
       "      <td>1.347892</td>\n",
       "      <td>0.049609</td>\n",
       "      <td>0.087948</td>\n",
       "      <td>1.228884</td>\n",
       "      <td>0.026124</td>\n",
       "      <td>1.404030</td>\n",
       "      <td>...</td>\n",
       "      <td>1.221014</td>\n",
       "      <td>0.053505</td>\n",
       "      <td>1.309028</td>\n",
       "      <td>-1.003674</td>\n",
       "      <td>0.025561</td>\n",
       "      <td>0.921187</td>\n",
       "      <td>1.618426</td>\n",
       "      <td>-0.001832</td>\n",
       "      <td>-0.042223</td>\n",
       "      <td>-0.022016</td>\n",
       "    </tr>\n",
       "    <tr>\n",
       "      <th>1</th>\n",
       "      <td>1.556205</td>\n",
       "      <td>1.583261</td>\n",
       "      <td>0.012316</td>\n",
       "      <td>1.144117</td>\n",
       "      <td>0.042018</td>\n",
       "      <td>1.477862</td>\n",
       "      <td>0.087948</td>\n",
       "      <td>1.283811</td>\n",
       "      <td>0.026124</td>\n",
       "      <td>1.314047</td>\n",
       "      <td>...</td>\n",
       "      <td>0.318468</td>\n",
       "      <td>0.053505</td>\n",
       "      <td>1.233619</td>\n",
       "      <td>-0.968403</td>\n",
       "      <td>0.025561</td>\n",
       "      <td>0.004202</td>\n",
       "      <td>0.064211</td>\n",
       "      <td>-0.001832</td>\n",
       "      <td>-0.042223</td>\n",
       "      <td>-0.022016</td>\n",
       "    </tr>\n",
       "    <tr>\n",
       "      <th>2</th>\n",
       "      <td>1.313657</td>\n",
       "      <td>1.626586</td>\n",
       "      <td>0.012316</td>\n",
       "      <td>1.282130</td>\n",
       "      <td>1.416765</td>\n",
       "      <td>0.049609</td>\n",
       "      <td>0.087948</td>\n",
       "      <td>1.294579</td>\n",
       "      <td>0.026124</td>\n",
       "      <td>0.000048</td>\n",
       "      <td>...</td>\n",
       "      <td>0.171666</td>\n",
       "      <td>0.053505</td>\n",
       "      <td>1.269528</td>\n",
       "      <td>-0.045240</td>\n",
       "      <td>0.025561</td>\n",
       "      <td>0.269233</td>\n",
       "      <td>1.633583</td>\n",
       "      <td>-0.001832</td>\n",
       "      <td>-0.042223</td>\n",
       "      <td>-0.022016</td>\n",
       "    </tr>\n",
       "    <tr>\n",
       "      <th>3</th>\n",
       "      <td>1.501564</td>\n",
       "      <td>1.583261</td>\n",
       "      <td>0.012316</td>\n",
       "      <td>1.112540</td>\n",
       "      <td>1.475449</td>\n",
       "      <td>1.390382</td>\n",
       "      <td>0.087948</td>\n",
       "      <td>1.438361</td>\n",
       "      <td>0.026124</td>\n",
       "      <td>1.294537</td>\n",
       "      <td>...</td>\n",
       "      <td>0.818307</td>\n",
       "      <td>0.053505</td>\n",
       "      <td>1.360290</td>\n",
       "      <td>-0.124897</td>\n",
       "      <td>0.025561</td>\n",
       "      <td>0.096478</td>\n",
       "      <td>1.552897</td>\n",
       "      <td>-0.001832</td>\n",
       "      <td>-0.042223</td>\n",
       "      <td>-0.022016</td>\n",
       "    </tr>\n",
       "    <tr>\n",
       "      <th>4</th>\n",
       "      <td>1.646158</td>\n",
       "      <td>1.683687</td>\n",
       "      <td>0.012316</td>\n",
       "      <td>0.052167</td>\n",
       "      <td>1.693070</td>\n",
       "      <td>0.049609</td>\n",
       "      <td>0.087948</td>\n",
       "      <td>1.336959</td>\n",
       "      <td>0.026124</td>\n",
       "      <td>1.338152</td>\n",
       "      <td>...</td>\n",
       "      <td>0.691274</td>\n",
       "      <td>0.053505</td>\n",
       "      <td>1.233619</td>\n",
       "      <td>-0.415511</td>\n",
       "      <td>0.025561</td>\n",
       "      <td>-0.004401</td>\n",
       "      <td>0.064211</td>\n",
       "      <td>-0.001832</td>\n",
       "      <td>-0.042223</td>\n",
       "      <td>-0.022016</td>\n",
       "    </tr>\n",
       "    <tr>\n",
       "      <th>...</th>\n",
       "      <td>...</td>\n",
       "      <td>...</td>\n",
       "      <td>...</td>\n",
       "      <td>...</td>\n",
       "      <td>...</td>\n",
       "      <td>...</td>\n",
       "      <td>...</td>\n",
       "      <td>...</td>\n",
       "      <td>...</td>\n",
       "      <td>...</td>\n",
       "      <td>...</td>\n",
       "      <td>...</td>\n",
       "      <td>...</td>\n",
       "      <td>...</td>\n",
       "      <td>...</td>\n",
       "      <td>...</td>\n",
       "      <td>...</td>\n",
       "      <td>...</td>\n",
       "      <td>...</td>\n",
       "      <td>...</td>\n",
       "      <td>...</td>\n",
       "    </tr>\n",
       "    <tr>\n",
       "      <th>70122</th>\n",
       "      <td>0.267715</td>\n",
       "      <td>0.021163</td>\n",
       "      <td>0.012316</td>\n",
       "      <td>0.052167</td>\n",
       "      <td>0.042018</td>\n",
       "      <td>0.049609</td>\n",
       "      <td>0.776105</td>\n",
       "      <td>0.037004</td>\n",
       "      <td>0.749435</td>\n",
       "      <td>0.000048</td>\n",
       "      <td>...</td>\n",
       "      <td>-1.070953</td>\n",
       "      <td>0.053505</td>\n",
       "      <td>0.038151</td>\n",
       "      <td>-0.883550</td>\n",
       "      <td>0.738323</td>\n",
       "      <td>0.848670</td>\n",
       "      <td>-0.126019</td>\n",
       "      <td>0.217962</td>\n",
       "      <td>-0.042223</td>\n",
       "      <td>-0.022016</td>\n",
       "    </tr>\n",
       "    <tr>\n",
       "      <th>70123</th>\n",
       "      <td>0.227184</td>\n",
       "      <td>0.021163</td>\n",
       "      <td>1.579692</td>\n",
       "      <td>0.817513</td>\n",
       "      <td>0.530337</td>\n",
       "      <td>0.049609</td>\n",
       "      <td>0.673360</td>\n",
       "      <td>0.806350</td>\n",
       "      <td>0.336296</td>\n",
       "      <td>1.259894</td>\n",
       "      <td>...</td>\n",
       "      <td>0.096511</td>\n",
       "      <td>0.053505</td>\n",
       "      <td>0.155183</td>\n",
       "      <td>0.663942</td>\n",
       "      <td>0.423558</td>\n",
       "      <td>1.139652</td>\n",
       "      <td>1.008320</td>\n",
       "      <td>0.217962</td>\n",
       "      <td>-0.042223</td>\n",
       "      <td>-0.022016</td>\n",
       "    </tr>\n",
       "    <tr>\n",
       "      <th>70124</th>\n",
       "      <td>0.747385</td>\n",
       "      <td>0.999511</td>\n",
       "      <td>1.295739</td>\n",
       "      <td>0.052167</td>\n",
       "      <td>0.868257</td>\n",
       "      <td>0.049609</td>\n",
       "      <td>0.621507</td>\n",
       "      <td>0.742414</td>\n",
       "      <td>0.423314</td>\n",
       "      <td>1.376082</td>\n",
       "      <td>...</td>\n",
       "      <td>-0.771387</td>\n",
       "      <td>0.053505</td>\n",
       "      <td>0.320377</td>\n",
       "      <td>0.058145</td>\n",
       "      <td>0.245524</td>\n",
       "      <td>1.119797</td>\n",
       "      <td>0.103174</td>\n",
       "      <td>-0.001832</td>\n",
       "      <td>-0.042223</td>\n",
       "      <td>-0.022016</td>\n",
       "    </tr>\n",
       "    <tr>\n",
       "      <th>70125</th>\n",
       "      <td>0.513696</td>\n",
       "      <td>1.045847</td>\n",
       "      <td>1.284311</td>\n",
       "      <td>0.541903</td>\n",
       "      <td>0.530337</td>\n",
       "      <td>0.049609</td>\n",
       "      <td>0.152711</td>\n",
       "      <td>0.037004</td>\n",
       "      <td>0.254264</td>\n",
       "      <td>1.503055</td>\n",
       "      <td>...</td>\n",
       "      <td>0.001119</td>\n",
       "      <td>0.053505</td>\n",
       "      <td>0.634323</td>\n",
       "      <td>0.058145</td>\n",
       "      <td>0.025561</td>\n",
       "      <td>0.876860</td>\n",
       "      <td>0.952939</td>\n",
       "      <td>0.111685</td>\n",
       "      <td>-0.042223</td>\n",
       "      <td>-0.022016</td>\n",
       "    </tr>\n",
       "    <tr>\n",
       "      <th>70126</th>\n",
       "      <td>-0.307792</td>\n",
       "      <td>0.921120</td>\n",
       "      <td>1.329782</td>\n",
       "      <td>1.524192</td>\n",
       "      <td>0.905617</td>\n",
       "      <td>0.049609</td>\n",
       "      <td>-0.121664</td>\n",
       "      <td>0.752416</td>\n",
       "      <td>0.026124</td>\n",
       "      <td>1.520505</td>\n",
       "      <td>...</td>\n",
       "      <td>0.564992</td>\n",
       "      <td>0.053505</td>\n",
       "      <td>0.741282</td>\n",
       "      <td>0.180688</td>\n",
       "      <td>0.376287</td>\n",
       "      <td>0.899141</td>\n",
       "      <td>0.064211</td>\n",
       "      <td>-0.001832</td>\n",
       "      <td>-0.042223</td>\n",
       "      <td>-0.022016</td>\n",
       "    </tr>\n",
       "  </tbody>\n",
       "</table>\n",
       "<p>70127 rows × 41 columns</p>\n",
       "</div>"
      ],
      "text/plain": [
       "          AFULA  ANTOKOLSKY  EHAD_HAAM     HOLON    IRONID    KVISH4  \\\n",
       "0      1.685925    1.610978   0.012316  1.315126  1.347892  0.049609   \n",
       "1      1.556205    1.583261   0.012316  1.144117  0.042018  1.477862   \n",
       "2      1.313657    1.626586   0.012316  1.282130  1.416765  0.049609   \n",
       "3      1.501564    1.583261   0.012316  1.112540  1.475449  1.390382   \n",
       "4      1.646158    1.683687   0.012316  0.052167  1.693070  0.049609   \n",
       "...         ...         ...        ...       ...       ...       ...   \n",
       "70122  0.267715    0.021163   0.012316  0.052167  0.042018  0.049609   \n",
       "70123  0.227184    0.021163   1.579692  0.817513  0.530337  0.049609   \n",
       "70124  0.747385    0.999511   1.295739  0.052167  0.868257  0.049609   \n",
       "70125  0.513696    1.045847   1.284311  0.541903  0.530337  0.049609   \n",
       "70126 -0.307792    0.921120   1.329782  1.524192  0.905617  0.049609   \n",
       "\n",
       "       RAKEVET_HASHALOM     REMEZ  RISHON_LEZION  YEFET_YAFO  ...  SDE_YOAV  \\\n",
       "0              0.087948  1.228884       0.026124    1.404030  ...  1.221014   \n",
       "1              0.087948  1.283811       0.026124    1.314047  ...  0.318468   \n",
       "2              0.087948  1.294579       0.026124    0.000048  ...  0.171666   \n",
       "3              0.087948  1.438361       0.026124    1.294537  ...  0.818307   \n",
       "4              0.087948  1.336959       0.026124    1.338152  ...  0.691274   \n",
       "...                 ...       ...            ...         ...  ...       ...   \n",
       "70122          0.776105  0.037004       0.749435    0.000048  ... -1.070953   \n",
       "70123          0.673360  0.806350       0.336296    1.259894  ...  0.096511   \n",
       "70124          0.621507  0.742414       0.423314    1.376082  ... -0.771387   \n",
       "70125          0.152711  0.037004       0.254264    1.503055  ...  0.001119   \n",
       "70126         -0.121664  0.752416       0.026124    1.520505  ...  0.564992   \n",
       "\n",
       "        YAHALOM  BEER_SHEVA  EAST_NEGEV  KFAR_MASARIK  PARDES_HANA   RAANANA  \\\n",
       "0      0.053505    1.309028   -1.003674      0.025561     0.921187  1.618426   \n",
       "1      0.053505    1.233619   -0.968403      0.025561     0.004202  0.064211   \n",
       "2      0.053505    1.269528   -0.045240      0.025561     0.269233  1.633583   \n",
       "3      0.053505    1.360290   -0.124897      0.025561     0.096478  1.552897   \n",
       "4      0.053505    1.233619   -0.415511      0.025561    -0.004401  0.064211   \n",
       "...         ...         ...         ...           ...          ...       ...   \n",
       "70122  0.053505    0.038151   -0.883550      0.738323     0.848670 -0.126019   \n",
       "70123  0.053505    0.155183    0.663942      0.423558     1.139652  1.008320   \n",
       "70124  0.053505    0.320377    0.058145      0.245524     1.119797  0.103174   \n",
       "70125  0.053505    0.634323    0.058145      0.025561     0.876860  0.952939   \n",
       "70126  0.053505    0.741282    0.180688      0.376287     0.899141  0.064211   \n",
       "\n",
       "         SHFEYA   ASHALIM  NEOT_HAKIKAR  \n",
       "0     -0.001832 -0.042223     -0.022016  \n",
       "1     -0.001832 -0.042223     -0.022016  \n",
       "2     -0.001832 -0.042223     -0.022016  \n",
       "3     -0.001832 -0.042223     -0.022016  \n",
       "4     -0.001832 -0.042223     -0.022016  \n",
       "...         ...       ...           ...  \n",
       "70122  0.217962 -0.042223     -0.022016  \n",
       "70123  0.217962 -0.042223     -0.022016  \n",
       "70124 -0.001832 -0.042223     -0.022016  \n",
       "70125  0.111685 -0.042223     -0.022016  \n",
       "70126 -0.001832 -0.042223     -0.022016  \n",
       "\n",
       "[70127 rows x 41 columns]"
      ]
     },
     "execution_count": 435,
     "metadata": {},
     "output_type": "execute_result"
    }
   ],
   "source": [
    "imputed_by_mean"
   ]
  },
  {
   "cell_type": "code",
   "execution_count": null,
   "metadata": {},
   "outputs": [],
   "source": []
  },
  {
   "cell_type": "code",
   "execution_count": 436,
   "metadata": {},
   "outputs": [],
   "source": [
    "inverse_imputed_by_mean = pd.DataFrame(\n",
    "    pt.inverse_transform(imputed_by_mean.values)-1,\n",
    "    index=imputed_by_mean.index,\n",
    "    columns=imputed_by_mean.columns)"
   ]
  },
  {
   "cell_type": "code",
   "execution_count": 437,
   "metadata": {},
   "outputs": [
    {
     "data": {
      "text/html": [
       "<div>\n",
       "<style scoped>\n",
       "    .dataframe tbody tr th:only-of-type {\n",
       "        vertical-align: middle;\n",
       "    }\n",
       "\n",
       "    .dataframe tbody tr th {\n",
       "        vertical-align: top;\n",
       "    }\n",
       "\n",
       "    .dataframe thead th {\n",
       "        text-align: right;\n",
       "    }\n",
       "</style>\n",
       "<table border=\"1\" class=\"dataframe\">\n",
       "  <thead>\n",
       "    <tr style=\"text-align: right;\">\n",
       "      <th></th>\n",
       "      <th>AFULA</th>\n",
       "      <th>ANTOKOLSKY</th>\n",
       "      <th>EHAD_HAAM</th>\n",
       "      <th>HOLON</th>\n",
       "      <th>IRONID</th>\n",
       "      <th>KVISH4</th>\n",
       "      <th>RAKEVET_HASHALOM</th>\n",
       "      <th>REMEZ</th>\n",
       "      <th>RISHON_LEZION</th>\n",
       "      <th>YEFET_YAFO</th>\n",
       "      <th>...</th>\n",
       "      <th>SDE_YOAV</th>\n",
       "      <th>YAHALOM</th>\n",
       "      <th>BEER_SHEVA</th>\n",
       "      <th>EAST_NEGEV</th>\n",
       "      <th>KFAR_MASARIK</th>\n",
       "      <th>PARDES_HANA</th>\n",
       "      <th>RAANANA</th>\n",
       "      <th>SHFEYA</th>\n",
       "      <th>ASHALIM</th>\n",
       "      <th>NEOT_HAKIKAR</th>\n",
       "    </tr>\n",
       "  </thead>\n",
       "  <tbody>\n",
       "    <tr>\n",
       "      <th>0</th>\n",
       "      <td>NaN</td>\n",
       "      <td>NaN</td>\n",
       "      <td>NaN</td>\n",
       "      <td>NaN</td>\n",
       "      <td>NaN</td>\n",
       "      <td>20.0</td>\n",
       "      <td>NaN</td>\n",
       "      <td>NaN</td>\n",
       "      <td>NaN</td>\n",
       "      <td>NaN</td>\n",
       "      <td>...</td>\n",
       "      <td>NaN</td>\n",
       "      <td>NaN</td>\n",
       "      <td>NaN</td>\n",
       "      <td>NaN</td>\n",
       "      <td>NaN</td>\n",
       "      <td>NaN</td>\n",
       "      <td>NaN</td>\n",
       "      <td>NaN</td>\n",
       "      <td>NaN</td>\n",
       "      <td>NaN</td>\n",
       "    </tr>\n",
       "    <tr>\n",
       "      <th>1</th>\n",
       "      <td>NaN</td>\n",
       "      <td>NaN</td>\n",
       "      <td>NaN</td>\n",
       "      <td>NaN</td>\n",
       "      <td>16.6</td>\n",
       "      <td>NaN</td>\n",
       "      <td>NaN</td>\n",
       "      <td>NaN</td>\n",
       "      <td>NaN</td>\n",
       "      <td>NaN</td>\n",
       "      <td>...</td>\n",
       "      <td>NaN</td>\n",
       "      <td>NaN</td>\n",
       "      <td>NaN</td>\n",
       "      <td>NaN</td>\n",
       "      <td>NaN</td>\n",
       "      <td>20.3</td>\n",
       "      <td>18.1</td>\n",
       "      <td>NaN</td>\n",
       "      <td>NaN</td>\n",
       "      <td>NaN</td>\n",
       "    </tr>\n",
       "    <tr>\n",
       "      <th>2</th>\n",
       "      <td>NaN</td>\n",
       "      <td>NaN</td>\n",
       "      <td>NaN</td>\n",
       "      <td>NaN</td>\n",
       "      <td>NaN</td>\n",
       "      <td>20.0</td>\n",
       "      <td>NaN</td>\n",
       "      <td>NaN</td>\n",
       "      <td>NaN</td>\n",
       "      <td>20.0</td>\n",
       "      <td>...</td>\n",
       "      <td>NaN</td>\n",
       "      <td>NaN</td>\n",
       "      <td>NaN</td>\n",
       "      <td>NaN</td>\n",
       "      <td>NaN</td>\n",
       "      <td>NaN</td>\n",
       "      <td>NaN</td>\n",
       "      <td>NaN</td>\n",
       "      <td>NaN</td>\n",
       "      <td>NaN</td>\n",
       "    </tr>\n",
       "    <tr>\n",
       "      <th>3</th>\n",
       "      <td>NaN</td>\n",
       "      <td>NaN</td>\n",
       "      <td>NaN</td>\n",
       "      <td>NaN</td>\n",
       "      <td>NaN</td>\n",
       "      <td>NaN</td>\n",
       "      <td>NaN</td>\n",
       "      <td>NaN</td>\n",
       "      <td>NaN</td>\n",
       "      <td>NaN</td>\n",
       "      <td>...</td>\n",
       "      <td>NaN</td>\n",
       "      <td>NaN</td>\n",
       "      <td>NaN</td>\n",
       "      <td>NaN</td>\n",
       "      <td>NaN</td>\n",
       "      <td>NaN</td>\n",
       "      <td>NaN</td>\n",
       "      <td>NaN</td>\n",
       "      <td>NaN</td>\n",
       "      <td>NaN</td>\n",
       "    </tr>\n",
       "    <tr>\n",
       "      <th>4</th>\n",
       "      <td>NaN</td>\n",
       "      <td>NaN</td>\n",
       "      <td>NaN</td>\n",
       "      <td>17.2</td>\n",
       "      <td>NaN</td>\n",
       "      <td>20.0</td>\n",
       "      <td>NaN</td>\n",
       "      <td>NaN</td>\n",
       "      <td>NaN</td>\n",
       "      <td>NaN</td>\n",
       "      <td>...</td>\n",
       "      <td>NaN</td>\n",
       "      <td>NaN</td>\n",
       "      <td>NaN</td>\n",
       "      <td>NaN</td>\n",
       "      <td>NaN</td>\n",
       "      <td>NaN</td>\n",
       "      <td>18.1</td>\n",
       "      <td>NaN</td>\n",
       "      <td>NaN</td>\n",
       "      <td>NaN</td>\n",
       "    </tr>\n",
       "  </tbody>\n",
       "</table>\n",
       "<p>5 rows × 41 columns</p>\n",
       "</div>"
      ],
      "text/plain": [
       "   AFULA  ANTOKOLSKY  EHAD_HAAM  HOLON  IRONID  KVISH4  RAKEVET_HASHALOM  \\\n",
       "0    NaN         NaN        NaN    NaN     NaN    20.0               NaN   \n",
       "1    NaN         NaN        NaN    NaN    16.6     NaN               NaN   \n",
       "2    NaN         NaN        NaN    NaN     NaN    20.0               NaN   \n",
       "3    NaN         NaN        NaN    NaN     NaN     NaN               NaN   \n",
       "4    NaN         NaN        NaN   17.2     NaN    20.0               NaN   \n",
       "\n",
       "   REMEZ  RISHON_LEZION  YEFET_YAFO  ...  SDE_YOAV  YAHALOM  BEER_SHEVA  \\\n",
       "0    NaN            NaN         NaN  ...       NaN      NaN         NaN   \n",
       "1    NaN            NaN         NaN  ...       NaN      NaN         NaN   \n",
       "2    NaN            NaN        20.0  ...       NaN      NaN         NaN   \n",
       "3    NaN            NaN         NaN  ...       NaN      NaN         NaN   \n",
       "4    NaN            NaN         NaN  ...       NaN      NaN         NaN   \n",
       "\n",
       "   EAST_NEGEV  KFAR_MASARIK  PARDES_HANA  RAANANA  SHFEYA  ASHALIM  \\\n",
       "0         NaN           NaN          NaN      NaN     NaN      NaN   \n",
       "1         NaN           NaN         20.3     18.1     NaN      NaN   \n",
       "2         NaN           NaN          NaN      NaN     NaN      NaN   \n",
       "3         NaN           NaN          NaN      NaN     NaN      NaN   \n",
       "4         NaN           NaN          NaN     18.1     NaN      NaN   \n",
       "\n",
       "   NEOT_HAKIKAR  \n",
       "0           NaN  \n",
       "1           NaN  \n",
       "2           NaN  \n",
       "3           NaN  \n",
       "4           NaN  \n",
       "\n",
       "[5 rows x 41 columns]"
      ]
     },
     "execution_count": 437,
     "metadata": {},
     "output_type": "execute_result"
    }
   ],
   "source": [
    "inverse_imputed_by_mean.mask(~mask).head()"
   ]
  },
  {
   "cell_type": "code",
   "execution_count": null,
   "metadata": {},
   "outputs": [],
   "source": []
  },
  {
   "cell_type": "code",
   "execution_count": 438,
   "metadata": {},
   "outputs": [],
   "source": [
    "from sklearn.metrics import mean_squared_error\n",
    "from sklearn.metrics import median_absolute_error\n",
    "from sklearn.metrics import mean_absolute_error\n",
    "from sklearn.metrics import r2_score\n",
    "\n",
    "y_train = inverse_y_missing.values\n",
    "\n",
    "y_pred = inverse_imputed_by_mean.mask(~mask).values\n",
    "\n",
    "# take only the not nan in the y_pred if I get not the same size of train and pred\n",
    "y_train = y_train[~np.isnan(y_train)] \n",
    "y_pred = y_pred[~np.isnan(y_pred)]"
   ]
  },
  {
   "cell_type": "code",
   "execution_count": 439,
   "metadata": {},
   "outputs": [
    {
     "data": {
      "text/plain": [
       "(463294,)"
      ]
     },
     "execution_count": 439,
     "metadata": {},
     "output_type": "execute_result"
    },
    {
     "data": {
      "text/plain": [
       "(463294,)"
      ]
     },
     "execution_count": 439,
     "metadata": {},
     "output_type": "execute_result"
    }
   ],
   "source": [
    "y_train.shape\n",
    "y_pred.shape"
   ]
  },
  {
   "cell_type": "code",
   "execution_count": 440,
   "metadata": {},
   "outputs": [
    {
     "data": {
      "text/plain": [
       "23.301258669053198"
      ]
     },
     "execution_count": 440,
     "metadata": {},
     "output_type": "execute_result"
    },
    {
     "data": {
      "text/plain": [
       "6.199999999999983"
      ]
     },
     "execution_count": 440,
     "metadata": {},
     "output_type": "execute_result"
    },
    {
     "data": {
      "text/plain": [
       "9.84942282870057"
      ]
     },
     "execution_count": 440,
     "metadata": {},
     "output_type": "execute_result"
    },
    {
     "data": {
      "text/plain": [
       "0.03962429508086884"
      ]
     },
     "execution_count": 440,
     "metadata": {},
     "output_type": "execute_result"
    }
   ],
   "source": [
    "# RMSE\n",
    "np.sqrt(mean_squared_error(y_train, y_pred))\n",
    "# MAE - median absolute error\n",
    "median_absolute_error(y_train, y_pred)\n",
    "# MAE - mean absolute error\n",
    "mean_absolute_error(y_train,y_pred)\n",
    "# r2\n",
    "r2_score(y_train,y_pred)"
   ]
  },
  {
   "cell_type": "code",
   "execution_count": null,
   "metadata": {},
   "outputs": [],
   "source": []
  },
  {
   "cell_type": "markdown",
   "metadata": {},
   "source": [
    "# imputing by the monthly/weekly/hourly mean "
   ]
  },
  {
   "cell_type": "code",
   "execution_count": 1196,
   "metadata": {},
   "outputs": [],
   "source": [
    "r_PM25['datetime'] = pd.to_datetime(times)"
   ]
  },
  {
   "cell_type": "code",
   "execution_count": 1197,
   "metadata": {},
   "outputs": [],
   "source": [
    "means_to_impute_by = r_PM25.groupby([r_PM25.datetime.dt.month, r_PM25.datetime.dt.weekday_name, r_PM25.datetime.dt.hour]).mean()"
   ]
  },
  {
   "cell_type": "code",
   "execution_count": 1198,
   "metadata": {},
   "outputs": [],
   "source": [
    "X_missing.drop(['week day','hour','month'],axis = 1, inplace=True)"
   ]
  },
  {
   "cell_type": "code",
   "execution_count": 1199,
   "metadata": {},
   "outputs": [],
   "source": [
    "imputed_df = X_missing.copy()"
   ]
  },
  {
   "cell_type": "code",
   "execution_count": 1200,
   "metadata": {},
   "outputs": [
    {
     "data": {
      "application/vnd.jupyter.widget-view+json": {
       "model_id": "b896389ea2ad4d85b3f377d8f12af98e",
       "version_major": 2,
       "version_minor": 0
      },
      "text/html": [
       "<p>Failed to display Jupyter Widget of type <code>HBox</code>.</p>\n",
       "<p>\n",
       "  If you're reading this message in the Jupyter Notebook or JupyterLab Notebook, it may mean\n",
       "  that the widgets JavaScript is still loading. If this message persists, it\n",
       "  likely means that the widgets JavaScript library is either not installed or\n",
       "  not enabled. See the <a href=\"https://ipywidgets.readthedocs.io/en/stable/user_install.html\">Jupyter\n",
       "  Widgets Documentation</a> for setup instructions.\n",
       "</p>\n",
       "<p>\n",
       "  If you're reading this message in another frontend (for example, a static\n",
       "  rendering on GitHub or <a href=\"https://nbviewer.jupyter.org/\">NBViewer</a>),\n",
       "  it may mean that your frontend doesn't currently support widgets.\n",
       "</p>\n"
      ],
      "text/plain": [
       "HBox(children=(IntProgress(value=0, max=87647), HTML(value='')))"
      ]
     },
     "metadata": {},
     "output_type": "display_data"
    },
    {
     "name": "stdout",
     "output_type": "stream",
     "text": [
      "\n"
     ]
    }
   ],
   "source": [
    "times_dt = pd.to_datetime(times)\n",
    "for i in tqdm(range(len(imputed_df))):\n",
    "    idx = np.argwhere(imputed_df.iloc[i,:].isnull()).ravel()\n",
    "    imputed_df.iloc[i,idx] = means_to_impute_by.loc[(times_dt[i].month,times_dt[i].weekday_name,times_dt[i].hour),:].values[idx]"
   ]
  },
  {
   "cell_type": "code",
   "execution_count": null,
   "metadata": {},
   "outputs": [],
   "source": []
  },
  {
   "cell_type": "code",
   "execution_count": 1203,
   "metadata": {},
   "outputs": [],
   "source": [
    "from sklearn.metrics import mean_squared_error\n",
    "from sklearn.metrics import median_absolute_error\n",
    "from sklearn.metrics import mean_absolute_error\n",
    "from sklearn.metrics import r2_score\n",
    "\n",
    "# y_train = inverse_y_missing.values\n",
    "y_train = y_missing.values\n",
    "\n",
    "# y_pred = inverse_imputed_df.mask(~mask).values\n",
    "y_pred = imputed_df.mask(~mask).values\n",
    "\n",
    "# take only the not nan in the y_pred if I get not the same size of train and pred\n",
    "y_train = y_train[~np.isnan(y_train)] \n",
    "y_pred = y_pred[~np.isnan(y_pred)]"
   ]
  },
  {
   "cell_type": "code",
   "execution_count": 1204,
   "metadata": {},
   "outputs": [
    {
     "data": {
      "text/plain": [
       "(566425,)"
      ]
     },
     "execution_count": 1204,
     "metadata": {},
     "output_type": "execute_result"
    },
    {
     "data": {
      "text/plain": [
       "(566425,)"
      ]
     },
     "execution_count": 1204,
     "metadata": {},
     "output_type": "execute_result"
    }
   ],
   "source": [
    "y_train.shape\n",
    "y_pred.shape"
   ]
  },
  {
   "cell_type": "code",
   "execution_count": 1205,
   "metadata": {},
   "outputs": [
    {
     "data": {
      "text/plain": [
       "22.100525529514698"
      ]
     },
     "execution_count": 1205,
     "metadata": {},
     "output_type": "execute_result"
    },
    {
     "data": {
      "text/plain": [
       "6.5"
      ]
     },
     "execution_count": 1205,
     "metadata": {},
     "output_type": "execute_result"
    },
    {
     "data": {
      "text/plain": [
       "9.79074837591747"
      ]
     },
     "execution_count": 1205,
     "metadata": {},
     "output_type": "execute_result"
    },
    {
     "data": {
      "text/plain": [
       "0.1354472802974317"
      ]
     },
     "execution_count": 1205,
     "metadata": {},
     "output_type": "execute_result"
    }
   ],
   "source": [
    "# RMSE\n",
    "np.sqrt(mean_squared_error(y_train, y_pred))\n",
    "# MAE - median absolute error\n",
    "median_absolute_error(y_train, y_pred)\n",
    "# MAE - mean absolute error\n",
    "mean_absolute_error(y_train,y_pred)\n",
    "# r2\n",
    "r2_score(y_train,y_pred)"
   ]
  },
  {
   "cell_type": "code",
   "execution_count": null,
   "metadata": {},
   "outputs": [],
   "source": []
  },
  {
   "cell_type": "markdown",
   "metadata": {},
   "source": [
    "# Other Univariate models "
   ]
  },
  {
   "cell_type": "code",
   "execution_count": null,
   "metadata": {},
   "outputs": [],
   "source": [
    "# ARIMA/LSTM/Prophet?"
   ]
  },
  {
   "cell_type": "code",
   "execution_count": null,
   "metadata": {},
   "outputs": [],
   "source": []
  },
  {
   "cell_type": "code",
   "execution_count": null,
   "metadata": {},
   "outputs": [],
   "source": []
  },
  {
   "cell_type": "code",
   "execution_count": null,
   "metadata": {},
   "outputs": [],
   "source": []
  },
  {
   "cell_type": "code",
   "execution_count": null,
   "metadata": {},
   "outputs": [],
   "source": []
  },
  {
   "cell_type": "markdown",
   "metadata": {},
   "source": [
    "# My implementation of KNN"
   ]
  },
  {
   "cell_type": "code",
   "execution_count": null,
   "metadata": {},
   "outputs": [],
   "source": []
  },
  {
   "cell_type": "code",
   "execution_count": null,
   "metadata": {},
   "outputs": [],
   "source": []
  },
  {
   "cell_type": "code",
   "execution_count": null,
   "metadata": {},
   "outputs": [],
   "source": []
  },
  {
   "cell_type": "code",
   "execution_count": null,
   "metadata": {},
   "outputs": [],
   "source": []
  },
  {
   "cell_type": "markdown",
   "metadata": {},
   "source": [
    "it might be interesting to use met. data and time of day and to see according to the way they contribute (or not), just how PM2.5 is correlated with them. the eqvivalent of using the arima or prophet that account for seasonality and so on is to add as predictors met. data and time of day/week/year. "
   ]
  },
  {
   "cell_type": "code",
   "execution_count": null,
   "metadata": {},
   "outputs": [],
   "source": []
  },
  {
   "cell_type": "code",
   "execution_count": null,
   "metadata": {},
   "outputs": [],
   "source": []
  },
  {
   "cell_type": "code",
   "execution_count": null,
   "metadata": {},
   "outputs": [],
   "source": []
  },
  {
   "cell_type": "markdown",
   "metadata": {},
   "source": [
    "Originally, I tried to write a script that extracts all PM2.5 data available from environmental protection of Israel. But then I used Yuval's data from matlab (above). "
   ]
  },
  {
   "cell_type": "code",
   "execution_count": null,
   "metadata": {},
   "outputs": [],
   "source": [
    "# Arima models Vs. ML:\n",
    "# https://towardsdatascience.com/facing-the-arima-model-against-neural-networks-745ba5a933ca\n",
    "\n",
    "# time-series analysis in plurasight:\n",
    "\n",
    "# FA and PCA in plurasight:\n",
    "# https://app.pluralsight.com/course-player?clipId=9306a799-e3f5-41bc-bb65-474dafec524d\n",
    "    \n",
    "# FA in python:\n",
    "# https://www.datacamp.com/community/tutorials/introduction-factor-analysis\n",
    "# from factor_analyzer import FactorAnalyzer\n",
    "# https://scikit-learn.org/stable/modules/generated/sklearn.decomposition.FactorAnalysis.html#sklearn.decomposition.FactorAnalysis\n",
    "# blind source seperation? if non-Gaussian priors on the latent variables are assumed.\n",
    "# https://scikit-learn.org/stable/auto_examples/decomposition/plot_ica_blind_source_separation.html#sphx-glr-auto-examples-decomposition-plot-ica-blind-source-separation-py\n",
    "# https://scikit-learn.org/stable/modules/decomposition.html\n",
    "\n",
    "# technically when we say FA we mean varimax-rotated principal component analysis"
   ]
  },
  {
   "cell_type": "code",
   "execution_count": 3,
   "metadata": {},
   "outputs": [],
   "source": [
    "import numpy as np\n",
    "import pandas as pd"
   ]
  },
  {
   "cell_type": "code",
   "execution_count": 20,
   "metadata": {},
   "outputs": [],
   "source": [
    "# X = np.random.rand(10,5)"
   ]
  },
  {
   "cell_type": "code",
   "execution_count": 29,
   "metadata": {},
   "outputs": [],
   "source": [
    "# X"
   ]
  },
  {
   "cell_type": "code",
   "execution_count": 74,
   "metadata": {},
   "outputs": [],
   "source": [
    "G = np.random.rand(10,3)"
   ]
  },
  {
   "cell_type": "code",
   "execution_count": 75,
   "metadata": {},
   "outputs": [],
   "source": [
    "F = np.random.rand(3,5)"
   ]
  },
  {
   "cell_type": "code",
   "execution_count": 76,
   "metadata": {},
   "outputs": [
    {
     "data": {
      "text/plain": [
       "array([[0.39887499, 0.25868312, 0.79348595],\n",
       "       [0.5840844 , 0.87063411, 0.84165557],\n",
       "       [0.16245394, 0.35716553, 0.28596862],\n",
       "       [0.74534349, 0.22252331, 0.75446334],\n",
       "       [0.65277712, 0.96770442, 0.30318783],\n",
       "       [0.11232998, 0.41472656, 0.91533984],\n",
       "       [0.74274971, 0.86629095, 0.44709888],\n",
       "       [0.61750942, 0.64176317, 0.48511266],\n",
       "       [0.7446682 , 0.50462566, 0.17565843],\n",
       "       [0.22539797, 0.72084979, 0.73391664]])"
      ]
     },
     "execution_count": 76,
     "metadata": {},
     "output_type": "execute_result"
    }
   ],
   "source": [
    "G"
   ]
  },
  {
   "cell_type": "code",
   "execution_count": 77,
   "metadata": {},
   "outputs": [
    {
     "data": {
      "text/plain": [
       "array([[0.95959013, 0.22197795, 0.39603034, 0.95842235, 0.04710638],\n",
       "       [0.28557944, 0.2614658 , 0.36862438, 0.17232797, 0.93638644],\n",
       "       [0.18525169, 0.50439401, 0.00849516, 0.39499191, 0.72722094]])"
      ]
     },
     "execution_count": 77,
     "metadata": {},
     "output_type": "execute_result"
    }
   ],
   "source": [
    "F"
   ]
  },
  {
   "cell_type": "code",
   "execution_count": 78,
   "metadata": {},
   "outputs": [
    {
     "data": {
      "text/plain": [
       "array([[0.6036257 , 0.5564078 , 0.26006429, 0.74028957, 0.83805652],\n",
       "       [0.96503495, 0.78182093, 0.5594021 , 1.04228129, 1.45483363],\n",
       "       [0.3108645 , 0.27368862, 0.19842596, 0.33020439, 0.55005994],\n",
       "       [0.91853795, 0.60417885, 0.38361544, 1.05070776, 0.79213978],\n",
       "       [0.95892103, 0.55084986, 0.61781462, 0.91215546, 1.15737979],\n",
       "       [0.39579637, 0.59506353, 0.20514036, 0.54068038, 1.05929008],\n",
       "       [1.042956  , 0.61689351, 0.61728556, 1.03775452, 1.17131101],\n",
       "       [0.86569825, 0.54956051, 0.48524313, 0.89404414, 0.98281104],\n",
       "       [0.89122799, 0.38584333, 0.48242077, 0.87005142, 0.63534574],\n",
       "       [0.55810885, 0.6086941 , 0.36122198, 0.63014016, 1.21933119]])"
      ]
     },
     "execution_count": 78,
     "metadata": {},
     "output_type": "execute_result"
    }
   ],
   "source": [
    "X = np.matmul(G,F)\n",
    "X"
   ]
  },
  {
   "cell_type": "code",
   "execution_count": 79,
   "metadata": {},
   "outputs": [
    {
     "data": {
      "text/plain": [
       "(10, 1)"
      ]
     },
     "execution_count": 79,
     "metadata": {},
     "output_type": "execute_result"
    }
   ],
   "source": [
    "np.reshape(G[:,2],(-1,1)).shape"
   ]
  },
  {
   "cell_type": "code",
   "execution_count": 80,
   "metadata": {},
   "outputs": [
    {
     "data": {
      "text/plain": [
       "(1, 5)"
      ]
     },
     "execution_count": 80,
     "metadata": {},
     "output_type": "execute_result"
    }
   ],
   "source": [
    "np.reshape(F[2,:],(1,-1)).shape"
   ]
  },
  {
   "cell_type": "code",
   "execution_count": 81,
   "metadata": {},
   "outputs": [
    {
     "data": {
      "text/plain": [
       "array([[0.38275651, 0.08854145, 0.1579666 , 0.38229071, 0.01878956],\n",
       "       [0.56048163, 0.12965386, 0.23131514, 0.55979955, 0.0275141 ],\n",
       "       [0.1558892 , 0.03606119, 0.06433669, 0.15569949, 0.00765262],\n",
       "       [0.71522426, 0.16544982, 0.29517863, 0.71435386, 0.03511043],\n",
       "       [0.62639848, 0.14490213, 0.25851954, 0.62563619, 0.03074997],\n",
       "       [0.10779074, 0.02493478, 0.04448608, 0.10765956, 0.00529146],\n",
       "       [0.71273529, 0.16487406, 0.29415142, 0.71186792, 0.03498825],\n",
       "       [0.59255594, 0.13707347, 0.24455246, 0.59183483, 0.02908863],\n",
       "       [0.71457626, 0.16529992, 0.2949112 , 0.71370665, 0.03507862],\n",
       "       [0.21628967, 0.05003338, 0.08926443, 0.21602645, 0.01061768]])"
      ]
     },
     "execution_count": 81,
     "metadata": {},
     "output_type": "execute_result"
    }
   ],
   "source": [
    "# G1*F1 \n",
    "# X matrix related to factor1\n",
    "np.matmul(np.reshape(G[:,0],(-1,1)),np.reshape(F[0,:],(1,-1)))"
   ]
  },
  {
   "cell_type": "code",
   "execution_count": 82,
   "metadata": {},
   "outputs": [
    {
     "data": {
      "text/plain": [
       "array([[0.07387458, 0.06763679, 0.09535691, 0.04457834, 0.24222737],\n",
       "       [0.2486352 , 0.22764104, 0.32093696, 0.1500346 , 0.81524997],\n",
       "       [0.10199913, 0.09338657, 0.13165992, 0.06154961, 0.33444496],\n",
       "       [0.06354808, 0.05818224, 0.08202752, 0.03834699, 0.20836781],\n",
       "       [0.27635649, 0.25302161, 0.35671944, 0.16676253, 0.90614529],\n",
       "       [0.11843738, 0.10843681, 0.15287832, 0.07146898, 0.38834433],\n",
       "       [0.24739488, 0.22650546, 0.31933597, 0.14928616, 0.8111831 ],\n",
       "       [0.18327437, 0.16779912, 0.23656955, 0.11059374, 0.60093833],\n",
       "       [0.14411071, 0.13194235, 0.18601732, 0.08696111, 0.47252462],\n",
       "       [0.20585988, 0.18847757, 0.26572281, 0.12422258, 0.67499396]])"
      ]
     },
     "execution_count": 82,
     "metadata": {},
     "output_type": "execute_result"
    }
   ],
   "source": [
    "# G2*F2\n",
    "# X matrix related to factor2\n",
    "np.matmul(np.reshape(G[:,1],(-1,1)),np.reshape(F[1,:],(1,-1)))"
   ]
  },
  {
   "cell_type": "code",
   "execution_count": 83,
   "metadata": {},
   "outputs": [
    {
     "data": {
      "text/plain": [
       "array([[0.14699461, 0.40022956, 0.00674079, 0.31342053, 0.57703959],\n",
       "       [0.15591812, 0.42452603, 0.00715   , 0.33244714, 0.61206955],\n",
       "       [0.05297617, 0.14424086, 0.00242935, 0.11295529, 0.20796237],\n",
       "       [0.13976561, 0.38054679, 0.00640929, 0.29800691, 0.54866154],\n",
       "       [0.05616606, 0.15292612, 0.00257563, 0.11975674, 0.22048453],\n",
       "       [0.16956825, 0.46169194, 0.00777596, 0.36155183, 0.6656543 ],\n",
       "       [0.08282582, 0.225514  , 0.00379818, 0.17660044, 0.32513966],\n",
       "       [0.08986794, 0.24468792, 0.00412111, 0.19161557, 0.35278408],\n",
       "       [0.03254102, 0.08860106, 0.00149225, 0.06938366, 0.12774249],\n",
       "       [0.1359593 , 0.37018316, 0.00623474, 0.28989113, 0.53371954]])"
      ]
     },
     "execution_count": 83,
     "metadata": {},
     "output_type": "execute_result"
    }
   ],
   "source": [
    "# G3*F3\n",
    "# X matrix related to factor3\n",
    "np.matmul(np.reshape(G[:,2],(-1,1)),np.reshape(F[2,:],(1,-1)))"
   ]
  },
  {
   "cell_type": "code",
   "execution_count": null,
   "metadata": {},
   "outputs": [],
   "source": []
  },
  {
   "cell_type": "code",
   "execution_count": null,
   "metadata": {},
   "outputs": [],
   "source": []
  },
  {
   "cell_type": "code",
   "execution_count": null,
   "metadata": {},
   "outputs": [],
   "source": []
  },
  {
   "cell_type": "code",
   "execution_count": null,
   "metadata": {},
   "outputs": [],
   "source": []
  },
  {
   "cell_type": "code",
   "execution_count": null,
   "metadata": {},
   "outputs": [],
   "source": [
    "# change Q1"
   ]
  },
  {
   "cell_type": "code",
   "execution_count": 232,
   "metadata": {},
   "outputs": [],
   "source": [
    "import operator as op\n",
    "from functools import reduce\n",
    "\n",
    "def nck(n, k):\n",
    "    k = min(k, n-k)\n",
    "    numer = reduce(op.mul, range(n, n-k, -1), 1)\n",
    "    denom = reduce(op.mul, range(1, k+1), 1)\n",
    "    return numer / denom"
   ]
  },
  {
   "cell_type": "code",
   "execution_count": 233,
   "metadata": {},
   "outputs": [],
   "source": [
    "p = 0.8 #probability to ruin a toy\n",
    "q = 1-p\n",
    "n = 8 # number of toys each kid got\n",
    "k = 6 #at least number of toys"
   ]
  },
  {
   "cell_type": "code",
   "execution_count": 234,
   "metadata": {},
   "outputs": [],
   "source": [
    "no_toys_a_kid_ruins_a_day = 0\n",
    "for i in range(k,n+1):\n",
    "    no_toys_a_kid_ruins_a_day = no_toys_a_kid_ruins_a_day + nck(n,i)*(p**i)*(q**(n-i))"
   ]
  },
  {
   "cell_type": "code",
   "execution_count": 235,
   "metadata": {},
   "outputs": [
    {
     "data": {
      "text/plain": [
       "0.79691776"
      ]
     },
     "execution_count": 235,
     "metadata": {},
     "output_type": "execute_result"
    }
   ],
   "source": [
    "no_toys_a_kid_ruins_a_day"
   ]
  },
  {
   "cell_type": "code",
   "execution_count": 236,
   "metadata": {},
   "outputs": [],
   "source": [
    "p1 = no_toys_a_kid_ruins_a_day\n",
    "q1 = 1-p1\n",
    "n1 = 11 # number of kids yudicolus have\n",
    "k1 = 9 # at least number of kids"
   ]
  },
  {
   "cell_type": "code",
   "execution_count": 237,
   "metadata": {},
   "outputs": [],
   "source": [
    "no_kids = 0\n",
    "for i in range(k1,n1+1):\n",
    "    no_kids = no_kids + nck(n1,i)*(p1**i)*(q1**(n1-i))"
   ]
  },
  {
   "cell_type": "code",
   "execution_count": 238,
   "metadata": {},
   "outputs": [
    {
     "data": {
      "text/plain": [
       "0.607163697719032"
      ]
     },
     "execution_count": 238,
     "metadata": {},
     "output_type": "execute_result"
    }
   ],
   "source": [
    "no_kids"
   ]
  },
  {
   "cell_type": "code",
   "execution_count": null,
   "metadata": {},
   "outputs": [],
   "source": [
    "# change Q2"
   ]
  },
  {
   "cell_type": "code",
   "execution_count": 241,
   "metadata": {},
   "outputs": [
    {
     "data": {
      "text/plain": [
       "0.027040137309141496"
      ]
     },
     "execution_count": 241,
     "metadata": {},
     "output_type": "execute_result"
    }
   ],
   "source": [
    "balls=26\n",
    "winning=11\n",
    "\n",
    "p = winning/balls\n",
    "q=1-p\n",
    "#a\n",
    "n = 6\n",
    "(1-p)**(n-1)*p #probability to only extract winning in the nth trial"
   ]
  },
  {
   "cell_type": "code",
   "execution_count": 242,
   "metadata": {},
   "outputs": [
    {
     "data": {
      "text/plain": [
       "2.3636363636363638"
      ]
     },
     "execution_count": 242,
     "metadata": {},
     "output_type": "execute_result"
    }
   ],
   "source": [
    "#b #E\n",
    "1/p"
   ]
  },
  {
   "cell_type": "code",
   "execution_count": 243,
   "metadata": {},
   "outputs": [
    {
     "data": {
      "text/plain": [
       "3.2231404958677685"
      ]
     },
     "execution_count": 243,
     "metadata": {},
     "output_type": "execute_result"
    }
   ],
   "source": [
    "#b2 #Var\n",
    "q/(p**2)"
   ]
  },
  {
   "cell_type": "code",
   "execution_count": 244,
   "metadata": {},
   "outputs": [
    {
     "data": {
      "text/plain": [
       "0.1408170232134729"
      ]
     },
     "execution_count": 244,
     "metadata": {},
     "output_type": "execute_result"
    }
   ],
   "source": [
    "until = 3\n",
    "k = 10 \n",
    "\n",
    "p*q**(until-1)"
   ]
  },
  {
   "cell_type": "code",
   "execution_count": null,
   "metadata": {},
   "outputs": [],
   "source": []
  },
  {
   "cell_type": "code",
   "execution_count": 245,
   "metadata": {},
   "outputs": [],
   "source": [
    "# import datetime\n",
    "# import numpy as np\n",
    "# import pandas as pd\n",
    "\n",
    "# import plotly.graph_objects as go\n",
    "# from ipywidgets import widgets"
   ]
  },
  {
   "cell_type": "code",
   "execution_count": 248,
   "metadata": {},
   "outputs": [],
   "source": [
    "# df = pd.read_csv('https://raw.githubusercontent.com/yankev/testing/master/datasets/nycflights.csv')\n",
    "# df = df.drop(df.columns[[0]], axis=1)"
   ]
  },
  {
   "cell_type": "code",
   "execution_count": 255,
   "metadata": {},
   "outputs": [],
   "source": [
    "# df = pd.DataFrame([[2013,9,19,1846.0,16.0,2250.0,np.NAN,'DL','N909DL',2391,'JFK','TPA',np.NAN],\n",
    "#                    [2012,2,1,1146.0,0,1350.0,-11,'FL','N969AT',353,'LGA','CAK',65]],columns =\n",
    "#                   ['year','month','day','dep_time','dep_delay','arr_time','arr_delay','carrier','tailnum',\n",
    "#                    'flight','origin','dest','air_time'])"
   ]
  },
  {
   "cell_type": "code",
   "execution_count": 256,
   "metadata": {},
   "outputs": [
    {
     "data": {
      "text/html": [
       "<div>\n",
       "<style scoped>\n",
       "    .dataframe tbody tr th:only-of-type {\n",
       "        vertical-align: middle;\n",
       "    }\n",
       "\n",
       "    .dataframe tbody tr th {\n",
       "        vertical-align: top;\n",
       "    }\n",
       "\n",
       "    .dataframe thead th {\n",
       "        text-align: right;\n",
       "    }\n",
       "</style>\n",
       "<table border=\"1\" class=\"dataframe\">\n",
       "  <thead>\n",
       "    <tr style=\"text-align: right;\">\n",
       "      <th></th>\n",
       "      <th>year</th>\n",
       "      <th>month</th>\n",
       "      <th>day</th>\n",
       "      <th>dep_time</th>\n",
       "      <th>dep_delay</th>\n",
       "      <th>arr_time</th>\n",
       "      <th>arr_delay</th>\n",
       "      <th>carrier</th>\n",
       "      <th>tailnum</th>\n",
       "      <th>flight</th>\n",
       "      <th>origin</th>\n",
       "      <th>dest</th>\n",
       "      <th>air_time</th>\n",
       "    </tr>\n",
       "  </thead>\n",
       "  <tbody>\n",
       "    <tr>\n",
       "      <th>0</th>\n",
       "      <td>2013</td>\n",
       "      <td>9</td>\n",
       "      <td>19</td>\n",
       "      <td>1846.0</td>\n",
       "      <td>16.0</td>\n",
       "      <td>2250.0</td>\n",
       "      <td>NaN</td>\n",
       "      <td>DL</td>\n",
       "      <td>N909DL</td>\n",
       "      <td>2391</td>\n",
       "      <td>JFK</td>\n",
       "      <td>TPA</td>\n",
       "      <td>NaN</td>\n",
       "    </tr>\n",
       "    <tr>\n",
       "      <th>1</th>\n",
       "      <td>2012</td>\n",
       "      <td>2</td>\n",
       "      <td>1</td>\n",
       "      <td>1146.0</td>\n",
       "      <td>0.0</td>\n",
       "      <td>1350.0</td>\n",
       "      <td>-11.0</td>\n",
       "      <td>FL</td>\n",
       "      <td>N969AT</td>\n",
       "      <td>353</td>\n",
       "      <td>LGA</td>\n",
       "      <td>CAK</td>\n",
       "      <td>65.0</td>\n",
       "    </tr>\n",
       "  </tbody>\n",
       "</table>\n",
       "</div>"
      ],
      "text/plain": [
       "   year  month  day  dep_time  dep_delay  arr_time  arr_delay carrier tailnum  \\\n",
       "0  2013      9   19    1846.0       16.0    2250.0        NaN      DL  N909DL   \n",
       "1  2012      2    1    1146.0        0.0    1350.0      -11.0      FL  N969AT   \n",
       "\n",
       "   flight origin dest  air_time  \n",
       "0    2391    JFK  TPA       NaN  \n",
       "1     353    LGA  CAK      65.0  "
      ]
     },
     "execution_count": 256,
     "metadata": {},
     "output_type": "execute_result"
    }
   ],
   "source": [
    "# df"
   ]
  },
  {
   "cell_type": "code",
   "execution_count": null,
   "metadata": {},
   "outputs": [],
   "source": []
  },
  {
   "cell_type": "markdown",
   "metadata": {},
   "source": [
    "# Import"
   ]
  },
  {
   "cell_type": "code",
   "execution_count": 1,
   "metadata": {},
   "outputs": [],
   "source": [
    "import requests\n",
    "import pandas as pd\n",
    "import numpy as np\n",
    "import json\n",
    "from pandas.io.json import json_normalize\n",
    "from datetime import datetime, timedelta\n",
    "from dateutil.relativedelta import relativedelta\n",
    "from matplotlib import pyplot as plt\n",
    "import matplotlib.cm as cm\n",
    "import itertools\n",
    "import metpy as mp\n",
    "import metpy.calc as mpcalc\n",
    "import plotly as py\n",
    "import plotly.graph_objs as go\n",
    "import plotly.figure_factory as ff\n",
    "from scipy import special\n",
    "import ipywidgets as widgets\n",
    "from metpy.units import units\n",
    "\n",
    "\n",
    "from IPython.core.interactiveshell import InteractiveShell\n",
    "InteractiveShell.ast_node_interactivity = \"all\"\n",
    "%config InlineBackend.figure_format = 'retina'"
   ]
  },
  {
   "cell_type": "markdown",
   "metadata": {},
   "source": [
    "# Functions "
   ]
  },
  {
   "cell_type": "code",
   "execution_count": 93,
   "metadata": {},
   "outputs": [],
   "source": [
    "# extraction is in UTC time. it gives you results for UTC time. \n",
    "# the true corresponding time in Israel it was 2 or 3 hours later\n",
    "def get_station_props():\n",
    "    station_names = []\n",
    "    station_ids = []\n",
    "    station_latitude = []\n",
    "    station_longitude = []\n",
    "    myUrl = 'https://api.svivaaqm.net/v1/envista/stations/?from=2019-11-01T00:00&to=2019/11/01T00:30'\n",
    "    head = {'Authorization': 'ApiToken {}'.format(myToken), 'envi-data-source': 'MANA'}\n",
    "    response = requests.get(myUrl, headers=head)\n",
    "    j_response = response.json()\n",
    "    for row in j_response:\n",
    "        station_ids.append(row['stationId'])\n",
    "        station_names.append(row['name'])\n",
    "        station_latitude.append(row['location']['latitude'])\n",
    "        station_longitude.append(row['location']['longitude'])\n",
    "    return station_ids,station_names,station_latitude,station_longitude\n",
    "\n",
    "def get_data_by_stationId(from_date, to_date, stationId):\n",
    "    myUrl = 'https://api.svivaaqm.net/v1/envista/stations/'+stationId+'/data?from='+from_date+'&to='+to_date\n",
    "    head = {'Authorization': 'ApiToken {}'.format(myToken), 'envi-data-source': 'MANA'}\n",
    "    response = requests.get(myUrl, headers=head)\n",
    "    return response\n",
    "\n",
    "# use this to get column names and units of the station\n",
    "def get_column_names(stationId):\n",
    "    myUrl = 'https://api.svivaaqm.net/v1/envista/stations/'+stationId+'?from=2019-12-01T00:00&to=2019/12/01T00:06'\n",
    "    head = {'Authorization': 'ApiToken {}'.format(myToken), 'envi-data-source': 'MANA'}\n",
    "    response = requests.get(myUrl, headers=head)\n",
    "    # units\n",
    "    extract = response.json()['monitors']\n",
    "    units = dict()\n",
    "    for e in extract:\n",
    "        units.update({e['name']:e['units']})\n",
    "    column_names = [i + ' [' + j +']' for i, j in units.items()]\n",
    "    return list(units.keys()), column_names\n",
    "\n",
    "\n",
    "def get_dataFrame(dict_train,stationId):\n",
    "    dates = []\n",
    "    for row in dict_train:\n",
    "        dates.append(row['datetime'])\n",
    "\n",
    "    pollutants = []\n",
    "    for row in dict_train:\n",
    "        pollutant = dict()\n",
    "        for p in row['channels']:\n",
    "            pollutant.update({p['name']:p['value']})\n",
    "        pollutants.append(pollutant)\n",
    "\n",
    "    cols, station_columns = get_column_names(str(stationId))\n",
    "\n",
    "    total_list = []\n",
    "    for c in cols: #number of columns(j)\n",
    "        vals = []\n",
    "        for p in pollutants: #number of rows or values(i)\n",
    "            if p[c] is not None:\n",
    "                vals.append(p[c])\n",
    "            else:\n",
    "                vals.append(np.NaN)\n",
    "        total_list.append(vals)\n",
    "\n",
    "    data_df = pd.DataFrame(np.transpose(total_list), index = pd.to_datetime(dates,utc=True).tz_convert('Israel'), columns = station_columns)\n",
    "    \n",
    "    return data_df"
   ]
  },
  {
   "cell_type": "code",
   "execution_count": 94,
   "metadata": {},
   "outputs": [],
   "source": [
    "myToken = '71e67c41-8478-4310-9293-196f559493ca'"
   ]
  },
  {
   "cell_type": "code",
   "execution_count": 95,
   "metadata": {},
   "outputs": [],
   "source": [
    "# get a list of station names, ids, latitude and longitude\n",
    "station_ids,station_names,station_latitude, station_longitude = get_station_props()"
   ]
  },
  {
   "cell_type": "code",
   "execution_count": null,
   "metadata": {},
   "outputs": [],
   "source": [
    "# constract a dataframe of station properties"
   ]
  },
  {
   "cell_type": "code",
   "execution_count": 101,
   "metadata": {},
   "outputs": [],
   "source": [
    "prop_df = pd.DataFrame(np.transpose([station_ids,station_names,station_latitude,station_longitude]), columns = ['station_ids','station_names','station_latitude','station_longitude'])"
   ]
  },
  {
   "cell_type": "code",
   "execution_count": 102,
   "metadata": {},
   "outputs": [
    {
     "data": {
      "text/html": [
       "<div>\n",
       "<style scoped>\n",
       "    .dataframe tbody tr th:only-of-type {\n",
       "        vertical-align: middle;\n",
       "    }\n",
       "\n",
       "    .dataframe tbody tr th {\n",
       "        vertical-align: top;\n",
       "    }\n",
       "\n",
       "    .dataframe thead th {\n",
       "        text-align: right;\n",
       "    }\n",
       "</style>\n",
       "<table border=\"1\" class=\"dataframe\">\n",
       "  <thead>\n",
       "    <tr style=\"text-align: right;\">\n",
       "      <th></th>\n",
       "      <th>station_ids</th>\n",
       "      <th>station_names</th>\n",
       "      <th>station_latitude</th>\n",
       "      <th>station_longitude</th>\n",
       "    </tr>\n",
       "  </thead>\n",
       "  <tbody>\n",
       "    <tr>\n",
       "      <th>0</th>\n",
       "      <td>1</td>\n",
       "      <td>עפולה</td>\n",
       "      <td>32.6033</td>\n",
       "      <td>35.291</td>\n",
       "    </tr>\n",
       "    <tr>\n",
       "      <th>1</th>\n",
       "      <td>2</td>\n",
       "      <td>עמיאל</td>\n",
       "      <td>32.047</td>\n",
       "      <td>34.7926</td>\n",
       "    </tr>\n",
       "    <tr>\n",
       "      <th>2</th>\n",
       "      <td>3</td>\n",
       "      <td>אריאל</td>\n",
       "      <td>32.1035</td>\n",
       "      <td>35.1678</td>\n",
       "    </tr>\n",
       "    <tr>\n",
       "      <th>3</th>\n",
       "      <td>5</td>\n",
       "      <td>בר אילן -י''ם</td>\n",
       "      <td>31.7945</td>\n",
       "      <td>35.22</td>\n",
       "    </tr>\n",
       "    <tr>\n",
       "      <th>4</th>\n",
       "      <td>6</td>\n",
       "      <td>באר שבע</td>\n",
       "      <td>31.2567</td>\n",
       "      <td>34.7813</td>\n",
       "    </tr>\n",
       "    <tr>\n",
       "      <th>...</th>\n",
       "      <td>...</td>\n",
       "      <td>...</td>\n",
       "      <td>...</td>\n",
       "      <td>...</td>\n",
       "    </tr>\n",
       "    <tr>\n",
       "      <th>153</th>\n",
       "      <td>465</td>\n",
       "      <td>אלעד</td>\n",
       "      <td>32.0593</td>\n",
       "      <td>34.9517</td>\n",
       "    </tr>\n",
       "    <tr>\n",
       "      <th>154</th>\n",
       "      <td>467</td>\n",
       "      <td>לב אשדוד</td>\n",
       "      <td>31.7969</td>\n",
       "      <td>34.6483</td>\n",
       "    </tr>\n",
       "    <tr>\n",
       "      <th>155</th>\n",
       "      <td>468</td>\n",
       "      <td>אביגדור</td>\n",
       "      <td>31.711</td>\n",
       "      <td>34.745</td>\n",
       "    </tr>\n",
       "    <tr>\n",
       "      <th>156</th>\n",
       "      <td>469</td>\n",
       "      <td>תימורים</td>\n",
       "      <td>31.7159</td>\n",
       "      <td>34.7552</td>\n",
       "    </tr>\n",
       "    <tr>\n",
       "      <th>157</th>\n",
       "      <td>472</td>\n",
       "      <td>נחשולים</td>\n",
       "      <td>32.6139</td>\n",
       "      <td>34.9182</td>\n",
       "    </tr>\n",
       "  </tbody>\n",
       "</table>\n",
       "<p>158 rows × 4 columns</p>\n",
       "</div>"
      ],
      "text/plain": [
       "    station_ids  station_names station_latitude station_longitude\n",
       "0             1          עפולה          32.6033            35.291\n",
       "1             2          עמיאל           32.047           34.7926\n",
       "2             3          אריאל          32.1035           35.1678\n",
       "3             5  בר אילן -י''ם          31.7945             35.22\n",
       "4             6        באר שבע          31.2567           34.7813\n",
       "..          ...            ...              ...               ...\n",
       "153         465           אלעד          32.0593           34.9517\n",
       "154         467       לב אשדוד          31.7969           34.6483\n",
       "155         468        אביגדור           31.711            34.745\n",
       "156         469        תימורים          31.7159           34.7552\n",
       "157         472        נחשולים          32.6139           34.9182\n",
       "\n",
       "[158 rows x 4 columns]"
      ]
     },
     "execution_count": 102,
     "metadata": {},
     "output_type": "execute_result"
    }
   ],
   "source": [
    "df.set_index('month')"
   ]
  },
  {
   "cell_type": "code",
   "execution_count": null,
   "metadata": {},
   "outputs": [],
   "source": []
  },
  {
   "cell_type": "code",
   "execution_count": 92,
   "metadata": {},
   "outputs": [],
   "source": [
    "# extract all stations info for the last X time by days"
   ]
  },
  {
   "cell_type": "code",
   "execution_count": 53,
   "metadata": {},
   "outputs": [],
   "source": [
    "# getting data of last x months or days (in LOCAL TIME (now) or UTC time (utcnow)) for a specific station\n",
    "num_days = 30\n",
    "to_time = pd.Timestamp.utcnow().to_pydatetime().strftime('%Y-%m-%dT%H:%M')\n",
    "from_time = (pd.Timestamp.utcnow().to_pydatetime() - relativedelta(days=num_days)).strftime('%Y-%m-%dT%H:%M')"
   ]
  },
  {
   "cell_type": "code",
   "execution_count": 55,
   "metadata": {},
   "outputs": [],
   "source": [
    "for SI in str(station_ids[0]):\n",
    "    stationData = get_data_by_stationId(from_time, to_time,SI)"
   ]
  },
  {
   "cell_type": "code",
   "execution_count": 56,
   "metadata": {},
   "outputs": [
    {
     "data": {
      "text/plain": [
       "<Response [200]>"
      ]
     },
     "execution_count": 56,
     "metadata": {},
     "output_type": "execute_result"
    }
   ],
   "source": [
    "stationData"
   ]
  },
  {
   "cell_type": "code",
   "execution_count": 57,
   "metadata": {},
   "outputs": [],
   "source": [
    "dict_train = stationData.json()['data']\n",
    "df1 = get_dataFrame(dict_train,SI)"
   ]
  },
  {
   "cell_type": "code",
   "execution_count": 59,
   "metadata": {},
   "outputs": [
    {
     "data": {
      "text/html": [
       "<div>\n",
       "<style scoped>\n",
       "    .dataframe tbody tr th:only-of-type {\n",
       "        vertical-align: middle;\n",
       "    }\n",
       "\n",
       "    .dataframe tbody tr th {\n",
       "        vertical-align: top;\n",
       "    }\n",
       "\n",
       "    .dataframe thead th {\n",
       "        text-align: right;\n",
       "    }\n",
       "</style>\n",
       "<table border=\"1\" class=\"dataframe\">\n",
       "  <thead>\n",
       "    <tr style=\"text-align: right;\">\n",
       "      <th></th>\n",
       "      <th>SO2 [ppb]</th>\n",
       "      <th>No [ppb]</th>\n",
       "      <th>Nox [ppb]</th>\n",
       "      <th>No2 [ppb]</th>\n",
       "      <th>O3 [ppb]</th>\n",
       "      <th>PM10 [µg/m3]</th>\n",
       "      <th>WS [m/sec]</th>\n",
       "      <th>WD [deg]</th>\n",
       "      <th>Temp [°c]</th>\n",
       "      <th>RH [%]</th>\n",
       "      <th>GSR [w/m2]</th>\n",
       "      <th>StWd [deg]</th>\n",
       "      <th>PM2.5 [µg/m3]</th>\n",
       "    </tr>\n",
       "  </thead>\n",
       "  <tbody>\n",
       "    <tr>\n",
       "      <th>2020-04-21 10:55:00+03:00</th>\n",
       "      <td>1.6</td>\n",
       "      <td>2.4</td>\n",
       "      <td>13.8</td>\n",
       "      <td>11.4</td>\n",
       "      <td>48.5</td>\n",
       "      <td>44.0</td>\n",
       "      <td>2.4</td>\n",
       "      <td>157.0</td>\n",
       "      <td>26.0</td>\n",
       "      <td>52.0</td>\n",
       "      <td>974.5</td>\n",
       "      <td>18.6</td>\n",
       "      <td>-9999.0</td>\n",
       "    </tr>\n",
       "    <tr>\n",
       "      <th>2020-04-21 11:00:00+03:00</th>\n",
       "      <td>1.4</td>\n",
       "      <td>1.9</td>\n",
       "      <td>11.5</td>\n",
       "      <td>9.6</td>\n",
       "      <td>48.3</td>\n",
       "      <td>44.0</td>\n",
       "      <td>2.3</td>\n",
       "      <td>120.0</td>\n",
       "      <td>26.0</td>\n",
       "      <td>52.0</td>\n",
       "      <td>964.5</td>\n",
       "      <td>16.9</td>\n",
       "      <td>-9999.0</td>\n",
       "    </tr>\n",
       "    <tr>\n",
       "      <th>2020-04-21 11:05:00+03:00</th>\n",
       "      <td>1.3</td>\n",
       "      <td>2.4</td>\n",
       "      <td>13.3</td>\n",
       "      <td>10.9</td>\n",
       "      <td>46.9</td>\n",
       "      <td>44.0</td>\n",
       "      <td>1.9</td>\n",
       "      <td>134.0</td>\n",
       "      <td>26.3</td>\n",
       "      <td>53.0</td>\n",
       "      <td>961.8</td>\n",
       "      <td>22.4</td>\n",
       "      <td>-9999.0</td>\n",
       "    </tr>\n",
       "    <tr>\n",
       "      <th>2020-04-21 11:10:00+03:00</th>\n",
       "      <td>1.4</td>\n",
       "      <td>2.2</td>\n",
       "      <td>11.5</td>\n",
       "      <td>9.4</td>\n",
       "      <td>48.9</td>\n",
       "      <td>44.0</td>\n",
       "      <td>2.7</td>\n",
       "      <td>134.0</td>\n",
       "      <td>26.2</td>\n",
       "      <td>52.0</td>\n",
       "      <td>921.3</td>\n",
       "      <td>13.6</td>\n",
       "      <td>-9999.0</td>\n",
       "    </tr>\n",
       "    <tr>\n",
       "      <th>2020-04-21 11:15:00+03:00</th>\n",
       "      <td>1.4</td>\n",
       "      <td>1.6</td>\n",
       "      <td>10.8</td>\n",
       "      <td>8.9</td>\n",
       "      <td>47.3</td>\n",
       "      <td>44.0</td>\n",
       "      <td>2.5</td>\n",
       "      <td>139.0</td>\n",
       "      <td>26.0</td>\n",
       "      <td>54.0</td>\n",
       "      <td>897.3</td>\n",
       "      <td>12.9</td>\n",
       "      <td>-9999.0</td>\n",
       "    </tr>\n",
       "  </tbody>\n",
       "</table>\n",
       "</div>"
      ],
      "text/plain": [
       "                           SO2 [ppb]  No [ppb]  Nox [ppb]  No2 [ppb]  \\\n",
       "2020-04-21 10:55:00+03:00        1.6       2.4       13.8       11.4   \n",
       "2020-04-21 11:00:00+03:00        1.4       1.9       11.5        9.6   \n",
       "2020-04-21 11:05:00+03:00        1.3       2.4       13.3       10.9   \n",
       "2020-04-21 11:10:00+03:00        1.4       2.2       11.5        9.4   \n",
       "2020-04-21 11:15:00+03:00        1.4       1.6       10.8        8.9   \n",
       "\n",
       "                           O3 [ppb]  PM10 [µg/m3]  WS [m/sec]  WD [deg]  \\\n",
       "2020-04-21 10:55:00+03:00      48.5          44.0         2.4     157.0   \n",
       "2020-04-21 11:00:00+03:00      48.3          44.0         2.3     120.0   \n",
       "2020-04-21 11:05:00+03:00      46.9          44.0         1.9     134.0   \n",
       "2020-04-21 11:10:00+03:00      48.9          44.0         2.7     134.0   \n",
       "2020-04-21 11:15:00+03:00      47.3          44.0         2.5     139.0   \n",
       "\n",
       "                           Temp [°c]  RH [%]  GSR [w/m2]  StWd [deg]  \\\n",
       "2020-04-21 10:55:00+03:00       26.0    52.0       974.5        18.6   \n",
       "2020-04-21 11:00:00+03:00       26.0    52.0       964.5        16.9   \n",
       "2020-04-21 11:05:00+03:00       26.3    53.0       961.8        22.4   \n",
       "2020-04-21 11:10:00+03:00       26.2    52.0       921.3        13.6   \n",
       "2020-04-21 11:15:00+03:00       26.0    54.0       897.3        12.9   \n",
       "\n",
       "                           PM2.5 [µg/m3]  \n",
       "2020-04-21 10:55:00+03:00        -9999.0  \n",
       "2020-04-21 11:00:00+03:00        -9999.0  \n",
       "2020-04-21 11:05:00+03:00        -9999.0  \n",
       "2020-04-21 11:10:00+03:00        -9999.0  \n",
       "2020-04-21 11:15:00+03:00        -9999.0  "
      ]
     },
     "execution_count": 59,
     "metadata": {},
     "output_type": "execute_result"
    }
   ],
   "source": [
    "df1.tail()"
   ]
  },
  {
   "cell_type": "code",
   "execution_count": null,
   "metadata": {},
   "outputs": [],
   "source": []
  }
 ],
 "metadata": {
  "kernelspec": {
   "display_name": "Python 3",
   "language": "python",
   "name": "python3"
  },
  "language_info": {
   "codemirror_mode": {
    "name": "ipython",
    "version": 3
   },
   "file_extension": ".py",
   "mimetype": "text/x-python",
   "name": "python",
   "nbconvert_exporter": "python",
   "pygments_lexer": "ipython3",
   "version": "3.6.4"
  }
 },
 "nbformat": 4,
 "nbformat_minor": 2
}
